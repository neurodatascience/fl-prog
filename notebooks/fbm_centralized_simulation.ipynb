{
 "cells": [
  {
   "cell_type": "code",
   "execution_count": 2,
   "id": "04665d69",
   "metadata": {},
   "outputs": [
    {
     "data": {
      "text/html": [
       "<div>\n",
       "<style scoped>\n",
       "    .dataframe tbody tr th:only-of-type {\n",
       "        vertical-align: middle;\n",
       "    }\n",
       "\n",
       "    .dataframe tbody tr th {\n",
       "        vertical-align: top;\n",
       "    }\n",
       "\n",
       "    .dataframe thead th {\n",
       "        text-align: right;\n",
       "    }\n",
       "</style>\n",
       "<table border=\"1\" class=\"dataframe\">\n",
       "  <thead>\n",
       "    <tr style=\"text-align: right;\">\n",
       "      <th></th>\n",
       "      <th>subject</th>\n",
       "      <th>timepoint</th>\n",
       "      <th>biomarker_0</th>\n",
       "      <th>biomarker_1</th>\n",
       "      <th>biomarker_2</th>\n",
       "      <th>biomarker_3</th>\n",
       "      <th>biomarker_4</th>\n",
       "    </tr>\n",
       "  </thead>\n",
       "  <tbody>\n",
       "    <tr>\n",
       "      <th>0</th>\n",
       "      <td>1</td>\n",
       "      <td>0.000000</td>\n",
       "      <td>-0.033489</td>\n",
       "      <td>-0.052632</td>\n",
       "      <td>-0.045887</td>\n",
       "      <td>0.842935</td>\n",
       "      <td>0.738897</td>\n",
       "    </tr>\n",
       "    <tr>\n",
       "      <th>1</th>\n",
       "      <td>2</td>\n",
       "      <td>0.000000</td>\n",
       "      <td>0.096386</td>\n",
       "      <td>0.107866</td>\n",
       "      <td>0.043484</td>\n",
       "      <td>0.519497</td>\n",
       "      <td>0.711044</td>\n",
       "    </tr>\n",
       "    <tr>\n",
       "      <th>2</th>\n",
       "      <td>2</td>\n",
       "      <td>0.453224</td>\n",
       "      <td>0.153048</td>\n",
       "      <td>0.063080</td>\n",
       "      <td>0.205047</td>\n",
       "      <td>0.964920</td>\n",
       "      <td>1.079642</td>\n",
       "    </tr>\n",
       "    <tr>\n",
       "      <th>3</th>\n",
       "      <td>2</td>\n",
       "      <td>0.704842</td>\n",
       "      <td>0.773720</td>\n",
       "      <td>0.463185</td>\n",
       "      <td>0.535985</td>\n",
       "      <td>1.004168</td>\n",
       "      <td>1.086914</td>\n",
       "    </tr>\n",
       "    <tr>\n",
       "      <th>4</th>\n",
       "      <td>3</td>\n",
       "      <td>0.000000</td>\n",
       "      <td>-0.142374</td>\n",
       "      <td>0.065759</td>\n",
       "      <td>0.091800</td>\n",
       "      <td>0.542679</td>\n",
       "      <td>0.839803</td>\n",
       "    </tr>\n",
       "    <tr>\n",
       "      <th>...</th>\n",
       "      <td>...</td>\n",
       "      <td>...</td>\n",
       "      <td>...</td>\n",
       "      <td>...</td>\n",
       "      <td>...</td>\n",
       "      <td>...</td>\n",
       "      <td>...</td>\n",
       "    </tr>\n",
       "    <tr>\n",
       "      <th>96</th>\n",
       "      <td>44</td>\n",
       "      <td>0.000000</td>\n",
       "      <td>0.826585</td>\n",
       "      <td>0.652666</td>\n",
       "      <td>0.420267</td>\n",
       "      <td>0.904985</td>\n",
       "      <td>0.997973</td>\n",
       "    </tr>\n",
       "    <tr>\n",
       "      <th>97</th>\n",
       "      <td>44</td>\n",
       "      <td>0.043503</td>\n",
       "      <td>0.926362</td>\n",
       "      <td>0.629665</td>\n",
       "      <td>0.476902</td>\n",
       "      <td>1.079558</td>\n",
       "      <td>0.922526</td>\n",
       "    </tr>\n",
       "    <tr>\n",
       "      <th>98</th>\n",
       "      <td>44</td>\n",
       "      <td>0.096375</td>\n",
       "      <td>0.818533</td>\n",
       "      <td>0.802547</td>\n",
       "      <td>0.403630</td>\n",
       "      <td>0.922276</td>\n",
       "      <td>1.081844</td>\n",
       "    </tr>\n",
       "    <tr>\n",
       "      <th>99</th>\n",
       "      <td>47</td>\n",
       "      <td>0.000000</td>\n",
       "      <td>0.209007</td>\n",
       "      <td>0.263799</td>\n",
       "      <td>0.451081</td>\n",
       "      <td>0.947249</td>\n",
       "      <td>1.174377</td>\n",
       "    </tr>\n",
       "    <tr>\n",
       "      <th>100</th>\n",
       "      <td>47</td>\n",
       "      <td>0.041061</td>\n",
       "      <td>0.541035</td>\n",
       "      <td>0.024848</td>\n",
       "      <td>0.285013</td>\n",
       "      <td>1.069036</td>\n",
       "      <td>0.983759</td>\n",
       "    </tr>\n",
       "  </tbody>\n",
       "</table>\n",
       "<p>101 rows × 7 columns</p>\n",
       "</div>"
      ],
      "text/plain": [
       "     subject  timepoint  biomarker_0  biomarker_1  biomarker_2  biomarker_3  \\\n",
       "0          1   0.000000    -0.033489    -0.052632    -0.045887     0.842935   \n",
       "1          2   0.000000     0.096386     0.107866     0.043484     0.519497   \n",
       "2          2   0.453224     0.153048     0.063080     0.205047     0.964920   \n",
       "3          2   0.704842     0.773720     0.463185     0.535985     1.004168   \n",
       "4          3   0.000000    -0.142374     0.065759     0.091800     0.542679   \n",
       "..       ...        ...          ...          ...          ...          ...   \n",
       "96        44   0.000000     0.826585     0.652666     0.420267     0.904985   \n",
       "97        44   0.043503     0.926362     0.629665     0.476902     1.079558   \n",
       "98        44   0.096375     0.818533     0.802547     0.403630     0.922276   \n",
       "99        47   0.000000     0.209007     0.263799     0.451081     0.947249   \n",
       "100       47   0.041061     0.541035     0.024848     0.285013     1.069036   \n",
       "\n",
       "     biomarker_4  \n",
       "0       0.738897  \n",
       "1       0.711044  \n",
       "2       1.079642  \n",
       "3       1.086914  \n",
       "4       0.839803  \n",
       "..           ...  \n",
       "96      0.997973  \n",
       "97      0.922526  \n",
       "98      1.081844  \n",
       "99      1.174377  \n",
       "100     0.983759  \n",
       "\n",
       "[101 rows x 7 columns]"
      ]
     },
     "metadata": {},
     "output_type": "display_data"
    },
    {
     "data": {
      "image/png": "[encoded data removed]",
      "text/plain": [
       "<Figure size 640x480 with 2 Axes>"
      ]
     },
     "metadata": {},
     "output_type": "display_data"
    }
   ],
   "source": [
    "import json\n",
    "import os\n",
    "import warnings\n",
    "from pathlib import Path\n",
    "\n",
    "import matplotlib.pyplot as plt\n",
    "import numpy as np\n",
    "import pandas as pd\n",
    "import torch\n",
    "\n",
    "from fl_prog.utils.constants import DNAME_LATEST\n",
    "\n",
    "np.set_printoptions(precision=3, suppress=True)\n",
    "\n",
    "N_ROUNDS = 10\n",
    "N_UPDATES = 70\n",
    "BATCH_SIZE = 100000\n",
    "LEARNING_RATE = 0.01\n",
    "\n",
    "data_dir = Path(os.environ[\"DPATH_DATA\"]) / DNAME_LATEST\n",
    "\n",
    "json_data = json.loads((data_dir / \"simulated_data.json\").read_text())\n",
    "\n",
    "n_biomarkers = json_data[\"settings\"][\"n_biomarkers\"]\n",
    "params = json_data[\"params\"]\n",
    "k_values = np.array(params[\"k_values\"])\n",
    "x0_values = np.array(params[\"x0_values\"])\n",
    "time_shifts = np.array(params[\"time_shifts\"])\n",
    "\n",
    "df = pd.read_csv(data_dir / \"simulated_data-merged.tsv\", sep=\"\\t\")\n",
    "display(df)\n",
    "\n",
    "fig, axes = plt.subplots(ncols=2)\n",
    "for i_ax, ax in enumerate(axes):\n",
    "    ax: plt.Axes\n",
    "\n",
    "    for i_subject, (subject, df_subject) in enumerate(df.groupby(\"subject\")):\n",
    "        for i_biomarker, biomarker in enumerate(\n",
    "            [f\"biomarker_{i}\" for i in range(n_biomarkers)]\n",
    "        ):\n",
    "            ax.plot(\n",
    "                (\n",
    "                    df_subject[\"timepoint\"] + time_shifts[i_subject]\n",
    "                    if i_ax == 1\n",
    "                    else df_subject[\"timepoint\"]\n",
    "                ),\n",
    "                df_subject[biomarker],\n",
    "                marker=\"oXxp*\"[i_subject % 5],\n",
    "                color=f\"C{i_biomarker}\",\n",
    "                alpha=0.1,\n",
    "            )\n",
    "\n",
    "    for i_biomarker, (k, x0) in enumerate(zip(k_values, x0_values)):\n",
    "        t = np.linspace(0, 1, 100)\n",
    "        y = 1 / (1 + np.exp(-k * (t - x0)))\n",
    "        ax.plot(t, y, color=f\"C{i_biomarker}\", linestyle=\"--\", alpha=1)\n",
    "\n",
    "\n",
    "def check_model_fit(\n",
    "    estimated_k_values, estimated_x0_values, estimated_time_shifts, align_x=False\n",
    "):\n",
    "    _, ax = plt.subplots()\n",
    "    ax: plt.Axes\n",
    "\n",
    "    x_value_differences = x0_values - estimated_x0_values\n",
    "\n",
    "    for i_biomarker, (k, x0) in enumerate(zip(k_values, x0_values)):\n",
    "        t = np.linspace(-1, 2, 100)\n",
    "        y = 1 / (1 + np.exp(-k * (t - x0)))\n",
    "        ax.plot(t, y, color=f\"C{i_biomarker}\", linestyle=\"--\", alpha=0.8)\n",
    "\n",
    "        y_pred = torch.sigmoid(\n",
    "            torch.tensor(\n",
    "                estimated_k_values[i_biomarker] * (t - estimated_x0_values[i_biomarker])\n",
    "            )\n",
    "        ).numpy()\n",
    "        ax.plot(\n",
    "            t + x_value_differences[i_biomarker] if align_x else t,\n",
    "            y_pred,\n",
    "            color=f\"C{i_biomarker}\",\n",
    "            linestyle=\"-\",\n",
    "            alpha=0.8,\n",
    "        )\n",
    "\n",
    "    print(\"===== k values =====\")\n",
    "    print(k_values)\n",
    "    print(estimated_k_values)\n",
    "    print(\"===== x0 values =====\")\n",
    "    print(x0_values)\n",
    "    print(estimated_x0_values)\n",
    "    print(\"===== x value differences =====\")\n",
    "    print(x0_values - estimated_x0_values)\n",
    "    print(\"===== time shifts =====\")\n",
    "    print(time_shifts)\n",
    "    print(estimated_time_shifts)\n",
    "    if len(estimated_time_shifts) > 0:\n",
    "        print(\"===== time shift offset difference =====\")\n",
    "        if len(time_shifts) < len(estimated_time_shifts):\n",
    "            warnings.warn(\n",
    "                \"Number of estimated time shifts is larger than the number of true time \"\n",
    "                \"shifts. Clipping estimated time shifts.\"\n",
    "            )\n",
    "            estimated_time_shifts = estimated_time_shifts[: len(time_shifts)]\n",
    "\n",
    "        print((time_shifts - estimated_time_shifts).std())"
   ]
  },
  {
   "cell_type": "code",
   "execution_count": 3,
   "id": "419ddbad",
   "metadata": {},
   "outputs": [
    {
     "name": "stderr",
     "output_type": "stream",
     "text": [
      "/home/bic/mwang/projects/fl-prog/.venv/lib/python3.10/site-packages/monai/utils/module.py:367: UserWarning: pkg_resources is deprecated as an API. See https://setuptools.pypa.io/en/latest/pkg_resources.html. The pkg_resources package is slated for removal as early as 2025-11-30. Refrain from using this package or pin to Setuptools<81.\n",
      "  pkg = __import__(module)  # top level module\n"
     ]
    },
    {
     "data": {
      "text/plain": [
       "2025-10-13 07:46:14,906 fedbiomed INFO - Starting researcher service..."
      ]
     },
     "metadata": {},
     "output_type": "display_data"
    },
    {
     "data": {
      "text/plain": [
       "2025-10-13 07:46:14,910 fedbiomed INFO - Waiting 3s for nodes to connect..."
      ]
     },
     "metadata": {},
     "output_type": "display_data"
    },
    {
     "data": {
      "text/plain": [
       "2025-10-13 07:46:16,835 fedbiomed DEBUG - Node: NODE_CENTRALIZED polling for the tasks"
      ]
     },
     "metadata": {},
     "output_type": "display_data"
    },
    {
     "data": {
      "text/plain": [
       "2025-10-13 07:46:17,920 fedbiomed INFO - Updating training data. This action will update FederatedDataset, and the nodes that will participate to the experiment."
      ]
     },
     "metadata": {},
     "output_type": "display_data"
    },
    {
     "data": {
      "text/plain": [
       "2025-10-13 07:46:17,971 fedbiomed DEBUG - Node: NODE_CENTRALIZED polling for the tasks"
      ]
     },
     "metadata": {},
     "output_type": "display_data"
    },
    {
     "data": {
      "text/plain": [
       "2025-10-13 07:46:18,035 fedbiomed INFO - Node selected for training -> NODE_CENTRALIZED"
      ]
     },
     "metadata": {},
     "output_type": "display_data"
    },
    {
     "name": "stdout",
     "output_type": "stream",
     "text": [
      "<function extract_symbols at 0x7f920de88d30>\n"
     ]
    },
    {
     "data": {
      "text/plain": [
       "2025-10-13 07:46:18,117 fedbiomed DEBUG - Model file has been saved: /data/origami/michelle/projects/fl-prog/fedbiomed/fbm-researcher/var/experiments/Experiment_0117/model_ea4b7ed4-5d8d-4c61-834f-4932f271787c.py"
      ]
     },
     "metadata": {},
     "output_type": "display_data"
    },
    {
     "name": "stderr",
     "output_type": "stream",
     "text": [
      "Secure RNG turned off. This is perfectly fine for experimentation as it allows for much faster training performance, but remember to turn it on and retrain one last time before production with ``secure_mode`` turned on.\n"
     ]
    },
    {
     "data": {
      "text/plain": [
       "2025-10-13 07:46:18,427 fedbiomed INFO - Sampled nodes in round 0 ['NODE_CENTRALIZED']"
      ]
     },
     "metadata": {},
     "output_type": "display_data"
    },
    {
     "name": "stdout",
     "output_type": "stream",
     "text": [
      "<function extract_symbols at 0x7f920de88d30>\n"
     ]
    },
    {
     "data": {
      "text/plain": [
       "2025-10-13 07:46:18,503 fedbiomed INFO - \u001b[1mSending request\u001b[0m \n",
       "\t\t\t\t\t\u001b[1m To\u001b[0m: NODE_CENTRALIZED \n",
       "\t\t\t\t\t\u001b[1m Request: \u001b[0m: TRAIN\n",
       " -----------------------------------------------------------------"
      ]
     },
     "metadata": {},
     "output_type": "display_data"
    },
    {
     "data": {
      "text/plain": [
       "2025-10-13 07:46:18,620 fedbiomed DEBUG - Node: NODE_CENTRALIZED polling for the tasks"
      ]
     },
     "metadata": {},
     "output_type": "display_data"
    },
    {
     "data": {
      "text/plain": [
       "2025-10-13 07:46:18,953 fedbiomed INFO - \u001b[1mTRAINING\u001b[0m \n",
       "\t\t\t\t\t NODE_ID: NODE_CENTRALIZED \n",
       "\t\t\t\t\t Round 1 | Iteration: 1/70 (1%) | Samples: 101/7000000\n",
       " \t\t\t\t\t Loss: \u001b[1m506.942505\u001b[0m \n",
       "\t\t\t\t\t ---------"
      ]
     },
     "metadata": {},
     "output_type": "display_data"
    },
    {
     "data": {
      "text/plain": [
       "2025-10-13 07:46:18,958 fedbiomed INFO - \u001b[1mTRAINING\u001b[0m \n",
       "\t\t\t\t\t NODE_ID: NODE_CENTRALIZED \n",
       "\t\t\t\t\t Round 1 | Iteration: 2/70 (3%) | Samples: 202/7000000\n",
       " \t\t\t\t\t Loss: \u001b[1m504.566071\u001b[0m \n",
       "\t\t\t\t\t ---------"
      ]
     },
     "metadata": {},
     "output_type": "display_data"
    },
    {
     "data": {
      "text/plain": [
       "2025-10-13 07:46:18,960 fedbiomed INFO - \u001b[1mTRAINING\u001b[0m \n",
       "\t\t\t\t\t NODE_ID: NODE_CENTRALIZED \n",
       "\t\t\t\t\t Round 1 | Iteration: 3/70 (4%) | Samples: 303/7000000\n",
       " \t\t\t\t\t Loss: \u001b[1m502.192719\u001b[0m \n",
       "\t\t\t\t\t ---------"
      ]
     },
     "metadata": {},
     "output_type": "display_data"
    },
    {
     "data": {
      "text/plain": [
       "2025-10-13 07:46:18,977 fedbiomed INFO - \u001b[1mTRAINING\u001b[0m \n",
       "\t\t\t\t\t NODE_ID: NODE_CENTRALIZED \n",
       "\t\t\t\t\t Round 1 | Iteration: 4/70 (6%) | Samples: 404/7000000\n",
       " \t\t\t\t\t Loss: \u001b[1m499.822601\u001b[0m \n",
       "\t\t\t\t\t ---------"
      ]
     },
     "metadata": {},
     "output_type": "display_data"
    },
    {
     "data": {
      "text/plain": [
       "2025-10-13 07:46:19,010 fedbiomed INFO - \u001b[1mTRAINING\u001b[0m \n",
       "\t\t\t\t\t NODE_ID: NODE_CENTRALIZED \n",
       "\t\t\t\t\t Round 1 | Iteration: 5/70 (7%) | Samples: 505/7000000\n",
       " \t\t\t\t\t Loss: \u001b[1m497.455261\u001b[0m \n",
       "\t\t\t\t\t ---------"
      ]
     },
     "metadata": {},
     "output_type": "display_data"
    },
    {
     "data": {
      "text/plain": [
       "2025-10-13 07:46:19,053 fedbiomed INFO - \u001b[1mTRAINING\u001b[0m \n",
       "\t\t\t\t\t NODE_ID: NODE_CENTRALIZED \n",
       "\t\t\t\t\t Round 1 | Iteration: 6/70 (9%) | Samples: 606/7000000\n",
       " \t\t\t\t\t Loss: \u001b[1m495.090454\u001b[0m \n",
       "\t\t\t\t\t ---------"
      ]
     },
     "metadata": {},
     "output_type": "display_data"
    },
    {
     "data": {
      "text/plain": [
       "2025-10-13 07:46:19,065 fedbiomed INFO - \u001b[1mTRAINING\u001b[0m \n",
       "\t\t\t\t\t NODE_ID: NODE_CENTRALIZED \n",
       "\t\t\t\t\t Round 1 | Iteration: 7/70 (10%) | Samples: 707/7000000\n",
       " \t\t\t\t\t Loss: \u001b[1m492.727539\u001b[0m \n",
       "\t\t\t\t\t ---------"
      ]
     },
     "metadata": {},
     "output_type": "display_data"
    },
    {
     "data": {
      "text/plain": [
       "2025-10-13 07:46:19,081 fedbiomed INFO - \u001b[1mTRAINING\u001b[0m \n",
       "\t\t\t\t\t NODE_ID: NODE_CENTRALIZED \n",
       "\t\t\t\t\t Round 1 | Iteration: 8/70 (11%) | Samples: 808/7000000\n",
       " \t\t\t\t\t Loss: \u001b[1m490.366028\u001b[0m \n",
       "\t\t\t\t\t ---------"
      ]
     },
     "metadata": {},
     "output_type": "display_data"
    },
    {
     "data": {
      "text/plain": [
       "2025-10-13 07:46:19,090 fedbiomed INFO - \u001b[1mTRAINING\u001b[0m \n",
       "\t\t\t\t\t NODE_ID: NODE_CENTRALIZED \n",
       "\t\t\t\t\t Round 1 | Iteration: 9/70 (13%) | Samples: 909/7000000\n",
       " \t\t\t\t\t Loss: \u001b[1m488.004791\u001b[0m \n",
       "\t\t\t\t\t ---------"
      ]
     },
     "metadata": {},
     "output_type": "display_data"
    },
    {
     "data": {
      "text/plain": [
       "2025-10-13 07:46:19,112 fedbiomed INFO - \u001b[1mTRAINING\u001b[0m \n",
       "\t\t\t\t\t NODE_ID: NODE_CENTRALIZED \n",
       "\t\t\t\t\t Round 1 | Iteration: 10/70 (14%) | Samples: 1010/7000000\n",
       " \t\t\t\t\t Loss: \u001b[1m485.642456\u001b[0m \n",
       "\t\t\t\t\t ---------"
      ]
     },
     "metadata": {},
     "output_type": "display_data"
    },
    {
     "data": {
      "text/plain": [
       "2025-10-13 07:46:19,135 fedbiomed INFO - \u001b[1mTRAINING\u001b[0m \n",
       "\t\t\t\t\t NODE_ID: NODE_CENTRALIZED \n",
       "\t\t\t\t\t Round 1 | Iteration: 11/70 (16%) | Samples: 1111/7000000\n",
       " \t\t\t\t\t Loss: \u001b[1m483.277863\u001b[0m \n",
       "\t\t\t\t\t ---------"
      ]
     },
     "metadata": {},
     "output_type": "display_data"
    },
    {
     "data": {
      "text/plain": [
       "2025-10-13 07:46:19,159 fedbiomed INFO - \u001b[1mTRAINING\u001b[0m \n",
       "\t\t\t\t\t NODE_ID: NODE_CENTRALIZED \n",
       "\t\t\t\t\t Round 1 | Iteration: 12/70 (17%) | Samples: 1212/7000000\n",
       " \t\t\t\t\t Loss: \u001b[1m480.909363\u001b[0m \n",
       "\t\t\t\t\t ---------"
      ]
     },
     "metadata": {},
     "output_type": "display_data"
    },
    {
     "data": {
      "text/plain": [
       "2025-10-13 07:46:19,180 fedbiomed INFO - \u001b[1mTRAINING\u001b[0m \n",
       "\t\t\t\t\t NODE_ID: NODE_CENTRALIZED \n",
       "\t\t\t\t\t Round 1 | Iteration: 13/70 (19%) | Samples: 1313/7000000\n",
       " \t\t\t\t\t Loss: \u001b[1m478.535583\u001b[0m \n",
       "\t\t\t\t\t ---------"
      ]
     },
     "metadata": {},
     "output_type": "display_data"
    },
    {
     "data": {
      "text/plain": [
       "2025-10-13 07:46:19,202 fedbiomed INFO - \u001b[1mTRAINING\u001b[0m \n",
       "\t\t\t\t\t NODE_ID: NODE_CENTRALIZED \n",
       "\t\t\t\t\t Round 1 | Iteration: 14/70 (20%) | Samples: 1414/7000000\n",
       " \t\t\t\t\t Loss: \u001b[1m476.154907\u001b[0m \n",
       "\t\t\t\t\t ---------"
      ]
     },
     "metadata": {},
     "output_type": "display_data"
    },
    {
     "data": {
      "text/plain": [
       "2025-10-13 07:46:19,224 fedbiomed INFO - \u001b[1mTRAINING\u001b[0m \n",
       "\t\t\t\t\t NODE_ID: NODE_CENTRALIZED \n",
       "\t\t\t\t\t Round 1 | Iteration: 15/70 (21%) | Samples: 1515/7000000\n",
       " \t\t\t\t\t Loss: \u001b[1m473.765808\u001b[0m \n",
       "\t\t\t\t\t ---------"
      ]
     },
     "metadata": {},
     "output_type": "display_data"
    },
    {
     "data": {
      "text/plain": [
       "2025-10-13 07:46:19,244 fedbiomed INFO - \u001b[1mTRAINING\u001b[0m \n",
       "\t\t\t\t\t NODE_ID: NODE_CENTRALIZED \n",
       "\t\t\t\t\t Round 1 | Iteration: 16/70 (23%) | Samples: 1616/7000000\n",
       " \t\t\t\t\t Loss: \u001b[1m471.367065\u001b[0m \n",
       "\t\t\t\t\t ---------"
      ]
     },
     "metadata": {},
     "output_type": "display_data"
    },
    {
     "data": {
      "text/plain": [
       "2025-10-13 07:46:19,263 fedbiomed INFO - \u001b[1mTRAINING\u001b[0m \n",
       "\t\t\t\t\t NODE_ID: NODE_CENTRALIZED \n",
       "\t\t\t\t\t Round 1 | Iteration: 17/70 (24%) | Samples: 1717/7000000\n",
       " \t\t\t\t\t Loss: \u001b[1m468.957031\u001b[0m \n",
       "\t\t\t\t\t ---------"
      ]
     },
     "metadata": {},
     "output_type": "display_data"
    },
    {
     "data": {
      "text/plain": [
       "2025-10-13 07:46:19,288 fedbiomed INFO - \u001b[1mTRAINING\u001b[0m \n",
       "\t\t\t\t\t NODE_ID: NODE_CENTRALIZED \n",
       "\t\t\t\t\t Round 1 | Iteration: 18/70 (26%) | Samples: 1818/7000000\n",
       " \t\t\t\t\t Loss: \u001b[1m466.534180\u001b[0m \n",
       "\t\t\t\t\t ---------"
      ]
     },
     "metadata": {},
     "output_type": "display_data"
    },
    {
     "data": {
      "text/plain": [
       "2025-10-13 07:46:19,307 fedbiomed INFO - \u001b[1mTRAINING\u001b[0m \n",
       "\t\t\t\t\t NODE_ID: NODE_CENTRALIZED \n",
       "\t\t\t\t\t Round 1 | Iteration: 19/70 (27%) | Samples: 1919/7000000\n",
       " \t\t\t\t\t Loss: \u001b[1m464.096588\u001b[0m \n",
       "\t\t\t\t\t ---------"
      ]
     },
     "metadata": {},
     "output_type": "display_data"
    },
    {
     "data": {
      "text/plain": [
       "2025-10-13 07:46:19,330 fedbiomed INFO - \u001b[1mTRAINING\u001b[0m \n",
       "\t\t\t\t\t NODE_ID: NODE_CENTRALIZED \n",
       "\t\t\t\t\t Round 1 | Iteration: 20/70 (29%) | Samples: 2020/7000000\n",
       " \t\t\t\t\t Loss: \u001b[1m461.642639\u001b[0m \n",
       "\t\t\t\t\t ---------"
      ]
     },
     "metadata": {},
     "output_type": "display_data"
    },
    {
     "data": {
      "text/plain": [
       "2025-10-13 07:46:19,356 fedbiomed INFO - \u001b[1mTRAINING\u001b[0m \n",
       "\t\t\t\t\t NODE_ID: NODE_CENTRALIZED \n",
       "\t\t\t\t\t Round 1 | Iteration: 21/70 (30%) | Samples: 2121/7000000\n",
       " \t\t\t\t\t Loss: \u001b[1m459.170471\u001b[0m \n",
       "\t\t\t\t\t ---------"
      ]
     },
     "metadata": {},
     "output_type": "display_data"
    },
    {
     "data": {
      "text/plain": [
       "2025-10-13 07:46:19,376 fedbiomed INFO - \u001b[1mTRAINING\u001b[0m \n",
       "\t\t\t\t\t NODE_ID: NODE_CENTRALIZED \n",
       "\t\t\t\t\t Round 1 | Iteration: 22/70 (31%) | Samples: 2222/7000000\n",
       " \t\t\t\t\t Loss: \u001b[1m456.677917\u001b[0m \n",
       "\t\t\t\t\t ---------"
      ]
     },
     "metadata": {},
     "output_type": "display_data"
    },
    {
     "data": {
      "text/plain": [
       "2025-10-13 07:46:19,395 fedbiomed INFO - \u001b[1mTRAINING\u001b[0m \n",
       "\t\t\t\t\t NODE_ID: NODE_CENTRALIZED \n",
       "\t\t\t\t\t Round 1 | Iteration: 23/70 (33%) | Samples: 2323/7000000\n",
       " \t\t\t\t\t Loss: \u001b[1m454.163116\u001b[0m \n",
       "\t\t\t\t\t ---------"
      ]
     },
     "metadata": {},
     "output_type": "display_data"
    },
    {
     "data": {
      "text/plain": [
       "2025-10-13 07:46:19,420 fedbiomed INFO - \u001b[1mTRAINING\u001b[0m \n",
       "\t\t\t\t\t NODE_ID: NODE_CENTRALIZED \n",
       "\t\t\t\t\t Round 1 | Iteration: 24/70 (34%) | Samples: 2424/7000000\n",
       " \t\t\t\t\t Loss: \u001b[1m451.623718\u001b[0m \n",
       "\t\t\t\t\t ---------"
      ]
     },
     "metadata": {},
     "output_type": "display_data"
    },
    {
     "data": {
      "text/plain": [
       "2025-10-13 07:46:19,438 fedbiomed INFO - \u001b[1mTRAINING\u001b[0m \n",
       "\t\t\t\t\t NODE_ID: NODE_CENTRALIZED \n",
       "\t\t\t\t\t Round 1 | Iteration: 25/70 (36%) | Samples: 2525/7000000\n",
       " \t\t\t\t\t Loss: \u001b[1m449.057617\u001b[0m \n",
       "\t\t\t\t\t ---------"
      ]
     },
     "metadata": {},
     "output_type": "display_data"
    },
    {
     "data": {
      "text/plain": [
       "2025-10-13 07:46:19,464 fedbiomed INFO - \u001b[1mTRAINING\u001b[0m \n",
       "\t\t\t\t\t NODE_ID: NODE_CENTRALIZED \n",
       "\t\t\t\t\t Round 1 | Iteration: 26/70 (37%) | Samples: 2626/7000000\n",
       " \t\t\t\t\t Loss: \u001b[1m446.462585\u001b[0m \n",
       "\t\t\t\t\t ---------"
      ]
     },
     "metadata": {},
     "output_type": "display_data"
    },
    {
     "data": {
      "text/plain": [
       "2025-10-13 07:46:19,484 fedbiomed INFO - \u001b[1mTRAINING\u001b[0m \n",
       "\t\t\t\t\t NODE_ID: NODE_CENTRALIZED \n",
       "\t\t\t\t\t Round 1 | Iteration: 27/70 (39%) | Samples: 2727/7000000\n",
       " \t\t\t\t\t Loss: \u001b[1m443.836700\u001b[0m \n",
       "\t\t\t\t\t ---------"
      ]
     },
     "metadata": {},
     "output_type": "display_data"
    },
    {
     "data": {
      "text/plain": [
       "2025-10-13 07:46:19,523 fedbiomed INFO - \u001b[1mTRAINING\u001b[0m \n",
       "\t\t\t\t\t NODE_ID: NODE_CENTRALIZED \n",
       "\t\t\t\t\t Round 1 | Iteration: 28/70 (40%) | Samples: 2828/7000000\n",
       " \t\t\t\t\t Loss: \u001b[1m441.177399\u001b[0m \n",
       "\t\t\t\t\t ---------"
      ]
     },
     "metadata": {},
     "output_type": "display_data"
    },
    {
     "data": {
      "text/plain": [
       "2025-10-13 07:46:19,544 fedbiomed INFO - \u001b[1mTRAINING\u001b[0m \n",
       "\t\t\t\t\t NODE_ID: NODE_CENTRALIZED \n",
       "\t\t\t\t\t Round 1 | Iteration: 29/70 (41%) | Samples: 2929/7000000\n",
       " \t\t\t\t\t Loss: \u001b[1m438.482544\u001b[0m \n",
       "\t\t\t\t\t ---------"
      ]
     },
     "metadata": {},
     "output_type": "display_data"
    },
    {
     "data": {
      "text/plain": [
       "2025-10-13 07:46:19,567 fedbiomed INFO - \u001b[1mTRAINING\u001b[0m \n",
       "\t\t\t\t\t NODE_ID: NODE_CENTRALIZED \n",
       "\t\t\t\t\t Round 1 | Iteration: 30/70 (43%) | Samples: 3030/7000000\n",
       " \t\t\t\t\t Loss: \u001b[1m435.750397\u001b[0m \n",
       "\t\t\t\t\t ---------"
      ]
     },
     "metadata": {},
     "output_type": "display_data"
    },
    {
     "data": {
      "text/plain": [
       "2025-10-13 07:46:19,584 fedbiomed INFO - \u001b[1mTRAINING\u001b[0m \n",
       "\t\t\t\t\t NODE_ID: NODE_CENTRALIZED \n",
       "\t\t\t\t\t Round 1 | Iteration: 31/70 (44%) | Samples: 3131/7000000\n",
       " \t\t\t\t\t Loss: \u001b[1m432.979126\u001b[0m \n",
       "\t\t\t\t\t ---------"
      ]
     },
     "metadata": {},
     "output_type": "display_data"
    },
    {
     "data": {
      "text/plain": [
       "2025-10-13 07:46:19,605 fedbiomed INFO - \u001b[1mTRAINING\u001b[0m \n",
       "\t\t\t\t\t NODE_ID: NODE_CENTRALIZED \n",
       "\t\t\t\t\t Round 1 | Iteration: 32/70 (46%) | Samples: 3232/7000000\n",
       " \t\t\t\t\t Loss: \u001b[1m430.167389\u001b[0m \n",
       "\t\t\t\t\t ---------"
      ]
     },
     "metadata": {},
     "output_type": "display_data"
    },
    {
     "data": {
      "text/plain": [
       "2025-10-13 07:46:19,624 fedbiomed INFO - \u001b[1mTRAINING\u001b[0m \n",
       "\t\t\t\t\t NODE_ID: NODE_CENTRALIZED \n",
       "\t\t\t\t\t Round 1 | Iteration: 33/70 (47%) | Samples: 3333/7000000\n",
       " \t\t\t\t\t Loss: \u001b[1m427.313477\u001b[0m \n",
       "\t\t\t\t\t ---------"
      ]
     },
     "metadata": {},
     "output_type": "display_data"
    },
    {
     "data": {
      "text/plain": [
       "2025-10-13 07:46:19,644 fedbiomed INFO - \u001b[1mTRAINING\u001b[0m \n",
       "\t\t\t\t\t NODE_ID: NODE_CENTRALIZED \n",
       "\t\t\t\t\t Round 1 | Iteration: 34/70 (49%) | Samples: 3434/7000000\n",
       " \t\t\t\t\t Loss: \u001b[1m424.416595\u001b[0m \n",
       "\t\t\t\t\t ---------"
      ]
     },
     "metadata": {},
     "output_type": "display_data"
    },
    {
     "data": {
      "text/plain": [
       "2025-10-13 07:46:19,668 fedbiomed INFO - \u001b[1mTRAINING\u001b[0m \n",
       "\t\t\t\t\t NODE_ID: NODE_CENTRALIZED \n",
       "\t\t\t\t\t Round 1 | Iteration: 35/70 (50%) | Samples: 3535/7000000\n",
       " \t\t\t\t\t Loss: \u001b[1m421.476166\u001b[0m \n",
       "\t\t\t\t\t ---------"
      ]
     },
     "metadata": {},
     "output_type": "display_data"
    },
    {
     "data": {
      "text/plain": [
       "2025-10-13 07:46:19,691 fedbiomed INFO - \u001b[1mTRAINING\u001b[0m \n",
       "\t\t\t\t\t NODE_ID: NODE_CENTRALIZED \n",
       "\t\t\t\t\t Round 1 | Iteration: 36/70 (51%) | Samples: 3636/7000000\n",
       " \t\t\t\t\t Loss: \u001b[1m418.492157\u001b[0m \n",
       "\t\t\t\t\t ---------"
      ]
     },
     "metadata": {},
     "output_type": "display_data"
    },
    {
     "data": {
      "text/plain": [
       "2025-10-13 07:46:19,712 fedbiomed INFO - \u001b[1mTRAINING\u001b[0m \n",
       "\t\t\t\t\t NODE_ID: NODE_CENTRALIZED \n",
       "\t\t\t\t\t Round 1 | Iteration: 37/70 (53%) | Samples: 3737/7000000\n",
       " \t\t\t\t\t Loss: \u001b[1m415.464630\u001b[0m \n",
       "\t\t\t\t\t ---------"
      ]
     },
     "metadata": {},
     "output_type": "display_data"
    },
    {
     "data": {
      "text/plain": [
       "2025-10-13 07:46:19,729 fedbiomed INFO - \u001b[1mTRAINING\u001b[0m \n",
       "\t\t\t\t\t NODE_ID: NODE_CENTRALIZED \n",
       "\t\t\t\t\t Round 1 | Iteration: 38/70 (54%) | Samples: 3838/7000000\n",
       " \t\t\t\t\t Loss: \u001b[1m412.393585\u001b[0m \n",
       "\t\t\t\t\t ---------"
      ]
     },
     "metadata": {},
     "output_type": "display_data"
    },
    {
     "data": {
      "text/plain": [
       "2025-10-13 07:46:19,752 fedbiomed INFO - \u001b[1mTRAINING\u001b[0m \n",
       "\t\t\t\t\t NODE_ID: NODE_CENTRALIZED \n",
       "\t\t\t\t\t Round 1 | Iteration: 39/70 (56%) | Samples: 3939/7000000\n",
       " \t\t\t\t\t Loss: \u001b[1m409.279938\u001b[0m \n",
       "\t\t\t\t\t ---------"
      ]
     },
     "metadata": {},
     "output_type": "display_data"
    },
    {
     "data": {
      "text/plain": [
       "2025-10-13 07:46:19,772 fedbiomed INFO - \u001b[1mTRAINING\u001b[0m \n",
       "\t\t\t\t\t NODE_ID: NODE_CENTRALIZED \n",
       "\t\t\t\t\t Round 1 | Iteration: 40/70 (57%) | Samples: 4040/7000000\n",
       " \t\t\t\t\t Loss: \u001b[1m406.125031\u001b[0m \n",
       "\t\t\t\t\t ---------"
      ]
     },
     "metadata": {},
     "output_type": "display_data"
    },
    {
     "data": {
      "text/plain": [
       "2025-10-13 07:46:19,792 fedbiomed INFO - \u001b[1mTRAINING\u001b[0m \n",
       "\t\t\t\t\t NODE_ID: NODE_CENTRALIZED \n",
       "\t\t\t\t\t Round 1 | Iteration: 41/70 (59%) | Samples: 4141/7000000\n",
       " \t\t\t\t\t Loss: \u001b[1m402.930756\u001b[0m \n",
       "\t\t\t\t\t ---------"
      ]
     },
     "metadata": {},
     "output_type": "display_data"
    },
    {
     "data": {
      "text/plain": [
       "2025-10-13 07:46:19,808 fedbiomed INFO - \u001b[1mTRAINING\u001b[0m \n",
       "\t\t\t\t\t NODE_ID: NODE_CENTRALIZED \n",
       "\t\t\t\t\t Round 1 | Iteration: 42/70 (60%) | Samples: 4242/7000000\n",
       " \t\t\t\t\t Loss: \u001b[1m399.699432\u001b[0m \n",
       "\t\t\t\t\t ---------"
      ]
     },
     "metadata": {},
     "output_type": "display_data"
    },
    {
     "data": {
      "text/plain": [
       "2025-10-13 07:46:19,835 fedbiomed INFO - \u001b[1mTRAINING\u001b[0m \n",
       "\t\t\t\t\t NODE_ID: NODE_CENTRALIZED \n",
       "\t\t\t\t\t Round 1 | Iteration: 43/70 (61%) | Samples: 4343/7000000\n",
       " \t\t\t\t\t Loss: \u001b[1m396.434052\u001b[0m \n",
       "\t\t\t\t\t ---------"
      ]
     },
     "metadata": {},
     "output_type": "display_data"
    },
    {
     "data": {
      "text/plain": [
       "2025-10-13 07:46:19,855 fedbiomed INFO - \u001b[1mTRAINING\u001b[0m \n",
       "\t\t\t\t\t NODE_ID: NODE_CENTRALIZED \n",
       "\t\t\t\t\t Round 1 | Iteration: 44/70 (63%) | Samples: 4444/7000000\n",
       " \t\t\t\t\t Loss: \u001b[1m393.137939\u001b[0m \n",
       "\t\t\t\t\t ---------"
      ]
     },
     "metadata": {},
     "output_type": "display_data"
    },
    {
     "data": {
      "text/plain": [
       "2025-10-13 07:46:19,883 fedbiomed INFO - \u001b[1mTRAINING\u001b[0m \n",
       "\t\t\t\t\t NODE_ID: NODE_CENTRALIZED \n",
       "\t\t\t\t\t Round 1 | Iteration: 45/70 (64%) | Samples: 4545/7000000\n",
       " \t\t\t\t\t Loss: \u001b[1m389.814178\u001b[0m \n",
       "\t\t\t\t\t ---------"
      ]
     },
     "metadata": {},
     "output_type": "display_data"
    },
    {
     "data": {
      "text/plain": [
       "2025-10-13 07:46:19,896 fedbiomed INFO - \u001b[1mTRAINING\u001b[0m \n",
       "\t\t\t\t\t NODE_ID: NODE_CENTRALIZED \n",
       "\t\t\t\t\t Round 1 | Iteration: 46/70 (66%) | Samples: 4646/7000000\n",
       " \t\t\t\t\t Loss: \u001b[1m386.466553\u001b[0m \n",
       "\t\t\t\t\t ---------"
      ]
     },
     "metadata": {},
     "output_type": "display_data"
    },
    {
     "data": {
      "text/plain": [
       "2025-10-13 07:46:19,911 fedbiomed INFO - \u001b[1mTRAINING\u001b[0m \n",
       "\t\t\t\t\t NODE_ID: NODE_CENTRALIZED \n",
       "\t\t\t\t\t Round 1 | Iteration: 47/70 (67%) | Samples: 4747/7000000\n",
       " \t\t\t\t\t Loss: \u001b[1m383.098694\u001b[0m \n",
       "\t\t\t\t\t ---------"
      ]
     },
     "metadata": {},
     "output_type": "display_data"
    },
    {
     "data": {
      "text/plain": [
       "2025-10-13 07:46:19,931 fedbiomed INFO - \u001b[1mTRAINING\u001b[0m \n",
       "\t\t\t\t\t NODE_ID: NODE_CENTRALIZED \n",
       "\t\t\t\t\t Round 1 | Iteration: 48/70 (69%) | Samples: 4848/7000000\n",
       " \t\t\t\t\t Loss: \u001b[1m379.714691\u001b[0m \n",
       "\t\t\t\t\t ---------"
      ]
     },
     "metadata": {},
     "output_type": "display_data"
    },
    {
     "data": {
      "text/plain": [
       "2025-10-13 07:46:19,956 fedbiomed INFO - \u001b[1mTRAINING\u001b[0m \n",
       "\t\t\t\t\t NODE_ID: NODE_CENTRALIZED \n",
       "\t\t\t\t\t Round 1 | Iteration: 49/70 (70%) | Samples: 4949/7000000\n",
       " \t\t\t\t\t Loss: \u001b[1m376.318787\u001b[0m \n",
       "\t\t\t\t\t ---------"
      ]
     },
     "metadata": {},
     "output_type": "display_data"
    },
    {
     "data": {
      "text/plain": [
       "2025-10-13 07:46:19,980 fedbiomed INFO - \u001b[1mTRAINING\u001b[0m \n",
       "\t\t\t\t\t NODE_ID: NODE_CENTRALIZED \n",
       "\t\t\t\t\t Round 1 | Iteration: 50/70 (71%) | Samples: 5050/7000000\n",
       " \t\t\t\t\t Loss: \u001b[1m372.915070\u001b[0m \n",
       "\t\t\t\t\t ---------"
      ]
     },
     "metadata": {},
     "output_type": "display_data"
    },
    {
     "data": {
      "text/plain": [
       "2025-10-13 07:46:20,002 fedbiomed INFO - \u001b[1mTRAINING\u001b[0m \n",
       "\t\t\t\t\t NODE_ID: NODE_CENTRALIZED \n",
       "\t\t\t\t\t Round 1 | Iteration: 51/70 (73%) | Samples: 5151/7000000\n",
       " \t\t\t\t\t Loss: \u001b[1m369.508209\u001b[0m \n",
       "\t\t\t\t\t ---------"
      ]
     },
     "metadata": {},
     "output_type": "display_data"
    },
    {
     "data": {
      "text/plain": [
       "2025-10-13 07:46:20,024 fedbiomed INFO - \u001b[1mTRAINING\u001b[0m \n",
       "\t\t\t\t\t NODE_ID: NODE_CENTRALIZED \n",
       "\t\t\t\t\t Round 1 | Iteration: 52/70 (74%) | Samples: 5252/7000000\n",
       " \t\t\t\t\t Loss: \u001b[1m366.102783\u001b[0m \n",
       "\t\t\t\t\t ---------"
      ]
     },
     "metadata": {},
     "output_type": "display_data"
    },
    {
     "data": {
      "text/plain": [
       "2025-10-13 07:46:20,047 fedbiomed INFO - \u001b[1mTRAINING\u001b[0m \n",
       "\t\t\t\t\t NODE_ID: NODE_CENTRALIZED \n",
       "\t\t\t\t\t Round 1 | Iteration: 53/70 (76%) | Samples: 5353/7000000\n",
       " \t\t\t\t\t Loss: \u001b[1m362.701965\u001b[0m \n",
       "\t\t\t\t\t ---------"
      ]
     },
     "metadata": {},
     "output_type": "display_data"
    },
    {
     "data": {
      "text/plain": [
       "2025-10-13 07:46:20,071 fedbiomed INFO - \u001b[1mTRAINING\u001b[0m \n",
       "\t\t\t\t\t NODE_ID: NODE_CENTRALIZED \n",
       "\t\t\t\t\t Round 1 | Iteration: 54/70 (77%) | Samples: 5454/7000000\n",
       " \t\t\t\t\t Loss: \u001b[1m359.309448\u001b[0m \n",
       "\t\t\t\t\t ---------"
      ]
     },
     "metadata": {},
     "output_type": "display_data"
    },
    {
     "data": {
      "text/plain": [
       "2025-10-13 07:46:20,092 fedbiomed INFO - \u001b[1mTRAINING\u001b[0m \n",
       "\t\t\t\t\t NODE_ID: NODE_CENTRALIZED \n",
       "\t\t\t\t\t Round 1 | Iteration: 55/70 (79%) | Samples: 5555/7000000\n",
       " \t\t\t\t\t Loss: \u001b[1m355.928558\u001b[0m \n",
       "\t\t\t\t\t ---------"
      ]
     },
     "metadata": {},
     "output_type": "display_data"
    },
    {
     "data": {
      "text/plain": [
       "2025-10-13 07:46:20,116 fedbiomed INFO - \u001b[1mTRAINING\u001b[0m \n",
       "\t\t\t\t\t NODE_ID: NODE_CENTRALIZED \n",
       "\t\t\t\t\t Round 1 | Iteration: 56/70 (80%) | Samples: 5656/7000000\n",
       " \t\t\t\t\t Loss: \u001b[1m352.563049\u001b[0m \n",
       "\t\t\t\t\t ---------"
      ]
     },
     "metadata": {},
     "output_type": "display_data"
    },
    {
     "data": {
      "text/plain": [
       "2025-10-13 07:46:20,133 fedbiomed INFO - \u001b[1mTRAINING\u001b[0m \n",
       "\t\t\t\t\t NODE_ID: NODE_CENTRALIZED \n",
       "\t\t\t\t\t Round 1 | Iteration: 57/70 (81%) | Samples: 5757/7000000\n",
       " \t\t\t\t\t Loss: \u001b[1m349.215118\u001b[0m \n",
       "\t\t\t\t\t ---------"
      ]
     },
     "metadata": {},
     "output_type": "display_data"
    },
    {
     "data": {
      "text/plain": [
       "2025-10-13 07:46:20,152 fedbiomed INFO - \u001b[1mTRAINING\u001b[0m \n",
       "\t\t\t\t\t NODE_ID: NODE_CENTRALIZED \n",
       "\t\t\t\t\t Round 1 | Iteration: 58/70 (83%) | Samples: 5858/7000000\n",
       " \t\t\t\t\t Loss: \u001b[1m345.887146\u001b[0m \n",
       "\t\t\t\t\t ---------"
      ]
     },
     "metadata": {},
     "output_type": "display_data"
    },
    {
     "data": {
      "text/plain": [
       "2025-10-13 07:46:20,172 fedbiomed INFO - \u001b[1mTRAINING\u001b[0m \n",
       "\t\t\t\t\t NODE_ID: NODE_CENTRALIZED \n",
       "\t\t\t\t\t Round 1 | Iteration: 59/70 (84%) | Samples: 5959/7000000\n",
       " \t\t\t\t\t Loss: \u001b[1m342.581146\u001b[0m \n",
       "\t\t\t\t\t ---------"
      ]
     },
     "metadata": {},
     "output_type": "display_data"
    },
    {
     "data": {
      "text/plain": [
       "2025-10-13 07:46:20,196 fedbiomed INFO - \u001b[1mTRAINING\u001b[0m \n",
       "\t\t\t\t\t NODE_ID: NODE_CENTRALIZED \n",
       "\t\t\t\t\t Round 1 | Iteration: 60/70 (86%) | Samples: 6060/7000000\n",
       " \t\t\t\t\t Loss: \u001b[1m339.298737\u001b[0m \n",
       "\t\t\t\t\t ---------"
      ]
     },
     "metadata": {},
     "output_type": "display_data"
    },
    {
     "data": {
      "text/plain": [
       "2025-10-13 07:46:20,220 fedbiomed INFO - \u001b[1mTRAINING\u001b[0m \n",
       "\t\t\t\t\t NODE_ID: NODE_CENTRALIZED \n",
       "\t\t\t\t\t Round 1 | Iteration: 61/70 (87%) | Samples: 6161/7000000\n",
       " \t\t\t\t\t Loss: \u001b[1m336.041107\u001b[0m \n",
       "\t\t\t\t\t ---------"
      ]
     },
     "metadata": {},
     "output_type": "display_data"
    },
    {
     "data": {
      "text/plain": [
       "2025-10-13 07:46:20,255 fedbiomed INFO - \u001b[1mTRAINING\u001b[0m \n",
       "\t\t\t\t\t NODE_ID: NODE_CENTRALIZED \n",
       "\t\t\t\t\t Round 1 | Iteration: 62/70 (89%) | Samples: 6262/7000000\n",
       " \t\t\t\t\t Loss: \u001b[1m332.809204\u001b[0m \n",
       "\t\t\t\t\t ---------"
      ]
     },
     "metadata": {},
     "output_type": "display_data"
    },
    {
     "data": {
      "text/plain": [
       "2025-10-13 07:46:20,276 fedbiomed INFO - \u001b[1mTRAINING\u001b[0m \n",
       "\t\t\t\t\t NODE_ID: NODE_CENTRALIZED \n",
       "\t\t\t\t\t Round 1 | Iteration: 63/70 (90%) | Samples: 6363/7000000\n",
       " \t\t\t\t\t Loss: \u001b[1m329.603516\u001b[0m \n",
       "\t\t\t\t\t ---------"
      ]
     },
     "metadata": {},
     "output_type": "display_data"
    },
    {
     "data": {
      "text/plain": [
       "2025-10-13 07:46:20,296 fedbiomed INFO - \u001b[1mTRAINING\u001b[0m \n",
       "\t\t\t\t\t NODE_ID: NODE_CENTRALIZED \n",
       "\t\t\t\t\t Round 1 | Iteration: 64/70 (91%) | Samples: 6464/7000000\n",
       " \t\t\t\t\t Loss: \u001b[1m326.424255\u001b[0m \n",
       "\t\t\t\t\t ---------"
      ]
     },
     "metadata": {},
     "output_type": "display_data"
    },
    {
     "data": {
      "text/plain": [
       "2025-10-13 07:46:20,331 fedbiomed INFO - \u001b[1mTRAINING\u001b[0m \n",
       "\t\t\t\t\t NODE_ID: NODE_CENTRALIZED \n",
       "\t\t\t\t\t Round 1 | Iteration: 65/70 (93%) | Samples: 6565/7000000\n",
       " \t\t\t\t\t Loss: \u001b[1m323.271484\u001b[0m \n",
       "\t\t\t\t\t ---------"
      ]
     },
     "metadata": {},
     "output_type": "display_data"
    },
    {
     "data": {
      "text/plain": [
       "2025-10-13 07:46:20,359 fedbiomed INFO - \u001b[1mTRAINING\u001b[0m \n",
       "\t\t\t\t\t NODE_ID: NODE_CENTRALIZED \n",
       "\t\t\t\t\t Round 1 | Iteration: 66/70 (94%) | Samples: 6666/7000000\n",
       " \t\t\t\t\t Loss: \u001b[1m320.144775\u001b[0m \n",
       "\t\t\t\t\t ---------"
      ]
     },
     "metadata": {},
     "output_type": "display_data"
    },
    {
     "data": {
      "text/plain": [
       "2025-10-13 07:46:20,448 fedbiomed INFO - \u001b[1mTRAINING\u001b[0m \n",
       "\t\t\t\t\t NODE_ID: NODE_CENTRALIZED \n",
       "\t\t\t\t\t Round 1 | Iteration: 67/70 (96%) | Samples: 6767/7000000\n",
       " \t\t\t\t\t Loss: \u001b[1m317.043915\u001b[0m \n",
       "\t\t\t\t\t ---------"
      ]
     },
     "metadata": {},
     "output_type": "display_data"
    },
    {
     "data": {
      "text/plain": [
       "2025-10-13 07:46:20,476 fedbiomed INFO - \u001b[1mTRAINING\u001b[0m \n",
       "\t\t\t\t\t NODE_ID: NODE_CENTRALIZED \n",
       "\t\t\t\t\t Round 1 | Iteration: 68/70 (97%) | Samples: 6868/7000000\n",
       " \t\t\t\t\t Loss: \u001b[1m313.968292\u001b[0m \n",
       "\t\t\t\t\t ---------"
      ]
     },
     "metadata": {},
     "output_type": "display_data"
    },
    {
     "data": {
      "text/plain": [
       "2025-10-13 07:46:20,504 fedbiomed INFO - \u001b[1mTRAINING\u001b[0m \n",
       "\t\t\t\t\t NODE_ID: NODE_CENTRALIZED \n",
       "\t\t\t\t\t Round 1 | Iteration: 69/70 (99%) | Samples: 6969/7000000\n",
       " \t\t\t\t\t Loss: \u001b[1m310.916565\u001b[0m \n",
       "\t\t\t\t\t ---------"
      ]
     },
     "metadata": {},
     "output_type": "display_data"
    },
    {
     "data": {
      "text/plain": [
       "2025-10-13 07:46:20,528 fedbiomed INFO - \u001b[1mTRAINING\u001b[0m \n",
       "\t\t\t\t\t NODE_ID: NODE_CENTRALIZED \n",
       "\t\t\t\t\t Round 1 | Iteration: 70/70 (100%) | Samples: 7070/7000000\n",
       " \t\t\t\t\t Loss: \u001b[1m307.887817\u001b[0m \n",
       "\t\t\t\t\t ---------"
      ]
     },
     "metadata": {},
     "output_type": "display_data"
    },
    {
     "data": {
      "text/plain": [
       "2025-10-13 07:46:20,591 fedbiomed INFO - Nodes that successfully reply in round 0 ['NODE_CENTRALIZED']"
      ]
     },
     "metadata": {},
     "output_type": "display_data"
    },
    {
     "data": {
      "text/plain": [
       "2025-10-13 07:46:20,655 fedbiomed INFO - Sampled nodes in round 1 ['NODE_CENTRALIZED']"
      ]
     },
     "metadata": {},
     "output_type": "display_data"
    },
    {
     "name": "stdout",
     "output_type": "stream",
     "text": [
      "<function extract_symbols at 0x7f920de88d30>\n"
     ]
    },
    {
     "data": {
      "text/plain": [
       "2025-10-13 07:46:20,699 fedbiomed INFO - \u001b[1mSending request\u001b[0m \n",
       "\t\t\t\t\t\u001b[1m To\u001b[0m: NODE_CENTRALIZED \n",
       "\t\t\t\t\t\u001b[1m Request: \u001b[0m: TRAIN\n",
       " -----------------------------------------------------------------"
      ]
     },
     "metadata": {},
     "output_type": "display_data"
    },
    {
     "data": {
      "text/plain": [
       "2025-10-13 07:46:20,815 fedbiomed DEBUG - Node: NODE_CENTRALIZED polling for the tasks"
      ]
     },
     "metadata": {},
     "output_type": "display_data"
    },
    {
     "data": {
      "text/plain": [
       "2025-10-13 07:46:20,944 fedbiomed INFO - \u001b[1mTRAINING\u001b[0m \n",
       "\t\t\t\t\t NODE_ID: NODE_CENTRALIZED \n",
       "\t\t\t\t\t Round 2 | Iteration: 1/70 (1%) | Samples: 101/7000000\n",
       " \t\t\t\t\t Loss: \u001b[1m304.881012\u001b[0m \n",
       "\t\t\t\t\t ---------"
      ]
     },
     "metadata": {},
     "output_type": "display_data"
    },
    {
     "data": {
      "text/plain": [
       "2025-10-13 07:46:20,975 fedbiomed INFO - \u001b[1mTRAINING\u001b[0m \n",
       "\t\t\t\t\t NODE_ID: NODE_CENTRALIZED \n",
       "\t\t\t\t\t Round 2 | Iteration: 2/70 (3%) | Samples: 202/7000000\n",
       " \t\t\t\t\t Loss: \u001b[1m302.058167\u001b[0m \n",
       "\t\t\t\t\t ---------"
      ]
     },
     "metadata": {},
     "output_type": "display_data"
    },
    {
     "data": {
      "text/plain": [
       "2025-10-13 07:46:20,995 fedbiomed INFO - \u001b[1mTRAINING\u001b[0m \n",
       "\t\t\t\t\t NODE_ID: NODE_CENTRALIZED \n",
       "\t\t\t\t\t Round 2 | Iteration: 3/70 (4%) | Samples: 303/7000000\n",
       " \t\t\t\t\t Loss: \u001b[1m299.242889\u001b[0m \n",
       "\t\t\t\t\t ---------"
      ]
     },
     "metadata": {},
     "output_type": "display_data"
    },
    {
     "data": {
      "text/plain": [
       "2025-10-13 07:46:21,011 fedbiomed INFO - \u001b[1mTRAINING\u001b[0m \n",
       "\t\t\t\t\t NODE_ID: NODE_CENTRALIZED \n",
       "\t\t\t\t\t Round 2 | Iteration: 4/70 (6%) | Samples: 404/7000000\n",
       " \t\t\t\t\t Loss: \u001b[1m296.435120\u001b[0m \n",
       "\t\t\t\t\t ---------"
      ]
     },
     "metadata": {},
     "output_type": "display_data"
    },
    {
     "data": {
      "text/plain": [
       "2025-10-13 07:46:21,023 fedbiomed INFO - \u001b[1mTRAINING\u001b[0m \n",
       "\t\t\t\t\t NODE_ID: NODE_CENTRALIZED \n",
       "\t\t\t\t\t Round 2 | Iteration: 5/70 (7%) | Samples: 505/7000000\n",
       " \t\t\t\t\t Loss: \u001b[1m293.634491\u001b[0m \n",
       "\t\t\t\t\t ---------"
      ]
     },
     "metadata": {},
     "output_type": "display_data"
    },
    {
     "data": {
      "text/plain": [
       "2025-10-13 07:46:21,035 fedbiomed INFO - \u001b[1mTRAINING\u001b[0m \n",
       "\t\t\t\t\t NODE_ID: NODE_CENTRALIZED \n",
       "\t\t\t\t\t Round 2 | Iteration: 6/70 (9%) | Samples: 606/7000000\n",
       " \t\t\t\t\t Loss: \u001b[1m290.841461\u001b[0m \n",
       "\t\t\t\t\t ---------"
      ]
     },
     "metadata": {},
     "output_type": "display_data"
    },
    {
     "data": {
      "text/plain": [
       "2025-10-13 07:46:21,079 fedbiomed INFO - \u001b[1mTRAINING\u001b[0m \n",
       "\t\t\t\t\t NODE_ID: NODE_CENTRALIZED \n",
       "\t\t\t\t\t Round 2 | Iteration: 7/70 (10%) | Samples: 707/7000000\n",
       " \t\t\t\t\t Loss: \u001b[1m288.057098\u001b[0m \n",
       "\t\t\t\t\t ---------"
      ]
     },
     "metadata": {},
     "output_type": "display_data"
    },
    {
     "data": {
      "text/plain": [
       "2025-10-13 07:46:21,103 fedbiomed INFO - \u001b[1mTRAINING\u001b[0m \n",
       "\t\t\t\t\t NODE_ID: NODE_CENTRALIZED \n",
       "\t\t\t\t\t Round 2 | Iteration: 8/70 (11%) | Samples: 808/7000000\n",
       " \t\t\t\t\t Loss: \u001b[1m285.282349\u001b[0m \n",
       "\t\t\t\t\t ---------"
      ]
     },
     "metadata": {},
     "output_type": "display_data"
    },
    {
     "data": {
      "text/plain": [
       "2025-10-13 07:46:21,123 fedbiomed INFO - \u001b[1mTRAINING\u001b[0m \n",
       "\t\t\t\t\t NODE_ID: NODE_CENTRALIZED \n",
       "\t\t\t\t\t Round 2 | Iteration: 9/70 (13%) | Samples: 909/7000000\n",
       " \t\t\t\t\t Loss: \u001b[1m282.517731\u001b[0m \n",
       "\t\t\t\t\t ---------"
      ]
     },
     "metadata": {},
     "output_type": "display_data"
    },
    {
     "data": {
      "text/plain": [
       "2025-10-13 07:46:21,139 fedbiomed INFO - \u001b[1mTRAINING\u001b[0m \n",
       "\t\t\t\t\t NODE_ID: NODE_CENTRALIZED \n",
       "\t\t\t\t\t Round 2 | Iteration: 10/70 (14%) | Samples: 1010/7000000\n",
       " \t\t\t\t\t Loss: \u001b[1m279.763397\u001b[0m \n",
       "\t\t\t\t\t ---------"
      ]
     },
     "metadata": {},
     "output_type": "display_data"
    },
    {
     "data": {
      "text/plain": [
       "2025-10-13 07:46:21,155 fedbiomed INFO - \u001b[1mTRAINING\u001b[0m \n",
       "\t\t\t\t\t NODE_ID: NODE_CENTRALIZED \n",
       "\t\t\t\t\t Round 2 | Iteration: 11/70 (16%) | Samples: 1111/7000000\n",
       " \t\t\t\t\t Loss: \u001b[1m277.019897\u001b[0m \n",
       "\t\t\t\t\t ---------"
      ]
     },
     "metadata": {},
     "output_type": "display_data"
    },
    {
     "data": {
      "text/plain": [
       "2025-10-13 07:46:21,179 fedbiomed INFO - \u001b[1mTRAINING\u001b[0m \n",
       "\t\t\t\t\t NODE_ID: NODE_CENTRALIZED \n",
       "\t\t\t\t\t Round 2 | Iteration: 12/70 (17%) | Samples: 1212/7000000\n",
       " \t\t\t\t\t Loss: \u001b[1m274.287598\u001b[0m \n",
       "\t\t\t\t\t ---------"
      ]
     },
     "metadata": {},
     "output_type": "display_data"
    },
    {
     "data": {
      "text/plain": [
       "2025-10-13 07:46:21,191 fedbiomed INFO - \u001b[1mTRAINING\u001b[0m \n",
       "\t\t\t\t\t NODE_ID: NODE_CENTRALIZED \n",
       "\t\t\t\t\t Round 2 | Iteration: 13/70 (19%) | Samples: 1313/7000000\n",
       " \t\t\t\t\t Loss: \u001b[1m271.566986\u001b[0m \n",
       "\t\t\t\t\t ---------"
      ]
     },
     "metadata": {},
     "output_type": "display_data"
    },
    {
     "data": {
      "text/plain": [
       "2025-10-13 07:46:21,215 fedbiomed INFO - \u001b[1mTRAINING\u001b[0m \n",
       "\t\t\t\t\t NODE_ID: NODE_CENTRALIZED \n",
       "\t\t\t\t\t Round 2 | Iteration: 14/70 (20%) | Samples: 1414/7000000\n",
       " \t\t\t\t\t Loss: \u001b[1m268.858368\u001b[0m \n",
       "\t\t\t\t\t ---------"
      ]
     },
     "metadata": {},
     "output_type": "display_data"
    },
    {
     "data": {
      "text/plain": [
       "2025-10-13 07:46:21,243 fedbiomed INFO - \u001b[1mTRAINING\u001b[0m \n",
       "\t\t\t\t\t NODE_ID: NODE_CENTRALIZED \n",
       "\t\t\t\t\t Round 2 | Iteration: 15/70 (21%) | Samples: 1515/7000000\n",
       " \t\t\t\t\t Loss: \u001b[1m266.161957\u001b[0m \n",
       "\t\t\t\t\t ---------"
      ]
     },
     "metadata": {},
     "output_type": "display_data"
    },
    {
     "data": {
      "text/plain": [
       "2025-10-13 07:46:21,259 fedbiomed INFO - \u001b[1mTRAINING\u001b[0m \n",
       "\t\t\t\t\t NODE_ID: NODE_CENTRALIZED \n",
       "\t\t\t\t\t Round 2 | Iteration: 16/70 (23%) | Samples: 1616/7000000\n",
       " \t\t\t\t\t Loss: \u001b[1m263.477997\u001b[0m \n",
       "\t\t\t\t\t ---------"
      ]
     },
     "metadata": {},
     "output_type": "display_data"
    },
    {
     "data": {
      "text/plain": [
       "2025-10-13 07:46:21,279 fedbiomed INFO - \u001b[1mTRAINING\u001b[0m \n",
       "\t\t\t\t\t NODE_ID: NODE_CENTRALIZED \n",
       "\t\t\t\t\t Round 2 | Iteration: 17/70 (24%) | Samples: 1717/7000000\n",
       " \t\t\t\t\t Loss: \u001b[1m260.806610\u001b[0m \n",
       "\t\t\t\t\t ---------"
      ]
     },
     "metadata": {},
     "output_type": "display_data"
    },
    {
     "data": {
      "text/plain": [
       "2025-10-13 07:46:21,295 fedbiomed INFO - \u001b[1mTRAINING\u001b[0m \n",
       "\t\t\t\t\t NODE_ID: NODE_CENTRALIZED \n",
       "\t\t\t\t\t Round 2 | Iteration: 18/70 (26%) | Samples: 1818/7000000\n",
       " \t\t\t\t\t Loss: \u001b[1m258.147949\u001b[0m \n",
       "\t\t\t\t\t ---------"
      ]
     },
     "metadata": {},
     "output_type": "display_data"
    },
    {
     "data": {
      "text/plain": [
       "2025-10-13 07:46:21,327 fedbiomed INFO - \u001b[1mTRAINING\u001b[0m \n",
       "\t\t\t\t\t NODE_ID: NODE_CENTRALIZED \n",
       "\t\t\t\t\t Round 2 | Iteration: 19/70 (27%) | Samples: 1919/7000000\n",
       " \t\t\t\t\t Loss: \u001b[1m255.501953\u001b[0m \n",
       "\t\t\t\t\t ---------"
      ]
     },
     "metadata": {},
     "output_type": "display_data"
    },
    {
     "data": {
      "text/plain": [
       "2025-10-13 07:46:21,355 fedbiomed INFO - \u001b[1mTRAINING\u001b[0m \n",
       "\t\t\t\t\t NODE_ID: NODE_CENTRALIZED \n",
       "\t\t\t\t\t Round 2 | Iteration: 20/70 (29%) | Samples: 2020/7000000\n",
       " \t\t\t\t\t Loss: \u001b[1m252.868454\u001b[0m \n",
       "\t\t\t\t\t ---------"
      ]
     },
     "metadata": {},
     "output_type": "display_data"
    },
    {
     "data": {
      "text/plain": [
       "2025-10-13 07:46:21,387 fedbiomed INFO - \u001b[1mTRAINING\u001b[0m \n",
       "\t\t\t\t\t NODE_ID: NODE_CENTRALIZED \n",
       "\t\t\t\t\t Round 2 | Iteration: 21/70 (30%) | Samples: 2121/7000000\n",
       " \t\t\t\t\t Loss: \u001b[1m250.247314\u001b[0m \n",
       "\t\t\t\t\t ---------"
      ]
     },
     "metadata": {},
     "output_type": "display_data"
    },
    {
     "data": {
      "text/plain": [
       "2025-10-13 07:46:21,419 fedbiomed INFO - \u001b[1mTRAINING\u001b[0m \n",
       "\t\t\t\t\t NODE_ID: NODE_CENTRALIZED \n",
       "\t\t\t\t\t Round 2 | Iteration: 22/70 (31%) | Samples: 2222/7000000\n",
       " \t\t\t\t\t Loss: \u001b[1m247.638199\u001b[0m \n",
       "\t\t\t\t\t ---------"
      ]
     },
     "metadata": {},
     "output_type": "display_data"
    },
    {
     "data": {
      "text/plain": [
       "2025-10-13 07:46:21,451 fedbiomed INFO - \u001b[1mTRAINING\u001b[0m \n",
       "\t\t\t\t\t NODE_ID: NODE_CENTRALIZED \n",
       "\t\t\t\t\t Round 2 | Iteration: 23/70 (33%) | Samples: 2323/7000000\n",
       " \t\t\t\t\t Loss: \u001b[1m245.040741\u001b[0m \n",
       "\t\t\t\t\t ---------"
      ]
     },
     "metadata": {},
     "output_type": "display_data"
    },
    {
     "data": {
      "text/plain": [
       "2025-10-13 07:46:21,483 fedbiomed INFO - \u001b[1mTRAINING\u001b[0m \n",
       "\t\t\t\t\t NODE_ID: NODE_CENTRALIZED \n",
       "\t\t\t\t\t Round 2 | Iteration: 24/70 (34%) | Samples: 2424/7000000\n",
       " \t\t\t\t\t Loss: \u001b[1m242.454651\u001b[0m \n",
       "\t\t\t\t\t ---------"
      ]
     },
     "metadata": {},
     "output_type": "display_data"
    },
    {
     "data": {
      "text/plain": [
       "2025-10-13 07:46:21,515 fedbiomed INFO - \u001b[1mTRAINING\u001b[0m \n",
       "\t\t\t\t\t NODE_ID: NODE_CENTRALIZED \n",
       "\t\t\t\t\t Round 2 | Iteration: 25/70 (36%) | Samples: 2525/7000000\n",
       " \t\t\t\t\t Loss: \u001b[1m239.879333\u001b[0m \n",
       "\t\t\t\t\t ---------"
      ]
     },
     "metadata": {},
     "output_type": "display_data"
    },
    {
     "data": {
      "text/plain": [
       "2025-10-13 07:46:21,543 fedbiomed INFO - \u001b[1mTRAINING\u001b[0m \n",
       "\t\t\t\t\t NODE_ID: NODE_CENTRALIZED \n",
       "\t\t\t\t\t Round 2 | Iteration: 26/70 (37%) | Samples: 2626/7000000\n",
       " \t\t\t\t\t Loss: \u001b[1m237.314240\u001b[0m \n",
       "\t\t\t\t\t ---------"
      ]
     },
     "metadata": {},
     "output_type": "display_data"
    },
    {
     "data": {
      "text/plain": [
       "2025-10-13 07:46:21,575 fedbiomed INFO - \u001b[1mTRAINING\u001b[0m \n",
       "\t\t\t\t\t NODE_ID: NODE_CENTRALIZED \n",
       "\t\t\t\t\t Round 2 | Iteration: 27/70 (39%) | Samples: 2727/7000000\n",
       " \t\t\t\t\t Loss: \u001b[1m234.758896\u001b[0m \n",
       "\t\t\t\t\t ---------"
      ]
     },
     "metadata": {},
     "output_type": "display_data"
    },
    {
     "data": {
      "text/plain": [
       "2025-10-13 07:46:21,584 fedbiomed INFO - \u001b[1mTRAINING\u001b[0m \n",
       "\t\t\t\t\t NODE_ID: NODE_CENTRALIZED \n",
       "\t\t\t\t\t Round 2 | Iteration: 28/70 (40%) | Samples: 2828/7000000\n",
       " \t\t\t\t\t Loss: \u001b[1m232.212646\u001b[0m \n",
       "\t\t\t\t\t ---------"
      ]
     },
     "metadata": {},
     "output_type": "display_data"
    },
    {
     "data": {
      "text/plain": [
       "2025-10-13 07:46:21,585 fedbiomed INFO - \u001b[1mTRAINING\u001b[0m \n",
       "\t\t\t\t\t NODE_ID: NODE_CENTRALIZED \n",
       "\t\t\t\t\t Round 2 | Iteration: 29/70 (41%) | Samples: 2929/7000000\n",
       " \t\t\t\t\t Loss: \u001b[1m229.675018\u001b[0m \n",
       "\t\t\t\t\t ---------"
      ]
     },
     "metadata": {},
     "output_type": "display_data"
    },
    {
     "data": {
      "text/plain": [
       "2025-10-13 07:46:21,586 fedbiomed INFO - \u001b[1mTRAINING\u001b[0m \n",
       "\t\t\t\t\t NODE_ID: NODE_CENTRALIZED \n",
       "\t\t\t\t\t Round 2 | Iteration: 30/70 (43%) | Samples: 3030/7000000\n",
       " \t\t\t\t\t Loss: \u001b[1m227.145447\u001b[0m \n",
       "\t\t\t\t\t ---------"
      ]
     },
     "metadata": {},
     "output_type": "display_data"
    },
    {
     "data": {
      "text/plain": [
       "2025-10-13 07:46:21,588 fedbiomed INFO - \u001b[1mTRAINING\u001b[0m \n",
       "\t\t\t\t\t NODE_ID: NODE_CENTRALIZED \n",
       "\t\t\t\t\t Round 2 | Iteration: 31/70 (44%) | Samples: 3131/7000000\n",
       " \t\t\t\t\t Loss: \u001b[1m224.623428\u001b[0m \n",
       "\t\t\t\t\t ---------"
      ]
     },
     "metadata": {},
     "output_type": "display_data"
    },
    {
     "data": {
      "text/plain": [
       "2025-10-13 07:46:21,589 fedbiomed INFO - \u001b[1mTRAINING\u001b[0m \n",
       "\t\t\t\t\t NODE_ID: NODE_CENTRALIZED \n",
       "\t\t\t\t\t Round 2 | Iteration: 32/70 (46%) | Samples: 3232/7000000\n",
       " \t\t\t\t\t Loss: \u001b[1m222.108566\u001b[0m \n",
       "\t\t\t\t\t ---------"
      ]
     },
     "metadata": {},
     "output_type": "display_data"
    },
    {
     "data": {
      "text/plain": [
       "2025-10-13 07:46:21,603 fedbiomed INFO - \u001b[1mTRAINING\u001b[0m \n",
       "\t\t\t\t\t NODE_ID: NODE_CENTRALIZED \n",
       "\t\t\t\t\t Round 2 | Iteration: 33/70 (47%) | Samples: 3333/7000000\n",
       " \t\t\t\t\t Loss: \u001b[1m219.600388\u001b[0m \n",
       "\t\t\t\t\t ---------"
      ]
     },
     "metadata": {},
     "output_type": "display_data"
    },
    {
     "data": {
      "text/plain": [
       "2025-10-13 07:46:21,619 fedbiomed INFO - \u001b[1mTRAINING\u001b[0m \n",
       "\t\t\t\t\t NODE_ID: NODE_CENTRALIZED \n",
       "\t\t\t\t\t Round 2 | Iteration: 34/70 (49%) | Samples: 3434/7000000\n",
       " \t\t\t\t\t Loss: \u001b[1m217.098465\u001b[0m \n",
       "\t\t\t\t\t ---------"
      ]
     },
     "metadata": {},
     "output_type": "display_data"
    },
    {
     "data": {
      "text/plain": [
       "2025-10-13 07:46:21,639 fedbiomed INFO - \u001b[1mTRAINING\u001b[0m \n",
       "\t\t\t\t\t NODE_ID: NODE_CENTRALIZED \n",
       "\t\t\t\t\t Round 2 | Iteration: 35/70 (50%) | Samples: 3535/7000000\n",
       " \t\t\t\t\t Loss: \u001b[1m214.602539\u001b[0m \n",
       "\t\t\t\t\t ---------"
      ]
     },
     "metadata": {},
     "output_type": "display_data"
    },
    {
     "data": {
      "text/plain": [
       "2025-10-13 07:46:21,663 fedbiomed INFO - \u001b[1mTRAINING\u001b[0m \n",
       "\t\t\t\t\t NODE_ID: NODE_CENTRALIZED \n",
       "\t\t\t\t\t Round 2 | Iteration: 36/70 (51%) | Samples: 3636/7000000\n",
       " \t\t\t\t\t Loss: \u001b[1m212.112305\u001b[0m \n",
       "\t\t\t\t\t ---------"
      ]
     },
     "metadata": {},
     "output_type": "display_data"
    },
    {
     "data": {
      "text/plain": [
       "2025-10-13 07:46:21,675 fedbiomed INFO - \u001b[1mTRAINING\u001b[0m \n",
       "\t\t\t\t\t NODE_ID: NODE_CENTRALIZED \n",
       "\t\t\t\t\t Round 2 | Iteration: 37/70 (53%) | Samples: 3737/7000000\n",
       " \t\t\t\t\t Loss: \u001b[1m209.627457\u001b[0m \n",
       "\t\t\t\t\t ---------"
      ]
     },
     "metadata": {},
     "output_type": "display_data"
    },
    {
     "data": {
      "text/plain": [
       "2025-10-13 07:46:21,701 fedbiomed INFO - \u001b[1mTRAINING\u001b[0m \n",
       "\t\t\t\t\t NODE_ID: NODE_CENTRALIZED \n",
       "\t\t\t\t\t Round 2 | Iteration: 38/70 (54%) | Samples: 3838/7000000\n",
       " \t\t\t\t\t Loss: \u001b[1m207.147812\u001b[0m \n",
       "\t\t\t\t\t ---------"
      ]
     },
     "metadata": {},
     "output_type": "display_data"
    },
    {
     "data": {
      "text/plain": [
       "2025-10-13 07:46:21,719 fedbiomed INFO - \u001b[1mTRAINING\u001b[0m \n",
       "\t\t\t\t\t NODE_ID: NODE_CENTRALIZED \n",
       "\t\t\t\t\t Round 2 | Iteration: 39/70 (56%) | Samples: 3939/7000000\n",
       " \t\t\t\t\t Loss: \u001b[1m204.673218\u001b[0m \n",
       "\t\t\t\t\t ---------"
      ]
     },
     "metadata": {},
     "output_type": "display_data"
    },
    {
     "data": {
      "text/plain": [
       "2025-10-13 07:46:21,731 fedbiomed INFO - \u001b[1mTRAINING\u001b[0m \n",
       "\t\t\t\t\t NODE_ID: NODE_CENTRALIZED \n",
       "\t\t\t\t\t Round 2 | Iteration: 40/70 (57%) | Samples: 4040/7000000\n",
       " \t\t\t\t\t Loss: \u001b[1m202.203476\u001b[0m \n",
       "\t\t\t\t\t ---------"
      ]
     },
     "metadata": {},
     "output_type": "display_data"
    },
    {
     "data": {
      "text/plain": [
       "2025-10-13 07:46:21,757 fedbiomed INFO - \u001b[1mTRAINING\u001b[0m \n",
       "\t\t\t\t\t NODE_ID: NODE_CENTRALIZED \n",
       "\t\t\t\t\t Round 2 | Iteration: 41/70 (59%) | Samples: 4141/7000000\n",
       " \t\t\t\t\t Loss: \u001b[1m199.738388\u001b[0m \n",
       "\t\t\t\t\t ---------"
      ]
     },
     "metadata": {},
     "output_type": "display_data"
    },
    {
     "data": {
      "text/plain": [
       "2025-10-13 07:46:21,779 fedbiomed INFO - \u001b[1mTRAINING\u001b[0m \n",
       "\t\t\t\t\t NODE_ID: NODE_CENTRALIZED \n",
       "\t\t\t\t\t Round 2 | Iteration: 42/70 (60%) | Samples: 4242/7000000\n",
       " \t\t\t\t\t Loss: \u001b[1m197.277817\u001b[0m \n",
       "\t\t\t\t\t ---------"
      ]
     },
     "metadata": {},
     "output_type": "display_data"
    },
    {
     "data": {
      "text/plain": [
       "2025-10-13 07:46:21,791 fedbiomed INFO - \u001b[1mTRAINING\u001b[0m \n",
       "\t\t\t\t\t NODE_ID: NODE_CENTRALIZED \n",
       "\t\t\t\t\t Round 2 | Iteration: 43/70 (61%) | Samples: 4343/7000000\n",
       " \t\t\t\t\t Loss: \u001b[1m194.821487\u001b[0m \n",
       "\t\t\t\t\t ---------"
      ]
     },
     "metadata": {},
     "output_type": "display_data"
    },
    {
     "data": {
      "text/plain": [
       "2025-10-13 07:46:21,814 fedbiomed INFO - \u001b[1mTRAINING\u001b[0m \n",
       "\t\t\t\t\t NODE_ID: NODE_CENTRALIZED \n",
       "\t\t\t\t\t Round 2 | Iteration: 44/70 (63%) | Samples: 4444/7000000\n",
       " \t\t\t\t\t Loss: \u001b[1m192.369278\u001b[0m \n",
       "\t\t\t\t\t ---------"
      ]
     },
     "metadata": {},
     "output_type": "display_data"
    },
    {
     "data": {
      "text/plain": [
       "2025-10-13 07:46:21,839 fedbiomed INFO - \u001b[1mTRAINING\u001b[0m \n",
       "\t\t\t\t\t NODE_ID: NODE_CENTRALIZED \n",
       "\t\t\t\t\t Round 2 | Iteration: 45/70 (64%) | Samples: 4545/7000000\n",
       " \t\t\t\t\t Loss: \u001b[1m189.920975\u001b[0m \n",
       "\t\t\t\t\t ---------"
      ]
     },
     "metadata": {},
     "output_type": "display_data"
    },
    {
     "data": {
      "text/plain": [
       "2025-10-13 07:46:21,848 fedbiomed INFO - \u001b[1mTRAINING\u001b[0m \n",
       "\t\t\t\t\t NODE_ID: NODE_CENTRALIZED \n",
       "\t\t\t\t\t Round 2 | Iteration: 46/70 (66%) | Samples: 4646/7000000\n",
       " \t\t\t\t\t Loss: \u001b[1m187.476364\u001b[0m \n",
       "\t\t\t\t\t ---------"
      ]
     },
     "metadata": {},
     "output_type": "display_data"
    },
    {
     "data": {
      "text/plain": [
       "2025-10-13 07:46:21,871 fedbiomed INFO - \u001b[1mTRAINING\u001b[0m \n",
       "\t\t\t\t\t NODE_ID: NODE_CENTRALIZED \n",
       "\t\t\t\t\t Round 2 | Iteration: 47/70 (67%) | Samples: 4747/7000000\n",
       " \t\t\t\t\t Loss: \u001b[1m185.035400\u001b[0m \n",
       "\t\t\t\t\t ---------"
      ]
     },
     "metadata": {},
     "output_type": "display_data"
    },
    {
     "data": {
      "text/plain": [
       "2025-10-13 07:46:21,899 fedbiomed INFO - \u001b[1mTRAINING\u001b[0m \n",
       "\t\t\t\t\t NODE_ID: NODE_CENTRALIZED \n",
       "\t\t\t\t\t Round 2 | Iteration: 48/70 (69%) | Samples: 4848/7000000\n",
       " \t\t\t\t\t Loss: \u001b[1m182.597549\u001b[0m \n",
       "\t\t\t\t\t ---------"
      ]
     },
     "metadata": {},
     "output_type": "display_data"
    },
    {
     "data": {
      "text/plain": [
       "2025-10-13 07:46:21,919 fedbiomed INFO - \u001b[1mTRAINING\u001b[0m \n",
       "\t\t\t\t\t NODE_ID: NODE_CENTRALIZED \n",
       "\t\t\t\t\t Round 2 | Iteration: 49/70 (70%) | Samples: 4949/7000000\n",
       " \t\t\t\t\t Loss: \u001b[1m180.162720\u001b[0m \n",
       "\t\t\t\t\t ---------"
      ]
     },
     "metadata": {},
     "output_type": "display_data"
    },
    {
     "data": {
      "text/plain": [
       "2025-10-13 07:46:21,935 fedbiomed INFO - \u001b[1mTRAINING\u001b[0m \n",
       "\t\t\t\t\t NODE_ID: NODE_CENTRALIZED \n",
       "\t\t\t\t\t Round 2 | Iteration: 50/70 (71%) | Samples: 5050/7000000\n",
       " \t\t\t\t\t Loss: \u001b[1m177.730545\u001b[0m \n",
       "\t\t\t\t\t ---------"
      ]
     },
     "metadata": {},
     "output_type": "display_data"
    },
    {
     "data": {
      "text/plain": [
       "2025-10-13 07:46:21,951 fedbiomed INFO - \u001b[1mTRAINING\u001b[0m \n",
       "\t\t\t\t\t NODE_ID: NODE_CENTRALIZED \n",
       "\t\t\t\t\t Round 2 | Iteration: 51/70 (73%) | Samples: 5151/7000000\n",
       " \t\t\t\t\t Loss: \u001b[1m175.300888\u001b[0m \n",
       "\t\t\t\t\t ---------"
      ]
     },
     "metadata": {},
     "output_type": "display_data"
    },
    {
     "data": {
      "text/plain": [
       "2025-10-13 07:46:21,967 fedbiomed INFO - \u001b[1mTRAINING\u001b[0m \n",
       "\t\t\t\t\t NODE_ID: NODE_CENTRALIZED \n",
       "\t\t\t\t\t Round 2 | Iteration: 52/70 (74%) | Samples: 5252/7000000\n",
       " \t\t\t\t\t Loss: \u001b[1m172.873489\u001b[0m \n",
       "\t\t\t\t\t ---------"
      ]
     },
     "metadata": {},
     "output_type": "display_data"
    },
    {
     "data": {
      "text/plain": [
       "2025-10-13 07:46:21,992 fedbiomed INFO - \u001b[1mTRAINING\u001b[0m \n",
       "\t\t\t\t\t NODE_ID: NODE_CENTRALIZED \n",
       "\t\t\t\t\t Round 2 | Iteration: 53/70 (76%) | Samples: 5353/7000000\n",
       " \t\t\t\t\t Loss: \u001b[1m170.448120\u001b[0m \n",
       "\t\t\t\t\t ---------"
      ]
     },
     "metadata": {},
     "output_type": "display_data"
    },
    {
     "data": {
      "text/plain": [
       "2025-10-13 07:46:22,012 fedbiomed INFO - \u001b[1mTRAINING\u001b[0m \n",
       "\t\t\t\t\t NODE_ID: NODE_CENTRALIZED \n",
       "\t\t\t\t\t Round 2 | Iteration: 54/70 (77%) | Samples: 5454/7000000\n",
       " \t\t\t\t\t Loss: \u001b[1m168.024536\u001b[0m \n",
       "\t\t\t\t\t ---------"
      ]
     },
     "metadata": {},
     "output_type": "display_data"
    },
    {
     "data": {
      "text/plain": [
       "2025-10-13 07:46:22,032 fedbiomed INFO - \u001b[1mTRAINING\u001b[0m \n",
       "\t\t\t\t\t NODE_ID: NODE_CENTRALIZED \n",
       "\t\t\t\t\t Round 2 | Iteration: 55/70 (79%) | Samples: 5555/7000000\n",
       " \t\t\t\t\t Loss: \u001b[1m165.602600\u001b[0m \n",
       "\t\t\t\t\t ---------"
      ]
     },
     "metadata": {},
     "output_type": "display_data"
    },
    {
     "data": {
      "text/plain": [
       "2025-10-13 07:46:22,060 fedbiomed INFO - \u001b[1mTRAINING\u001b[0m \n",
       "\t\t\t\t\t NODE_ID: NODE_CENTRALIZED \n",
       "\t\t\t\t\t Round 2 | Iteration: 56/70 (80%) | Samples: 5656/7000000\n",
       " \t\t\t\t\t Loss: \u001b[1m163.182098\u001b[0m \n",
       "\t\t\t\t\t ---------"
      ]
     },
     "metadata": {},
     "output_type": "display_data"
    },
    {
     "data": {
      "text/plain": [
       "2025-10-13 07:46:22,091 fedbiomed INFO - \u001b[1mTRAINING\u001b[0m \n",
       "\t\t\t\t\t NODE_ID: NODE_CENTRALIZED \n",
       "\t\t\t\t\t Round 2 | Iteration: 57/70 (81%) | Samples: 5757/7000000\n",
       " \t\t\t\t\t Loss: \u001b[1m160.762756\u001b[0m \n",
       "\t\t\t\t\t ---------"
      ]
     },
     "metadata": {},
     "output_type": "display_data"
    },
    {
     "data": {
      "text/plain": [
       "2025-10-13 07:46:22,123 fedbiomed INFO - \u001b[1mTRAINING\u001b[0m \n",
       "\t\t\t\t\t NODE_ID: NODE_CENTRALIZED \n",
       "\t\t\t\t\t Round 2 | Iteration: 58/70 (83%) | Samples: 5858/7000000\n",
       " \t\t\t\t\t Loss: \u001b[1m158.344513\u001b[0m \n",
       "\t\t\t\t\t ---------"
      ]
     },
     "metadata": {},
     "output_type": "display_data"
    },
    {
     "data": {
      "text/plain": [
       "2025-10-13 07:46:22,148 fedbiomed INFO - \u001b[1mTRAINING\u001b[0m \n",
       "\t\t\t\t\t NODE_ID: NODE_CENTRALIZED \n",
       "\t\t\t\t\t Round 2 | Iteration: 59/70 (84%) | Samples: 5959/7000000\n",
       " \t\t\t\t\t Loss: \u001b[1m155.927094\u001b[0m \n",
       "\t\t\t\t\t ---------"
      ]
     },
     "metadata": {},
     "output_type": "display_data"
    },
    {
     "data": {
      "text/plain": [
       "2025-10-13 07:46:22,168 fedbiomed INFO - \u001b[1mTRAINING\u001b[0m \n",
       "\t\t\t\t\t NODE_ID: NODE_CENTRALIZED \n",
       "\t\t\t\t\t Round 2 | Iteration: 60/70 (86%) | Samples: 6060/7000000\n",
       " \t\t\t\t\t Loss: \u001b[1m153.510315\u001b[0m \n",
       "\t\t\t\t\t ---------"
      ]
     },
     "metadata": {},
     "output_type": "display_data"
    },
    {
     "data": {
      "text/plain": [
       "2025-10-13 07:46:22,189 fedbiomed INFO - \u001b[1mTRAINING\u001b[0m \n",
       "\t\t\t\t\t NODE_ID: NODE_CENTRALIZED \n",
       "\t\t\t\t\t Round 2 | Iteration: 61/70 (87%) | Samples: 6161/7000000\n",
       " \t\t\t\t\t Loss: \u001b[1m151.094055\u001b[0m \n",
       "\t\t\t\t\t ---------"
      ]
     },
     "metadata": {},
     "output_type": "display_data"
    },
    {
     "data": {
      "text/plain": [
       "2025-10-13 07:46:22,212 fedbiomed INFO - \u001b[1mTRAINING\u001b[0m \n",
       "\t\t\t\t\t NODE_ID: NODE_CENTRALIZED \n",
       "\t\t\t\t\t Round 2 | Iteration: 62/70 (89%) | Samples: 6262/7000000\n",
       " \t\t\t\t\t Loss: \u001b[1m148.678146\u001b[0m \n",
       "\t\t\t\t\t ---------"
      ]
     },
     "metadata": {},
     "output_type": "display_data"
    },
    {
     "data": {
      "text/plain": [
       "2025-10-13 07:46:22,232 fedbiomed INFO - \u001b[1mTRAINING\u001b[0m \n",
       "\t\t\t\t\t NODE_ID: NODE_CENTRALIZED \n",
       "\t\t\t\t\t Round 2 | Iteration: 63/70 (90%) | Samples: 6363/7000000\n",
       " \t\t\t\t\t Loss: \u001b[1m146.262405\u001b[0m \n",
       "\t\t\t\t\t ---------"
      ]
     },
     "metadata": {},
     "output_type": "display_data"
    },
    {
     "data": {
      "text/plain": [
       "2025-10-13 07:46:22,256 fedbiomed INFO - \u001b[1mTRAINING\u001b[0m \n",
       "\t\t\t\t\t NODE_ID: NODE_CENTRALIZED \n",
       "\t\t\t\t\t Round 2 | Iteration: 64/70 (91%) | Samples: 6464/7000000\n",
       " \t\t\t\t\t Loss: \u001b[1m143.846771\u001b[0m \n",
       "\t\t\t\t\t ---------"
      ]
     },
     "metadata": {},
     "output_type": "display_data"
    },
    {
     "data": {
      "text/plain": [
       "2025-10-13 07:46:22,284 fedbiomed INFO - \u001b[1mTRAINING\u001b[0m \n",
       "\t\t\t\t\t NODE_ID: NODE_CENTRALIZED \n",
       "\t\t\t\t\t Round 2 | Iteration: 65/70 (93%) | Samples: 6565/7000000\n",
       " \t\t\t\t\t Loss: \u001b[1m141.431152\u001b[0m \n",
       "\t\t\t\t\t ---------"
      ]
     },
     "metadata": {},
     "output_type": "display_data"
    },
    {
     "data": {
      "text/plain": [
       "2025-10-13 07:46:22,304 fedbiomed INFO - \u001b[1mTRAINING\u001b[0m \n",
       "\t\t\t\t\t NODE_ID: NODE_CENTRALIZED \n",
       "\t\t\t\t\t Round 2 | Iteration: 66/70 (94%) | Samples: 6666/7000000\n",
       " \t\t\t\t\t Loss: \u001b[1m139.015381\u001b[0m \n",
       "\t\t\t\t\t ---------"
      ]
     },
     "metadata": {},
     "output_type": "display_data"
    },
    {
     "data": {
      "text/plain": [
       "2025-10-13 07:46:22,350 fedbiomed INFO - \u001b[1mTRAINING\u001b[0m \n",
       "\t\t\t\t\t NODE_ID: NODE_CENTRALIZED \n",
       "\t\t\t\t\t Round 2 | Iteration: 67/70 (96%) | Samples: 6767/7000000\n",
       " \t\t\t\t\t Loss: \u001b[1m136.599396\u001b[0m \n",
       "\t\t\t\t\t ---------"
      ]
     },
     "metadata": {},
     "output_type": "display_data"
    },
    {
     "data": {
      "text/plain": [
       "2025-10-13 07:46:22,376 fedbiomed INFO - \u001b[1mTRAINING\u001b[0m \n",
       "\t\t\t\t\t NODE_ID: NODE_CENTRALIZED \n",
       "\t\t\t\t\t Round 2 | Iteration: 68/70 (97%) | Samples: 6868/7000000\n",
       " \t\t\t\t\t Loss: \u001b[1m134.183075\u001b[0m \n",
       "\t\t\t\t\t ---------"
      ]
     },
     "metadata": {},
     "output_type": "display_data"
    },
    {
     "data": {
      "text/plain": [
       "2025-10-13 07:46:22,380 fedbiomed INFO - \u001b[1mTRAINING\u001b[0m \n",
       "\t\t\t\t\t NODE_ID: NODE_CENTRALIZED \n",
       "\t\t\t\t\t Round 2 | Iteration: 69/70 (99%) | Samples: 6969/7000000\n",
       " \t\t\t\t\t Loss: \u001b[1m131.766403\u001b[0m \n",
       "\t\t\t\t\t ---------"
      ]
     },
     "metadata": {},
     "output_type": "display_data"
    },
    {
     "data": {
      "text/plain": [
       "2025-10-13 07:46:22,382 fedbiomed INFO - \u001b[1mTRAINING\u001b[0m \n",
       "\t\t\t\t\t NODE_ID: NODE_CENTRALIZED \n",
       "\t\t\t\t\t Round 2 | Iteration: 70/70 (100%) | Samples: 7070/7000000\n",
       " \t\t\t\t\t Loss: \u001b[1m129.349228\u001b[0m \n",
       "\t\t\t\t\t ---------"
      ]
     },
     "metadata": {},
     "output_type": "display_data"
    },
    {
     "data": {
      "text/plain": [
       "2025-10-13 07:46:22,678 fedbiomed INFO - Nodes that successfully reply in round 1 ['NODE_CENTRALIZED']"
      ]
     },
     "metadata": {},
     "output_type": "display_data"
    },
    {
     "data": {
      "text/plain": [
       "2025-10-13 07:46:22,735 fedbiomed INFO - Sampled nodes in round 2 ['NODE_CENTRALIZED']"
      ]
     },
     "metadata": {},
     "output_type": "display_data"
    },
    {
     "name": "stdout",
     "output_type": "stream",
     "text": [
      "<function extract_symbols at 0x7f920de88d30>\n"
     ]
    },
    {
     "data": {
      "text/plain": [
       "2025-10-13 07:46:22,776 fedbiomed INFO - \u001b[1mSending request\u001b[0m \n",
       "\t\t\t\t\t\u001b[1m To\u001b[0m: NODE_CENTRALIZED \n",
       "\t\t\t\t\t\u001b[1m Request: \u001b[0m: TRAIN\n",
       " -----------------------------------------------------------------"
      ]
     },
     "metadata": {},
     "output_type": "display_data"
    },
    {
     "data": {
      "text/plain": [
       "2025-10-13 07:46:22,851 fedbiomed DEBUG - Node: NODE_CENTRALIZED polling for the tasks"
      ]
     },
     "metadata": {},
     "output_type": "display_data"
    },
    {
     "data": {
      "text/plain": [
       "2025-10-13 07:46:22,943 fedbiomed INFO - \u001b[1mTRAINING\u001b[0m \n",
       "\t\t\t\t\t NODE_ID: NODE_CENTRALIZED \n",
       "\t\t\t\t\t Round 3 | Iteration: 1/70 (1%) | Samples: 101/7000000\n",
       " \t\t\t\t\t Loss: \u001b[1m126.931396\u001b[0m \n",
       "\t\t\t\t\t ---------"
      ]
     },
     "metadata": {},
     "output_type": "display_data"
    },
    {
     "data": {
      "text/plain": [
       "2025-10-13 07:46:22,966 fedbiomed INFO - \u001b[1mTRAINING\u001b[0m \n",
       "\t\t\t\t\t NODE_ID: NODE_CENTRALIZED \n",
       "\t\t\t\t\t Round 3 | Iteration: 2/70 (3%) | Samples: 202/7000000\n",
       " \t\t\t\t\t Loss: \u001b[1m124.460457\u001b[0m \n",
       "\t\t\t\t\t ---------"
      ]
     },
     "metadata": {},
     "output_type": "display_data"
    },
    {
     "data": {
      "text/plain": [
       "2025-10-13 07:46:22,982 fedbiomed INFO - \u001b[1mTRAINING\u001b[0m \n",
       "\t\t\t\t\t NODE_ID: NODE_CENTRALIZED \n",
       "\t\t\t\t\t Round 3 | Iteration: 3/70 (4%) | Samples: 303/7000000\n",
       " \t\t\t\t\t Loss: \u001b[1m121.990875\u001b[0m \n",
       "\t\t\t\t\t ---------"
      ]
     },
     "metadata": {},
     "output_type": "display_data"
    },
    {
     "data": {
      "text/plain": [
       "2025-10-13 07:46:22,997 fedbiomed INFO - \u001b[1mTRAINING\u001b[0m \n",
       "\t\t\t\t\t NODE_ID: NODE_CENTRALIZED \n",
       "\t\t\t\t\t Round 3 | Iteration: 4/70 (6%) | Samples: 404/7000000\n",
       " \t\t\t\t\t Loss: \u001b[1m119.525063\u001b[0m \n",
       "\t\t\t\t\t ---------"
      ]
     },
     "metadata": {},
     "output_type": "display_data"
    },
    {
     "data": {
      "text/plain": [
       "2025-10-13 07:46:23,019 fedbiomed INFO - \u001b[1mTRAINING\u001b[0m \n",
       "\t\t\t\t\t NODE_ID: NODE_CENTRALIZED \n",
       "\t\t\t\t\t Round 3 | Iteration: 5/70 (7%) | Samples: 505/7000000\n",
       " \t\t\t\t\t Loss: \u001b[1m117.063156\u001b[0m \n",
       "\t\t\t\t\t ---------"
      ]
     },
     "metadata": {},
     "output_type": "display_data"
    },
    {
     "data": {
      "text/plain": [
       "2025-10-13 07:46:23,038 fedbiomed INFO - \u001b[1mTRAINING\u001b[0m \n",
       "\t\t\t\t\t NODE_ID: NODE_CENTRALIZED \n",
       "\t\t\t\t\t Round 3 | Iteration: 6/70 (9%) | Samples: 606/7000000\n",
       " \t\t\t\t\t Loss: \u001b[1m114.603531\u001b[0m \n",
       "\t\t\t\t\t ---------"
      ]
     },
     "metadata": {},
     "output_type": "display_data"
    },
    {
     "data": {
      "text/plain": [
       "2025-10-13 07:46:23,057 fedbiomed INFO - \u001b[1mTRAINING\u001b[0m \n",
       "\t\t\t\t\t NODE_ID: NODE_CENTRALIZED \n",
       "\t\t\t\t\t Round 3 | Iteration: 7/70 (10%) | Samples: 707/7000000\n",
       " \t\t\t\t\t Loss: \u001b[1m112.144600\u001b[0m \n",
       "\t\t\t\t\t ---------"
      ]
     },
     "metadata": {},
     "output_type": "display_data"
    },
    {
     "data": {
      "text/plain": [
       "2025-10-13 07:46:23,076 fedbiomed INFO - \u001b[1mTRAINING\u001b[0m \n",
       "\t\t\t\t\t NODE_ID: NODE_CENTRALIZED \n",
       "\t\t\t\t\t Round 3 | Iteration: 8/70 (11%) | Samples: 808/7000000\n",
       " \t\t\t\t\t Loss: \u001b[1m109.685699\u001b[0m \n",
       "\t\t\t\t\t ---------"
      ]
     },
     "metadata": {},
     "output_type": "display_data"
    },
    {
     "data": {
      "text/plain": [
       "2025-10-13 07:46:23,091 fedbiomed INFO - \u001b[1mTRAINING\u001b[0m \n",
       "\t\t\t\t\t NODE_ID: NODE_CENTRALIZED \n",
       "\t\t\t\t\t Round 3 | Iteration: 9/70 (13%) | Samples: 909/7000000\n",
       " \t\t\t\t\t Loss: \u001b[1m107.226723\u001b[0m \n",
       "\t\t\t\t\t ---------"
      ]
     },
     "metadata": {},
     "output_type": "display_data"
    },
    {
     "data": {
      "text/plain": [
       "2025-10-13 07:46:23,107 fedbiomed INFO - \u001b[1mTRAINING\u001b[0m \n",
       "\t\t\t\t\t NODE_ID: NODE_CENTRALIZED \n",
       "\t\t\t\t\t Round 3 | Iteration: 10/70 (14%) | Samples: 1010/7000000\n",
       " \t\t\t\t\t Loss: \u001b[1m104.767174\u001b[0m \n",
       "\t\t\t\t\t ---------"
      ]
     },
     "metadata": {},
     "output_type": "display_data"
    },
    {
     "data": {
      "text/plain": [
       "2025-10-13 07:46:23,122 fedbiomed INFO - \u001b[1mTRAINING\u001b[0m \n",
       "\t\t\t\t\t NODE_ID: NODE_CENTRALIZED \n",
       "\t\t\t\t\t Round 3 | Iteration: 11/70 (16%) | Samples: 1111/7000000\n",
       " \t\t\t\t\t Loss: \u001b[1m102.306480\u001b[0m \n",
       "\t\t\t\t\t ---------"
      ]
     },
     "metadata": {},
     "output_type": "display_data"
    },
    {
     "data": {
      "text/plain": [
       "2025-10-13 07:46:23,138 fedbiomed INFO - \u001b[1mTRAINING\u001b[0m \n",
       "\t\t\t\t\t NODE_ID: NODE_CENTRALIZED \n",
       "\t\t\t\t\t Round 3 | Iteration: 12/70 (17%) | Samples: 1212/7000000\n",
       " \t\t\t\t\t Loss: \u001b[1m99.844704\u001b[0m \n",
       "\t\t\t\t\t ---------"
      ]
     },
     "metadata": {},
     "output_type": "display_data"
    },
    {
     "data": {
      "text/plain": [
       "2025-10-13 07:46:23,158 fedbiomed INFO - \u001b[1mTRAINING\u001b[0m \n",
       "\t\t\t\t\t NODE_ID: NODE_CENTRALIZED \n",
       "\t\t\t\t\t Round 3 | Iteration: 13/70 (19%) | Samples: 1313/7000000\n",
       " \t\t\t\t\t Loss: \u001b[1m97.382011\u001b[0m \n",
       "\t\t\t\t\t ---------"
      ]
     },
     "metadata": {},
     "output_type": "display_data"
    },
    {
     "data": {
      "text/plain": [
       "2025-10-13 07:46:23,174 fedbiomed INFO - \u001b[1mTRAINING\u001b[0m \n",
       "\t\t\t\t\t NODE_ID: NODE_CENTRALIZED \n",
       "\t\t\t\t\t Round 3 | Iteration: 14/70 (20%) | Samples: 1414/7000000\n",
       " \t\t\t\t\t Loss: \u001b[1m94.918442\u001b[0m \n",
       "\t\t\t\t\t ---------"
      ]
     },
     "metadata": {},
     "output_type": "display_data"
    },
    {
     "data": {
      "text/plain": [
       "2025-10-13 07:46:23,197 fedbiomed INFO - \u001b[1mTRAINING\u001b[0m \n",
       "\t\t\t\t\t NODE_ID: NODE_CENTRALIZED \n",
       "\t\t\t\t\t Round 3 | Iteration: 15/70 (21%) | Samples: 1515/7000000\n",
       " \t\t\t\t\t Loss: \u001b[1m92.454170\u001b[0m \n",
       "\t\t\t\t\t ---------"
      ]
     },
     "metadata": {},
     "output_type": "display_data"
    },
    {
     "data": {
      "text/plain": [
       "2025-10-13 07:46:23,220 fedbiomed INFO - \u001b[1mTRAINING\u001b[0m \n",
       "\t\t\t\t\t NODE_ID: NODE_CENTRALIZED \n",
       "\t\t\t\t\t Round 3 | Iteration: 16/70 (23%) | Samples: 1616/7000000\n",
       " \t\t\t\t\t Loss: \u001b[1m89.989319\u001b[0m \n",
       "\t\t\t\t\t ---------"
      ]
     },
     "metadata": {},
     "output_type": "display_data"
    },
    {
     "data": {
      "text/plain": [
       "2025-10-13 07:46:23,241 fedbiomed INFO - \u001b[1mTRAINING\u001b[0m \n",
       "\t\t\t\t\t NODE_ID: NODE_CENTRALIZED \n",
       "\t\t\t\t\t Round 3 | Iteration: 17/70 (24%) | Samples: 1717/7000000\n",
       " \t\t\t\t\t Loss: \u001b[1m87.523682\u001b[0m \n",
       "\t\t\t\t\t ---------"
      ]
     },
     "metadata": {},
     "output_type": "display_data"
    },
    {
     "data": {
      "text/plain": [
       "2025-10-13 07:46:23,262 fedbiomed INFO - \u001b[1mTRAINING\u001b[0m \n",
       "\t\t\t\t\t NODE_ID: NODE_CENTRALIZED \n",
       "\t\t\t\t\t Round 3 | Iteration: 18/70 (26%) | Samples: 1818/7000000\n",
       " \t\t\t\t\t Loss: \u001b[1m85.057121\u001b[0m \n",
       "\t\t\t\t\t ---------"
      ]
     },
     "metadata": {},
     "output_type": "display_data"
    },
    {
     "data": {
      "text/plain": [
       "2025-10-13 07:46:23,281 fedbiomed INFO - \u001b[1mTRAINING\u001b[0m \n",
       "\t\t\t\t\t NODE_ID: NODE_CENTRALIZED \n",
       "\t\t\t\t\t Round 3 | Iteration: 19/70 (27%) | Samples: 1919/7000000\n",
       " \t\t\t\t\t Loss: \u001b[1m82.589958\u001b[0m \n",
       "\t\t\t\t\t ---------"
      ]
     },
     "metadata": {},
     "output_type": "display_data"
    },
    {
     "data": {
      "text/plain": [
       "2025-10-13 07:46:23,306 fedbiomed INFO - \u001b[1mTRAINING\u001b[0m \n",
       "\t\t\t\t\t NODE_ID: NODE_CENTRALIZED \n",
       "\t\t\t\t\t Round 3 | Iteration: 20/70 (29%) | Samples: 2020/7000000\n",
       " \t\t\t\t\t Loss: \u001b[1m80.122238\u001b[0m \n",
       "\t\t\t\t\t ---------"
      ]
     },
     "metadata": {},
     "output_type": "display_data"
    },
    {
     "data": {
      "text/plain": [
       "2025-10-13 07:46:23,329 fedbiomed INFO - \u001b[1mTRAINING\u001b[0m \n",
       "\t\t\t\t\t NODE_ID: NODE_CENTRALIZED \n",
       "\t\t\t\t\t Round 3 | Iteration: 21/70 (30%) | Samples: 2121/7000000\n",
       " \t\t\t\t\t Loss: \u001b[1m77.653595\u001b[0m \n",
       "\t\t\t\t\t ---------"
      ]
     },
     "metadata": {},
     "output_type": "display_data"
    },
    {
     "data": {
      "text/plain": [
       "2025-10-13 07:46:23,352 fedbiomed INFO - \u001b[1mTRAINING\u001b[0m \n",
       "\t\t\t\t\t NODE_ID: NODE_CENTRALIZED \n",
       "\t\t\t\t\t Round 3 | Iteration: 22/70 (31%) | Samples: 2222/7000000\n",
       " \t\t\t\t\t Loss: \u001b[1m75.183754\u001b[0m \n",
       "\t\t\t\t\t ---------"
      ]
     },
     "metadata": {},
     "output_type": "display_data"
    },
    {
     "data": {
      "text/plain": [
       "2025-10-13 07:46:23,376 fedbiomed INFO - \u001b[1mTRAINING\u001b[0m \n",
       "\t\t\t\t\t NODE_ID: NODE_CENTRALIZED \n",
       "\t\t\t\t\t Round 3 | Iteration: 23/70 (33%) | Samples: 2323/7000000\n",
       " \t\t\t\t\t Loss: \u001b[1m72.713036\u001b[0m \n",
       "\t\t\t\t\t ---------"
      ]
     },
     "metadata": {},
     "output_type": "display_data"
    },
    {
     "data": {
      "text/plain": [
       "2025-10-13 07:46:23,402 fedbiomed INFO - \u001b[1mTRAINING\u001b[0m \n",
       "\t\t\t\t\t NODE_ID: NODE_CENTRALIZED \n",
       "\t\t\t\t\t Round 3 | Iteration: 24/70 (34%) | Samples: 2424/7000000\n",
       " \t\t\t\t\t Loss: \u001b[1m70.241219\u001b[0m \n",
       "\t\t\t\t\t ---------"
      ]
     },
     "metadata": {},
     "output_type": "display_data"
    },
    {
     "data": {
      "text/plain": [
       "2025-10-13 07:46:23,421 fedbiomed INFO - \u001b[1mTRAINING\u001b[0m \n",
       "\t\t\t\t\t NODE_ID: NODE_CENTRALIZED \n",
       "\t\t\t\t\t Round 3 | Iteration: 25/70 (36%) | Samples: 2525/7000000\n",
       " \t\t\t\t\t Loss: \u001b[1m67.768456\u001b[0m \n",
       "\t\t\t\t\t ---------"
      ]
     },
     "metadata": {},
     "output_type": "display_data"
    },
    {
     "data": {
      "text/plain": [
       "2025-10-13 07:46:23,440 fedbiomed INFO - \u001b[1mTRAINING\u001b[0m \n",
       "\t\t\t\t\t NODE_ID: NODE_CENTRALIZED \n",
       "\t\t\t\t\t Round 3 | Iteration: 26/70 (37%) | Samples: 2626/7000000\n",
       " \t\t\t\t\t Loss: \u001b[1m65.295074\u001b[0m \n",
       "\t\t\t\t\t ---------"
      ]
     },
     "metadata": {},
     "output_type": "display_data"
    },
    {
     "data": {
      "text/plain": [
       "2025-10-13 07:46:23,468 fedbiomed INFO - \u001b[1mTRAINING\u001b[0m \n",
       "\t\t\t\t\t NODE_ID: NODE_CENTRALIZED \n",
       "\t\t\t\t\t Round 3 | Iteration: 27/70 (39%) | Samples: 2727/7000000\n",
       " \t\t\t\t\t Loss: \u001b[1m62.821064\u001b[0m \n",
       "\t\t\t\t\t ---------"
      ]
     },
     "metadata": {},
     "output_type": "display_data"
    },
    {
     "data": {
      "text/plain": [
       "2025-10-13 07:46:23,488 fedbiomed INFO - \u001b[1mTRAINING\u001b[0m \n",
       "\t\t\t\t\t NODE_ID: NODE_CENTRALIZED \n",
       "\t\t\t\t\t Round 3 | Iteration: 28/70 (40%) | Samples: 2828/7000000\n",
       " \t\t\t\t\t Loss: \u001b[1m60.346432\u001b[0m \n",
       "\t\t\t\t\t ---------"
      ]
     },
     "metadata": {},
     "output_type": "display_data"
    },
    {
     "data": {
      "text/plain": [
       "2025-10-13 07:46:23,503 fedbiomed INFO - \u001b[1mTRAINING\u001b[0m \n",
       "\t\t\t\t\t NODE_ID: NODE_CENTRALIZED \n",
       "\t\t\t\t\t Round 3 | Iteration: 29/70 (41%) | Samples: 2929/7000000\n",
       " \t\t\t\t\t Loss: \u001b[1m57.871143\u001b[0m \n",
       "\t\t\t\t\t ---------"
      ]
     },
     "metadata": {},
     "output_type": "display_data"
    },
    {
     "data": {
      "text/plain": [
       "2025-10-13 07:46:23,518 fedbiomed INFO - \u001b[1mTRAINING\u001b[0m \n",
       "\t\t\t\t\t NODE_ID: NODE_CENTRALIZED \n",
       "\t\t\t\t\t Round 3 | Iteration: 30/70 (43%) | Samples: 3030/7000000\n",
       " \t\t\t\t\t Loss: \u001b[1m55.394970\u001b[0m \n",
       "\t\t\t\t\t ---------"
      ]
     },
     "metadata": {},
     "output_type": "display_data"
    },
    {
     "data": {
      "text/plain": [
       "2025-10-13 07:46:23,534 fedbiomed INFO - \u001b[1mTRAINING\u001b[0m \n",
       "\t\t\t\t\t NODE_ID: NODE_CENTRALIZED \n",
       "\t\t\t\t\t Round 3 | Iteration: 31/70 (44%) | Samples: 3131/7000000\n",
       " \t\t\t\t\t Loss: \u001b[1m52.918148\u001b[0m \n",
       "\t\t\t\t\t ---------"
      ]
     },
     "metadata": {},
     "output_type": "display_data"
    },
    {
     "data": {
      "text/plain": [
       "2025-10-13 07:46:23,550 fedbiomed INFO - \u001b[1mTRAINING\u001b[0m \n",
       "\t\t\t\t\t NODE_ID: NODE_CENTRALIZED \n",
       "\t\t\t\t\t Round 3 | Iteration: 32/70 (46%) | Samples: 3232/7000000\n",
       " \t\t\t\t\t Loss: \u001b[1m50.440727\u001b[0m \n",
       "\t\t\t\t\t ---------"
      ]
     },
     "metadata": {},
     "output_type": "display_data"
    },
    {
     "data": {
      "text/plain": [
       "2025-10-13 07:46:23,566 fedbiomed INFO - \u001b[1mTRAINING\u001b[0m \n",
       "\t\t\t\t\t NODE_ID: NODE_CENTRALIZED \n",
       "\t\t\t\t\t Round 3 | Iteration: 33/70 (47%) | Samples: 3333/7000000\n",
       " \t\t\t\t\t Loss: \u001b[1m47.962666\u001b[0m \n",
       "\t\t\t\t\t ---------"
      ]
     },
     "metadata": {},
     "output_type": "display_data"
    },
    {
     "data": {
      "text/plain": [
       "2025-10-13 07:46:23,583 fedbiomed INFO - \u001b[1mTRAINING\u001b[0m \n",
       "\t\t\t\t\t NODE_ID: NODE_CENTRALIZED \n",
       "\t\t\t\t\t Round 3 | Iteration: 34/70 (49%) | Samples: 3434/7000000\n",
       " \t\t\t\t\t Loss: \u001b[1m45.484200\u001b[0m \n",
       "\t\t\t\t\t ---------"
      ]
     },
     "metadata": {},
     "output_type": "display_data"
    },
    {
     "data": {
      "text/plain": [
       "2025-10-13 07:46:23,598 fedbiomed INFO - \u001b[1mTRAINING\u001b[0m \n",
       "\t\t\t\t\t NODE_ID: NODE_CENTRALIZED \n",
       "\t\t\t\t\t Round 3 | Iteration: 35/70 (50%) | Samples: 3535/7000000\n",
       " \t\t\t\t\t Loss: \u001b[1m43.005322\u001b[0m \n",
       "\t\t\t\t\t ---------"
      ]
     },
     "metadata": {},
     "output_type": "display_data"
    },
    {
     "data": {
      "text/plain": [
       "2025-10-13 07:46:23,613 fedbiomed INFO - \u001b[1mTRAINING\u001b[0m \n",
       "\t\t\t\t\t NODE_ID: NODE_CENTRALIZED \n",
       "\t\t\t\t\t Round 3 | Iteration: 36/70 (51%) | Samples: 3636/7000000\n",
       " \t\t\t\t\t Loss: \u001b[1m40.525860\u001b[0m \n",
       "\t\t\t\t\t ---------"
      ]
     },
     "metadata": {},
     "output_type": "display_data"
    },
    {
     "data": {
      "text/plain": [
       "2025-10-13 07:46:23,630 fedbiomed INFO - \u001b[1mTRAINING\u001b[0m \n",
       "\t\t\t\t\t NODE_ID: NODE_CENTRALIZED \n",
       "\t\t\t\t\t Round 3 | Iteration: 37/70 (53%) | Samples: 3737/7000000\n",
       " \t\t\t\t\t Loss: \u001b[1m38.045864\u001b[0m \n",
       "\t\t\t\t\t ---------"
      ]
     },
     "metadata": {},
     "output_type": "display_data"
    },
    {
     "data": {
      "text/plain": [
       "2025-10-13 07:46:23,653 fedbiomed INFO - \u001b[1mTRAINING\u001b[0m \n",
       "\t\t\t\t\t NODE_ID: NODE_CENTRALIZED \n",
       "\t\t\t\t\t Round 3 | Iteration: 38/70 (54%) | Samples: 3838/7000000\n",
       " \t\t\t\t\t Loss: \u001b[1m35.565689\u001b[0m \n",
       "\t\t\t\t\t ---------"
      ]
     },
     "metadata": {},
     "output_type": "display_data"
    },
    {
     "data": {
      "text/plain": [
       "2025-10-13 07:46:23,668 fedbiomed INFO - \u001b[1mTRAINING\u001b[0m \n",
       "\t\t\t\t\t NODE_ID: NODE_CENTRALIZED \n",
       "\t\t\t\t\t Round 3 | Iteration: 39/70 (56%) | Samples: 3939/7000000\n",
       " \t\t\t\t\t Loss: \u001b[1m33.085541\u001b[0m \n",
       "\t\t\t\t\t ---------"
      ]
     },
     "metadata": {},
     "output_type": "display_data"
    },
    {
     "data": {
      "text/plain": [
       "2025-10-13 07:46:23,683 fedbiomed INFO - \u001b[1mTRAINING\u001b[0m \n",
       "\t\t\t\t\t NODE_ID: NODE_CENTRALIZED \n",
       "\t\t\t\t\t Round 3 | Iteration: 40/70 (57%) | Samples: 4040/7000000\n",
       " \t\t\t\t\t Loss: \u001b[1m30.605368\u001b[0m \n",
       "\t\t\t\t\t ---------"
      ]
     },
     "metadata": {},
     "output_type": "display_data"
    },
    {
     "data": {
      "text/plain": [
       "2025-10-13 07:46:23,699 fedbiomed INFO - \u001b[1mTRAINING\u001b[0m \n",
       "\t\t\t\t\t NODE_ID: NODE_CENTRALIZED \n",
       "\t\t\t\t\t Round 3 | Iteration: 41/70 (59%) | Samples: 4141/7000000\n",
       " \t\t\t\t\t Loss: \u001b[1m28.125141\u001b[0m \n",
       "\t\t\t\t\t ---------"
      ]
     },
     "metadata": {},
     "output_type": "display_data"
    },
    {
     "data": {
      "text/plain": [
       "2025-10-13 07:46:23,714 fedbiomed INFO - \u001b[1mTRAINING\u001b[0m \n",
       "\t\t\t\t\t NODE_ID: NODE_CENTRALIZED \n",
       "\t\t\t\t\t Round 3 | Iteration: 42/70 (60%) | Samples: 4242/7000000\n",
       " \t\t\t\t\t Loss: \u001b[1m25.644861\u001b[0m \n",
       "\t\t\t\t\t ---------"
      ]
     },
     "metadata": {},
     "output_type": "display_data"
    },
    {
     "data": {
      "text/plain": [
       "2025-10-13 07:46:23,729 fedbiomed INFO - \u001b[1mTRAINING\u001b[0m \n",
       "\t\t\t\t\t NODE_ID: NODE_CENTRALIZED \n",
       "\t\t\t\t\t Round 3 | Iteration: 43/70 (61%) | Samples: 4343/7000000\n",
       " \t\t\t\t\t Loss: \u001b[1m23.164562\u001b[0m \n",
       "\t\t\t\t\t ---------"
      ]
     },
     "metadata": {},
     "output_type": "display_data"
    },
    {
     "data": {
      "text/plain": [
       "2025-10-13 07:46:23,744 fedbiomed INFO - \u001b[1mTRAINING\u001b[0m \n",
       "\t\t\t\t\t NODE_ID: NODE_CENTRALIZED \n",
       "\t\t\t\t\t Round 3 | Iteration: 44/70 (63%) | Samples: 4444/7000000\n",
       " \t\t\t\t\t Loss: \u001b[1m20.684597\u001b[0m \n",
       "\t\t\t\t\t ---------"
      ]
     },
     "metadata": {},
     "output_type": "display_data"
    },
    {
     "data": {
      "text/plain": [
       "2025-10-13 07:46:23,760 fedbiomed INFO - \u001b[1mTRAINING\u001b[0m \n",
       "\t\t\t\t\t NODE_ID: NODE_CENTRALIZED \n",
       "\t\t\t\t\t Round 3 | Iteration: 45/70 (64%) | Samples: 4545/7000000\n",
       " \t\t\t\t\t Loss: \u001b[1m18.204973\u001b[0m \n",
       "\t\t\t\t\t ---------"
      ]
     },
     "metadata": {},
     "output_type": "display_data"
    },
    {
     "data": {
      "text/plain": [
       "2025-10-13 07:46:23,774 fedbiomed INFO - \u001b[1mTRAINING\u001b[0m \n",
       "\t\t\t\t\t NODE_ID: NODE_CENTRALIZED \n",
       "\t\t\t\t\t Round 3 | Iteration: 46/70 (66%) | Samples: 4646/7000000\n",
       " \t\t\t\t\t Loss: \u001b[1m15.726068\u001b[0m \n",
       "\t\t\t\t\t ---------"
      ]
     },
     "metadata": {},
     "output_type": "display_data"
    },
    {
     "data": {
      "text/plain": [
       "2025-10-13 07:46:23,790 fedbiomed INFO - \u001b[1mTRAINING\u001b[0m \n",
       "\t\t\t\t\t NODE_ID: NODE_CENTRALIZED \n",
       "\t\t\t\t\t Round 3 | Iteration: 47/70 (67%) | Samples: 4747/7000000\n",
       " \t\t\t\t\t Loss: \u001b[1m13.247368\u001b[0m \n",
       "\t\t\t\t\t ---------"
      ]
     },
     "metadata": {},
     "output_type": "display_data"
    },
    {
     "data": {
      "text/plain": [
       "2025-10-13 07:46:23,816 fedbiomed INFO - \u001b[1mTRAINING\u001b[0m \n",
       "\t\t\t\t\t NODE_ID: NODE_CENTRALIZED \n",
       "\t\t\t\t\t Round 3 | Iteration: 48/70 (69%) | Samples: 4848/7000000\n",
       " \t\t\t\t\t Loss: \u001b[1m10.769303\u001b[0m \n",
       "\t\t\t\t\t ---------"
      ]
     },
     "metadata": {},
     "output_type": "display_data"
    },
    {
     "data": {
      "text/plain": [
       "2025-10-13 07:46:23,835 fedbiomed INFO - \u001b[1mTRAINING\u001b[0m \n",
       "\t\t\t\t\t NODE_ID: NODE_CENTRALIZED \n",
       "\t\t\t\t\t Round 3 | Iteration: 49/70 (70%) | Samples: 4949/7000000\n",
       " \t\t\t\t\t Loss: \u001b[1m8.292341\u001b[0m \n",
       "\t\t\t\t\t ---------"
      ]
     },
     "metadata": {},
     "output_type": "display_data"
    },
    {
     "data": {
      "text/plain": [
       "2025-10-13 07:46:23,852 fedbiomed INFO - \u001b[1mTRAINING\u001b[0m \n",
       "\t\t\t\t\t NODE_ID: NODE_CENTRALIZED \n",
       "\t\t\t\t\t Round 3 | Iteration: 50/70 (71%) | Samples: 5050/7000000\n",
       " \t\t\t\t\t Loss: \u001b[1m5.816218\u001b[0m \n",
       "\t\t\t\t\t ---------"
      ]
     },
     "metadata": {},
     "output_type": "display_data"
    },
    {
     "data": {
      "text/plain": [
       "2025-10-13 07:46:23,877 fedbiomed INFO - \u001b[1mTRAINING\u001b[0m \n",
       "\t\t\t\t\t NODE_ID: NODE_CENTRALIZED \n",
       "\t\t\t\t\t Round 3 | Iteration: 51/70 (73%) | Samples: 5151/7000000\n",
       " \t\t\t\t\t Loss: \u001b[1m3.340721\u001b[0m \n",
       "\t\t\t\t\t ---------"
      ]
     },
     "metadata": {},
     "output_type": "display_data"
    },
    {
     "data": {
      "text/plain": [
       "2025-10-13 07:46:23,896 fedbiomed INFO - \u001b[1mTRAINING\u001b[0m \n",
       "\t\t\t\t\t NODE_ID: NODE_CENTRALIZED \n",
       "\t\t\t\t\t Round 3 | Iteration: 52/70 (74%) | Samples: 5252/7000000\n",
       " \t\t\t\t\t Loss: \u001b[1m0.866346\u001b[0m \n",
       "\t\t\t\t\t ---------"
      ]
     },
     "metadata": {},
     "output_type": "display_data"
    },
    {
     "data": {
      "text/plain": [
       "2025-10-13 07:46:23,919 fedbiomed INFO - \u001b[1mTRAINING\u001b[0m \n",
       "\t\t\t\t\t NODE_ID: NODE_CENTRALIZED \n",
       "\t\t\t\t\t Round 3 | Iteration: 53/70 (76%) | Samples: 5353/7000000\n",
       " \t\t\t\t\t Loss: \u001b[1m-1.606839\u001b[0m \n",
       "\t\t\t\t\t ---------"
      ]
     },
     "metadata": {},
     "output_type": "display_data"
    },
    {
     "data": {
      "text/plain": [
       "2025-10-13 07:46:23,934 fedbiomed INFO - \u001b[1mTRAINING\u001b[0m \n",
       "\t\t\t\t\t NODE_ID: NODE_CENTRALIZED \n",
       "\t\t\t\t\t Round 3 | Iteration: 54/70 (77%) | Samples: 5454/7000000\n",
       " \t\t\t\t\t Loss: \u001b[1m-4.078382\u001b[0m \n",
       "\t\t\t\t\t ---------"
      ]
     },
     "metadata": {},
     "output_type": "display_data"
    },
    {
     "data": {
      "text/plain": [
       "2025-10-13 07:46:23,950 fedbiomed INFO - \u001b[1mTRAINING\u001b[0m \n",
       "\t\t\t\t\t NODE_ID: NODE_CENTRALIZED \n",
       "\t\t\t\t\t Round 3 | Iteration: 55/70 (79%) | Samples: 5555/7000000\n",
       " \t\t\t\t\t Loss: \u001b[1m-6.549218\u001b[0m \n",
       "\t\t\t\t\t ---------"
      ]
     },
     "metadata": {},
     "output_type": "display_data"
    },
    {
     "data": {
      "text/plain": [
       "2025-10-13 07:46:23,966 fedbiomed INFO - \u001b[1mTRAINING\u001b[0m \n",
       "\t\t\t\t\t NODE_ID: NODE_CENTRALIZED \n",
       "\t\t\t\t\t Round 3 | Iteration: 56/70 (80%) | Samples: 5656/7000000\n",
       " \t\t\t\t\t Loss: \u001b[1m-9.017842\u001b[0m \n",
       "\t\t\t\t\t ---------"
      ]
     },
     "metadata": {},
     "output_type": "display_data"
    },
    {
     "data": {
      "text/plain": [
       "2025-10-13 07:46:23,981 fedbiomed INFO - \u001b[1mTRAINING\u001b[0m \n",
       "\t\t\t\t\t NODE_ID: NODE_CENTRALIZED \n",
       "\t\t\t\t\t Round 3 | Iteration: 57/70 (81%) | Samples: 5757/7000000\n",
       " \t\t\t\t\t Loss: \u001b[1m-11.484854\u001b[0m \n",
       "\t\t\t\t\t ---------"
      ]
     },
     "metadata": {},
     "output_type": "display_data"
    },
    {
     "data": {
      "text/plain": [
       "2025-10-13 07:46:23,996 fedbiomed INFO - \u001b[1mTRAINING\u001b[0m \n",
       "\t\t\t\t\t NODE_ID: NODE_CENTRALIZED \n",
       "\t\t\t\t\t Round 3 | Iteration: 58/70 (83%) | Samples: 5858/7000000\n",
       " \t\t\t\t\t Loss: \u001b[1m-13.950501\u001b[0m \n",
       "\t\t\t\t\t ---------"
      ]
     },
     "metadata": {},
     "output_type": "display_data"
    },
    {
     "data": {
      "text/plain": [
       "2025-10-13 07:46:24,012 fedbiomed INFO - \u001b[1mTRAINING\u001b[0m \n",
       "\t\t\t\t\t NODE_ID: NODE_CENTRALIZED \n",
       "\t\t\t\t\t Round 3 | Iteration: 59/70 (84%) | Samples: 5959/7000000\n",
       " \t\t\t\t\t Loss: \u001b[1m-16.413584\u001b[0m \n",
       "\t\t\t\t\t ---------"
      ]
     },
     "metadata": {},
     "output_type": "display_data"
    },
    {
     "data": {
      "text/plain": [
       "2025-10-13 07:46:24,027 fedbiomed INFO - \u001b[1mTRAINING\u001b[0m \n",
       "\t\t\t\t\t NODE_ID: NODE_CENTRALIZED \n",
       "\t\t\t\t\t Round 3 | Iteration: 60/70 (86%) | Samples: 6060/7000000\n",
       " \t\t\t\t\t Loss: \u001b[1m-18.874392\u001b[0m \n",
       "\t\t\t\t\t ---------"
      ]
     },
     "metadata": {},
     "output_type": "display_data"
    },
    {
     "data": {
      "text/plain": [
       "2025-10-13 07:46:24,043 fedbiomed INFO - \u001b[1mTRAINING\u001b[0m \n",
       "\t\t\t\t\t NODE_ID: NODE_CENTRALIZED \n",
       "\t\t\t\t\t Round 3 | Iteration: 61/70 (87%) | Samples: 6161/7000000\n",
       " \t\t\t\t\t Loss: \u001b[1m-21.332470\u001b[0m \n",
       "\t\t\t\t\t ---------"
      ]
     },
     "metadata": {},
     "output_type": "display_data"
    },
    {
     "data": {
      "text/plain": [
       "2025-10-13 07:46:24,058 fedbiomed INFO - \u001b[1mTRAINING\u001b[0m \n",
       "\t\t\t\t\t NODE_ID: NODE_CENTRALIZED \n",
       "\t\t\t\t\t Round 3 | Iteration: 62/70 (89%) | Samples: 6262/7000000\n",
       " \t\t\t\t\t Loss: \u001b[1m-23.785786\u001b[0m \n",
       "\t\t\t\t\t ---------"
      ]
     },
     "metadata": {},
     "output_type": "display_data"
    },
    {
     "data": {
      "text/plain": [
       "2025-10-13 07:46:24,081 fedbiomed INFO - \u001b[1mTRAINING\u001b[0m \n",
       "\t\t\t\t\t NODE_ID: NODE_CENTRALIZED \n",
       "\t\t\t\t\t Round 3 | Iteration: 63/70 (90%) | Samples: 6363/7000000\n",
       " \t\t\t\t\t Loss: \u001b[1m-26.241030\u001b[0m \n",
       "\t\t\t\t\t ---------"
      ]
     },
     "metadata": {},
     "output_type": "display_data"
    },
    {
     "data": {
      "text/plain": [
       "2025-10-13 07:46:24,096 fedbiomed INFO - \u001b[1mTRAINING\u001b[0m \n",
       "\t\t\t\t\t NODE_ID: NODE_CENTRALIZED \n",
       "\t\t\t\t\t Round 3 | Iteration: 64/70 (91%) | Samples: 6464/7000000\n",
       " \t\t\t\t\t Loss: \u001b[1m-28.697201\u001b[0m \n",
       "\t\t\t\t\t ---------"
      ]
     },
     "metadata": {},
     "output_type": "display_data"
    },
    {
     "data": {
      "text/plain": [
       "2025-10-13 07:46:24,112 fedbiomed INFO - \u001b[1mTRAINING\u001b[0m \n",
       "\t\t\t\t\t NODE_ID: NODE_CENTRALIZED \n",
       "\t\t\t\t\t Round 3 | Iteration: 65/70 (93%) | Samples: 6565/7000000\n",
       " \t\t\t\t\t Loss: \u001b[1m-31.144356\u001b[0m \n",
       "\t\t\t\t\t ---------"
      ]
     },
     "metadata": {},
     "output_type": "display_data"
    },
    {
     "data": {
      "text/plain": [
       "2025-10-13 07:46:24,127 fedbiomed INFO - \u001b[1mTRAINING\u001b[0m \n",
       "\t\t\t\t\t NODE_ID: NODE_CENTRALIZED \n",
       "\t\t\t\t\t Round 3 | Iteration: 66/70 (94%) | Samples: 6666/7000000\n",
       " \t\t\t\t\t Loss: \u001b[1m-33.590652\u001b[0m \n",
       "\t\t\t\t\t ---------"
      ]
     },
     "metadata": {},
     "output_type": "display_data"
    },
    {
     "data": {
      "text/plain": [
       "2025-10-13 07:46:24,142 fedbiomed INFO - \u001b[1mTRAINING\u001b[0m \n",
       "\t\t\t\t\t NODE_ID: NODE_CENTRALIZED \n",
       "\t\t\t\t\t Round 3 | Iteration: 67/70 (96%) | Samples: 6767/7000000\n",
       " \t\t\t\t\t Loss: \u001b[1m-36.036064\u001b[0m \n",
       "\t\t\t\t\t ---------"
      ]
     },
     "metadata": {},
     "output_type": "display_data"
    },
    {
     "data": {
      "text/plain": [
       "2025-10-13 07:46:24,157 fedbiomed INFO - \u001b[1mTRAINING\u001b[0m \n",
       "\t\t\t\t\t NODE_ID: NODE_CENTRALIZED \n",
       "\t\t\t\t\t Round 3 | Iteration: 68/70 (97%) | Samples: 6868/7000000\n",
       " \t\t\t\t\t Loss: \u001b[1m-38.476276\u001b[0m \n",
       "\t\t\t\t\t ---------"
      ]
     },
     "metadata": {},
     "output_type": "display_data"
    },
    {
     "data": {
      "text/plain": [
       "2025-10-13 07:46:24,173 fedbiomed INFO - \u001b[1mTRAINING\u001b[0m \n",
       "\t\t\t\t\t NODE_ID: NODE_CENTRALIZED \n",
       "\t\t\t\t\t Round 3 | Iteration: 69/70 (99%) | Samples: 6969/7000000\n",
       " \t\t\t\t\t Loss: \u001b[1m-40.913658\u001b[0m \n",
       "\t\t\t\t\t ---------"
      ]
     },
     "metadata": {},
     "output_type": "display_data"
    },
    {
     "data": {
      "text/plain": [
       "2025-10-13 07:46:24,191 fedbiomed INFO - \u001b[1mTRAINING\u001b[0m \n",
       "\t\t\t\t\t NODE_ID: NODE_CENTRALIZED \n",
       "\t\t\t\t\t Round 3 | Iteration: 70/70 (100%) | Samples: 7070/7000000\n",
       " \t\t\t\t\t Loss: \u001b[1m-43.347923\u001b[0m \n",
       "\t\t\t\t\t ---------"
      ]
     },
     "metadata": {},
     "output_type": "display_data"
    },
    {
     "data": {
      "text/plain": [
       "2025-10-13 07:46:24,334 fedbiomed INFO - Nodes that successfully reply in round 2 ['NODE_CENTRALIZED']"
      ]
     },
     "metadata": {},
     "output_type": "display_data"
    },
    {
     "data": {
      "text/plain": [
       "2025-10-13 07:46:24,361 fedbiomed INFO - Sampled nodes in round 3 ['NODE_CENTRALIZED']"
      ]
     },
     "metadata": {},
     "output_type": "display_data"
    },
    {
     "name": "stdout",
     "output_type": "stream",
     "text": [
      "<function extract_symbols at 0x7f920de88d30>\n"
     ]
    },
    {
     "data": {
      "text/plain": [
       "2025-10-13 07:46:24,381 fedbiomed INFO - \u001b[1mSending request\u001b[0m \n",
       "\t\t\t\t\t\u001b[1m To\u001b[0m: NODE_CENTRALIZED \n",
       "\t\t\t\t\t\u001b[1m Request: \u001b[0m: TRAIN\n",
       " -----------------------------------------------------------------"
      ]
     },
     "metadata": {},
     "output_type": "display_data"
    },
    {
     "data": {
      "text/plain": [
       "2025-10-13 07:46:24,440 fedbiomed DEBUG - Node: NODE_CENTRALIZED polling for the tasks"
      ]
     },
     "metadata": {},
     "output_type": "display_data"
    },
    {
     "data": {
      "text/plain": [
       "2025-10-13 07:46:24,531 fedbiomed INFO - \u001b[1mTRAINING\u001b[0m \n",
       "\t\t\t\t\t NODE_ID: NODE_CENTRALIZED \n",
       "\t\t\t\t\t Round 4 | Iteration: 1/70 (1%) | Samples: 101/7000000\n",
       " \t\t\t\t\t Loss: \u001b[1m-45.780640\u001b[0m \n",
       "\t\t\t\t\t ---------"
      ]
     },
     "metadata": {},
     "output_type": "display_data"
    },
    {
     "data": {
      "text/plain": [
       "2025-10-13 07:46:24,564 fedbiomed INFO - \u001b[1mTRAINING\u001b[0m \n",
       "\t\t\t\t\t NODE_ID: NODE_CENTRALIZED \n",
       "\t\t\t\t\t Round 4 | Iteration: 2/70 (3%) | Samples: 202/7000000\n",
       " \t\t\t\t\t Loss: \u001b[1m-47.855186\u001b[0m \n",
       "\t\t\t\t\t ---------"
      ]
     },
     "metadata": {},
     "output_type": "display_data"
    },
    {
     "data": {
      "text/plain": [
       "2025-10-13 07:46:24,584 fedbiomed INFO - \u001b[1mTRAINING\u001b[0m \n",
       "\t\t\t\t\t NODE_ID: NODE_CENTRALIZED \n",
       "\t\t\t\t\t Round 4 | Iteration: 3/70 (4%) | Samples: 303/7000000\n",
       " \t\t\t\t\t Loss: \u001b[1m-50.593365\u001b[0m \n",
       "\t\t\t\t\t ---------"
      ]
     },
     "metadata": {},
     "output_type": "display_data"
    },
    {
     "data": {
      "text/plain": [
       "2025-10-13 07:46:24,606 fedbiomed INFO - \u001b[1mTRAINING\u001b[0m \n",
       "\t\t\t\t\t NODE_ID: NODE_CENTRALIZED \n",
       "\t\t\t\t\t Round 4 | Iteration: 4/70 (6%) | Samples: 404/7000000\n",
       " \t\t\t\t\t Loss: \u001b[1m-52.965397\u001b[0m \n",
       "\t\t\t\t\t ---------"
      ]
     },
     "metadata": {},
     "output_type": "display_data"
    },
    {
     "data": {
      "text/plain": [
       "2025-10-13 07:46:24,624 fedbiomed INFO - \u001b[1mTRAINING\u001b[0m \n",
       "\t\t\t\t\t NODE_ID: NODE_CENTRALIZED \n",
       "\t\t\t\t\t Round 4 | Iteration: 5/70 (7%) | Samples: 505/7000000\n",
       " \t\t\t\t\t Loss: \u001b[1m-55.258446\u001b[0m \n",
       "\t\t\t\t\t ---------"
      ]
     },
     "metadata": {},
     "output_type": "display_data"
    },
    {
     "data": {
      "text/plain": [
       "2025-10-13 07:46:24,648 fedbiomed INFO - \u001b[1mTRAINING\u001b[0m \n",
       "\t\t\t\t\t NODE_ID: NODE_CENTRALIZED \n",
       "\t\t\t\t\t Round 4 | Iteration: 6/70 (9%) | Samples: 606/7000000\n",
       " \t\t\t\t\t Loss: \u001b[1m-57.725513\u001b[0m \n",
       "\t\t\t\t\t ---------"
      ]
     },
     "metadata": {},
     "output_type": "display_data"
    },
    {
     "data": {
      "text/plain": [
       "2025-10-13 07:46:24,669 fedbiomed INFO - \u001b[1mTRAINING\u001b[0m \n",
       "\t\t\t\t\t NODE_ID: NODE_CENTRALIZED \n",
       "\t\t\t\t\t Round 4 | Iteration: 7/70 (10%) | Samples: 707/7000000\n",
       " \t\t\t\t\t Loss: \u001b[1m-60.246902\u001b[0m \n",
       "\t\t\t\t\t ---------"
      ]
     },
     "metadata": {},
     "output_type": "display_data"
    },
    {
     "data": {
      "text/plain": [
       "2025-10-13 07:46:24,697 fedbiomed INFO - \u001b[1mTRAINING\u001b[0m \n",
       "\t\t\t\t\t NODE_ID: NODE_CENTRALIZED \n",
       "\t\t\t\t\t Round 4 | Iteration: 8/70 (11%) | Samples: 808/7000000\n",
       " \t\t\t\t\t Loss: \u001b[1m-62.687012\u001b[0m \n",
       "\t\t\t\t\t ---------"
      ]
     },
     "metadata": {},
     "output_type": "display_data"
    },
    {
     "data": {
      "text/plain": [
       "2025-10-13 07:46:24,714 fedbiomed INFO - \u001b[1mTRAINING\u001b[0m \n",
       "\t\t\t\t\t NODE_ID: NODE_CENTRALIZED \n",
       "\t\t\t\t\t Round 4 | Iteration: 9/70 (13%) | Samples: 909/7000000\n",
       " \t\t\t\t\t Loss: \u001b[1m-65.037651\u001b[0m \n",
       "\t\t\t\t\t ---------"
      ]
     },
     "metadata": {},
     "output_type": "display_data"
    },
    {
     "data": {
      "text/plain": [
       "2025-10-13 07:46:24,729 fedbiomed INFO - \u001b[1mTRAINING\u001b[0m \n",
       "\t\t\t\t\t NODE_ID: NODE_CENTRALIZED \n",
       "\t\t\t\t\t Round 4 | Iteration: 10/70 (14%) | Samples: 1010/7000000\n",
       " \t\t\t\t\t Loss: \u001b[1m-67.396576\u001b[0m \n",
       "\t\t\t\t\t ---------"
      ]
     },
     "metadata": {},
     "output_type": "display_data"
    },
    {
     "data": {
      "text/plain": [
       "2025-10-13 07:46:24,745 fedbiomed INFO - \u001b[1mTRAINING\u001b[0m \n",
       "\t\t\t\t\t NODE_ID: NODE_CENTRALIZED \n",
       "\t\t\t\t\t Round 4 | Iteration: 11/70 (16%) | Samples: 1111/7000000\n",
       " \t\t\t\t\t Loss: \u001b[1m-69.821304\u001b[0m \n",
       "\t\t\t\t\t ---------"
      ]
     },
     "metadata": {},
     "output_type": "display_data"
    },
    {
     "data": {
      "text/plain": [
       "2025-10-13 07:46:24,762 fedbiomed INFO - \u001b[1mTRAINING\u001b[0m \n",
       "\t\t\t\t\t NODE_ID: NODE_CENTRALIZED \n",
       "\t\t\t\t\t Round 4 | Iteration: 12/70 (17%) | Samples: 1212/7000000\n",
       " \t\t\t\t\t Loss: \u001b[1m-72.273392\u001b[0m \n",
       "\t\t\t\t\t ---------"
      ]
     },
     "metadata": {},
     "output_type": "display_data"
    },
    {
     "data": {
      "text/plain": [
       "2025-10-13 07:46:24,778 fedbiomed INFO - \u001b[1mTRAINING\u001b[0m \n",
       "\t\t\t\t\t NODE_ID: NODE_CENTRALIZED \n",
       "\t\t\t\t\t Round 4 | Iteration: 13/70 (19%) | Samples: 1313/7000000\n",
       " \t\t\t\t\t Loss: \u001b[1m-74.689362\u001b[0m \n",
       "\t\t\t\t\t ---------"
      ]
     },
     "metadata": {},
     "output_type": "display_data"
    },
    {
     "data": {
      "text/plain": [
       "2025-10-13 07:46:24,794 fedbiomed INFO - \u001b[1mTRAINING\u001b[0m \n",
       "\t\t\t\t\t NODE_ID: NODE_CENTRALIZED \n",
       "\t\t\t\t\t Round 4 | Iteration: 14/70 (20%) | Samples: 1414/7000000\n",
       " \t\t\t\t\t Loss: \u001b[1m-77.052856\u001b[0m \n",
       "\t\t\t\t\t ---------"
      ]
     },
     "metadata": {},
     "output_type": "display_data"
    },
    {
     "data": {
      "text/plain": [
       "2025-10-13 07:46:24,809 fedbiomed INFO - \u001b[1mTRAINING\u001b[0m \n",
       "\t\t\t\t\t NODE_ID: NODE_CENTRALIZED \n",
       "\t\t\t\t\t Round 4 | Iteration: 15/70 (21%) | Samples: 1515/7000000\n",
       " \t\t\t\t\t Loss: \u001b[1m-79.408630\u001b[0m \n",
       "\t\t\t\t\t ---------"
      ]
     },
     "metadata": {},
     "output_type": "display_data"
    },
    {
     "data": {
      "text/plain": [
       "2025-10-13 07:46:24,825 fedbiomed INFO - \u001b[1mTRAINING\u001b[0m \n",
       "\t\t\t\t\t NODE_ID: NODE_CENTRALIZED \n",
       "\t\t\t\t\t Round 4 | Iteration: 16/70 (23%) | Samples: 1616/7000000\n",
       " \t\t\t\t\t Loss: \u001b[1m-81.796112\u001b[0m \n",
       "\t\t\t\t\t ---------"
      ]
     },
     "metadata": {},
     "output_type": "display_data"
    },
    {
     "data": {
      "text/plain": [
       "2025-10-13 07:46:24,841 fedbiomed INFO - \u001b[1mTRAINING\u001b[0m \n",
       "\t\t\t\t\t NODE_ID: NODE_CENTRALIZED \n",
       "\t\t\t\t\t Round 4 | Iteration: 17/70 (24%) | Samples: 1717/7000000\n",
       " \t\t\t\t\t Loss: \u001b[1m-84.202065\u001b[0m \n",
       "\t\t\t\t\t ---------"
      ]
     },
     "metadata": {},
     "output_type": "display_data"
    },
    {
     "data": {
      "text/plain": [
       "2025-10-13 07:46:24,864 fedbiomed INFO - \u001b[1mTRAINING\u001b[0m \n",
       "\t\t\t\t\t NODE_ID: NODE_CENTRALIZED \n",
       "\t\t\t\t\t Round 4 | Iteration: 18/70 (26%) | Samples: 1818/7000000\n",
       " \t\t\t\t\t Loss: \u001b[1m-86.589012\u001b[0m \n",
       "\t\t\t\t\t ---------"
      ]
     },
     "metadata": {},
     "output_type": "display_data"
    },
    {
     "data": {
      "text/plain": [
       "2025-10-13 07:46:24,885 fedbiomed INFO - \u001b[1mTRAINING\u001b[0m \n",
       "\t\t\t\t\t NODE_ID: NODE_CENTRALIZED \n",
       "\t\t\t\t\t Round 4 | Iteration: 19/70 (27%) | Samples: 1919/7000000\n",
       " \t\t\t\t\t Loss: \u001b[1m-88.944557\u001b[0m \n",
       "\t\t\t\t\t ---------"
      ]
     },
     "metadata": {},
     "output_type": "display_data"
    },
    {
     "data": {
      "text/plain": [
       "2025-10-13 07:46:24,900 fedbiomed INFO - \u001b[1mTRAINING\u001b[0m \n",
       "\t\t\t\t\t NODE_ID: NODE_CENTRALIZED \n",
       "\t\t\t\t\t Round 4 | Iteration: 20/70 (29%) | Samples: 2020/7000000\n",
       " \t\t\t\t\t Loss: \u001b[1m-91.293098\u001b[0m \n",
       "\t\t\t\t\t ---------"
      ]
     },
     "metadata": {},
     "output_type": "display_data"
    },
    {
     "data": {
      "text/plain": [
       "2025-10-13 07:46:24,923 fedbiomed INFO - \u001b[1mTRAINING\u001b[0m \n",
       "\t\t\t\t\t NODE_ID: NODE_CENTRALIZED \n",
       "\t\t\t\t\t Round 4 | Iteration: 21/70 (30%) | Samples: 2121/7000000\n",
       " \t\t\t\t\t Loss: \u001b[1m-93.656708\u001b[0m \n",
       "\t\t\t\t\t ---------"
      ]
     },
     "metadata": {},
     "output_type": "display_data"
    },
    {
     "data": {
      "text/plain": [
       "2025-10-13 07:46:24,943 fedbiomed INFO - \u001b[1mTRAINING\u001b[0m \n",
       "\t\t\t\t\t NODE_ID: NODE_CENTRALIZED \n",
       "\t\t\t\t\t Round 4 | Iteration: 22/70 (31%) | Samples: 2222/7000000\n",
       " \t\t\t\t\t Loss: \u001b[1m-96.026939\u001b[0m \n",
       "\t\t\t\t\t ---------"
      ]
     },
     "metadata": {},
     "output_type": "display_data"
    },
    {
     "data": {
      "text/plain": [
       "2025-10-13 07:46:24,963 fedbiomed INFO - \u001b[1mTRAINING\u001b[0m \n",
       "\t\t\t\t\t NODE_ID: NODE_CENTRALIZED \n",
       "\t\t\t\t\t Round 4 | Iteration: 23/70 (33%) | Samples: 2323/7000000\n",
       " \t\t\t\t\t Loss: \u001b[1m-98.382896\u001b[0m \n",
       "\t\t\t\t\t ---------"
      ]
     },
     "metadata": {},
     "output_type": "display_data"
    },
    {
     "data": {
      "text/plain": [
       "2025-10-13 07:46:24,984 fedbiomed INFO - \u001b[1mTRAINING\u001b[0m \n",
       "\t\t\t\t\t NODE_ID: NODE_CENTRALIZED \n",
       "\t\t\t\t\t Round 4 | Iteration: 24/70 (34%) | Samples: 2424/7000000\n",
       " \t\t\t\t\t Loss: \u001b[1m-100.722290\u001b[0m \n",
       "\t\t\t\t\t ---------"
      ]
     },
     "metadata": {},
     "output_type": "display_data"
    },
    {
     "data": {
      "text/plain": [
       "2025-10-13 07:46:25,008 fedbiomed INFO - \u001b[1mTRAINING\u001b[0m \n",
       "\t\t\t\t\t NODE_ID: NODE_CENTRALIZED \n",
       "\t\t\t\t\t Round 4 | Iteration: 25/70 (36%) | Samples: 2525/7000000\n",
       " \t\t\t\t\t Loss: \u001b[1m-103.061424\u001b[0m \n",
       "\t\t\t\t\t ---------"
      ]
     },
     "metadata": {},
     "output_type": "display_data"
    },
    {
     "data": {
      "text/plain": [
       "2025-10-13 07:46:25,023 fedbiomed INFO - \u001b[1mTRAINING\u001b[0m \n",
       "\t\t\t\t\t NODE_ID: NODE_CENTRALIZED \n",
       "\t\t\t\t\t Round 4 | Iteration: 26/70 (37%) | Samples: 2626/7000000\n",
       " \t\t\t\t\t Loss: \u001b[1m-105.406021\u001b[0m \n",
       "\t\t\t\t\t ---------"
      ]
     },
     "metadata": {},
     "output_type": "display_data"
    },
    {
     "data": {
      "text/plain": [
       "2025-10-13 07:46:25,044 fedbiomed INFO - \u001b[1mTRAINING\u001b[0m \n",
       "\t\t\t\t\t NODE_ID: NODE_CENTRALIZED \n",
       "\t\t\t\t\t Round 4 | Iteration: 27/70 (39%) | Samples: 2727/7000000\n",
       " \t\t\t\t\t Loss: \u001b[1m-107.743919\u001b[0m \n",
       "\t\t\t\t\t ---------"
      ]
     },
     "metadata": {},
     "output_type": "display_data"
    },
    {
     "data": {
      "text/plain": [
       "2025-10-13 07:46:25,072 fedbiomed INFO - \u001b[1mTRAINING\u001b[0m \n",
       "\t\t\t\t\t NODE_ID: NODE_CENTRALIZED \n",
       "\t\t\t\t\t Round 4 | Iteration: 28/70 (40%) | Samples: 2828/7000000\n",
       " \t\t\t\t\t Loss: \u001b[1m-110.069504\u001b[0m \n",
       "\t\t\t\t\t ---------"
      ]
     },
     "metadata": {},
     "output_type": "display_data"
    },
    {
     "data": {
      "text/plain": [
       "2025-10-13 07:46:25,087 fedbiomed INFO - \u001b[1mTRAINING\u001b[0m \n",
       "\t\t\t\t\t NODE_ID: NODE_CENTRALIZED \n",
       "\t\t\t\t\t Round 4 | Iteration: 29/70 (41%) | Samples: 2929/7000000\n",
       " \t\t\t\t\t Loss: \u001b[1m-112.391937\u001b[0m \n",
       "\t\t\t\t\t ---------"
      ]
     },
     "metadata": {},
     "output_type": "display_data"
    },
    {
     "data": {
      "text/plain": [
       "2025-10-13 07:46:25,111 fedbiomed INFO - \u001b[1mTRAINING\u001b[0m \n",
       "\t\t\t\t\t NODE_ID: NODE_CENTRALIZED \n",
       "\t\t\t\t\t Round 4 | Iteration: 30/70 (43%) | Samples: 3030/7000000\n",
       " \t\t\t\t\t Loss: \u001b[1m-114.716469\u001b[0m \n",
       "\t\t\t\t\t ---------"
      ]
     },
     "metadata": {},
     "output_type": "display_data"
    },
    {
     "data": {
      "text/plain": [
       "2025-10-13 07:46:25,127 fedbiomed INFO - \u001b[1mTRAINING\u001b[0m \n",
       "\t\t\t\t\t NODE_ID: NODE_CENTRALIZED \n",
       "\t\t\t\t\t Round 4 | Iteration: 31/70 (44%) | Samples: 3131/7000000\n",
       " \t\t\t\t\t Loss: \u001b[1m-117.035355\u001b[0m \n",
       "\t\t\t\t\t ---------"
      ]
     },
     "metadata": {},
     "output_type": "display_data"
    },
    {
     "data": {
      "text/plain": [
       "2025-10-13 07:46:25,147 fedbiomed INFO - \u001b[1mTRAINING\u001b[0m \n",
       "\t\t\t\t\t NODE_ID: NODE_CENTRALIZED \n",
       "\t\t\t\t\t Round 4 | Iteration: 32/70 (46%) | Samples: 3232/7000000\n",
       " \t\t\t\t\t Loss: \u001b[1m-119.344543\u001b[0m \n",
       "\t\t\t\t\t ---------"
      ]
     },
     "metadata": {},
     "output_type": "display_data"
    },
    {
     "data": {
      "text/plain": [
       "2025-10-13 07:46:25,163 fedbiomed INFO - \u001b[1mTRAINING\u001b[0m \n",
       "\t\t\t\t\t NODE_ID: NODE_CENTRALIZED \n",
       "\t\t\t\t\t Round 4 | Iteration: 33/70 (47%) | Samples: 3333/7000000\n",
       " \t\t\t\t\t Loss: \u001b[1m-121.650436\u001b[0m \n",
       "\t\t\t\t\t ---------"
      ]
     },
     "metadata": {},
     "output_type": "display_data"
    },
    {
     "data": {
      "text/plain": [
       "2025-10-13 07:46:25,183 fedbiomed INFO - \u001b[1mTRAINING\u001b[0m \n",
       "\t\t\t\t\t NODE_ID: NODE_CENTRALIZED \n",
       "\t\t\t\t\t Round 4 | Iteration: 34/70 (49%) | Samples: 3434/7000000\n",
       " \t\t\t\t\t Loss: \u001b[1m-123.955093\u001b[0m \n",
       "\t\t\t\t\t ---------"
      ]
     },
     "metadata": {},
     "output_type": "display_data"
    },
    {
     "data": {
      "text/plain": [
       "2025-10-13 07:46:25,220 fedbiomed INFO - \u001b[1mTRAINING\u001b[0m \n",
       "\t\t\t\t\t NODE_ID: NODE_CENTRALIZED \n",
       "\t\t\t\t\t Round 4 | Iteration: 35/70 (50%) | Samples: 3535/7000000\n",
       " \t\t\t\t\t Loss: \u001b[1m-126.252907\u001b[0m \n",
       "\t\t\t\t\t ---------"
      ]
     },
     "metadata": {},
     "output_type": "display_data"
    },
    {
     "data": {
      "text/plain": [
       "2025-10-13 07:46:25,240 fedbiomed INFO - \u001b[1mTRAINING\u001b[0m \n",
       "\t\t\t\t\t NODE_ID: NODE_CENTRALIZED \n",
       "\t\t\t\t\t Round 4 | Iteration: 36/70 (51%) | Samples: 3636/7000000\n",
       " \t\t\t\t\t Loss: \u001b[1m-128.543869\u001b[0m \n",
       "\t\t\t\t\t ---------"
      ]
     },
     "metadata": {},
     "output_type": "display_data"
    },
    {
     "data": {
      "text/plain": [
       "2025-10-13 07:46:25,264 fedbiomed INFO - \u001b[1mTRAINING\u001b[0m \n",
       "\t\t\t\t\t NODE_ID: NODE_CENTRALIZED \n",
       "\t\t\t\t\t Round 4 | Iteration: 37/70 (53%) | Samples: 3737/7000000\n",
       " \t\t\t\t\t Loss: \u001b[1m-130.832764\u001b[0m \n",
       "\t\t\t\t\t ---------"
      ]
     },
     "metadata": {},
     "output_type": "display_data"
    },
    {
     "data": {
      "text/plain": [
       "2025-10-13 07:46:25,279 fedbiomed INFO - \u001b[1mTRAINING\u001b[0m \n",
       "\t\t\t\t\t NODE_ID: NODE_CENTRALIZED \n",
       "\t\t\t\t\t Round 4 | Iteration: 38/70 (54%) | Samples: 3838/7000000\n",
       " \t\t\t\t\t Loss: \u001b[1m-133.116669\u001b[0m \n",
       "\t\t\t\t\t ---------"
      ]
     },
     "metadata": {},
     "output_type": "display_data"
    },
    {
     "data": {
      "text/plain": [
       "2025-10-13 07:46:25,304 fedbiomed INFO - \u001b[1mTRAINING\u001b[0m \n",
       "\t\t\t\t\t NODE_ID: NODE_CENTRALIZED \n",
       "\t\t\t\t\t Round 4 | Iteration: 39/70 (56%) | Samples: 3939/7000000\n",
       " \t\t\t\t\t Loss: \u001b[1m-135.391479\u001b[0m \n",
       "\t\t\t\t\t ---------"
      ]
     },
     "metadata": {},
     "output_type": "display_data"
    },
    {
     "data": {
      "text/plain": [
       "2025-10-13 07:46:25,319 fedbiomed INFO - \u001b[1mTRAINING\u001b[0m \n",
       "\t\t\t\t\t NODE_ID: NODE_CENTRALIZED \n",
       "\t\t\t\t\t Round 4 | Iteration: 40/70 (57%) | Samples: 4040/7000000\n",
       " \t\t\t\t\t Loss: \u001b[1m-137.662552\u001b[0m \n",
       "\t\t\t\t\t ---------"
      ]
     },
     "metadata": {},
     "output_type": "display_data"
    },
    {
     "data": {
      "text/plain": [
       "2025-10-13 07:46:25,351 fedbiomed INFO - \u001b[1mTRAINING\u001b[0m \n",
       "\t\t\t\t\t NODE_ID: NODE_CENTRALIZED \n",
       "\t\t\t\t\t Round 4 | Iteration: 41/70 (59%) | Samples: 4141/7000000\n",
       " \t\t\t\t\t Loss: \u001b[1m-139.932037\u001b[0m \n",
       "\t\t\t\t\t ---------"
      ]
     },
     "metadata": {},
     "output_type": "display_data"
    },
    {
     "data": {
      "text/plain": [
       "2025-10-13 07:46:25,371 fedbiomed INFO - \u001b[1mTRAINING\u001b[0m \n",
       "\t\t\t\t\t NODE_ID: NODE_CENTRALIZED \n",
       "\t\t\t\t\t Round 4 | Iteration: 42/70 (60%) | Samples: 4242/7000000\n",
       " \t\t\t\t\t Loss: \u001b[1m-142.192871\u001b[0m \n",
       "\t\t\t\t\t ---------"
      ]
     },
     "metadata": {},
     "output_type": "display_data"
    },
    {
     "data": {
      "text/plain": [
       "2025-10-13 07:46:25,389 fedbiomed INFO - \u001b[1mTRAINING\u001b[0m \n",
       "\t\t\t\t\t NODE_ID: NODE_CENTRALIZED \n",
       "\t\t\t\t\t Round 4 | Iteration: 43/70 (61%) | Samples: 4343/7000000\n",
       " \t\t\t\t\t Loss: \u001b[1m-144.445496\u001b[0m \n",
       "\t\t\t\t\t ---------"
      ]
     },
     "metadata": {},
     "output_type": "display_data"
    },
    {
     "data": {
      "text/plain": [
       "2025-10-13 07:46:25,404 fedbiomed INFO - \u001b[1mTRAINING\u001b[0m \n",
       "\t\t\t\t\t NODE_ID: NODE_CENTRALIZED \n",
       "\t\t\t\t\t Round 4 | Iteration: 44/70 (63%) | Samples: 4444/7000000\n",
       " \t\t\t\t\t Loss: \u001b[1m-146.696381\u001b[0m \n",
       "\t\t\t\t\t ---------"
      ]
     },
     "metadata": {},
     "output_type": "display_data"
    },
    {
     "data": {
      "text/plain": [
       "2025-10-13 07:46:25,431 fedbiomed INFO - \u001b[1mTRAINING\u001b[0m \n",
       "\t\t\t\t\t NODE_ID: NODE_CENTRALIZED \n",
       "\t\t\t\t\t Round 4 | Iteration: 45/70 (64%) | Samples: 4545/7000000\n",
       " \t\t\t\t\t Loss: \u001b[1m-148.941895\u001b[0m \n",
       "\t\t\t\t\t ---------"
      ]
     },
     "metadata": {},
     "output_type": "display_data"
    },
    {
     "data": {
      "text/plain": [
       "2025-10-13 07:46:25,447 fedbiomed INFO - \u001b[1mTRAINING\u001b[0m \n",
       "\t\t\t\t\t NODE_ID: NODE_CENTRALIZED \n",
       "\t\t\t\t\t Round 4 | Iteration: 46/70 (66%) | Samples: 4646/7000000\n",
       " \t\t\t\t\t Loss: \u001b[1m-151.178116\u001b[0m \n",
       "\t\t\t\t\t ---------"
      ]
     },
     "metadata": {},
     "output_type": "display_data"
    },
    {
     "data": {
      "text/plain": [
       "2025-10-13 07:46:25,457 fedbiomed INFO - \u001b[1mTRAINING\u001b[0m \n",
       "\t\t\t\t\t NODE_ID: NODE_CENTRALIZED \n",
       "\t\t\t\t\t Round 4 | Iteration: 47/70 (67%) | Samples: 4747/7000000\n",
       " \t\t\t\t\t Loss: \u001b[1m-153.410355\u001b[0m \n",
       "\t\t\t\t\t ---------"
      ]
     },
     "metadata": {},
     "output_type": "display_data"
    },
    {
     "data": {
      "text/plain": [
       "2025-10-13 07:46:25,491 fedbiomed INFO - \u001b[1mTRAINING\u001b[0m \n",
       "\t\t\t\t\t NODE_ID: NODE_CENTRALIZED \n",
       "\t\t\t\t\t Round 4 | Iteration: 48/70 (69%) | Samples: 4848/7000000\n",
       " \t\t\t\t\t Loss: \u001b[1m-155.638504\u001b[0m \n",
       "\t\t\t\t\t ---------"
      ]
     },
     "metadata": {},
     "output_type": "display_data"
    },
    {
     "data": {
      "text/plain": [
       "2025-10-13 07:46:25,503 fedbiomed INFO - \u001b[1mTRAINING\u001b[0m \n",
       "\t\t\t\t\t NODE_ID: NODE_CENTRALIZED \n",
       "\t\t\t\t\t Round 4 | Iteration: 49/70 (70%) | Samples: 4949/7000000\n",
       " \t\t\t\t\t Loss: \u001b[1m-157.858109\u001b[0m \n",
       "\t\t\t\t\t ---------"
      ]
     },
     "metadata": {},
     "output_type": "display_data"
    },
    {
     "data": {
      "text/plain": [
       "2025-10-13 07:46:25,527 fedbiomed INFO - \u001b[1mTRAINING\u001b[0m \n",
       "\t\t\t\t\t NODE_ID: NODE_CENTRALIZED \n",
       "\t\t\t\t\t Round 4 | Iteration: 50/70 (71%) | Samples: 5050/7000000\n",
       " \t\t\t\t\t Loss: \u001b[1m-160.072388\u001b[0m \n",
       "\t\t\t\t\t ---------"
      ]
     },
     "metadata": {},
     "output_type": "display_data"
    },
    {
     "data": {
      "text/plain": [
       "2025-10-13 07:46:25,551 fedbiomed INFO - \u001b[1mTRAINING\u001b[0m \n",
       "\t\t\t\t\t NODE_ID: NODE_CENTRALIZED \n",
       "\t\t\t\t\t Round 4 | Iteration: 51/70 (73%) | Samples: 5151/7000000\n",
       " \t\t\t\t\t Loss: \u001b[1m-162.282471\u001b[0m \n",
       "\t\t\t\t\t ---------"
      ]
     },
     "metadata": {},
     "output_type": "display_data"
    },
    {
     "data": {
      "text/plain": [
       "2025-10-13 07:46:25,567 fedbiomed INFO - \u001b[1mTRAINING\u001b[0m \n",
       "\t\t\t\t\t NODE_ID: NODE_CENTRALIZED \n",
       "\t\t\t\t\t Round 4 | Iteration: 52/70 (74%) | Samples: 5252/7000000\n",
       " \t\t\t\t\t Loss: \u001b[1m-164.484940\u001b[0m \n",
       "\t\t\t\t\t ---------"
      ]
     },
     "metadata": {},
     "output_type": "display_data"
    },
    {
     "data": {
      "text/plain": [
       "2025-10-13 07:46:25,583 fedbiomed INFO - \u001b[1mTRAINING\u001b[0m \n",
       "\t\t\t\t\t NODE_ID: NODE_CENTRALIZED \n",
       "\t\t\t\t\t Round 4 | Iteration: 53/70 (76%) | Samples: 5353/7000000\n",
       " \t\t\t\t\t Loss: \u001b[1m-166.681702\u001b[0m \n",
       "\t\t\t\t\t ---------"
      ]
     },
     "metadata": {},
     "output_type": "display_data"
    },
    {
     "data": {
      "text/plain": [
       "2025-10-13 07:46:25,604 fedbiomed INFO - \u001b[1mTRAINING\u001b[0m \n",
       "\t\t\t\t\t NODE_ID: NODE_CENTRALIZED \n",
       "\t\t\t\t\t Round 4 | Iteration: 54/70 (77%) | Samples: 5454/7000000\n",
       " \t\t\t\t\t Loss: \u001b[1m-168.873337\u001b[0m \n",
       "\t\t\t\t\t ---------"
      ]
     },
     "metadata": {},
     "output_type": "display_data"
    },
    {
     "data": {
      "text/plain": [
       "2025-10-13 07:46:25,623 fedbiomed INFO - \u001b[1mTRAINING\u001b[0m \n",
       "\t\t\t\t\t NODE_ID: NODE_CENTRALIZED \n",
       "\t\t\t\t\t Round 4 | Iteration: 55/70 (79%) | Samples: 5555/7000000\n",
       " \t\t\t\t\t Loss: \u001b[1m-171.058319\u001b[0m \n",
       "\t\t\t\t\t ---------"
      ]
     },
     "metadata": {},
     "output_type": "display_data"
    },
    {
     "data": {
      "text/plain": [
       "2025-10-13 07:46:25,647 fedbiomed INFO - \u001b[1mTRAINING\u001b[0m \n",
       "\t\t\t\t\t NODE_ID: NODE_CENTRALIZED \n",
       "\t\t\t\t\t Round 4 | Iteration: 56/70 (80%) | Samples: 5656/7000000\n",
       " \t\t\t\t\t Loss: \u001b[1m-173.238113\u001b[0m \n",
       "\t\t\t\t\t ---------"
      ]
     },
     "metadata": {},
     "output_type": "display_data"
    },
    {
     "data": {
      "text/plain": [
       "2025-10-13 07:46:25,663 fedbiomed INFO - \u001b[1mTRAINING\u001b[0m \n",
       "\t\t\t\t\t NODE_ID: NODE_CENTRALIZED \n",
       "\t\t\t\t\t Round 4 | Iteration: 57/70 (81%) | Samples: 5757/7000000\n",
       " \t\t\t\t\t Loss: \u001b[1m-175.411484\u001b[0m \n",
       "\t\t\t\t\t ---------"
      ]
     },
     "metadata": {},
     "output_type": "display_data"
    },
    {
     "data": {
      "text/plain": [
       "2025-10-13 07:46:25,679 fedbiomed INFO - \u001b[1mTRAINING\u001b[0m \n",
       "\t\t\t\t\t NODE_ID: NODE_CENTRALIZED \n",
       "\t\t\t\t\t Round 4 | Iteration: 58/70 (83%) | Samples: 5858/7000000\n",
       " \t\t\t\t\t Loss: \u001b[1m-177.578873\u001b[0m \n",
       "\t\t\t\t\t ---------"
      ]
     },
     "metadata": {},
     "output_type": "display_data"
    },
    {
     "data": {
      "text/plain": [
       "2025-10-13 07:46:25,699 fedbiomed INFO - \u001b[1mTRAINING\u001b[0m \n",
       "\t\t\t\t\t NODE_ID: NODE_CENTRALIZED \n",
       "\t\t\t\t\t Round 4 | Iteration: 59/70 (84%) | Samples: 5959/7000000\n",
       " \t\t\t\t\t Loss: \u001b[1m-179.741287\u001b[0m \n",
       "\t\t\t\t\t ---------"
      ]
     },
     "metadata": {},
     "output_type": "display_data"
    },
    {
     "data": {
      "text/plain": [
       "2025-10-13 07:46:25,719 fedbiomed INFO - \u001b[1mTRAINING\u001b[0m \n",
       "\t\t\t\t\t NODE_ID: NODE_CENTRALIZED \n",
       "\t\t\t\t\t Round 4 | Iteration: 60/70 (86%) | Samples: 6060/7000000\n",
       " \t\t\t\t\t Loss: \u001b[1m-181.896667\u001b[0m \n",
       "\t\t\t\t\t ---------"
      ]
     },
     "metadata": {},
     "output_type": "display_data"
    },
    {
     "data": {
      "text/plain": [
       "2025-10-13 07:46:25,743 fedbiomed INFO - \u001b[1mTRAINING\u001b[0m \n",
       "\t\t\t\t\t NODE_ID: NODE_CENTRALIZED \n",
       "\t\t\t\t\t Round 4 | Iteration: 61/70 (87%) | Samples: 6161/7000000\n",
       " \t\t\t\t\t Loss: \u001b[1m-184.046860\u001b[0m \n",
       "\t\t\t\t\t ---------"
      ]
     },
     "metadata": {},
     "output_type": "display_data"
    },
    {
     "data": {
      "text/plain": [
       "2025-10-13 07:46:25,759 fedbiomed INFO - \u001b[1mTRAINING\u001b[0m \n",
       "\t\t\t\t\t NODE_ID: NODE_CENTRALIZED \n",
       "\t\t\t\t\t Round 4 | Iteration: 62/70 (89%) | Samples: 6262/7000000\n",
       " \t\t\t\t\t Loss: \u001b[1m-186.191483\u001b[0m \n",
       "\t\t\t\t\t ---------"
      ]
     },
     "metadata": {},
     "output_type": "display_data"
    },
    {
     "data": {
      "text/plain": [
       "2025-10-13 07:46:25,783 fedbiomed INFO - \u001b[1mTRAINING\u001b[0m \n",
       "\t\t\t\t\t NODE_ID: NODE_CENTRALIZED \n",
       "\t\t\t\t\t Round 4 | Iteration: 63/70 (90%) | Samples: 6363/7000000\n",
       " \t\t\t\t\t Loss: \u001b[1m-188.329514\u001b[0m \n",
       "\t\t\t\t\t ---------"
      ]
     },
     "metadata": {},
     "output_type": "display_data"
    },
    {
     "data": {
      "text/plain": [
       "2025-10-13 07:46:25,799 fedbiomed INFO - \u001b[1mTRAINING\u001b[0m \n",
       "\t\t\t\t\t NODE_ID: NODE_CENTRALIZED \n",
       "\t\t\t\t\t Round 4 | Iteration: 64/70 (91%) | Samples: 6464/7000000\n",
       " \t\t\t\t\t Loss: \u001b[1m-190.462585\u001b[0m \n",
       "\t\t\t\t\t ---------"
      ]
     },
     "metadata": {},
     "output_type": "display_data"
    },
    {
     "data": {
      "text/plain": [
       "2025-10-13 07:46:25,815 fedbiomed INFO - \u001b[1mTRAINING\u001b[0m \n",
       "\t\t\t\t\t NODE_ID: NODE_CENTRALIZED \n",
       "\t\t\t\t\t Round 4 | Iteration: 65/70 (93%) | Samples: 6565/7000000\n",
       " \t\t\t\t\t Loss: \u001b[1m-192.589340\u001b[0m \n",
       "\t\t\t\t\t ---------"
      ]
     },
     "metadata": {},
     "output_type": "display_data"
    },
    {
     "data": {
      "text/plain": [
       "2025-10-13 07:46:25,840 fedbiomed INFO - \u001b[1mTRAINING\u001b[0m \n",
       "\t\t\t\t\t NODE_ID: NODE_CENTRALIZED \n",
       "\t\t\t\t\t Round 4 | Iteration: 66/70 (94%) | Samples: 6666/7000000\n",
       " \t\t\t\t\t Loss: \u001b[1m-194.710434\u001b[0m \n",
       "\t\t\t\t\t ---------"
      ]
     },
     "metadata": {},
     "output_type": "display_data"
    },
    {
     "data": {
      "text/plain": [
       "2025-10-13 07:46:25,864 fedbiomed INFO - \u001b[1mTRAINING\u001b[0m \n",
       "\t\t\t\t\t NODE_ID: NODE_CENTRALIZED \n",
       "\t\t\t\t\t Round 4 | Iteration: 67/70 (96%) | Samples: 6767/7000000\n",
       " \t\t\t\t\t Loss: \u001b[1m-196.825531\u001b[0m \n",
       "\t\t\t\t\t ---------"
      ]
     },
     "metadata": {},
     "output_type": "display_data"
    },
    {
     "data": {
      "text/plain": [
       "2025-10-13 07:46:25,880 fedbiomed INFO - \u001b[1mTRAINING\u001b[0m \n",
       "\t\t\t\t\t NODE_ID: NODE_CENTRALIZED \n",
       "\t\t\t\t\t Round 4 | Iteration: 68/70 (97%) | Samples: 6868/7000000\n",
       " \t\t\t\t\t Loss: \u001b[1m-198.934464\u001b[0m \n",
       "\t\t\t\t\t ---------"
      ]
     },
     "metadata": {},
     "output_type": "display_data"
    },
    {
     "data": {
      "text/plain": [
       "2025-10-13 07:46:25,892 fedbiomed INFO - \u001b[1mTRAINING\u001b[0m \n",
       "\t\t\t\t\t NODE_ID: NODE_CENTRALIZED \n",
       "\t\t\t\t\t Round 4 | Iteration: 69/70 (99%) | Samples: 6969/7000000\n",
       " \t\t\t\t\t Loss: \u001b[1m-201.038055\u001b[0m \n",
       "\t\t\t\t\t ---------"
      ]
     },
     "metadata": {},
     "output_type": "display_data"
    },
    {
     "data": {
      "text/plain": [
       "2025-10-13 07:46:25,913 fedbiomed INFO - \u001b[1mTRAINING\u001b[0m \n",
       "\t\t\t\t\t NODE_ID: NODE_CENTRALIZED \n",
       "\t\t\t\t\t Round 4 | Iteration: 70/70 (100%) | Samples: 7070/7000000\n",
       " \t\t\t\t\t Loss: \u001b[1m-203.137131\u001b[0m \n",
       "\t\t\t\t\t ---------"
      ]
     },
     "metadata": {},
     "output_type": "display_data"
    },
    {
     "data": {
      "text/plain": [
       "2025-10-13 07:46:26,073 fedbiomed INFO - Nodes that successfully reply in round 3 ['NODE_CENTRALIZED']"
      ]
     },
     "metadata": {},
     "output_type": "display_data"
    },
    {
     "data": {
      "text/plain": [
       "2025-10-13 07:46:26,112 fedbiomed INFO - Sampled nodes in round 4 ['NODE_CENTRALIZED']"
      ]
     },
     "metadata": {},
     "output_type": "display_data"
    },
    {
     "name": "stdout",
     "output_type": "stream",
     "text": [
      "<function extract_symbols at 0x7f920de88d30>\n"
     ]
    },
    {
     "data": {
      "text/plain": [
       "2025-10-13 07:46:26,189 fedbiomed INFO - \u001b[1mSending request\u001b[0m \n",
       "\t\t\t\t\t\u001b[1m To\u001b[0m: NODE_CENTRALIZED \n",
       "\t\t\t\t\t\u001b[1m Request: \u001b[0m: TRAIN\n",
       " -----------------------------------------------------------------"
      ]
     },
     "metadata": {},
     "output_type": "display_data"
    },
    {
     "data": {
      "text/plain": [
       "2025-10-13 07:46:26,336 fedbiomed DEBUG - Node: NODE_CENTRALIZED polling for the tasks"
      ]
     },
     "metadata": {},
     "output_type": "display_data"
    },
    {
     "data": {
      "text/plain": [
       "2025-10-13 07:46:26,487 fedbiomed INFO - \u001b[1mTRAINING\u001b[0m \n",
       "\t\t\t\t\t NODE_ID: NODE_CENTRALIZED \n",
       "\t\t\t\t\t Round 5 | Iteration: 1/70 (1%) | Samples: 101/7000000\n",
       " \t\t\t\t\t Loss: \u001b[1m-205.231293\u001b[0m \n",
       "\t\t\t\t\t ---------"
      ]
     },
     "metadata": {},
     "output_type": "display_data"
    },
    {
     "data": {
      "text/plain": [
       "2025-10-13 07:46:26,516 fedbiomed INFO - \u001b[1mTRAINING\u001b[0m \n",
       "\t\t\t\t\t NODE_ID: NODE_CENTRALIZED \n",
       "\t\t\t\t\t Round 5 | Iteration: 2/70 (3%) | Samples: 202/7000000\n",
       " \t\t\t\t\t Loss: \u001b[1m-206.136826\u001b[0m \n",
       "\t\t\t\t\t ---------"
      ]
     },
     "metadata": {},
     "output_type": "display_data"
    },
    {
     "data": {
      "text/plain": [
       "2025-10-13 07:46:26,539 fedbiomed INFO - \u001b[1mTRAINING\u001b[0m \n",
       "\t\t\t\t\t NODE_ID: NODE_CENTRALIZED \n",
       "\t\t\t\t\t Round 5 | Iteration: 3/70 (4%) | Samples: 303/7000000\n",
       " \t\t\t\t\t Loss: \u001b[1m-208.932327\u001b[0m \n",
       "\t\t\t\t\t ---------"
      ]
     },
     "metadata": {},
     "output_type": "display_data"
    },
    {
     "data": {
      "text/plain": [
       "2025-10-13 07:46:26,564 fedbiomed INFO - \u001b[1mTRAINING\u001b[0m \n",
       "\t\t\t\t\t NODE_ID: NODE_CENTRALIZED \n",
       "\t\t\t\t\t Round 5 | Iteration: 4/70 (6%) | Samples: 404/7000000\n",
       " \t\t\t\t\t Loss: \u001b[1m-211.211533\u001b[0m \n",
       "\t\t\t\t\t ---------"
      ]
     },
     "metadata": {},
     "output_type": "display_data"
    },
    {
     "data": {
      "text/plain": [
       "2025-10-13 07:46:26,592 fedbiomed INFO - \u001b[1mTRAINING\u001b[0m \n",
       "\t\t\t\t\t NODE_ID: NODE_CENTRALIZED \n",
       "\t\t\t\t\t Round 5 | Iteration: 5/70 (7%) | Samples: 505/7000000\n",
       " \t\t\t\t\t Loss: \u001b[1m-213.438644\u001b[0m \n",
       "\t\t\t\t\t ---------"
      ]
     },
     "metadata": {},
     "output_type": "display_data"
    },
    {
     "data": {
      "text/plain": [
       "2025-10-13 07:46:26,612 fedbiomed INFO - \u001b[1mTRAINING\u001b[0m \n",
       "\t\t\t\t\t NODE_ID: NODE_CENTRALIZED \n",
       "\t\t\t\t\t Round 5 | Iteration: 6/70 (9%) | Samples: 606/7000000\n",
       " \t\t\t\t\t Loss: \u001b[1m-215.600235\u001b[0m \n",
       "\t\t\t\t\t ---------"
      ]
     },
     "metadata": {},
     "output_type": "display_data"
    },
    {
     "data": {
      "text/plain": [
       "2025-10-13 07:46:26,632 fedbiomed INFO - \u001b[1mTRAINING\u001b[0m \n",
       "\t\t\t\t\t NODE_ID: NODE_CENTRALIZED \n",
       "\t\t\t\t\t Round 5 | Iteration: 7/70 (10%) | Samples: 707/7000000\n",
       " \t\t\t\t\t Loss: \u001b[1m-217.620453\u001b[0m \n",
       "\t\t\t\t\t ---------"
      ]
     },
     "metadata": {},
     "output_type": "display_data"
    },
    {
     "data": {
      "text/plain": [
       "2025-10-13 07:46:26,656 fedbiomed INFO - \u001b[1mTRAINING\u001b[0m \n",
       "\t\t\t\t\t NODE_ID: NODE_CENTRALIZED \n",
       "\t\t\t\t\t Round 5 | Iteration: 8/70 (11%) | Samples: 808/7000000\n",
       " \t\t\t\t\t Loss: \u001b[1m-219.749771\u001b[0m \n",
       "\t\t\t\t\t ---------"
      ]
     },
     "metadata": {},
     "output_type": "display_data"
    },
    {
     "data": {
      "text/plain": [
       "2025-10-13 07:46:26,676 fedbiomed INFO - \u001b[1mTRAINING\u001b[0m \n",
       "\t\t\t\t\t NODE_ID: NODE_CENTRALIZED \n",
       "\t\t\t\t\t Round 5 | Iteration: 9/70 (13%) | Samples: 909/7000000\n",
       " \t\t\t\t\t Loss: \u001b[1m-221.988678\u001b[0m \n",
       "\t\t\t\t\t ---------"
      ]
     },
     "metadata": {},
     "output_type": "display_data"
    },
    {
     "data": {
      "text/plain": [
       "2025-10-13 07:46:26,697 fedbiomed INFO - \u001b[1mTRAINING\u001b[0m \n",
       "\t\t\t\t\t NODE_ID: NODE_CENTRALIZED \n",
       "\t\t\t\t\t Round 5 | Iteration: 10/70 (14%) | Samples: 1010/7000000\n",
       " \t\t\t\t\t Loss: \u001b[1m-224.217758\u001b[0m \n",
       "\t\t\t\t\t ---------"
      ]
     },
     "metadata": {},
     "output_type": "display_data"
    },
    {
     "data": {
      "text/plain": [
       "2025-10-13 07:46:26,721 fedbiomed INFO - \u001b[1mTRAINING\u001b[0m \n",
       "\t\t\t\t\t NODE_ID: NODE_CENTRALIZED \n",
       "\t\t\t\t\t Round 5 | Iteration: 11/70 (16%) | Samples: 1111/7000000\n",
       " \t\t\t\t\t Loss: \u001b[1m-226.372498\u001b[0m \n",
       "\t\t\t\t\t ---------"
      ]
     },
     "metadata": {},
     "output_type": "display_data"
    },
    {
     "data": {
      "text/plain": [
       "2025-10-13 07:46:26,748 fedbiomed INFO - \u001b[1mTRAINING\u001b[0m \n",
       "\t\t\t\t\t NODE_ID: NODE_CENTRALIZED \n",
       "\t\t\t\t\t Round 5 | Iteration: 12/70 (17%) | Samples: 1212/7000000\n",
       " \t\t\t\t\t Loss: \u001b[1m-228.478836\u001b[0m \n",
       "\t\t\t\t\t ---------"
      ]
     },
     "metadata": {},
     "output_type": "display_data"
    },
    {
     "data": {
      "text/plain": [
       "2025-10-13 07:46:26,768 fedbiomed INFO - \u001b[1mTRAINING\u001b[0m \n",
       "\t\t\t\t\t NODE_ID: NODE_CENTRALIZED \n",
       "\t\t\t\t\t Round 5 | Iteration: 13/70 (19%) | Samples: 1313/7000000\n",
       " \t\t\t\t\t Loss: \u001b[1m-230.584412\u001b[0m \n",
       "\t\t\t\t\t ---------"
      ]
     },
     "metadata": {},
     "output_type": "display_data"
    },
    {
     "data": {
      "text/plain": [
       "2025-10-13 07:46:26,788 fedbiomed INFO - \u001b[1mTRAINING\u001b[0m \n",
       "\t\t\t\t\t NODE_ID: NODE_CENTRALIZED \n",
       "\t\t\t\t\t Round 5 | Iteration: 14/70 (20%) | Samples: 1414/7000000\n",
       " \t\t\t\t\t Loss: \u001b[1m-232.674622\u001b[0m \n",
       "\t\t\t\t\t ---------"
      ]
     },
     "metadata": {},
     "output_type": "display_data"
    },
    {
     "data": {
      "text/plain": [
       "2025-10-13 07:46:26,816 fedbiomed INFO - \u001b[1mTRAINING\u001b[0m \n",
       "\t\t\t\t\t NODE_ID: NODE_CENTRALIZED \n",
       "\t\t\t\t\t Round 5 | Iteration: 15/70 (21%) | Samples: 1515/7000000\n",
       " \t\t\t\t\t Loss: \u001b[1m-234.729813\u001b[0m \n",
       "\t\t\t\t\t ---------"
      ]
     },
     "metadata": {},
     "output_type": "display_data"
    },
    {
     "data": {
      "text/plain": [
       "2025-10-13 07:46:26,836 fedbiomed INFO - \u001b[1mTRAINING\u001b[0m \n",
       "\t\t\t\t\t NODE_ID: NODE_CENTRALIZED \n",
       "\t\t\t\t\t Round 5 | Iteration: 16/70 (23%) | Samples: 1616/7000000\n",
       " \t\t\t\t\t Loss: \u001b[1m-236.795135\u001b[0m \n",
       "\t\t\t\t\t ---------"
      ]
     },
     "metadata": {},
     "output_type": "display_data"
    },
    {
     "data": {
      "text/plain": [
       "2025-10-13 07:46:26,856 fedbiomed INFO - \u001b[1mTRAINING\u001b[0m \n",
       "\t\t\t\t\t NODE_ID: NODE_CENTRALIZED \n",
       "\t\t\t\t\t Round 5 | Iteration: 17/70 (24%) | Samples: 1717/7000000\n",
       " \t\t\t\t\t Loss: \u001b[1m-238.922180\u001b[0m \n",
       "\t\t\t\t\t ---------"
      ]
     },
     "metadata": {},
     "output_type": "display_data"
    },
    {
     "data": {
      "text/plain": [
       "2025-10-13 07:46:26,884 fedbiomed INFO - \u001b[1mTRAINING\u001b[0m \n",
       "\t\t\t\t\t NODE_ID: NODE_CENTRALIZED \n",
       "\t\t\t\t\t Round 5 | Iteration: 18/70 (26%) | Samples: 1818/7000000\n",
       " \t\t\t\t\t Loss: \u001b[1m-241.084900\u001b[0m \n",
       "\t\t\t\t\t ---------"
      ]
     },
     "metadata": {},
     "output_type": "display_data"
    },
    {
     "data": {
      "text/plain": [
       "2025-10-13 07:46:26,904 fedbiomed INFO - \u001b[1mTRAINING\u001b[0m \n",
       "\t\t\t\t\t NODE_ID: NODE_CENTRALIZED \n",
       "\t\t\t\t\t Round 5 | Iteration: 19/70 (27%) | Samples: 1919/7000000\n",
       " \t\t\t\t\t Loss: \u001b[1m-243.203400\u001b[0m \n",
       "\t\t\t\t\t ---------"
      ]
     },
     "metadata": {},
     "output_type": "display_data"
    },
    {
     "data": {
      "text/plain": [
       "2025-10-13 07:46:26,928 fedbiomed INFO - \u001b[1mTRAINING\u001b[0m \n",
       "\t\t\t\t\t NODE_ID: NODE_CENTRALIZED \n",
       "\t\t\t\t\t Round 5 | Iteration: 20/70 (29%) | Samples: 2020/7000000\n",
       " \t\t\t\t\t Loss: \u001b[1m-245.239990\u001b[0m \n",
       "\t\t\t\t\t ---------"
      ]
     },
     "metadata": {},
     "output_type": "display_data"
    },
    {
     "data": {
      "text/plain": [
       "2025-10-13 07:46:26,952 fedbiomed INFO - \u001b[1mTRAINING\u001b[0m \n",
       "\t\t\t\t\t NODE_ID: NODE_CENTRALIZED \n",
       "\t\t\t\t\t Round 5 | Iteration: 21/70 (30%) | Samples: 2121/7000000\n",
       " \t\t\t\t\t Loss: \u001b[1m-247.242981\u001b[0m \n",
       "\t\t\t\t\t ---------"
      ]
     },
     "metadata": {},
     "output_type": "display_data"
    },
    {
     "data": {
      "text/plain": [
       "2025-10-13 07:46:26,972 fedbiomed INFO - \u001b[1mTRAINING\u001b[0m \n",
       "\t\t\t\t\t NODE_ID: NODE_CENTRALIZED \n",
       "\t\t\t\t\t Round 5 | Iteration: 22/70 (31%) | Samples: 2222/7000000\n",
       " \t\t\t\t\t Loss: \u001b[1m-249.277802\u001b[0m \n",
       "\t\t\t\t\t ---------"
      ]
     },
     "metadata": {},
     "output_type": "display_data"
    },
    {
     "data": {
      "text/plain": [
       "2025-10-13 07:46:26,996 fedbiomed INFO - \u001b[1mTRAINING\u001b[0m \n",
       "\t\t\t\t\t NODE_ID: NODE_CENTRALIZED \n",
       "\t\t\t\t\t Round 5 | Iteration: 23/70 (33%) | Samples: 2323/7000000\n",
       " \t\t\t\t\t Loss: \u001b[1m-251.350281\u001b[0m \n",
       "\t\t\t\t\t ---------"
      ]
     },
     "metadata": {},
     "output_type": "display_data"
    },
    {
     "data": {
      "text/plain": [
       "2025-10-13 07:46:27,020 fedbiomed INFO - \u001b[1mTRAINING\u001b[0m \n",
       "\t\t\t\t\t NODE_ID: NODE_CENTRALIZED \n",
       "\t\t\t\t\t Round 5 | Iteration: 24/70 (34%) | Samples: 2424/7000000\n",
       " \t\t\t\t\t Loss: \u001b[1m-253.423584\u001b[0m \n",
       "\t\t\t\t\t ---------"
      ]
     },
     "metadata": {},
     "output_type": "display_data"
    },
    {
     "data": {
      "text/plain": [
       "2025-10-13 07:46:27,044 fedbiomed INFO - \u001b[1mTRAINING\u001b[0m \n",
       "\t\t\t\t\t NODE_ID: NODE_CENTRALIZED \n",
       "\t\t\t\t\t Round 5 | Iteration: 25/70 (36%) | Samples: 2525/7000000\n",
       " \t\t\t\t\t Loss: \u001b[1m-255.473495\u001b[0m \n",
       "\t\t\t\t\t ---------"
      ]
     },
     "metadata": {},
     "output_type": "display_data"
    },
    {
     "data": {
      "text/plain": [
       "2025-10-13 07:46:27,068 fedbiomed INFO - \u001b[1mTRAINING\u001b[0m \n",
       "\t\t\t\t\t NODE_ID: NODE_CENTRALIZED \n",
       "\t\t\t\t\t Round 5 | Iteration: 26/70 (37%) | Samples: 2626/7000000\n",
       " \t\t\t\t\t Loss: \u001b[1m-257.502258\u001b[0m \n",
       "\t\t\t\t\t ---------"
      ]
     },
     "metadata": {},
     "output_type": "display_data"
    },
    {
     "data": {
      "text/plain": [
       "2025-10-13 07:46:27,088 fedbiomed INFO - \u001b[1mTRAINING\u001b[0m \n",
       "\t\t\t\t\t NODE_ID: NODE_CENTRALIZED \n",
       "\t\t\t\t\t Round 5 | Iteration: 27/70 (39%) | Samples: 2727/7000000\n",
       " \t\t\t\t\t Loss: \u001b[1m-259.516876\u001b[0m \n",
       "\t\t\t\t\t ---------"
      ]
     },
     "metadata": {},
     "output_type": "display_data"
    },
    {
     "data": {
      "text/plain": [
       "2025-10-13 07:46:27,108 fedbiomed INFO - \u001b[1mTRAINING\u001b[0m \n",
       "\t\t\t\t\t NODE_ID: NODE_CENTRALIZED \n",
       "\t\t\t\t\t Round 5 | Iteration: 28/70 (40%) | Samples: 2828/7000000\n",
       " \t\t\t\t\t Loss: \u001b[1m-261.522705\u001b[0m \n",
       "\t\t\t\t\t ---------"
      ]
     },
     "metadata": {},
     "output_type": "display_data"
    },
    {
     "data": {
      "text/plain": [
       "2025-10-13 07:46:27,132 fedbiomed INFO - \u001b[1mTRAINING\u001b[0m \n",
       "\t\t\t\t\t NODE_ID: NODE_CENTRALIZED \n",
       "\t\t\t\t\t Round 5 | Iteration: 29/70 (41%) | Samples: 2929/7000000\n",
       " \t\t\t\t\t Loss: \u001b[1m-263.529358\u001b[0m \n",
       "\t\t\t\t\t ---------"
      ]
     },
     "metadata": {},
     "output_type": "display_data"
    },
    {
     "data": {
      "text/plain": [
       "2025-10-13 07:46:27,156 fedbiomed INFO - \u001b[1mTRAINING\u001b[0m \n",
       "\t\t\t\t\t NODE_ID: NODE_CENTRALIZED \n",
       "\t\t\t\t\t Round 5 | Iteration: 30/70 (43%) | Samples: 3030/7000000\n",
       " \t\t\t\t\t Loss: \u001b[1m-265.540039\u001b[0m \n",
       "\t\t\t\t\t ---------"
      ]
     },
     "metadata": {},
     "output_type": "display_data"
    },
    {
     "data": {
      "text/plain": [
       "2025-10-13 07:46:27,177 fedbiomed INFO - \u001b[1mTRAINING\u001b[0m \n",
       "\t\t\t\t\t NODE_ID: NODE_CENTRALIZED \n",
       "\t\t\t\t\t Round 5 | Iteration: 31/70 (44%) | Samples: 3131/7000000\n",
       " \t\t\t\t\t Loss: \u001b[1m-267.544617\u001b[0m \n",
       "\t\t\t\t\t ---------"
      ]
     },
     "metadata": {},
     "output_type": "display_data"
    },
    {
     "data": {
      "text/plain": [
       "2025-10-13 07:46:27,199 fedbiomed INFO - \u001b[1mTRAINING\u001b[0m \n",
       "\t\t\t\t\t NODE_ID: NODE_CENTRALIZED \n",
       "\t\t\t\t\t Round 5 | Iteration: 32/70 (46%) | Samples: 3232/7000000\n",
       " \t\t\t\t\t Loss: \u001b[1m-269.535492\u001b[0m \n",
       "\t\t\t\t\t ---------"
      ]
     },
     "metadata": {},
     "output_type": "display_data"
    },
    {
     "data": {
      "text/plain": [
       "2025-10-13 07:46:27,225 fedbiomed INFO - \u001b[1mTRAINING\u001b[0m \n",
       "\t\t\t\t\t NODE_ID: NODE_CENTRALIZED \n",
       "\t\t\t\t\t Round 5 | Iteration: 33/70 (47%) | Samples: 3333/7000000\n",
       " \t\t\t\t\t Loss: \u001b[1m-271.516907\u001b[0m \n",
       "\t\t\t\t\t ---------"
      ]
     },
     "metadata": {},
     "output_type": "display_data"
    },
    {
     "data": {
      "text/plain": [
       "2025-10-13 07:46:27,244 fedbiomed INFO - \u001b[1mTRAINING\u001b[0m \n",
       "\t\t\t\t\t NODE_ID: NODE_CENTRALIZED \n",
       "\t\t\t\t\t Round 5 | Iteration: 34/70 (49%) | Samples: 3434/7000000\n",
       " \t\t\t\t\t Loss: \u001b[1m-273.491394\u001b[0m \n",
       "\t\t\t\t\t ---------"
      ]
     },
     "metadata": {},
     "output_type": "display_data"
    },
    {
     "data": {
      "text/plain": [
       "2025-10-13 07:46:27,276 fedbiomed INFO - \u001b[1mTRAINING\u001b[0m \n",
       "\t\t\t\t\t NODE_ID: NODE_CENTRALIZED \n",
       "\t\t\t\t\t Round 5 | Iteration: 35/70 (50%) | Samples: 3535/7000000\n",
       " \t\t\t\t\t Loss: \u001b[1m-275.455200\u001b[0m \n",
       "\t\t\t\t\t ---------"
      ]
     },
     "metadata": {},
     "output_type": "display_data"
    },
    {
     "data": {
      "text/plain": [
       "2025-10-13 07:46:27,294 fedbiomed INFO - \u001b[1mTRAINING\u001b[0m \n",
       "\t\t\t\t\t NODE_ID: NODE_CENTRALIZED \n",
       "\t\t\t\t\t Round 5 | Iteration: 36/70 (51%) | Samples: 3636/7000000\n",
       " \t\t\t\t\t Loss: \u001b[1m-277.411407\u001b[0m \n",
       "\t\t\t\t\t ---------"
      ]
     },
     "metadata": {},
     "output_type": "display_data"
    },
    {
     "data": {
      "text/plain": [
       "2025-10-13 07:46:27,311 fedbiomed INFO - \u001b[1mTRAINING\u001b[0m \n",
       "\t\t\t\t\t NODE_ID: NODE_CENTRALIZED \n",
       "\t\t\t\t\t Round 5 | Iteration: 37/70 (53%) | Samples: 3737/7000000\n",
       " \t\t\t\t\t Loss: \u001b[1m-279.367828\u001b[0m \n",
       "\t\t\t\t\t ---------"
      ]
     },
     "metadata": {},
     "output_type": "display_data"
    },
    {
     "data": {
      "text/plain": [
       "2025-10-13 07:46:27,326 fedbiomed INFO - \u001b[1mTRAINING\u001b[0m \n",
       "\t\t\t\t\t NODE_ID: NODE_CENTRALIZED \n",
       "\t\t\t\t\t Round 5 | Iteration: 38/70 (54%) | Samples: 3838/7000000\n",
       " \t\t\t\t\t Loss: \u001b[1m-281.320618\u001b[0m \n",
       "\t\t\t\t\t ---------"
      ]
     },
     "metadata": {},
     "output_type": "display_data"
    },
    {
     "data": {
      "text/plain": [
       "2025-10-13 07:46:27,342 fedbiomed INFO - \u001b[1mTRAINING\u001b[0m \n",
       "\t\t\t\t\t NODE_ID: NODE_CENTRALIZED \n",
       "\t\t\t\t\t Round 5 | Iteration: 39/70 (56%) | Samples: 3939/7000000\n",
       " \t\t\t\t\t Loss: \u001b[1m-283.259399\u001b[0m \n",
       "\t\t\t\t\t ---------"
      ]
     },
     "metadata": {},
     "output_type": "display_data"
    },
    {
     "data": {
      "text/plain": [
       "2025-10-13 07:46:27,356 fedbiomed INFO - \u001b[1mTRAINING\u001b[0m \n",
       "\t\t\t\t\t NODE_ID: NODE_CENTRALIZED \n",
       "\t\t\t\t\t Round 5 | Iteration: 40/70 (57%) | Samples: 4040/7000000\n",
       " \t\t\t\t\t Loss: \u001b[1m-285.185028\u001b[0m \n",
       "\t\t\t\t\t ---------"
      ]
     },
     "metadata": {},
     "output_type": "display_data"
    },
    {
     "data": {
      "text/plain": [
       "2025-10-13 07:46:27,372 fedbiomed INFO - \u001b[1mTRAINING\u001b[0m \n",
       "\t\t\t\t\t NODE_ID: NODE_CENTRALIZED \n",
       "\t\t\t\t\t Round 5 | Iteration: 41/70 (59%) | Samples: 4141/7000000\n",
       " \t\t\t\t\t Loss: \u001b[1m-287.105164\u001b[0m \n",
       "\t\t\t\t\t ---------"
      ]
     },
     "metadata": {},
     "output_type": "display_data"
    },
    {
     "data": {
      "text/plain": [
       "2025-10-13 07:46:27,388 fedbiomed INFO - \u001b[1mTRAINING\u001b[0m \n",
       "\t\t\t\t\t NODE_ID: NODE_CENTRALIZED \n",
       "\t\t\t\t\t Round 5 | Iteration: 42/70 (60%) | Samples: 4242/7000000\n",
       " \t\t\t\t\t Loss: \u001b[1m-289.021667\u001b[0m \n",
       "\t\t\t\t\t ---------"
      ]
     },
     "metadata": {},
     "output_type": "display_data"
    },
    {
     "data": {
      "text/plain": [
       "2025-10-13 07:46:27,403 fedbiomed INFO - \u001b[1mTRAINING\u001b[0m \n",
       "\t\t\t\t\t NODE_ID: NODE_CENTRALIZED \n",
       "\t\t\t\t\t Round 5 | Iteration: 43/70 (61%) | Samples: 4343/7000000\n",
       " \t\t\t\t\t Loss: \u001b[1m-290.931854\u001b[0m \n",
       "\t\t\t\t\t ---------"
      ]
     },
     "metadata": {},
     "output_type": "display_data"
    },
    {
     "data": {
      "text/plain": [
       "2025-10-13 07:46:27,418 fedbiomed INFO - \u001b[1mTRAINING\u001b[0m \n",
       "\t\t\t\t\t NODE_ID: NODE_CENTRALIZED \n",
       "\t\t\t\t\t Round 5 | Iteration: 44/70 (63%) | Samples: 4444/7000000\n",
       " \t\t\t\t\t Loss: \u001b[1m-292.832947\u001b[0m \n",
       "\t\t\t\t\t ---------"
      ]
     },
     "metadata": {},
     "output_type": "display_data"
    },
    {
     "data": {
      "text/plain": [
       "2025-10-13 07:46:27,434 fedbiomed INFO - \u001b[1mTRAINING\u001b[0m \n",
       "\t\t\t\t\t NODE_ID: NODE_CENTRALIZED \n",
       "\t\t\t\t\t Round 5 | Iteration: 45/70 (64%) | Samples: 4545/7000000\n",
       " \t\t\t\t\t Loss: \u001b[1m-294.722565\u001b[0m \n",
       "\t\t\t\t\t ---------"
      ]
     },
     "metadata": {},
     "output_type": "display_data"
    },
    {
     "data": {
      "text/plain": [
       "2025-10-13 07:46:27,449 fedbiomed INFO - \u001b[1mTRAINING\u001b[0m \n",
       "\t\t\t\t\t NODE_ID: NODE_CENTRALIZED \n",
       "\t\t\t\t\t Round 5 | Iteration: 46/70 (66%) | Samples: 4646/7000000\n",
       " \t\t\t\t\t Loss: \u001b[1m-296.603088\u001b[0m \n",
       "\t\t\t\t\t ---------"
      ]
     },
     "metadata": {},
     "output_type": "display_data"
    },
    {
     "data": {
      "text/plain": [
       "2025-10-13 07:46:27,464 fedbiomed INFO - \u001b[1mTRAINING\u001b[0m \n",
       "\t\t\t\t\t NODE_ID: NODE_CENTRALIZED \n",
       "\t\t\t\t\t Round 5 | Iteration: 47/70 (67%) | Samples: 4747/7000000\n",
       " \t\t\t\t\t Loss: \u001b[1m-298.479095\u001b[0m \n",
       "\t\t\t\t\t ---------"
      ]
     },
     "metadata": {},
     "output_type": "display_data"
    },
    {
     "data": {
      "text/plain": [
       "2025-10-13 07:46:27,479 fedbiomed INFO - \u001b[1mTRAINING\u001b[0m \n",
       "\t\t\t\t\t NODE_ID: NODE_CENTRALIZED \n",
       "\t\t\t\t\t Round 5 | Iteration: 48/70 (69%) | Samples: 4848/7000000\n",
       " \t\t\t\t\t Loss: \u001b[1m-300.348267\u001b[0m \n",
       "\t\t\t\t\t ---------"
      ]
     },
     "metadata": {},
     "output_type": "display_data"
    },
    {
     "data": {
      "text/plain": [
       "2025-10-13 07:46:27,494 fedbiomed INFO - \u001b[1mTRAINING\u001b[0m \n",
       "\t\t\t\t\t NODE_ID: NODE_CENTRALIZED \n",
       "\t\t\t\t\t Round 5 | Iteration: 49/70 (70%) | Samples: 4949/7000000\n",
       " \t\t\t\t\t Loss: \u001b[1m-302.206604\u001b[0m \n",
       "\t\t\t\t\t ---------"
      ]
     },
     "metadata": {},
     "output_type": "display_data"
    },
    {
     "data": {
      "text/plain": [
       "2025-10-13 07:46:27,509 fedbiomed INFO - \u001b[1mTRAINING\u001b[0m \n",
       "\t\t\t\t\t NODE_ID: NODE_CENTRALIZED \n",
       "\t\t\t\t\t Round 5 | Iteration: 50/70 (71%) | Samples: 5050/7000000\n",
       " \t\t\t\t\t Loss: \u001b[1m-304.056427\u001b[0m \n",
       "\t\t\t\t\t ---------"
      ]
     },
     "metadata": {},
     "output_type": "display_data"
    },
    {
     "data": {
      "text/plain": [
       "2025-10-13 07:46:27,525 fedbiomed INFO - \u001b[1mTRAINING\u001b[0m \n",
       "\t\t\t\t\t NODE_ID: NODE_CENTRALIZED \n",
       "\t\t\t\t\t Round 5 | Iteration: 51/70 (73%) | Samples: 5151/7000000\n",
       " \t\t\t\t\t Loss: \u001b[1m-305.898834\u001b[0m \n",
       "\t\t\t\t\t ---------"
      ]
     },
     "metadata": {},
     "output_type": "display_data"
    },
    {
     "data": {
      "text/plain": [
       "2025-10-13 07:46:27,540 fedbiomed INFO - \u001b[1mTRAINING\u001b[0m \n",
       "\t\t\t\t\t NODE_ID: NODE_CENTRALIZED \n",
       "\t\t\t\t\t Round 5 | Iteration: 52/70 (74%) | Samples: 5252/7000000\n",
       " \t\t\t\t\t Loss: \u001b[1m-307.731873\u001b[0m \n",
       "\t\t\t\t\t ---------"
      ]
     },
     "metadata": {},
     "output_type": "display_data"
    },
    {
     "data": {
      "text/plain": [
       "2025-10-13 07:46:27,556 fedbiomed INFO - \u001b[1mTRAINING\u001b[0m \n",
       "\t\t\t\t\t NODE_ID: NODE_CENTRALIZED \n",
       "\t\t\t\t\t Round 5 | Iteration: 53/70 (76%) | Samples: 5353/7000000\n",
       " \t\t\t\t\t Loss: \u001b[1m-309.556580\u001b[0m \n",
       "\t\t\t\t\t ---------"
      ]
     },
     "metadata": {},
     "output_type": "display_data"
    },
    {
     "data": {
      "text/plain": [
       "2025-10-13 07:46:27,572 fedbiomed INFO - \u001b[1mTRAINING\u001b[0m \n",
       "\t\t\t\t\t NODE_ID: NODE_CENTRALIZED \n",
       "\t\t\t\t\t Round 5 | Iteration: 54/70 (77%) | Samples: 5454/7000000\n",
       " \t\t\t\t\t Loss: \u001b[1m-311.373993\u001b[0m \n",
       "\t\t\t\t\t ---------"
      ]
     },
     "metadata": {},
     "output_type": "display_data"
    },
    {
     "data": {
      "text/plain": [
       "2025-10-13 07:46:27,596 fedbiomed INFO - \u001b[1mTRAINING\u001b[0m \n",
       "\t\t\t\t\t NODE_ID: NODE_CENTRALIZED \n",
       "\t\t\t\t\t Round 5 | Iteration: 55/70 (79%) | Samples: 5555/7000000\n",
       " \t\t\t\t\t Loss: \u001b[1m-313.182037\u001b[0m \n",
       "\t\t\t\t\t ---------"
      ]
     },
     "metadata": {},
     "output_type": "display_data"
    },
    {
     "data": {
      "text/plain": [
       "2025-10-13 07:46:27,616 fedbiomed INFO - \u001b[1mTRAINING\u001b[0m \n",
       "\t\t\t\t\t NODE_ID: NODE_CENTRALIZED \n",
       "\t\t\t\t\t Round 5 | Iteration: 56/70 (80%) | Samples: 5656/7000000\n",
       " \t\t\t\t\t Loss: \u001b[1m-314.980469\u001b[0m \n",
       "\t\t\t\t\t ---------"
      ]
     },
     "metadata": {},
     "output_type": "display_data"
    },
    {
     "data": {
      "text/plain": [
       "2025-10-13 07:46:27,636 fedbiomed INFO - \u001b[1mTRAINING\u001b[0m \n",
       "\t\t\t\t\t NODE_ID: NODE_CENTRALIZED \n",
       "\t\t\t\t\t Round 5 | Iteration: 57/70 (81%) | Samples: 5757/7000000\n",
       " \t\t\t\t\t Loss: \u001b[1m-316.770142\u001b[0m \n",
       "\t\t\t\t\t ---------"
      ]
     },
     "metadata": {},
     "output_type": "display_data"
    },
    {
     "data": {
      "text/plain": [
       "2025-10-13 07:46:27,660 fedbiomed INFO - \u001b[1mTRAINING\u001b[0m \n",
       "\t\t\t\t\t NODE_ID: NODE_CENTRALIZED \n",
       "\t\t\t\t\t Round 5 | Iteration: 58/70 (83%) | Samples: 5858/7000000\n",
       " \t\t\t\t\t Loss: \u001b[1m-318.551575\u001b[0m \n",
       "\t\t\t\t\t ---------"
      ]
     },
     "metadata": {},
     "output_type": "display_data"
    },
    {
     "data": {
      "text/plain": [
       "2025-10-13 07:46:27,680 fedbiomed INFO - \u001b[1mTRAINING\u001b[0m \n",
       "\t\t\t\t\t NODE_ID: NODE_CENTRALIZED \n",
       "\t\t\t\t\t Round 5 | Iteration: 59/70 (84%) | Samples: 5959/7000000\n",
       " \t\t\t\t\t Loss: \u001b[1m-320.324707\u001b[0m \n",
       "\t\t\t\t\t ---------"
      ]
     },
     "metadata": {},
     "output_type": "display_data"
    },
    {
     "data": {
      "text/plain": [
       "2025-10-13 07:46:27,708 fedbiomed INFO - \u001b[1mTRAINING\u001b[0m \n",
       "\t\t\t\t\t NODE_ID: NODE_CENTRALIZED \n",
       "\t\t\t\t\t Round 5 | Iteration: 60/70 (86%) | Samples: 6060/7000000\n",
       " \t\t\t\t\t Loss: \u001b[1m-322.087891\u001b[0m \n",
       "\t\t\t\t\t ---------"
      ]
     },
     "metadata": {},
     "output_type": "display_data"
    },
    {
     "data": {
      "text/plain": [
       "2025-10-13 07:46:27,729 fedbiomed INFO - \u001b[1mTRAINING\u001b[0m \n",
       "\t\t\t\t\t NODE_ID: NODE_CENTRALIZED \n",
       "\t\t\t\t\t Round 5 | Iteration: 61/70 (87%) | Samples: 6161/7000000\n",
       " \t\t\t\t\t Loss: \u001b[1m-323.841248\u001b[0m \n",
       "\t\t\t\t\t ---------"
      ]
     },
     "metadata": {},
     "output_type": "display_data"
    },
    {
     "data": {
      "text/plain": [
       "2025-10-13 07:46:27,752 fedbiomed INFO - \u001b[1mTRAINING\u001b[0m \n",
       "\t\t\t\t\t NODE_ID: NODE_CENTRALIZED \n",
       "\t\t\t\t\t Round 5 | Iteration: 62/70 (89%) | Samples: 6262/7000000\n",
       " \t\t\t\t\t Loss: \u001b[1m-325.586761\u001b[0m \n",
       "\t\t\t\t\t ---------"
      ]
     },
     "metadata": {},
     "output_type": "display_data"
    },
    {
     "data": {
      "text/plain": [
       "2025-10-13 07:46:27,787 fedbiomed INFO - \u001b[1mTRAINING\u001b[0m \n",
       "\t\t\t\t\t NODE_ID: NODE_CENTRALIZED \n",
       "\t\t\t\t\t Round 5 | Iteration: 63/70 (90%) | Samples: 6363/7000000\n",
       " \t\t\t\t\t Loss: \u001b[1m-327.323029\u001b[0m \n",
       "\t\t\t\t\t ---------"
      ]
     },
     "metadata": {},
     "output_type": "display_data"
    },
    {
     "data": {
      "text/plain": [
       "2025-10-13 07:46:27,819 fedbiomed INFO - \u001b[1mTRAINING\u001b[0m \n",
       "\t\t\t\t\t NODE_ID: NODE_CENTRALIZED \n",
       "\t\t\t\t\t Round 5 | Iteration: 64/70 (91%) | Samples: 6464/7000000\n",
       " \t\t\t\t\t Loss: \u001b[1m-329.049316\u001b[0m \n",
       "\t\t\t\t\t ---------"
      ]
     },
     "metadata": {},
     "output_type": "display_data"
    },
    {
     "data": {
      "text/plain": [
       "2025-10-13 07:46:27,855 fedbiomed INFO - \u001b[1mTRAINING\u001b[0m \n",
       "\t\t\t\t\t NODE_ID: NODE_CENTRALIZED \n",
       "\t\t\t\t\t Round 5 | Iteration: 65/70 (93%) | Samples: 6565/7000000\n",
       " \t\t\t\t\t Loss: \u001b[1m-330.766632\u001b[0m \n",
       "\t\t\t\t\t ---------"
      ]
     },
     "metadata": {},
     "output_type": "display_data"
    },
    {
     "data": {
      "text/plain": [
       "2025-10-13 07:46:27,875 fedbiomed INFO - \u001b[1mTRAINING\u001b[0m \n",
       "\t\t\t\t\t NODE_ID: NODE_CENTRALIZED \n",
       "\t\t\t\t\t Round 5 | Iteration: 66/70 (94%) | Samples: 6666/7000000\n",
       " \t\t\t\t\t Loss: \u001b[1m-332.474487\u001b[0m \n",
       "\t\t\t\t\t ---------"
      ]
     },
     "metadata": {},
     "output_type": "display_data"
    },
    {
     "data": {
      "text/plain": [
       "2025-10-13 07:46:27,891 fedbiomed INFO - \u001b[1mTRAINING\u001b[0m \n",
       "\t\t\t\t\t NODE_ID: NODE_CENTRALIZED \n",
       "\t\t\t\t\t Round 5 | Iteration: 67/70 (96%) | Samples: 6767/7000000\n",
       " \t\t\t\t\t Loss: \u001b[1m-334.172699\u001b[0m \n",
       "\t\t\t\t\t ---------"
      ]
     },
     "metadata": {},
     "output_type": "display_data"
    },
    {
     "data": {
      "text/plain": [
       "2025-10-13 07:46:27,907 fedbiomed INFO - \u001b[1mTRAINING\u001b[0m \n",
       "\t\t\t\t\t NODE_ID: NODE_CENTRALIZED \n",
       "\t\t\t\t\t Round 5 | Iteration: 68/70 (97%) | Samples: 6868/7000000\n",
       " \t\t\t\t\t Loss: \u001b[1m-335.861481\u001b[0m \n",
       "\t\t\t\t\t ---------"
      ]
     },
     "metadata": {},
     "output_type": "display_data"
    },
    {
     "data": {
      "text/plain": [
       "2025-10-13 07:46:27,931 fedbiomed INFO - \u001b[1mTRAINING\u001b[0m \n",
       "\t\t\t\t\t NODE_ID: NODE_CENTRALIZED \n",
       "\t\t\t\t\t Round 5 | Iteration: 69/70 (99%) | Samples: 6969/7000000\n",
       " \t\t\t\t\t Loss: \u001b[1m-337.540863\u001b[0m \n",
       "\t\t\t\t\t ---------"
      ]
     },
     "metadata": {},
     "output_type": "display_data"
    },
    {
     "data": {
      "text/plain": [
       "2025-10-13 07:46:27,943 fedbiomed INFO - \u001b[1mTRAINING\u001b[0m \n",
       "\t\t\t\t\t NODE_ID: NODE_CENTRALIZED \n",
       "\t\t\t\t\t Round 5 | Iteration: 70/70 (100%) | Samples: 7070/7000000\n",
       " \t\t\t\t\t Loss: \u001b[1m-339.210358\u001b[0m \n",
       "\t\t\t\t\t ---------"
      ]
     },
     "metadata": {},
     "output_type": "display_data"
    },
    {
     "data": {
      "text/plain": [
       "2025-10-13 07:46:28,222 fedbiomed INFO - Nodes that successfully reply in round 4 ['NODE_CENTRALIZED']"
      ]
     },
     "metadata": {},
     "output_type": "display_data"
    },
    {
     "data": {
      "text/plain": [
       "2025-10-13 07:46:28,307 fedbiomed INFO - Sampled nodes in round 5 ['NODE_CENTRALIZED']"
      ]
     },
     "metadata": {},
     "output_type": "display_data"
    },
    {
     "name": "stdout",
     "output_type": "stream",
     "text": [
      "<function extract_symbols at 0x7f920de88d30>\n"
     ]
    },
    {
     "data": {
      "text/plain": [
       "2025-10-13 07:46:28,360 fedbiomed INFO - \u001b[1mSending request\u001b[0m \n",
       "\t\t\t\t\t\u001b[1m To\u001b[0m: NODE_CENTRALIZED \n",
       "\t\t\t\t\t\u001b[1m Request: \u001b[0m: TRAIN\n",
       " -----------------------------------------------------------------"
      ]
     },
     "metadata": {},
     "output_type": "display_data"
    },
    {
     "data": {
      "text/plain": [
       "2025-10-13 07:46:28,495 fedbiomed DEBUG - Node: NODE_CENTRALIZED polling for the tasks"
      ]
     },
     "metadata": {},
     "output_type": "display_data"
    },
    {
     "data": {
      "text/plain": [
       "2025-10-13 07:46:28,632 fedbiomed INFO - \u001b[1mTRAINING\u001b[0m \n",
       "\t\t\t\t\t NODE_ID: NODE_CENTRALIZED \n",
       "\t\t\t\t\t Round 6 | Iteration: 1/70 (1%) | Samples: 101/7000000\n",
       " \t\t\t\t\t Loss: \u001b[1m-340.869751\u001b[0m \n",
       "\t\t\t\t\t ---------"
      ]
     },
     "metadata": {},
     "output_type": "display_data"
    },
    {
     "data": {
      "text/plain": [
       "2025-10-13 07:46:28,656 fedbiomed INFO - \u001b[1mTRAINING\u001b[0m \n",
       "\t\t\t\t\t NODE_ID: NODE_CENTRALIZED \n",
       "\t\t\t\t\t Round 6 | Iteration: 2/70 (3%) | Samples: 202/7000000\n",
       " \t\t\t\t\t Loss: \u001b[1m-340.426666\u001b[0m \n",
       "\t\t\t\t\t ---------"
      ]
     },
     "metadata": {},
     "output_type": "display_data"
    },
    {
     "data": {
      "text/plain": [
       "2025-10-13 07:46:28,672 fedbiomed INFO - \u001b[1mTRAINING\u001b[0m \n",
       "\t\t\t\t\t NODE_ID: NODE_CENTRALIZED \n",
       "\t\t\t\t\t Round 6 | Iteration: 3/70 (4%) | Samples: 303/7000000\n",
       " \t\t\t\t\t Loss: \u001b[1m-343.867493\u001b[0m \n",
       "\t\t\t\t\t ---------"
      ]
     },
     "metadata": {},
     "output_type": "display_data"
    },
    {
     "data": {
      "text/plain": [
       "2025-10-13 07:46:28,692 fedbiomed INFO - \u001b[1mTRAINING\u001b[0m \n",
       "\t\t\t\t\t NODE_ID: NODE_CENTRALIZED \n",
       "\t\t\t\t\t Round 6 | Iteration: 4/70 (6%) | Samples: 404/7000000\n",
       " \t\t\t\t\t Loss: \u001b[1m-345.474426\u001b[0m \n",
       "\t\t\t\t\t ---------"
      ]
     },
     "metadata": {},
     "output_type": "display_data"
    },
    {
     "data": {
      "text/plain": [
       "2025-10-13 07:46:28,709 fedbiomed INFO - \u001b[1mTRAINING\u001b[0m \n",
       "\t\t\t\t\t NODE_ID: NODE_CENTRALIZED \n",
       "\t\t\t\t\t Round 6 | Iteration: 5/70 (7%) | Samples: 505/7000000\n",
       " \t\t\t\t\t Loss: \u001b[1m-346.984894\u001b[0m \n",
       "\t\t\t\t\t ---------"
      ]
     },
     "metadata": {},
     "output_type": "display_data"
    },
    {
     "data": {
      "text/plain": [
       "2025-10-13 07:46:28,728 fedbiomed INFO - \u001b[1mTRAINING\u001b[0m \n",
       "\t\t\t\t\t NODE_ID: NODE_CENTRALIZED \n",
       "\t\t\t\t\t Round 6 | Iteration: 6/70 (9%) | Samples: 606/7000000\n",
       " \t\t\t\t\t Loss: \u001b[1m-349.045776\u001b[0m \n",
       "\t\t\t\t\t ---------"
      ]
     },
     "metadata": {},
     "output_type": "display_data"
    },
    {
     "data": {
      "text/plain": [
       "2025-10-13 07:46:28,748 fedbiomed INFO - \u001b[1mTRAINING\u001b[0m \n",
       "\t\t\t\t\t NODE_ID: NODE_CENTRALIZED \n",
       "\t\t\t\t\t Round 6 | Iteration: 7/70 (10%) | Samples: 707/7000000\n",
       " \t\t\t\t\t Loss: \u001b[1m-350.991730\u001b[0m \n",
       "\t\t\t\t\t ---------"
      ]
     },
     "metadata": {},
     "output_type": "display_data"
    },
    {
     "data": {
      "text/plain": [
       "2025-10-13 07:46:28,768 fedbiomed INFO - \u001b[1mTRAINING\u001b[0m \n",
       "\t\t\t\t\t NODE_ID: NODE_CENTRALIZED \n",
       "\t\t\t\t\t Round 6 | Iteration: 8/70 (11%) | Samples: 808/7000000\n",
       " \t\t\t\t\t Loss: \u001b[1m-352.656281\u001b[0m \n",
       "\t\t\t\t\t ---------"
      ]
     },
     "metadata": {},
     "output_type": "display_data"
    },
    {
     "data": {
      "text/plain": [
       "2025-10-13 07:46:28,793 fedbiomed INFO - \u001b[1mTRAINING\u001b[0m \n",
       "\t\t\t\t\t NODE_ID: NODE_CENTRALIZED \n",
       "\t\t\t\t\t Round 6 | Iteration: 9/70 (13%) | Samples: 909/7000000\n",
       " \t\t\t\t\t Loss: \u001b[1m-354.290558\u001b[0m \n",
       "\t\t\t\t\t ---------"
      ]
     },
     "metadata": {},
     "output_type": "display_data"
    },
    {
     "data": {
      "text/plain": [
       "2025-10-13 07:46:28,808 fedbiomed INFO - \u001b[1mTRAINING\u001b[0m \n",
       "\t\t\t\t\t NODE_ID: NODE_CENTRALIZED \n",
       "\t\t\t\t\t Round 6 | Iteration: 10/70 (14%) | Samples: 1010/7000000\n",
       " \t\t\t\t\t Loss: \u001b[1m-356.096283\u001b[0m \n",
       "\t\t\t\t\t ---------"
      ]
     },
     "metadata": {},
     "output_type": "display_data"
    },
    {
     "data": {
      "text/plain": [
       "2025-10-13 07:46:28,824 fedbiomed INFO - \u001b[1mTRAINING\u001b[0m \n",
       "\t\t\t\t\t NODE_ID: NODE_CENTRALIZED \n",
       "\t\t\t\t\t Round 6 | Iteration: 11/70 (16%) | Samples: 1111/7000000\n",
       " \t\t\t\t\t Loss: \u001b[1m-358.004395\u001b[0m \n",
       "\t\t\t\t\t ---------"
      ]
     },
     "metadata": {},
     "output_type": "display_data"
    },
    {
     "data": {
      "text/plain": [
       "2025-10-13 07:46:28,847 fedbiomed INFO - \u001b[1mTRAINING\u001b[0m \n",
       "\t\t\t\t\t NODE_ID: NODE_CENTRALIZED \n",
       "\t\t\t\t\t Round 6 | Iteration: 12/70 (17%) | Samples: 1212/7000000\n",
       " \t\t\t\t\t Loss: \u001b[1m-359.824524\u001b[0m \n",
       "\t\t\t\t\t ---------"
      ]
     },
     "metadata": {},
     "output_type": "display_data"
    },
    {
     "data": {
      "text/plain": [
       "2025-10-13 07:46:28,868 fedbiomed INFO - \u001b[1mTRAINING\u001b[0m \n",
       "\t\t\t\t\t NODE_ID: NODE_CENTRALIZED \n",
       "\t\t\t\t\t Round 6 | Iteration: 13/70 (19%) | Samples: 1313/7000000\n",
       " \t\t\t\t\t Loss: \u001b[1m-361.477295\u001b[0m \n",
       "\t\t\t\t\t ---------"
      ]
     },
     "metadata": {},
     "output_type": "display_data"
    },
    {
     "data": {
      "text/plain": [
       "2025-10-13 07:46:28,886 fedbiomed INFO - \u001b[1mTRAINING\u001b[0m \n",
       "\t\t\t\t\t NODE_ID: NODE_CENTRALIZED \n",
       "\t\t\t\t\t Round 6 | Iteration: 14/70 (20%) | Samples: 1414/7000000\n",
       " \t\t\t\t\t Loss: \u001b[1m-363.051514\u001b[0m \n",
       "\t\t\t\t\t ---------"
      ]
     },
     "metadata": {},
     "output_type": "display_data"
    },
    {
     "data": {
      "text/plain": [
       "2025-10-13 07:46:28,910 fedbiomed INFO - \u001b[1mTRAINING\u001b[0m \n",
       "\t\t\t\t\t NODE_ID: NODE_CENTRALIZED \n",
       "\t\t\t\t\t Round 6 | Iteration: 15/70 (21%) | Samples: 1515/7000000\n",
       " \t\t\t\t\t Loss: \u001b[1m-364.679749\u001b[0m \n",
       "\t\t\t\t\t ---------"
      ]
     },
     "metadata": {},
     "output_type": "display_data"
    },
    {
     "data": {
      "text/plain": [
       "2025-10-13 07:46:28,921 fedbiomed INFO - \u001b[1mTRAINING\u001b[0m \n",
       "\t\t\t\t\t NODE_ID: NODE_CENTRALIZED \n",
       "\t\t\t\t\t Round 6 | Iteration: 16/70 (23%) | Samples: 1616/7000000\n",
       " \t\t\t\t\t Loss: \u001b[1m-366.394989\u001b[0m \n",
       "\t\t\t\t\t ---------"
      ]
     },
     "metadata": {},
     "output_type": "display_data"
    },
    {
     "data": {
      "text/plain": [
       "2025-10-13 07:46:28,944 fedbiomed INFO - \u001b[1mTRAINING\u001b[0m \n",
       "\t\t\t\t\t NODE_ID: NODE_CENTRALIZED \n",
       "\t\t\t\t\t Round 6 | Iteration: 17/70 (24%) | Samples: 1717/7000000\n",
       " \t\t\t\t\t Loss: \u001b[1m-368.131226\u001b[0m \n",
       "\t\t\t\t\t ---------"
      ]
     },
     "metadata": {},
     "output_type": "display_data"
    },
    {
     "data": {
      "text/plain": [
       "2025-10-13 07:46:28,964 fedbiomed INFO - \u001b[1mTRAINING\u001b[0m \n",
       "\t\t\t\t\t NODE_ID: NODE_CENTRALIZED \n",
       "\t\t\t\t\t Round 6 | Iteration: 18/70 (26%) | Samples: 1818/7000000\n",
       " \t\t\t\t\t Loss: \u001b[1m-369.816681\u001b[0m \n",
       "\t\t\t\t\t ---------"
      ]
     },
     "metadata": {},
     "output_type": "display_data"
    },
    {
     "data": {
      "text/plain": [
       "2025-10-13 07:46:28,984 fedbiomed INFO - \u001b[1mTRAINING\u001b[0m \n",
       "\t\t\t\t\t NODE_ID: NODE_CENTRALIZED \n",
       "\t\t\t\t\t Round 6 | Iteration: 19/70 (27%) | Samples: 1919/7000000\n",
       " \t\t\t\t\t Loss: \u001b[1m-371.432983\u001b[0m \n",
       "\t\t\t\t\t ---------"
      ]
     },
     "metadata": {},
     "output_type": "display_data"
    },
    {
     "data": {
      "text/plain": [
       "2025-10-13 07:46:29,003 fedbiomed INFO - \u001b[1mTRAINING\u001b[0m \n",
       "\t\t\t\t\t NODE_ID: NODE_CENTRALIZED \n",
       "\t\t\t\t\t Round 6 | Iteration: 20/70 (29%) | Samples: 2020/7000000\n",
       " \t\t\t\t\t Loss: \u001b[1m-373.020020\u001b[0m \n",
       "\t\t\t\t\t ---------"
      ]
     },
     "metadata": {},
     "output_type": "display_data"
    },
    {
     "data": {
      "text/plain": [
       "2025-10-13 07:46:29,022 fedbiomed INFO - \u001b[1mTRAINING\u001b[0m \n",
       "\t\t\t\t\t NODE_ID: NODE_CENTRALIZED \n",
       "\t\t\t\t\t Round 6 | Iteration: 21/70 (30%) | Samples: 2121/7000000\n",
       " \t\t\t\t\t Loss: \u001b[1m-374.624237\u001b[0m \n",
       "\t\t\t\t\t ---------"
      ]
     },
     "metadata": {},
     "output_type": "display_data"
    },
    {
     "data": {
      "text/plain": [
       "2025-10-13 07:46:29,043 fedbiomed INFO - \u001b[1mTRAINING\u001b[0m \n",
       "\t\t\t\t\t NODE_ID: NODE_CENTRALIZED \n",
       "\t\t\t\t\t Round 6 | Iteration: 22/70 (31%) | Samples: 2222/7000000\n",
       " \t\t\t\t\t Loss: \u001b[1m-376.242493\u001b[0m \n",
       "\t\t\t\t\t ---------"
      ]
     },
     "metadata": {},
     "output_type": "display_data"
    },
    {
     "data": {
      "text/plain": [
       "2025-10-13 07:46:29,060 fedbiomed INFO - \u001b[1mTRAINING\u001b[0m \n",
       "\t\t\t\t\t NODE_ID: NODE_CENTRALIZED \n",
       "\t\t\t\t\t Round 6 | Iteration: 23/70 (33%) | Samples: 2323/7000000\n",
       " \t\t\t\t\t Loss: \u001b[1m-377.836761\u001b[0m \n",
       "\t\t\t\t\t ---------"
      ]
     },
     "metadata": {},
     "output_type": "display_data"
    },
    {
     "data": {
      "text/plain": [
       "2025-10-13 07:46:29,078 fedbiomed INFO - \u001b[1mTRAINING\u001b[0m \n",
       "\t\t\t\t\t NODE_ID: NODE_CENTRALIZED \n",
       "\t\t\t\t\t Round 6 | Iteration: 24/70 (34%) | Samples: 2424/7000000\n",
       " \t\t\t\t\t Loss: \u001b[1m-379.390839\u001b[0m \n",
       "\t\t\t\t\t ---------"
      ]
     },
     "metadata": {},
     "output_type": "display_data"
    },
    {
     "data": {
      "text/plain": [
       "2025-10-13 07:46:29,100 fedbiomed INFO - \u001b[1mTRAINING\u001b[0m \n",
       "\t\t\t\t\t NODE_ID: NODE_CENTRALIZED \n",
       "\t\t\t\t\t Round 6 | Iteration: 25/70 (36%) | Samples: 2525/7000000\n",
       " \t\t\t\t\t Loss: \u001b[1m-380.933197\u001b[0m \n",
       "\t\t\t\t\t ---------"
      ]
     },
     "metadata": {},
     "output_type": "display_data"
    },
    {
     "data": {
      "text/plain": [
       "2025-10-13 07:46:29,116 fedbiomed INFO - \u001b[1mTRAINING\u001b[0m \n",
       "\t\t\t\t\t NODE_ID: NODE_CENTRALIZED \n",
       "\t\t\t\t\t Round 6 | Iteration: 26/70 (37%) | Samples: 2626/7000000\n",
       " \t\t\t\t\t Loss: \u001b[1m-382.492462\u001b[0m \n",
       "\t\t\t\t\t ---------"
      ]
     },
     "metadata": {},
     "output_type": "display_data"
    },
    {
     "data": {
      "text/plain": [
       "2025-10-13 07:46:29,139 fedbiomed INFO - \u001b[1mTRAINING\u001b[0m \n",
       "\t\t\t\t\t NODE_ID: NODE_CENTRALIZED \n",
       "\t\t\t\t\t Round 6 | Iteration: 27/70 (39%) | Samples: 2727/7000000\n",
       " \t\t\t\t\t Loss: \u001b[1m-384.054932\u001b[0m \n",
       "\t\t\t\t\t ---------"
      ]
     },
     "metadata": {},
     "output_type": "display_data"
    },
    {
     "data": {
      "text/plain": [
       "2025-10-13 07:46:29,156 fedbiomed INFO - \u001b[1mTRAINING\u001b[0m \n",
       "\t\t\t\t\t NODE_ID: NODE_CENTRALIZED \n",
       "\t\t\t\t\t Round 6 | Iteration: 28/70 (40%) | Samples: 2828/7000000\n",
       " \t\t\t\t\t Loss: \u001b[1m-385.585480\u001b[0m \n",
       "\t\t\t\t\t ---------"
      ]
     },
     "metadata": {},
     "output_type": "display_data"
    },
    {
     "data": {
      "text/plain": [
       "2025-10-13 07:46:29,176 fedbiomed INFO - \u001b[1mTRAINING\u001b[0m \n",
       "\t\t\t\t\t NODE_ID: NODE_CENTRALIZED \n",
       "\t\t\t\t\t Round 6 | Iteration: 29/70 (41%) | Samples: 2929/7000000\n",
       " \t\t\t\t\t Loss: \u001b[1m-387.076477\u001b[0m \n",
       "\t\t\t\t\t ---------"
      ]
     },
     "metadata": {},
     "output_type": "display_data"
    },
    {
     "data": {
      "text/plain": [
       "2025-10-13 07:46:29,193 fedbiomed INFO - \u001b[1mTRAINING\u001b[0m \n",
       "\t\t\t\t\t NODE_ID: NODE_CENTRALIZED \n",
       "\t\t\t\t\t Round 6 | Iteration: 30/70 (43%) | Samples: 3030/7000000\n",
       " \t\t\t\t\t Loss: \u001b[1m-388.552521\u001b[0m \n",
       "\t\t\t\t\t ---------"
      ]
     },
     "metadata": {},
     "output_type": "display_data"
    },
    {
     "data": {
      "text/plain": [
       "2025-10-13 07:46:29,216 fedbiomed INFO - \u001b[1mTRAINING\u001b[0m \n",
       "\t\t\t\t\t NODE_ID: NODE_CENTRALIZED \n",
       "\t\t\t\t\t Round 6 | Iteration: 31/70 (44%) | Samples: 3131/7000000\n",
       " \t\t\t\t\t Loss: \u001b[1m-390.033539\u001b[0m \n",
       "\t\t\t\t\t ---------"
      ]
     },
     "metadata": {},
     "output_type": "display_data"
    },
    {
     "data": {
      "text/plain": [
       "2025-10-13 07:46:29,236 fedbiomed INFO - \u001b[1mTRAINING\u001b[0m \n",
       "\t\t\t\t\t NODE_ID: NODE_CENTRALIZED \n",
       "\t\t\t\t\t Round 6 | Iteration: 32/70 (46%) | Samples: 3232/7000000\n",
       " \t\t\t\t\t Loss: \u001b[1m-391.515320\u001b[0m \n",
       "\t\t\t\t\t ---------"
      ]
     },
     "metadata": {},
     "output_type": "display_data"
    },
    {
     "data": {
      "text/plain": [
       "2025-10-13 07:46:29,252 fedbiomed INFO - \u001b[1mTRAINING\u001b[0m \n",
       "\t\t\t\t\t NODE_ID: NODE_CENTRALIZED \n",
       "\t\t\t\t\t Round 6 | Iteration: 33/70 (47%) | Samples: 3333/7000000\n",
       " \t\t\t\t\t Loss: \u001b[1m-392.980713\u001b[0m \n",
       "\t\t\t\t\t ---------"
      ]
     },
     "metadata": {},
     "output_type": "display_data"
    },
    {
     "data": {
      "text/plain": [
       "2025-10-13 07:46:29,269 fedbiomed INFO - \u001b[1mTRAINING\u001b[0m \n",
       "\t\t\t\t\t NODE_ID: NODE_CENTRALIZED \n",
       "\t\t\t\t\t Round 6 | Iteration: 34/70 (49%) | Samples: 3434/7000000\n",
       " \t\t\t\t\t Loss: \u001b[1m-394.420380\u001b[0m \n",
       "\t\t\t\t\t ---------"
      ]
     },
     "metadata": {},
     "output_type": "display_data"
    },
    {
     "data": {
      "text/plain": [
       "2025-10-13 07:46:29,286 fedbiomed INFO - \u001b[1mTRAINING\u001b[0m \n",
       "\t\t\t\t\t NODE_ID: NODE_CENTRALIZED \n",
       "\t\t\t\t\t Round 6 | Iteration: 35/70 (50%) | Samples: 3535/7000000\n",
       " \t\t\t\t\t Loss: \u001b[1m-395.839905\u001b[0m \n",
       "\t\t\t\t\t ---------"
      ]
     },
     "metadata": {},
     "output_type": "display_data"
    },
    {
     "data": {
      "text/plain": [
       "2025-10-13 07:46:29,304 fedbiomed INFO - \u001b[1mTRAINING\u001b[0m \n",
       "\t\t\t\t\t NODE_ID: NODE_CENTRALIZED \n",
       "\t\t\t\t\t Round 6 | Iteration: 36/70 (51%) | Samples: 3636/7000000\n",
       " \t\t\t\t\t Loss: \u001b[1m-397.251129\u001b[0m \n",
       "\t\t\t\t\t ---------"
      ]
     },
     "metadata": {},
     "output_type": "display_data"
    },
    {
     "data": {
      "text/plain": [
       "2025-10-13 07:46:29,324 fedbiomed INFO - \u001b[1mTRAINING\u001b[0m \n",
       "\t\t\t\t\t NODE_ID: NODE_CENTRALIZED \n",
       "\t\t\t\t\t Round 6 | Iteration: 37/70 (53%) | Samples: 3737/7000000\n",
       " \t\t\t\t\t Loss: \u001b[1m-398.656708\u001b[0m \n",
       "\t\t\t\t\t ---------"
      ]
     },
     "metadata": {},
     "output_type": "display_data"
    },
    {
     "data": {
      "text/plain": [
       "2025-10-13 07:46:29,364 fedbiomed INFO - \u001b[1mTRAINING\u001b[0m \n",
       "\t\t\t\t\t NODE_ID: NODE_CENTRALIZED \n",
       "\t\t\t\t\t Round 6 | Iteration: 38/70 (54%) | Samples: 3838/7000000\n",
       " \t\t\t\t\t Loss: \u001b[1m-400.046570\u001b[0m \n",
       "\t\t\t\t\t ---------"
      ]
     },
     "metadata": {},
     "output_type": "display_data"
    },
    {
     "data": {
      "text/plain": [
       "2025-10-13 07:46:29,384 fedbiomed INFO - \u001b[1mTRAINING\u001b[0m \n",
       "\t\t\t\t\t NODE_ID: NODE_CENTRALIZED \n",
       "\t\t\t\t\t Round 6 | Iteration: 39/70 (56%) | Samples: 3939/7000000\n",
       " \t\t\t\t\t Loss: \u001b[1m-401.415833\u001b[0m \n",
       "\t\t\t\t\t ---------"
      ]
     },
     "metadata": {},
     "output_type": "display_data"
    },
    {
     "data": {
      "text/plain": [
       "2025-10-13 07:46:29,404 fedbiomed INFO - \u001b[1mTRAINING\u001b[0m \n",
       "\t\t\t\t\t NODE_ID: NODE_CENTRALIZED \n",
       "\t\t\t\t\t Round 6 | Iteration: 40/70 (57%) | Samples: 4040/7000000\n",
       " \t\t\t\t\t Loss: \u001b[1m-402.772034\u001b[0m \n",
       "\t\t\t\t\t ---------"
      ]
     },
     "metadata": {},
     "output_type": "display_data"
    },
    {
     "data": {
      "text/plain": [
       "2025-10-13 07:46:29,424 fedbiomed INFO - \u001b[1mTRAINING\u001b[0m \n",
       "\t\t\t\t\t NODE_ID: NODE_CENTRALIZED \n",
       "\t\t\t\t\t Round 6 | Iteration: 41/70 (59%) | Samples: 4141/7000000\n",
       " \t\t\t\t\t Loss: \u001b[1m-404.120605\u001b[0m \n",
       "\t\t\t\t\t ---------"
      ]
     },
     "metadata": {},
     "output_type": "display_data"
    },
    {
     "data": {
      "text/plain": [
       "2025-10-13 07:46:29,444 fedbiomed INFO - \u001b[1mTRAINING\u001b[0m \n",
       "\t\t\t\t\t NODE_ID: NODE_CENTRALIZED \n",
       "\t\t\t\t\t Round 6 | Iteration: 42/70 (60%) | Samples: 4242/7000000\n",
       " \t\t\t\t\t Loss: \u001b[1m-405.454163\u001b[0m \n",
       "\t\t\t\t\t ---------"
      ]
     },
     "metadata": {},
     "output_type": "display_data"
    },
    {
     "data": {
      "text/plain": [
       "2025-10-13 07:46:29,464 fedbiomed INFO - \u001b[1mTRAINING\u001b[0m \n",
       "\t\t\t\t\t NODE_ID: NODE_CENTRALIZED \n",
       "\t\t\t\t\t Round 6 | Iteration: 43/70 (61%) | Samples: 4343/7000000\n",
       " \t\t\t\t\t Loss: \u001b[1m-406.766052\u001b[0m \n",
       "\t\t\t\t\t ---------"
      ]
     },
     "metadata": {},
     "output_type": "display_data"
    },
    {
     "data": {
      "text/plain": [
       "2025-10-13 07:46:29,484 fedbiomed INFO - \u001b[1mTRAINING\u001b[0m \n",
       "\t\t\t\t\t NODE_ID: NODE_CENTRALIZED \n",
       "\t\t\t\t\t Round 6 | Iteration: 44/70 (63%) | Samples: 4444/7000000\n",
       " \t\t\t\t\t Loss: \u001b[1m-408.063019\u001b[0m \n",
       "\t\t\t\t\t ---------"
      ]
     },
     "metadata": {},
     "output_type": "display_data"
    },
    {
     "data": {
      "text/plain": [
       "2025-10-13 07:46:29,508 fedbiomed INFO - \u001b[1mTRAINING\u001b[0m \n",
       "\t\t\t\t\t NODE_ID: NODE_CENTRALIZED \n",
       "\t\t\t\t\t Round 6 | Iteration: 45/70 (64%) | Samples: 4545/7000000\n",
       " \t\t\t\t\t Loss: \u001b[1m-409.352692\u001b[0m \n",
       "\t\t\t\t\t ---------"
      ]
     },
     "metadata": {},
     "output_type": "display_data"
    },
    {
     "data": {
      "text/plain": [
       "2025-10-13 07:46:29,524 fedbiomed INFO - \u001b[1mTRAINING\u001b[0m \n",
       "\t\t\t\t\t NODE_ID: NODE_CENTRALIZED \n",
       "\t\t\t\t\t Round 6 | Iteration: 46/70 (66%) | Samples: 4646/7000000\n",
       " \t\t\t\t\t Loss: \u001b[1m-410.629883\u001b[0m \n",
       "\t\t\t\t\t ---------"
      ]
     },
     "metadata": {},
     "output_type": "display_data"
    },
    {
     "data": {
      "text/plain": [
       "2025-10-13 07:46:29,544 fedbiomed INFO - \u001b[1mTRAINING\u001b[0m \n",
       "\t\t\t\t\t NODE_ID: NODE_CENTRALIZED \n",
       "\t\t\t\t\t Round 6 | Iteration: 47/70 (67%) | Samples: 4747/7000000\n",
       " \t\t\t\t\t Loss: \u001b[1m-411.887115\u001b[0m \n",
       "\t\t\t\t\t ---------"
      ]
     },
     "metadata": {},
     "output_type": "display_data"
    },
    {
     "data": {
      "text/plain": [
       "2025-10-13 07:46:29,564 fedbiomed INFO - \u001b[1mTRAINING\u001b[0m \n",
       "\t\t\t\t\t NODE_ID: NODE_CENTRALIZED \n",
       "\t\t\t\t\t Round 6 | Iteration: 48/70 (69%) | Samples: 4848/7000000\n",
       " \t\t\t\t\t Loss: \u001b[1m-413.127319\u001b[0m \n",
       "\t\t\t\t\t ---------"
      ]
     },
     "metadata": {},
     "output_type": "display_data"
    },
    {
     "data": {
      "text/plain": [
       "2025-10-13 07:46:29,584 fedbiomed INFO - \u001b[1mTRAINING\u001b[0m \n",
       "\t\t\t\t\t NODE_ID: NODE_CENTRALIZED \n",
       "\t\t\t\t\t Round 6 | Iteration: 49/70 (70%) | Samples: 4949/7000000\n",
       " \t\t\t\t\t Loss: \u001b[1m-414.356262\u001b[0m \n",
       "\t\t\t\t\t ---------"
      ]
     },
     "metadata": {},
     "output_type": "display_data"
    },
    {
     "data": {
      "text/plain": [
       "2025-10-13 07:46:29,600 fedbiomed INFO - \u001b[1mTRAINING\u001b[0m \n",
       "\t\t\t\t\t NODE_ID: NODE_CENTRALIZED \n",
       "\t\t\t\t\t Round 6 | Iteration: 50/70 (71%) | Samples: 5050/7000000\n",
       " \t\t\t\t\t Loss: \u001b[1m-415.572632\u001b[0m \n",
       "\t\t\t\t\t ---------"
      ]
     },
     "metadata": {},
     "output_type": "display_data"
    },
    {
     "data": {
      "text/plain": [
       "2025-10-13 07:46:29,620 fedbiomed INFO - \u001b[1mTRAINING\u001b[0m \n",
       "\t\t\t\t\t NODE_ID: NODE_CENTRALIZED \n",
       "\t\t\t\t\t Round 6 | Iteration: 51/70 (73%) | Samples: 5151/7000000\n",
       " \t\t\t\t\t Loss: \u001b[1m-416.772400\u001b[0m \n",
       "\t\t\t\t\t ---------"
      ]
     },
     "metadata": {},
     "output_type": "display_data"
    },
    {
     "data": {
      "text/plain": [
       "2025-10-13 07:46:29,638 fedbiomed INFO - \u001b[1mTRAINING\u001b[0m \n",
       "\t\t\t\t\t NODE_ID: NODE_CENTRALIZED \n",
       "\t\t\t\t\t Round 6 | Iteration: 52/70 (74%) | Samples: 5252/7000000\n",
       " \t\t\t\t\t Loss: \u001b[1m-417.955536\u001b[0m \n",
       "\t\t\t\t\t ---------"
      ]
     },
     "metadata": {},
     "output_type": "display_data"
    },
    {
     "data": {
      "text/plain": [
       "2025-10-13 07:46:29,660 fedbiomed INFO - \u001b[1mTRAINING\u001b[0m \n",
       "\t\t\t\t\t NODE_ID: NODE_CENTRALIZED \n",
       "\t\t\t\t\t Round 6 | Iteration: 53/70 (76%) | Samples: 5353/7000000\n",
       " \t\t\t\t\t Loss: \u001b[1m-419.124298\u001b[0m \n",
       "\t\t\t\t\t ---------"
      ]
     },
     "metadata": {},
     "output_type": "display_data"
    },
    {
     "data": {
      "text/plain": [
       "2025-10-13 07:46:29,680 fedbiomed INFO - \u001b[1mTRAINING\u001b[0m \n",
       "\t\t\t\t\t NODE_ID: NODE_CENTRALIZED \n",
       "\t\t\t\t\t Round 6 | Iteration: 54/70 (77%) | Samples: 5454/7000000\n",
       " \t\t\t\t\t Loss: \u001b[1m-420.279907\u001b[0m \n",
       "\t\t\t\t\t ---------"
      ]
     },
     "metadata": {},
     "output_type": "display_data"
    },
    {
     "data": {
      "text/plain": [
       "2025-10-13 07:46:29,700 fedbiomed INFO - \u001b[1mTRAINING\u001b[0m \n",
       "\t\t\t\t\t NODE_ID: NODE_CENTRALIZED \n",
       "\t\t\t\t\t Round 6 | Iteration: 55/70 (79%) | Samples: 5555/7000000\n",
       " \t\t\t\t\t Loss: \u001b[1m-421.420868\u001b[0m \n",
       "\t\t\t\t\t ---------"
      ]
     },
     "metadata": {},
     "output_type": "display_data"
    },
    {
     "data": {
      "text/plain": [
       "2025-10-13 07:46:29,720 fedbiomed INFO - \u001b[1mTRAINING\u001b[0m \n",
       "\t\t\t\t\t NODE_ID: NODE_CENTRALIZED \n",
       "\t\t\t\t\t Round 6 | Iteration: 56/70 (80%) | Samples: 5656/7000000\n",
       " \t\t\t\t\t Loss: \u001b[1m-422.544983\u001b[0m \n",
       "\t\t\t\t\t ---------"
      ]
     },
     "metadata": {},
     "output_type": "display_data"
    },
    {
     "data": {
      "text/plain": [
       "2025-10-13 07:46:29,738 fedbiomed INFO - \u001b[1mTRAINING\u001b[0m \n",
       "\t\t\t\t\t NODE_ID: NODE_CENTRALIZED \n",
       "\t\t\t\t\t Round 6 | Iteration: 57/70 (81%) | Samples: 5757/7000000\n",
       " \t\t\t\t\t Loss: \u001b[1m-423.654205\u001b[0m \n",
       "\t\t\t\t\t ---------"
      ]
     },
     "metadata": {},
     "output_type": "display_data"
    },
    {
     "data": {
      "text/plain": [
       "2025-10-13 07:46:29,754 fedbiomed INFO - \u001b[1mTRAINING\u001b[0m \n",
       "\t\t\t\t\t NODE_ID: NODE_CENTRALIZED \n",
       "\t\t\t\t\t Round 6 | Iteration: 58/70 (83%) | Samples: 5858/7000000\n",
       " \t\t\t\t\t Loss: \u001b[1m-424.749939\u001b[0m \n",
       "\t\t\t\t\t ---------"
      ]
     },
     "metadata": {},
     "output_type": "display_data"
    },
    {
     "data": {
      "text/plain": [
       "2025-10-13 07:46:29,773 fedbiomed INFO - \u001b[1mTRAINING\u001b[0m \n",
       "\t\t\t\t\t NODE_ID: NODE_CENTRALIZED \n",
       "\t\t\t\t\t Round 6 | Iteration: 59/70 (84%) | Samples: 5959/7000000\n",
       " \t\t\t\t\t Loss: \u001b[1m-425.830139\u001b[0m \n",
       "\t\t\t\t\t ---------"
      ]
     },
     "metadata": {},
     "output_type": "display_data"
    },
    {
     "data": {
      "text/plain": [
       "2025-10-13 07:46:29,792 fedbiomed INFO - \u001b[1mTRAINING\u001b[0m \n",
       "\t\t\t\t\t NODE_ID: NODE_CENTRALIZED \n",
       "\t\t\t\t\t Round 6 | Iteration: 60/70 (86%) | Samples: 6060/7000000\n",
       " \t\t\t\t\t Loss: \u001b[1m-426.894501\u001b[0m \n",
       "\t\t\t\t\t ---------"
      ]
     },
     "metadata": {},
     "output_type": "display_data"
    },
    {
     "data": {
      "text/plain": [
       "2025-10-13 07:46:29,821 fedbiomed INFO - \u001b[1mTRAINING\u001b[0m \n",
       "\t\t\t\t\t NODE_ID: NODE_CENTRALIZED \n",
       "\t\t\t\t\t Round 6 | Iteration: 61/70 (87%) | Samples: 6161/7000000\n",
       " \t\t\t\t\t Loss: \u001b[1m-427.944214\u001b[0m \n",
       "\t\t\t\t\t ---------"
      ]
     },
     "metadata": {},
     "output_type": "display_data"
    },
    {
     "data": {
      "text/plain": [
       "2025-10-13 07:46:29,843 fedbiomed INFO - \u001b[1mTRAINING\u001b[0m \n",
       "\t\t\t\t\t NODE_ID: NODE_CENTRALIZED \n",
       "\t\t\t\t\t Round 6 | Iteration: 62/70 (89%) | Samples: 6262/7000000\n",
       " \t\t\t\t\t Loss: \u001b[1m-428.979431\u001b[0m \n",
       "\t\t\t\t\t ---------"
      ]
     },
     "metadata": {},
     "output_type": "display_data"
    },
    {
     "data": {
      "text/plain": [
       "2025-10-13 07:46:29,857 fedbiomed INFO - \u001b[1mTRAINING\u001b[0m \n",
       "\t\t\t\t\t NODE_ID: NODE_CENTRALIZED \n",
       "\t\t\t\t\t Round 6 | Iteration: 63/70 (90%) | Samples: 6363/7000000\n",
       " \t\t\t\t\t Loss: \u001b[1m-429.999237\u001b[0m \n",
       "\t\t\t\t\t ---------"
      ]
     },
     "metadata": {},
     "output_type": "display_data"
    },
    {
     "data": {
      "text/plain": [
       "2025-10-13 07:46:29,876 fedbiomed INFO - \u001b[1mTRAINING\u001b[0m \n",
       "\t\t\t\t\t NODE_ID: NODE_CENTRALIZED \n",
       "\t\t\t\t\t Round 6 | Iteration: 64/70 (91%) | Samples: 6464/7000000\n",
       " \t\t\t\t\t Loss: \u001b[1m-431.003387\u001b[0m \n",
       "\t\t\t\t\t ---------"
      ]
     },
     "metadata": {},
     "output_type": "display_data"
    },
    {
     "data": {
      "text/plain": [
       "2025-10-13 07:46:29,895 fedbiomed INFO - \u001b[1mTRAINING\u001b[0m \n",
       "\t\t\t\t\t NODE_ID: NODE_CENTRALIZED \n",
       "\t\t\t\t\t Round 6 | Iteration: 65/70 (93%) | Samples: 6565/7000000\n",
       " \t\t\t\t\t Loss: \u001b[1m-431.992950\u001b[0m \n",
       "\t\t\t\t\t ---------"
      ]
     },
     "metadata": {},
     "output_type": "display_data"
    },
    {
     "data": {
      "text/plain": [
       "2025-10-13 07:46:29,919 fedbiomed INFO - \u001b[1mTRAINING\u001b[0m \n",
       "\t\t\t\t\t NODE_ID: NODE_CENTRALIZED \n",
       "\t\t\t\t\t Round 6 | Iteration: 66/70 (94%) | Samples: 6666/7000000\n",
       " \t\t\t\t\t Loss: \u001b[1m-432.968109\u001b[0m \n",
       "\t\t\t\t\t ---------"
      ]
     },
     "metadata": {},
     "output_type": "display_data"
    },
    {
     "data": {
      "text/plain": [
       "2025-10-13 07:46:29,937 fedbiomed INFO - \u001b[1mTRAINING\u001b[0m \n",
       "\t\t\t\t\t NODE_ID: NODE_CENTRALIZED \n",
       "\t\t\t\t\t Round 6 | Iteration: 67/70 (96%) | Samples: 6767/7000000\n",
       " \t\t\t\t\t Loss: \u001b[1m-433.927612\u001b[0m \n",
       "\t\t\t\t\t ---------"
      ]
     },
     "metadata": {},
     "output_type": "display_data"
    },
    {
     "data": {
      "text/plain": [
       "2025-10-13 07:46:29,955 fedbiomed INFO - \u001b[1mTRAINING\u001b[0m \n",
       "\t\t\t\t\t NODE_ID: NODE_CENTRALIZED \n",
       "\t\t\t\t\t Round 6 | Iteration: 68/70 (97%) | Samples: 6868/7000000\n",
       " \t\t\t\t\t Loss: \u001b[1m-434.871368\u001b[0m \n",
       "\t\t\t\t\t ---------"
      ]
     },
     "metadata": {},
     "output_type": "display_data"
    },
    {
     "data": {
      "text/plain": [
       "2025-10-13 07:46:29,973 fedbiomed INFO - \u001b[1mTRAINING\u001b[0m \n",
       "\t\t\t\t\t NODE_ID: NODE_CENTRALIZED \n",
       "\t\t\t\t\t Round 6 | Iteration: 69/70 (99%) | Samples: 6969/7000000\n",
       " \t\t\t\t\t Loss: \u001b[1m-435.800995\u001b[0m \n",
       "\t\t\t\t\t ---------"
      ]
     },
     "metadata": {},
     "output_type": "display_data"
    },
    {
     "data": {
      "text/plain": [
       "2025-10-13 07:46:30,004 fedbiomed INFO - \u001b[1mTRAINING\u001b[0m \n",
       "\t\t\t\t\t NODE_ID: NODE_CENTRALIZED \n",
       "\t\t\t\t\t Round 6 | Iteration: 70/70 (100%) | Samples: 7070/7000000\n",
       " \t\t\t\t\t Loss: \u001b[1m-436.716095\u001b[0m \n",
       "\t\t\t\t\t ---------"
      ]
     },
     "metadata": {},
     "output_type": "display_data"
    },
    {
     "data": {
      "text/plain": [
       "2025-10-13 07:46:30,177 fedbiomed INFO - Nodes that successfully reply in round 5 ['NODE_CENTRALIZED']"
      ]
     },
     "metadata": {},
     "output_type": "display_data"
    },
    {
     "data": {
      "text/plain": [
       "2025-10-13 07:46:30,258 fedbiomed INFO - Sampled nodes in round 6 ['NODE_CENTRALIZED']"
      ]
     },
     "metadata": {},
     "output_type": "display_data"
    },
    {
     "name": "stdout",
     "output_type": "stream",
     "text": [
      "<function extract_symbols at 0x7f920de88d30>\n"
     ]
    },
    {
     "data": {
      "text/plain": [
       "2025-10-13 07:46:30,328 fedbiomed INFO - \u001b[1mSending request\u001b[0m \n",
       "\t\t\t\t\t\u001b[1m To\u001b[0m: NODE_CENTRALIZED \n",
       "\t\t\t\t\t\u001b[1m Request: \u001b[0m: TRAIN\n",
       " -----------------------------------------------------------------"
      ]
     },
     "metadata": {},
     "output_type": "display_data"
    },
    {
     "data": {
      "text/plain": [
       "2025-10-13 07:46:30,418 fedbiomed DEBUG - Node: NODE_CENTRALIZED polling for the tasks"
      ]
     },
     "metadata": {},
     "output_type": "display_data"
    },
    {
     "data": {
      "text/plain": [
       "2025-10-13 07:46:30,533 fedbiomed INFO - \u001b[1mTRAINING\u001b[0m \n",
       "\t\t\t\t\t NODE_ID: NODE_CENTRALIZED \n",
       "\t\t\t\t\t Round 7 | Iteration: 1/70 (1%) | Samples: 101/7000000\n",
       " \t\t\t\t\t Loss: \u001b[1m-437.615387\u001b[0m \n",
       "\t\t\t\t\t ---------"
      ]
     },
     "metadata": {},
     "output_type": "display_data"
    },
    {
     "data": {
      "text/plain": [
       "2025-10-13 07:46:30,552 fedbiomed INFO - \u001b[1mTRAINING\u001b[0m \n",
       "\t\t\t\t\t NODE_ID: NODE_CENTRALIZED \n",
       "\t\t\t\t\t Round 7 | Iteration: 2/70 (3%) | Samples: 202/7000000\n",
       " \t\t\t\t\t Loss: \u001b[1m-434.183533\u001b[0m \n",
       "\t\t\t\t\t ---------"
      ]
     },
     "metadata": {},
     "output_type": "display_data"
    },
    {
     "data": {
      "text/plain": [
       "2025-10-13 07:46:30,569 fedbiomed INFO - \u001b[1mTRAINING\u001b[0m \n",
       "\t\t\t\t\t NODE_ID: NODE_CENTRALIZED \n",
       "\t\t\t\t\t Round 7 | Iteration: 3/70 (4%) | Samples: 303/7000000\n",
       " \t\t\t\t\t Loss: \u001b[1m-439.375671\u001b[0m \n",
       "\t\t\t\t\t ---------"
      ]
     },
     "metadata": {},
     "output_type": "display_data"
    },
    {
     "data": {
      "text/plain": [
       "2025-10-13 07:46:30,587 fedbiomed INFO - \u001b[1mTRAINING\u001b[0m \n",
       "\t\t\t\t\t NODE_ID: NODE_CENTRALIZED \n",
       "\t\t\t\t\t Round 7 | Iteration: 4/70 (6%) | Samples: 404/7000000\n",
       " \t\t\t\t\t Loss: \u001b[1m-439.760925\u001b[0m \n",
       "\t\t\t\t\t ---------"
      ]
     },
     "metadata": {},
     "output_type": "display_data"
    },
    {
     "data": {
      "text/plain": [
       "2025-10-13 07:46:30,605 fedbiomed INFO - \u001b[1mTRAINING\u001b[0m \n",
       "\t\t\t\t\t NODE_ID: NODE_CENTRALIZED \n",
       "\t\t\t\t\t Round 7 | Iteration: 5/70 (7%) | Samples: 505/7000000\n",
       " \t\t\t\t\t Loss: \u001b[1m-439.335510\u001b[0m \n",
       "\t\t\t\t\t ---------"
      ]
     },
     "metadata": {},
     "output_type": "display_data"
    },
    {
     "data": {
      "text/plain": [
       "2025-10-13 07:46:30,622 fedbiomed INFO - \u001b[1mTRAINING\u001b[0m \n",
       "\t\t\t\t\t NODE_ID: NODE_CENTRALIZED \n",
       "\t\t\t\t\t Round 7 | Iteration: 6/70 (9%) | Samples: 606/7000000\n",
       " \t\t\t\t\t Loss: \u001b[1m-441.070831\u001b[0m \n",
       "\t\t\t\t\t ---------"
      ]
     },
     "metadata": {},
     "output_type": "display_data"
    },
    {
     "data": {
      "text/plain": [
       "2025-10-13 07:46:30,640 fedbiomed INFO - \u001b[1mTRAINING\u001b[0m \n",
       "\t\t\t\t\t NODE_ID: NODE_CENTRALIZED \n",
       "\t\t\t\t\t Round 7 | Iteration: 7/70 (10%) | Samples: 707/7000000\n",
       " \t\t\t\t\t Loss: \u001b[1m-443.359558\u001b[0m \n",
       "\t\t\t\t\t ---------"
      ]
     },
     "metadata": {},
     "output_type": "display_data"
    },
    {
     "data": {
      "text/plain": [
       "2025-10-13 07:46:30,657 fedbiomed INFO - \u001b[1mTRAINING\u001b[0m \n",
       "\t\t\t\t\t NODE_ID: NODE_CENTRALIZED \n",
       "\t\t\t\t\t Round 7 | Iteration: 8/70 (11%) | Samples: 808/7000000\n",
       " \t\t\t\t\t Loss: \u001b[1m-444.707611\u001b[0m \n",
       "\t\t\t\t\t ---------"
      ]
     },
     "metadata": {},
     "output_type": "display_data"
    },
    {
     "data": {
      "text/plain": [
       "2025-10-13 07:46:30,678 fedbiomed INFO - \u001b[1mTRAINING\u001b[0m \n",
       "\t\t\t\t\t NODE_ID: NODE_CENTRALIZED \n",
       "\t\t\t\t\t Round 7 | Iteration: 9/70 (13%) | Samples: 909/7000000\n",
       " \t\t\t\t\t Loss: \u001b[1m-445.092957\u001b[0m \n",
       "\t\t\t\t\t ---------"
      ]
     },
     "metadata": {},
     "output_type": "display_data"
    },
    {
     "data": {
      "text/plain": [
       "2025-10-13 07:46:30,695 fedbiomed INFO - \u001b[1mTRAINING\u001b[0m \n",
       "\t\t\t\t\t NODE_ID: NODE_CENTRALIZED \n",
       "\t\t\t\t\t Round 7 | Iteration: 10/70 (14%) | Samples: 1010/7000000\n",
       " \t\t\t\t\t Loss: \u001b[1m-445.552856\u001b[0m \n",
       "\t\t\t\t\t ---------"
      ]
     },
     "metadata": {},
     "output_type": "display_data"
    },
    {
     "data": {
      "text/plain": [
       "2025-10-13 07:46:30,716 fedbiomed INFO - \u001b[1mTRAINING\u001b[0m \n",
       "\t\t\t\t\t NODE_ID: NODE_CENTRALIZED \n",
       "\t\t\t\t\t Round 7 | Iteration: 11/70 (16%) | Samples: 1111/7000000\n",
       " \t\t\t\t\t Loss: \u001b[1m-446.728027\u001b[0m \n",
       "\t\t\t\t\t ---------"
      ]
     },
     "metadata": {},
     "output_type": "display_data"
    },
    {
     "data": {
      "text/plain": [
       "2025-10-13 07:46:30,732 fedbiomed INFO - \u001b[1mTRAINING\u001b[0m \n",
       "\t\t\t\t\t NODE_ID: NODE_CENTRALIZED \n",
       "\t\t\t\t\t Round 7 | Iteration: 12/70 (17%) | Samples: 1212/7000000\n",
       " \t\t\t\t\t Loss: \u001b[1m-448.268768\u001b[0m \n",
       "\t\t\t\t\t ---------"
      ]
     },
     "metadata": {},
     "output_type": "display_data"
    },
    {
     "data": {
      "text/plain": [
       "2025-10-13 07:46:30,754 fedbiomed INFO - \u001b[1mTRAINING\u001b[0m \n",
       "\t\t\t\t\t NODE_ID: NODE_CENTRALIZED \n",
       "\t\t\t\t\t Round 7 | Iteration: 13/70 (19%) | Samples: 1313/7000000\n",
       " \t\t\t\t\t Loss: \u001b[1m-449.517029\u001b[0m \n",
       "\t\t\t\t\t ---------"
      ]
     },
     "metadata": {},
     "output_type": "display_data"
    },
    {
     "data": {
      "text/plain": [
       "2025-10-13 07:46:30,773 fedbiomed INFO - \u001b[1mTRAINING\u001b[0m \n",
       "\t\t\t\t\t NODE_ID: NODE_CENTRALIZED \n",
       "\t\t\t\t\t Round 7 | Iteration: 14/70 (20%) | Samples: 1414/7000000\n",
       " \t\t\t\t\t Loss: \u001b[1m-450.226166\u001b[0m \n",
       "\t\t\t\t\t ---------"
      ]
     },
     "metadata": {},
     "output_type": "display_data"
    },
    {
     "data": {
      "text/plain": [
       "2025-10-13 07:46:30,788 fedbiomed INFO - \u001b[1mTRAINING\u001b[0m \n",
       "\t\t\t\t\t NODE_ID: NODE_CENTRALIZED \n",
       "\t\t\t\t\t Round 7 | Iteration: 15/70 (21%) | Samples: 1515/7000000\n",
       " \t\t\t\t\t Loss: \u001b[1m-450.728455\u001b[0m \n",
       "\t\t\t\t\t ---------"
      ]
     },
     "metadata": {},
     "output_type": "display_data"
    },
    {
     "data": {
      "text/plain": [
       "2025-10-13 07:46:30,807 fedbiomed INFO - \u001b[1mTRAINING\u001b[0m \n",
       "\t\t\t\t\t NODE_ID: NODE_CENTRALIZED \n",
       "\t\t\t\t\t Round 7 | Iteration: 16/70 (23%) | Samples: 1616/7000000\n",
       " \t\t\t\t\t Loss: \u001b[1m-451.485199\u001b[0m \n",
       "\t\t\t\t\t ---------"
      ]
     },
     "metadata": {},
     "output_type": "display_data"
    },
    {
     "data": {
      "text/plain": [
       "2025-10-13 07:46:30,822 fedbiomed INFO - \u001b[1mTRAINING\u001b[0m \n",
       "\t\t\t\t\t NODE_ID: NODE_CENTRALIZED \n",
       "\t\t\t\t\t Round 7 | Iteration: 17/70 (24%) | Samples: 1717/7000000\n",
       " \t\t\t\t\t Loss: \u001b[1m-452.572021\u001b[0m \n",
       "\t\t\t\t\t ---------"
      ]
     },
     "metadata": {},
     "output_type": "display_data"
    },
    {
     "data": {
      "text/plain": [
       "2025-10-13 07:46:30,838 fedbiomed INFO - \u001b[1mTRAINING\u001b[0m \n",
       "\t\t\t\t\t NODE_ID: NODE_CENTRALIZED \n",
       "\t\t\t\t\t Round 7 | Iteration: 18/70 (26%) | Samples: 1818/7000000\n",
       " \t\t\t\t\t Loss: \u001b[1m-453.691620\u001b[0m \n",
       "\t\t\t\t\t ---------"
      ]
     },
     "metadata": {},
     "output_type": "display_data"
    },
    {
     "data": {
      "text/plain": [
       "2025-10-13 07:46:30,853 fedbiomed INFO - \u001b[1mTRAINING\u001b[0m \n",
       "\t\t\t\t\t NODE_ID: NODE_CENTRALIZED \n",
       "\t\t\t\t\t Round 7 | Iteration: 19/70 (27%) | Samples: 1919/7000000\n",
       " \t\t\t\t\t Loss: \u001b[1m-454.554016\u001b[0m \n",
       "\t\t\t\t\t ---------"
      ]
     },
     "metadata": {},
     "output_type": "display_data"
    },
    {
     "data": {
      "text/plain": [
       "2025-10-13 07:46:30,868 fedbiomed INFO - \u001b[1mTRAINING\u001b[0m \n",
       "\t\t\t\t\t NODE_ID: NODE_CENTRALIZED \n",
       "\t\t\t\t\t Round 7 | Iteration: 20/70 (29%) | Samples: 2020/7000000\n",
       " \t\t\t\t\t Loss: \u001b[1m-455.166351\u001b[0m \n",
       "\t\t\t\t\t ---------"
      ]
     },
     "metadata": {},
     "output_type": "display_data"
    },
    {
     "data": {
      "text/plain": [
       "2025-10-13 07:46:30,883 fedbiomed INFO - \u001b[1mTRAINING\u001b[0m \n",
       "\t\t\t\t\t NODE_ID: NODE_CENTRALIZED \n",
       "\t\t\t\t\t Round 7 | Iteration: 21/70 (30%) | Samples: 2121/7000000\n",
       " \t\t\t\t\t Loss: \u001b[1m-455.775208\u001b[0m \n",
       "\t\t\t\t\t ---------"
      ]
     },
     "metadata": {},
     "output_type": "display_data"
    },
    {
     "data": {
      "text/plain": [
       "2025-10-13 07:46:30,898 fedbiomed INFO - \u001b[1mTRAINING\u001b[0m \n",
       "\t\t\t\t\t NODE_ID: NODE_CENTRALIZED \n",
       "\t\t\t\t\t Round 7 | Iteration: 22/70 (31%) | Samples: 2222/7000000\n",
       " \t\t\t\t\t Loss: \u001b[1m-456.555908\u001b[0m \n",
       "\t\t\t\t\t ---------"
      ]
     },
     "metadata": {},
     "output_type": "display_data"
    },
    {
     "data": {
      "text/plain": [
       "2025-10-13 07:46:30,914 fedbiomed INFO - \u001b[1mTRAINING\u001b[0m \n",
       "\t\t\t\t\t NODE_ID: NODE_CENTRALIZED \n",
       "\t\t\t\t\t Round 7 | Iteration: 23/70 (33%) | Samples: 2323/7000000\n",
       " \t\t\t\t\t Loss: \u001b[1m-457.432129\u001b[0m \n",
       "\t\t\t\t\t ---------"
      ]
     },
     "metadata": {},
     "output_type": "display_data"
    },
    {
     "data": {
      "text/plain": [
       "2025-10-13 07:46:30,928 fedbiomed INFO - \u001b[1mTRAINING\u001b[0m \n",
       "\t\t\t\t\t NODE_ID: NODE_CENTRALIZED \n",
       "\t\t\t\t\t Round 7 | Iteration: 24/70 (34%) | Samples: 2424/7000000\n",
       " \t\t\t\t\t Loss: \u001b[1m-458.210876\u001b[0m \n",
       "\t\t\t\t\t ---------"
      ]
     },
     "metadata": {},
     "output_type": "display_data"
    },
    {
     "data": {
      "text/plain": [
       "2025-10-13 07:46:30,944 fedbiomed INFO - \u001b[1mTRAINING\u001b[0m \n",
       "\t\t\t\t\t NODE_ID: NODE_CENTRALIZED \n",
       "\t\t\t\t\t Round 7 | Iteration: 25/70 (36%) | Samples: 2525/7000000\n",
       " \t\t\t\t\t Loss: \u001b[1m-458.820038\u001b[0m \n",
       "\t\t\t\t\t ---------"
      ]
     },
     "metadata": {},
     "output_type": "display_data"
    },
    {
     "data": {
      "text/plain": [
       "2025-10-13 07:46:30,959 fedbiomed INFO - \u001b[1mTRAINING\u001b[0m \n",
       "\t\t\t\t\t NODE_ID: NODE_CENTRALIZED \n",
       "\t\t\t\t\t Round 7 | Iteration: 26/70 (37%) | Samples: 2626/7000000\n",
       " \t\t\t\t\t Loss: \u001b[1m-459.374237\u001b[0m \n",
       "\t\t\t\t\t ---------"
      ]
     },
     "metadata": {},
     "output_type": "display_data"
    },
    {
     "data": {
      "text/plain": [
       "2025-10-13 07:46:30,983 fedbiomed INFO - \u001b[1mTRAINING\u001b[0m \n",
       "\t\t\t\t\t NODE_ID: NODE_CENTRALIZED \n",
       "\t\t\t\t\t Round 7 | Iteration: 27/70 (39%) | Samples: 2727/7000000\n",
       " \t\t\t\t\t Loss: \u001b[1m-460.010895\u001b[0m \n",
       "\t\t\t\t\t ---------"
      ]
     },
     "metadata": {},
     "output_type": "display_data"
    },
    {
     "data": {
      "text/plain": [
       "2025-10-13 07:46:31,000 fedbiomed INFO - \u001b[1mTRAINING\u001b[0m \n",
       "\t\t\t\t\t NODE_ID: NODE_CENTRALIZED \n",
       "\t\t\t\t\t Round 7 | Iteration: 28/70 (40%) | Samples: 2828/7000000\n",
       " \t\t\t\t\t Loss: \u001b[1m-460.719177\u001b[0m \n",
       "\t\t\t\t\t ---------"
      ]
     },
     "metadata": {},
     "output_type": "display_data"
    },
    {
     "data": {
      "text/plain": [
       "2025-10-13 07:46:31,034 fedbiomed INFO - \u001b[1mTRAINING\u001b[0m \n",
       "\t\t\t\t\t NODE_ID: NODE_CENTRALIZED \n",
       "\t\t\t\t\t Round 7 | Iteration: 29/70 (41%) | Samples: 2929/7000000\n",
       " \t\t\t\t\t Loss: \u001b[1m-461.376221\u001b[0m \n",
       "\t\t\t\t\t ---------"
      ]
     },
     "metadata": {},
     "output_type": "display_data"
    },
    {
     "data": {
      "text/plain": [
       "2025-10-13 07:46:31,048 fedbiomed INFO - \u001b[1mTRAINING\u001b[0m \n",
       "\t\t\t\t\t NODE_ID: NODE_CENTRALIZED \n",
       "\t\t\t\t\t Round 7 | Iteration: 30/70 (43%) | Samples: 3030/7000000\n",
       " \t\t\t\t\t Loss: \u001b[1m-461.913971\u001b[0m \n",
       "\t\t\t\t\t ---------"
      ]
     },
     "metadata": {},
     "output_type": "display_data"
    },
    {
     "data": {
      "text/plain": [
       "2025-10-13 07:46:31,064 fedbiomed INFO - \u001b[1mTRAINING\u001b[0m \n",
       "\t\t\t\t\t NODE_ID: NODE_CENTRALIZED \n",
       "\t\t\t\t\t Round 7 | Iteration: 31/70 (44%) | Samples: 3131/7000000\n",
       " \t\t\t\t\t Loss: \u001b[1m-462.394806\u001b[0m \n",
       "\t\t\t\t\t ---------"
      ]
     },
     "metadata": {},
     "output_type": "display_data"
    },
    {
     "data": {
      "text/plain": [
       "2025-10-13 07:46:31,079 fedbiomed INFO - \u001b[1mTRAINING\u001b[0m \n",
       "\t\t\t\t\t NODE_ID: NODE_CENTRALIZED \n",
       "\t\t\t\t\t Round 7 | Iteration: 32/70 (46%) | Samples: 3232/7000000\n",
       " \t\t\t\t\t Loss: \u001b[1m-462.914337\u001b[0m \n",
       "\t\t\t\t\t ---------"
      ]
     },
     "metadata": {},
     "output_type": "display_data"
    },
    {
     "data": {
      "text/plain": [
       "2025-10-13 07:46:31,095 fedbiomed INFO - \u001b[1mTRAINING\u001b[0m \n",
       "\t\t\t\t\t NODE_ID: NODE_CENTRALIZED \n",
       "\t\t\t\t\t Round 7 | Iteration: 33/70 (47%) | Samples: 3333/7000000\n",
       " \t\t\t\t\t Loss: \u001b[1m-463.475677\u001b[0m \n",
       "\t\t\t\t\t ---------"
      ]
     },
     "metadata": {},
     "output_type": "display_data"
    },
    {
     "data": {
      "text/plain": [
       "2025-10-13 07:46:31,111 fedbiomed INFO - \u001b[1mTRAINING\u001b[0m \n",
       "\t\t\t\t\t NODE_ID: NODE_CENTRALIZED \n",
       "\t\t\t\t\t Round 7 | Iteration: 34/70 (49%) | Samples: 3434/7000000\n",
       " \t\t\t\t\t Loss: \u001b[1m-464.003540\u001b[0m \n",
       "\t\t\t\t\t ---------"
      ]
     },
     "metadata": {},
     "output_type": "display_data"
    },
    {
     "data": {
      "text/plain": [
       "2025-10-13 07:46:31,126 fedbiomed INFO - \u001b[1mTRAINING\u001b[0m \n",
       "\t\t\t\t\t NODE_ID: NODE_CENTRALIZED \n",
       "\t\t\t\t\t Round 7 | Iteration: 35/70 (50%) | Samples: 3535/7000000\n",
       " \t\t\t\t\t Loss: \u001b[1m-464.455353\u001b[0m \n",
       "\t\t\t\t\t ---------"
      ]
     },
     "metadata": {},
     "output_type": "display_data"
    },
    {
     "data": {
      "text/plain": [
       "2025-10-13 07:46:31,142 fedbiomed INFO - \u001b[1mTRAINING\u001b[0m \n",
       "\t\t\t\t\t NODE_ID: NODE_CENTRALIZED \n",
       "\t\t\t\t\t Round 7 | Iteration: 36/70 (51%) | Samples: 3636/7000000\n",
       " \t\t\t\t\t Loss: \u001b[1m-464.871124\u001b[0m \n",
       "\t\t\t\t\t ---------"
      ]
     },
     "metadata": {},
     "output_type": "display_data"
    },
    {
     "data": {
      "text/plain": [
       "2025-10-13 07:46:31,158 fedbiomed INFO - \u001b[1mTRAINING\u001b[0m \n",
       "\t\t\t\t\t NODE_ID: NODE_CENTRALIZED \n",
       "\t\t\t\t\t Round 7 | Iteration: 37/70 (53%) | Samples: 3737/7000000\n",
       " \t\t\t\t\t Loss: \u001b[1m-465.304382\u001b[0m \n",
       "\t\t\t\t\t ---------"
      ]
     },
     "metadata": {},
     "output_type": "display_data"
    },
    {
     "data": {
      "text/plain": [
       "2025-10-13 07:46:31,173 fedbiomed INFO - \u001b[1mTRAINING\u001b[0m \n",
       "\t\t\t\t\t NODE_ID: NODE_CENTRALIZED \n",
       "\t\t\t\t\t Round 7 | Iteration: 38/70 (54%) | Samples: 3838/7000000\n",
       " \t\t\t\t\t Loss: \u001b[1m-465.745758\u001b[0m \n",
       "\t\t\t\t\t ---------"
      ]
     },
     "metadata": {},
     "output_type": "display_data"
    },
    {
     "data": {
      "text/plain": [
       "2025-10-13 07:46:31,189 fedbiomed INFO - \u001b[1mTRAINING\u001b[0m \n",
       "\t\t\t\t\t NODE_ID: NODE_CENTRALIZED \n",
       "\t\t\t\t\t Round 7 | Iteration: 39/70 (56%) | Samples: 3939/7000000\n",
       " \t\t\t\t\t Loss: \u001b[1m-466.148193\u001b[0m \n",
       "\t\t\t\t\t ---------"
      ]
     },
     "metadata": {},
     "output_type": "display_data"
    },
    {
     "data": {
      "text/plain": [
       "2025-10-13 07:46:31,204 fedbiomed INFO - \u001b[1mTRAINING\u001b[0m \n",
       "\t\t\t\t\t NODE_ID: NODE_CENTRALIZED \n",
       "\t\t\t\t\t Round 7 | Iteration: 40/70 (57%) | Samples: 4040/7000000\n",
       " \t\t\t\t\t Loss: \u001b[1m-466.501770\u001b[0m \n",
       "\t\t\t\t\t ---------"
      ]
     },
     "metadata": {},
     "output_type": "display_data"
    },
    {
     "data": {
      "text/plain": [
       "2025-10-13 07:46:31,220 fedbiomed INFO - \u001b[1mTRAINING\u001b[0m \n",
       "\t\t\t\t\t NODE_ID: NODE_CENTRALIZED \n",
       "\t\t\t\t\t Round 7 | Iteration: 41/70 (59%) | Samples: 4141/7000000\n",
       " \t\t\t\t\t Loss: \u001b[1m-466.844025\u001b[0m \n",
       "\t\t\t\t\t ---------"
      ]
     },
     "metadata": {},
     "output_type": "display_data"
    },
    {
     "data": {
      "text/plain": [
       "2025-10-13 07:46:31,235 fedbiomed INFO - \u001b[1mTRAINING\u001b[0m \n",
       "\t\t\t\t\t NODE_ID: NODE_CENTRALIZED \n",
       "\t\t\t\t\t Round 7 | Iteration: 42/70 (60%) | Samples: 4242/7000000\n",
       " \t\t\t\t\t Loss: \u001b[1m-467.197235\u001b[0m \n",
       "\t\t\t\t\t ---------"
      ]
     },
     "metadata": {},
     "output_type": "display_data"
    },
    {
     "data": {
      "text/plain": [
       "2025-10-13 07:46:31,250 fedbiomed INFO - \u001b[1mTRAINING\u001b[0m \n",
       "\t\t\t\t\t NODE_ID: NODE_CENTRALIZED \n",
       "\t\t\t\t\t Round 7 | Iteration: 43/70 (61%) | Samples: 4343/7000000\n",
       " \t\t\t\t\t Loss: \u001b[1m-467.536682\u001b[0m \n",
       "\t\t\t\t\t ---------"
      ]
     },
     "metadata": {},
     "output_type": "display_data"
    },
    {
     "data": {
      "text/plain": [
       "2025-10-13 07:46:31,265 fedbiomed INFO - \u001b[1mTRAINING\u001b[0m \n",
       "\t\t\t\t\t NODE_ID: NODE_CENTRALIZED \n",
       "\t\t\t\t\t Round 7 | Iteration: 44/70 (63%) | Samples: 4444/7000000\n",
       " \t\t\t\t\t Loss: \u001b[1m-467.835358\u001b[0m \n",
       "\t\t\t\t\t ---------"
      ]
     },
     "metadata": {},
     "output_type": "display_data"
    },
    {
     "data": {
      "text/plain": [
       "2025-10-13 07:46:31,280 fedbiomed INFO - \u001b[1mTRAINING\u001b[0m \n",
       "\t\t\t\t\t NODE_ID: NODE_CENTRALIZED \n",
       "\t\t\t\t\t Round 7 | Iteration: 45/70 (64%) | Samples: 4545/7000000\n",
       " \t\t\t\t\t Loss: \u001b[1m-468.106506\u001b[0m \n",
       "\t\t\t\t\t ---------"
      ]
     },
     "metadata": {},
     "output_type": "display_data"
    },
    {
     "data": {
      "text/plain": [
       "2025-10-13 07:46:31,295 fedbiomed INFO - \u001b[1mTRAINING\u001b[0m \n",
       "\t\t\t\t\t NODE_ID: NODE_CENTRALIZED \n",
       "\t\t\t\t\t Round 7 | Iteration: 46/70 (66%) | Samples: 4646/7000000\n",
       " \t\t\t\t\t Loss: \u001b[1m-468.378296\u001b[0m \n",
       "\t\t\t\t\t ---------"
      ]
     },
     "metadata": {},
     "output_type": "display_data"
    },
    {
     "data": {
      "text/plain": [
       "2025-10-13 07:46:31,311 fedbiomed INFO - \u001b[1mTRAINING\u001b[0m \n",
       "\t\t\t\t\t NODE_ID: NODE_CENTRALIZED \n",
       "\t\t\t\t\t Round 7 | Iteration: 47/70 (67%) | Samples: 4747/7000000\n",
       " \t\t\t\t\t Loss: \u001b[1m-468.648285\u001b[0m \n",
       "\t\t\t\t\t ---------"
      ]
     },
     "metadata": {},
     "output_type": "display_data"
    },
    {
     "data": {
      "text/plain": [
       "2025-10-13 07:46:31,326 fedbiomed INFO - \u001b[1mTRAINING\u001b[0m \n",
       "\t\t\t\t\t NODE_ID: NODE_CENTRALIZED \n",
       "\t\t\t\t\t Round 7 | Iteration: 48/70 (69%) | Samples: 4848/7000000\n",
       " \t\t\t\t\t Loss: \u001b[1m-468.892731\u001b[0m \n",
       "\t\t\t\t\t ---------"
      ]
     },
     "metadata": {},
     "output_type": "display_data"
    },
    {
     "data": {
      "text/plain": [
       "2025-10-13 07:46:31,342 fedbiomed INFO - \u001b[1mTRAINING\u001b[0m \n",
       "\t\t\t\t\t NODE_ID: NODE_CENTRALIZED \n",
       "\t\t\t\t\t Round 7 | Iteration: 49/70 (70%) | Samples: 4949/7000000\n",
       " \t\t\t\t\t Loss: \u001b[1m-469.109497\u001b[0m \n",
       "\t\t\t\t\t ---------"
      ]
     },
     "metadata": {},
     "output_type": "display_data"
    },
    {
     "data": {
      "text/plain": [
       "2025-10-13 07:46:31,357 fedbiomed INFO - \u001b[1mTRAINING\u001b[0m \n",
       "\t\t\t\t\t NODE_ID: NODE_CENTRALIZED \n",
       "\t\t\t\t\t Round 7 | Iteration: 50/70 (71%) | Samples: 5050/7000000\n",
       " \t\t\t\t\t Loss: \u001b[1m-469.319092\u001b[0m \n",
       "\t\t\t\t\t ---------"
      ]
     },
     "metadata": {},
     "output_type": "display_data"
    },
    {
     "data": {
      "text/plain": [
       "2025-10-13 07:46:31,372 fedbiomed INFO - \u001b[1mTRAINING\u001b[0m \n",
       "\t\t\t\t\t NODE_ID: NODE_CENTRALIZED \n",
       "\t\t\t\t\t Round 7 | Iteration: 51/70 (73%) | Samples: 5151/7000000\n",
       " \t\t\t\t\t Loss: \u001b[1m-469.526672\u001b[0m \n",
       "\t\t\t\t\t ---------"
      ]
     },
     "metadata": {},
     "output_type": "display_data"
    },
    {
     "data": {
      "text/plain": [
       "2025-10-13 07:46:31,388 fedbiomed INFO - \u001b[1mTRAINING\u001b[0m \n",
       "\t\t\t\t\t NODE_ID: NODE_CENTRALIZED \n",
       "\t\t\t\t\t Round 7 | Iteration: 52/70 (74%) | Samples: 5252/7000000\n",
       " \t\t\t\t\t Loss: \u001b[1m-469.716400\u001b[0m \n",
       "\t\t\t\t\t ---------"
      ]
     },
     "metadata": {},
     "output_type": "display_data"
    },
    {
     "data": {
      "text/plain": [
       "2025-10-13 07:46:31,403 fedbiomed INFO - \u001b[1mTRAINING\u001b[0m \n",
       "\t\t\t\t\t NODE_ID: NODE_CENTRALIZED \n",
       "\t\t\t\t\t Round 7 | Iteration: 53/70 (76%) | Samples: 5353/7000000\n",
       " \t\t\t\t\t Loss: \u001b[1m-469.882782\u001b[0m \n",
       "\t\t\t\t\t ---------"
      ]
     },
     "metadata": {},
     "output_type": "display_data"
    },
    {
     "data": {
      "text/plain": [
       "2025-10-13 07:46:31,419 fedbiomed INFO - \u001b[1mTRAINING\u001b[0m \n",
       "\t\t\t\t\t NODE_ID: NODE_CENTRALIZED \n",
       "\t\t\t\t\t Round 7 | Iteration: 54/70 (77%) | Samples: 5454/7000000\n",
       " \t\t\t\t\t Loss: \u001b[1m-470.040619\u001b[0m \n",
       "\t\t\t\t\t ---------"
      ]
     },
     "metadata": {},
     "output_type": "display_data"
    },
    {
     "data": {
      "text/plain": [
       "2025-10-13 07:46:31,435 fedbiomed INFO - \u001b[1mTRAINING\u001b[0m \n",
       "\t\t\t\t\t NODE_ID: NODE_CENTRALIZED \n",
       "\t\t\t\t\t Round 7 | Iteration: 55/70 (79%) | Samples: 5555/7000000\n",
       " \t\t\t\t\t Loss: \u001b[1m-470.196869\u001b[0m \n",
       "\t\t\t\t\t ---------"
      ]
     },
     "metadata": {},
     "output_type": "display_data"
    },
    {
     "data": {
      "text/plain": [
       "2025-10-13 07:46:31,457 fedbiomed INFO - \u001b[1mTRAINING\u001b[0m \n",
       "\t\t\t\t\t NODE_ID: NODE_CENTRALIZED \n",
       "\t\t\t\t\t Round 7 | Iteration: 56/70 (80%) | Samples: 5656/7000000\n",
       " \t\t\t\t\t Loss: \u001b[1m-470.339935\u001b[0m \n",
       "\t\t\t\t\t ---------"
      ]
     },
     "metadata": {},
     "output_type": "display_data"
    },
    {
     "data": {
      "text/plain": [
       "2025-10-13 07:46:31,480 fedbiomed INFO - \u001b[1mTRAINING\u001b[0m \n",
       "\t\t\t\t\t NODE_ID: NODE_CENTRALIZED \n",
       "\t\t\t\t\t Round 7 | Iteration: 57/70 (81%) | Samples: 5757/7000000\n",
       " \t\t\t\t\t Loss: \u001b[1m-470.463989\u001b[0m \n",
       "\t\t\t\t\t ---------"
      ]
     },
     "metadata": {},
     "output_type": "display_data"
    },
    {
     "data": {
      "text/plain": [
       "2025-10-13 07:46:31,496 fedbiomed INFO - \u001b[1mTRAINING\u001b[0m \n",
       "\t\t\t\t\t NODE_ID: NODE_CENTRALIZED \n",
       "\t\t\t\t\t Round 7 | Iteration: 58/70 (83%) | Samples: 5858/7000000\n",
       " \t\t\t\t\t Loss: \u001b[1m-470.579376\u001b[0m \n",
       "\t\t\t\t\t ---------"
      ]
     },
     "metadata": {},
     "output_type": "display_data"
    },
    {
     "data": {
      "text/plain": [
       "2025-10-13 07:46:31,512 fedbiomed INFO - \u001b[1mTRAINING\u001b[0m \n",
       "\t\t\t\t\t NODE_ID: NODE_CENTRALIZED \n",
       "\t\t\t\t\t Round 7 | Iteration: 59/70 (84%) | Samples: 5959/7000000\n",
       " \t\t\t\t\t Loss: \u001b[1m-470.692261\u001b[0m \n",
       "\t\t\t\t\t ---------"
      ]
     },
     "metadata": {},
     "output_type": "display_data"
    },
    {
     "data": {
      "text/plain": [
       "2025-10-13 07:46:31,528 fedbiomed INFO - \u001b[1mTRAINING\u001b[0m \n",
       "\t\t\t\t\t NODE_ID: NODE_CENTRALIZED \n",
       "\t\t\t\t\t Round 7 | Iteration: 60/70 (86%) | Samples: 6060/7000000\n",
       " \t\t\t\t\t Loss: \u001b[1m-470.795349\u001b[0m \n",
       "\t\t\t\t\t ---------"
      ]
     },
     "metadata": {},
     "output_type": "display_data"
    },
    {
     "data": {
      "text/plain": [
       "2025-10-13 07:46:31,544 fedbiomed INFO - \u001b[1mTRAINING\u001b[0m \n",
       "\t\t\t\t\t NODE_ID: NODE_CENTRALIZED \n",
       "\t\t\t\t\t Round 7 | Iteration: 61/70 (87%) | Samples: 6161/7000000\n",
       " \t\t\t\t\t Loss: \u001b[1m-470.884766\u001b[0m \n",
       "\t\t\t\t\t ---------"
      ]
     },
     "metadata": {},
     "output_type": "display_data"
    },
    {
     "data": {
      "text/plain": [
       "2025-10-13 07:46:31,560 fedbiomed INFO - \u001b[1mTRAINING\u001b[0m \n",
       "\t\t\t\t\t NODE_ID: NODE_CENTRALIZED \n",
       "\t\t\t\t\t Round 7 | Iteration: 62/70 (89%) | Samples: 6262/7000000\n",
       " \t\t\t\t\t Loss: \u001b[1m-470.967255\u001b[0m \n",
       "\t\t\t\t\t ---------"
      ]
     },
     "metadata": {},
     "output_type": "display_data"
    },
    {
     "data": {
      "text/plain": [
       "2025-10-13 07:46:31,576 fedbiomed INFO - \u001b[1mTRAINING\u001b[0m \n",
       "\t\t\t\t\t NODE_ID: NODE_CENTRALIZED \n",
       "\t\t\t\t\t Round 7 | Iteration: 63/70 (90%) | Samples: 6363/7000000\n",
       " \t\t\t\t\t Loss: \u001b[1m-471.046478\u001b[0m \n",
       "\t\t\t\t\t ---------"
      ]
     },
     "metadata": {},
     "output_type": "display_data"
    },
    {
     "data": {
      "text/plain": [
       "2025-10-13 07:46:31,591 fedbiomed INFO - \u001b[1mTRAINING\u001b[0m \n",
       "\t\t\t\t\t NODE_ID: NODE_CENTRALIZED \n",
       "\t\t\t\t\t Round 7 | Iteration: 64/70 (91%) | Samples: 6464/7000000\n",
       " \t\t\t\t\t Loss: \u001b[1m-471.117096\u001b[0m \n",
       "\t\t\t\t\t ---------"
      ]
     },
     "metadata": {},
     "output_type": "display_data"
    },
    {
     "data": {
      "text/plain": [
       "2025-10-13 07:46:31,607 fedbiomed INFO - \u001b[1mTRAINING\u001b[0m \n",
       "\t\t\t\t\t NODE_ID: NODE_CENTRALIZED \n",
       "\t\t\t\t\t Round 7 | Iteration: 65/70 (93%) | Samples: 6565/7000000\n",
       " \t\t\t\t\t Loss: \u001b[1m-471.178101\u001b[0m \n",
       "\t\t\t\t\t ---------"
      ]
     },
     "metadata": {},
     "output_type": "display_data"
    },
    {
     "data": {
      "text/plain": [
       "2025-10-13 07:46:31,623 fedbiomed INFO - \u001b[1mTRAINING\u001b[0m \n",
       "\t\t\t\t\t NODE_ID: NODE_CENTRALIZED \n",
       "\t\t\t\t\t Round 7 | Iteration: 66/70 (94%) | Samples: 6666/7000000\n",
       " \t\t\t\t\t Loss: \u001b[1m-471.234894\u001b[0m \n",
       "\t\t\t\t\t ---------"
      ]
     },
     "metadata": {},
     "output_type": "display_data"
    },
    {
     "data": {
      "text/plain": [
       "2025-10-13 07:46:31,638 fedbiomed INFO - \u001b[1mTRAINING\u001b[0m \n",
       "\t\t\t\t\t NODE_ID: NODE_CENTRALIZED \n",
       "\t\t\t\t\t Round 7 | Iteration: 67/70 (96%) | Samples: 6767/7000000\n",
       " \t\t\t\t\t Loss: \u001b[1m-471.288422\u001b[0m \n",
       "\t\t\t\t\t ---------"
      ]
     },
     "metadata": {},
     "output_type": "display_data"
    },
    {
     "data": {
      "text/plain": [
       "2025-10-13 07:46:31,654 fedbiomed INFO - \u001b[1mTRAINING\u001b[0m \n",
       "\t\t\t\t\t NODE_ID: NODE_CENTRALIZED \n",
       "\t\t\t\t\t Round 7 | Iteration: 68/70 (97%) | Samples: 6868/7000000\n",
       " \t\t\t\t\t Loss: \u001b[1m-471.334869\u001b[0m \n",
       "\t\t\t\t\t ---------"
      ]
     },
     "metadata": {},
     "output_type": "display_data"
    },
    {
     "data": {
      "text/plain": [
       "2025-10-13 07:46:31,673 fedbiomed INFO - \u001b[1mTRAINING\u001b[0m \n",
       "\t\t\t\t\t NODE_ID: NODE_CENTRALIZED \n",
       "\t\t\t\t\t Round 7 | Iteration: 69/70 (99%) | Samples: 6969/7000000\n",
       " \t\t\t\t\t Loss: \u001b[1m-471.374695\u001b[0m \n",
       "\t\t\t\t\t ---------"
      ]
     },
     "metadata": {},
     "output_type": "display_data"
    },
    {
     "data": {
      "text/plain": [
       "2025-10-13 07:46:31,687 fedbiomed INFO - \u001b[1mTRAINING\u001b[0m \n",
       "\t\t\t\t\t NODE_ID: NODE_CENTRALIZED \n",
       "\t\t\t\t\t Round 7 | Iteration: 70/70 (100%) | Samples: 7070/7000000\n",
       " \t\t\t\t\t Loss: \u001b[1m-471.411835\u001b[0m \n",
       "\t\t\t\t\t ---------"
      ]
     },
     "metadata": {},
     "output_type": "display_data"
    },
    {
     "data": {
      "text/plain": [
       "2025-10-13 07:46:31,836 fedbiomed INFO - Nodes that successfully reply in round 6 ['NODE_CENTRALIZED']"
      ]
     },
     "metadata": {},
     "output_type": "display_data"
    },
    {
     "data": {
      "text/plain": [
       "2025-10-13 07:46:31,893 fedbiomed INFO - Sampled nodes in round 7 ['NODE_CENTRALIZED']"
      ]
     },
     "metadata": {},
     "output_type": "display_data"
    },
    {
     "name": "stdout",
     "output_type": "stream",
     "text": [
      "<function extract_symbols at 0x7f920de88d30>\n"
     ]
    },
    {
     "data": {
      "text/plain": [
       "2025-10-13 07:46:31,929 fedbiomed INFO - \u001b[1mSending request\u001b[0m \n",
       "\t\t\t\t\t\u001b[1m To\u001b[0m: NODE_CENTRALIZED \n",
       "\t\t\t\t\t\u001b[1m Request: \u001b[0m: TRAIN\n",
       " -----------------------------------------------------------------"
      ]
     },
     "metadata": {},
     "output_type": "display_data"
    },
    {
     "data": {
      "text/plain": [
       "2025-10-13 07:46:32,035 fedbiomed DEBUG - Node: NODE_CENTRALIZED polling for the tasks"
      ]
     },
     "metadata": {},
     "output_type": "display_data"
    },
    {
     "data": {
      "text/plain": [
       "2025-10-13 07:46:32,165 fedbiomed INFO - \u001b[1mTRAINING\u001b[0m \n",
       "\t\t\t\t\t NODE_ID: NODE_CENTRALIZED \n",
       "\t\t\t\t\t Round 8 | Iteration: 1/70 (1%) | Samples: 101/7000000\n",
       " \t\t\t\t\t Loss: \u001b[1m-471.445801\u001b[0m \n",
       "\t\t\t\t\t ---------"
      ]
     },
     "metadata": {},
     "output_type": "display_data"
    },
    {
     "data": {
      "text/plain": [
       "2025-10-13 07:46:32,188 fedbiomed INFO - \u001b[1mTRAINING\u001b[0m \n",
       "\t\t\t\t\t NODE_ID: NODE_CENTRALIZED \n",
       "\t\t\t\t\t Round 8 | Iteration: 2/70 (3%) | Samples: 202/7000000\n",
       " \t\t\t\t\t Loss: \u001b[1m-464.755798\u001b[0m \n",
       "\t\t\t\t\t ---------"
      ]
     },
     "metadata": {},
     "output_type": "display_data"
    },
    {
     "data": {
      "text/plain": [
       "2025-10-13 07:46:32,206 fedbiomed INFO - \u001b[1mTRAINING\u001b[0m \n",
       "\t\t\t\t\t NODE_ID: NODE_CENTRALIZED \n",
       "\t\t\t\t\t Round 8 | Iteration: 3/70 (4%) | Samples: 303/7000000\n",
       " \t\t\t\t\t Loss: \u001b[1m-471.100250\u001b[0m \n",
       "\t\t\t\t\t ---------"
      ]
     },
     "metadata": {},
     "output_type": "display_data"
    },
    {
     "data": {
      "text/plain": [
       "2025-10-13 07:46:32,222 fedbiomed INFO - \u001b[1mTRAINING\u001b[0m \n",
       "\t\t\t\t\t NODE_ID: NODE_CENTRALIZED \n",
       "\t\t\t\t\t Round 8 | Iteration: 4/70 (6%) | Samples: 404/7000000\n",
       " \t\t\t\t\t Loss: \u001b[1m-470.119324\u001b[0m \n",
       "\t\t\t\t\t ---------"
      ]
     },
     "metadata": {},
     "output_type": "display_data"
    },
    {
     "data": {
      "text/plain": [
       "2025-10-13 07:46:32,237 fedbiomed INFO - \u001b[1mTRAINING\u001b[0m \n",
       "\t\t\t\t\t NODE_ID: NODE_CENTRALIZED \n",
       "\t\t\t\t\t Round 8 | Iteration: 5/70 (7%) | Samples: 505/7000000\n",
       " \t\t\t\t\t Loss: \u001b[1m-467.759094\u001b[0m \n",
       "\t\t\t\t\t ---------"
      ]
     },
     "metadata": {},
     "output_type": "display_data"
    },
    {
     "data": {
      "text/plain": [
       "2025-10-13 07:46:32,252 fedbiomed INFO - \u001b[1mTRAINING\u001b[0m \n",
       "\t\t\t\t\t NODE_ID: NODE_CENTRALIZED \n",
       "\t\t\t\t\t Round 8 | Iteration: 6/70 (9%) | Samples: 606/7000000\n",
       " \t\t\t\t\t Loss: \u001b[1m-468.725739\u001b[0m \n",
       "\t\t\t\t\t ---------"
      ]
     },
     "metadata": {},
     "output_type": "display_data"
    },
    {
     "data": {
      "text/plain": [
       "2025-10-13 07:46:32,268 fedbiomed INFO - \u001b[1mTRAINING\u001b[0m \n",
       "\t\t\t\t\t NODE_ID: NODE_CENTRALIZED \n",
       "\t\t\t\t\t Round 8 | Iteration: 7/70 (10%) | Samples: 707/7000000\n",
       " \t\t\t\t\t Loss: \u001b[1m-470.771088\u001b[0m \n",
       "\t\t\t\t\t ---------"
      ]
     },
     "metadata": {},
     "output_type": "display_data"
    },
    {
     "data": {
      "text/plain": [
       "2025-10-13 07:46:32,283 fedbiomed INFO - \u001b[1mTRAINING\u001b[0m \n",
       "\t\t\t\t\t NODE_ID: NODE_CENTRALIZED \n",
       "\t\t\t\t\t Round 8 | Iteration: 8/70 (11%) | Samples: 808/7000000\n",
       " \t\t\t\t\t Loss: \u001b[1m-471.549957\u001b[0m \n",
       "\t\t\t\t\t ---------"
      ]
     },
     "metadata": {},
     "output_type": "display_data"
    },
    {
     "data": {
      "text/plain": [
       "2025-10-13 07:46:32,298 fedbiomed INFO - \u001b[1mTRAINING\u001b[0m \n",
       "\t\t\t\t\t NODE_ID: NODE_CENTRALIZED \n",
       "\t\t\t\t\t Round 8 | Iteration: 9/70 (13%) | Samples: 909/7000000\n",
       " \t\t\t\t\t Loss: \u001b[1m-470.757660\u001b[0m \n",
       "\t\t\t\t\t ---------"
      ]
     },
     "metadata": {},
     "output_type": "display_data"
    },
    {
     "data": {
      "text/plain": [
       "2025-10-13 07:46:32,313 fedbiomed INFO - \u001b[1mTRAINING\u001b[0m \n",
       "\t\t\t\t\t NODE_ID: NODE_CENTRALIZED \n",
       "\t\t\t\t\t Round 8 | Iteration: 10/70 (14%) | Samples: 1010/7000000\n",
       " \t\t\t\t\t Loss: \u001b[1m-469.823639\u001b[0m \n",
       "\t\t\t\t\t ---------"
      ]
     },
     "metadata": {},
     "output_type": "display_data"
    },
    {
     "data": {
      "text/plain": [
       "2025-10-13 07:46:32,329 fedbiomed INFO - \u001b[1mTRAINING\u001b[0m \n",
       "\t\t\t\t\t NODE_ID: NODE_CENTRALIZED \n",
       "\t\t\t\t\t Round 8 | Iteration: 11/70 (16%) | Samples: 1111/7000000\n",
       " \t\t\t\t\t Loss: \u001b[1m-469.899628\u001b[0m \n",
       "\t\t\t\t\t ---------"
      ]
     },
     "metadata": {},
     "output_type": "display_data"
    },
    {
     "data": {
      "text/plain": [
       "2025-10-13 07:46:32,353 fedbiomed INFO - \u001b[1mTRAINING\u001b[0m \n",
       "\t\t\t\t\t NODE_ID: NODE_CENTRALIZED \n",
       "\t\t\t\t\t Round 8 | Iteration: 12/70 (17%) | Samples: 1212/7000000\n",
       " \t\t\t\t\t Loss: \u001b[1m-470.739166\u001b[0m \n",
       "\t\t\t\t\t ---------"
      ]
     },
     "metadata": {},
     "output_type": "display_data"
    },
    {
     "data": {
      "text/plain": [
       "2025-10-13 07:46:32,375 fedbiomed INFO - \u001b[1mTRAINING\u001b[0m \n",
       "\t\t\t\t\t NODE_ID: NODE_CENTRALIZED \n",
       "\t\t\t\t\t Round 8 | Iteration: 13/70 (19%) | Samples: 1313/7000000\n",
       " \t\t\t\t\t Loss: \u001b[1m-471.448029\u001b[0m \n",
       "\t\t\t\t\t ---------"
      ]
     },
     "metadata": {},
     "output_type": "display_data"
    },
    {
     "data": {
      "text/plain": [
       "2025-10-13 07:46:32,391 fedbiomed INFO - \u001b[1mTRAINING\u001b[0m \n",
       "\t\t\t\t\t NODE_ID: NODE_CENTRALIZED \n",
       "\t\t\t\t\t Round 8 | Iteration: 14/70 (20%) | Samples: 1414/7000000\n",
       " \t\t\t\t\t Loss: \u001b[1m-471.477448\u001b[0m \n",
       "\t\t\t\t\t ---------"
      ]
     },
     "metadata": {},
     "output_type": "display_data"
    },
    {
     "data": {
      "text/plain": [
       "2025-10-13 07:46:32,406 fedbiomed INFO - \u001b[1mTRAINING\u001b[0m \n",
       "\t\t\t\t\t NODE_ID: NODE_CENTRALIZED \n",
       "\t\t\t\t\t Round 8 | Iteration: 15/70 (21%) | Samples: 1515/7000000\n",
       " \t\t\t\t\t Loss: \u001b[1m-471.022614\u001b[0m \n",
       "\t\t\t\t\t ---------"
      ]
     },
     "metadata": {},
     "output_type": "display_data"
    },
    {
     "data": {
      "text/plain": [
       "2025-10-13 07:46:32,433 fedbiomed INFO - \u001b[1mTRAINING\u001b[0m \n",
       "\t\t\t\t\t NODE_ID: NODE_CENTRALIZED \n",
       "\t\t\t\t\t Round 8 | Iteration: 16/70 (23%) | Samples: 1616/7000000\n",
       " \t\t\t\t\t Loss: \u001b[1m-470.684357\u001b[0m \n",
       "\t\t\t\t\t ---------"
      ]
     },
     "metadata": {},
     "output_type": "display_data"
    },
    {
     "data": {
      "text/plain": [
       "2025-10-13 07:46:32,445 fedbiomed INFO - \u001b[1mTRAINING\u001b[0m \n",
       "\t\t\t\t\t NODE_ID: NODE_CENTRALIZED \n",
       "\t\t\t\t\t Round 8 | Iteration: 17/70 (24%) | Samples: 1717/7000000\n",
       " \t\t\t\t\t Loss: \u001b[1m-470.802124\u001b[0m \n",
       "\t\t\t\t\t ---------"
      ]
     },
     "metadata": {},
     "output_type": "display_data"
    },
    {
     "data": {
      "text/plain": [
       "2025-10-13 07:46:32,467 fedbiomed INFO - \u001b[1mTRAINING\u001b[0m \n",
       "\t\t\t\t\t NODE_ID: NODE_CENTRALIZED \n",
       "\t\t\t\t\t Round 8 | Iteration: 18/70 (26%) | Samples: 1818/7000000\n",
       " \t\t\t\t\t Loss: \u001b[1m-471.208588\u001b[0m \n",
       "\t\t\t\t\t ---------"
      ]
     },
     "metadata": {},
     "output_type": "display_data"
    },
    {
     "data": {
      "text/plain": [
       "2025-10-13 07:46:32,484 fedbiomed INFO - \u001b[1mTRAINING\u001b[0m \n",
       "\t\t\t\t\t NODE_ID: NODE_CENTRALIZED \n",
       "\t\t\t\t\t Round 8 | Iteration: 19/70 (27%) | Samples: 1919/7000000\n",
       " \t\t\t\t\t Loss: \u001b[1m-471.516754\u001b[0m \n",
       "\t\t\t\t\t ---------"
      ]
     },
     "metadata": {},
     "output_type": "display_data"
    },
    {
     "data": {
      "text/plain": [
       "2025-10-13 07:46:32,498 fedbiomed INFO - \u001b[1mTRAINING\u001b[0m \n",
       "\t\t\t\t\t NODE_ID: NODE_CENTRALIZED \n",
       "\t\t\t\t\t Round 8 | Iteration: 20/70 (29%) | Samples: 2020/7000000\n",
       " \t\t\t\t\t Loss: \u001b[1m-471.505310\u001b[0m \n",
       "\t\t\t\t\t ---------"
      ]
     },
     "metadata": {},
     "output_type": "display_data"
    },
    {
     "data": {
      "text/plain": [
       "2025-10-13 07:46:32,515 fedbiomed INFO - \u001b[1mTRAINING\u001b[0m \n",
       "\t\t\t\t\t NODE_ID: NODE_CENTRALIZED \n",
       "\t\t\t\t\t Round 8 | Iteration: 21/70 (30%) | Samples: 2121/7000000\n",
       " \t\t\t\t\t Loss: \u001b[1m-471.284241\u001b[0m \n",
       "\t\t\t\t\t ---------"
      ]
     },
     "metadata": {},
     "output_type": "display_data"
    },
    {
     "data": {
      "text/plain": [
       "2025-10-13 07:46:32,531 fedbiomed INFO - \u001b[1mTRAINING\u001b[0m \n",
       "\t\t\t\t\t NODE_ID: NODE_CENTRALIZED \n",
       "\t\t\t\t\t Round 8 | Iteration: 22/70 (31%) | Samples: 2222/7000000\n",
       " \t\t\t\t\t Loss: \u001b[1m-471.140503\u001b[0m \n",
       "\t\t\t\t\t ---------"
      ]
     },
     "metadata": {},
     "output_type": "display_data"
    },
    {
     "data": {
      "text/plain": [
       "2025-10-13 07:46:32,546 fedbiomed INFO - \u001b[1mTRAINING\u001b[0m \n",
       "\t\t\t\t\t NODE_ID: NODE_CENTRALIZED \n",
       "\t\t\t\t\t Round 8 | Iteration: 23/70 (33%) | Samples: 2323/7000000\n",
       " \t\t\t\t\t Loss: \u001b[1m-471.228973\u001b[0m \n",
       "\t\t\t\t\t ---------"
      ]
     },
     "metadata": {},
     "output_type": "display_data"
    },
    {
     "data": {
      "text/plain": [
       "2025-10-13 07:46:32,562 fedbiomed INFO - \u001b[1mTRAINING\u001b[0m \n",
       "\t\t\t\t\t NODE_ID: NODE_CENTRALIZED \n",
       "\t\t\t\t\t Round 8 | Iteration: 24/70 (34%) | Samples: 2424/7000000\n",
       " \t\t\t\t\t Loss: \u001b[1m-471.446350\u001b[0m \n",
       "\t\t\t\t\t ---------"
      ]
     },
     "metadata": {},
     "output_type": "display_data"
    },
    {
     "data": {
      "text/plain": [
       "2025-10-13 07:46:32,578 fedbiomed INFO - \u001b[1mTRAINING\u001b[0m \n",
       "\t\t\t\t\t NODE_ID: NODE_CENTRALIZED \n",
       "\t\t\t\t\t Round 8 | Iteration: 25/70 (36%) | Samples: 2525/7000000\n",
       " \t\t\t\t\t Loss: \u001b[1m-471.582306\u001b[0m \n",
       "\t\t\t\t\t ---------"
      ]
     },
     "metadata": {},
     "output_type": "display_data"
    },
    {
     "data": {
      "text/plain": [
       "2025-10-13 07:46:32,594 fedbiomed INFO - \u001b[1mTRAINING\u001b[0m \n",
       "\t\t\t\t\t NODE_ID: NODE_CENTRALIZED \n",
       "\t\t\t\t\t Round 8 | Iteration: 26/70 (37%) | Samples: 2626/7000000\n",
       " \t\t\t\t\t Loss: \u001b[1m-471.540344\u001b[0m \n",
       "\t\t\t\t\t ---------"
      ]
     },
     "metadata": {},
     "output_type": "display_data"
    },
    {
     "data": {
      "text/plain": [
       "2025-10-13 07:46:32,609 fedbiomed INFO - \u001b[1mTRAINING\u001b[0m \n",
       "\t\t\t\t\t NODE_ID: NODE_CENTRALIZED \n",
       "\t\t\t\t\t Round 8 | Iteration: 27/70 (39%) | Samples: 2727/7000000\n",
       " \t\t\t\t\t Loss: \u001b[1m-471.413513\u001b[0m \n",
       "\t\t\t\t\t ---------"
      ]
     },
     "metadata": {},
     "output_type": "display_data"
    },
    {
     "data": {
      "text/plain": [
       "2025-10-13 07:46:32,625 fedbiomed INFO - \u001b[1mTRAINING\u001b[0m \n",
       "\t\t\t\t\t NODE_ID: NODE_CENTRALIZED \n",
       "\t\t\t\t\t Round 8 | Iteration: 28/70 (40%) | Samples: 2828/7000000\n",
       " \t\t\t\t\t Loss: \u001b[1m-471.363220\u001b[0m \n",
       "\t\t\t\t\t ---------"
      ]
     },
     "metadata": {},
     "output_type": "display_data"
    },
    {
     "data": {
      "text/plain": [
       "2025-10-13 07:46:32,641 fedbiomed INFO - \u001b[1mTRAINING\u001b[0m \n",
       "\t\t\t\t\t NODE_ID: NODE_CENTRALIZED \n",
       "\t\t\t\t\t Round 8 | Iteration: 29/70 (41%) | Samples: 2929/7000000\n",
       " \t\t\t\t\t Loss: \u001b[1m-471.445251\u001b[0m \n",
       "\t\t\t\t\t ---------"
      ]
     },
     "metadata": {},
     "output_type": "display_data"
    },
    {
     "data": {
      "text/plain": [
       "2025-10-13 07:46:32,661 fedbiomed INFO - \u001b[1mTRAINING\u001b[0m \n",
       "\t\t\t\t\t NODE_ID: NODE_CENTRALIZED \n",
       "\t\t\t\t\t Round 8 | Iteration: 30/70 (43%) | Samples: 3030/7000000\n",
       " \t\t\t\t\t Loss: \u001b[1m-471.569733\u001b[0m \n",
       "\t\t\t\t\t ---------"
      ]
     },
     "metadata": {},
     "output_type": "display_data"
    },
    {
     "data": {
      "text/plain": [
       "2025-10-13 07:46:32,680 fedbiomed INFO - \u001b[1mTRAINING\u001b[0m \n",
       "\t\t\t\t\t NODE_ID: NODE_CENTRALIZED \n",
       "\t\t\t\t\t Round 8 | Iteration: 31/70 (44%) | Samples: 3131/7000000\n",
       " \t\t\t\t\t Loss: \u001b[1m-471.616241\u001b[0m \n",
       "\t\t\t\t\t ---------"
      ]
     },
     "metadata": {},
     "output_type": "display_data"
    },
    {
     "data": {
      "text/plain": [
       "2025-10-13 07:46:32,700 fedbiomed INFO - \u001b[1mTRAINING\u001b[0m \n",
       "\t\t\t\t\t NODE_ID: NODE_CENTRALIZED \n",
       "\t\t\t\t\t Round 8 | Iteration: 32/70 (46%) | Samples: 3232/7000000\n",
       " \t\t\t\t\t Loss: \u001b[1m-471.561646\u001b[0m \n",
       "\t\t\t\t\t ---------"
      ]
     },
     "metadata": {},
     "output_type": "display_data"
    },
    {
     "data": {
      "text/plain": [
       "2025-10-13 07:46:32,728 fedbiomed INFO - \u001b[1mTRAINING\u001b[0m \n",
       "\t\t\t\t\t NODE_ID: NODE_CENTRALIZED \n",
       "\t\t\t\t\t Round 8 | Iteration: 33/70 (47%) | Samples: 3333/7000000\n",
       " \t\t\t\t\t Loss: \u001b[1m-471.490143\u001b[0m \n",
       "\t\t\t\t\t ---------"
      ]
     },
     "metadata": {},
     "output_type": "display_data"
    },
    {
     "data": {
      "text/plain": [
       "2025-10-13 07:46:32,751 fedbiomed INFO - \u001b[1mTRAINING\u001b[0m \n",
       "\t\t\t\t\t NODE_ID: NODE_CENTRALIZED \n",
       "\t\t\t\t\t Round 8 | Iteration: 34/70 (49%) | Samples: 3434/7000000\n",
       " \t\t\t\t\t Loss: \u001b[1m-471.489532\u001b[0m \n",
       "\t\t\t\t\t ---------"
      ]
     },
     "metadata": {},
     "output_type": "display_data"
    },
    {
     "data": {
      "text/plain": [
       "2025-10-13 07:46:32,774 fedbiomed INFO - \u001b[1mTRAINING\u001b[0m \n",
       "\t\t\t\t\t NODE_ID: NODE_CENTRALIZED \n",
       "\t\t\t\t\t Round 8 | Iteration: 35/70 (50%) | Samples: 3535/7000000\n",
       " \t\t\t\t\t Loss: \u001b[1m-471.558624\u001b[0m \n",
       "\t\t\t\t\t ---------"
      ]
     },
     "metadata": {},
     "output_type": "display_data"
    },
    {
     "data": {
      "text/plain": [
       "2025-10-13 07:46:32,798 fedbiomed INFO - \u001b[1mTRAINING\u001b[0m \n",
       "\t\t\t\t\t NODE_ID: NODE_CENTRALIZED \n",
       "\t\t\t\t\t Round 8 | Iteration: 36/70 (51%) | Samples: 3636/7000000\n",
       " \t\t\t\t\t Loss: \u001b[1m-471.622223\u001b[0m \n",
       "\t\t\t\t\t ---------"
      ]
     },
     "metadata": {},
     "output_type": "display_data"
    },
    {
     "data": {
      "text/plain": [
       "2025-10-13 07:46:32,819 fedbiomed INFO - \u001b[1mTRAINING\u001b[0m \n",
       "\t\t\t\t\t NODE_ID: NODE_CENTRALIZED \n",
       "\t\t\t\t\t Round 8 | Iteration: 37/70 (53%) | Samples: 3737/7000000\n",
       " \t\t\t\t\t Loss: \u001b[1m-471.622345\u001b[0m \n",
       "\t\t\t\t\t ---------"
      ]
     },
     "metadata": {},
     "output_type": "display_data"
    },
    {
     "data": {
      "text/plain": [
       "2025-10-13 07:46:32,841 fedbiomed INFO - \u001b[1mTRAINING\u001b[0m \n",
       "\t\t\t\t\t NODE_ID: NODE_CENTRALIZED \n",
       "\t\t\t\t\t Round 8 | Iteration: 38/70 (54%) | Samples: 3838/7000000\n",
       " \t\t\t\t\t Loss: \u001b[1m-471.577301\u001b[0m \n",
       "\t\t\t\t\t ---------"
      ]
     },
     "metadata": {},
     "output_type": "display_data"
    },
    {
     "data": {
      "text/plain": [
       "2025-10-13 07:46:32,863 fedbiomed INFO - \u001b[1mTRAINING\u001b[0m \n",
       "\t\t\t\t\t NODE_ID: NODE_CENTRALIZED \n",
       "\t\t\t\t\t Round 8 | Iteration: 39/70 (56%) | Samples: 3939/7000000\n",
       " \t\t\t\t\t Loss: \u001b[1m-471.549774\u001b[0m \n",
       "\t\t\t\t\t ---------"
      ]
     },
     "metadata": {},
     "output_type": "display_data"
    },
    {
     "data": {
      "text/plain": [
       "2025-10-13 07:46:32,889 fedbiomed INFO - \u001b[1mTRAINING\u001b[0m \n",
       "\t\t\t\t\t NODE_ID: NODE_CENTRALIZED \n",
       "\t\t\t\t\t Round 8 | Iteration: 40/70 (57%) | Samples: 4040/7000000\n",
       " \t\t\t\t\t Loss: \u001b[1m-471.572266\u001b[0m \n",
       "\t\t\t\t\t ---------"
      ]
     },
     "metadata": {},
     "output_type": "display_data"
    },
    {
     "data": {
      "text/plain": [
       "2025-10-13 07:46:32,907 fedbiomed INFO - \u001b[1mTRAINING\u001b[0m \n",
       "\t\t\t\t\t NODE_ID: NODE_CENTRALIZED \n",
       "\t\t\t\t\t Round 8 | Iteration: 41/70 (59%) | Samples: 4141/7000000\n",
       " \t\t\t\t\t Loss: \u001b[1m-471.616241\u001b[0m \n",
       "\t\t\t\t\t ---------"
      ]
     },
     "metadata": {},
     "output_type": "display_data"
    },
    {
     "data": {
      "text/plain": [
       "2025-10-13 07:46:32,928 fedbiomed INFO - \u001b[1mTRAINING\u001b[0m \n",
       "\t\t\t\t\t NODE_ID: NODE_CENTRALIZED \n",
       "\t\t\t\t\t Round 8 | Iteration: 42/70 (60%) | Samples: 4242/7000000\n",
       " \t\t\t\t\t Loss: \u001b[1m-471.634369\u001b[0m \n",
       "\t\t\t\t\t ---------"
      ]
     },
     "metadata": {},
     "output_type": "display_data"
    },
    {
     "data": {
      "text/plain": [
       "2025-10-13 07:46:32,948 fedbiomed INFO - \u001b[1mTRAINING\u001b[0m \n",
       "\t\t\t\t\t NODE_ID: NODE_CENTRALIZED \n",
       "\t\t\t\t\t Round 8 | Iteration: 43/70 (61%) | Samples: 4343/7000000\n",
       " \t\t\t\t\t Loss: \u001b[1m-471.616180\u001b[0m \n",
       "\t\t\t\t\t ---------"
      ]
     },
     "metadata": {},
     "output_type": "display_data"
    },
    {
     "data": {
      "text/plain": [
       "2025-10-13 07:46:32,972 fedbiomed INFO - \u001b[1mTRAINING\u001b[0m \n",
       "\t\t\t\t\t NODE_ID: NODE_CENTRALIZED \n",
       "\t\t\t\t\t Round 8 | Iteration: 44/70 (63%) | Samples: 4444/7000000\n",
       " \t\t\t\t\t Loss: \u001b[1m-471.593964\u001b[0m \n",
       "\t\t\t\t\t ---------"
      ]
     },
     "metadata": {},
     "output_type": "display_data"
    },
    {
     "data": {
      "text/plain": [
       "2025-10-13 07:46:32,992 fedbiomed INFO - \u001b[1mTRAINING\u001b[0m \n",
       "\t\t\t\t\t NODE_ID: NODE_CENTRALIZED \n",
       "\t\t\t\t\t Round 8 | Iteration: 45/70 (64%) | Samples: 4545/7000000\n",
       " \t\t\t\t\t Loss: \u001b[1m-471.598328\u001b[0m \n",
       "\t\t\t\t\t ---------"
      ]
     },
     "metadata": {},
     "output_type": "display_data"
    },
    {
     "data": {
      "text/plain": [
       "2025-10-13 07:46:33,012 fedbiomed INFO - \u001b[1mTRAINING\u001b[0m \n",
       "\t\t\t\t\t NODE_ID: NODE_CENTRALIZED \n",
       "\t\t\t\t\t Round 8 | Iteration: 46/70 (66%) | Samples: 4646/7000000\n",
       " \t\t\t\t\t Loss: \u001b[1m-471.622681\u001b[0m \n",
       "\t\t\t\t\t ---------"
      ]
     },
     "metadata": {},
     "output_type": "display_data"
    },
    {
     "data": {
      "text/plain": [
       "2025-10-13 07:46:33,033 fedbiomed INFO - \u001b[1mTRAINING\u001b[0m \n",
       "\t\t\t\t\t NODE_ID: NODE_CENTRALIZED \n",
       "\t\t\t\t\t Round 8 | Iteration: 47/70 (67%) | Samples: 4747/7000000\n",
       " \t\t\t\t\t Loss: \u001b[1m-471.637604\u001b[0m \n",
       "\t\t\t\t\t ---------"
      ]
     },
     "metadata": {},
     "output_type": "display_data"
    },
    {
     "data": {
      "text/plain": [
       "2025-10-13 07:46:33,060 fedbiomed INFO - \u001b[1mTRAINING\u001b[0m \n",
       "\t\t\t\t\t NODE_ID: NODE_CENTRALIZED \n",
       "\t\t\t\t\t Round 8 | Iteration: 48/70 (69%) | Samples: 4848/7000000\n",
       " \t\t\t\t\t Loss: \u001b[1m-471.629761\u001b[0m \n",
       "\t\t\t\t\t ---------"
      ]
     },
     "metadata": {},
     "output_type": "display_data"
    },
    {
     "data": {
      "text/plain": [
       "2025-10-13 07:46:33,078 fedbiomed INFO - \u001b[1mTRAINING\u001b[0m \n",
       "\t\t\t\t\t NODE_ID: NODE_CENTRALIZED \n",
       "\t\t\t\t\t Round 8 | Iteration: 49/70 (70%) | Samples: 4949/7000000\n",
       " \t\t\t\t\t Loss: \u001b[1m-471.615387\u001b[0m \n",
       "\t\t\t\t\t ---------"
      ]
     },
     "metadata": {},
     "output_type": "display_data"
    },
    {
     "data": {
      "text/plain": [
       "2025-10-13 07:46:33,096 fedbiomed INFO - \u001b[1mTRAINING\u001b[0m \n",
       "\t\t\t\t\t NODE_ID: NODE_CENTRALIZED \n",
       "\t\t\t\t\t Round 8 | Iteration: 50/70 (71%) | Samples: 5050/7000000\n",
       " \t\t\t\t\t Loss: \u001b[1m-471.615784\u001b[0m \n",
       "\t\t\t\t\t ---------"
      ]
     },
     "metadata": {},
     "output_type": "display_data"
    },
    {
     "data": {
      "text/plain": [
       "2025-10-13 07:46:33,120 fedbiomed INFO - \u001b[1mTRAINING\u001b[0m \n",
       "\t\t\t\t\t NODE_ID: NODE_CENTRALIZED \n",
       "\t\t\t\t\t Round 8 | Iteration: 51/70 (73%) | Samples: 5151/7000000\n",
       " \t\t\t\t\t Loss: \u001b[1m-471.630432\u001b[0m \n",
       "\t\t\t\t\t ---------"
      ]
     },
     "metadata": {},
     "output_type": "display_data"
    },
    {
     "data": {
      "text/plain": [
       "2025-10-13 07:46:33,136 fedbiomed INFO - \u001b[1mTRAINING\u001b[0m \n",
       "\t\t\t\t\t NODE_ID: NODE_CENTRALIZED \n",
       "\t\t\t\t\t Round 8 | Iteration: 52/70 (74%) | Samples: 5252/7000000\n",
       " \t\t\t\t\t Loss: \u001b[1m-471.641113\u001b[0m \n",
       "\t\t\t\t\t ---------"
      ]
     },
     "metadata": {},
     "output_type": "display_data"
    },
    {
     "data": {
      "text/plain": [
       "2025-10-13 07:46:33,156 fedbiomed INFO - \u001b[1mTRAINING\u001b[0m \n",
       "\t\t\t\t\t NODE_ID: NODE_CENTRALIZED \n",
       "\t\t\t\t\t Round 8 | Iteration: 53/70 (76%) | Samples: 5353/7000000\n",
       " \t\t\t\t\t Loss: \u001b[1m-471.637177\u001b[0m \n",
       "\t\t\t\t\t ---------"
      ]
     },
     "metadata": {},
     "output_type": "display_data"
    },
    {
     "data": {
      "text/plain": [
       "2025-10-13 07:46:33,180 fedbiomed INFO - \u001b[1mTRAINING\u001b[0m \n",
       "\t\t\t\t\t NODE_ID: NODE_CENTRALIZED \n",
       "\t\t\t\t\t Round 8 | Iteration: 54/70 (77%) | Samples: 5454/7000000\n",
       " \t\t\t\t\t Loss: \u001b[1m-471.627716\u001b[0m \n",
       "\t\t\t\t\t ---------"
      ]
     },
     "metadata": {},
     "output_type": "display_data"
    },
    {
     "data": {
      "text/plain": [
       "2025-10-13 07:46:33,197 fedbiomed INFO - \u001b[1mTRAINING\u001b[0m \n",
       "\t\t\t\t\t NODE_ID: NODE_CENTRALIZED \n",
       "\t\t\t\t\t Round 8 | Iteration: 55/70 (79%) | Samples: 5555/7000000\n",
       " \t\t\t\t\t Loss: \u001b[1m-471.627014\u001b[0m \n",
       "\t\t\t\t\t ---------"
      ]
     },
     "metadata": {},
     "output_type": "display_data"
    },
    {
     "data": {
      "text/plain": [
       "2025-10-13 07:46:33,220 fedbiomed INFO - \u001b[1mTRAINING\u001b[0m \n",
       "\t\t\t\t\t NODE_ID: NODE_CENTRALIZED \n",
       "\t\t\t\t\t Round 8 | Iteration: 56/70 (80%) | Samples: 5656/7000000\n",
       " \t\t\t\t\t Loss: \u001b[1m-471.635742\u001b[0m \n",
       "\t\t\t\t\t ---------"
      ]
     },
     "metadata": {},
     "output_type": "display_data"
    },
    {
     "data": {
      "text/plain": [
       "2025-10-13 07:46:33,240 fedbiomed INFO - \u001b[1mTRAINING\u001b[0m \n",
       "\t\t\t\t\t NODE_ID: NODE_CENTRALIZED \n",
       "\t\t\t\t\t Round 8 | Iteration: 57/70 (81%) | Samples: 5757/7000000\n",
       " \t\t\t\t\t Loss: \u001b[1m-471.642487\u001b[0m \n",
       "\t\t\t\t\t ---------"
      ]
     },
     "metadata": {},
     "output_type": "display_data"
    },
    {
     "data": {
      "text/plain": [
       "2025-10-13 07:46:33,260 fedbiomed INFO - \u001b[1mTRAINING\u001b[0m \n",
       "\t\t\t\t\t NODE_ID: NODE_CENTRALIZED \n",
       "\t\t\t\t\t Round 8 | Iteration: 58/70 (83%) | Samples: 5858/7000000\n",
       " \t\t\t\t\t Loss: \u001b[1m-471.640411\u001b[0m \n",
       "\t\t\t\t\t ---------"
      ]
     },
     "metadata": {},
     "output_type": "display_data"
    },
    {
     "data": {
      "text/plain": [
       "2025-10-13 07:46:33,280 fedbiomed INFO - \u001b[1mTRAINING\u001b[0m \n",
       "\t\t\t\t\t NODE_ID: NODE_CENTRALIZED \n",
       "\t\t\t\t\t Round 8 | Iteration: 59/70 (84%) | Samples: 5959/7000000\n",
       " \t\t\t\t\t Loss: \u001b[1m-471.635162\u001b[0m \n",
       "\t\t\t\t\t ---------"
      ]
     },
     "metadata": {},
     "output_type": "display_data"
    },
    {
     "data": {
      "text/plain": [
       "2025-10-13 07:46:33,300 fedbiomed INFO - \u001b[1mTRAINING\u001b[0m \n",
       "\t\t\t\t\t NODE_ID: NODE_CENTRALIZED \n",
       "\t\t\t\t\t Round 8 | Iteration: 60/70 (86%) | Samples: 6060/7000000\n",
       " \t\t\t\t\t Loss: \u001b[1m-471.635284\u001b[0m \n",
       "\t\t\t\t\t ---------"
      ]
     },
     "metadata": {},
     "output_type": "display_data"
    },
    {
     "data": {
      "text/plain": [
       "2025-10-13 07:46:33,320 fedbiomed INFO - \u001b[1mTRAINING\u001b[0m \n",
       "\t\t\t\t\t NODE_ID: NODE_CENTRALIZED \n",
       "\t\t\t\t\t Round 8 | Iteration: 61/70 (87%) | Samples: 6161/7000000\n",
       " \t\t\t\t\t Loss: \u001b[1m-471.640411\u001b[0m \n",
       "\t\t\t\t\t ---------"
      ]
     },
     "metadata": {},
     "output_type": "display_data"
    },
    {
     "data": {
      "text/plain": [
       "2025-10-13 07:46:33,344 fedbiomed INFO - \u001b[1mTRAINING\u001b[0m \n",
       "\t\t\t\t\t NODE_ID: NODE_CENTRALIZED \n",
       "\t\t\t\t\t Round 8 | Iteration: 62/70 (89%) | Samples: 6262/7000000\n",
       " \t\t\t\t\t Loss: \u001b[1m-471.643524\u001b[0m \n",
       "\t\t\t\t\t ---------"
      ]
     },
     "metadata": {},
     "output_type": "display_data"
    },
    {
     "data": {
      "text/plain": [
       "2025-10-13 07:46:33,364 fedbiomed INFO - \u001b[1mTRAINING\u001b[0m \n",
       "\t\t\t\t\t NODE_ID: NODE_CENTRALIZED \n",
       "\t\t\t\t\t Round 8 | Iteration: 63/70 (90%) | Samples: 6363/7000000\n",
       " \t\t\t\t\t Loss: \u001b[1m-471.641541\u001b[0m \n",
       "\t\t\t\t\t ---------"
      ]
     },
     "metadata": {},
     "output_type": "display_data"
    },
    {
     "data": {
      "text/plain": [
       "2025-10-13 07:46:33,388 fedbiomed INFO - \u001b[1mTRAINING\u001b[0m \n",
       "\t\t\t\t\t NODE_ID: NODE_CENTRALIZED \n",
       "\t\t\t\t\t Round 8 | Iteration: 64/70 (91%) | Samples: 6464/7000000\n",
       " \t\t\t\t\t Loss: \u001b[1m-471.638916\u001b[0m \n",
       "\t\t\t\t\t ---------"
      ]
     },
     "metadata": {},
     "output_type": "display_data"
    },
    {
     "data": {
      "text/plain": [
       "2025-10-13 07:46:33,408 fedbiomed INFO - \u001b[1mTRAINING\u001b[0m \n",
       "\t\t\t\t\t NODE_ID: NODE_CENTRALIZED \n",
       "\t\t\t\t\t Round 8 | Iteration: 65/70 (93%) | Samples: 6565/7000000\n",
       " \t\t\t\t\t Loss: \u001b[1m-471.640167\u001b[0m \n",
       "\t\t\t\t\t ---------"
      ]
     },
     "metadata": {},
     "output_type": "display_data"
    },
    {
     "data": {
      "text/plain": [
       "2025-10-13 07:46:33,432 fedbiomed INFO - \u001b[1mTRAINING\u001b[0m \n",
       "\t\t\t\t\t NODE_ID: NODE_CENTRALIZED \n",
       "\t\t\t\t\t Round 8 | Iteration: 66/70 (94%) | Samples: 6666/7000000\n",
       " \t\t\t\t\t Loss: \u001b[1m-471.643555\u001b[0m \n",
       "\t\t\t\t\t ---------"
      ]
     },
     "metadata": {},
     "output_type": "display_data"
    },
    {
     "data": {
      "text/plain": [
       "2025-10-13 07:46:33,456 fedbiomed INFO - \u001b[1mTRAINING\u001b[0m \n",
       "\t\t\t\t\t NODE_ID: NODE_CENTRALIZED \n",
       "\t\t\t\t\t Round 8 | Iteration: 67/70 (96%) | Samples: 6767/7000000\n",
       " \t\t\t\t\t Loss: \u001b[1m-471.644470\u001b[0m \n",
       "\t\t\t\t\t ---------"
      ]
     },
     "metadata": {},
     "output_type": "display_data"
    },
    {
     "data": {
      "text/plain": [
       "2025-10-13 07:46:33,472 fedbiomed INFO - \u001b[1mTRAINING\u001b[0m \n",
       "\t\t\t\t\t NODE_ID: NODE_CENTRALIZED \n",
       "\t\t\t\t\t Round 8 | Iteration: 68/70 (97%) | Samples: 6868/7000000\n",
       " \t\t\t\t\t Loss: \u001b[1m-471.642548\u001b[0m \n",
       "\t\t\t\t\t ---------"
      ]
     },
     "metadata": {},
     "output_type": "display_data"
    },
    {
     "data": {
      "text/plain": [
       "2025-10-13 07:46:33,496 fedbiomed INFO - \u001b[1mTRAINING\u001b[0m \n",
       "\t\t\t\t\t NODE_ID: NODE_CENTRALIZED \n",
       "\t\t\t\t\t Round 8 | Iteration: 69/70 (99%) | Samples: 6969/7000000\n",
       " \t\t\t\t\t Loss: \u001b[1m-471.641296\u001b[0m \n",
       "\t\t\t\t\t ---------"
      ]
     },
     "metadata": {},
     "output_type": "display_data"
    },
    {
     "data": {
      "text/plain": [
       "2025-10-13 07:46:33,520 fedbiomed INFO - \u001b[1mTRAINING\u001b[0m \n",
       "\t\t\t\t\t NODE_ID: NODE_CENTRALIZED \n",
       "\t\t\t\t\t Round 8 | Iteration: 70/70 (100%) | Samples: 7070/7000000\n",
       " \t\t\t\t\t Loss: \u001b[1m-471.642914\u001b[0m \n",
       "\t\t\t\t\t ---------"
      ]
     },
     "metadata": {},
     "output_type": "display_data"
    },
    {
     "data": {
      "text/plain": [
       "2025-10-13 07:46:33,676 fedbiomed INFO - Nodes that successfully reply in round 7 ['NODE_CENTRALIZED']"
      ]
     },
     "metadata": {},
     "output_type": "display_data"
    },
    {
     "data": {
      "text/plain": [
       "2025-10-13 07:46:33,743 fedbiomed INFO - Sampled nodes in round 8 ['NODE_CENTRALIZED']"
      ]
     },
     "metadata": {},
     "output_type": "display_data"
    },
    {
     "name": "stdout",
     "output_type": "stream",
     "text": [
      "<function extract_symbols at 0x7f920de88d30>\n"
     ]
    },
    {
     "data": {
      "text/plain": [
       "2025-10-13 07:46:33,772 fedbiomed INFO - \u001b[1mSending request\u001b[0m \n",
       "\t\t\t\t\t\u001b[1m To\u001b[0m: NODE_CENTRALIZED \n",
       "\t\t\t\t\t\u001b[1m Request: \u001b[0m: TRAIN\n",
       " -----------------------------------------------------------------"
      ]
     },
     "metadata": {},
     "output_type": "display_data"
    },
    {
     "data": {
      "text/plain": [
       "2025-10-13 07:46:33,903 fedbiomed DEBUG - Node: NODE_CENTRALIZED polling for the tasks"
      ]
     },
     "metadata": {},
     "output_type": "display_data"
    },
    {
     "data": {
      "text/plain": [
       "2025-10-13 07:46:34,056 fedbiomed INFO - \u001b[1mTRAINING\u001b[0m \n",
       "\t\t\t\t\t NODE_ID: NODE_CENTRALIZED \n",
       "\t\t\t\t\t Round 9 | Iteration: 1/70 (1%) | Samples: 101/7000000\n",
       " \t\t\t\t\t Loss: \u001b[1m-471.645142\u001b[0m \n",
       "\t\t\t\t\t ---------"
      ]
     },
     "metadata": {},
     "output_type": "display_data"
    },
    {
     "data": {
      "text/plain": [
       "2025-10-13 07:46:34,080 fedbiomed INFO - \u001b[1mTRAINING\u001b[0m \n",
       "\t\t\t\t\t NODE_ID: NODE_CENTRALIZED \n",
       "\t\t\t\t\t Round 9 | Iteration: 2/70 (3%) | Samples: 202/7000000\n",
       " \t\t\t\t\t Loss: \u001b[1m-464.225555\u001b[0m \n",
       "\t\t\t\t\t ---------"
      ]
     },
     "metadata": {},
     "output_type": "display_data"
    },
    {
     "data": {
      "text/plain": [
       "2025-10-13 07:46:34,096 fedbiomed INFO - \u001b[1mTRAINING\u001b[0m \n",
       "\t\t\t\t\t NODE_ID: NODE_CENTRALIZED \n",
       "\t\t\t\t\t Round 9 | Iteration: 3/70 (4%) | Samples: 303/7000000\n",
       " \t\t\t\t\t Loss: \u001b[1m-471.069824\u001b[0m \n",
       "\t\t\t\t\t ---------"
      ]
     },
     "metadata": {},
     "output_type": "display_data"
    },
    {
     "data": {
      "text/plain": [
       "2025-10-13 07:46:34,118 fedbiomed INFO - \u001b[1mTRAINING\u001b[0m \n",
       "\t\t\t\t\t NODE_ID: NODE_CENTRALIZED \n",
       "\t\t\t\t\t Round 9 | Iteration: 4/70 (6%) | Samples: 404/7000000\n",
       " \t\t\t\t\t Loss: \u001b[1m-469.900024\u001b[0m \n",
       "\t\t\t\t\t ---------"
      ]
     },
     "metadata": {},
     "output_type": "display_data"
    },
    {
     "data": {
      "text/plain": [
       "2025-10-13 07:46:34,140 fedbiomed INFO - \u001b[1mTRAINING\u001b[0m \n",
       "\t\t\t\t\t NODE_ID: NODE_CENTRALIZED \n",
       "\t\t\t\t\t Round 9 | Iteration: 5/70 (7%) | Samples: 505/7000000\n",
       " \t\t\t\t\t Loss: \u001b[1m-467.494568\u001b[0m \n",
       "\t\t\t\t\t ---------"
      ]
     },
     "metadata": {},
     "output_type": "display_data"
    },
    {
     "data": {
      "text/plain": [
       "2025-10-13 07:46:34,160 fedbiomed INFO - \u001b[1mTRAINING\u001b[0m \n",
       "\t\t\t\t\t NODE_ID: NODE_CENTRALIZED \n",
       "\t\t\t\t\t Round 9 | Iteration: 6/70 (9%) | Samples: 606/7000000\n",
       " \t\t\t\t\t Loss: \u001b[1m-468.570557\u001b[0m \n",
       "\t\t\t\t\t ---------"
      ]
     },
     "metadata": {},
     "output_type": "display_data"
    },
    {
     "data": {
      "text/plain": [
       "2025-10-13 07:46:34,188 fedbiomed INFO - \u001b[1mTRAINING\u001b[0m \n",
       "\t\t\t\t\t NODE_ID: NODE_CENTRALIZED \n",
       "\t\t\t\t\t Round 9 | Iteration: 7/70 (10%) | Samples: 707/7000000\n",
       " \t\t\t\t\t Loss: \u001b[1m-470.632721\u001b[0m \n",
       "\t\t\t\t\t ---------"
      ]
     },
     "metadata": {},
     "output_type": "display_data"
    },
    {
     "data": {
      "text/plain": [
       "2025-10-13 07:46:34,208 fedbiomed INFO - \u001b[1mTRAINING\u001b[0m \n",
       "\t\t\t\t\t NODE_ID: NODE_CENTRALIZED \n",
       "\t\t\t\t\t Round 9 | Iteration: 8/70 (11%) | Samples: 808/7000000\n",
       " \t\t\t\t\t Loss: \u001b[1m-471.381836\u001b[0m \n",
       "\t\t\t\t\t ---------"
      ]
     },
     "metadata": {},
     "output_type": "display_data"
    },
    {
     "data": {
      "text/plain": [
       "2025-10-13 07:46:34,236 fedbiomed INFO - \u001b[1mTRAINING\u001b[0m \n",
       "\t\t\t\t\t NODE_ID: NODE_CENTRALIZED \n",
       "\t\t\t\t\t Round 9 | Iteration: 9/70 (13%) | Samples: 909/7000000\n",
       " \t\t\t\t\t Loss: \u001b[1m-470.630798\u001b[0m \n",
       "\t\t\t\t\t ---------"
      ]
     },
     "metadata": {},
     "output_type": "display_data"
    },
    {
     "data": {
      "text/plain": [
       "2025-10-13 07:46:34,252 fedbiomed INFO - \u001b[1mTRAINING\u001b[0m \n",
       "\t\t\t\t\t NODE_ID: NODE_CENTRALIZED \n",
       "\t\t\t\t\t Round 9 | Iteration: 10/70 (14%) | Samples: 1010/7000000\n",
       " \t\t\t\t\t Loss: \u001b[1m-469.734528\u001b[0m \n",
       "\t\t\t\t\t ---------"
      ]
     },
     "metadata": {},
     "output_type": "display_data"
    },
    {
     "data": {
      "text/plain": [
       "2025-10-13 07:46:34,276 fedbiomed INFO - \u001b[1mTRAINING\u001b[0m \n",
       "\t\t\t\t\t NODE_ID: NODE_CENTRALIZED \n",
       "\t\t\t\t\t Round 9 | Iteration: 11/70 (16%) | Samples: 1111/7000000\n",
       " \t\t\t\t\t Loss: \u001b[1m-469.792206\u001b[0m \n",
       "\t\t\t\t\t ---------"
      ]
     },
     "metadata": {},
     "output_type": "display_data"
    },
    {
     "data": {
      "text/plain": [
       "2025-10-13 07:46:34,300 fedbiomed INFO - \u001b[1mTRAINING\u001b[0m \n",
       "\t\t\t\t\t NODE_ID: NODE_CENTRALIZED \n",
       "\t\t\t\t\t Round 9 | Iteration: 12/70 (17%) | Samples: 1212/7000000\n",
       " \t\t\t\t\t Loss: \u001b[1m-470.626984\u001b[0m \n",
       "\t\t\t\t\t ---------"
      ]
     },
     "metadata": {},
     "output_type": "display_data"
    },
    {
     "data": {
      "text/plain": [
       "2025-10-13 07:46:34,316 fedbiomed INFO - \u001b[1mTRAINING\u001b[0m \n",
       "\t\t\t\t\t NODE_ID: NODE_CENTRALIZED \n",
       "\t\t\t\t\t Round 9 | Iteration: 13/70 (19%) | Samples: 1313/7000000\n",
       " \t\t\t\t\t Loss: \u001b[1m-471.375427\u001b[0m \n",
       "\t\t\t\t\t ---------"
      ]
     },
     "metadata": {},
     "output_type": "display_data"
    },
    {
     "data": {
      "text/plain": [
       "2025-10-13 07:46:34,340 fedbiomed INFO - \u001b[1mTRAINING\u001b[0m \n",
       "\t\t\t\t\t NODE_ID: NODE_CENTRALIZED \n",
       "\t\t\t\t\t Round 9 | Iteration: 14/70 (20%) | Samples: 1414/7000000\n",
       " \t\t\t\t\t Loss: \u001b[1m-471.463409\u001b[0m \n",
       "\t\t\t\t\t ---------"
      ]
     },
     "metadata": {},
     "output_type": "display_data"
    },
    {
     "data": {
      "text/plain": [
       "2025-10-13 07:46:34,356 fedbiomed INFO - \u001b[1mTRAINING\u001b[0m \n",
       "\t\t\t\t\t NODE_ID: NODE_CENTRALIZED \n",
       "\t\t\t\t\t Round 9 | Iteration: 15/70 (21%) | Samples: 1515/7000000\n",
       " \t\t\t\t\t Loss: \u001b[1m-471.026367\u001b[0m \n",
       "\t\t\t\t\t ---------"
      ]
     },
     "metadata": {},
     "output_type": "display_data"
    },
    {
     "data": {
      "text/plain": [
       "2025-10-13 07:46:34,372 fedbiomed INFO - \u001b[1mTRAINING\u001b[0m \n",
       "\t\t\t\t\t NODE_ID: NODE_CENTRALIZED \n",
       "\t\t\t\t\t Round 9 | Iteration: 16/70 (23%) | Samples: 1616/7000000\n",
       " \t\t\t\t\t Loss: \u001b[1m-470.644653\u001b[0m \n",
       "\t\t\t\t\t ---------"
      ]
     },
     "metadata": {},
     "output_type": "display_data"
    },
    {
     "data": {
      "text/plain": [
       "2025-10-13 07:46:34,396 fedbiomed INFO - \u001b[1mTRAINING\u001b[0m \n",
       "\t\t\t\t\t NODE_ID: NODE_CENTRALIZED \n",
       "\t\t\t\t\t Round 9 | Iteration: 17/70 (24%) | Samples: 1717/7000000\n",
       " \t\t\t\t\t Loss: \u001b[1m-470.712341\u001b[0m \n",
       "\t\t\t\t\t ---------"
      ]
     },
     "metadata": {},
     "output_type": "display_data"
    },
    {
     "data": {
      "text/plain": [
       "2025-10-13 07:46:34,424 fedbiomed INFO - \u001b[1mTRAINING\u001b[0m \n",
       "\t\t\t\t\t NODE_ID: NODE_CENTRALIZED \n",
       "\t\t\t\t\t Round 9 | Iteration: 18/70 (26%) | Samples: 1818/7000000\n",
       " \t\t\t\t\t Loss: \u001b[1m-471.117340\u001b[0m \n",
       "\t\t\t\t\t ---------"
      ]
     },
     "metadata": {},
     "output_type": "display_data"
    },
    {
     "data": {
      "text/plain": [
       "2025-10-13 07:46:34,448 fedbiomed INFO - \u001b[1mTRAINING\u001b[0m \n",
       "\t\t\t\t\t NODE_ID: NODE_CENTRALIZED \n",
       "\t\t\t\t\t Round 9 | Iteration: 19/70 (27%) | Samples: 1919/7000000\n",
       " \t\t\t\t\t Loss: \u001b[1m-471.471100\u001b[0m \n",
       "\t\t\t\t\t ---------"
      ]
     },
     "metadata": {},
     "output_type": "display_data"
    },
    {
     "data": {
      "text/plain": [
       "2025-10-13 07:46:34,468 fedbiomed INFO - \u001b[1mTRAINING\u001b[0m \n",
       "\t\t\t\t\t NODE_ID: NODE_CENTRALIZED \n",
       "\t\t\t\t\t Round 9 | Iteration: 20/70 (29%) | Samples: 2020/7000000\n",
       " \t\t\t\t\t Loss: \u001b[1m-471.515198\u001b[0m \n",
       "\t\t\t\t\t ---------"
      ]
     },
     "metadata": {},
     "output_type": "display_data"
    },
    {
     "data": {
      "text/plain": [
       "2025-10-13 07:46:34,492 fedbiomed INFO - \u001b[1mTRAINING\u001b[0m \n",
       "\t\t\t\t\t NODE_ID: NODE_CENTRALIZED \n",
       "\t\t\t\t\t Round 9 | Iteration: 21/70 (30%) | Samples: 2121/7000000\n",
       " \t\t\t\t\t Loss: \u001b[1m-471.317474\u001b[0m \n",
       "\t\t\t\t\t ---------"
      ]
     },
     "metadata": {},
     "output_type": "display_data"
    },
    {
     "data": {
      "text/plain": [
       "2025-10-13 07:46:34,508 fedbiomed INFO - \u001b[1mTRAINING\u001b[0m \n",
       "\t\t\t\t\t NODE_ID: NODE_CENTRALIZED \n",
       "\t\t\t\t\t Round 9 | Iteration: 22/70 (31%) | Samples: 2222/7000000\n",
       " \t\t\t\t\t Loss: \u001b[1m-471.146393\u001b[0m \n",
       "\t\t\t\t\t ---------"
      ]
     },
     "metadata": {},
     "output_type": "display_data"
    },
    {
     "data": {
      "text/plain": [
       "2025-10-13 07:46:34,532 fedbiomed INFO - \u001b[1mTRAINING\u001b[0m \n",
       "\t\t\t\t\t NODE_ID: NODE_CENTRALIZED \n",
       "\t\t\t\t\t Round 9 | Iteration: 23/70 (33%) | Samples: 2323/7000000\n",
       " \t\t\t\t\t Loss: \u001b[1m-471.184052\u001b[0m \n",
       "\t\t\t\t\t ---------"
      ]
     },
     "metadata": {},
     "output_type": "display_data"
    },
    {
     "data": {
      "text/plain": [
       "2025-10-13 07:46:34,552 fedbiomed INFO - \u001b[1mTRAINING\u001b[0m \n",
       "\t\t\t\t\t NODE_ID: NODE_CENTRALIZED \n",
       "\t\t\t\t\t Round 9 | Iteration: 24/70 (34%) | Samples: 2424/7000000\n",
       " \t\t\t\t\t Loss: \u001b[1m-471.375397\u001b[0m \n",
       "\t\t\t\t\t ---------"
      ]
     },
     "metadata": {},
     "output_type": "display_data"
    },
    {
     "data": {
      "text/plain": [
       "2025-10-13 07:46:34,568 fedbiomed INFO - \u001b[1mTRAINING\u001b[0m \n",
       "\t\t\t\t\t NODE_ID: NODE_CENTRALIZED \n",
       "\t\t\t\t\t Round 9 | Iteration: 25/70 (36%) | Samples: 2525/7000000\n",
       " \t\t\t\t\t Loss: \u001b[1m-471.531891\u001b[0m \n",
       "\t\t\t\t\t ---------"
      ]
     },
     "metadata": {},
     "output_type": "display_data"
    },
    {
     "data": {
      "text/plain": [
       "2025-10-13 07:46:34,595 fedbiomed INFO - \u001b[1mTRAINING\u001b[0m \n",
       "\t\t\t\t\t NODE_ID: NODE_CENTRALIZED \n",
       "\t\t\t\t\t Round 9 | Iteration: 26/70 (37%) | Samples: 2626/7000000\n",
       " \t\t\t\t\t Loss: \u001b[1m-471.535370\u001b[0m \n",
       "\t\t\t\t\t ---------"
      ]
     },
     "metadata": {},
     "output_type": "display_data"
    },
    {
     "data": {
      "text/plain": [
       "2025-10-13 07:46:34,608 fedbiomed INFO - \u001b[1mTRAINING\u001b[0m \n",
       "\t\t\t\t\t NODE_ID: NODE_CENTRALIZED \n",
       "\t\t\t\t\t Round 9 | Iteration: 27/70 (39%) | Samples: 2727/7000000\n",
       " \t\t\t\t\t Loss: \u001b[1m-471.438904\u001b[0m \n",
       "\t\t\t\t\t ---------"
      ]
     },
     "metadata": {},
     "output_type": "display_data"
    },
    {
     "data": {
      "text/plain": [
       "2025-10-13 07:46:34,635 fedbiomed INFO - \u001b[1mTRAINING\u001b[0m \n",
       "\t\t\t\t\t NODE_ID: NODE_CENTRALIZED \n",
       "\t\t\t\t\t Round 9 | Iteration: 28/70 (40%) | Samples: 2828/7000000\n",
       " \t\t\t\t\t Loss: \u001b[1m-471.381409\u001b[0m \n",
       "\t\t\t\t\t ---------"
      ]
     },
     "metadata": {},
     "output_type": "display_data"
    },
    {
     "data": {
      "text/plain": [
       "2025-10-13 07:46:34,660 fedbiomed INFO - \u001b[1mTRAINING\u001b[0m \n",
       "\t\t\t\t\t NODE_ID: NODE_CENTRALIZED \n",
       "\t\t\t\t\t Round 9 | Iteration: 29/70 (41%) | Samples: 2929/7000000\n",
       " \t\t\t\t\t Loss: \u001b[1m-471.430786\u001b[0m \n",
       "\t\t\t\t\t ---------"
      ]
     },
     "metadata": {},
     "output_type": "display_data"
    },
    {
     "data": {
      "text/plain": [
       "2025-10-13 07:46:34,676 fedbiomed INFO - \u001b[1mTRAINING\u001b[0m \n",
       "\t\t\t\t\t NODE_ID: NODE_CENTRALIZED \n",
       "\t\t\t\t\t Round 9 | Iteration: 30/70 (43%) | Samples: 3030/7000000\n",
       " \t\t\t\t\t Loss: \u001b[1m-471.530609\u001b[0m \n",
       "\t\t\t\t\t ---------"
      ]
     },
     "metadata": {},
     "output_type": "display_data"
    },
    {
     "data": {
      "text/plain": [
       "2025-10-13 07:46:34,692 fedbiomed INFO - \u001b[1mTRAINING\u001b[0m \n",
       "\t\t\t\t\t NODE_ID: NODE_CENTRALIZED \n",
       "\t\t\t\t\t Round 9 | Iteration: 31/70 (44%) | Samples: 3131/7000000\n",
       " \t\t\t\t\t Loss: \u001b[1m-471.582397\u001b[0m \n",
       "\t\t\t\t\t ---------"
      ]
     },
     "metadata": {},
     "output_type": "display_data"
    },
    {
     "data": {
      "text/plain": [
       "2025-10-13 07:46:34,716 fedbiomed INFO - \u001b[1mTRAINING\u001b[0m \n",
       "\t\t\t\t\t NODE_ID: NODE_CENTRALIZED \n",
       "\t\t\t\t\t Round 9 | Iteration: 32/70 (46%) | Samples: 3232/7000000\n",
       " \t\t\t\t\t Loss: \u001b[1m-471.553864\u001b[0m \n",
       "\t\t\t\t\t ---------"
      ]
     },
     "metadata": {},
     "output_type": "display_data"
    },
    {
     "data": {
      "text/plain": [
       "2025-10-13 07:46:34,740 fedbiomed INFO - \u001b[1mTRAINING\u001b[0m \n",
       "\t\t\t\t\t NODE_ID: NODE_CENTRALIZED \n",
       "\t\t\t\t\t Round 9 | Iteration: 33/70 (47%) | Samples: 3333/7000000\n",
       " \t\t\t\t\t Loss: \u001b[1m-471.501831\u001b[0m \n",
       "\t\t\t\t\t ---------"
      ]
     },
     "metadata": {},
     "output_type": "display_data"
    },
    {
     "data": {
      "text/plain": [
       "2025-10-13 07:46:34,776 fedbiomed INFO - \u001b[1mTRAINING\u001b[0m \n",
       "\t\t\t\t\t NODE_ID: NODE_CENTRALIZED \n",
       "\t\t\t\t\t Round 9 | Iteration: 34/70 (49%) | Samples: 3434/7000000\n",
       " \t\t\t\t\t Loss: \u001b[1m-471.498230\u001b[0m \n",
       "\t\t\t\t\t ---------"
      ]
     },
     "metadata": {},
     "output_type": "display_data"
    },
    {
     "data": {
      "text/plain": [
       "2025-10-13 07:46:34,800 fedbiomed INFO - \u001b[1mTRAINING\u001b[0m \n",
       "\t\t\t\t\t NODE_ID: NODE_CENTRALIZED \n",
       "\t\t\t\t\t Round 9 | Iteration: 35/70 (50%) | Samples: 3535/7000000\n",
       " \t\t\t\t\t Loss: \u001b[1m-471.550690\u001b[0m \n",
       "\t\t\t\t\t ---------"
      ]
     },
     "metadata": {},
     "output_type": "display_data"
    },
    {
     "data": {
      "text/plain": [
       "2025-10-13 07:46:34,824 fedbiomed INFO - \u001b[1mTRAINING\u001b[0m \n",
       "\t\t\t\t\t NODE_ID: NODE_CENTRALIZED \n",
       "\t\t\t\t\t Round 9 | Iteration: 36/70 (51%) | Samples: 3636/7000000\n",
       " \t\t\t\t\t Loss: \u001b[1m-471.604767\u001b[0m \n",
       "\t\t\t\t\t ---------"
      ]
     },
     "metadata": {},
     "output_type": "display_data"
    },
    {
     "data": {
      "text/plain": [
       "2025-10-13 07:46:34,844 fedbiomed INFO - \u001b[1mTRAINING\u001b[0m \n",
       "\t\t\t\t\t NODE_ID: NODE_CENTRALIZED \n",
       "\t\t\t\t\t Round 9 | Iteration: 37/70 (53%) | Samples: 3737/7000000\n",
       " \t\t\t\t\t Loss: \u001b[1m-471.611786\u001b[0m \n",
       "\t\t\t\t\t ---------"
      ]
     },
     "metadata": {},
     "output_type": "display_data"
    },
    {
     "data": {
      "text/plain": [
       "2025-10-13 07:46:34,865 fedbiomed INFO - \u001b[1mTRAINING\u001b[0m \n",
       "\t\t\t\t\t NODE_ID: NODE_CENTRALIZED \n",
       "\t\t\t\t\t Round 9 | Iteration: 38/70 (54%) | Samples: 3838/7000000\n",
       " \t\t\t\t\t Loss: \u001b[1m-471.579285\u001b[0m \n",
       "\t\t\t\t\t ---------"
      ]
     },
     "metadata": {},
     "output_type": "display_data"
    },
    {
     "data": {
      "text/plain": [
       "2025-10-13 07:46:34,884 fedbiomed INFO - \u001b[1mTRAINING\u001b[0m \n",
       "\t\t\t\t\t NODE_ID: NODE_CENTRALIZED \n",
       "\t\t\t\t\t Round 9 | Iteration: 39/70 (56%) | Samples: 3939/7000000\n",
       " \t\t\t\t\t Loss: \u001b[1m-471.554535\u001b[0m \n",
       "\t\t\t\t\t ---------"
      ]
     },
     "metadata": {},
     "output_type": "display_data"
    },
    {
     "data": {
      "text/plain": [
       "2025-10-13 07:46:34,904 fedbiomed INFO - \u001b[1mTRAINING\u001b[0m \n",
       "\t\t\t\t\t NODE_ID: NODE_CENTRALIZED \n",
       "\t\t\t\t\t Round 9 | Iteration: 40/70 (57%) | Samples: 4040/7000000\n",
       " \t\t\t\t\t Loss: \u001b[1m-471.568726\u001b[0m \n",
       "\t\t\t\t\t ---------"
      ]
     },
     "metadata": {},
     "output_type": "display_data"
    },
    {
     "data": {
      "text/plain": [
       "2025-10-13 07:46:34,928 fedbiomed INFO - \u001b[1mTRAINING\u001b[0m \n",
       "\t\t\t\t\t NODE_ID: NODE_CENTRALIZED \n",
       "\t\t\t\t\t Round 9 | Iteration: 41/70 (59%) | Samples: 4141/7000000\n",
       " \t\t\t\t\t Loss: \u001b[1m-471.606384\u001b[0m \n",
       "\t\t\t\t\t ---------"
      ]
     },
     "metadata": {},
     "output_type": "display_data"
    },
    {
     "data": {
      "text/plain": [
       "2025-10-13 07:46:34,944 fedbiomed INFO - \u001b[1mTRAINING\u001b[0m \n",
       "\t\t\t\t\t NODE_ID: NODE_CENTRALIZED \n",
       "\t\t\t\t\t Round 9 | Iteration: 42/70 (60%) | Samples: 4242/7000000\n",
       " \t\t\t\t\t Loss: \u001b[1m-471.628723\u001b[0m \n",
       "\t\t\t\t\t ---------"
      ]
     },
     "metadata": {},
     "output_type": "display_data"
    },
    {
     "data": {
      "text/plain": [
       "2025-10-13 07:46:34,965 fedbiomed INFO - \u001b[1mTRAINING\u001b[0m \n",
       "\t\t\t\t\t NODE_ID: NODE_CENTRALIZED \n",
       "\t\t\t\t\t Round 9 | Iteration: 43/70 (61%) | Samples: 4343/7000000\n",
       " \t\t\t\t\t Loss: \u001b[1m-471.618927\u001b[0m \n",
       "\t\t\t\t\t ---------"
      ]
     },
     "metadata": {},
     "output_type": "display_data"
    },
    {
     "data": {
      "text/plain": [
       "2025-10-13 07:46:34,984 fedbiomed INFO - \u001b[1mTRAINING\u001b[0m \n",
       "\t\t\t\t\t NODE_ID: NODE_CENTRALIZED \n",
       "\t\t\t\t\t Round 9 | Iteration: 44/70 (63%) | Samples: 4444/7000000\n",
       " \t\t\t\t\t Loss: \u001b[1m-471.597870\u001b[0m \n",
       "\t\t\t\t\t ---------"
      ]
     },
     "metadata": {},
     "output_type": "display_data"
    },
    {
     "data": {
      "text/plain": [
       "2025-10-13 07:46:35,002 fedbiomed INFO - \u001b[1mTRAINING\u001b[0m \n",
       "\t\t\t\t\t NODE_ID: NODE_CENTRALIZED \n",
       "\t\t\t\t\t Round 9 | Iteration: 45/70 (64%) | Samples: 4545/7000000\n",
       " \t\t\t\t\t Loss: \u001b[1m-471.595886\u001b[0m \n",
       "\t\t\t\t\t ---------"
      ]
     },
     "metadata": {},
     "output_type": "display_data"
    },
    {
     "data": {
      "text/plain": [
       "2025-10-13 07:46:35,024 fedbiomed INFO - \u001b[1mTRAINING\u001b[0m \n",
       "\t\t\t\t\t NODE_ID: NODE_CENTRALIZED \n",
       "\t\t\t\t\t Round 9 | Iteration: 46/70 (66%) | Samples: 4646/7000000\n",
       " \t\t\t\t\t Loss: \u001b[1m-471.616058\u001b[0m \n",
       "\t\t\t\t\t ---------"
      ]
     },
     "metadata": {},
     "output_type": "display_data"
    },
    {
     "data": {
      "text/plain": [
       "2025-10-13 07:46:35,044 fedbiomed INFO - \u001b[1mTRAINING\u001b[0m \n",
       "\t\t\t\t\t NODE_ID: NODE_CENTRALIZED \n",
       "\t\t\t\t\t Round 9 | Iteration: 47/70 (67%) | Samples: 4747/7000000\n",
       " \t\t\t\t\t Loss: \u001b[1m-471.634705\u001b[0m \n",
       "\t\t\t\t\t ---------"
      ]
     },
     "metadata": {},
     "output_type": "display_data"
    },
    {
     "data": {
      "text/plain": [
       "2025-10-13 07:46:35,068 fedbiomed INFO - \u001b[1mTRAINING\u001b[0m \n",
       "\t\t\t\t\t NODE_ID: NODE_CENTRALIZED \n",
       "\t\t\t\t\t Round 9 | Iteration: 48/70 (69%) | Samples: 4848/7000000\n",
       " \t\t\t\t\t Loss: \u001b[1m-471.633209\u001b[0m \n",
       "\t\t\t\t\t ---------"
      ]
     },
     "metadata": {},
     "output_type": "display_data"
    },
    {
     "data": {
      "text/plain": [
       "2025-10-13 07:46:35,087 fedbiomed INFO - \u001b[1mTRAINING\u001b[0m \n",
       "\t\t\t\t\t NODE_ID: NODE_CENTRALIZED \n",
       "\t\t\t\t\t Round 9 | Iteration: 49/70 (70%) | Samples: 4949/7000000\n",
       " \t\t\t\t\t Loss: \u001b[1m-471.619507\u001b[0m \n",
       "\t\t\t\t\t ---------"
      ]
     },
     "metadata": {},
     "output_type": "display_data"
    },
    {
     "data": {
      "text/plain": [
       "2025-10-13 07:46:35,112 fedbiomed INFO - \u001b[1mTRAINING\u001b[0m \n",
       "\t\t\t\t\t NODE_ID: NODE_CENTRALIZED \n",
       "\t\t\t\t\t Round 9 | Iteration: 50/70 (71%) | Samples: 5050/7000000\n",
       " \t\t\t\t\t Loss: \u001b[1m-471.614746\u001b[0m \n",
       "\t\t\t\t\t ---------"
      ]
     },
     "metadata": {},
     "output_type": "display_data"
    },
    {
     "data": {
      "text/plain": [
       "2025-10-13 07:46:35,132 fedbiomed INFO - \u001b[1mTRAINING\u001b[0m \n",
       "\t\t\t\t\t NODE_ID: NODE_CENTRALIZED \n",
       "\t\t\t\t\t Round 9 | Iteration: 51/70 (73%) | Samples: 5151/7000000\n",
       " \t\t\t\t\t Loss: \u001b[1m-471.625610\u001b[0m \n",
       "\t\t\t\t\t ---------"
      ]
     },
     "metadata": {},
     "output_type": "display_data"
    },
    {
     "data": {
      "text/plain": [
       "2025-10-13 07:46:35,153 fedbiomed INFO - \u001b[1mTRAINING\u001b[0m \n",
       "\t\t\t\t\t NODE_ID: NODE_CENTRALIZED \n",
       "\t\t\t\t\t Round 9 | Iteration: 52/70 (74%) | Samples: 5252/7000000\n",
       " \t\t\t\t\t Loss: \u001b[1m-471.638641\u001b[0m \n",
       "\t\t\t\t\t ---------"
      ]
     },
     "metadata": {},
     "output_type": "display_data"
    },
    {
     "data": {
      "text/plain": [
       "2025-10-13 07:46:35,176 fedbiomed INFO - \u001b[1mTRAINING\u001b[0m \n",
       "\t\t\t\t\t NODE_ID: NODE_CENTRALIZED \n",
       "\t\t\t\t\t Round 9 | Iteration: 53/70 (76%) | Samples: 5353/7000000\n",
       " \t\t\t\t\t Loss: \u001b[1m-471.639862\u001b[0m \n",
       "\t\t\t\t\t ---------"
      ]
     },
     "metadata": {},
     "output_type": "display_data"
    },
    {
     "data": {
      "text/plain": [
       "2025-10-13 07:46:35,207 fedbiomed INFO - \u001b[1mTRAINING\u001b[0m \n",
       "\t\t\t\t\t NODE_ID: NODE_CENTRALIZED \n",
       "\t\t\t\t\t Round 9 | Iteration: 54/70 (77%) | Samples: 5454/7000000\n",
       " \t\t\t\t\t Loss: \u001b[1m-471.631836\u001b[0m \n",
       "\t\t\t\t\t ---------"
      ]
     },
     "metadata": {},
     "output_type": "display_data"
    },
    {
     "data": {
      "text/plain": [
       "2025-10-13 07:46:35,240 fedbiomed INFO - \u001b[1mTRAINING\u001b[0m \n",
       "\t\t\t\t\t NODE_ID: NODE_CENTRALIZED \n",
       "\t\t\t\t\t Round 9 | Iteration: 55/70 (79%) | Samples: 5555/7000000\n",
       " \t\t\t\t\t Loss: \u001b[1m-471.627716\u001b[0m \n",
       "\t\t\t\t\t ---------"
      ]
     },
     "metadata": {},
     "output_type": "display_data"
    },
    {
     "data": {
      "text/plain": [
       "2025-10-13 07:46:35,268 fedbiomed INFO - \u001b[1mTRAINING\u001b[0m \n",
       "\t\t\t\t\t NODE_ID: NODE_CENTRALIZED \n",
       "\t\t\t\t\t Round 9 | Iteration: 56/70 (80%) | Samples: 5656/7000000\n",
       " \t\t\t\t\t Loss: \u001b[1m-471.633514\u001b[0m \n",
       "\t\t\t\t\t ---------"
      ]
     },
     "metadata": {},
     "output_type": "display_data"
    },
    {
     "data": {
      "text/plain": [
       "2025-10-13 07:46:35,296 fedbiomed INFO - \u001b[1mTRAINING\u001b[0m \n",
       "\t\t\t\t\t NODE_ID: NODE_CENTRALIZED \n",
       "\t\t\t\t\t Round 9 | Iteration: 57/70 (81%) | Samples: 5757/7000000\n",
       " \t\t\t\t\t Loss: \u001b[1m-471.641479\u001b[0m \n",
       "\t\t\t\t\t ---------"
      ]
     },
     "metadata": {},
     "output_type": "display_data"
    },
    {
     "data": {
      "text/plain": [
       "2025-10-13 07:46:35,332 fedbiomed INFO - \u001b[1mTRAINING\u001b[0m \n",
       "\t\t\t\t\t NODE_ID: NODE_CENTRALIZED \n",
       "\t\t\t\t\t Round 9 | Iteration: 58/70 (83%) | Samples: 5858/7000000\n",
       " \t\t\t\t\t Loss: \u001b[1m-471.642303\u001b[0m \n",
       "\t\t\t\t\t ---------"
      ]
     },
     "metadata": {},
     "output_type": "display_data"
    },
    {
     "data": {
      "text/plain": [
       "2025-10-13 07:46:35,362 fedbiomed INFO - \u001b[1mTRAINING\u001b[0m \n",
       "\t\t\t\t\t NODE_ID: NODE_CENTRALIZED \n",
       "\t\t\t\t\t Round 9 | Iteration: 59/70 (84%) | Samples: 5959/7000000\n",
       " \t\t\t\t\t Loss: \u001b[1m-471.637329\u001b[0m \n",
       "\t\t\t\t\t ---------"
      ]
     },
     "metadata": {},
     "output_type": "display_data"
    },
    {
     "data": {
      "text/plain": [
       "2025-10-13 07:46:35,388 fedbiomed INFO - \u001b[1mTRAINING\u001b[0m \n",
       "\t\t\t\t\t NODE_ID: NODE_CENTRALIZED \n",
       "\t\t\t\t\t Round 9 | Iteration: 60/70 (86%) | Samples: 6060/7000000\n",
       " \t\t\t\t\t Loss: \u001b[1m-471.635498\u001b[0m \n",
       "\t\t\t\t\t ---------"
      ]
     },
     "metadata": {},
     "output_type": "display_data"
    },
    {
     "data": {
      "text/plain": [
       "2025-10-13 07:46:35,412 fedbiomed INFO - \u001b[1mTRAINING\u001b[0m \n",
       "\t\t\t\t\t NODE_ID: NODE_CENTRALIZED \n",
       "\t\t\t\t\t Round 9 | Iteration: 61/70 (87%) | Samples: 6161/7000000\n",
       " \t\t\t\t\t Loss: \u001b[1m-471.639709\u001b[0m \n",
       "\t\t\t\t\t ---------"
      ]
     },
     "metadata": {},
     "output_type": "display_data"
    },
    {
     "data": {
      "text/plain": [
       "2025-10-13 07:46:35,440 fedbiomed INFO - \u001b[1mTRAINING\u001b[0m \n",
       "\t\t\t\t\t NODE_ID: NODE_CENTRALIZED \n",
       "\t\t\t\t\t Round 9 | Iteration: 62/70 (89%) | Samples: 6262/7000000\n",
       " \t\t\t\t\t Loss: \u001b[1m-471.644562\u001b[0m \n",
       "\t\t\t\t\t ---------"
      ]
     },
     "metadata": {},
     "output_type": "display_data"
    },
    {
     "data": {
      "text/plain": [
       "2025-10-13 07:46:35,456 fedbiomed INFO - \u001b[1mTRAINING\u001b[0m \n",
       "\t\t\t\t\t NODE_ID: NODE_CENTRALIZED \n",
       "\t\t\t\t\t Round 9 | Iteration: 63/70 (90%) | Samples: 6363/7000000\n",
       " \t\t\t\t\t Loss: \u001b[1m-471.644043\u001b[0m \n",
       "\t\t\t\t\t ---------"
      ]
     },
     "metadata": {},
     "output_type": "display_data"
    },
    {
     "data": {
      "text/plain": [
       "2025-10-13 07:46:35,480 fedbiomed INFO - \u001b[1mTRAINING\u001b[0m \n",
       "\t\t\t\t\t NODE_ID: NODE_CENTRALIZED \n",
       "\t\t\t\t\t Round 9 | Iteration: 64/70 (91%) | Samples: 6464/7000000\n",
       " \t\t\t\t\t Loss: \u001b[1m-471.640533\u001b[0m \n",
       "\t\t\t\t\t ---------"
      ]
     },
     "metadata": {},
     "output_type": "display_data"
    },
    {
     "data": {
      "text/plain": [
       "2025-10-13 07:46:35,498 fedbiomed INFO - \u001b[1mTRAINING\u001b[0m \n",
       "\t\t\t\t\t NODE_ID: NODE_CENTRALIZED \n",
       "\t\t\t\t\t Round 9 | Iteration: 65/70 (93%) | Samples: 6565/7000000\n",
       " \t\t\t\t\t Loss: \u001b[1m-471.639923\u001b[0m \n",
       "\t\t\t\t\t ---------"
      ]
     },
     "metadata": {},
     "output_type": "display_data"
    },
    {
     "data": {
      "text/plain": [
       "2025-10-13 07:46:35,516 fedbiomed INFO - \u001b[1mTRAINING\u001b[0m \n",
       "\t\t\t\t\t NODE_ID: NODE_CENTRALIZED \n",
       "\t\t\t\t\t Round 9 | Iteration: 66/70 (94%) | Samples: 6666/7000000\n",
       " \t\t\t\t\t Loss: \u001b[1m-471.643219\u001b[0m \n",
       "\t\t\t\t\t ---------"
      ]
     },
     "metadata": {},
     "output_type": "display_data"
    },
    {
     "data": {
      "text/plain": [
       "2025-10-13 07:46:35,532 fedbiomed INFO - \u001b[1mTRAINING\u001b[0m \n",
       "\t\t\t\t\t NODE_ID: NODE_CENTRALIZED \n",
       "\t\t\t\t\t Round 9 | Iteration: 67/70 (96%) | Samples: 6767/7000000\n",
       " \t\t\t\t\t Loss: \u001b[1m-471.645935\u001b[0m \n",
       "\t\t\t\t\t ---------"
      ]
     },
     "metadata": {},
     "output_type": "display_data"
    },
    {
     "data": {
      "text/plain": [
       "2025-10-13 07:46:35,564 fedbiomed INFO - \u001b[1mTRAINING\u001b[0m \n",
       "\t\t\t\t\t NODE_ID: NODE_CENTRALIZED \n",
       "\t\t\t\t\t Round 9 | Iteration: 68/70 (97%) | Samples: 6868/7000000\n",
       " \t\t\t\t\t Loss: \u001b[1m-471.644958\u001b[0m \n",
       "\t\t\t\t\t ---------"
      ]
     },
     "metadata": {},
     "output_type": "display_data"
    },
    {
     "data": {
      "text/plain": [
       "2025-10-13 07:46:35,584 fedbiomed INFO - \u001b[1mTRAINING\u001b[0m \n",
       "\t\t\t\t\t NODE_ID: NODE_CENTRALIZED \n",
       "\t\t\t\t\t Round 9 | Iteration: 69/70 (99%) | Samples: 6969/7000000\n",
       " \t\t\t\t\t Loss: \u001b[1m-471.642944\u001b[0m \n",
       "\t\t\t\t\t ---------"
      ]
     },
     "metadata": {},
     "output_type": "display_data"
    },
    {
     "data": {
      "text/plain": [
       "2025-10-13 07:46:35,608 fedbiomed INFO - \u001b[1mTRAINING\u001b[0m \n",
       "\t\t\t\t\t NODE_ID: NODE_CENTRALIZED \n",
       "\t\t\t\t\t Round 9 | Iteration: 70/70 (100%) | Samples: 7070/7000000\n",
       " \t\t\t\t\t Loss: \u001b[1m-471.643280\u001b[0m \n",
       "\t\t\t\t\t ---------"
      ]
     },
     "metadata": {},
     "output_type": "display_data"
    },
    {
     "data": {
      "text/plain": [
       "2025-10-13 07:46:35,675 fedbiomed INFO - Nodes that successfully reply in round 8 ['NODE_CENTRALIZED']"
      ]
     },
     "metadata": {},
     "output_type": "display_data"
    },
    {
     "data": {
      "text/plain": [
       "2025-10-13 07:46:35,811 fedbiomed INFO - Sampled nodes in round 9 ['NODE_CENTRALIZED']"
      ]
     },
     "metadata": {},
     "output_type": "display_data"
    },
    {
     "name": "stdout",
     "output_type": "stream",
     "text": [
      "<function extract_symbols at 0x7f920de88d30>\n"
     ]
    },
    {
     "data": {
      "text/plain": [
       "2025-10-13 07:46:35,874 fedbiomed INFO - \u001b[1mSending request\u001b[0m \n",
       "\t\t\t\t\t\u001b[1m To\u001b[0m: NODE_CENTRALIZED \n",
       "\t\t\t\t\t\u001b[1m Request: \u001b[0m: TRAIN\n",
       " -----------------------------------------------------------------"
      ]
     },
     "metadata": {},
     "output_type": "display_data"
    },
    {
     "data": {
      "text/plain": [
       "2025-10-13 07:46:36,059 fedbiomed DEBUG - Node: NODE_CENTRALIZED polling for the tasks"
      ]
     },
     "metadata": {},
     "output_type": "display_data"
    },
    {
     "data": {
      "text/plain": [
       "2025-10-13 07:46:36,200 fedbiomed INFO - \u001b[1mTRAINING\u001b[0m \n",
       "\t\t\t\t\t NODE_ID: NODE_CENTRALIZED \n",
       "\t\t\t\t\t Round 10 | Iteration: 1/70 (1%) | Samples: 101/7000000\n",
       " \t\t\t\t\t Loss: \u001b[1m-471.645355\u001b[0m \n",
       "\t\t\t\t\t ---------"
      ]
     },
     "metadata": {},
     "output_type": "display_data"
    },
    {
     "data": {
      "text/plain": [
       "2025-10-13 07:46:36,236 fedbiomed INFO - \u001b[1mTRAINING\u001b[0m \n",
       "\t\t\t\t\t NODE_ID: NODE_CENTRALIZED \n",
       "\t\t\t\t\t Round 10 | Iteration: 2/70 (3%) | Samples: 202/7000000\n",
       " \t\t\t\t\t Loss: \u001b[1m-464.836884\u001b[0m \n",
       "\t\t\t\t\t ---------"
      ]
     },
     "metadata": {},
     "output_type": "display_data"
    },
    {
     "data": {
      "text/plain": [
       "2025-10-13 07:46:36,263 fedbiomed INFO - \u001b[1mTRAINING\u001b[0m \n",
       "\t\t\t\t\t NODE_ID: NODE_CENTRALIZED \n",
       "\t\t\t\t\t Round 10 | Iteration: 3/70 (4%) | Samples: 303/7000000\n",
       " \t\t\t\t\t Loss: \u001b[1m-471.154907\u001b[0m \n",
       "\t\t\t\t\t ---------"
      ]
     },
     "metadata": {},
     "output_type": "display_data"
    },
    {
     "data": {
      "text/plain": [
       "2025-10-13 07:46:36,283 fedbiomed INFO - \u001b[1mTRAINING\u001b[0m \n",
       "\t\t\t\t\t NODE_ID: NODE_CENTRALIZED \n",
       "\t\t\t\t\t Round 10 | Iteration: 4/70 (6%) | Samples: 404/7000000\n",
       " \t\t\t\t\t Loss: \u001b[1m-470.160675\u001b[0m \n",
       "\t\t\t\t\t ---------"
      ]
     },
     "metadata": {},
     "output_type": "display_data"
    },
    {
     "data": {
      "text/plain": [
       "2025-10-13 07:46:36,303 fedbiomed INFO - \u001b[1mTRAINING\u001b[0m \n",
       "\t\t\t\t\t NODE_ID: NODE_CENTRALIZED \n",
       "\t\t\t\t\t Round 10 | Iteration: 5/70 (7%) | Samples: 505/7000000\n",
       " \t\t\t\t\t Loss: \u001b[1m-467.742554\u001b[0m \n",
       "\t\t\t\t\t ---------"
      ]
     },
     "metadata": {},
     "output_type": "display_data"
    },
    {
     "data": {
      "text/plain": [
       "2025-10-13 07:46:36,315 fedbiomed INFO - \u001b[1mTRAINING\u001b[0m \n",
       "\t\t\t\t\t NODE_ID: NODE_CENTRALIZED \n",
       "\t\t\t\t\t Round 10 | Iteration: 6/70 (9%) | Samples: 606/7000000\n",
       " \t\t\t\t\t Loss: \u001b[1m-468.701599\u001b[0m \n",
       "\t\t\t\t\t ---------"
      ]
     },
     "metadata": {},
     "output_type": "display_data"
    },
    {
     "data": {
      "text/plain": [
       "2025-10-13 07:46:36,335 fedbiomed INFO - \u001b[1mTRAINING\u001b[0m \n",
       "\t\t\t\t\t NODE_ID: NODE_CENTRALIZED \n",
       "\t\t\t\t\t Round 10 | Iteration: 7/70 (10%) | Samples: 707/7000000\n",
       " \t\t\t\t\t Loss: \u001b[1m-470.782501\u001b[0m \n",
       "\t\t\t\t\t ---------"
      ]
     },
     "metadata": {},
     "output_type": "display_data"
    },
    {
     "data": {
      "text/plain": [
       "2025-10-13 07:46:36,355 fedbiomed INFO - \u001b[1mTRAINING\u001b[0m \n",
       "\t\t\t\t\t NODE_ID: NODE_CENTRALIZED \n",
       "\t\t\t\t\t Round 10 | Iteration: 8/70 (11%) | Samples: 808/7000000\n",
       " \t\t\t\t\t Loss: \u001b[1m-471.602478\u001b[0m \n",
       "\t\t\t\t\t ---------"
      ]
     },
     "metadata": {},
     "output_type": "display_data"
    },
    {
     "data": {
      "text/plain": [
       "2025-10-13 07:46:36,371 fedbiomed INFO - \u001b[1mTRAINING\u001b[0m \n",
       "\t\t\t\t\t NODE_ID: NODE_CENTRALIZED \n",
       "\t\t\t\t\t Round 10 | Iteration: 9/70 (13%) | Samples: 909/7000000\n",
       " \t\t\t\t\t Loss: \u001b[1m-470.797668\u001b[0m \n",
       "\t\t\t\t\t ---------"
      ]
     },
     "metadata": {},
     "output_type": "display_data"
    },
    {
     "data": {
      "text/plain": [
       "2025-10-13 07:46:36,388 fedbiomed INFO - \u001b[1mTRAINING\u001b[0m \n",
       "\t\t\t\t\t NODE_ID: NODE_CENTRALIZED \n",
       "\t\t\t\t\t Round 10 | Iteration: 10/70 (14%) | Samples: 1010/7000000\n",
       " \t\t\t\t\t Loss: \u001b[1m-469.802826\u001b[0m \n",
       "\t\t\t\t\t ---------"
      ]
     },
     "metadata": {},
     "output_type": "display_data"
    },
    {
     "data": {
      "text/plain": [
       "2025-10-13 07:46:36,412 fedbiomed INFO - \u001b[1mTRAINING\u001b[0m \n",
       "\t\t\t\t\t NODE_ID: NODE_CENTRALIZED \n",
       "\t\t\t\t\t Round 10 | Iteration: 11/70 (16%) | Samples: 1111/7000000\n",
       " \t\t\t\t\t Loss: \u001b[1m-469.852905\u001b[0m \n",
       "\t\t\t\t\t ---------"
      ]
     },
     "metadata": {},
     "output_type": "display_data"
    },
    {
     "data": {
      "text/plain": [
       "2025-10-13 07:46:36,436 fedbiomed INFO - \u001b[1mTRAINING\u001b[0m \n",
       "\t\t\t\t\t NODE_ID: NODE_CENTRALIZED \n",
       "\t\t\t\t\t Round 10 | Iteration: 12/70 (17%) | Samples: 1212/7000000\n",
       " \t\t\t\t\t Loss: \u001b[1m-470.734833\u001b[0m \n",
       "\t\t\t\t\t ---------"
      ]
     },
     "metadata": {},
     "output_type": "display_data"
    },
    {
     "data": {
      "text/plain": [
       "2025-10-13 07:46:36,448 fedbiomed INFO - \u001b[1mTRAINING\u001b[0m \n",
       "\t\t\t\t\t NODE_ID: NODE_CENTRALIZED \n",
       "\t\t\t\t\t Round 10 | Iteration: 13/70 (19%) | Samples: 1313/7000000\n",
       " \t\t\t\t\t Loss: \u001b[1m-471.503326\u001b[0m \n",
       "\t\t\t\t\t ---------"
      ]
     },
     "metadata": {},
     "output_type": "display_data"
    },
    {
     "data": {
      "text/plain": [
       "2025-10-13 07:46:36,460 fedbiomed INFO - \u001b[1mTRAINING\u001b[0m \n",
       "\t\t\t\t\t NODE_ID: NODE_CENTRALIZED \n",
       "\t\t\t\t\t Round 10 | Iteration: 14/70 (20%) | Samples: 1414/7000000\n",
       " \t\t\t\t\t Loss: \u001b[1m-471.534576\u001b[0m \n",
       "\t\t\t\t\t ---------"
      ]
     },
     "metadata": {},
     "output_type": "display_data"
    },
    {
     "data": {
      "text/plain": [
       "2025-10-13 07:46:36,484 fedbiomed INFO - \u001b[1mTRAINING\u001b[0m \n",
       "\t\t\t\t\t NODE_ID: NODE_CENTRALIZED \n",
       "\t\t\t\t\t Round 10 | Iteration: 15/70 (21%) | Samples: 1515/7000000\n",
       " \t\t\t\t\t Loss: \u001b[1m-471.012756\u001b[0m \n",
       "\t\t\t\t\t ---------"
      ]
     },
     "metadata": {},
     "output_type": "display_data"
    },
    {
     "data": {
      "text/plain": [
       "2025-10-13 07:46:36,504 fedbiomed INFO - \u001b[1mTRAINING\u001b[0m \n",
       "\t\t\t\t\t NODE_ID: NODE_CENTRALIZED \n",
       "\t\t\t\t\t Round 10 | Iteration: 16/70 (23%) | Samples: 1616/7000000\n",
       " \t\t\t\t\t Loss: \u001b[1m-470.617828\u001b[0m \n",
       "\t\t\t\t\t ---------"
      ]
     },
     "metadata": {},
     "output_type": "display_data"
    },
    {
     "data": {
      "text/plain": [
       "2025-10-13 07:46:36,524 fedbiomed INFO - \u001b[1mTRAINING\u001b[0m \n",
       "\t\t\t\t\t NODE_ID: NODE_CENTRALIZED \n",
       "\t\t\t\t\t Round 10 | Iteration: 17/70 (24%) | Samples: 1717/7000000\n",
       " \t\t\t\t\t Loss: \u001b[1m-470.757080\u001b[0m \n",
       "\t\t\t\t\t ---------"
      ]
     },
     "metadata": {},
     "output_type": "display_data"
    },
    {
     "data": {
      "text/plain": [
       "2025-10-13 07:46:36,544 fedbiomed INFO - \u001b[1mTRAINING\u001b[0m \n",
       "\t\t\t\t\t NODE_ID: NODE_CENTRALIZED \n",
       "\t\t\t\t\t Round 10 | Iteration: 18/70 (26%) | Samples: 1818/7000000\n",
       " \t\t\t\t\t Loss: \u001b[1m-471.237457\u001b[0m \n",
       "\t\t\t\t\t ---------"
      ]
     },
     "metadata": {},
     "output_type": "display_data"
    },
    {
     "data": {
      "text/plain": [
       "2025-10-13 07:46:36,564 fedbiomed INFO - \u001b[1mTRAINING\u001b[0m \n",
       "\t\t\t\t\t NODE_ID: NODE_CENTRALIZED \n",
       "\t\t\t\t\t Round 10 | Iteration: 19/70 (27%) | Samples: 1919/7000000\n",
       " \t\t\t\t\t Loss: \u001b[1m-471.592987\u001b[0m \n",
       "\t\t\t\t\t ---------"
      ]
     },
     "metadata": {},
     "output_type": "display_data"
    },
    {
     "data": {
      "text/plain": [
       "2025-10-13 07:46:36,579 fedbiomed INFO - \u001b[1mTRAINING\u001b[0m \n",
       "\t\t\t\t\t NODE_ID: NODE_CENTRALIZED \n",
       "\t\t\t\t\t Round 10 | Iteration: 20/70 (29%) | Samples: 2020/7000000\n",
       " \t\t\t\t\t Loss: \u001b[1m-471.557404\u001b[0m \n",
       "\t\t\t\t\t ---------"
      ]
     },
     "metadata": {},
     "output_type": "display_data"
    },
    {
     "data": {
      "text/plain": [
       "2025-10-13 07:46:36,600 fedbiomed INFO - \u001b[1mTRAINING\u001b[0m \n",
       "\t\t\t\t\t NODE_ID: NODE_CENTRALIZED \n",
       "\t\t\t\t\t Round 10 | Iteration: 21/70 (30%) | Samples: 2121/7000000\n",
       " \t\t\t\t\t Loss: \u001b[1m-471.269257\u001b[0m \n",
       "\t\t\t\t\t ---------"
      ]
     },
     "metadata": {},
     "output_type": "display_data"
    },
    {
     "data": {
      "text/plain": [
       "2025-10-13 07:46:36,619 fedbiomed INFO - \u001b[1mTRAINING\u001b[0m \n",
       "\t\t\t\t\t NODE_ID: NODE_CENTRALIZED \n",
       "\t\t\t\t\t Round 10 | Iteration: 22/70 (31%) | Samples: 2222/7000000\n",
       " \t\t\t\t\t Loss: \u001b[1m-471.081726\u001b[0m \n",
       "\t\t\t\t\t ---------"
      ]
     },
     "metadata": {},
     "output_type": "display_data"
    },
    {
     "data": {
      "text/plain": [
       "2025-10-13 07:46:36,640 fedbiomed INFO - \u001b[1mTRAINING\u001b[0m \n",
       "\t\t\t\t\t NODE_ID: NODE_CENTRALIZED \n",
       "\t\t\t\t\t Round 10 | Iteration: 23/70 (33%) | Samples: 2323/7000000\n",
       " \t\t\t\t\t Loss: \u001b[1m-471.187622\u001b[0m \n",
       "\t\t\t\t\t ---------"
      ]
     },
     "metadata": {},
     "output_type": "display_data"
    },
    {
     "data": {
      "text/plain": [
       "2025-10-13 07:46:36,659 fedbiomed INFO - \u001b[1mTRAINING\u001b[0m \n",
       "\t\t\t\t\t NODE_ID: NODE_CENTRALIZED \n",
       "\t\t\t\t\t Round 10 | Iteration: 24/70 (34%) | Samples: 2424/7000000\n",
       " \t\t\t\t\t Loss: \u001b[1m-471.460632\u001b[0m \n",
       "\t\t\t\t\t ---------"
      ]
     },
     "metadata": {},
     "output_type": "display_data"
    },
    {
     "data": {
      "text/plain": [
       "2025-10-13 07:46:36,680 fedbiomed INFO - \u001b[1mTRAINING\u001b[0m \n",
       "\t\t\t\t\t NODE_ID: NODE_CENTRALIZED \n",
       "\t\t\t\t\t Round 10 | Iteration: 25/70 (36%) | Samples: 2525/7000000\n",
       " \t\t\t\t\t Loss: \u001b[1m-471.633026\u001b[0m \n",
       "\t\t\t\t\t ---------"
      ]
     },
     "metadata": {},
     "output_type": "display_data"
    },
    {
     "data": {
      "text/plain": [
       "2025-10-13 07:46:36,704 fedbiomed INFO - \u001b[1mTRAINING\u001b[0m \n",
       "\t\t\t\t\t NODE_ID: NODE_CENTRALIZED \n",
       "\t\t\t\t\t Round 10 | Iteration: 26/70 (37%) | Samples: 2626/7000000\n",
       " \t\t\t\t\t Loss: \u001b[1m-471.575378\u001b[0m \n",
       "\t\t\t\t\t ---------"
      ]
     },
     "metadata": {},
     "output_type": "display_data"
    },
    {
     "data": {
      "text/plain": [
       "2025-10-13 07:46:36,724 fedbiomed INFO - \u001b[1mTRAINING\u001b[0m \n",
       "\t\t\t\t\t NODE_ID: NODE_CENTRALIZED \n",
       "\t\t\t\t\t Round 10 | Iteration: 27/70 (39%) | Samples: 2727/7000000\n",
       " \t\t\t\t\t Loss: \u001b[1m-471.403870\u001b[0m \n",
       "\t\t\t\t\t ---------"
      ]
     },
     "metadata": {},
     "output_type": "display_data"
    },
    {
     "data": {
      "text/plain": [
       "2025-10-13 07:46:36,744 fedbiomed INFO - \u001b[1mTRAINING\u001b[0m \n",
       "\t\t\t\t\t NODE_ID: NODE_CENTRALIZED \n",
       "\t\t\t\t\t Round 10 | Iteration: 28/70 (40%) | Samples: 2828/7000000\n",
       " \t\t\t\t\t Loss: \u001b[1m-471.329285\u001b[0m \n",
       "\t\t\t\t\t ---------"
      ]
     },
     "metadata": {},
     "output_type": "display_data"
    },
    {
     "data": {
      "text/plain": [
       "2025-10-13 07:46:36,768 fedbiomed INFO - \u001b[1mTRAINING\u001b[0m \n",
       "\t\t\t\t\t NODE_ID: NODE_CENTRALIZED \n",
       "\t\t\t\t\t Round 10 | Iteration: 29/70 (41%) | Samples: 2929/7000000\n",
       " \t\t\t\t\t Loss: \u001b[1m-471.426941\u001b[0m \n",
       "\t\t\t\t\t ---------"
      ]
     },
     "metadata": {},
     "output_type": "display_data"
    },
    {
     "data": {
      "text/plain": [
       "2025-10-13 07:46:36,792 fedbiomed INFO - \u001b[1mTRAINING\u001b[0m \n",
       "\t\t\t\t\t NODE_ID: NODE_CENTRALIZED \n",
       "\t\t\t\t\t Round 10 | Iteration: 30/70 (43%) | Samples: 3030/7000000\n",
       " \t\t\t\t\t Loss: \u001b[1m-471.582977\u001b[0m \n",
       "\t\t\t\t\t ---------"
      ]
     },
     "metadata": {},
     "output_type": "display_data"
    },
    {
     "data": {
      "text/plain": [
       "2025-10-13 07:46:36,816 fedbiomed INFO - \u001b[1mTRAINING\u001b[0m \n",
       "\t\t\t\t\t NODE_ID: NODE_CENTRALIZED \n",
       "\t\t\t\t\t Round 10 | Iteration: 31/70 (44%) | Samples: 3131/7000000\n",
       " \t\t\t\t\t Loss: \u001b[1m-471.642151\u001b[0m \n",
       "\t\t\t\t\t ---------"
      ]
     },
     "metadata": {},
     "output_type": "display_data"
    },
    {
     "data": {
      "text/plain": [
       "2025-10-13 07:46:36,840 fedbiomed INFO - \u001b[1mTRAINING\u001b[0m \n",
       "\t\t\t\t\t NODE_ID: NODE_CENTRALIZED \n",
       "\t\t\t\t\t Round 10 | Iteration: 32/70 (46%) | Samples: 3232/7000000\n",
       " \t\t\t\t\t Loss: \u001b[1m-471.572601\u001b[0m \n",
       "\t\t\t\t\t ---------"
      ]
     },
     "metadata": {},
     "output_type": "display_data"
    },
    {
     "data": {
      "text/plain": [
       "2025-10-13 07:46:36,854 fedbiomed INFO - \u001b[1mTRAINING\u001b[0m \n",
       "\t\t\t\t\t NODE_ID: NODE_CENTRALIZED \n",
       "\t\t\t\t\t Round 10 | Iteration: 33/70 (47%) | Samples: 3333/7000000\n",
       " \t\t\t\t\t Loss: \u001b[1m-471.480560\u001b[0m \n",
       "\t\t\t\t\t ---------"
      ]
     },
     "metadata": {},
     "output_type": "display_data"
    },
    {
     "data": {
      "text/plain": [
       "2025-10-13 07:46:36,872 fedbiomed INFO - \u001b[1mTRAINING\u001b[0m \n",
       "\t\t\t\t\t NODE_ID: NODE_CENTRALIZED \n",
       "\t\t\t\t\t Round 10 | Iteration: 34/70 (49%) | Samples: 3434/7000000\n",
       " \t\t\t\t\t Loss: \u001b[1m-471.477539\u001b[0m \n",
       "\t\t\t\t\t ---------"
      ]
     },
     "metadata": {},
     "output_type": "display_data"
    },
    {
     "data": {
      "text/plain": [
       "2025-10-13 07:46:36,896 fedbiomed INFO - \u001b[1mTRAINING\u001b[0m \n",
       "\t\t\t\t\t NODE_ID: NODE_CENTRALIZED \n",
       "\t\t\t\t\t Round 10 | Iteration: 35/70 (50%) | Samples: 3535/7000000\n",
       " \t\t\t\t\t Loss: \u001b[1m-471.561127\u001b[0m \n",
       "\t\t\t\t\t ---------"
      ]
     },
     "metadata": {},
     "output_type": "display_data"
    },
    {
     "data": {
      "text/plain": [
       "2025-10-13 07:46:36,916 fedbiomed INFO - \u001b[1mTRAINING\u001b[0m \n",
       "\t\t\t\t\t NODE_ID: NODE_CENTRALIZED \n",
       "\t\t\t\t\t Round 10 | Iteration: 36/70 (51%) | Samples: 3636/7000000\n",
       " \t\t\t\t\t Loss: \u001b[1m-471.636108\u001b[0m \n",
       "\t\t\t\t\t ---------"
      ]
     },
     "metadata": {},
     "output_type": "display_data"
    },
    {
     "data": {
      "text/plain": [
       "2025-10-13 07:46:36,928 fedbiomed INFO - \u001b[1mTRAINING\u001b[0m \n",
       "\t\t\t\t\t NODE_ID: NODE_CENTRALIZED \n",
       "\t\t\t\t\t Round 10 | Iteration: 37/70 (53%) | Samples: 3737/7000000\n",
       " \t\t\t\t\t Loss: \u001b[1m-471.631226\u001b[0m \n",
       "\t\t\t\t\t ---------"
      ]
     },
     "metadata": {},
     "output_type": "display_data"
    },
    {
     "data": {
      "text/plain": [
       "2025-10-13 07:46:36,936 fedbiomed INFO - \u001b[1mTRAINING\u001b[0m \n",
       "\t\t\t\t\t NODE_ID: NODE_CENTRALIZED \n",
       "\t\t\t\t\t Round 10 | Iteration: 38/70 (54%) | Samples: 3838/7000000\n",
       " \t\t\t\t\t Loss: \u001b[1m-471.572876\u001b[0m \n",
       "\t\t\t\t\t ---------"
      ]
     },
     "metadata": {},
     "output_type": "display_data"
    },
    {
     "data": {
      "text/plain": [
       "2025-10-13 07:46:36,952 fedbiomed INFO - \u001b[1mTRAINING\u001b[0m \n",
       "\t\t\t\t\t NODE_ID: NODE_CENTRALIZED \n",
       "\t\t\t\t\t Round 10 | Iteration: 39/70 (56%) | Samples: 3939/7000000\n",
       " \t\t\t\t\t Loss: \u001b[1m-471.541443\u001b[0m \n",
       "\t\t\t\t\t ---------"
      ]
     },
     "metadata": {},
     "output_type": "display_data"
    },
    {
     "data": {
      "text/plain": [
       "2025-10-13 07:46:36,972 fedbiomed INFO - \u001b[1mTRAINING\u001b[0m \n",
       "\t\t\t\t\t NODE_ID: NODE_CENTRALIZED \n",
       "\t\t\t\t\t Round 10 | Iteration: 40/70 (57%) | Samples: 4040/7000000\n",
       " \t\t\t\t\t Loss: \u001b[1m-471.573669\u001b[0m \n",
       "\t\t\t\t\t ---------"
      ]
     },
     "metadata": {},
     "output_type": "display_data"
    },
    {
     "data": {
      "text/plain": [
       "2025-10-13 07:46:36,992 fedbiomed INFO - \u001b[1mTRAINING\u001b[0m \n",
       "\t\t\t\t\t NODE_ID: NODE_CENTRALIZED \n",
       "\t\t\t\t\t Round 10 | Iteration: 41/70 (59%) | Samples: 4141/7000000\n",
       " \t\t\t\t\t Loss: \u001b[1m-471.628296\u001b[0m \n",
       "\t\t\t\t\t ---------"
      ]
     },
     "metadata": {},
     "output_type": "display_data"
    },
    {
     "data": {
      "text/plain": [
       "2025-10-13 07:46:37,012 fedbiomed INFO - \u001b[1mTRAINING\u001b[0m \n",
       "\t\t\t\t\t NODE_ID: NODE_CENTRALIZED \n",
       "\t\t\t\t\t Round 10 | Iteration: 42/70 (60%) | Samples: 4242/7000000\n",
       " \t\t\t\t\t Loss: \u001b[1m-471.644958\u001b[0m \n",
       "\t\t\t\t\t ---------"
      ]
     },
     "metadata": {},
     "output_type": "display_data"
    },
    {
     "data": {
      "text/plain": [
       "2025-10-13 07:46:37,032 fedbiomed INFO - \u001b[1mTRAINING\u001b[0m \n",
       "\t\t\t\t\t NODE_ID: NODE_CENTRALIZED \n",
       "\t\t\t\t\t Round 10 | Iteration: 43/70 (61%) | Samples: 4343/7000000\n",
       " \t\t\t\t\t Loss: \u001b[1m-471.615997\u001b[0m \n",
       "\t\t\t\t\t ---------"
      ]
     },
     "metadata": {},
     "output_type": "display_data"
    },
    {
     "data": {
      "text/plain": [
       "2025-10-13 07:46:37,052 fedbiomed INFO - \u001b[1mTRAINING\u001b[0m \n",
       "\t\t\t\t\t NODE_ID: NODE_CENTRALIZED \n",
       "\t\t\t\t\t Round 10 | Iteration: 44/70 (63%) | Samples: 4444/7000000\n",
       " \t\t\t\t\t Loss: \u001b[1m-471.587158\u001b[0m \n",
       "\t\t\t\t\t ---------"
      ]
     },
     "metadata": {},
     "output_type": "display_data"
    },
    {
     "data": {
      "text/plain": [
       "2025-10-13 07:46:37,072 fedbiomed INFO - \u001b[1mTRAINING\u001b[0m \n",
       "\t\t\t\t\t NODE_ID: NODE_CENTRALIZED \n",
       "\t\t\t\t\t Round 10 | Iteration: 45/70 (64%) | Samples: 4545/7000000\n",
       " \t\t\t\t\t Loss: \u001b[1m-471.596222\u001b[0m \n",
       "\t\t\t\t\t ---------"
      ]
     },
     "metadata": {},
     "output_type": "display_data"
    },
    {
     "data": {
      "text/plain": [
       "2025-10-13 07:46:37,092 fedbiomed INFO - \u001b[1mTRAINING\u001b[0m \n",
       "\t\t\t\t\t NODE_ID: NODE_CENTRALIZED \n",
       "\t\t\t\t\t Round 10 | Iteration: 46/70 (66%) | Samples: 4646/7000000\n",
       " \t\t\t\t\t Loss: \u001b[1m-471.629639\u001b[0m \n",
       "\t\t\t\t\t ---------"
      ]
     },
     "metadata": {},
     "output_type": "display_data"
    },
    {
     "data": {
      "text/plain": [
       "2025-10-13 07:46:37,112 fedbiomed INFO - \u001b[1mTRAINING\u001b[0m \n",
       "\t\t\t\t\t NODE_ID: NODE_CENTRALIZED \n",
       "\t\t\t\t\t Round 10 | Iteration: 47/70 (67%) | Samples: 4747/7000000\n",
       " \t\t\t\t\t Loss: \u001b[1m-471.647003\u001b[0m \n",
       "\t\t\t\t\t ---------"
      ]
     },
     "metadata": {},
     "output_type": "display_data"
    },
    {
     "data": {
      "text/plain": [
       "2025-10-13 07:46:37,128 fedbiomed INFO - \u001b[1mTRAINING\u001b[0m \n",
       "\t\t\t\t\t NODE_ID: NODE_CENTRALIZED \n",
       "\t\t\t\t\t Round 10 | Iteration: 48/70 (69%) | Samples: 4848/7000000\n",
       " \t\t\t\t\t Loss: \u001b[1m-471.633392\u001b[0m \n",
       "\t\t\t\t\t ---------"
      ]
     },
     "metadata": {},
     "output_type": "display_data"
    },
    {
     "data": {
      "text/plain": [
       "2025-10-13 07:46:37,148 fedbiomed INFO - \u001b[1mTRAINING\u001b[0m \n",
       "\t\t\t\t\t NODE_ID: NODE_CENTRALIZED \n",
       "\t\t\t\t\t Round 10 | Iteration: 49/70 (70%) | Samples: 4949/7000000\n",
       " \t\t\t\t\t Loss: \u001b[1m-471.613373\u001b[0m \n",
       "\t\t\t\t\t ---------"
      ]
     },
     "metadata": {},
     "output_type": "display_data"
    },
    {
     "data": {
      "text/plain": [
       "2025-10-13 07:46:37,180 fedbiomed INFO - \u001b[1mTRAINING\u001b[0m \n",
       "\t\t\t\t\t NODE_ID: NODE_CENTRALIZED \n",
       "\t\t\t\t\t Round 10 | Iteration: 50/70 (71%) | Samples: 5050/7000000\n",
       " \t\t\t\t\t Loss: \u001b[1m-471.614868\u001b[0m \n",
       "\t\t\t\t\t ---------"
      ]
     },
     "metadata": {},
     "output_type": "display_data"
    },
    {
     "data": {
      "text/plain": [
       "2025-10-13 07:46:37,196 fedbiomed INFO - \u001b[1mTRAINING\u001b[0m \n",
       "\t\t\t\t\t NODE_ID: NODE_CENTRALIZED \n",
       "\t\t\t\t\t Round 10 | Iteration: 51/70 (73%) | Samples: 5151/7000000\n",
       " \t\t\t\t\t Loss: \u001b[1m-471.634705\u001b[0m \n",
       "\t\t\t\t\t ---------"
      ]
     },
     "metadata": {},
     "output_type": "display_data"
    },
    {
     "data": {
      "text/plain": [
       "2025-10-13 07:46:37,216 fedbiomed INFO - \u001b[1mTRAINING\u001b[0m \n",
       "\t\t\t\t\t NODE_ID: NODE_CENTRALIZED \n",
       "\t\t\t\t\t Round 10 | Iteration: 52/70 (74%) | Samples: 5252/7000000\n",
       " \t\t\t\t\t Loss: \u001b[1m-471.647247\u001b[0m \n",
       "\t\t\t\t\t ---------"
      ]
     },
     "metadata": {},
     "output_type": "display_data"
    },
    {
     "data": {
      "text/plain": [
       "2025-10-13 07:46:37,234 fedbiomed INFO - \u001b[1mTRAINING\u001b[0m \n",
       "\t\t\t\t\t NODE_ID: NODE_CENTRALIZED \n",
       "\t\t\t\t\t Round 10 | Iteration: 53/70 (76%) | Samples: 5353/7000000\n",
       " \t\t\t\t\t Loss: \u001b[1m-471.640167\u001b[0m \n",
       "\t\t\t\t\t ---------"
      ]
     },
     "metadata": {},
     "output_type": "display_data"
    },
    {
     "data": {
      "text/plain": [
       "2025-10-13 07:46:37,254 fedbiomed INFO - \u001b[1mTRAINING\u001b[0m \n",
       "\t\t\t\t\t NODE_ID: NODE_CENTRALIZED \n",
       "\t\t\t\t\t Round 10 | Iteration: 54/70 (77%) | Samples: 5454/7000000\n",
       " \t\t\t\t\t Loss: \u001b[1m-471.627594\u001b[0m \n",
       "\t\t\t\t\t ---------"
      ]
     },
     "metadata": {},
     "output_type": "display_data"
    },
    {
     "data": {
      "text/plain": [
       "2025-10-13 07:46:37,276 fedbiomed INFO - \u001b[1mTRAINING\u001b[0m \n",
       "\t\t\t\t\t NODE_ID: NODE_CENTRALIZED \n",
       "\t\t\t\t\t Round 10 | Iteration: 55/70 (79%) | Samples: 5555/7000000\n",
       " \t\t\t\t\t Loss: \u001b[1m-471.627960\u001b[0m \n",
       "\t\t\t\t\t ---------"
      ]
     },
     "metadata": {},
     "output_type": "display_data"
    },
    {
     "data": {
      "text/plain": [
       "2025-10-13 07:46:37,296 fedbiomed INFO - \u001b[1mTRAINING\u001b[0m \n",
       "\t\t\t\t\t NODE_ID: NODE_CENTRALIZED \n",
       "\t\t\t\t\t Round 10 | Iteration: 56/70 (80%) | Samples: 5656/7000000\n",
       " \t\t\t\t\t Loss: \u001b[1m-471.640198\u001b[0m \n",
       "\t\t\t\t\t ---------"
      ]
     },
     "metadata": {},
     "output_type": "display_data"
    },
    {
     "data": {
      "text/plain": [
       "2025-10-13 07:46:37,312 fedbiomed INFO - \u001b[1mTRAINING\u001b[0m \n",
       "\t\t\t\t\t NODE_ID: NODE_CENTRALIZED \n",
       "\t\t\t\t\t Round 10 | Iteration: 57/70 (81%) | Samples: 5757/7000000\n",
       " \t\t\t\t\t Loss: \u001b[1m-471.647766\u001b[0m \n",
       "\t\t\t\t\t ---------"
      ]
     },
     "metadata": {},
     "output_type": "display_data"
    },
    {
     "data": {
      "text/plain": [
       "2025-10-13 07:46:37,340 fedbiomed INFO - \u001b[1mTRAINING\u001b[0m \n",
       "\t\t\t\t\t NODE_ID: NODE_CENTRALIZED \n",
       "\t\t\t\t\t Round 10 | Iteration: 58/70 (83%) | Samples: 5858/7000000\n",
       " \t\t\t\t\t Loss: \u001b[1m-471.643097\u001b[0m \n",
       "\t\t\t\t\t ---------"
      ]
     },
     "metadata": {},
     "output_type": "display_data"
    },
    {
     "data": {
      "text/plain": [
       "2025-10-13 07:46:37,356 fedbiomed INFO - \u001b[1mTRAINING\u001b[0m \n",
       "\t\t\t\t\t NODE_ID: NODE_CENTRALIZED \n",
       "\t\t\t\t\t Round 10 | Iteration: 59/70 (84%) | Samples: 5959/7000000\n",
       " \t\t\t\t\t Loss: \u001b[1m-471.635559\u001b[0m \n",
       "\t\t\t\t\t ---------"
      ]
     },
     "metadata": {},
     "output_type": "display_data"
    },
    {
     "data": {
      "text/plain": [
       "2025-10-13 07:46:37,370 fedbiomed INFO - \u001b[1mTRAINING\u001b[0m \n",
       "\t\t\t\t\t NODE_ID: NODE_CENTRALIZED \n",
       "\t\t\t\t\t Round 10 | Iteration: 60/70 (86%) | Samples: 6060/7000000\n",
       " \t\t\t\t\t Loss: \u001b[1m-471.636658\u001b[0m \n",
       "\t\t\t\t\t ---------"
      ]
     },
     "metadata": {},
     "output_type": "display_data"
    },
    {
     "data": {
      "text/plain": [
       "2025-10-13 07:46:37,396 fedbiomed INFO - \u001b[1mTRAINING\u001b[0m \n",
       "\t\t\t\t\t NODE_ID: NODE_CENTRALIZED \n",
       "\t\t\t\t\t Round 10 | Iteration: 61/70 (87%) | Samples: 6161/7000000\n",
       " \t\t\t\t\t Loss: \u001b[1m-471.644379\u001b[0m \n",
       "\t\t\t\t\t ---------"
      ]
     },
     "metadata": {},
     "output_type": "display_data"
    },
    {
     "data": {
      "text/plain": [
       "2025-10-13 07:46:37,408 fedbiomed INFO - \u001b[1mTRAINING\u001b[0m \n",
       "\t\t\t\t\t NODE_ID: NODE_CENTRALIZED \n",
       "\t\t\t\t\t Round 10 | Iteration: 62/70 (89%) | Samples: 6262/7000000\n",
       " \t\t\t\t\t Loss: \u001b[1m-471.648163\u001b[0m \n",
       "\t\t\t\t\t ---------"
      ]
     },
     "metadata": {},
     "output_type": "display_data"
    },
    {
     "data": {
      "text/plain": [
       "2025-10-13 07:46:37,432 fedbiomed INFO - \u001b[1mTRAINING\u001b[0m \n",
       "\t\t\t\t\t NODE_ID: NODE_CENTRALIZED \n",
       "\t\t\t\t\t Round 10 | Iteration: 63/70 (90%) | Samples: 6363/7000000\n",
       " \t\t\t\t\t Loss: \u001b[1m-471.644440\u001b[0m \n",
       "\t\t\t\t\t ---------"
      ]
     },
     "metadata": {},
     "output_type": "display_data"
    },
    {
     "data": {
      "text/plain": [
       "2025-10-13 07:46:37,448 fedbiomed INFO - \u001b[1mTRAINING\u001b[0m \n",
       "\t\t\t\t\t NODE_ID: NODE_CENTRALIZED \n",
       "\t\t\t\t\t Round 10 | Iteration: 64/70 (91%) | Samples: 6464/7000000\n",
       " \t\t\t\t\t Loss: \u001b[1m-471.640228\u001b[0m \n",
       "\t\t\t\t\t ---------"
      ]
     },
     "metadata": {},
     "output_type": "display_data"
    },
    {
     "data": {
      "text/plain": [
       "2025-10-13 07:46:37,472 fedbiomed INFO - \u001b[1mTRAINING\u001b[0m \n",
       "\t\t\t\t\t NODE_ID: NODE_CENTRALIZED \n",
       "\t\t\t\t\t Round 10 | Iteration: 65/70 (93%) | Samples: 6565/7000000\n",
       " \t\t\t\t\t Loss: \u001b[1m-471.642120\u001b[0m \n",
       "\t\t\t\t\t ---------"
      ]
     },
     "metadata": {},
     "output_type": "display_data"
    },
    {
     "data": {
      "text/plain": [
       "2025-10-13 07:46:37,488 fedbiomed INFO - \u001b[1mTRAINING\u001b[0m \n",
       "\t\t\t\t\t NODE_ID: NODE_CENTRALIZED \n",
       "\t\t\t\t\t Round 10 | Iteration: 66/70 (94%) | Samples: 6666/7000000\n",
       " \t\t\t\t\t Loss: \u001b[1m-471.646912\u001b[0m \n",
       "\t\t\t\t\t ---------"
      ]
     },
     "metadata": {},
     "output_type": "display_data"
    },
    {
     "data": {
      "text/plain": [
       "2025-10-13 07:46:37,512 fedbiomed INFO - \u001b[1mTRAINING\u001b[0m \n",
       "\t\t\t\t\t NODE_ID: NODE_CENTRALIZED \n",
       "\t\t\t\t\t Round 10 | Iteration: 67/70 (96%) | Samples: 6767/7000000\n",
       " \t\t\t\t\t Loss: \u001b[1m-471.648102\u001b[0m \n",
       "\t\t\t\t\t ---------"
      ]
     },
     "metadata": {},
     "output_type": "display_data"
    },
    {
     "data": {
      "text/plain": [
       "2025-10-13 07:46:37,528 fedbiomed INFO - \u001b[1mTRAINING\u001b[0m \n",
       "\t\t\t\t\t NODE_ID: NODE_CENTRALIZED \n",
       "\t\t\t\t\t Round 10 | Iteration: 68/70 (97%) | Samples: 6868/7000000\n",
       " \t\t\t\t\t Loss: \u001b[1m-471.645172\u001b[0m \n",
       "\t\t\t\t\t ---------"
      ]
     },
     "metadata": {},
     "output_type": "display_data"
    },
    {
     "data": {
      "text/plain": [
       "2025-10-13 07:46:37,544 fedbiomed INFO - \u001b[1mTRAINING\u001b[0m \n",
       "\t\t\t\t\t NODE_ID: NODE_CENTRALIZED \n",
       "\t\t\t\t\t Round 10 | Iteration: 69/70 (99%) | Samples: 6969/7000000\n",
       " \t\t\t\t\t Loss: \u001b[1m-471.643433\u001b[0m \n",
       "\t\t\t\t\t ---------"
      ]
     },
     "metadata": {},
     "output_type": "display_data"
    },
    {
     "data": {
      "text/plain": [
       "2025-10-13 07:46:37,579 fedbiomed INFO - \u001b[1mTRAINING\u001b[0m \n",
       "\t\t\t\t\t NODE_ID: NODE_CENTRALIZED \n",
       "\t\t\t\t\t Round 10 | Iteration: 70/70 (100%) | Samples: 7070/7000000\n",
       " \t\t\t\t\t Loss: \u001b[1m-471.645630\u001b[0m \n",
       "\t\t\t\t\t ---------"
      ]
     },
     "metadata": {},
     "output_type": "display_data"
    },
    {
     "data": {
      "text/plain": [
       "2025-10-13 07:46:37,946 fedbiomed INFO - Nodes that successfully reply in round 9 ['NODE_CENTRALIZED']"
      ]
     },
     "metadata": {},
     "output_type": "display_data"
    }
   ],
   "source": [
    "from fl_prog.utils.io import working_directory\n",
    "from fl_prog.training_plan import FLProgTrainingPlan\n",
    "from fl_prog.aggregator import SelectiveFedAverage\n",
    "\n",
    "import importlib\n",
    "import fl_prog.training_plan\n",
    "\n",
    "importlib.reload(fl_prog.training_plan)\n",
    "from fl_prog.training_plan import FLProgTrainingPlan\n",
    "\n",
    "\n",
    "fedbiomed_dir = \"../fedbiomed\"\n",
    "with working_directory(fedbiomed_dir):\n",
    "\n",
    "    from fedbiomed.researcher.federated_workflows import Experiment\n",
    "    from fedbiomed.researcher.aggregators.fedavg import FedAverage\n",
    "\n",
    "    experiment = Experiment(\n",
    "        nodes=[\"NODE_CENTRALIZED\"],\n",
    "        tags=[\"centralized\"],\n",
    "        training_plan_class=FLProgTrainingPlan,\n",
    "        model_args={\n",
    "            \"colnames\": {\n",
    "                \"col_subject_id\": \"subject\",\n",
    "                \"col_time\": \"timepoint\",\n",
    "                \"cols_biomarker\": [f\"biomarker_{i}\" for i in range(n_biomarkers)],\n",
    "            },\n",
    "            \"lr_with_shift\": {\n",
    "                \"n_features\": n_biomarkers,\n",
    "            },\n",
    "        },\n",
    "        round_limit=N_ROUNDS,\n",
    "        training_args={\n",
    "            \"num_updates\": N_UPDATES,\n",
    "            \"loader_args\": {\"batch_size\": BATCH_SIZE, \"shuffle\": False},\n",
    "            \"optimizer_args\": {\"lr\": LEARNING_RATE},\n",
    "        },\n",
    "        aggregator=SelectiveFedAverage([\"time_shifts\"]),\n",
    "        node_selection_strategy=None,\n",
    "    )\n",
    "    experiment.run()"
   ]
  },
  {
   "cell_type": "code",
   "execution_count": 4,
   "id": "02054fa3",
   "metadata": {},
   "outputs": [
    {
     "name": "stdout",
     "output_type": "stream",
     "text": [
      "===== k values =====\n",
      "[9.601 7.863 5.434 7.895 6.395]\n",
      "[9.741 8.655 4.773 8.596 6.938]\n",
      "===== x0 values =====\n",
      "[0.764 0.883 0.871 0.174 0.104]\n",
      "[-0.507 -0.397 -0.375 -1.076 -1.159]\n",
      "===== x value differences =====\n",
      "[1.271 1.28  1.245 1.251 1.262]\n",
      "===== time shifts =====\n",
      "[0.927 0.309 0.202 0.303 0.48  0.673 0.743 0.32  0.668 0.303 0.308 0.344\n",
      " 0.874 0.778 0.841 0.018 0.109 0.49  0.203 0.616 0.945 0.488 0.045 0.791\n",
      " 0.162 0.71  0.653 0.769 0.485 0.157 0.673 0.041 0.924 0.741 0.062 0.503\n",
      " 0.184 0.527 0.861 0.467 0.445 0.484 0.625 0.826 0.877 0.422 0.579 0.685\n",
      " 0.836 0.307]\n",
      "[]\n"
     ]
    },
    {
     "data": {
      "image/png": "[encoded data removed]",
      "text/plain": [
       "<Figure size 640x480 with 1 Axes>"
      ]
     },
     "metadata": {},
     "output_type": "display_data"
    }
   ],
   "source": [
    "fbm_model = experiment.training_plan().model()\n",
    "final_params = experiment.aggregated_params()[N_ROUNDS - 1][\"params\"]\n",
    "\n",
    "check_model_fit(\n",
    "    fbm_model.get_k_values(final_params[\"log_k_values\"]).data.numpy(),\n",
    "    final_params[\"x0_values\"].data.numpy(),\n",
    "    final_params[\"time_shifts\"].data.numpy(),\n",
    "    align_x=True,\n",
    ")"
   ]
  },
  {
   "cell_type": "code",
   "execution_count": 4,
   "id": "f1f2b8b8",
   "metadata": {},
   "outputs": [
    {
     "name": "stdout",
     "output_type": "stream",
     "text": [
      "Epoch [100/700], Loss: 258.8777\n",
      "Epoch [200/700], Loss: -14.4468\n",
      "Epoch [300/700], Loss: -250.7728\n",
      "Epoch [400/700], Loss: -412.7839\n",
      "Epoch [500/700], Loss: -465.9561\n",
      "Epoch [600/700], Loss: -471.9309\n",
      "Epoch [700/700], Loss: -472.1648\n",
      "===== k values =====\n",
      "[9.601 7.863 5.434 7.895 6.395]\n",
      "[9.739 8.653 4.771 8.598 6.938]\n",
      "===== x0 values =====\n",
      "[0.764 0.883 0.871 0.174 0.104]\n",
      "[ 0.174  0.285  0.306 -0.395 -0.478]\n",
      "===== x value differences =====\n",
      "[0.59  0.598 0.564 0.569 0.581]\n",
      "===== time shifts =====\n",
      "[0.927 0.309 0.202 0.303 0.48  0.673 0.743 0.32  0.668 0.303 0.308 0.344\n",
      " 0.874 0.778 0.841 0.018 0.109 0.49  0.203 0.616 0.945 0.488 0.045 0.791\n",
      " 0.162 0.71  0.653 0.769 0.485 0.157 0.673 0.041 0.924 0.741 0.062 0.503\n",
      " 0.184 0.527 0.861 0.467 0.445 0.484 0.625 0.826 0.877 0.422 0.579 0.685\n",
      " 0.836 0.307]\n",
      "[ 0.336 -0.259 -0.406 -0.337 -0.161  0.073  0.176 -0.304  0.063 -0.3\n",
      " -0.297 -0.28   0.268  0.224  0.235 -0.604 -0.429 -0.142 -0.395 -0.009\n",
      "  0.367 -0.068 -0.51   0.165 -0.435  0.15   0.075  0.127 -0.164 -0.461\n",
      "  0.113 -0.524  0.302  0.151 -0.517 -0.067 -0.408 -0.043  0.262 -0.13\n",
      " -0.181 -0.04   0.047  0.252  0.306 -0.155  0.016  0.101  0.232 -0.218]\n",
      "===== time shift offset difference =====\n",
      "0.030145529668407382\n"
     ]
    },
    {
     "data": {
      "image/png": "[encoded data removed]",
      "text/plain": [
       "<Figure size 640x480 with 1 Axes>"
      ]
     },
     "metadata": {},
     "output_type": "display_data"
    }
   ],
   "source": [
    "from fl_prog.model import LogisticRegressionModelWithShift\n",
    "import torch\n",
    "import torch.optim as optim\n",
    "\n",
    "model = LogisticRegressionModelWithShift(\n",
    "    len(set(df[\"subject\"])), n_features=n_biomarkers\n",
    ")\n",
    "\n",
    "# Define the optimizer\n",
    "optimizer = optim.Adam(list(model.parameters()), lr=LEARNING_RATE)\n",
    "\n",
    "# Optimization loop\n",
    "num_epochs = (\n",
    "    N_UPDATES * N_ROUNDS\n",
    ")  # Increased epochs for potentially harder optimization\n",
    "for epoch in range(num_epochs):\n",
    "    # Forward pass\n",
    "    # Pass both timestamps and sample indices to the model\n",
    "    model_predictions = model(\n",
    "        torch.tensor(df[\"timepoint\"]), torch.tensor(df[\"subject\"])\n",
    "    )\n",
    "    loss = model.get_loss(\n",
    "        model_predictions,\n",
    "        torch.tensor(\n",
    "            df[[f\"biomarker_{i}\" for i in range(n_biomarkers)]].values,\n",
    "        ),\n",
    "    )\n",
    "\n",
    "    # Backward pass and optimization\n",
    "    optimizer.zero_grad()\n",
    "    loss.backward()\n",
    "    optimizer.step()\n",
    "\n",
    "    # Print loss periodically\n",
    "    if (epoch + 1) % 100 == 0:\n",
    "        print(f\"Epoch [{epoch+1}/{num_epochs}], Loss: {loss.item():.4f}\")\n",
    "\n",
    "check_model_fit(\n",
    "    model.get_k_values(model.log_k_values).data.numpy(),\n",
    "    model.x0_values.data.numpy(),\n",
    "    model.time_shifts.data.numpy(),\n",
    "    align_x=True,\n",
    ")"
   ]
  }
 ],
 "metadata": {
  "kernelspec": {
   "display_name": "fl-prog (3.12.11)",
   "language": "python",
   "name": "python3"
  },
  "language_info": {
   "codemirror_mode": {
    "name": "ipython",
    "version": 3
   },
   "file_extension": ".py",
   "mimetype": "text/x-python",
   "name": "python",
   "nbconvert_exporter": "python",
   "pygments_lexer": "ipython3",
   "version": "3.10.18"
  }
 },
 "nbformat": 4,
 "nbformat_minor": 5
}
