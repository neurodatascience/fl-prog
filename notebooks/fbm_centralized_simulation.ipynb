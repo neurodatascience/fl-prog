{
 "cells": [
  {
   "cell_type": "code",
   "execution_count": 1,
   "id": "04665d69",
   "metadata": {},
   "outputs": [
    {
     "data": {
      "text/html": [
       "<div>\n",
       "<style scoped>\n",
       "    .dataframe tbody tr th:only-of-type {\n",
       "        vertical-align: middle;\n",
       "    }\n",
       "\n",
       "    .dataframe tbody tr th {\n",
       "        vertical-align: top;\n",
       "    }\n",
       "\n",
       "    .dataframe thead th {\n",
       "        text-align: right;\n",
       "    }\n",
       "</style>\n",
       "<table border=\"1\" class=\"dataframe\">\n",
       "  <thead>\n",
       "    <tr style=\"text-align: right;\">\n",
       "      <th></th>\n",
       "      <th>subject</th>\n",
       "      <th>timepoint</th>\n",
       "      <th>biomarker_0</th>\n",
       "      <th>biomarker_1</th>\n",
       "      <th>biomarker_2</th>\n",
       "      <th>biomarker_3</th>\n",
       "      <th>biomarker_4</th>\n",
       "    </tr>\n",
       "  </thead>\n",
       "  <tbody>\n",
       "    <tr>\n",
       "      <th>0</th>\n",
       "      <td>0</td>\n",
       "      <td>0.000000</td>\n",
       "      <td>0.885888</td>\n",
       "      <td>0.647173</td>\n",
       "      <td>0.398673</td>\n",
       "      <td>1.130997</td>\n",
       "      <td>1.058619</td>\n",
       "    </tr>\n",
       "    <tr>\n",
       "      <th>1</th>\n",
       "      <td>1</td>\n",
       "      <td>0.000000</td>\n",
       "      <td>-0.033489</td>\n",
       "      <td>-0.052632</td>\n",
       "      <td>-0.045887</td>\n",
       "      <td>0.842935</td>\n",
       "      <td>0.738897</td>\n",
       "    </tr>\n",
       "    <tr>\n",
       "      <th>2</th>\n",
       "      <td>2</td>\n",
       "      <td>0.000000</td>\n",
       "      <td>0.096386</td>\n",
       "      <td>0.107866</td>\n",
       "      <td>0.043484</td>\n",
       "      <td>0.519497</td>\n",
       "      <td>0.711044</td>\n",
       "    </tr>\n",
       "    <tr>\n",
       "      <th>3</th>\n",
       "      <td>2</td>\n",
       "      <td>0.453224</td>\n",
       "      <td>0.153048</td>\n",
       "      <td>0.063080</td>\n",
       "      <td>0.205047</td>\n",
       "      <td>0.964920</td>\n",
       "      <td>1.079642</td>\n",
       "    </tr>\n",
       "    <tr>\n",
       "      <th>4</th>\n",
       "      <td>2</td>\n",
       "      <td>0.704842</td>\n",
       "      <td>0.773720</td>\n",
       "      <td>0.463185</td>\n",
       "      <td>0.535985</td>\n",
       "      <td>1.004168</td>\n",
       "      <td>1.086914</td>\n",
       "    </tr>\n",
       "    <tr>\n",
       "      <th>...</th>\n",
       "      <td>...</td>\n",
       "      <td>...</td>\n",
       "      <td>...</td>\n",
       "      <td>...</td>\n",
       "      <td>...</td>\n",
       "      <td>...</td>\n",
       "      <td>...</td>\n",
       "    </tr>\n",
       "    <tr>\n",
       "      <th>96</th>\n",
       "      <td>47</td>\n",
       "      <td>0.041061</td>\n",
       "      <td>0.541035</td>\n",
       "      <td>0.024848</td>\n",
       "      <td>0.285013</td>\n",
       "      <td>1.069036</td>\n",
       "      <td>0.983759</td>\n",
       "    </tr>\n",
       "    <tr>\n",
       "      <th>97</th>\n",
       "      <td>48</td>\n",
       "      <td>0.000000</td>\n",
       "      <td>0.824434</td>\n",
       "      <td>0.305255</td>\n",
       "      <td>0.192245</td>\n",
       "      <td>1.064016</td>\n",
       "      <td>0.959622</td>\n",
       "    </tr>\n",
       "    <tr>\n",
       "      <th>98</th>\n",
       "      <td>49</td>\n",
       "      <td>0.000000</td>\n",
       "      <td>0.000413</td>\n",
       "      <td>0.042853</td>\n",
       "      <td>0.121324</td>\n",
       "      <td>0.758250</td>\n",
       "      <td>0.996377</td>\n",
       "    </tr>\n",
       "    <tr>\n",
       "      <th>99</th>\n",
       "      <td>49</td>\n",
       "      <td>0.053054</td>\n",
       "      <td>-0.009946</td>\n",
       "      <td>0.021269</td>\n",
       "      <td>0.062708</td>\n",
       "      <td>0.892050</td>\n",
       "      <td>0.772699</td>\n",
       "    </tr>\n",
       "    <tr>\n",
       "      <th>100</th>\n",
       "      <td>49</td>\n",
       "      <td>0.672958</td>\n",
       "      <td>0.987398</td>\n",
       "      <td>0.761738</td>\n",
       "      <td>0.747447</td>\n",
       "      <td>1.081491</td>\n",
       "      <td>1.045150</td>\n",
       "    </tr>\n",
       "  </tbody>\n",
       "</table>\n",
       "<p>101 rows × 7 columns</p>\n",
       "</div>"
      ],
      "text/plain": [
       "     subject  timepoint  biomarker_0  biomarker_1  biomarker_2  biomarker_3  \\\n",
       "0          0   0.000000     0.885888     0.647173     0.398673     1.130997   \n",
       "1          1   0.000000    -0.033489    -0.052632    -0.045887     0.842935   \n",
       "2          2   0.000000     0.096386     0.107866     0.043484     0.519497   \n",
       "3          2   0.453224     0.153048     0.063080     0.205047     0.964920   \n",
       "4          2   0.704842     0.773720     0.463185     0.535985     1.004168   \n",
       "..       ...        ...          ...          ...          ...          ...   \n",
       "96        47   0.041061     0.541035     0.024848     0.285013     1.069036   \n",
       "97        48   0.000000     0.824434     0.305255     0.192245     1.064016   \n",
       "98        49   0.000000     0.000413     0.042853     0.121324     0.758250   \n",
       "99        49   0.053054    -0.009946     0.021269     0.062708     0.892050   \n",
       "100       49   0.672958     0.987398     0.761738     0.747447     1.081491   \n",
       "\n",
       "     biomarker_4  \n",
       "0       1.058619  \n",
       "1       0.738897  \n",
       "2       0.711044  \n",
       "3       1.079642  \n",
       "4       1.086914  \n",
       "..           ...  \n",
       "96      0.983759  \n",
       "97      0.959622  \n",
       "98      0.996377  \n",
       "99      0.772699  \n",
       "100     1.045150  \n",
       "\n",
       "[101 rows x 7 columns]"
      ]
     },
     "metadata": {},
     "output_type": "display_data"
    },
    {
     "data": {
      "image/png": "[encoded data removed]",
      "text/plain": [
       "<Figure size 640x480 with 2 Axes>"
      ]
     },
     "metadata": {},
     "output_type": "display_data"
    }
   ],
   "source": [
    "import json\n",
    "import os\n",
    "import warnings\n",
    "from pathlib import Path\n",
    "\n",
    "import matplotlib.pyplot as plt\n",
    "import numpy as np\n",
    "import pandas as pd\n",
    "import torch\n",
    "\n",
    "np.set_printoptions(precision=3, suppress=True)\n",
    "\n",
    "N_ROUNDS = 10\n",
    "N_UPDATES = 70\n",
    "BATCH_SIZE = 100000\n",
    "LEARNING_RATE = 0.01\n",
    "\n",
    "data_dir = Path(os.environ[\"DPATH_DATA\"])\n",
    "\n",
    "json_data = json.loads((data_dir / \"simulated_data.json\").read_text())\n",
    "\n",
    "n_biomarkers = json_data[\"settings\"][\"n_biomarkers\"]\n",
    "params = json_data[\"params\"]\n",
    "k_values = np.array(params[\"k_values\"])\n",
    "x0_values = np.array(params[\"x0_values\"])\n",
    "time_shifts = np.array(params[\"time_shifts\"])\n",
    "\n",
    "df = pd.read_csv(data_dir / \"simulated_data.tsv\", sep=\"\\t\")\n",
    "display(df)\n",
    "\n",
    "fig, axes = plt.subplots(ncols=2)\n",
    "for i_ax, ax in enumerate(axes):\n",
    "    ax: plt.Axes\n",
    "\n",
    "    for i_subject, (subject, df_subject) in enumerate(df.groupby(\"subject\")):\n",
    "        for i_biomarker, biomarker in enumerate(\n",
    "            [f\"biomarker_{i}\" for i in range(n_biomarkers)]\n",
    "        ):\n",
    "            ax.plot(\n",
    "                (\n",
    "                    df_subject[\"timepoint\"] + time_shifts[i_subject]\n",
    "                    if i_ax == 1\n",
    "                    else df_subject[\"timepoint\"]\n",
    "                ),\n",
    "                df_subject[biomarker],\n",
    "                marker=\"oXxp*\"[i_subject % 5],\n",
    "                color=f\"C{i_biomarker}\",\n",
    "                alpha=0.1,\n",
    "            )\n",
    "\n",
    "    for i_biomarker, (k, x0) in enumerate(zip(k_values, x0_values)):\n",
    "        t = np.linspace(0, 1, 100)\n",
    "        y = 1 / (1 + np.exp(-k * (t - x0)))\n",
    "        ax.plot(t, y, color=f\"C{i_biomarker}\", linestyle=\"--\", alpha=1)\n",
    "\n",
    "\n",
    "def check_model_fit(\n",
    "    estimated_k_values, estimated_x0_values, estimated_time_shifts, align_x=False\n",
    "):\n",
    "    _, ax = plt.subplots()\n",
    "    ax: plt.Axes\n",
    "\n",
    "    x_value_differences = x0_values - estimated_x0_values\n",
    "\n",
    "    for i_biomarker, (k, x0) in enumerate(zip(k_values, x0_values)):\n",
    "        t = np.linspace(-1, 2, 100)\n",
    "        y = 1 / (1 + np.exp(-k * (t - x0)))\n",
    "        ax.plot(t, y, color=f\"C{i_biomarker}\", linestyle=\"--\", alpha=0.8)\n",
    "\n",
    "        y_pred = torch.sigmoid(\n",
    "            torch.tensor(\n",
    "                estimated_k_values[i_biomarker] * (t - estimated_x0_values[i_biomarker])\n",
    "            )\n",
    "        ).numpy()\n",
    "        ax.plot(\n",
    "            t + x_value_differences[i_biomarker] if align_x else t,\n",
    "            y_pred,\n",
    "            color=f\"C{i_biomarker}\",\n",
    "            linestyle=\"-\",\n",
    "            alpha=0.8,\n",
    "        )\n",
    "\n",
    "    print(\"===== k values =====\")\n",
    "    print(k_values)\n",
    "    print(estimated_k_values)\n",
    "    print(\"===== x0 values =====\")\n",
    "    print(x0_values)\n",
    "    print(estimated_x0_values)\n",
    "    print(\"===== x value differences =====\")\n",
    "    print(x0_values - estimated_x0_values)\n",
    "    print(\"===== time shifts =====\")\n",
    "    print(time_shifts)\n",
    "    print(estimated_time_shifts)\n",
    "    if len(estimated_time_shifts) > 0:\n",
    "        print(\"===== time shift offset difference =====\")\n",
    "        if len(time_shifts) < len(estimated_time_shifts):\n",
    "            warnings.warn(\n",
    "                \"Number of estimated time shifts is larger than the number of true time \"\n",
    "                \"shifts. Clipping estimated time shifts.\"\n",
    "            )\n",
    "            estimated_time_shifts = estimated_time_shifts[: len(time_shifts)]\n",
    "\n",
    "        print((time_shifts - estimated_time_shifts).std())"
   ]
  },
  {
   "cell_type": "code",
   "execution_count": 2,
   "id": "419ddbad",
   "metadata": {},
   "outputs": [
    {
     "name": "stderr",
     "output_type": "stream",
     "text": [
      "/home/bic/mwang/projects/fl-prog/.venv/lib/python3.10/site-packages/monai/utils/module.py:367: UserWarning: pkg_resources is deprecated as an API. See https://setuptools.pypa.io/en/latest/pkg_resources.html. The pkg_resources package is slated for removal as early as 2025-11-30. Refrain from using this package or pin to Setuptools<81.\n",
      "  pkg = __import__(module)  # top level module\n"
     ]
    },
    {
     "data": {
      "text/plain": [
       "2025-10-10 10:47:35,961 fedbiomed INFO - Starting researcher service..."
      ]
     },
     "metadata": {},
     "output_type": "display_data"
    },
    {
     "data": {
      "text/plain": [
       "2025-10-10 10:47:35,963 fedbiomed INFO - Waiting 3s for nodes to connect..."
      ]
     },
     "metadata": {},
     "output_type": "display_data"
    },
    {
     "data": {
      "text/plain": [
       "2025-10-10 10:47:36,786 fedbiomed DEBUG - Node: NODE_CENTRALIZED polling for the tasks"
      ]
     },
     "metadata": {},
     "output_type": "display_data"
    },
    {
     "data": {
      "text/plain": [
       "2025-10-10 10:47:38,970 fedbiomed INFO - Updating training data. This action will update FederatedDataset, and the nodes that will participate to the experiment."
      ]
     },
     "metadata": {},
     "output_type": "display_data"
    },
    {
     "data": {
      "text/plain": [
       "2025-10-10 10:47:38,976 fedbiomed DEBUG - Node: NODE_CENTRALIZED polling for the tasks"
      ]
     },
     "metadata": {},
     "output_type": "display_data"
    },
    {
     "data": {
      "text/plain": [
       "2025-10-10 10:47:38,988 fedbiomed INFO - Node selected for training -> NODE_CENTRALIZED"
      ]
     },
     "metadata": {},
     "output_type": "display_data"
    },
    {
     "name": "stdout",
     "output_type": "stream",
     "text": [
      "<function extract_symbols at 0x7f7ba399cd30>\n"
     ]
    },
    {
     "data": {
      "text/plain": [
       "2025-10-10 10:47:39,027 fedbiomed DEBUG - Model file has been saved: /data/origami/michelle/projects/fl-prog/fedbiomed/fbm-researcher/var/experiments/Experiment_0116/model_6674dfac-f79f-456d-9f5b-fa100b495668.py"
      ]
     },
     "metadata": {},
     "output_type": "display_data"
    },
    {
     "name": "stderr",
     "output_type": "stream",
     "text": [
      "Secure RNG turned off. This is perfectly fine for experimentation as it allows for much faster training performance, but remember to turn it on and retrain one last time before production with ``secure_mode`` turned on.\n"
     ]
    },
    {
     "data": {
      "text/plain": [
       "2025-10-10 10:47:39,432 fedbiomed INFO - Sampled nodes in round 0 ['NODE_CENTRALIZED']"
      ]
     },
     "metadata": {},
     "output_type": "display_data"
    },
    {
     "name": "stdout",
     "output_type": "stream",
     "text": [
      "<function extract_symbols at 0x7f7ba399cd30>\n"
     ]
    },
    {
     "data": {
      "text/plain": [
       "2025-10-10 10:47:39,456 fedbiomed INFO - \u001b[1mSending request\u001b[0m \n",
       "\t\t\t\t\t\u001b[1m To\u001b[0m: NODE_CENTRALIZED \n",
       "\t\t\t\t\t\u001b[1m Request: \u001b[0m: TRAIN\n",
       " -----------------------------------------------------------------"
      ]
     },
     "metadata": {},
     "output_type": "display_data"
    },
    {
     "data": {
      "text/plain": [
       "2025-10-10 10:47:39,531 fedbiomed DEBUG - Node: NODE_CENTRALIZED polling for the tasks"
      ]
     },
     "metadata": {},
     "output_type": "display_data"
    },
    {
     "data": {
      "text/plain": [
       "2025-10-10 10:47:39,784 fedbiomed INFO - \u001b[1mTRAINING\u001b[0m \n",
       "\t\t\t\t\t NODE_ID: NODE_CENTRALIZED \n",
       "\t\t\t\t\t Round 1 | Iteration: 1/70 (1%) | Samples: 101/7000000\n",
       " \t\t\t\t\t Loss: \u001b[1m491.425934\u001b[0m \n",
       "\t\t\t\t\t ---------"
      ]
     },
     "metadata": {},
     "output_type": "display_data"
    },
    {
     "data": {
      "text/plain": [
       "2025-10-10 10:47:39,792 fedbiomed INFO - \u001b[1mTRAINING\u001b[0m \n",
       "\t\t\t\t\t NODE_ID: NODE_CENTRALIZED \n",
       "\t\t\t\t\t Round 1 | Iteration: 2/70 (3%) | Samples: 202/7000000\n",
       " \t\t\t\t\t Loss: \u001b[1m488.879822\u001b[0m \n",
       "\t\t\t\t\t ---------"
      ]
     },
     "metadata": {},
     "output_type": "display_data"
    },
    {
     "data": {
      "text/plain": [
       "2025-10-10 10:47:39,809 fedbiomed INFO - \u001b[1mTRAINING\u001b[0m \n",
       "\t\t\t\t\t NODE_ID: NODE_CENTRALIZED \n",
       "\t\t\t\t\t Round 1 | Iteration: 3/70 (4%) | Samples: 303/7000000\n",
       " \t\t\t\t\t Loss: \u001b[1m486.336151\u001b[0m \n",
       "\t\t\t\t\t ---------"
      ]
     },
     "metadata": {},
     "output_type": "display_data"
    },
    {
     "data": {
      "text/plain": [
       "2025-10-10 10:47:39,825 fedbiomed INFO - \u001b[1mTRAINING\u001b[0m \n",
       "\t\t\t\t\t NODE_ID: NODE_CENTRALIZED \n",
       "\t\t\t\t\t Round 1 | Iteration: 4/70 (6%) | Samples: 404/7000000\n",
       " \t\t\t\t\t Loss: \u001b[1m483.794830\u001b[0m \n",
       "\t\t\t\t\t ---------"
      ]
     },
     "metadata": {},
     "output_type": "display_data"
    },
    {
     "data": {
      "text/plain": [
       "2025-10-10 10:47:39,841 fedbiomed INFO - \u001b[1mTRAINING\u001b[0m \n",
       "\t\t\t\t\t NODE_ID: NODE_CENTRALIZED \n",
       "\t\t\t\t\t Round 1 | Iteration: 5/70 (7%) | Samples: 505/7000000\n",
       " \t\t\t\t\t Loss: \u001b[1m481.255829\u001b[0m \n",
       "\t\t\t\t\t ---------"
      ]
     },
     "metadata": {},
     "output_type": "display_data"
    },
    {
     "data": {
      "text/plain": [
       "2025-10-10 10:47:39,859 fedbiomed INFO - \u001b[1mTRAINING\u001b[0m \n",
       "\t\t\t\t\t NODE_ID: NODE_CENTRALIZED \n",
       "\t\t\t\t\t Round 1 | Iteration: 6/70 (9%) | Samples: 606/7000000\n",
       " \t\t\t\t\t Loss: \u001b[1m478.719086\u001b[0m \n",
       "\t\t\t\t\t ---------"
      ]
     },
     "metadata": {},
     "output_type": "display_data"
    },
    {
     "data": {
      "text/plain": [
       "2025-10-10 10:47:39,874 fedbiomed INFO - \u001b[1mTRAINING\u001b[0m \n",
       "\t\t\t\t\t NODE_ID: NODE_CENTRALIZED \n",
       "\t\t\t\t\t Round 1 | Iteration: 7/70 (10%) | Samples: 707/7000000\n",
       " \t\t\t\t\t Loss: \u001b[1m476.184631\u001b[0m \n",
       "\t\t\t\t\t ---------"
      ]
     },
     "metadata": {},
     "output_type": "display_data"
    },
    {
     "data": {
      "text/plain": [
       "2025-10-10 10:47:39,892 fedbiomed INFO - \u001b[1mTRAINING\u001b[0m \n",
       "\t\t\t\t\t NODE_ID: NODE_CENTRALIZED \n",
       "\t\t\t\t\t Round 1 | Iteration: 8/70 (11%) | Samples: 808/7000000\n",
       " \t\t\t\t\t Loss: \u001b[1m473.652527\u001b[0m \n",
       "\t\t\t\t\t ---------"
      ]
     },
     "metadata": {},
     "output_type": "display_data"
    },
    {
     "data": {
      "text/plain": [
       "2025-10-10 10:47:39,908 fedbiomed INFO - \u001b[1mTRAINING\u001b[0m \n",
       "\t\t\t\t\t NODE_ID: NODE_CENTRALIZED \n",
       "\t\t\t\t\t Round 1 | Iteration: 9/70 (13%) | Samples: 909/7000000\n",
       " \t\t\t\t\t Loss: \u001b[1m471.122681\u001b[0m \n",
       "\t\t\t\t\t ---------"
      ]
     },
     "metadata": {},
     "output_type": "display_data"
    },
    {
     "data": {
      "text/plain": [
       "2025-10-10 10:47:39,924 fedbiomed INFO - \u001b[1mTRAINING\u001b[0m \n",
       "\t\t\t\t\t NODE_ID: NODE_CENTRALIZED \n",
       "\t\t\t\t\t Round 1 | Iteration: 10/70 (14%) | Samples: 1010/7000000\n",
       " \t\t\t\t\t Loss: \u001b[1m468.595123\u001b[0m \n",
       "\t\t\t\t\t ---------"
      ]
     },
     "metadata": {},
     "output_type": "display_data"
    },
    {
     "data": {
      "text/plain": [
       "2025-10-10 10:47:39,941 fedbiomed INFO - \u001b[1mTRAINING\u001b[0m \n",
       "\t\t\t\t\t NODE_ID: NODE_CENTRALIZED \n",
       "\t\t\t\t\t Round 1 | Iteration: 11/70 (16%) | Samples: 1111/7000000\n",
       " \t\t\t\t\t Loss: \u001b[1m466.069794\u001b[0m \n",
       "\t\t\t\t\t ---------"
      ]
     },
     "metadata": {},
     "output_type": "display_data"
    },
    {
     "data": {
      "text/plain": [
       "2025-10-10 10:47:39,956 fedbiomed INFO - \u001b[1mTRAINING\u001b[0m \n",
       "\t\t\t\t\t NODE_ID: NODE_CENTRALIZED \n",
       "\t\t\t\t\t Round 1 | Iteration: 12/70 (17%) | Samples: 1212/7000000\n",
       " \t\t\t\t\t Loss: \u001b[1m463.546600\u001b[0m \n",
       "\t\t\t\t\t ---------"
      ]
     },
     "metadata": {},
     "output_type": "display_data"
    },
    {
     "data": {
      "text/plain": [
       "2025-10-10 10:47:39,972 fedbiomed INFO - \u001b[1mTRAINING\u001b[0m \n",
       "\t\t\t\t\t NODE_ID: NODE_CENTRALIZED \n",
       "\t\t\t\t\t Round 1 | Iteration: 13/70 (19%) | Samples: 1313/7000000\n",
       " \t\t\t\t\t Loss: \u001b[1m461.025482\u001b[0m \n",
       "\t\t\t\t\t ---------"
      ]
     },
     "metadata": {},
     "output_type": "display_data"
    },
    {
     "data": {
      "text/plain": [
       "2025-10-10 10:47:39,991 fedbiomed INFO - \u001b[1mTRAINING\u001b[0m \n",
       "\t\t\t\t\t NODE_ID: NODE_CENTRALIZED \n",
       "\t\t\t\t\t Round 1 | Iteration: 14/70 (20%) | Samples: 1414/7000000\n",
       " \t\t\t\t\t Loss: \u001b[1m458.506287\u001b[0m \n",
       "\t\t\t\t\t ---------"
      ]
     },
     "metadata": {},
     "output_type": "display_data"
    },
    {
     "data": {
      "text/plain": [
       "2025-10-10 10:47:40,007 fedbiomed INFO - \u001b[1mTRAINING\u001b[0m \n",
       "\t\t\t\t\t NODE_ID: NODE_CENTRALIZED \n",
       "\t\t\t\t\t Round 1 | Iteration: 15/70 (21%) | Samples: 1515/7000000\n",
       " \t\t\t\t\t Loss: \u001b[1m455.988922\u001b[0m \n",
       "\t\t\t\t\t ---------"
      ]
     },
     "metadata": {},
     "output_type": "display_data"
    },
    {
     "data": {
      "text/plain": [
       "2025-10-10 10:47:40,022 fedbiomed INFO - \u001b[1mTRAINING\u001b[0m \n",
       "\t\t\t\t\t NODE_ID: NODE_CENTRALIZED \n",
       "\t\t\t\t\t Round 1 | Iteration: 16/70 (23%) | Samples: 1616/7000000\n",
       " \t\t\t\t\t Loss: \u001b[1m453.473206\u001b[0m \n",
       "\t\t\t\t\t ---------"
      ]
     },
     "metadata": {},
     "output_type": "display_data"
    },
    {
     "data": {
      "text/plain": [
       "2025-10-10 10:47:40,039 fedbiomed INFO - \u001b[1mTRAINING\u001b[0m \n",
       "\t\t\t\t\t NODE_ID: NODE_CENTRALIZED \n",
       "\t\t\t\t\t Round 1 | Iteration: 17/70 (24%) | Samples: 1717/7000000\n",
       " \t\t\t\t\t Loss: \u001b[1m450.958984\u001b[0m \n",
       "\t\t\t\t\t ---------"
      ]
     },
     "metadata": {},
     "output_type": "display_data"
    },
    {
     "data": {
      "text/plain": [
       "2025-10-10 10:47:40,055 fedbiomed INFO - \u001b[1mTRAINING\u001b[0m \n",
       "\t\t\t\t\t NODE_ID: NODE_CENTRALIZED \n",
       "\t\t\t\t\t Round 1 | Iteration: 18/70 (26%) | Samples: 1818/7000000\n",
       " \t\t\t\t\t Loss: \u001b[1m448.446014\u001b[0m \n",
       "\t\t\t\t\t ---------"
      ]
     },
     "metadata": {},
     "output_type": "display_data"
    },
    {
     "data": {
      "text/plain": [
       "2025-10-10 10:47:40,071 fedbiomed INFO - \u001b[1mTRAINING\u001b[0m \n",
       "\t\t\t\t\t NODE_ID: NODE_CENTRALIZED \n",
       "\t\t\t\t\t Round 1 | Iteration: 19/70 (27%) | Samples: 1919/7000000\n",
       " \t\t\t\t\t Loss: \u001b[1m445.934143\u001b[0m \n",
       "\t\t\t\t\t ---------"
      ]
     },
     "metadata": {},
     "output_type": "display_data"
    },
    {
     "data": {
      "text/plain": [
       "2025-10-10 10:47:40,087 fedbiomed INFO - \u001b[1mTRAINING\u001b[0m \n",
       "\t\t\t\t\t NODE_ID: NODE_CENTRALIZED \n",
       "\t\t\t\t\t Round 1 | Iteration: 20/70 (29%) | Samples: 2020/7000000\n",
       " \t\t\t\t\t Loss: \u001b[1m443.422974\u001b[0m \n",
       "\t\t\t\t\t ---------"
      ]
     },
     "metadata": {},
     "output_type": "display_data"
    },
    {
     "data": {
      "text/plain": [
       "2025-10-10 10:47:40,104 fedbiomed INFO - \u001b[1mTRAINING\u001b[0m \n",
       "\t\t\t\t\t NODE_ID: NODE_CENTRALIZED \n",
       "\t\t\t\t\t Round 1 | Iteration: 21/70 (30%) | Samples: 2121/7000000\n",
       " \t\t\t\t\t Loss: \u001b[1m440.912292\u001b[0m \n",
       "\t\t\t\t\t ---------"
      ]
     },
     "metadata": {},
     "output_type": "display_data"
    },
    {
     "data": {
      "text/plain": [
       "2025-10-10 10:47:40,120 fedbiomed INFO - \u001b[1mTRAINING\u001b[0m \n",
       "\t\t\t\t\t NODE_ID: NODE_CENTRALIZED \n",
       "\t\t\t\t\t Round 1 | Iteration: 22/70 (31%) | Samples: 2222/7000000\n",
       " \t\t\t\t\t Loss: \u001b[1m438.401794\u001b[0m \n",
       "\t\t\t\t\t ---------"
      ]
     },
     "metadata": {},
     "output_type": "display_data"
    },
    {
     "data": {
      "text/plain": [
       "2025-10-10 10:47:40,136 fedbiomed INFO - \u001b[1mTRAINING\u001b[0m \n",
       "\t\t\t\t\t NODE_ID: NODE_CENTRALIZED \n",
       "\t\t\t\t\t Round 1 | Iteration: 23/70 (33%) | Samples: 2323/7000000\n",
       " \t\t\t\t\t Loss: \u001b[1m435.891052\u001b[0m \n",
       "\t\t\t\t\t ---------"
      ]
     },
     "metadata": {},
     "output_type": "display_data"
    },
    {
     "data": {
      "text/plain": [
       "2025-10-10 10:47:40,152 fedbiomed INFO - \u001b[1mTRAINING\u001b[0m \n",
       "\t\t\t\t\t NODE_ID: NODE_CENTRALIZED \n",
       "\t\t\t\t\t Round 1 | Iteration: 24/70 (34%) | Samples: 2424/7000000\n",
       " \t\t\t\t\t Loss: \u001b[1m433.379669\u001b[0m \n",
       "\t\t\t\t\t ---------"
      ]
     },
     "metadata": {},
     "output_type": "display_data"
    },
    {
     "data": {
      "text/plain": [
       "2025-10-10 10:47:40,169 fedbiomed INFO - \u001b[1mTRAINING\u001b[0m \n",
       "\t\t\t\t\t NODE_ID: NODE_CENTRALIZED \n",
       "\t\t\t\t\t Round 1 | Iteration: 25/70 (36%) | Samples: 2525/7000000\n",
       " \t\t\t\t\t Loss: \u001b[1m430.867432\u001b[0m \n",
       "\t\t\t\t\t ---------"
      ]
     },
     "metadata": {},
     "output_type": "display_data"
    },
    {
     "data": {
      "text/plain": [
       "2025-10-10 10:47:40,185 fedbiomed INFO - \u001b[1mTRAINING\u001b[0m \n",
       "\t\t\t\t\t NODE_ID: NODE_CENTRALIZED \n",
       "\t\t\t\t\t Round 1 | Iteration: 26/70 (37%) | Samples: 2626/7000000\n",
       " \t\t\t\t\t Loss: \u001b[1m428.353760\u001b[0m \n",
       "\t\t\t\t\t ---------"
      ]
     },
     "metadata": {},
     "output_type": "display_data"
    },
    {
     "data": {
      "text/plain": [
       "2025-10-10 10:47:40,201 fedbiomed INFO - \u001b[1mTRAINING\u001b[0m \n",
       "\t\t\t\t\t NODE_ID: NODE_CENTRALIZED \n",
       "\t\t\t\t\t Round 1 | Iteration: 27/70 (39%) | Samples: 2727/7000000\n",
       " \t\t\t\t\t Loss: \u001b[1m425.838165\u001b[0m \n",
       "\t\t\t\t\t ---------"
      ]
     },
     "metadata": {},
     "output_type": "display_data"
    },
    {
     "data": {
      "text/plain": [
       "2025-10-10 10:47:40,218 fedbiomed INFO - \u001b[1mTRAINING\u001b[0m \n",
       "\t\t\t\t\t NODE_ID: NODE_CENTRALIZED \n",
       "\t\t\t\t\t Round 1 | Iteration: 28/70 (40%) | Samples: 2828/7000000\n",
       " \t\t\t\t\t Loss: \u001b[1m423.320312\u001b[0m \n",
       "\t\t\t\t\t ---------"
      ]
     },
     "metadata": {},
     "output_type": "display_data"
    },
    {
     "data": {
      "text/plain": [
       "2025-10-10 10:47:40,234 fedbiomed INFO - \u001b[1mTRAINING\u001b[0m \n",
       "\t\t\t\t\t NODE_ID: NODE_CENTRALIZED \n",
       "\t\t\t\t\t Round 1 | Iteration: 29/70 (41%) | Samples: 2929/7000000\n",
       " \t\t\t\t\t Loss: \u001b[1m420.799683\u001b[0m \n",
       "\t\t\t\t\t ---------"
      ]
     },
     "metadata": {},
     "output_type": "display_data"
    },
    {
     "data": {
      "text/plain": [
       "2025-10-10 10:47:40,250 fedbiomed INFO - \u001b[1mTRAINING\u001b[0m \n",
       "\t\t\t\t\t NODE_ID: NODE_CENTRALIZED \n",
       "\t\t\t\t\t Round 1 | Iteration: 30/70 (43%) | Samples: 3030/7000000\n",
       " \t\t\t\t\t Loss: \u001b[1m418.275787\u001b[0m \n",
       "\t\t\t\t\t ---------"
      ]
     },
     "metadata": {},
     "output_type": "display_data"
    },
    {
     "data": {
      "text/plain": [
       "2025-10-10 10:47:40,267 fedbiomed INFO - \u001b[1mTRAINING\u001b[0m \n",
       "\t\t\t\t\t NODE_ID: NODE_CENTRALIZED \n",
       "\t\t\t\t\t Round 1 | Iteration: 31/70 (44%) | Samples: 3131/7000000\n",
       " \t\t\t\t\t Loss: \u001b[1m415.748230\u001b[0m \n",
       "\t\t\t\t\t ---------"
      ]
     },
     "metadata": {},
     "output_type": "display_data"
    },
    {
     "data": {
      "text/plain": [
       "2025-10-10 10:47:40,283 fedbiomed INFO - \u001b[1mTRAINING\u001b[0m \n",
       "\t\t\t\t\t NODE_ID: NODE_CENTRALIZED \n",
       "\t\t\t\t\t Round 1 | Iteration: 32/70 (46%) | Samples: 3232/7000000\n",
       " \t\t\t\t\t Loss: \u001b[1m413.216461\u001b[0m \n",
       "\t\t\t\t\t ---------"
      ]
     },
     "metadata": {},
     "output_type": "display_data"
    },
    {
     "data": {
      "text/plain": [
       "2025-10-10 10:47:40,299 fedbiomed INFO - \u001b[1mTRAINING\u001b[0m \n",
       "\t\t\t\t\t NODE_ID: NODE_CENTRALIZED \n",
       "\t\t\t\t\t Round 1 | Iteration: 33/70 (47%) | Samples: 3333/7000000\n",
       " \t\t\t\t\t Loss: \u001b[1m410.680084\u001b[0m \n",
       "\t\t\t\t\t ---------"
      ]
     },
     "metadata": {},
     "output_type": "display_data"
    },
    {
     "data": {
      "text/plain": [
       "2025-10-10 10:47:40,315 fedbiomed INFO - \u001b[1mTRAINING\u001b[0m \n",
       "\t\t\t\t\t NODE_ID: NODE_CENTRALIZED \n",
       "\t\t\t\t\t Round 1 | Iteration: 34/70 (49%) | Samples: 3434/7000000\n",
       " \t\t\t\t\t Loss: \u001b[1m408.138733\u001b[0m \n",
       "\t\t\t\t\t ---------"
      ]
     },
     "metadata": {},
     "output_type": "display_data"
    },
    {
     "data": {
      "text/plain": [
       "2025-10-10 10:47:40,331 fedbiomed INFO - \u001b[1mTRAINING\u001b[0m \n",
       "\t\t\t\t\t NODE_ID: NODE_CENTRALIZED \n",
       "\t\t\t\t\t Round 1 | Iteration: 35/70 (50%) | Samples: 3535/7000000\n",
       " \t\t\t\t\t Loss: \u001b[1m405.591949\u001b[0m \n",
       "\t\t\t\t\t ---------"
      ]
     },
     "metadata": {},
     "output_type": "display_data"
    },
    {
     "data": {
      "text/plain": [
       "2025-10-10 10:47:40,349 fedbiomed INFO - \u001b[1mTRAINING\u001b[0m \n",
       "\t\t\t\t\t NODE_ID: NODE_CENTRALIZED \n",
       "\t\t\t\t\t Round 1 | Iteration: 36/70 (51%) | Samples: 3636/7000000\n",
       " \t\t\t\t\t Loss: \u001b[1m403.039215\u001b[0m \n",
       "\t\t\t\t\t ---------"
      ]
     },
     "metadata": {},
     "output_type": "display_data"
    },
    {
     "data": {
      "text/plain": [
       "2025-10-10 10:47:40,365 fedbiomed INFO - \u001b[1mTRAINING\u001b[0m \n",
       "\t\t\t\t\t NODE_ID: NODE_CENTRALIZED \n",
       "\t\t\t\t\t Round 1 | Iteration: 37/70 (53%) | Samples: 3737/7000000\n",
       " \t\t\t\t\t Loss: \u001b[1m400.480469\u001b[0m \n",
       "\t\t\t\t\t ---------"
      ]
     },
     "metadata": {},
     "output_type": "display_data"
    },
    {
     "data": {
      "text/plain": [
       "2025-10-10 10:47:40,381 fedbiomed INFO - \u001b[1mTRAINING\u001b[0m \n",
       "\t\t\t\t\t NODE_ID: NODE_CENTRALIZED \n",
       "\t\t\t\t\t Round 1 | Iteration: 38/70 (54%) | Samples: 3838/7000000\n",
       " \t\t\t\t\t Loss: \u001b[1m397.915344\u001b[0m \n",
       "\t\t\t\t\t ---------"
      ]
     },
     "metadata": {},
     "output_type": "display_data"
    },
    {
     "data": {
      "text/plain": [
       "2025-10-10 10:47:40,398 fedbiomed INFO - \u001b[1mTRAINING\u001b[0m \n",
       "\t\t\t\t\t NODE_ID: NODE_CENTRALIZED \n",
       "\t\t\t\t\t Round 1 | Iteration: 39/70 (56%) | Samples: 3939/7000000\n",
       " \t\t\t\t\t Loss: \u001b[1m395.343628\u001b[0m \n",
       "\t\t\t\t\t ---------"
      ]
     },
     "metadata": {},
     "output_type": "display_data"
    },
    {
     "data": {
      "text/plain": [
       "2025-10-10 10:47:40,418 fedbiomed INFO - \u001b[1mTRAINING\u001b[0m \n",
       "\t\t\t\t\t NODE_ID: NODE_CENTRALIZED \n",
       "\t\t\t\t\t Round 1 | Iteration: 40/70 (57%) | Samples: 4040/7000000\n",
       " \t\t\t\t\t Loss: \u001b[1m392.765198\u001b[0m \n",
       "\t\t\t\t\t ---------"
      ]
     },
     "metadata": {},
     "output_type": "display_data"
    },
    {
     "data": {
      "text/plain": [
       "2025-10-10 10:47:40,434 fedbiomed INFO - \u001b[1mTRAINING\u001b[0m \n",
       "\t\t\t\t\t NODE_ID: NODE_CENTRALIZED \n",
       "\t\t\t\t\t Round 1 | Iteration: 41/70 (59%) | Samples: 4141/7000000\n",
       " \t\t\t\t\t Loss: \u001b[1m390.179993\u001b[0m \n",
       "\t\t\t\t\t ---------"
      ]
     },
     "metadata": {},
     "output_type": "display_data"
    },
    {
     "data": {
      "text/plain": [
       "2025-10-10 10:47:40,453 fedbiomed INFO - \u001b[1mTRAINING\u001b[0m \n",
       "\t\t\t\t\t NODE_ID: NODE_CENTRALIZED \n",
       "\t\t\t\t\t Round 1 | Iteration: 42/70 (60%) | Samples: 4242/7000000\n",
       " \t\t\t\t\t Loss: \u001b[1m387.588165\u001b[0m \n",
       "\t\t\t\t\t ---------"
      ]
     },
     "metadata": {},
     "output_type": "display_data"
    },
    {
     "data": {
      "text/plain": [
       "2025-10-10 10:47:40,471 fedbiomed INFO - \u001b[1mTRAINING\u001b[0m \n",
       "\t\t\t\t\t NODE_ID: NODE_CENTRALIZED \n",
       "\t\t\t\t\t Round 1 | Iteration: 43/70 (61%) | Samples: 4343/7000000\n",
       " \t\t\t\t\t Loss: \u001b[1m384.989868\u001b[0m \n",
       "\t\t\t\t\t ---------"
      ]
     },
     "metadata": {},
     "output_type": "display_data"
    },
    {
     "data": {
      "text/plain": [
       "2025-10-10 10:47:40,486 fedbiomed INFO - \u001b[1mTRAINING\u001b[0m \n",
       "\t\t\t\t\t NODE_ID: NODE_CENTRALIZED \n",
       "\t\t\t\t\t Round 1 | Iteration: 44/70 (63%) | Samples: 4444/7000000\n",
       " \t\t\t\t\t Loss: \u001b[1m382.385406\u001b[0m \n",
       "\t\t\t\t\t ---------"
      ]
     },
     "metadata": {},
     "output_type": "display_data"
    },
    {
     "data": {
      "text/plain": [
       "2025-10-10 10:47:40,502 fedbiomed INFO - \u001b[1mTRAINING\u001b[0m \n",
       "\t\t\t\t\t NODE_ID: NODE_CENTRALIZED \n",
       "\t\t\t\t\t Round 1 | Iteration: 45/70 (64%) | Samples: 4545/7000000\n",
       " \t\t\t\t\t Loss: \u001b[1m379.775299\u001b[0m \n",
       "\t\t\t\t\t ---------"
      ]
     },
     "metadata": {},
     "output_type": "display_data"
    },
    {
     "data": {
      "text/plain": [
       "2025-10-10 10:47:40,519 fedbiomed INFO - \u001b[1mTRAINING\u001b[0m \n",
       "\t\t\t\t\t NODE_ID: NODE_CENTRALIZED \n",
       "\t\t\t\t\t Round 1 | Iteration: 46/70 (66%) | Samples: 4646/7000000\n",
       " \t\t\t\t\t Loss: \u001b[1m377.160095\u001b[0m \n",
       "\t\t\t\t\t ---------"
      ]
     },
     "metadata": {},
     "output_type": "display_data"
    },
    {
     "data": {
      "text/plain": [
       "2025-10-10 10:47:40,536 fedbiomed INFO - \u001b[1mTRAINING\u001b[0m \n",
       "\t\t\t\t\t NODE_ID: NODE_CENTRALIZED \n",
       "\t\t\t\t\t Round 1 | Iteration: 47/70 (67%) | Samples: 4747/7000000\n",
       " \t\t\t\t\t Loss: \u001b[1m374.540405\u001b[0m \n",
       "\t\t\t\t\t ---------"
      ]
     },
     "metadata": {},
     "output_type": "display_data"
    },
    {
     "data": {
      "text/plain": [
       "2025-10-10 10:47:40,552 fedbiomed INFO - \u001b[1mTRAINING\u001b[0m \n",
       "\t\t\t\t\t NODE_ID: NODE_CENTRALIZED \n",
       "\t\t\t\t\t Round 1 | Iteration: 48/70 (69%) | Samples: 4848/7000000\n",
       " \t\t\t\t\t Loss: \u001b[1m371.917297\u001b[0m \n",
       "\t\t\t\t\t ---------"
      ]
     },
     "metadata": {},
     "output_type": "display_data"
    },
    {
     "data": {
      "text/plain": [
       "2025-10-10 10:47:40,568 fedbiomed INFO - \u001b[1mTRAINING\u001b[0m \n",
       "\t\t\t\t\t NODE_ID: NODE_CENTRALIZED \n",
       "\t\t\t\t\t Round 1 | Iteration: 49/70 (70%) | Samples: 4949/7000000\n",
       " \t\t\t\t\t Loss: \u001b[1m369.291565\u001b[0m \n",
       "\t\t\t\t\t ---------"
      ]
     },
     "metadata": {},
     "output_type": "display_data"
    },
    {
     "data": {
      "text/plain": [
       "2025-10-10 10:47:40,585 fedbiomed INFO - \u001b[1mTRAINING\u001b[0m \n",
       "\t\t\t\t\t NODE_ID: NODE_CENTRALIZED \n",
       "\t\t\t\t\t Round 1 | Iteration: 50/70 (71%) | Samples: 5050/7000000\n",
       " \t\t\t\t\t Loss: \u001b[1m366.664337\u001b[0m \n",
       "\t\t\t\t\t ---------"
      ]
     },
     "metadata": {},
     "output_type": "display_data"
    },
    {
     "data": {
      "text/plain": [
       "2025-10-10 10:47:40,605 fedbiomed INFO - \u001b[1mTRAINING\u001b[0m \n",
       "\t\t\t\t\t NODE_ID: NODE_CENTRALIZED \n",
       "\t\t\t\t\t Round 1 | Iteration: 51/70 (73%) | Samples: 5151/7000000\n",
       " \t\t\t\t\t Loss: \u001b[1m364.036560\u001b[0m \n",
       "\t\t\t\t\t ---------"
      ]
     },
     "metadata": {},
     "output_type": "display_data"
    },
    {
     "data": {
      "text/plain": [
       "2025-10-10 10:47:40,622 fedbiomed INFO - \u001b[1mTRAINING\u001b[0m \n",
       "\t\t\t\t\t NODE_ID: NODE_CENTRALIZED \n",
       "\t\t\t\t\t Round 1 | Iteration: 52/70 (74%) | Samples: 5252/7000000\n",
       " \t\t\t\t\t Loss: \u001b[1m361.409302\u001b[0m \n",
       "\t\t\t\t\t ---------"
      ]
     },
     "metadata": {},
     "output_type": "display_data"
    },
    {
     "data": {
      "text/plain": [
       "2025-10-10 10:47:40,639 fedbiomed INFO - \u001b[1mTRAINING\u001b[0m \n",
       "\t\t\t\t\t NODE_ID: NODE_CENTRALIZED \n",
       "\t\t\t\t\t Round 1 | Iteration: 53/70 (76%) | Samples: 5353/7000000\n",
       " \t\t\t\t\t Loss: \u001b[1m358.783600\u001b[0m \n",
       "\t\t\t\t\t ---------"
      ]
     },
     "metadata": {},
     "output_type": "display_data"
    },
    {
     "data": {
      "text/plain": [
       "2025-10-10 10:47:40,656 fedbiomed INFO - \u001b[1mTRAINING\u001b[0m \n",
       "\t\t\t\t\t NODE_ID: NODE_CENTRALIZED \n",
       "\t\t\t\t\t Round 1 | Iteration: 54/70 (77%) | Samples: 5454/7000000\n",
       " \t\t\t\t\t Loss: \u001b[1m356.160004\u001b[0m \n",
       "\t\t\t\t\t ---------"
      ]
     },
     "metadata": {},
     "output_type": "display_data"
    },
    {
     "data": {
      "text/plain": [
       "2025-10-10 10:47:40,676 fedbiomed INFO - \u001b[1mTRAINING\u001b[0m \n",
       "\t\t\t\t\t NODE_ID: NODE_CENTRALIZED \n",
       "\t\t\t\t\t Round 1 | Iteration: 55/70 (79%) | Samples: 5555/7000000\n",
       " \t\t\t\t\t Loss: \u001b[1m353.538879\u001b[0m \n",
       "\t\t\t\t\t ---------"
      ]
     },
     "metadata": {},
     "output_type": "display_data"
    },
    {
     "data": {
      "text/plain": [
       "2025-10-10 10:47:40,693 fedbiomed INFO - \u001b[1mTRAINING\u001b[0m \n",
       "\t\t\t\t\t NODE_ID: NODE_CENTRALIZED \n",
       "\t\t\t\t\t Round 1 | Iteration: 56/70 (80%) | Samples: 5656/7000000\n",
       " \t\t\t\t\t Loss: \u001b[1m350.920532\u001b[0m \n",
       "\t\t\t\t\t ---------"
      ]
     },
     "metadata": {},
     "output_type": "display_data"
    },
    {
     "data": {
      "text/plain": [
       "2025-10-10 10:47:40,709 fedbiomed INFO - \u001b[1mTRAINING\u001b[0m \n",
       "\t\t\t\t\t NODE_ID: NODE_CENTRALIZED \n",
       "\t\t\t\t\t Round 1 | Iteration: 57/70 (81%) | Samples: 5757/7000000\n",
       " \t\t\t\t\t Loss: \u001b[1m348.304504\u001b[0m \n",
       "\t\t\t\t\t ---------"
      ]
     },
     "metadata": {},
     "output_type": "display_data"
    },
    {
     "data": {
      "text/plain": [
       "2025-10-10 10:47:40,733 fedbiomed INFO - \u001b[1mTRAINING\u001b[0m \n",
       "\t\t\t\t\t NODE_ID: NODE_CENTRALIZED \n",
       "\t\t\t\t\t Round 1 | Iteration: 58/70 (83%) | Samples: 5858/7000000\n",
       " \t\t\t\t\t Loss: \u001b[1m345.689819\u001b[0m \n",
       "\t\t\t\t\t ---------"
      ]
     },
     "metadata": {},
     "output_type": "display_data"
    },
    {
     "data": {
      "text/plain": [
       "2025-10-10 10:47:40,753 fedbiomed INFO - \u001b[1mTRAINING\u001b[0m \n",
       "\t\t\t\t\t NODE_ID: NODE_CENTRALIZED \n",
       "\t\t\t\t\t Round 1 | Iteration: 59/70 (84%) | Samples: 5959/7000000\n",
       " \t\t\t\t\t Loss: \u001b[1m343.075500\u001b[0m \n",
       "\t\t\t\t\t ---------"
      ]
     },
     "metadata": {},
     "output_type": "display_data"
    },
    {
     "data": {
      "text/plain": [
       "2025-10-10 10:47:40,774 fedbiomed INFO - \u001b[1mTRAINING\u001b[0m \n",
       "\t\t\t\t\t NODE_ID: NODE_CENTRALIZED \n",
       "\t\t\t\t\t Round 1 | Iteration: 60/70 (86%) | Samples: 6060/7000000\n",
       " \t\t\t\t\t Loss: \u001b[1m340.460388\u001b[0m \n",
       "\t\t\t\t\t ---------"
      ]
     },
     "metadata": {},
     "output_type": "display_data"
    },
    {
     "data": {
      "text/plain": [
       "2025-10-10 10:47:40,793 fedbiomed INFO - \u001b[1mTRAINING\u001b[0m \n",
       "\t\t\t\t\t NODE_ID: NODE_CENTRALIZED \n",
       "\t\t\t\t\t Round 1 | Iteration: 61/70 (87%) | Samples: 6161/7000000\n",
       " \t\t\t\t\t Loss: \u001b[1m337.843506\u001b[0m \n",
       "\t\t\t\t\t ---------"
      ]
     },
     "metadata": {},
     "output_type": "display_data"
    },
    {
     "data": {
      "text/plain": [
       "2025-10-10 10:47:40,812 fedbiomed INFO - \u001b[1mTRAINING\u001b[0m \n",
       "\t\t\t\t\t NODE_ID: NODE_CENTRALIZED \n",
       "\t\t\t\t\t Round 1 | Iteration: 62/70 (89%) | Samples: 6262/7000000\n",
       " \t\t\t\t\t Loss: \u001b[1m335.223694\u001b[0m \n",
       "\t\t\t\t\t ---------"
      ]
     },
     "metadata": {},
     "output_type": "display_data"
    },
    {
     "data": {
      "text/plain": [
       "2025-10-10 10:47:40,832 fedbiomed INFO - \u001b[1mTRAINING\u001b[0m \n",
       "\t\t\t\t\t NODE_ID: NODE_CENTRALIZED \n",
       "\t\t\t\t\t Round 1 | Iteration: 63/70 (90%) | Samples: 6363/7000000\n",
       " \t\t\t\t\t Loss: \u001b[1m332.600403\u001b[0m \n",
       "\t\t\t\t\t ---------"
      ]
     },
     "metadata": {},
     "output_type": "display_data"
    },
    {
     "data": {
      "text/plain": [
       "2025-10-10 10:47:40,851 fedbiomed INFO - \u001b[1mTRAINING\u001b[0m \n",
       "\t\t\t\t\t NODE_ID: NODE_CENTRALIZED \n",
       "\t\t\t\t\t Round 1 | Iteration: 64/70 (91%) | Samples: 6464/7000000\n",
       " \t\t\t\t\t Loss: \u001b[1m329.973328\u001b[0m \n",
       "\t\t\t\t\t ---------"
      ]
     },
     "metadata": {},
     "output_type": "display_data"
    },
    {
     "data": {
      "text/plain": [
       "2025-10-10 10:47:40,871 fedbiomed INFO - \u001b[1mTRAINING\u001b[0m \n",
       "\t\t\t\t\t NODE_ID: NODE_CENTRALIZED \n",
       "\t\t\t\t\t Round 1 | Iteration: 65/70 (93%) | Samples: 6565/7000000\n",
       " \t\t\t\t\t Loss: \u001b[1m327.342926\u001b[0m \n",
       "\t\t\t\t\t ---------"
      ]
     },
     "metadata": {},
     "output_type": "display_data"
    },
    {
     "data": {
      "text/plain": [
       "2025-10-10 10:47:40,889 fedbiomed INFO - \u001b[1mTRAINING\u001b[0m \n",
       "\t\t\t\t\t NODE_ID: NODE_CENTRALIZED \n",
       "\t\t\t\t\t Round 1 | Iteration: 66/70 (94%) | Samples: 6666/7000000\n",
       " \t\t\t\t\t Loss: \u001b[1m324.709900\u001b[0m \n",
       "\t\t\t\t\t ---------"
      ]
     },
     "metadata": {},
     "output_type": "display_data"
    },
    {
     "data": {
      "text/plain": [
       "2025-10-10 10:47:40,908 fedbiomed INFO - \u001b[1mTRAINING\u001b[0m \n",
       "\t\t\t\t\t NODE_ID: NODE_CENTRALIZED \n",
       "\t\t\t\t\t Round 1 | Iteration: 67/70 (96%) | Samples: 6767/7000000\n",
       " \t\t\t\t\t Loss: \u001b[1m322.074493\u001b[0m \n",
       "\t\t\t\t\t ---------"
      ]
     },
     "metadata": {},
     "output_type": "display_data"
    },
    {
     "data": {
      "text/plain": [
       "2025-10-10 10:47:40,926 fedbiomed INFO - \u001b[1mTRAINING\u001b[0m \n",
       "\t\t\t\t\t NODE_ID: NODE_CENTRALIZED \n",
       "\t\t\t\t\t Round 1 | Iteration: 68/70 (97%) | Samples: 6868/7000000\n",
       " \t\t\t\t\t Loss: \u001b[1m319.437622\u001b[0m \n",
       "\t\t\t\t\t ---------"
      ]
     },
     "metadata": {},
     "output_type": "display_data"
    },
    {
     "data": {
      "text/plain": [
       "2025-10-10 10:47:40,945 fedbiomed INFO - \u001b[1mTRAINING\u001b[0m \n",
       "\t\t\t\t\t NODE_ID: NODE_CENTRALIZED \n",
       "\t\t\t\t\t Round 1 | Iteration: 69/70 (99%) | Samples: 6969/7000000\n",
       " \t\t\t\t\t Loss: \u001b[1m316.800507\u001b[0m \n",
       "\t\t\t\t\t ---------"
      ]
     },
     "metadata": {},
     "output_type": "display_data"
    },
    {
     "data": {
      "text/plain": [
       "2025-10-10 10:47:40,962 fedbiomed INFO - \u001b[1mTRAINING\u001b[0m \n",
       "\t\t\t\t\t NODE_ID: NODE_CENTRALIZED \n",
       "\t\t\t\t\t Round 1 | Iteration: 70/70 (100%) | Samples: 7070/7000000\n",
       " \t\t\t\t\t Loss: \u001b[1m314.163666\u001b[0m \n",
       "\t\t\t\t\t ---------"
      ]
     },
     "metadata": {},
     "output_type": "display_data"
    },
    {
     "data": {
      "text/plain": [
       "2025-10-10 10:47:41,080 fedbiomed INFO - Nodes that successfully reply in round 0 ['NODE_CENTRALIZED']"
      ]
     },
     "metadata": {},
     "output_type": "display_data"
    },
    {
     "data": {
      "text/plain": [
       "2025-10-10 10:47:41,113 fedbiomed INFO - Sampled nodes in round 1 ['NODE_CENTRALIZED']"
      ]
     },
     "metadata": {},
     "output_type": "display_data"
    },
    {
     "name": "stdout",
     "output_type": "stream",
     "text": [
      "<function extract_symbols at 0x7f7ba399cd30>\n"
     ]
    },
    {
     "data": {
      "text/plain": [
       "2025-10-10 10:47:41,173 fedbiomed INFO - \u001b[1mSending request\u001b[0m \n",
       "\t\t\t\t\t\u001b[1m To\u001b[0m: NODE_CENTRALIZED \n",
       "\t\t\t\t\t\u001b[1m Request: \u001b[0m: TRAIN\n",
       " -----------------------------------------------------------------"
      ]
     },
     "metadata": {},
     "output_type": "display_data"
    },
    {
     "data": {
      "text/plain": [
       "2025-10-10 10:47:41,284 fedbiomed DEBUG - Node: NODE_CENTRALIZED polling for the tasks"
      ]
     },
     "metadata": {},
     "output_type": "display_data"
    },
    {
     "data": {
      "text/plain": [
       "2025-10-10 10:47:41,419 fedbiomed INFO - \u001b[1mTRAINING\u001b[0m \n",
       "\t\t\t\t\t NODE_ID: NODE_CENTRALIZED \n",
       "\t\t\t\t\t Round 2 | Iteration: 1/70 (1%) | Samples: 101/7000000\n",
       " \t\t\t\t\t Loss: \u001b[1m311.527863\u001b[0m \n",
       "\t\t\t\t\t ---------"
      ]
     },
     "metadata": {},
     "output_type": "display_data"
    },
    {
     "data": {
      "text/plain": [
       "2025-10-10 10:47:41,447 fedbiomed INFO - \u001b[1mTRAINING\u001b[0m \n",
       "\t\t\t\t\t NODE_ID: NODE_CENTRALIZED \n",
       "\t\t\t\t\t Round 2 | Iteration: 2/70 (3%) | Samples: 202/7000000\n",
       " \t\t\t\t\t Loss: \u001b[1m308.952423\u001b[0m \n",
       "\t\t\t\t\t ---------"
      ]
     },
     "metadata": {},
     "output_type": "display_data"
    },
    {
     "data": {
      "text/plain": [
       "2025-10-10 10:47:41,471 fedbiomed INFO - \u001b[1mTRAINING\u001b[0m \n",
       "\t\t\t\t\t NODE_ID: NODE_CENTRALIZED \n",
       "\t\t\t\t\t Round 2 | Iteration: 3/70 (4%) | Samples: 303/7000000\n",
       " \t\t\t\t\t Loss: \u001b[1m306.382233\u001b[0m \n",
       "\t\t\t\t\t ---------"
      ]
     },
     "metadata": {},
     "output_type": "display_data"
    },
    {
     "data": {
      "text/plain": [
       "2025-10-10 10:47:41,487 fedbiomed INFO - \u001b[1mTRAINING\u001b[0m \n",
       "\t\t\t\t\t NODE_ID: NODE_CENTRALIZED \n",
       "\t\t\t\t\t Round 2 | Iteration: 4/70 (6%) | Samples: 404/7000000\n",
       " \t\t\t\t\t Loss: \u001b[1m303.817322\u001b[0m \n",
       "\t\t\t\t\t ---------"
      ]
     },
     "metadata": {},
     "output_type": "display_data"
    },
    {
     "data": {
      "text/plain": [
       "2025-10-10 10:47:41,504 fedbiomed INFO - \u001b[1mTRAINING\u001b[0m \n",
       "\t\t\t\t\t NODE_ID: NODE_CENTRALIZED \n",
       "\t\t\t\t\t Round 2 | Iteration: 5/70 (7%) | Samples: 505/7000000\n",
       " \t\t\t\t\t Loss: \u001b[1m301.256348\u001b[0m \n",
       "\t\t\t\t\t ---------"
      ]
     },
     "metadata": {},
     "output_type": "display_data"
    },
    {
     "data": {
      "text/plain": [
       "2025-10-10 10:47:41,521 fedbiomed INFO - \u001b[1mTRAINING\u001b[0m \n",
       "\t\t\t\t\t NODE_ID: NODE_CENTRALIZED \n",
       "\t\t\t\t\t Round 2 | Iteration: 6/70 (9%) | Samples: 606/7000000\n",
       " \t\t\t\t\t Loss: \u001b[1m298.698212\u001b[0m \n",
       "\t\t\t\t\t ---------"
      ]
     },
     "metadata": {},
     "output_type": "display_data"
    },
    {
     "data": {
      "text/plain": [
       "2025-10-10 10:47:41,538 fedbiomed INFO - \u001b[1mTRAINING\u001b[0m \n",
       "\t\t\t\t\t NODE_ID: NODE_CENTRALIZED \n",
       "\t\t\t\t\t Round 2 | Iteration: 7/70 (10%) | Samples: 707/7000000\n",
       " \t\t\t\t\t Loss: \u001b[1m296.141357\u001b[0m \n",
       "\t\t\t\t\t ---------"
      ]
     },
     "metadata": {},
     "output_type": "display_data"
    },
    {
     "data": {
      "text/plain": [
       "2025-10-10 10:47:41,555 fedbiomed INFO - \u001b[1mTRAINING\u001b[0m \n",
       "\t\t\t\t\t NODE_ID: NODE_CENTRALIZED \n",
       "\t\t\t\t\t Round 2 | Iteration: 8/70 (11%) | Samples: 808/7000000\n",
       " \t\t\t\t\t Loss: \u001b[1m293.584747\u001b[0m \n",
       "\t\t\t\t\t ---------"
      ]
     },
     "metadata": {},
     "output_type": "display_data"
    },
    {
     "data": {
      "text/plain": [
       "2025-10-10 10:47:41,571 fedbiomed INFO - \u001b[1mTRAINING\u001b[0m \n",
       "\t\t\t\t\t NODE_ID: NODE_CENTRALIZED \n",
       "\t\t\t\t\t Round 2 | Iteration: 9/70 (13%) | Samples: 909/7000000\n",
       " \t\t\t\t\t Loss: \u001b[1m291.027954\u001b[0m \n",
       "\t\t\t\t\t ---------"
      ]
     },
     "metadata": {},
     "output_type": "display_data"
    },
    {
     "data": {
      "text/plain": [
       "2025-10-10 10:47:41,588 fedbiomed INFO - \u001b[1mTRAINING\u001b[0m \n",
       "\t\t\t\t\t NODE_ID: NODE_CENTRALIZED \n",
       "\t\t\t\t\t Round 2 | Iteration: 10/70 (14%) | Samples: 1010/7000000\n",
       " \t\t\t\t\t Loss: \u001b[1m288.470673\u001b[0m \n",
       "\t\t\t\t\t ---------"
      ]
     },
     "metadata": {},
     "output_type": "display_data"
    },
    {
     "data": {
      "text/plain": [
       "2025-10-10 10:47:41,606 fedbiomed INFO - \u001b[1mTRAINING\u001b[0m \n",
       "\t\t\t\t\t NODE_ID: NODE_CENTRALIZED \n",
       "\t\t\t\t\t Round 2 | Iteration: 11/70 (16%) | Samples: 1111/7000000\n",
       " \t\t\t\t\t Loss: \u001b[1m285.912659\u001b[0m \n",
       "\t\t\t\t\t ---------"
      ]
     },
     "metadata": {},
     "output_type": "display_data"
    },
    {
     "data": {
      "text/plain": [
       "2025-10-10 10:47:41,622 fedbiomed INFO - \u001b[1mTRAINING\u001b[0m \n",
       "\t\t\t\t\t NODE_ID: NODE_CENTRALIZED \n",
       "\t\t\t\t\t Round 2 | Iteration: 12/70 (17%) | Samples: 1212/7000000\n",
       " \t\t\t\t\t Loss: \u001b[1m283.354187\u001b[0m \n",
       "\t\t\t\t\t ---------"
      ]
     },
     "metadata": {},
     "output_type": "display_data"
    },
    {
     "data": {
      "text/plain": [
       "2025-10-10 10:47:41,638 fedbiomed INFO - \u001b[1mTRAINING\u001b[0m \n",
       "\t\t\t\t\t NODE_ID: NODE_CENTRALIZED \n",
       "\t\t\t\t\t Round 2 | Iteration: 13/70 (19%) | Samples: 1313/7000000\n",
       " \t\t\t\t\t Loss: \u001b[1m280.795624\u001b[0m \n",
       "\t\t\t\t\t ---------"
      ]
     },
     "metadata": {},
     "output_type": "display_data"
    },
    {
     "data": {
      "text/plain": [
       "2025-10-10 10:47:41,654 fedbiomed INFO - \u001b[1mTRAINING\u001b[0m \n",
       "\t\t\t\t\t NODE_ID: NODE_CENTRALIZED \n",
       "\t\t\t\t\t Round 2 | Iteration: 14/70 (20%) | Samples: 1414/7000000\n",
       " \t\t\t\t\t Loss: \u001b[1m278.237091\u001b[0m \n",
       "\t\t\t\t\t ---------"
      ]
     },
     "metadata": {},
     "output_type": "display_data"
    },
    {
     "data": {
      "text/plain": [
       "2025-10-10 10:47:41,671 fedbiomed INFO - \u001b[1mTRAINING\u001b[0m \n",
       "\t\t\t\t\t NODE_ID: NODE_CENTRALIZED \n",
       "\t\t\t\t\t Round 2 | Iteration: 15/70 (21%) | Samples: 1515/7000000\n",
       " \t\t\t\t\t Loss: \u001b[1m275.678772\u001b[0m \n",
       "\t\t\t\t\t ---------"
      ]
     },
     "metadata": {},
     "output_type": "display_data"
    },
    {
     "data": {
      "text/plain": [
       "2025-10-10 10:47:41,687 fedbiomed INFO - \u001b[1mTRAINING\u001b[0m \n",
       "\t\t\t\t\t NODE_ID: NODE_CENTRALIZED \n",
       "\t\t\t\t\t Round 2 | Iteration: 16/70 (23%) | Samples: 1616/7000000\n",
       " \t\t\t\t\t Loss: \u001b[1m273.120789\u001b[0m \n",
       "\t\t\t\t\t ---------"
      ]
     },
     "metadata": {},
     "output_type": "display_data"
    },
    {
     "data": {
      "text/plain": [
       "2025-10-10 10:47:41,705 fedbiomed INFO - \u001b[1mTRAINING\u001b[0m \n",
       "\t\t\t\t\t NODE_ID: NODE_CENTRALIZED \n",
       "\t\t\t\t\t Round 2 | Iteration: 17/70 (24%) | Samples: 1717/7000000\n",
       " \t\t\t\t\t Loss: \u001b[1m270.563110\u001b[0m \n",
       "\t\t\t\t\t ---------"
      ]
     },
     "metadata": {},
     "output_type": "display_data"
    },
    {
     "data": {
      "text/plain": [
       "2025-10-10 10:47:41,720 fedbiomed INFO - \u001b[1mTRAINING\u001b[0m \n",
       "\t\t\t\t\t NODE_ID: NODE_CENTRALIZED \n",
       "\t\t\t\t\t Round 2 | Iteration: 18/70 (26%) | Samples: 1818/7000000\n",
       " \t\t\t\t\t Loss: \u001b[1m268.005890\u001b[0m \n",
       "\t\t\t\t\t ---------"
      ]
     },
     "metadata": {},
     "output_type": "display_data"
    },
    {
     "data": {
      "text/plain": [
       "2025-10-10 10:47:41,737 fedbiomed INFO - \u001b[1mTRAINING\u001b[0m \n",
       "\t\t\t\t\t NODE_ID: NODE_CENTRALIZED \n",
       "\t\t\t\t\t Round 2 | Iteration: 19/70 (27%) | Samples: 1919/7000000\n",
       " \t\t\t\t\t Loss: \u001b[1m265.449066\u001b[0m \n",
       "\t\t\t\t\t ---------"
      ]
     },
     "metadata": {},
     "output_type": "display_data"
    },
    {
     "data": {
      "text/plain": [
       "2025-10-10 10:47:41,752 fedbiomed INFO - \u001b[1mTRAINING\u001b[0m \n",
       "\t\t\t\t\t NODE_ID: NODE_CENTRALIZED \n",
       "\t\t\t\t\t Round 2 | Iteration: 20/70 (29%) | Samples: 2020/7000000\n",
       " \t\t\t\t\t Loss: \u001b[1m262.892731\u001b[0m \n",
       "\t\t\t\t\t ---------"
      ]
     },
     "metadata": {},
     "output_type": "display_data"
    },
    {
     "data": {
      "text/plain": [
       "2025-10-10 10:47:41,769 fedbiomed INFO - \u001b[1mTRAINING\u001b[0m \n",
       "\t\t\t\t\t NODE_ID: NODE_CENTRALIZED \n",
       "\t\t\t\t\t Round 2 | Iteration: 21/70 (30%) | Samples: 2121/7000000\n",
       " \t\t\t\t\t Loss: \u001b[1m260.337158\u001b[0m \n",
       "\t\t\t\t\t ---------"
      ]
     },
     "metadata": {},
     "output_type": "display_data"
    },
    {
     "data": {
      "text/plain": [
       "2025-10-10 10:47:41,785 fedbiomed INFO - \u001b[1mTRAINING\u001b[0m \n",
       "\t\t\t\t\t NODE_ID: NODE_CENTRALIZED \n",
       "\t\t\t\t\t Round 2 | Iteration: 22/70 (31%) | Samples: 2222/7000000\n",
       " \t\t\t\t\t Loss: \u001b[1m257.782471\u001b[0m \n",
       "\t\t\t\t\t ---------"
      ]
     },
     "metadata": {},
     "output_type": "display_data"
    },
    {
     "data": {
      "text/plain": [
       "2025-10-10 10:47:41,801 fedbiomed INFO - \u001b[1mTRAINING\u001b[0m \n",
       "\t\t\t\t\t NODE_ID: NODE_CENTRALIZED \n",
       "\t\t\t\t\t Round 2 | Iteration: 23/70 (33%) | Samples: 2323/7000000\n",
       " \t\t\t\t\t Loss: \u001b[1m255.229401\u001b[0m \n",
       "\t\t\t\t\t ---------"
      ]
     },
     "metadata": {},
     "output_type": "display_data"
    },
    {
     "data": {
      "text/plain": [
       "2025-10-10 10:47:41,817 fedbiomed INFO - \u001b[1mTRAINING\u001b[0m \n",
       "\t\t\t\t\t NODE_ID: NODE_CENTRALIZED \n",
       "\t\t\t\t\t Round 2 | Iteration: 24/70 (34%) | Samples: 2424/7000000\n",
       " \t\t\t\t\t Loss: \u001b[1m252.677658\u001b[0m \n",
       "\t\t\t\t\t ---------"
      ]
     },
     "metadata": {},
     "output_type": "display_data"
    },
    {
     "data": {
      "text/plain": [
       "2025-10-10 10:47:41,834 fedbiomed INFO - \u001b[1mTRAINING\u001b[0m \n",
       "\t\t\t\t\t NODE_ID: NODE_CENTRALIZED \n",
       "\t\t\t\t\t Round 2 | Iteration: 25/70 (36%) | Samples: 2525/7000000\n",
       " \t\t\t\t\t Loss: \u001b[1m250.127228\u001b[0m \n",
       "\t\t\t\t\t ---------"
      ]
     },
     "metadata": {},
     "output_type": "display_data"
    },
    {
     "data": {
      "text/plain": [
       "2025-10-10 10:47:41,849 fedbiomed INFO - \u001b[1mTRAINING\u001b[0m \n",
       "\t\t\t\t\t NODE_ID: NODE_CENTRALIZED \n",
       "\t\t\t\t\t Round 2 | Iteration: 26/70 (37%) | Samples: 2626/7000000\n",
       " \t\t\t\t\t Loss: \u001b[1m247.578049\u001b[0m \n",
       "\t\t\t\t\t ---------"
      ]
     },
     "metadata": {},
     "output_type": "display_data"
    },
    {
     "data": {
      "text/plain": [
       "2025-10-10 10:47:41,865 fedbiomed INFO - \u001b[1mTRAINING\u001b[0m \n",
       "\t\t\t\t\t NODE_ID: NODE_CENTRALIZED \n",
       "\t\t\t\t\t Round 2 | Iteration: 27/70 (39%) | Samples: 2727/7000000\n",
       " \t\t\t\t\t Loss: \u001b[1m245.030121\u001b[0m \n",
       "\t\t\t\t\t ---------"
      ]
     },
     "metadata": {},
     "output_type": "display_data"
    },
    {
     "data": {
      "text/plain": [
       "2025-10-10 10:47:41,881 fedbiomed INFO - \u001b[1mTRAINING\u001b[0m \n",
       "\t\t\t\t\t NODE_ID: NODE_CENTRALIZED \n",
       "\t\t\t\t\t Round 2 | Iteration: 28/70 (40%) | Samples: 2828/7000000\n",
       " \t\t\t\t\t Loss: \u001b[1m242.483383\u001b[0m \n",
       "\t\t\t\t\t ---------"
      ]
     },
     "metadata": {},
     "output_type": "display_data"
    },
    {
     "data": {
      "text/plain": [
       "2025-10-10 10:47:41,897 fedbiomed INFO - \u001b[1mTRAINING\u001b[0m \n",
       "\t\t\t\t\t NODE_ID: NODE_CENTRALIZED \n",
       "\t\t\t\t\t Round 2 | Iteration: 29/70 (41%) | Samples: 2929/7000000\n",
       " \t\t\t\t\t Loss: \u001b[1m239.937683\u001b[0m \n",
       "\t\t\t\t\t ---------"
      ]
     },
     "metadata": {},
     "output_type": "display_data"
    },
    {
     "data": {
      "text/plain": [
       "2025-10-10 10:47:41,913 fedbiomed INFO - \u001b[1mTRAINING\u001b[0m \n",
       "\t\t\t\t\t NODE_ID: NODE_CENTRALIZED \n",
       "\t\t\t\t\t Round 2 | Iteration: 30/70 (43%) | Samples: 3030/7000000\n",
       " \t\t\t\t\t Loss: \u001b[1m237.392761\u001b[0m \n",
       "\t\t\t\t\t ---------"
      ]
     },
     "metadata": {},
     "output_type": "display_data"
    },
    {
     "data": {
      "text/plain": [
       "2025-10-10 10:47:41,929 fedbiomed INFO - \u001b[1mTRAINING\u001b[0m \n",
       "\t\t\t\t\t NODE_ID: NODE_CENTRALIZED \n",
       "\t\t\t\t\t Round 2 | Iteration: 31/70 (44%) | Samples: 3131/7000000\n",
       " \t\t\t\t\t Loss: \u001b[1m234.848587\u001b[0m \n",
       "\t\t\t\t\t ---------"
      ]
     },
     "metadata": {},
     "output_type": "display_data"
    },
    {
     "data": {
      "text/plain": [
       "2025-10-10 10:47:41,945 fedbiomed INFO - \u001b[1mTRAINING\u001b[0m \n",
       "\t\t\t\t\t NODE_ID: NODE_CENTRALIZED \n",
       "\t\t\t\t\t Round 2 | Iteration: 32/70 (46%) | Samples: 3232/7000000\n",
       " \t\t\t\t\t Loss: \u001b[1m232.304901\u001b[0m \n",
       "\t\t\t\t\t ---------"
      ]
     },
     "metadata": {},
     "output_type": "display_data"
    },
    {
     "data": {
      "text/plain": [
       "2025-10-10 10:47:41,961 fedbiomed INFO - \u001b[1mTRAINING\u001b[0m \n",
       "\t\t\t\t\t NODE_ID: NODE_CENTRALIZED \n",
       "\t\t\t\t\t Round 2 | Iteration: 33/70 (47%) | Samples: 3333/7000000\n",
       " \t\t\t\t\t Loss: \u001b[1m229.761566\u001b[0m \n",
       "\t\t\t\t\t ---------"
      ]
     },
     "metadata": {},
     "output_type": "display_data"
    },
    {
     "data": {
      "text/plain": [
       "2025-10-10 10:47:41,977 fedbiomed INFO - \u001b[1mTRAINING\u001b[0m \n",
       "\t\t\t\t\t NODE_ID: NODE_CENTRALIZED \n",
       "\t\t\t\t\t Round 2 | Iteration: 34/70 (49%) | Samples: 3434/7000000\n",
       " \t\t\t\t\t Loss: \u001b[1m227.218445\u001b[0m \n",
       "\t\t\t\t\t ---------"
      ]
     },
     "metadata": {},
     "output_type": "display_data"
    },
    {
     "data": {
      "text/plain": [
       "2025-10-10 10:47:41,993 fedbiomed INFO - \u001b[1mTRAINING\u001b[0m \n",
       "\t\t\t\t\t NODE_ID: NODE_CENTRALIZED \n",
       "\t\t\t\t\t Round 2 | Iteration: 35/70 (50%) | Samples: 3535/7000000\n",
       " \t\t\t\t\t Loss: \u001b[1m224.675186\u001b[0m \n",
       "\t\t\t\t\t ---------"
      ]
     },
     "metadata": {},
     "output_type": "display_data"
    },
    {
     "data": {
      "text/plain": [
       "2025-10-10 10:47:42,009 fedbiomed INFO - \u001b[1mTRAINING\u001b[0m \n",
       "\t\t\t\t\t NODE_ID: NODE_CENTRALIZED \n",
       "\t\t\t\t\t Round 2 | Iteration: 36/70 (51%) | Samples: 3636/7000000\n",
       " \t\t\t\t\t Loss: \u001b[1m222.131683\u001b[0m \n",
       "\t\t\t\t\t ---------"
      ]
     },
     "metadata": {},
     "output_type": "display_data"
    },
    {
     "data": {
      "text/plain": [
       "2025-10-10 10:47:42,025 fedbiomed INFO - \u001b[1mTRAINING\u001b[0m \n",
       "\t\t\t\t\t NODE_ID: NODE_CENTRALIZED \n",
       "\t\t\t\t\t Round 2 | Iteration: 37/70 (53%) | Samples: 3737/7000000\n",
       " \t\t\t\t\t Loss: \u001b[1m219.587784\u001b[0m \n",
       "\t\t\t\t\t ---------"
      ]
     },
     "metadata": {},
     "output_type": "display_data"
    },
    {
     "data": {
      "text/plain": [
       "2025-10-10 10:47:42,041 fedbiomed INFO - \u001b[1mTRAINING\u001b[0m \n",
       "\t\t\t\t\t NODE_ID: NODE_CENTRALIZED \n",
       "\t\t\t\t\t Round 2 | Iteration: 38/70 (54%) | Samples: 3838/7000000\n",
       " \t\t\t\t\t Loss: \u001b[1m217.043457\u001b[0m \n",
       "\t\t\t\t\t ---------"
      ]
     },
     "metadata": {},
     "output_type": "display_data"
    },
    {
     "data": {
      "text/plain": [
       "2025-10-10 10:47:42,057 fedbiomed INFO - \u001b[1mTRAINING\u001b[0m \n",
       "\t\t\t\t\t NODE_ID: NODE_CENTRALIZED \n",
       "\t\t\t\t\t Round 2 | Iteration: 39/70 (56%) | Samples: 3939/7000000\n",
       " \t\t\t\t\t Loss: \u001b[1m214.498688\u001b[0m \n",
       "\t\t\t\t\t ---------"
      ]
     },
     "metadata": {},
     "output_type": "display_data"
    },
    {
     "data": {
      "text/plain": [
       "2025-10-10 10:47:42,073 fedbiomed INFO - \u001b[1mTRAINING\u001b[0m \n",
       "\t\t\t\t\t NODE_ID: NODE_CENTRALIZED \n",
       "\t\t\t\t\t Round 2 | Iteration: 40/70 (57%) | Samples: 4040/7000000\n",
       " \t\t\t\t\t Loss: \u001b[1m211.953415\u001b[0m \n",
       "\t\t\t\t\t ---------"
      ]
     },
     "metadata": {},
     "output_type": "display_data"
    },
    {
     "data": {
      "text/plain": [
       "2025-10-10 10:47:42,089 fedbiomed INFO - \u001b[1mTRAINING\u001b[0m \n",
       "\t\t\t\t\t NODE_ID: NODE_CENTRALIZED \n",
       "\t\t\t\t\t Round 2 | Iteration: 41/70 (59%) | Samples: 4141/7000000\n",
       " \t\t\t\t\t Loss: \u001b[1m209.407684\u001b[0m \n",
       "\t\t\t\t\t ---------"
      ]
     },
     "metadata": {},
     "output_type": "display_data"
    },
    {
     "data": {
      "text/plain": [
       "2025-10-10 10:47:42,106 fedbiomed INFO - \u001b[1mTRAINING\u001b[0m \n",
       "\t\t\t\t\t NODE_ID: NODE_CENTRALIZED \n",
       "\t\t\t\t\t Round 2 | Iteration: 42/70 (60%) | Samples: 4242/7000000\n",
       " \t\t\t\t\t Loss: \u001b[1m206.861496\u001b[0m \n",
       "\t\t\t\t\t ---------"
      ]
     },
     "metadata": {},
     "output_type": "display_data"
    },
    {
     "data": {
      "text/plain": [
       "2025-10-10 10:47:42,124 fedbiomed INFO - \u001b[1mTRAINING\u001b[0m \n",
       "\t\t\t\t\t NODE_ID: NODE_CENTRALIZED \n",
       "\t\t\t\t\t Round 2 | Iteration: 43/70 (61%) | Samples: 4343/7000000\n",
       " \t\t\t\t\t Loss: \u001b[1m204.314957\u001b[0m \n",
       "\t\t\t\t\t ---------"
      ]
     },
     "metadata": {},
     "output_type": "display_data"
    },
    {
     "data": {
      "text/plain": [
       "2025-10-10 10:47:42,140 fedbiomed INFO - \u001b[1mTRAINING\u001b[0m \n",
       "\t\t\t\t\t NODE_ID: NODE_CENTRALIZED \n",
       "\t\t\t\t\t Round 2 | Iteration: 44/70 (63%) | Samples: 4444/7000000\n",
       " \t\t\t\t\t Loss: \u001b[1m201.768158\u001b[0m \n",
       "\t\t\t\t\t ---------"
      ]
     },
     "metadata": {},
     "output_type": "display_data"
    },
    {
     "data": {
      "text/plain": [
       "2025-10-10 10:47:42,160 fedbiomed INFO - \u001b[1mTRAINING\u001b[0m \n",
       "\t\t\t\t\t NODE_ID: NODE_CENTRALIZED \n",
       "\t\t\t\t\t Round 2 | Iteration: 45/70 (64%) | Samples: 4545/7000000\n",
       " \t\t\t\t\t Loss: \u001b[1m199.221344\u001b[0m \n",
       "\t\t\t\t\t ---------"
      ]
     },
     "metadata": {},
     "output_type": "display_data"
    },
    {
     "data": {
      "text/plain": [
       "2025-10-10 10:47:42,177 fedbiomed INFO - \u001b[1mTRAINING\u001b[0m \n",
       "\t\t\t\t\t NODE_ID: NODE_CENTRALIZED \n",
       "\t\t\t\t\t Round 2 | Iteration: 46/70 (66%) | Samples: 4646/7000000\n",
       " \t\t\t\t\t Loss: \u001b[1m196.674667\u001b[0m \n",
       "\t\t\t\t\t ---------"
      ]
     },
     "metadata": {},
     "output_type": "display_data"
    },
    {
     "data": {
      "text/plain": [
       "2025-10-10 10:47:42,193 fedbiomed INFO - \u001b[1mTRAINING\u001b[0m \n",
       "\t\t\t\t\t NODE_ID: NODE_CENTRALIZED \n",
       "\t\t\t\t\t Round 2 | Iteration: 47/70 (67%) | Samples: 4747/7000000\n",
       " \t\t\t\t\t Loss: \u001b[1m194.128418\u001b[0m \n",
       "\t\t\t\t\t ---------"
      ]
     },
     "metadata": {},
     "output_type": "display_data"
    },
    {
     "data": {
      "text/plain": [
       "2025-10-10 10:47:42,209 fedbiomed INFO - \u001b[1mTRAINING\u001b[0m \n",
       "\t\t\t\t\t NODE_ID: NODE_CENTRALIZED \n",
       "\t\t\t\t\t Round 2 | Iteration: 48/70 (69%) | Samples: 4848/7000000\n",
       " \t\t\t\t\t Loss: \u001b[1m191.582901\u001b[0m \n",
       "\t\t\t\t\t ---------"
      ]
     },
     "metadata": {},
     "output_type": "display_data"
    },
    {
     "data": {
      "text/plain": [
       "2025-10-10 10:47:42,226 fedbiomed INFO - \u001b[1mTRAINING\u001b[0m \n",
       "\t\t\t\t\t NODE_ID: NODE_CENTRALIZED \n",
       "\t\t\t\t\t Round 2 | Iteration: 49/70 (70%) | Samples: 4949/7000000\n",
       " \t\t\t\t\t Loss: \u001b[1m189.038422\u001b[0m \n",
       "\t\t\t\t\t ---------"
      ]
     },
     "metadata": {},
     "output_type": "display_data"
    },
    {
     "data": {
      "text/plain": [
       "2025-10-10 10:47:42,243 fedbiomed INFO - \u001b[1mTRAINING\u001b[0m \n",
       "\t\t\t\t\t NODE_ID: NODE_CENTRALIZED \n",
       "\t\t\t\t\t Round 2 | Iteration: 50/70 (71%) | Samples: 5050/7000000\n",
       " \t\t\t\t\t Loss: \u001b[1m186.495453\u001b[0m \n",
       "\t\t\t\t\t ---------"
      ]
     },
     "metadata": {},
     "output_type": "display_data"
    },
    {
     "data": {
      "text/plain": [
       "2025-10-10 10:47:42,261 fedbiomed INFO - \u001b[1mTRAINING\u001b[0m \n",
       "\t\t\t\t\t NODE_ID: NODE_CENTRALIZED \n",
       "\t\t\t\t\t Round 2 | Iteration: 51/70 (73%) | Samples: 5151/7000000\n",
       " \t\t\t\t\t Loss: \u001b[1m183.954239\u001b[0m \n",
       "\t\t\t\t\t ---------"
      ]
     },
     "metadata": {},
     "output_type": "display_data"
    },
    {
     "data": {
      "text/plain": [
       "2025-10-10 10:47:42,279 fedbiomed INFO - \u001b[1mTRAINING\u001b[0m \n",
       "\t\t\t\t\t NODE_ID: NODE_CENTRALIZED \n",
       "\t\t\t\t\t Round 2 | Iteration: 52/70 (74%) | Samples: 5252/7000000\n",
       " \t\t\t\t\t Loss: \u001b[1m181.415207\u001b[0m \n",
       "\t\t\t\t\t ---------"
      ]
     },
     "metadata": {},
     "output_type": "display_data"
    },
    {
     "data": {
      "text/plain": [
       "2025-10-10 10:47:42,300 fedbiomed INFO - \u001b[1mTRAINING\u001b[0m \n",
       "\t\t\t\t\t NODE_ID: NODE_CENTRALIZED \n",
       "\t\t\t\t\t Round 2 | Iteration: 53/70 (76%) | Samples: 5353/7000000\n",
       " \t\t\t\t\t Loss: \u001b[1m178.878754\u001b[0m \n",
       "\t\t\t\t\t ---------"
      ]
     },
     "metadata": {},
     "output_type": "display_data"
    },
    {
     "data": {
      "text/plain": [
       "2025-10-10 10:47:42,316 fedbiomed INFO - \u001b[1mTRAINING\u001b[0m \n",
       "\t\t\t\t\t NODE_ID: NODE_CENTRALIZED \n",
       "\t\t\t\t\t Round 2 | Iteration: 54/70 (77%) | Samples: 5454/7000000\n",
       " \t\t\t\t\t Loss: \u001b[1m176.345215\u001b[0m \n",
       "\t\t\t\t\t ---------"
      ]
     },
     "metadata": {},
     "output_type": "display_data"
    },
    {
     "data": {
      "text/plain": [
       "2025-10-10 10:47:42,332 fedbiomed INFO - \u001b[1mTRAINING\u001b[0m \n",
       "\t\t\t\t\t NODE_ID: NODE_CENTRALIZED \n",
       "\t\t\t\t\t Round 2 | Iteration: 55/70 (79%) | Samples: 5555/7000000\n",
       " \t\t\t\t\t Loss: \u001b[1m173.814941\u001b[0m \n",
       "\t\t\t\t\t ---------"
      ]
     },
     "metadata": {},
     "output_type": "display_data"
    },
    {
     "data": {
      "text/plain": [
       "2025-10-10 10:47:42,352 fedbiomed INFO - \u001b[1mTRAINING\u001b[0m \n",
       "\t\t\t\t\t NODE_ID: NODE_CENTRALIZED \n",
       "\t\t\t\t\t Round 2 | Iteration: 56/70 (80%) | Samples: 5656/7000000\n",
       " \t\t\t\t\t Loss: \u001b[1m171.288391\u001b[0m \n",
       "\t\t\t\t\t ---------"
      ]
     },
     "metadata": {},
     "output_type": "display_data"
    },
    {
     "data": {
      "text/plain": [
       "2025-10-10 10:47:42,368 fedbiomed INFO - \u001b[1mTRAINING\u001b[0m \n",
       "\t\t\t\t\t NODE_ID: NODE_CENTRALIZED \n",
       "\t\t\t\t\t Round 2 | Iteration: 57/70 (81%) | Samples: 5757/7000000\n",
       " \t\t\t\t\t Loss: \u001b[1m168.765762\u001b[0m \n",
       "\t\t\t\t\t ---------"
      ]
     },
     "metadata": {},
     "output_type": "display_data"
    },
    {
     "data": {
      "text/plain": [
       "2025-10-10 10:47:42,385 fedbiomed INFO - \u001b[1mTRAINING\u001b[0m \n",
       "\t\t\t\t\t NODE_ID: NODE_CENTRALIZED \n",
       "\t\t\t\t\t Round 2 | Iteration: 58/70 (83%) | Samples: 5858/7000000\n",
       " \t\t\t\t\t Loss: \u001b[1m166.247421\u001b[0m \n",
       "\t\t\t\t\t ---------"
      ]
     },
     "metadata": {},
     "output_type": "display_data"
    },
    {
     "data": {
      "text/plain": [
       "2025-10-10 10:47:42,401 fedbiomed INFO - \u001b[1mTRAINING\u001b[0m \n",
       "\t\t\t\t\t NODE_ID: NODE_CENTRALIZED \n",
       "\t\t\t\t\t Round 2 | Iteration: 59/70 (84%) | Samples: 5959/7000000\n",
       " \t\t\t\t\t Loss: \u001b[1m163.733688\u001b[0m \n",
       "\t\t\t\t\t ---------"
      ]
     },
     "metadata": {},
     "output_type": "display_data"
    },
    {
     "data": {
      "text/plain": [
       "2025-10-10 10:47:42,416 fedbiomed INFO - \u001b[1mTRAINING\u001b[0m \n",
       "\t\t\t\t\t NODE_ID: NODE_CENTRALIZED \n",
       "\t\t\t\t\t Round 2 | Iteration: 60/70 (86%) | Samples: 6060/7000000\n",
       " \t\t\t\t\t Loss: \u001b[1m161.224838\u001b[0m \n",
       "\t\t\t\t\t ---------"
      ]
     },
     "metadata": {},
     "output_type": "display_data"
    },
    {
     "data": {
      "text/plain": [
       "2025-10-10 10:47:42,432 fedbiomed INFO - \u001b[1mTRAINING\u001b[0m \n",
       "\t\t\t\t\t NODE_ID: NODE_CENTRALIZED \n",
       "\t\t\t\t\t Round 2 | Iteration: 61/70 (87%) | Samples: 6161/7000000\n",
       " \t\t\t\t\t Loss: \u001b[1m158.721161\u001b[0m \n",
       "\t\t\t\t\t ---------"
      ]
     },
     "metadata": {},
     "output_type": "display_data"
    },
    {
     "data": {
      "text/plain": [
       "2025-10-10 10:47:42,448 fedbiomed INFO - \u001b[1mTRAINING\u001b[0m \n",
       "\t\t\t\t\t NODE_ID: NODE_CENTRALIZED \n",
       "\t\t\t\t\t Round 2 | Iteration: 62/70 (89%) | Samples: 6262/7000000\n",
       " \t\t\t\t\t Loss: \u001b[1m156.222961\u001b[0m \n",
       "\t\t\t\t\t ---------"
      ]
     },
     "metadata": {},
     "output_type": "display_data"
    },
    {
     "data": {
      "text/plain": [
       "2025-10-10 10:47:42,463 fedbiomed INFO - \u001b[1mTRAINING\u001b[0m \n",
       "\t\t\t\t\t NODE_ID: NODE_CENTRALIZED \n",
       "\t\t\t\t\t Round 2 | Iteration: 63/70 (90%) | Samples: 6363/7000000\n",
       " \t\t\t\t\t Loss: \u001b[1m153.730469\u001b[0m \n",
       "\t\t\t\t\t ---------"
      ]
     },
     "metadata": {},
     "output_type": "display_data"
    },
    {
     "data": {
      "text/plain": [
       "2025-10-10 10:47:42,479 fedbiomed INFO - \u001b[1mTRAINING\u001b[0m \n",
       "\t\t\t\t\t NODE_ID: NODE_CENTRALIZED \n",
       "\t\t\t\t\t Round 2 | Iteration: 64/70 (91%) | Samples: 6464/7000000\n",
       " \t\t\t\t\t Loss: \u001b[1m151.244019\u001b[0m \n",
       "\t\t\t\t\t ---------"
      ]
     },
     "metadata": {},
     "output_type": "display_data"
    },
    {
     "data": {
      "text/plain": [
       "2025-10-10 10:47:42,495 fedbiomed INFO - \u001b[1mTRAINING\u001b[0m \n",
       "\t\t\t\t\t NODE_ID: NODE_CENTRALIZED \n",
       "\t\t\t\t\t Round 2 | Iteration: 65/70 (93%) | Samples: 6565/7000000\n",
       " \t\t\t\t\t Loss: \u001b[1m148.763763\u001b[0m \n",
       "\t\t\t\t\t ---------"
      ]
     },
     "metadata": {},
     "output_type": "display_data"
    },
    {
     "data": {
      "text/plain": [
       "2025-10-10 10:47:42,510 fedbiomed INFO - \u001b[1mTRAINING\u001b[0m \n",
       "\t\t\t\t\t NODE_ID: NODE_CENTRALIZED \n",
       "\t\t\t\t\t Round 2 | Iteration: 66/70 (94%) | Samples: 6666/7000000\n",
       " \t\t\t\t\t Loss: \u001b[1m146.289963\u001b[0m \n",
       "\t\t\t\t\t ---------"
      ]
     },
     "metadata": {},
     "output_type": "display_data"
    },
    {
     "data": {
      "text/plain": [
       "2025-10-10 10:47:42,527 fedbiomed INFO - \u001b[1mTRAINING\u001b[0m \n",
       "\t\t\t\t\t NODE_ID: NODE_CENTRALIZED \n",
       "\t\t\t\t\t Round 2 | Iteration: 67/70 (96%) | Samples: 6767/7000000\n",
       " \t\t\t\t\t Loss: \u001b[1m143.822769\u001b[0m \n",
       "\t\t\t\t\t ---------"
      ]
     },
     "metadata": {},
     "output_type": "display_data"
    },
    {
     "data": {
      "text/plain": [
       "2025-10-10 10:47:42,543 fedbiomed INFO - \u001b[1mTRAINING\u001b[0m \n",
       "\t\t\t\t\t NODE_ID: NODE_CENTRALIZED \n",
       "\t\t\t\t\t Round 2 | Iteration: 68/70 (97%) | Samples: 6868/7000000\n",
       " \t\t\t\t\t Loss: \u001b[1m141.362366\u001b[0m \n",
       "\t\t\t\t\t ---------"
      ]
     },
     "metadata": {},
     "output_type": "display_data"
    },
    {
     "data": {
      "text/plain": [
       "2025-10-10 10:47:42,559 fedbiomed INFO - \u001b[1mTRAINING\u001b[0m \n",
       "\t\t\t\t\t NODE_ID: NODE_CENTRALIZED \n",
       "\t\t\t\t\t Round 2 | Iteration: 69/70 (99%) | Samples: 6969/7000000\n",
       " \t\t\t\t\t Loss: \u001b[1m138.908905\u001b[0m \n",
       "\t\t\t\t\t ---------"
      ]
     },
     "metadata": {},
     "output_type": "display_data"
    },
    {
     "data": {
      "text/plain": [
       "2025-10-10 10:47:42,576 fedbiomed INFO - \u001b[1mTRAINING\u001b[0m \n",
       "\t\t\t\t\t NODE_ID: NODE_CENTRALIZED \n",
       "\t\t\t\t\t Round 2 | Iteration: 70/70 (100%) | Samples: 7070/7000000\n",
       " \t\t\t\t\t Loss: \u001b[1m136.462509\u001b[0m \n",
       "\t\t\t\t\t ---------"
      ]
     },
     "metadata": {},
     "output_type": "display_data"
    },
    {
     "data": {
      "text/plain": [
       "2025-10-10 10:47:42,719 fedbiomed INFO - Nodes that successfully reply in round 1 ['NODE_CENTRALIZED']"
      ]
     },
     "metadata": {},
     "output_type": "display_data"
    },
    {
     "data": {
      "text/plain": [
       "2025-10-10 10:47:42,749 fedbiomed INFO - Sampled nodes in round 2 ['NODE_CENTRALIZED']"
      ]
     },
     "metadata": {},
     "output_type": "display_data"
    },
    {
     "name": "stdout",
     "output_type": "stream",
     "text": [
      "<function extract_symbols at 0x7f7ba399cd30>\n"
     ]
    },
    {
     "data": {
      "text/plain": [
       "2025-10-10 10:47:42,773 fedbiomed INFO - \u001b[1mSending request\u001b[0m \n",
       "\t\t\t\t\t\u001b[1m To\u001b[0m: NODE_CENTRALIZED \n",
       "\t\t\t\t\t\u001b[1m Request: \u001b[0m: TRAIN\n",
       " -----------------------------------------------------------------"
      ]
     },
     "metadata": {},
     "output_type": "display_data"
    },
    {
     "data": {
      "text/plain": [
       "2025-10-10 10:47:42,834 fedbiomed DEBUG - Node: NODE_CENTRALIZED polling for the tasks"
      ]
     },
     "metadata": {},
     "output_type": "display_data"
    },
    {
     "data": {
      "text/plain": [
       "2025-10-10 10:47:42,918 fedbiomed INFO - \u001b[1mTRAINING\u001b[0m \n",
       "\t\t\t\t\t NODE_ID: NODE_CENTRALIZED \n",
       "\t\t\t\t\t Round 3 | Iteration: 1/70 (1%) | Samples: 101/7000000\n",
       " \t\t\t\t\t Loss: \u001b[1m134.023285\u001b[0m \n",
       "\t\t\t\t\t ---------"
      ]
     },
     "metadata": {},
     "output_type": "display_data"
    },
    {
     "data": {
      "text/plain": [
       "2025-10-10 10:47:42,933 fedbiomed INFO - \u001b[1mTRAINING\u001b[0m \n",
       "\t\t\t\t\t NODE_ID: NODE_CENTRALIZED \n",
       "\t\t\t\t\t Round 3 | Iteration: 2/70 (3%) | Samples: 202/7000000\n",
       " \t\t\t\t\t Loss: \u001b[1m131.587143\u001b[0m \n",
       "\t\t\t\t\t ---------"
      ]
     },
     "metadata": {},
     "output_type": "display_data"
    },
    {
     "data": {
      "text/plain": [
       "2025-10-10 10:47:42,949 fedbiomed INFO - \u001b[1mTRAINING\u001b[0m \n",
       "\t\t\t\t\t NODE_ID: NODE_CENTRALIZED \n",
       "\t\t\t\t\t Round 3 | Iteration: 3/70 (4%) | Samples: 303/7000000\n",
       " \t\t\t\t\t Loss: \u001b[1m129.148590\u001b[0m \n",
       "\t\t\t\t\t ---------"
      ]
     },
     "metadata": {},
     "output_type": "display_data"
    },
    {
     "data": {
      "text/plain": [
       "2025-10-10 10:47:42,967 fedbiomed INFO - \u001b[1mTRAINING\u001b[0m \n",
       "\t\t\t\t\t NODE_ID: NODE_CENTRALIZED \n",
       "\t\t\t\t\t Round 3 | Iteration: 4/70 (6%) | Samples: 404/7000000\n",
       " \t\t\t\t\t Loss: \u001b[1m126.722633\u001b[0m \n",
       "\t\t\t\t\t ---------"
      ]
     },
     "metadata": {},
     "output_type": "display_data"
    },
    {
     "data": {
      "text/plain": [
       "2025-10-10 10:47:42,983 fedbiomed INFO - \u001b[1mTRAINING\u001b[0m \n",
       "\t\t\t\t\t NODE_ID: NODE_CENTRALIZED \n",
       "\t\t\t\t\t Round 3 | Iteration: 5/70 (7%) | Samples: 505/7000000\n",
       " \t\t\t\t\t Loss: \u001b[1m124.301697\u001b[0m \n",
       "\t\t\t\t\t ---------"
      ]
     },
     "metadata": {},
     "output_type": "display_data"
    },
    {
     "data": {
      "text/plain": [
       "2025-10-10 10:47:42,998 fedbiomed INFO - \u001b[1mTRAINING\u001b[0m \n",
       "\t\t\t\t\t NODE_ID: NODE_CENTRALIZED \n",
       "\t\t\t\t\t Round 3 | Iteration: 6/70 (9%) | Samples: 606/7000000\n",
       " \t\t\t\t\t Loss: \u001b[1m121.883720\u001b[0m \n",
       "\t\t\t\t\t ---------"
      ]
     },
     "metadata": {},
     "output_type": "display_data"
    },
    {
     "data": {
      "text/plain": [
       "2025-10-10 10:47:43,014 fedbiomed INFO - \u001b[1mTRAINING\u001b[0m \n",
       "\t\t\t\t\t NODE_ID: NODE_CENTRALIZED \n",
       "\t\t\t\t\t Round 3 | Iteration: 7/70 (10%) | Samples: 707/7000000\n",
       " \t\t\t\t\t Loss: \u001b[1m119.471611\u001b[0m \n",
       "\t\t\t\t\t ---------"
      ]
     },
     "metadata": {},
     "output_type": "display_data"
    },
    {
     "data": {
      "text/plain": [
       "2025-10-10 10:47:43,030 fedbiomed INFO - \u001b[1mTRAINING\u001b[0m \n",
       "\t\t\t\t\t NODE_ID: NODE_CENTRALIZED \n",
       "\t\t\t\t\t Round 3 | Iteration: 8/70 (11%) | Samples: 808/7000000\n",
       " \t\t\t\t\t Loss: \u001b[1m117.067123\u001b[0m \n",
       "\t\t\t\t\t ---------"
      ]
     },
     "metadata": {},
     "output_type": "display_data"
    },
    {
     "data": {
      "text/plain": [
       "2025-10-10 10:47:43,045 fedbiomed INFO - \u001b[1mTRAINING\u001b[0m \n",
       "\t\t\t\t\t NODE_ID: NODE_CENTRALIZED \n",
       "\t\t\t\t\t Round 3 | Iteration: 9/70 (13%) | Samples: 909/7000000\n",
       " \t\t\t\t\t Loss: \u001b[1m114.668976\u001b[0m \n",
       "\t\t\t\t\t ---------"
      ]
     },
     "metadata": {},
     "output_type": "display_data"
    },
    {
     "data": {
      "text/plain": [
       "2025-10-10 10:47:43,061 fedbiomed INFO - \u001b[1mTRAINING\u001b[0m \n",
       "\t\t\t\t\t NODE_ID: NODE_CENTRALIZED \n",
       "\t\t\t\t\t Round 3 | Iteration: 10/70 (14%) | Samples: 1010/7000000\n",
       " \t\t\t\t\t Loss: \u001b[1m112.275383\u001b[0m \n",
       "\t\t\t\t\t ---------"
      ]
     },
     "metadata": {},
     "output_type": "display_data"
    },
    {
     "data": {
      "text/plain": [
       "2025-10-10 10:47:43,077 fedbiomed INFO - \u001b[1mTRAINING\u001b[0m \n",
       "\t\t\t\t\t NODE_ID: NODE_CENTRALIZED \n",
       "\t\t\t\t\t Round 3 | Iteration: 11/70 (16%) | Samples: 1111/7000000\n",
       " \t\t\t\t\t Loss: \u001b[1m109.885735\u001b[0m \n",
       "\t\t\t\t\t ---------"
      ]
     },
     "metadata": {},
     "output_type": "display_data"
    },
    {
     "data": {
      "text/plain": [
       "2025-10-10 10:47:43,093 fedbiomed INFO - \u001b[1mTRAINING\u001b[0m \n",
       "\t\t\t\t\t NODE_ID: NODE_CENTRALIZED \n",
       "\t\t\t\t\t Round 3 | Iteration: 12/70 (17%) | Samples: 1212/7000000\n",
       " \t\t\t\t\t Loss: \u001b[1m107.499710\u001b[0m \n",
       "\t\t\t\t\t ---------"
      ]
     },
     "metadata": {},
     "output_type": "display_data"
    },
    {
     "data": {
      "text/plain": [
       "2025-10-10 10:47:43,109 fedbiomed INFO - \u001b[1mTRAINING\u001b[0m \n",
       "\t\t\t\t\t NODE_ID: NODE_CENTRALIZED \n",
       "\t\t\t\t\t Round 3 | Iteration: 13/70 (19%) | Samples: 1313/7000000\n",
       " \t\t\t\t\t Loss: \u001b[1m105.117393\u001b[0m \n",
       "\t\t\t\t\t ---------"
      ]
     },
     "metadata": {},
     "output_type": "display_data"
    },
    {
     "data": {
      "text/plain": [
       "2025-10-10 10:47:43,124 fedbiomed INFO - \u001b[1mTRAINING\u001b[0m \n",
       "\t\t\t\t\t NODE_ID: NODE_CENTRALIZED \n",
       "\t\t\t\t\t Round 3 | Iteration: 14/70 (20%) | Samples: 1414/7000000\n",
       " \t\t\t\t\t Loss: \u001b[1m102.738998\u001b[0m \n",
       "\t\t\t\t\t ---------"
      ]
     },
     "metadata": {},
     "output_type": "display_data"
    },
    {
     "data": {
      "text/plain": [
       "2025-10-10 10:47:43,141 fedbiomed INFO - \u001b[1mTRAINING\u001b[0m \n",
       "\t\t\t\t\t NODE_ID: NODE_CENTRALIZED \n",
       "\t\t\t\t\t Round 3 | Iteration: 15/70 (21%) | Samples: 1515/7000000\n",
       " \t\t\t\t\t Loss: \u001b[1m100.364410\u001b[0m \n",
       "\t\t\t\t\t ---------"
      ]
     },
     "metadata": {},
     "output_type": "display_data"
    },
    {
     "data": {
      "text/plain": [
       "2025-10-10 10:47:43,156 fedbiomed INFO - \u001b[1mTRAINING\u001b[0m \n",
       "\t\t\t\t\t NODE_ID: NODE_CENTRALIZED \n",
       "\t\t\t\t\t Round 3 | Iteration: 16/70 (23%) | Samples: 1616/7000000\n",
       " \t\t\t\t\t Loss: \u001b[1m97.993317\u001b[0m \n",
       "\t\t\t\t\t ---------"
      ]
     },
     "metadata": {},
     "output_type": "display_data"
    },
    {
     "data": {
      "text/plain": [
       "2025-10-10 10:47:43,172 fedbiomed INFO - \u001b[1mTRAINING\u001b[0m \n",
       "\t\t\t\t\t NODE_ID: NODE_CENTRALIZED \n",
       "\t\t\t\t\t Round 3 | Iteration: 17/70 (24%) | Samples: 1717/7000000\n",
       " \t\t\t\t\t Loss: \u001b[1m95.625366\u001b[0m \n",
       "\t\t\t\t\t ---------"
      ]
     },
     "metadata": {},
     "output_type": "display_data"
    },
    {
     "data": {
      "text/plain": [
       "2025-10-10 10:47:43,187 fedbiomed INFO - \u001b[1mTRAINING\u001b[0m \n",
       "\t\t\t\t\t NODE_ID: NODE_CENTRALIZED \n",
       "\t\t\t\t\t Round 3 | Iteration: 18/70 (26%) | Samples: 1818/7000000\n",
       " \t\t\t\t\t Loss: \u001b[1m93.260117\u001b[0m \n",
       "\t\t\t\t\t ---------"
      ]
     },
     "metadata": {},
     "output_type": "display_data"
    },
    {
     "data": {
      "text/plain": [
       "2025-10-10 10:47:43,203 fedbiomed INFO - \u001b[1mTRAINING\u001b[0m \n",
       "\t\t\t\t\t NODE_ID: NODE_CENTRALIZED \n",
       "\t\t\t\t\t Round 3 | Iteration: 19/70 (27%) | Samples: 1919/7000000\n",
       " \t\t\t\t\t Loss: \u001b[1m90.897476\u001b[0m \n",
       "\t\t\t\t\t ---------"
      ]
     },
     "metadata": {},
     "output_type": "display_data"
    },
    {
     "data": {
      "text/plain": [
       "2025-10-10 10:47:43,219 fedbiomed INFO - \u001b[1mTRAINING\u001b[0m \n",
       "\t\t\t\t\t NODE_ID: NODE_CENTRALIZED \n",
       "\t\t\t\t\t Round 3 | Iteration: 20/70 (29%) | Samples: 2020/7000000\n",
       " \t\t\t\t\t Loss: \u001b[1m88.537392\u001b[0m \n",
       "\t\t\t\t\t ---------"
      ]
     },
     "metadata": {},
     "output_type": "display_data"
    },
    {
     "data": {
      "text/plain": [
       "2025-10-10 10:47:43,234 fedbiomed INFO - \u001b[1mTRAINING\u001b[0m \n",
       "\t\t\t\t\t NODE_ID: NODE_CENTRALIZED \n",
       "\t\t\t\t\t Round 3 | Iteration: 21/70 (30%) | Samples: 2121/7000000\n",
       " \t\t\t\t\t Loss: \u001b[1m86.179169\u001b[0m \n",
       "\t\t\t\t\t ---------"
      ]
     },
     "metadata": {},
     "output_type": "display_data"
    },
    {
     "data": {
      "text/plain": [
       "2025-10-10 10:47:43,250 fedbiomed INFO - \u001b[1mTRAINING\u001b[0m \n",
       "\t\t\t\t\t NODE_ID: NODE_CENTRALIZED \n",
       "\t\t\t\t\t Round 3 | Iteration: 22/70 (31%) | Samples: 2222/7000000\n",
       " \t\t\t\t\t Loss: \u001b[1m83.822334\u001b[0m \n",
       "\t\t\t\t\t ---------"
      ]
     },
     "metadata": {},
     "output_type": "display_data"
    },
    {
     "data": {
      "text/plain": [
       "2025-10-10 10:47:43,266 fedbiomed INFO - \u001b[1mTRAINING\u001b[0m \n",
       "\t\t\t\t\t NODE_ID: NODE_CENTRALIZED \n",
       "\t\t\t\t\t Round 3 | Iteration: 23/70 (33%) | Samples: 2323/7000000\n",
       " \t\t\t\t\t Loss: \u001b[1m81.466461\u001b[0m \n",
       "\t\t\t\t\t ---------"
      ]
     },
     "metadata": {},
     "output_type": "display_data"
    },
    {
     "data": {
      "text/plain": [
       "2025-10-10 10:47:43,281 fedbiomed INFO - \u001b[1mTRAINING\u001b[0m \n",
       "\t\t\t\t\t NODE_ID: NODE_CENTRALIZED \n",
       "\t\t\t\t\t Round 3 | Iteration: 24/70 (34%) | Samples: 2424/7000000\n",
       " \t\t\t\t\t Loss: \u001b[1m79.111023\u001b[0m \n",
       "\t\t\t\t\t ---------"
      ]
     },
     "metadata": {},
     "output_type": "display_data"
    },
    {
     "data": {
      "text/plain": [
       "2025-10-10 10:47:43,297 fedbiomed INFO - \u001b[1mTRAINING\u001b[0m \n",
       "\t\t\t\t\t NODE_ID: NODE_CENTRALIZED \n",
       "\t\t\t\t\t Round 3 | Iteration: 25/70 (36%) | Samples: 2525/7000000\n",
       " \t\t\t\t\t Loss: \u001b[1m76.755707\u001b[0m \n",
       "\t\t\t\t\t ---------"
      ]
     },
     "metadata": {},
     "output_type": "display_data"
    },
    {
     "data": {
      "text/plain": [
       "2025-10-10 10:47:43,313 fedbiomed INFO - \u001b[1mTRAINING\u001b[0m \n",
       "\t\t\t\t\t NODE_ID: NODE_CENTRALIZED \n",
       "\t\t\t\t\t Round 3 | Iteration: 26/70 (37%) | Samples: 2626/7000000\n",
       " \t\t\t\t\t Loss: \u001b[1m74.400116\u001b[0m \n",
       "\t\t\t\t\t ---------"
      ]
     },
     "metadata": {},
     "output_type": "display_data"
    },
    {
     "data": {
      "text/plain": [
       "2025-10-10 10:47:43,329 fedbiomed INFO - \u001b[1mTRAINING\u001b[0m \n",
       "\t\t\t\t\t NODE_ID: NODE_CENTRALIZED \n",
       "\t\t\t\t\t Round 3 | Iteration: 27/70 (39%) | Samples: 2727/7000000\n",
       " \t\t\t\t\t Loss: \u001b[1m72.043953\u001b[0m \n",
       "\t\t\t\t\t ---------"
      ]
     },
     "metadata": {},
     "output_type": "display_data"
    },
    {
     "data": {
      "text/plain": [
       "2025-10-10 10:47:43,344 fedbiomed INFO - \u001b[1mTRAINING\u001b[0m \n",
       "\t\t\t\t\t NODE_ID: NODE_CENTRALIZED \n",
       "\t\t\t\t\t Round 3 | Iteration: 28/70 (40%) | Samples: 2828/7000000\n",
       " \t\t\t\t\t Loss: \u001b[1m69.686928\u001b[0m \n",
       "\t\t\t\t\t ---------"
      ]
     },
     "metadata": {},
     "output_type": "display_data"
    },
    {
     "data": {
      "text/plain": [
       "2025-10-10 10:47:43,360 fedbiomed INFO - \u001b[1mTRAINING\u001b[0m \n",
       "\t\t\t\t\t NODE_ID: NODE_CENTRALIZED \n",
       "\t\t\t\t\t Round 3 | Iteration: 29/70 (41%) | Samples: 2929/7000000\n",
       " \t\t\t\t\t Loss: \u001b[1m67.329018\u001b[0m \n",
       "\t\t\t\t\t ---------"
      ]
     },
     "metadata": {},
     "output_type": "display_data"
    },
    {
     "data": {
      "text/plain": [
       "2025-10-10 10:47:43,375 fedbiomed INFO - \u001b[1mTRAINING\u001b[0m \n",
       "\t\t\t\t\t NODE_ID: NODE_CENTRALIZED \n",
       "\t\t\t\t\t Round 3 | Iteration: 30/70 (43%) | Samples: 3030/7000000\n",
       " \t\t\t\t\t Loss: \u001b[1m64.970085\u001b[0m \n",
       "\t\t\t\t\t ---------"
      ]
     },
     "metadata": {},
     "output_type": "display_data"
    },
    {
     "data": {
      "text/plain": [
       "2025-10-10 10:47:43,392 fedbiomed INFO - \u001b[1mTRAINING\u001b[0m \n",
       "\t\t\t\t\t NODE_ID: NODE_CENTRALIZED \n",
       "\t\t\t\t\t Round 3 | Iteration: 31/70 (44%) | Samples: 3131/7000000\n",
       " \t\t\t\t\t Loss: \u001b[1m62.610142\u001b[0m \n",
       "\t\t\t\t\t ---------"
      ]
     },
     "metadata": {},
     "output_type": "display_data"
    },
    {
     "data": {
      "text/plain": [
       "2025-10-10 10:47:43,408 fedbiomed INFO - \u001b[1mTRAINING\u001b[0m \n",
       "\t\t\t\t\t NODE_ID: NODE_CENTRALIZED \n",
       "\t\t\t\t\t Round 3 | Iteration: 32/70 (46%) | Samples: 3232/7000000\n",
       " \t\t\t\t\t Loss: \u001b[1m60.249165\u001b[0m \n",
       "\t\t\t\t\t ---------"
      ]
     },
     "metadata": {},
     "output_type": "display_data"
    },
    {
     "data": {
      "text/plain": [
       "2025-10-10 10:47:43,423 fedbiomed INFO - \u001b[1mTRAINING\u001b[0m \n",
       "\t\t\t\t\t NODE_ID: NODE_CENTRALIZED \n",
       "\t\t\t\t\t Round 3 | Iteration: 33/70 (47%) | Samples: 3333/7000000\n",
       " \t\t\t\t\t Loss: \u001b[1m57.887142\u001b[0m \n",
       "\t\t\t\t\t ---------"
      ]
     },
     "metadata": {},
     "output_type": "display_data"
    },
    {
     "data": {
      "text/plain": [
       "2025-10-10 10:47:43,439 fedbiomed INFO - \u001b[1mTRAINING\u001b[0m \n",
       "\t\t\t\t\t NODE_ID: NODE_CENTRALIZED \n",
       "\t\t\t\t\t Round 3 | Iteration: 34/70 (49%) | Samples: 3434/7000000\n",
       " \t\t\t\t\t Loss: \u001b[1m55.524059\u001b[0m \n",
       "\t\t\t\t\t ---------"
      ]
     },
     "metadata": {},
     "output_type": "display_data"
    },
    {
     "data": {
      "text/plain": [
       "2025-10-10 10:47:43,455 fedbiomed INFO - \u001b[1mTRAINING\u001b[0m \n",
       "\t\t\t\t\t NODE_ID: NODE_CENTRALIZED \n",
       "\t\t\t\t\t Round 3 | Iteration: 35/70 (50%) | Samples: 3535/7000000\n",
       " \t\t\t\t\t Loss: \u001b[1m53.159874\u001b[0m \n",
       "\t\t\t\t\t ---------"
      ]
     },
     "metadata": {},
     "output_type": "display_data"
    },
    {
     "data": {
      "text/plain": [
       "2025-10-10 10:47:43,471 fedbiomed INFO - \u001b[1mTRAINING\u001b[0m \n",
       "\t\t\t\t\t NODE_ID: NODE_CENTRALIZED \n",
       "\t\t\t\t\t Round 3 | Iteration: 36/70 (51%) | Samples: 3636/7000000\n",
       " \t\t\t\t\t Loss: \u001b[1m50.794567\u001b[0m \n",
       "\t\t\t\t\t ---------"
      ]
     },
     "metadata": {},
     "output_type": "display_data"
    },
    {
     "data": {
      "text/plain": [
       "2025-10-10 10:47:43,486 fedbiomed INFO - \u001b[1mTRAINING\u001b[0m \n",
       "\t\t\t\t\t NODE_ID: NODE_CENTRALIZED \n",
       "\t\t\t\t\t Round 3 | Iteration: 37/70 (53%) | Samples: 3737/7000000\n",
       " \t\t\t\t\t Loss: \u001b[1m48.428024\u001b[0m \n",
       "\t\t\t\t\t ---------"
      ]
     },
     "metadata": {},
     "output_type": "display_data"
    },
    {
     "data": {
      "text/plain": [
       "2025-10-10 10:47:43,502 fedbiomed INFO - \u001b[1mTRAINING\u001b[0m \n",
       "\t\t\t\t\t NODE_ID: NODE_CENTRALIZED \n",
       "\t\t\t\t\t Round 3 | Iteration: 38/70 (54%) | Samples: 3838/7000000\n",
       " \t\t\t\t\t Loss: \u001b[1m46.060192\u001b[0m \n",
       "\t\t\t\t\t ---------"
      ]
     },
     "metadata": {},
     "output_type": "display_data"
    },
    {
     "data": {
      "text/plain": [
       "2025-10-10 10:47:43,518 fedbiomed INFO - \u001b[1mTRAINING\u001b[0m \n",
       "\t\t\t\t\t NODE_ID: NODE_CENTRALIZED \n",
       "\t\t\t\t\t Round 3 | Iteration: 39/70 (56%) | Samples: 3939/7000000\n",
       " \t\t\t\t\t Loss: \u001b[1m43.690979\u001b[0m \n",
       "\t\t\t\t\t ---------"
      ]
     },
     "metadata": {},
     "output_type": "display_data"
    },
    {
     "data": {
      "text/plain": [
       "2025-10-10 10:47:43,534 fedbiomed INFO - \u001b[1mTRAINING\u001b[0m \n",
       "\t\t\t\t\t NODE_ID: NODE_CENTRALIZED \n",
       "\t\t\t\t\t Round 3 | Iteration: 40/70 (57%) | Samples: 4040/7000000\n",
       " \t\t\t\t\t Loss: \u001b[1m41.320259\u001b[0m \n",
       "\t\t\t\t\t ---------"
      ]
     },
     "metadata": {},
     "output_type": "display_data"
    },
    {
     "data": {
      "text/plain": [
       "2025-10-10 10:47:43,549 fedbiomed INFO - \u001b[1mTRAINING\u001b[0m \n",
       "\t\t\t\t\t NODE_ID: NODE_CENTRALIZED \n",
       "\t\t\t\t\t Round 3 | Iteration: 41/70 (59%) | Samples: 4141/7000000\n",
       " \t\t\t\t\t Loss: \u001b[1m38.947861\u001b[0m \n",
       "\t\t\t\t\t ---------"
      ]
     },
     "metadata": {},
     "output_type": "display_data"
    },
    {
     "data": {
      "text/plain": [
       "2025-10-10 10:47:43,565 fedbiomed INFO - \u001b[1mTRAINING\u001b[0m \n",
       "\t\t\t\t\t NODE_ID: NODE_CENTRALIZED \n",
       "\t\t\t\t\t Round 3 | Iteration: 42/70 (60%) | Samples: 4242/7000000\n",
       " \t\t\t\t\t Loss: \u001b[1m36.573696\u001b[0m \n",
       "\t\t\t\t\t ---------"
      ]
     },
     "metadata": {},
     "output_type": "display_data"
    },
    {
     "data": {
      "text/plain": [
       "2025-10-10 10:47:43,581 fedbiomed INFO - \u001b[1mTRAINING\u001b[0m \n",
       "\t\t\t\t\t NODE_ID: NODE_CENTRALIZED \n",
       "\t\t\t\t\t Round 3 | Iteration: 43/70 (61%) | Samples: 4343/7000000\n",
       " \t\t\t\t\t Loss: \u001b[1m34.197552\u001b[0m \n",
       "\t\t\t\t\t ---------"
      ]
     },
     "metadata": {},
     "output_type": "display_data"
    },
    {
     "data": {
      "text/plain": [
       "2025-10-10 10:47:43,596 fedbiomed INFO - \u001b[1mTRAINING\u001b[0m \n",
       "\t\t\t\t\t NODE_ID: NODE_CENTRALIZED \n",
       "\t\t\t\t\t Round 3 | Iteration: 44/70 (63%) | Samples: 4444/7000000\n",
       " \t\t\t\t\t Loss: \u001b[1m31.819216\u001b[0m \n",
       "\t\t\t\t\t ---------"
      ]
     },
     "metadata": {},
     "output_type": "display_data"
    },
    {
     "data": {
      "text/plain": [
       "2025-10-10 10:47:43,612 fedbiomed INFO - \u001b[1mTRAINING\u001b[0m \n",
       "\t\t\t\t\t NODE_ID: NODE_CENTRALIZED \n",
       "\t\t\t\t\t Round 3 | Iteration: 45/70 (64%) | Samples: 4545/7000000\n",
       " \t\t\t\t\t Loss: \u001b[1m29.438562\u001b[0m \n",
       "\t\t\t\t\t ---------"
      ]
     },
     "metadata": {},
     "output_type": "display_data"
    },
    {
     "data": {
      "text/plain": [
       "2025-10-10 10:47:43,627 fedbiomed INFO - \u001b[1mTRAINING\u001b[0m \n",
       "\t\t\t\t\t NODE_ID: NODE_CENTRALIZED \n",
       "\t\t\t\t\t Round 3 | Iteration: 46/70 (66%) | Samples: 4646/7000000\n",
       " \t\t\t\t\t Loss: \u001b[1m27.055441\u001b[0m \n",
       "\t\t\t\t\t ---------"
      ]
     },
     "metadata": {},
     "output_type": "display_data"
    },
    {
     "data": {
      "text/plain": [
       "2025-10-10 10:47:43,643 fedbiomed INFO - \u001b[1mTRAINING\u001b[0m \n",
       "\t\t\t\t\t NODE_ID: NODE_CENTRALIZED \n",
       "\t\t\t\t\t Round 3 | Iteration: 47/70 (67%) | Samples: 4747/7000000\n",
       " \t\t\t\t\t Loss: \u001b[1m24.669750\u001b[0m \n",
       "\t\t\t\t\t ---------"
      ]
     },
     "metadata": {},
     "output_type": "display_data"
    },
    {
     "data": {
      "text/plain": [
       "2025-10-10 10:47:43,659 fedbiomed INFO - \u001b[1mTRAINING\u001b[0m \n",
       "\t\t\t\t\t NODE_ID: NODE_CENTRALIZED \n",
       "\t\t\t\t\t Round 3 | Iteration: 48/70 (69%) | Samples: 4848/7000000\n",
       " \t\t\t\t\t Loss: \u001b[1m22.281338\u001b[0m \n",
       "\t\t\t\t\t ---------"
      ]
     },
     "metadata": {},
     "output_type": "display_data"
    },
    {
     "data": {
      "text/plain": [
       "2025-10-10 10:47:43,675 fedbiomed INFO - \u001b[1mTRAINING\u001b[0m \n",
       "\t\t\t\t\t NODE_ID: NODE_CENTRALIZED \n",
       "\t\t\t\t\t Round 3 | Iteration: 49/70 (70%) | Samples: 4949/7000000\n",
       " \t\t\t\t\t Loss: \u001b[1m19.890150\u001b[0m \n",
       "\t\t\t\t\t ---------"
      ]
     },
     "metadata": {},
     "output_type": "display_data"
    },
    {
     "data": {
      "text/plain": [
       "2025-10-10 10:47:43,690 fedbiomed INFO - \u001b[1mTRAINING\u001b[0m \n",
       "\t\t\t\t\t NODE_ID: NODE_CENTRALIZED \n",
       "\t\t\t\t\t Round 3 | Iteration: 50/70 (71%) | Samples: 5050/7000000\n",
       " \t\t\t\t\t Loss: \u001b[1m17.496038\u001b[0m \n",
       "\t\t\t\t\t ---------"
      ]
     },
     "metadata": {},
     "output_type": "display_data"
    },
    {
     "data": {
      "text/plain": [
       "2025-10-10 10:47:43,706 fedbiomed INFO - \u001b[1mTRAINING\u001b[0m \n",
       "\t\t\t\t\t NODE_ID: NODE_CENTRALIZED \n",
       "\t\t\t\t\t Round 3 | Iteration: 51/70 (73%) | Samples: 5151/7000000\n",
       " \t\t\t\t\t Loss: \u001b[1m15.099062\u001b[0m \n",
       "\t\t\t\t\t ---------"
      ]
     },
     "metadata": {},
     "output_type": "display_data"
    },
    {
     "data": {
      "text/plain": [
       "2025-10-10 10:47:43,721 fedbiomed INFO - \u001b[1mTRAINING\u001b[0m \n",
       "\t\t\t\t\t NODE_ID: NODE_CENTRALIZED \n",
       "\t\t\t\t\t Round 3 | Iteration: 52/70 (74%) | Samples: 5252/7000000\n",
       " \t\t\t\t\t Loss: \u001b[1m12.698998\u001b[0m \n",
       "\t\t\t\t\t ---------"
      ]
     },
     "metadata": {},
     "output_type": "display_data"
    },
    {
     "data": {
      "text/plain": [
       "2025-10-10 10:47:43,737 fedbiomed INFO - \u001b[1mTRAINING\u001b[0m \n",
       "\t\t\t\t\t NODE_ID: NODE_CENTRALIZED \n",
       "\t\t\t\t\t Round 3 | Iteration: 53/70 (76%) | Samples: 5353/7000000\n",
       " \t\t\t\t\t Loss: \u001b[1m10.295980\u001b[0m \n",
       "\t\t\t\t\t ---------"
      ]
     },
     "metadata": {},
     "output_type": "display_data"
    },
    {
     "data": {
      "text/plain": [
       "2025-10-10 10:47:43,754 fedbiomed INFO - \u001b[1mTRAINING\u001b[0m \n",
       "\t\t\t\t\t NODE_ID: NODE_CENTRALIZED \n",
       "\t\t\t\t\t Round 3 | Iteration: 54/70 (77%) | Samples: 5454/7000000\n",
       " \t\t\t\t\t Loss: \u001b[1m7.889885\u001b[0m \n",
       "\t\t\t\t\t ---------"
      ]
     },
     "metadata": {},
     "output_type": "display_data"
    },
    {
     "data": {
      "text/plain": [
       "2025-10-10 10:47:43,770 fedbiomed INFO - \u001b[1mTRAINING\u001b[0m \n",
       "\t\t\t\t\t NODE_ID: NODE_CENTRALIZED \n",
       "\t\t\t\t\t Round 3 | Iteration: 55/70 (79%) | Samples: 5555/7000000\n",
       " \t\t\t\t\t Loss: \u001b[1m5.480724\u001b[0m \n",
       "\t\t\t\t\t ---------"
      ]
     },
     "metadata": {},
     "output_type": "display_data"
    },
    {
     "data": {
      "text/plain": [
       "2025-10-10 10:47:43,786 fedbiomed INFO - \u001b[1mTRAINING\u001b[0m \n",
       "\t\t\t\t\t NODE_ID: NODE_CENTRALIZED \n",
       "\t\t\t\t\t Round 3 | Iteration: 56/70 (80%) | Samples: 5656/7000000\n",
       " \t\t\t\t\t Loss: \u001b[1m3.068433\u001b[0m \n",
       "\t\t\t\t\t ---------"
      ]
     },
     "metadata": {},
     "output_type": "display_data"
    },
    {
     "data": {
      "text/plain": [
       "2025-10-10 10:47:43,802 fedbiomed INFO - \u001b[1mTRAINING\u001b[0m \n",
       "\t\t\t\t\t NODE_ID: NODE_CENTRALIZED \n",
       "\t\t\t\t\t Round 3 | Iteration: 57/70 (81%) | Samples: 5757/7000000\n",
       " \t\t\t\t\t Loss: \u001b[1m0.652978\u001b[0m \n",
       "\t\t\t\t\t ---------"
      ]
     },
     "metadata": {},
     "output_type": "display_data"
    },
    {
     "data": {
      "text/plain": [
       "2025-10-10 10:47:43,819 fedbiomed INFO - \u001b[1mTRAINING\u001b[0m \n",
       "\t\t\t\t\t NODE_ID: NODE_CENTRALIZED \n",
       "\t\t\t\t\t Round 3 | Iteration: 58/70 (83%) | Samples: 5858/7000000\n",
       " \t\t\t\t\t Loss: \u001b[1m-1.765457\u001b[0m \n",
       "\t\t\t\t\t ---------"
      ]
     },
     "metadata": {},
     "output_type": "display_data"
    },
    {
     "data": {
      "text/plain": [
       "2025-10-10 10:47:43,834 fedbiomed INFO - \u001b[1mTRAINING\u001b[0m \n",
       "\t\t\t\t\t NODE_ID: NODE_CENTRALIZED \n",
       "\t\t\t\t\t Round 3 | Iteration: 59/70 (84%) | Samples: 5959/7000000\n",
       " \t\t\t\t\t Loss: \u001b[1m-4.186835\u001b[0m \n",
       "\t\t\t\t\t ---------"
      ]
     },
     "metadata": {},
     "output_type": "display_data"
    },
    {
     "data": {
      "text/plain": [
       "2025-10-10 10:47:43,851 fedbiomed INFO - \u001b[1mTRAINING\u001b[0m \n",
       "\t\t\t\t\t NODE_ID: NODE_CENTRALIZED \n",
       "\t\t\t\t\t Round 3 | Iteration: 60/70 (86%) | Samples: 6060/7000000\n",
       " \t\t\t\t\t Loss: \u001b[1m-6.611526\u001b[0m \n",
       "\t\t\t\t\t ---------"
      ]
     },
     "metadata": {},
     "output_type": "display_data"
    },
    {
     "data": {
      "text/plain": [
       "2025-10-10 10:47:43,866 fedbiomed INFO - \u001b[1mTRAINING\u001b[0m \n",
       "\t\t\t\t\t NODE_ID: NODE_CENTRALIZED \n",
       "\t\t\t\t\t Round 3 | Iteration: 61/70 (87%) | Samples: 6161/7000000\n",
       " \t\t\t\t\t Loss: \u001b[1m-9.040521\u001b[0m \n",
       "\t\t\t\t\t ---------"
      ]
     },
     "metadata": {},
     "output_type": "display_data"
    },
    {
     "data": {
      "text/plain": [
       "2025-10-10 10:47:43,881 fedbiomed INFO - \u001b[1mTRAINING\u001b[0m \n",
       "\t\t\t\t\t NODE_ID: NODE_CENTRALIZED \n",
       "\t\t\t\t\t Round 3 | Iteration: 62/70 (89%) | Samples: 6262/7000000\n",
       " \t\t\t\t\t Loss: \u001b[1m-11.471883\u001b[0m \n",
       "\t\t\t\t\t ---------"
      ]
     },
     "metadata": {},
     "output_type": "display_data"
    },
    {
     "data": {
      "text/plain": [
       "2025-10-10 10:47:43,897 fedbiomed INFO - \u001b[1mTRAINING\u001b[0m \n",
       "\t\t\t\t\t NODE_ID: NODE_CENTRALIZED \n",
       "\t\t\t\t\t Round 3 | Iteration: 63/70 (90%) | Samples: 6363/7000000\n",
       " \t\t\t\t\t Loss: \u001b[1m-13.905571\u001b[0m \n",
       "\t\t\t\t\t ---------"
      ]
     },
     "metadata": {},
     "output_type": "display_data"
    },
    {
     "data": {
      "text/plain": [
       "2025-10-10 10:47:43,913 fedbiomed INFO - \u001b[1mTRAINING\u001b[0m \n",
       "\t\t\t\t\t NODE_ID: NODE_CENTRALIZED \n",
       "\t\t\t\t\t Round 3 | Iteration: 64/70 (91%) | Samples: 6464/7000000\n",
       " \t\t\t\t\t Loss: \u001b[1m-16.343454\u001b[0m \n",
       "\t\t\t\t\t ---------"
      ]
     },
     "metadata": {},
     "output_type": "display_data"
    },
    {
     "data": {
      "text/plain": [
       "2025-10-10 10:47:43,929 fedbiomed INFO - \u001b[1mTRAINING\u001b[0m \n",
       "\t\t\t\t\t NODE_ID: NODE_CENTRALIZED \n",
       "\t\t\t\t\t Round 3 | Iteration: 65/70 (93%) | Samples: 6565/7000000\n",
       " \t\t\t\t\t Loss: \u001b[1m-18.783909\u001b[0m \n",
       "\t\t\t\t\t ---------"
      ]
     },
     "metadata": {},
     "output_type": "display_data"
    },
    {
     "data": {
      "text/plain": [
       "2025-10-10 10:47:43,944 fedbiomed INFO - \u001b[1mTRAINING\u001b[0m \n",
       "\t\t\t\t\t NODE_ID: NODE_CENTRALIZED \n",
       "\t\t\t\t\t Round 3 | Iteration: 66/70 (94%) | Samples: 6666/7000000\n",
       " \t\t\t\t\t Loss: \u001b[1m-21.226398\u001b[0m \n",
       "\t\t\t\t\t ---------"
      ]
     },
     "metadata": {},
     "output_type": "display_data"
    },
    {
     "data": {
      "text/plain": [
       "2025-10-10 10:47:43,960 fedbiomed INFO - \u001b[1mTRAINING\u001b[0m \n",
       "\t\t\t\t\t NODE_ID: NODE_CENTRALIZED \n",
       "\t\t\t\t\t Round 3 | Iteration: 67/70 (96%) | Samples: 6767/7000000\n",
       " \t\t\t\t\t Loss: \u001b[1m-23.672232\u001b[0m \n",
       "\t\t\t\t\t ---------"
      ]
     },
     "metadata": {},
     "output_type": "display_data"
    },
    {
     "data": {
      "text/plain": [
       "2025-10-10 10:47:43,976 fedbiomed INFO - \u001b[1mTRAINING\u001b[0m \n",
       "\t\t\t\t\t NODE_ID: NODE_CENTRALIZED \n",
       "\t\t\t\t\t Round 3 | Iteration: 68/70 (97%) | Samples: 6868/7000000\n",
       " \t\t\t\t\t Loss: \u001b[1m-26.120867\u001b[0m \n",
       "\t\t\t\t\t ---------"
      ]
     },
     "metadata": {},
     "output_type": "display_data"
    },
    {
     "data": {
      "text/plain": [
       "2025-10-10 10:47:44,000 fedbiomed INFO - \u001b[1mTRAINING\u001b[0m \n",
       "\t\t\t\t\t NODE_ID: NODE_CENTRALIZED \n",
       "\t\t\t\t\t Round 3 | Iteration: 69/70 (99%) | Samples: 6969/7000000\n",
       " \t\t\t\t\t Loss: \u001b[1m-28.571196\u001b[0m \n",
       "\t\t\t\t\t ---------"
      ]
     },
     "metadata": {},
     "output_type": "display_data"
    },
    {
     "data": {
      "text/plain": [
       "2025-10-10 10:47:44,015 fedbiomed INFO - \u001b[1mTRAINING\u001b[0m \n",
       "\t\t\t\t\t NODE_ID: NODE_CENTRALIZED \n",
       "\t\t\t\t\t Round 3 | Iteration: 70/70 (100%) | Samples: 7070/7000000\n",
       " \t\t\t\t\t Loss: \u001b[1m-31.023949\u001b[0m \n",
       "\t\t\t\t\t ---------"
      ]
     },
     "metadata": {},
     "output_type": "display_data"
    },
    {
     "data": {
      "text/plain": [
       "2025-10-10 10:47:44,233 fedbiomed INFO - Nodes that successfully reply in round 2 ['NODE_CENTRALIZED']"
      ]
     },
     "metadata": {},
     "output_type": "display_data"
    },
    {
     "data": {
      "text/plain": [
       "2025-10-10 10:47:44,391 fedbiomed INFO - Sampled nodes in round 3 ['NODE_CENTRALIZED']"
      ]
     },
     "metadata": {},
     "output_type": "display_data"
    },
    {
     "name": "stdout",
     "output_type": "stream",
     "text": [
      "<function extract_symbols at 0x7f7ba399cd30>\n"
     ]
    },
    {
     "data": {
      "text/plain": [
       "2025-10-10 10:47:44,433 fedbiomed INFO - \u001b[1mSending request\u001b[0m \n",
       "\t\t\t\t\t\u001b[1m To\u001b[0m: NODE_CENTRALIZED \n",
       "\t\t\t\t\t\u001b[1m Request: \u001b[0m: TRAIN\n",
       " -----------------------------------------------------------------"
      ]
     },
     "metadata": {},
     "output_type": "display_data"
    },
    {
     "data": {
      "text/plain": [
       "2025-10-10 10:47:44,550 fedbiomed DEBUG - Node: NODE_CENTRALIZED polling for the tasks"
      ]
     },
     "metadata": {},
     "output_type": "display_data"
    },
    {
     "data": {
      "text/plain": [
       "2025-10-10 10:47:44,664 fedbiomed INFO - \u001b[1mTRAINING\u001b[0m \n",
       "\t\t\t\t\t NODE_ID: NODE_CENTRALIZED \n",
       "\t\t\t\t\t Round 4 | Iteration: 1/70 (1%) | Samples: 101/7000000\n",
       " \t\t\t\t\t Loss: \u001b[1m-33.479546\u001b[0m \n",
       "\t\t\t\t\t ---------"
      ]
     },
     "metadata": {},
     "output_type": "display_data"
    },
    {
     "data": {
      "text/plain": [
       "2025-10-10 10:47:44,685 fedbiomed INFO - \u001b[1mTRAINING\u001b[0m \n",
       "\t\t\t\t\t NODE_ID: NODE_CENTRALIZED \n",
       "\t\t\t\t\t Round 4 | Iteration: 2/70 (3%) | Samples: 202/7000000\n",
       " \t\t\t\t\t Loss: \u001b[1m-35.794289\u001b[0m \n",
       "\t\t\t\t\t ---------"
      ]
     },
     "metadata": {},
     "output_type": "display_data"
    },
    {
     "data": {
      "text/plain": [
       "2025-10-10 10:47:44,708 fedbiomed INFO - \u001b[1mTRAINING\u001b[0m \n",
       "\t\t\t\t\t NODE_ID: NODE_CENTRALIZED \n",
       "\t\t\t\t\t Round 4 | Iteration: 3/70 (4%) | Samples: 303/7000000\n",
       " \t\t\t\t\t Loss: \u001b[1m-38.269699\u001b[0m \n",
       "\t\t\t\t\t ---------"
      ]
     },
     "metadata": {},
     "output_type": "display_data"
    },
    {
     "data": {
      "text/plain": [
       "2025-10-10 10:47:44,727 fedbiomed INFO - \u001b[1mTRAINING\u001b[0m \n",
       "\t\t\t\t\t NODE_ID: NODE_CENTRALIZED \n",
       "\t\t\t\t\t Round 4 | Iteration: 4/70 (6%) | Samples: 404/7000000\n",
       " \t\t\t\t\t Loss: \u001b[1m-40.666088\u001b[0m \n",
       "\t\t\t\t\t ---------"
      ]
     },
     "metadata": {},
     "output_type": "display_data"
    },
    {
     "data": {
      "text/plain": [
       "2025-10-10 10:47:44,743 fedbiomed INFO - \u001b[1mTRAINING\u001b[0m \n",
       "\t\t\t\t\t NODE_ID: NODE_CENTRALIZED \n",
       "\t\t\t\t\t Round 4 | Iteration: 5/70 (7%) | Samples: 505/7000000\n",
       " \t\t\t\t\t Loss: \u001b[1m-43.044376\u001b[0m \n",
       "\t\t\t\t\t ---------"
      ]
     },
     "metadata": {},
     "output_type": "display_data"
    },
    {
     "data": {
      "text/plain": [
       "2025-10-10 10:47:44,758 fedbiomed INFO - \u001b[1mTRAINING\u001b[0m \n",
       "\t\t\t\t\t NODE_ID: NODE_CENTRALIZED \n",
       "\t\t\t\t\t Round 4 | Iteration: 6/70 (9%) | Samples: 606/7000000\n",
       " \t\t\t\t\t Loss: \u001b[1m-45.452126\u001b[0m \n",
       "\t\t\t\t\t ---------"
      ]
     },
     "metadata": {},
     "output_type": "display_data"
    },
    {
     "data": {
      "text/plain": [
       "2025-10-10 10:47:44,775 fedbiomed INFO - \u001b[1mTRAINING\u001b[0m \n",
       "\t\t\t\t\t NODE_ID: NODE_CENTRALIZED \n",
       "\t\t\t\t\t Round 4 | Iteration: 7/70 (10%) | Samples: 707/7000000\n",
       " \t\t\t\t\t Loss: \u001b[1m-47.871788\u001b[0m \n",
       "\t\t\t\t\t ---------"
      ]
     },
     "metadata": {},
     "output_type": "display_data"
    },
    {
     "data": {
      "text/plain": [
       "2025-10-10 10:47:44,791 fedbiomed INFO - \u001b[1mTRAINING\u001b[0m \n",
       "\t\t\t\t\t NODE_ID: NODE_CENTRALIZED \n",
       "\t\t\t\t\t Round 4 | Iteration: 8/70 (11%) | Samples: 808/7000000\n",
       " \t\t\t\t\t Loss: \u001b[1m-50.279114\u001b[0m \n",
       "\t\t\t\t\t ---------"
      ]
     },
     "metadata": {},
     "output_type": "display_data"
    },
    {
     "data": {
      "text/plain": [
       "2025-10-10 10:47:44,807 fedbiomed INFO - \u001b[1mTRAINING\u001b[0m \n",
       "\t\t\t\t\t NODE_ID: NODE_CENTRALIZED \n",
       "\t\t\t\t\t Round 4 | Iteration: 9/70 (13%) | Samples: 909/7000000\n",
       " \t\t\t\t\t Loss: \u001b[1m-52.676418\u001b[0m \n",
       "\t\t\t\t\t ---------"
      ]
     },
     "metadata": {},
     "output_type": "display_data"
    },
    {
     "data": {
      "text/plain": [
       "2025-10-10 10:47:44,822 fedbiomed INFO - \u001b[1mTRAINING\u001b[0m \n",
       "\t\t\t\t\t NODE_ID: NODE_CENTRALIZED \n",
       "\t\t\t\t\t Round 4 | Iteration: 10/70 (14%) | Samples: 1010/7000000\n",
       " \t\t\t\t\t Loss: \u001b[1m-55.083035\u001b[0m \n",
       "\t\t\t\t\t ---------"
      ]
     },
     "metadata": {},
     "output_type": "display_data"
    },
    {
     "data": {
      "text/plain": [
       "2025-10-10 10:47:44,837 fedbiomed INFO - \u001b[1mTRAINING\u001b[0m \n",
       "\t\t\t\t\t NODE_ID: NODE_CENTRALIZED \n",
       "\t\t\t\t\t Round 4 | Iteration: 11/70 (16%) | Samples: 1111/7000000\n",
       " \t\t\t\t\t Loss: \u001b[1m-57.496399\u001b[0m \n",
       "\t\t\t\t\t ---------"
      ]
     },
     "metadata": {},
     "output_type": "display_data"
    },
    {
     "data": {
      "text/plain": [
       "2025-10-10 10:47:44,853 fedbiomed INFO - \u001b[1mTRAINING\u001b[0m \n",
       "\t\t\t\t\t NODE_ID: NODE_CENTRALIZED \n",
       "\t\t\t\t\t Round 4 | Iteration: 12/70 (17%) | Samples: 1212/7000000\n",
       " \t\t\t\t\t Loss: \u001b[1m-59.903816\u001b[0m \n",
       "\t\t\t\t\t ---------"
      ]
     },
     "metadata": {},
     "output_type": "display_data"
    },
    {
     "data": {
      "text/plain": [
       "2025-10-10 10:47:44,869 fedbiomed INFO - \u001b[1mTRAINING\u001b[0m \n",
       "\t\t\t\t\t NODE_ID: NODE_CENTRALIZED \n",
       "\t\t\t\t\t Round 4 | Iteration: 13/70 (19%) | Samples: 1313/7000000\n",
       " \t\t\t\t\t Loss: \u001b[1m-62.304756\u001b[0m \n",
       "\t\t\t\t\t ---------"
      ]
     },
     "metadata": {},
     "output_type": "display_data"
    },
    {
     "data": {
      "text/plain": [
       "2025-10-10 10:47:44,885 fedbiomed INFO - \u001b[1mTRAINING\u001b[0m \n",
       "\t\t\t\t\t NODE_ID: NODE_CENTRALIZED \n",
       "\t\t\t\t\t Round 4 | Iteration: 14/70 (20%) | Samples: 1414/7000000\n",
       " \t\t\t\t\t Loss: \u001b[1m-64.708954\u001b[0m \n",
       "\t\t\t\t\t ---------"
      ]
     },
     "metadata": {},
     "output_type": "display_data"
    },
    {
     "data": {
      "text/plain": [
       "2025-10-10 10:47:44,900 fedbiomed INFO - \u001b[1mTRAINING\u001b[0m \n",
       "\t\t\t\t\t NODE_ID: NODE_CENTRALIZED \n",
       "\t\t\t\t\t Round 4 | Iteration: 15/70 (21%) | Samples: 1515/7000000\n",
       " \t\t\t\t\t Loss: \u001b[1m-67.119553\u001b[0m \n",
       "\t\t\t\t\t ---------"
      ]
     },
     "metadata": {},
     "output_type": "display_data"
    },
    {
     "data": {
      "text/plain": [
       "2025-10-10 10:47:44,916 fedbiomed INFO - \u001b[1mTRAINING\u001b[0m \n",
       "\t\t\t\t\t NODE_ID: NODE_CENTRALIZED \n",
       "\t\t\t\t\t Round 4 | Iteration: 16/70 (23%) | Samples: 1616/7000000\n",
       " \t\t\t\t\t Loss: \u001b[1m-69.528038\u001b[0m \n",
       "\t\t\t\t\t ---------"
      ]
     },
     "metadata": {},
     "output_type": "display_data"
    },
    {
     "data": {
      "text/plain": [
       "2025-10-10 10:47:44,931 fedbiomed INFO - \u001b[1mTRAINING\u001b[0m \n",
       "\t\t\t\t\t NODE_ID: NODE_CENTRALIZED \n",
       "\t\t\t\t\t Round 4 | Iteration: 17/70 (24%) | Samples: 1717/7000000\n",
       " \t\t\t\t\t Loss: \u001b[1m-71.927139\u001b[0m \n",
       "\t\t\t\t\t ---------"
      ]
     },
     "metadata": {},
     "output_type": "display_data"
    },
    {
     "data": {
      "text/plain": [
       "2025-10-10 10:47:44,947 fedbiomed INFO - \u001b[1mTRAINING\u001b[0m \n",
       "\t\t\t\t\t NODE_ID: NODE_CENTRALIZED \n",
       "\t\t\t\t\t Round 4 | Iteration: 18/70 (26%) | Samples: 1818/7000000\n",
       " \t\t\t\t\t Loss: \u001b[1m-74.324356\u001b[0m \n",
       "\t\t\t\t\t ---------"
      ]
     },
     "metadata": {},
     "output_type": "display_data"
    },
    {
     "data": {
      "text/plain": [
       "2025-10-10 10:47:44,963 fedbiomed INFO - \u001b[1mTRAINING\u001b[0m \n",
       "\t\t\t\t\t NODE_ID: NODE_CENTRALIZED \n",
       "\t\t\t\t\t Round 4 | Iteration: 19/70 (27%) | Samples: 1919/7000000\n",
       " \t\t\t\t\t Loss: \u001b[1m-76.728615\u001b[0m \n",
       "\t\t\t\t\t ---------"
      ]
     },
     "metadata": {},
     "output_type": "display_data"
    },
    {
     "data": {
      "text/plain": [
       "2025-10-10 10:47:44,979 fedbiomed INFO - \u001b[1mTRAINING\u001b[0m \n",
       "\t\t\t\t\t NODE_ID: NODE_CENTRALIZED \n",
       "\t\t\t\t\t Round 4 | Iteration: 20/70 (29%) | Samples: 2020/7000000\n",
       " \t\t\t\t\t Loss: \u001b[1m-79.136513\u001b[0m \n",
       "\t\t\t\t\t ---------"
      ]
     },
     "metadata": {},
     "output_type": "display_data"
    },
    {
     "data": {
      "text/plain": [
       "2025-10-10 10:47:44,994 fedbiomed INFO - \u001b[1mTRAINING\u001b[0m \n",
       "\t\t\t\t\t NODE_ID: NODE_CENTRALIZED \n",
       "\t\t\t\t\t Round 4 | Iteration: 21/70 (30%) | Samples: 2121/7000000\n",
       " \t\t\t\t\t Loss: \u001b[1m-81.539032\u001b[0m \n",
       "\t\t\t\t\t ---------"
      ]
     },
     "metadata": {},
     "output_type": "display_data"
    },
    {
     "data": {
      "text/plain": [
       "2025-10-10 10:47:45,010 fedbiomed INFO - \u001b[1mTRAINING\u001b[0m \n",
       "\t\t\t\t\t NODE_ID: NODE_CENTRALIZED \n",
       "\t\t\t\t\t Round 4 | Iteration: 22/70 (31%) | Samples: 2222/7000000\n",
       " \t\t\t\t\t Loss: \u001b[1m-83.935638\u001b[0m \n",
       "\t\t\t\t\t ---------"
      ]
     },
     "metadata": {},
     "output_type": "display_data"
    },
    {
     "data": {
      "text/plain": [
       "2025-10-10 10:47:45,025 fedbiomed INFO - \u001b[1mTRAINING\u001b[0m \n",
       "\t\t\t\t\t NODE_ID: NODE_CENTRALIZED \n",
       "\t\t\t\t\t Round 4 | Iteration: 23/70 (33%) | Samples: 2323/7000000\n",
       " \t\t\t\t\t Loss: \u001b[1m-86.334702\u001b[0m \n",
       "\t\t\t\t\t ---------"
      ]
     },
     "metadata": {},
     "output_type": "display_data"
    },
    {
     "data": {
      "text/plain": [
       "2025-10-10 10:47:45,041 fedbiomed INFO - \u001b[1mTRAINING\u001b[0m \n",
       "\t\t\t\t\t NODE_ID: NODE_CENTRALIZED \n",
       "\t\t\t\t\t Round 4 | Iteration: 24/70 (34%) | Samples: 2424/7000000\n",
       " \t\t\t\t\t Loss: \u001b[1m-88.736443\u001b[0m \n",
       "\t\t\t\t\t ---------"
      ]
     },
     "metadata": {},
     "output_type": "display_data"
    },
    {
     "data": {
      "text/plain": [
       "2025-10-10 10:47:45,057 fedbiomed INFO - \u001b[1mTRAINING\u001b[0m \n",
       "\t\t\t\t\t NODE_ID: NODE_CENTRALIZED \n",
       "\t\t\t\t\t Round 4 | Iteration: 25/70 (36%) | Samples: 2525/7000000\n",
       " \t\t\t\t\t Loss: \u001b[1m-91.134949\u001b[0m \n",
       "\t\t\t\t\t ---------"
      ]
     },
     "metadata": {},
     "output_type": "display_data"
    },
    {
     "data": {
      "text/plain": [
       "2025-10-10 10:47:45,073 fedbiomed INFO - \u001b[1mTRAINING\u001b[0m \n",
       "\t\t\t\t\t NODE_ID: NODE_CENTRALIZED \n",
       "\t\t\t\t\t Round 4 | Iteration: 26/70 (37%) | Samples: 2626/7000000\n",
       " \t\t\t\t\t Loss: \u001b[1m-93.530441\u001b[0m \n",
       "\t\t\t\t\t ---------"
      ]
     },
     "metadata": {},
     "output_type": "display_data"
    },
    {
     "data": {
      "text/plain": [
       "2025-10-10 10:47:45,088 fedbiomed INFO - \u001b[1mTRAINING\u001b[0m \n",
       "\t\t\t\t\t NODE_ID: NODE_CENTRALIZED \n",
       "\t\t\t\t\t Round 4 | Iteration: 27/70 (39%) | Samples: 2727/7000000\n",
       " \t\t\t\t\t Loss: \u001b[1m-95.927078\u001b[0m \n",
       "\t\t\t\t\t ---------"
      ]
     },
     "metadata": {},
     "output_type": "display_data"
    },
    {
     "data": {
      "text/plain": [
       "2025-10-10 10:47:45,104 fedbiomed INFO - \u001b[1mTRAINING\u001b[0m \n",
       "\t\t\t\t\t NODE_ID: NODE_CENTRALIZED \n",
       "\t\t\t\t\t Round 4 | Iteration: 28/70 (40%) | Samples: 2828/7000000\n",
       " \t\t\t\t\t Loss: \u001b[1m-98.323830\u001b[0m \n",
       "\t\t\t\t\t ---------"
      ]
     },
     "metadata": {},
     "output_type": "display_data"
    },
    {
     "data": {
      "text/plain": [
       "2025-10-10 10:47:45,120 fedbiomed INFO - \u001b[1mTRAINING\u001b[0m \n",
       "\t\t\t\t\t NODE_ID: NODE_CENTRALIZED \n",
       "\t\t\t\t\t Round 4 | Iteration: 29/70 (41%) | Samples: 2929/7000000\n",
       " \t\t\t\t\t Loss: \u001b[1m-100.716667\u001b[0m \n",
       "\t\t\t\t\t ---------"
      ]
     },
     "metadata": {},
     "output_type": "display_data"
    },
    {
     "data": {
      "text/plain": [
       "2025-10-10 10:47:45,136 fedbiomed INFO - \u001b[1mTRAINING\u001b[0m \n",
       "\t\t\t\t\t NODE_ID: NODE_CENTRALIZED \n",
       "\t\t\t\t\t Round 4 | Iteration: 30/70 (43%) | Samples: 3030/7000000\n",
       " \t\t\t\t\t Loss: \u001b[1m-103.108582\u001b[0m \n",
       "\t\t\t\t\t ---------"
      ]
     },
     "metadata": {},
     "output_type": "display_data"
    },
    {
     "data": {
      "text/plain": [
       "2025-10-10 10:47:45,152 fedbiomed INFO - \u001b[1mTRAINING\u001b[0m \n",
       "\t\t\t\t\t NODE_ID: NODE_CENTRALIZED \n",
       "\t\t\t\t\t Round 4 | Iteration: 31/70 (44%) | Samples: 3131/7000000\n",
       " \t\t\t\t\t Loss: \u001b[1m-105.501740\u001b[0m \n",
       "\t\t\t\t\t ---------"
      ]
     },
     "metadata": {},
     "output_type": "display_data"
    },
    {
     "data": {
      "text/plain": [
       "2025-10-10 10:47:45,168 fedbiomed INFO - \u001b[1mTRAINING\u001b[0m \n",
       "\t\t\t\t\t NODE_ID: NODE_CENTRALIZED \n",
       "\t\t\t\t\t Round 4 | Iteration: 32/70 (46%) | Samples: 3232/7000000\n",
       " \t\t\t\t\t Loss: \u001b[1m-107.891991\u001b[0m \n",
       "\t\t\t\t\t ---------"
      ]
     },
     "metadata": {},
     "output_type": "display_data"
    },
    {
     "data": {
      "text/plain": [
       "2025-10-10 10:47:45,184 fedbiomed INFO - \u001b[1mTRAINING\u001b[0m \n",
       "\t\t\t\t\t NODE_ID: NODE_CENTRALIZED \n",
       "\t\t\t\t\t Round 4 | Iteration: 33/70 (47%) | Samples: 3333/7000000\n",
       " \t\t\t\t\t Loss: \u001b[1m-110.278709\u001b[0m \n",
       "\t\t\t\t\t ---------"
      ]
     },
     "metadata": {},
     "output_type": "display_data"
    },
    {
     "data": {
      "text/plain": [
       "2025-10-10 10:47:45,200 fedbiomed INFO - \u001b[1mTRAINING\u001b[0m \n",
       "\t\t\t\t\t NODE_ID: NODE_CENTRALIZED \n",
       "\t\t\t\t\t Round 4 | Iteration: 34/70 (49%) | Samples: 3434/7000000\n",
       " \t\t\t\t\t Loss: \u001b[1m-112.666023\u001b[0m \n",
       "\t\t\t\t\t ---------"
      ]
     },
     "metadata": {},
     "output_type": "display_data"
    },
    {
     "data": {
      "text/plain": [
       "2025-10-10 10:47:45,216 fedbiomed INFO - \u001b[1mTRAINING\u001b[0m \n",
       "\t\t\t\t\t NODE_ID: NODE_CENTRALIZED \n",
       "\t\t\t\t\t Round 4 | Iteration: 35/70 (50%) | Samples: 3535/7000000\n",
       " \t\t\t\t\t Loss: \u001b[1m-115.051819\u001b[0m \n",
       "\t\t\t\t\t ---------"
      ]
     },
     "metadata": {},
     "output_type": "display_data"
    },
    {
     "data": {
      "text/plain": [
       "2025-10-10 10:47:45,232 fedbiomed INFO - \u001b[1mTRAINING\u001b[0m \n",
       "\t\t\t\t\t NODE_ID: NODE_CENTRALIZED \n",
       "\t\t\t\t\t Round 4 | Iteration: 36/70 (51%) | Samples: 3636/7000000\n",
       " \t\t\t\t\t Loss: \u001b[1m-117.433762\u001b[0m \n",
       "\t\t\t\t\t ---------"
      ]
     },
     "metadata": {},
     "output_type": "display_data"
    },
    {
     "data": {
      "text/plain": [
       "2025-10-10 10:47:45,248 fedbiomed INFO - \u001b[1mTRAINING\u001b[0m \n",
       "\t\t\t\t\t NODE_ID: NODE_CENTRALIZED \n",
       "\t\t\t\t\t Round 4 | Iteration: 37/70 (53%) | Samples: 3737/7000000\n",
       " \t\t\t\t\t Loss: \u001b[1m-119.815033\u001b[0m \n",
       "\t\t\t\t\t ---------"
      ]
     },
     "metadata": {},
     "output_type": "display_data"
    },
    {
     "data": {
      "text/plain": [
       "2025-10-10 10:47:45,264 fedbiomed INFO - \u001b[1mTRAINING\u001b[0m \n",
       "\t\t\t\t\t NODE_ID: NODE_CENTRALIZED \n",
       "\t\t\t\t\t Round 4 | Iteration: 38/70 (54%) | Samples: 3838/7000000\n",
       " \t\t\t\t\t Loss: \u001b[1m-122.194855\u001b[0m \n",
       "\t\t\t\t\t ---------"
      ]
     },
     "metadata": {},
     "output_type": "display_data"
    },
    {
     "data": {
      "text/plain": [
       "2025-10-10 10:47:45,280 fedbiomed INFO - \u001b[1mTRAINING\u001b[0m \n",
       "\t\t\t\t\t NODE_ID: NODE_CENTRALIZED \n",
       "\t\t\t\t\t Round 4 | Iteration: 39/70 (56%) | Samples: 3939/7000000\n",
       " \t\t\t\t\t Loss: \u001b[1m-124.570847\u001b[0m \n",
       "\t\t\t\t\t ---------"
      ]
     },
     "metadata": {},
     "output_type": "display_data"
    },
    {
     "data": {
      "text/plain": [
       "2025-10-10 10:47:45,296 fedbiomed INFO - \u001b[1mTRAINING\u001b[0m \n",
       "\t\t\t\t\t NODE_ID: NODE_CENTRALIZED \n",
       "\t\t\t\t\t Round 4 | Iteration: 40/70 (57%) | Samples: 4040/7000000\n",
       " \t\t\t\t\t Loss: \u001b[1m-126.945564\u001b[0m \n",
       "\t\t\t\t\t ---------"
      ]
     },
     "metadata": {},
     "output_type": "display_data"
    },
    {
     "data": {
      "text/plain": [
       "2025-10-10 10:47:45,312 fedbiomed INFO - \u001b[1mTRAINING\u001b[0m \n",
       "\t\t\t\t\t NODE_ID: NODE_CENTRALIZED \n",
       "\t\t\t\t\t Round 4 | Iteration: 41/70 (59%) | Samples: 4141/7000000\n",
       " \t\t\t\t\t Loss: \u001b[1m-129.318420\u001b[0m \n",
       "\t\t\t\t\t ---------"
      ]
     },
     "metadata": {},
     "output_type": "display_data"
    },
    {
     "data": {
      "text/plain": [
       "2025-10-10 10:47:45,328 fedbiomed INFO - \u001b[1mTRAINING\u001b[0m \n",
       "\t\t\t\t\t NODE_ID: NODE_CENTRALIZED \n",
       "\t\t\t\t\t Round 4 | Iteration: 42/70 (60%) | Samples: 4242/7000000\n",
       " \t\t\t\t\t Loss: \u001b[1m-131.687408\u001b[0m \n",
       "\t\t\t\t\t ---------"
      ]
     },
     "metadata": {},
     "output_type": "display_data"
    },
    {
     "data": {
      "text/plain": [
       "2025-10-10 10:47:45,344 fedbiomed INFO - \u001b[1mTRAINING\u001b[0m \n",
       "\t\t\t\t\t NODE_ID: NODE_CENTRALIZED \n",
       "\t\t\t\t\t Round 4 | Iteration: 43/70 (61%) | Samples: 4343/7000000\n",
       " \t\t\t\t\t Loss: \u001b[1m-134.054871\u001b[0m \n",
       "\t\t\t\t\t ---------"
      ]
     },
     "metadata": {},
     "output_type": "display_data"
    },
    {
     "data": {
      "text/plain": [
       "2025-10-10 10:47:45,360 fedbiomed INFO - \u001b[1mTRAINING\u001b[0m \n",
       "\t\t\t\t\t NODE_ID: NODE_CENTRALIZED \n",
       "\t\t\t\t\t Round 4 | Iteration: 44/70 (63%) | Samples: 4444/7000000\n",
       " \t\t\t\t\t Loss: \u001b[1m-136.419449\u001b[0m \n",
       "\t\t\t\t\t ---------"
      ]
     },
     "metadata": {},
     "output_type": "display_data"
    },
    {
     "data": {
      "text/plain": [
       "2025-10-10 10:47:45,376 fedbiomed INFO - \u001b[1mTRAINING\u001b[0m \n",
       "\t\t\t\t\t NODE_ID: NODE_CENTRALIZED \n",
       "\t\t\t\t\t Round 4 | Iteration: 45/70 (64%) | Samples: 4545/7000000\n",
       " \t\t\t\t\t Loss: \u001b[1m-138.780884\u001b[0m \n",
       "\t\t\t\t\t ---------"
      ]
     },
     "metadata": {},
     "output_type": "display_data"
    },
    {
     "data": {
      "text/plain": [
       "2025-10-10 10:47:45,392 fedbiomed INFO - \u001b[1mTRAINING\u001b[0m \n",
       "\t\t\t\t\t NODE_ID: NODE_CENTRALIZED \n",
       "\t\t\t\t\t Round 4 | Iteration: 46/70 (66%) | Samples: 4646/7000000\n",
       " \t\t\t\t\t Loss: \u001b[1m-141.140152\u001b[0m \n",
       "\t\t\t\t\t ---------"
      ]
     },
     "metadata": {},
     "output_type": "display_data"
    },
    {
     "data": {
      "text/plain": [
       "2025-10-10 10:47:45,408 fedbiomed INFO - \u001b[1mTRAINING\u001b[0m \n",
       "\t\t\t\t\t NODE_ID: NODE_CENTRALIZED \n",
       "\t\t\t\t\t Round 4 | Iteration: 47/70 (67%) | Samples: 4747/7000000\n",
       " \t\t\t\t\t Loss: \u001b[1m-143.495499\u001b[0m \n",
       "\t\t\t\t\t ---------"
      ]
     },
     "metadata": {},
     "output_type": "display_data"
    },
    {
     "data": {
      "text/plain": [
       "2025-10-10 10:47:45,424 fedbiomed INFO - \u001b[1mTRAINING\u001b[0m \n",
       "\t\t\t\t\t NODE_ID: NODE_CENTRALIZED \n",
       "\t\t\t\t\t Round 4 | Iteration: 48/70 (69%) | Samples: 4848/7000000\n",
       " \t\t\t\t\t Loss: \u001b[1m-145.848389\u001b[0m \n",
       "\t\t\t\t\t ---------"
      ]
     },
     "metadata": {},
     "output_type": "display_data"
    },
    {
     "data": {
      "text/plain": [
       "2025-10-10 10:47:45,440 fedbiomed INFO - \u001b[1mTRAINING\u001b[0m \n",
       "\t\t\t\t\t NODE_ID: NODE_CENTRALIZED \n",
       "\t\t\t\t\t Round 4 | Iteration: 49/70 (70%) | Samples: 4949/7000000\n",
       " \t\t\t\t\t Loss: \u001b[1m-148.197891\u001b[0m \n",
       "\t\t\t\t\t ---------"
      ]
     },
     "metadata": {},
     "output_type": "display_data"
    },
    {
     "data": {
      "text/plain": [
       "2025-10-10 10:47:45,456 fedbiomed INFO - \u001b[1mTRAINING\u001b[0m \n",
       "\t\t\t\t\t NODE_ID: NODE_CENTRALIZED \n",
       "\t\t\t\t\t Round 4 | Iteration: 50/70 (71%) | Samples: 5050/7000000\n",
       " \t\t\t\t\t Loss: \u001b[1m-150.543884\u001b[0m \n",
       "\t\t\t\t\t ---------"
      ]
     },
     "metadata": {},
     "output_type": "display_data"
    },
    {
     "data": {
      "text/plain": [
       "2025-10-10 10:47:45,472 fedbiomed INFO - \u001b[1mTRAINING\u001b[0m \n",
       "\t\t\t\t\t NODE_ID: NODE_CENTRALIZED \n",
       "\t\t\t\t\t Round 4 | Iteration: 51/70 (73%) | Samples: 5151/7000000\n",
       " \t\t\t\t\t Loss: \u001b[1m-152.887039\u001b[0m \n",
       "\t\t\t\t\t ---------"
      ]
     },
     "metadata": {},
     "output_type": "display_data"
    },
    {
     "data": {
      "text/plain": [
       "2025-10-10 10:47:45,488 fedbiomed INFO - \u001b[1mTRAINING\u001b[0m \n",
       "\t\t\t\t\t NODE_ID: NODE_CENTRALIZED \n",
       "\t\t\t\t\t Round 4 | Iteration: 52/70 (74%) | Samples: 5252/7000000\n",
       " \t\t\t\t\t Loss: \u001b[1m-155.225891\u001b[0m \n",
       "\t\t\t\t\t ---------"
      ]
     },
     "metadata": {},
     "output_type": "display_data"
    },
    {
     "data": {
      "text/plain": [
       "2025-10-10 10:47:45,504 fedbiomed INFO - \u001b[1mTRAINING\u001b[0m \n",
       "\t\t\t\t\t NODE_ID: NODE_CENTRALIZED \n",
       "\t\t\t\t\t Round 4 | Iteration: 53/70 (76%) | Samples: 5353/7000000\n",
       " \t\t\t\t\t Loss: \u001b[1m-157.561981\u001b[0m \n",
       "\t\t\t\t\t ---------"
      ]
     },
     "metadata": {},
     "output_type": "display_data"
    },
    {
     "data": {
      "text/plain": [
       "2025-10-10 10:47:45,520 fedbiomed INFO - \u001b[1mTRAINING\u001b[0m \n",
       "\t\t\t\t\t NODE_ID: NODE_CENTRALIZED \n",
       "\t\t\t\t\t Round 4 | Iteration: 54/70 (77%) | Samples: 5454/7000000\n",
       " \t\t\t\t\t Loss: \u001b[1m-159.893661\u001b[0m \n",
       "\t\t\t\t\t ---------"
      ]
     },
     "metadata": {},
     "output_type": "display_data"
    },
    {
     "data": {
      "text/plain": [
       "2025-10-10 10:47:45,536 fedbiomed INFO - \u001b[1mTRAINING\u001b[0m \n",
       "\t\t\t\t\t NODE_ID: NODE_CENTRALIZED \n",
       "\t\t\t\t\t Round 4 | Iteration: 55/70 (79%) | Samples: 5555/7000000\n",
       " \t\t\t\t\t Loss: \u001b[1m-162.221985\u001b[0m \n",
       "\t\t\t\t\t ---------"
      ]
     },
     "metadata": {},
     "output_type": "display_data"
    },
    {
     "data": {
      "text/plain": [
       "2025-10-10 10:47:45,552 fedbiomed INFO - \u001b[1mTRAINING\u001b[0m \n",
       "\t\t\t\t\t NODE_ID: NODE_CENTRALIZED \n",
       "\t\t\t\t\t Round 4 | Iteration: 56/70 (80%) | Samples: 5656/7000000\n",
       " \t\t\t\t\t Loss: \u001b[1m-164.546066\u001b[0m \n",
       "\t\t\t\t\t ---------"
      ]
     },
     "metadata": {},
     "output_type": "display_data"
    },
    {
     "data": {
      "text/plain": [
       "2025-10-10 10:47:45,568 fedbiomed INFO - \u001b[1mTRAINING\u001b[0m \n",
       "\t\t\t\t\t NODE_ID: NODE_CENTRALIZED \n",
       "\t\t\t\t\t Round 4 | Iteration: 57/70 (81%) | Samples: 5757/7000000\n",
       " \t\t\t\t\t Loss: \u001b[1m-166.866409\u001b[0m \n",
       "\t\t\t\t\t ---------"
      ]
     },
     "metadata": {},
     "output_type": "display_data"
    },
    {
     "data": {
      "text/plain": [
       "2025-10-10 10:47:45,584 fedbiomed INFO - \u001b[1mTRAINING\u001b[0m \n",
       "\t\t\t\t\t NODE_ID: NODE_CENTRALIZED \n",
       "\t\t\t\t\t Round 4 | Iteration: 58/70 (83%) | Samples: 5858/7000000\n",
       " \t\t\t\t\t Loss: \u001b[1m-169.182175\u001b[0m \n",
       "\t\t\t\t\t ---------"
      ]
     },
     "metadata": {},
     "output_type": "display_data"
    },
    {
     "data": {
      "text/plain": [
       "2025-10-10 10:47:45,600 fedbiomed INFO - \u001b[1mTRAINING\u001b[0m \n",
       "\t\t\t\t\t NODE_ID: NODE_CENTRALIZED \n",
       "\t\t\t\t\t Round 4 | Iteration: 59/70 (84%) | Samples: 5959/7000000\n",
       " \t\t\t\t\t Loss: \u001b[1m-171.493835\u001b[0m \n",
       "\t\t\t\t\t ---------"
      ]
     },
     "metadata": {},
     "output_type": "display_data"
    },
    {
     "data": {
      "text/plain": [
       "2025-10-10 10:47:45,616 fedbiomed INFO - \u001b[1mTRAINING\u001b[0m \n",
       "\t\t\t\t\t NODE_ID: NODE_CENTRALIZED \n",
       "\t\t\t\t\t Round 4 | Iteration: 60/70 (86%) | Samples: 6060/7000000\n",
       " \t\t\t\t\t Loss: \u001b[1m-173.800369\u001b[0m \n",
       "\t\t\t\t\t ---------"
      ]
     },
     "metadata": {},
     "output_type": "display_data"
    },
    {
     "data": {
      "text/plain": [
       "2025-10-10 10:47:45,632 fedbiomed INFO - \u001b[1mTRAINING\u001b[0m \n",
       "\t\t\t\t\t NODE_ID: NODE_CENTRALIZED \n",
       "\t\t\t\t\t Round 4 | Iteration: 61/70 (87%) | Samples: 6161/7000000\n",
       " \t\t\t\t\t Loss: \u001b[1m-176.102097\u001b[0m \n",
       "\t\t\t\t\t ---------"
      ]
     },
     "metadata": {},
     "output_type": "display_data"
    },
    {
     "data": {
      "text/plain": [
       "2025-10-10 10:47:45,648 fedbiomed INFO - \u001b[1mTRAINING\u001b[0m \n",
       "\t\t\t\t\t NODE_ID: NODE_CENTRALIZED \n",
       "\t\t\t\t\t Round 4 | Iteration: 62/70 (89%) | Samples: 6262/7000000\n",
       " \t\t\t\t\t Loss: \u001b[1m-178.400772\u001b[0m \n",
       "\t\t\t\t\t ---------"
      ]
     },
     "metadata": {},
     "output_type": "display_data"
    },
    {
     "data": {
      "text/plain": [
       "2025-10-10 10:47:45,664 fedbiomed INFO - \u001b[1mTRAINING\u001b[0m \n",
       "\t\t\t\t\t NODE_ID: NODE_CENTRALIZED \n",
       "\t\t\t\t\t Round 4 | Iteration: 63/70 (90%) | Samples: 6363/7000000\n",
       " \t\t\t\t\t Loss: \u001b[1m-180.696396\u001b[0m \n",
       "\t\t\t\t\t ---------"
      ]
     },
     "metadata": {},
     "output_type": "display_data"
    },
    {
     "data": {
      "text/plain": [
       "2025-10-10 10:47:45,679 fedbiomed INFO - \u001b[1mTRAINING\u001b[0m \n",
       "\t\t\t\t\t NODE_ID: NODE_CENTRALIZED \n",
       "\t\t\t\t\t Round 4 | Iteration: 64/70 (91%) | Samples: 6464/7000000\n",
       " \t\t\t\t\t Loss: \u001b[1m-182.985687\u001b[0m \n",
       "\t\t\t\t\t ---------"
      ]
     },
     "metadata": {},
     "output_type": "display_data"
    },
    {
     "data": {
      "text/plain": [
       "2025-10-10 10:47:45,695 fedbiomed INFO - \u001b[1mTRAINING\u001b[0m \n",
       "\t\t\t\t\t NODE_ID: NODE_CENTRALIZED \n",
       "\t\t\t\t\t Round 4 | Iteration: 65/70 (93%) | Samples: 6565/7000000\n",
       " \t\t\t\t\t Loss: \u001b[1m-185.268280\u001b[0m \n",
       "\t\t\t\t\t ---------"
      ]
     },
     "metadata": {},
     "output_type": "display_data"
    },
    {
     "data": {
      "text/plain": [
       "2025-10-10 10:47:45,711 fedbiomed INFO - \u001b[1mTRAINING\u001b[0m \n",
       "\t\t\t\t\t NODE_ID: NODE_CENTRALIZED \n",
       "\t\t\t\t\t Round 4 | Iteration: 66/70 (94%) | Samples: 6666/7000000\n",
       " \t\t\t\t\t Loss: \u001b[1m-187.547256\u001b[0m \n",
       "\t\t\t\t\t ---------"
      ]
     },
     "metadata": {},
     "output_type": "display_data"
    },
    {
     "data": {
      "text/plain": [
       "2025-10-10 10:47:45,727 fedbiomed INFO - \u001b[1mTRAINING\u001b[0m \n",
       "\t\t\t\t\t NODE_ID: NODE_CENTRALIZED \n",
       "\t\t\t\t\t Round 4 | Iteration: 67/70 (96%) | Samples: 6767/7000000\n",
       " \t\t\t\t\t Loss: \u001b[1m-189.822845\u001b[0m \n",
       "\t\t\t\t\t ---------"
      ]
     },
     "metadata": {},
     "output_type": "display_data"
    },
    {
     "data": {
      "text/plain": [
       "2025-10-10 10:47:45,743 fedbiomed INFO - \u001b[1mTRAINING\u001b[0m \n",
       "\t\t\t\t\t NODE_ID: NODE_CENTRALIZED \n",
       "\t\t\t\t\t Round 4 | Iteration: 68/70 (97%) | Samples: 6868/7000000\n",
       " \t\t\t\t\t Loss: \u001b[1m-192.091415\u001b[0m \n",
       "\t\t\t\t\t ---------"
      ]
     },
     "metadata": {},
     "output_type": "display_data"
    },
    {
     "data": {
      "text/plain": [
       "2025-10-10 10:47:45,759 fedbiomed INFO - \u001b[1mTRAINING\u001b[0m \n",
       "\t\t\t\t\t NODE_ID: NODE_CENTRALIZED \n",
       "\t\t\t\t\t Round 4 | Iteration: 69/70 (99%) | Samples: 6969/7000000\n",
       " \t\t\t\t\t Loss: \u001b[1m-194.353653\u001b[0m \n",
       "\t\t\t\t\t ---------"
      ]
     },
     "metadata": {},
     "output_type": "display_data"
    },
    {
     "data": {
      "text/plain": [
       "2025-10-10 10:47:45,775 fedbiomed INFO - \u001b[1mTRAINING\u001b[0m \n",
       "\t\t\t\t\t NODE_ID: NODE_CENTRALIZED \n",
       "\t\t\t\t\t Round 4 | Iteration: 70/70 (100%) | Samples: 7070/7000000\n",
       " \t\t\t\t\t Loss: \u001b[1m-196.611969\u001b[0m \n",
       "\t\t\t\t\t ---------"
      ]
     },
     "metadata": {},
     "output_type": "display_data"
    },
    {
     "data": {
      "text/plain": [
       "2025-10-10 10:47:45,918 fedbiomed INFO - Nodes that successfully reply in round 3 ['NODE_CENTRALIZED']"
      ]
     },
     "metadata": {},
     "output_type": "display_data"
    },
    {
     "data": {
      "text/plain": [
       "2025-10-10 10:47:45,945 fedbiomed INFO - Sampled nodes in round 4 ['NODE_CENTRALIZED']"
      ]
     },
     "metadata": {},
     "output_type": "display_data"
    },
    {
     "name": "stdout",
     "output_type": "stream",
     "text": [
      "<function extract_symbols at 0x7f7ba399cd30>\n"
     ]
    },
    {
     "data": {
      "text/plain": [
       "2025-10-10 10:47:45,970 fedbiomed INFO - \u001b[1mSending request\u001b[0m \n",
       "\t\t\t\t\t\u001b[1m To\u001b[0m: NODE_CENTRALIZED \n",
       "\t\t\t\t\t\u001b[1m Request: \u001b[0m: TRAIN\n",
       " -----------------------------------------------------------------"
      ]
     },
     "metadata": {},
     "output_type": "display_data"
    },
    {
     "data": {
      "text/plain": [
       "2025-10-10 10:47:46,033 fedbiomed DEBUG - Node: NODE_CENTRALIZED polling for the tasks"
      ]
     },
     "metadata": {},
     "output_type": "display_data"
    },
    {
     "data": {
      "text/plain": [
       "2025-10-10 10:47:46,131 fedbiomed INFO - \u001b[1mTRAINING\u001b[0m \n",
       "\t\t\t\t\t NODE_ID: NODE_CENTRALIZED \n",
       "\t\t\t\t\t Round 5 | Iteration: 1/70 (1%) | Samples: 101/7000000\n",
       " \t\t\t\t\t Loss: \u001b[1m-198.865250\u001b[0m \n",
       "\t\t\t\t\t ---------"
      ]
     },
     "metadata": {},
     "output_type": "display_data"
    },
    {
     "data": {
      "text/plain": [
       "2025-10-10 10:47:46,152 fedbiomed INFO - \u001b[1mTRAINING\u001b[0m \n",
       "\t\t\t\t\t NODE_ID: NODE_CENTRALIZED \n",
       "\t\t\t\t\t Round 5 | Iteration: 2/70 (3%) | Samples: 202/7000000\n",
       " \t\t\t\t\t Loss: \u001b[1m-199.918701\u001b[0m \n",
       "\t\t\t\t\t ---------"
      ]
     },
     "metadata": {},
     "output_type": "display_data"
    },
    {
     "data": {
      "text/plain": [
       "2025-10-10 10:47:46,170 fedbiomed INFO - \u001b[1mTRAINING\u001b[0m \n",
       "\t\t\t\t\t NODE_ID: NODE_CENTRALIZED \n",
       "\t\t\t\t\t Round 5 | Iteration: 3/70 (4%) | Samples: 303/7000000\n",
       " \t\t\t\t\t Loss: \u001b[1m-203.215958\u001b[0m \n",
       "\t\t\t\t\t ---------"
      ]
     },
     "metadata": {},
     "output_type": "display_data"
    },
    {
     "data": {
      "text/plain": [
       "2025-10-10 10:47:46,189 fedbiomed INFO - \u001b[1mTRAINING\u001b[0m \n",
       "\t\t\t\t\t NODE_ID: NODE_CENTRALIZED \n",
       "\t\t\t\t\t Round 5 | Iteration: 4/70 (6%) | Samples: 404/7000000\n",
       " \t\t\t\t\t Loss: \u001b[1m-205.361206\u001b[0m \n",
       "\t\t\t\t\t ---------"
      ]
     },
     "metadata": {},
     "output_type": "display_data"
    },
    {
     "data": {
      "text/plain": [
       "2025-10-10 10:47:46,206 fedbiomed INFO - \u001b[1mTRAINING\u001b[0m \n",
       "\t\t\t\t\t NODE_ID: NODE_CENTRALIZED \n",
       "\t\t\t\t\t Round 5 | Iteration: 5/70 (7%) | Samples: 505/7000000\n",
       " \t\t\t\t\t Loss: \u001b[1m-207.298996\u001b[0m \n",
       "\t\t\t\t\t ---------"
      ]
     },
     "metadata": {},
     "output_type": "display_data"
    },
    {
     "data": {
      "text/plain": [
       "2025-10-10 10:47:46,221 fedbiomed INFO - \u001b[1mTRAINING\u001b[0m \n",
       "\t\t\t\t\t NODE_ID: NODE_CENTRALIZED \n",
       "\t\t\t\t\t Round 5 | Iteration: 6/70 (9%) | Samples: 606/7000000\n",
       " \t\t\t\t\t Loss: \u001b[1m-209.727356\u001b[0m \n",
       "\t\t\t\t\t ---------"
      ]
     },
     "metadata": {},
     "output_type": "display_data"
    },
    {
     "data": {
      "text/plain": [
       "2025-10-10 10:47:46,238 fedbiomed INFO - \u001b[1mTRAINING\u001b[0m \n",
       "\t\t\t\t\t NODE_ID: NODE_CENTRALIZED \n",
       "\t\t\t\t\t Round 5 | Iteration: 7/70 (10%) | Samples: 707/7000000\n",
       " \t\t\t\t\t Loss: \u001b[1m-212.239182\u001b[0m \n",
       "\t\t\t\t\t ---------"
      ]
     },
     "metadata": {},
     "output_type": "display_data"
    },
    {
     "data": {
      "text/plain": [
       "2025-10-10 10:47:46,254 fedbiomed INFO - \u001b[1mTRAINING\u001b[0m \n",
       "\t\t\t\t\t NODE_ID: NODE_CENTRALIZED \n",
       "\t\t\t\t\t Round 5 | Iteration: 8/70 (11%) | Samples: 808/7000000\n",
       " \t\t\t\t\t Loss: \u001b[1m-214.515442\u001b[0m \n",
       "\t\t\t\t\t ---------"
      ]
     },
     "metadata": {},
     "output_type": "display_data"
    },
    {
     "data": {
      "text/plain": [
       "2025-10-10 10:47:46,270 fedbiomed INFO - \u001b[1mTRAINING\u001b[0m \n",
       "\t\t\t\t\t NODE_ID: NODE_CENTRALIZED \n",
       "\t\t\t\t\t Round 5 | Iteration: 9/70 (13%) | Samples: 909/7000000\n",
       " \t\t\t\t\t Loss: \u001b[1m-216.611252\u001b[0m \n",
       "\t\t\t\t\t ---------"
      ]
     },
     "metadata": {},
     "output_type": "display_data"
    },
    {
     "data": {
      "text/plain": [
       "2025-10-10 10:47:46,286 fedbiomed INFO - \u001b[1mTRAINING\u001b[0m \n",
       "\t\t\t\t\t NODE_ID: NODE_CENTRALIZED \n",
       "\t\t\t\t\t Round 5 | Iteration: 10/70 (14%) | Samples: 1010/7000000\n",
       " \t\t\t\t\t Loss: \u001b[1m-218.788940\u001b[0m \n",
       "\t\t\t\t\t ---------"
      ]
     },
     "metadata": {},
     "output_type": "display_data"
    },
    {
     "data": {
      "text/plain": [
       "2025-10-10 10:47:46,303 fedbiomed INFO - \u001b[1mTRAINING\u001b[0m \n",
       "\t\t\t\t\t NODE_ID: NODE_CENTRALIZED \n",
       "\t\t\t\t\t Round 5 | Iteration: 11/70 (16%) | Samples: 1111/7000000\n",
       " \t\t\t\t\t Loss: \u001b[1m-221.137543\u001b[0m \n",
       "\t\t\t\t\t ---------"
      ]
     },
     "metadata": {},
     "output_type": "display_data"
    },
    {
     "data": {
      "text/plain": [
       "2025-10-10 10:47:46,318 fedbiomed INFO - \u001b[1mTRAINING\u001b[0m \n",
       "\t\t\t\t\t NODE_ID: NODE_CENTRALIZED \n",
       "\t\t\t\t\t Round 5 | Iteration: 12/70 (17%) | Samples: 1212/7000000\n",
       " \t\t\t\t\t Loss: \u001b[1m-223.508835\u001b[0m \n",
       "\t\t\t\t\t ---------"
      ]
     },
     "metadata": {},
     "output_type": "display_data"
    },
    {
     "data": {
      "text/plain": [
       "2025-10-10 10:47:46,334 fedbiomed INFO - \u001b[1mTRAINING\u001b[0m \n",
       "\t\t\t\t\t NODE_ID: NODE_CENTRALIZED \n",
       "\t\t\t\t\t Round 5 | Iteration: 13/70 (19%) | Samples: 1313/7000000\n",
       " \t\t\t\t\t Loss: \u001b[1m-225.749649\u001b[0m \n",
       "\t\t\t\t\t ---------"
      ]
     },
     "metadata": {},
     "output_type": "display_data"
    },
    {
     "data": {
      "text/plain": [
       "2025-10-10 10:47:46,351 fedbiomed INFO - \u001b[1mTRAINING\u001b[0m \n",
       "\t\t\t\t\t NODE_ID: NODE_CENTRALIZED \n",
       "\t\t\t\t\t Round 5 | Iteration: 14/70 (20%) | Samples: 1414/7000000\n",
       " \t\t\t\t\t Loss: \u001b[1m-227.872620\u001b[0m \n",
       "\t\t\t\t\t ---------"
      ]
     },
     "metadata": {},
     "output_type": "display_data"
    },
    {
     "data": {
      "text/plain": [
       "2025-10-10 10:47:46,367 fedbiomed INFO - \u001b[1mTRAINING\u001b[0m \n",
       "\t\t\t\t\t NODE_ID: NODE_CENTRALIZED \n",
       "\t\t\t\t\t Round 5 | Iteration: 15/70 (21%) | Samples: 1515/7000000\n",
       " \t\t\t\t\t Loss: \u001b[1m-230.018387\u001b[0m \n",
       "\t\t\t\t\t ---------"
      ]
     },
     "metadata": {},
     "output_type": "display_data"
    },
    {
     "data": {
      "text/plain": [
       "2025-10-10 10:47:46,383 fedbiomed INFO - \u001b[1mTRAINING\u001b[0m \n",
       "\t\t\t\t\t NODE_ID: NODE_CENTRALIZED \n",
       "\t\t\t\t\t Round 5 | Iteration: 16/70 (23%) | Samples: 1616/7000000\n",
       " \t\t\t\t\t Loss: \u001b[1m-232.266907\u001b[0m \n",
       "\t\t\t\t\t ---------"
      ]
     },
     "metadata": {},
     "output_type": "display_data"
    },
    {
     "data": {
      "text/plain": [
       "2025-10-10 10:47:46,399 fedbiomed INFO - \u001b[1mTRAINING\u001b[0m \n",
       "\t\t\t\t\t NODE_ID: NODE_CENTRALIZED \n",
       "\t\t\t\t\t Round 5 | Iteration: 17/70 (24%) | Samples: 1717/7000000\n",
       " \t\t\t\t\t Loss: \u001b[1m-234.551697\u001b[0m \n",
       "\t\t\t\t\t ---------"
      ]
     },
     "metadata": {},
     "output_type": "display_data"
    },
    {
     "data": {
      "text/plain": [
       "2025-10-10 10:47:46,415 fedbiomed INFO - \u001b[1mTRAINING\u001b[0m \n",
       "\t\t\t\t\t NODE_ID: NODE_CENTRALIZED \n",
       "\t\t\t\t\t Round 5 | Iteration: 18/70 (26%) | Samples: 1818/7000000\n",
       " \t\t\t\t\t Loss: \u001b[1m-236.769852\u001b[0m \n",
       "\t\t\t\t\t ---------"
      ]
     },
     "metadata": {},
     "output_type": "display_data"
    },
    {
     "data": {
      "text/plain": [
       "2025-10-10 10:47:46,432 fedbiomed INFO - \u001b[1mTRAINING\u001b[0m \n",
       "\t\t\t\t\t NODE_ID: NODE_CENTRALIZED \n",
       "\t\t\t\t\t Round 5 | Iteration: 19/70 (27%) | Samples: 1919/7000000\n",
       " \t\t\t\t\t Loss: \u001b[1m-238.912628\u001b[0m \n",
       "\t\t\t\t\t ---------"
      ]
     },
     "metadata": {},
     "output_type": "display_data"
    },
    {
     "data": {
      "text/plain": [
       "2025-10-10 10:47:46,448 fedbiomed INFO - \u001b[1mTRAINING\u001b[0m \n",
       "\t\t\t\t\t NODE_ID: NODE_CENTRALIZED \n",
       "\t\t\t\t\t Round 5 | Iteration: 20/70 (29%) | Samples: 2020/7000000\n",
       " \t\t\t\t\t Loss: \u001b[1m-241.060104\u001b[0m \n",
       "\t\t\t\t\t ---------"
      ]
     },
     "metadata": {},
     "output_type": "display_data"
    },
    {
     "data": {
      "text/plain": [
       "2025-10-10 10:47:46,463 fedbiomed INFO - \u001b[1mTRAINING\u001b[0m \n",
       "\t\t\t\t\t NODE_ID: NODE_CENTRALIZED \n",
       "\t\t\t\t\t Round 5 | Iteration: 21/70 (30%) | Samples: 2121/7000000\n",
       " \t\t\t\t\t Loss: \u001b[1m-243.260666\u001b[0m \n",
       "\t\t\t\t\t ---------"
      ]
     },
     "metadata": {},
     "output_type": "display_data"
    },
    {
     "data": {
      "text/plain": [
       "2025-10-10 10:47:46,480 fedbiomed INFO - \u001b[1mTRAINING\u001b[0m \n",
       "\t\t\t\t\t NODE_ID: NODE_CENTRALIZED \n",
       "\t\t\t\t\t Round 5 | Iteration: 22/70 (31%) | Samples: 2222/7000000\n",
       " \t\t\t\t\t Loss: \u001b[1m-245.468857\u001b[0m \n",
       "\t\t\t\t\t ---------"
      ]
     },
     "metadata": {},
     "output_type": "display_data"
    },
    {
     "data": {
      "text/plain": [
       "2025-10-10 10:47:46,495 fedbiomed INFO - \u001b[1mTRAINING\u001b[0m \n",
       "\t\t\t\t\t NODE_ID: NODE_CENTRALIZED \n",
       "\t\t\t\t\t Round 5 | Iteration: 23/70 (33%) | Samples: 2323/7000000\n",
       " \t\t\t\t\t Loss: \u001b[1m-247.620453\u001b[0m \n",
       "\t\t\t\t\t ---------"
      ]
     },
     "metadata": {},
     "output_type": "display_data"
    },
    {
     "data": {
      "text/plain": [
       "2025-10-10 10:47:46,512 fedbiomed INFO - \u001b[1mTRAINING\u001b[0m \n",
       "\t\t\t\t\t NODE_ID: NODE_CENTRALIZED \n",
       "\t\t\t\t\t Round 5 | Iteration: 24/70 (34%) | Samples: 2424/7000000\n",
       " \t\t\t\t\t Loss: \u001b[1m-249.727097\u001b[0m \n",
       "\t\t\t\t\t ---------"
      ]
     },
     "metadata": {},
     "output_type": "display_data"
    },
    {
     "data": {
      "text/plain": [
       "2025-10-10 10:47:46,528 fedbiomed INFO - \u001b[1mTRAINING\u001b[0m \n",
       "\t\t\t\t\t NODE_ID: NODE_CENTRALIZED \n",
       "\t\t\t\t\t Round 5 | Iteration: 25/70 (36%) | Samples: 2525/7000000\n",
       " \t\t\t\t\t Loss: \u001b[1m-251.857010\u001b[0m \n",
       "\t\t\t\t\t ---------"
      ]
     },
     "metadata": {},
     "output_type": "display_data"
    },
    {
     "data": {
      "text/plain": [
       "2025-10-10 10:47:46,544 fedbiomed INFO - \u001b[1mTRAINING\u001b[0m \n",
       "\t\t\t\t\t NODE_ID: NODE_CENTRALIZED \n",
       "\t\t\t\t\t Round 5 | Iteration: 26/70 (37%) | Samples: 2626/7000000\n",
       " \t\t\t\t\t Loss: \u001b[1m-254.029144\u001b[0m \n",
       "\t\t\t\t\t ---------"
      ]
     },
     "metadata": {},
     "output_type": "display_data"
    },
    {
     "data": {
      "text/plain": [
       "2025-10-10 10:47:46,560 fedbiomed INFO - \u001b[1mTRAINING\u001b[0m \n",
       "\t\t\t\t\t NODE_ID: NODE_CENTRALIZED \n",
       "\t\t\t\t\t Round 5 | Iteration: 27/70 (39%) | Samples: 2727/7000000\n",
       " \t\t\t\t\t Loss: \u001b[1m-256.185974\u001b[0m \n",
       "\t\t\t\t\t ---------"
      ]
     },
     "metadata": {},
     "output_type": "display_data"
    },
    {
     "data": {
      "text/plain": [
       "2025-10-10 10:47:46,576 fedbiomed INFO - \u001b[1mTRAINING\u001b[0m \n",
       "\t\t\t\t\t NODE_ID: NODE_CENTRALIZED \n",
       "\t\t\t\t\t Round 5 | Iteration: 28/70 (40%) | Samples: 2828/7000000\n",
       " \t\t\t\t\t Loss: \u001b[1m-258.284790\u001b[0m \n",
       "\t\t\t\t\t ---------"
      ]
     },
     "metadata": {},
     "output_type": "display_data"
    },
    {
     "data": {
      "text/plain": [
       "2025-10-10 10:47:46,591 fedbiomed INFO - \u001b[1mTRAINING\u001b[0m \n",
       "\t\t\t\t\t NODE_ID: NODE_CENTRALIZED \n",
       "\t\t\t\t\t Round 5 | Iteration: 29/70 (41%) | Samples: 2929/7000000\n",
       " \t\t\t\t\t Loss: \u001b[1m-260.362488\u001b[0m \n",
       "\t\t\t\t\t ---------"
      ]
     },
     "metadata": {},
     "output_type": "display_data"
    },
    {
     "data": {
      "text/plain": [
       "2025-10-10 10:47:46,608 fedbiomed INFO - \u001b[1mTRAINING\u001b[0m \n",
       "\t\t\t\t\t NODE_ID: NODE_CENTRALIZED \n",
       "\t\t\t\t\t Round 5 | Iteration: 30/70 (43%) | Samples: 3030/7000000\n",
       " \t\t\t\t\t Loss: \u001b[1m-262.470154\u001b[0m \n",
       "\t\t\t\t\t ---------"
      ]
     },
     "metadata": {},
     "output_type": "display_data"
    },
    {
     "data": {
      "text/plain": [
       "2025-10-10 10:47:46,624 fedbiomed INFO - \u001b[1mTRAINING\u001b[0m \n",
       "\t\t\t\t\t NODE_ID: NODE_CENTRALIZED \n",
       "\t\t\t\t\t Round 5 | Iteration: 31/70 (44%) | Samples: 3131/7000000\n",
       " \t\t\t\t\t Loss: \u001b[1m-264.588715\u001b[0m \n",
       "\t\t\t\t\t ---------"
      ]
     },
     "metadata": {},
     "output_type": "display_data"
    },
    {
     "data": {
      "text/plain": [
       "2025-10-10 10:47:46,640 fedbiomed INFO - \u001b[1mTRAINING\u001b[0m \n",
       "\t\t\t\t\t NODE_ID: NODE_CENTRALIZED \n",
       "\t\t\t\t\t Round 5 | Iteration: 32/70 (46%) | Samples: 3232/7000000\n",
       " \t\t\t\t\t Loss: \u001b[1m-266.669464\u001b[0m \n",
       "\t\t\t\t\t ---------"
      ]
     },
     "metadata": {},
     "output_type": "display_data"
    },
    {
     "data": {
      "text/plain": [
       "2025-10-10 10:47:46,656 fedbiomed INFO - \u001b[1mTRAINING\u001b[0m \n",
       "\t\t\t\t\t NODE_ID: NODE_CENTRALIZED \n",
       "\t\t\t\t\t Round 5 | Iteration: 33/70 (47%) | Samples: 3333/7000000\n",
       " \t\t\t\t\t Loss: \u001b[1m-268.720551\u001b[0m \n",
       "\t\t\t\t\t ---------"
      ]
     },
     "metadata": {},
     "output_type": "display_data"
    },
    {
     "data": {
      "text/plain": [
       "2025-10-10 10:47:46,672 fedbiomed INFO - \u001b[1mTRAINING\u001b[0m \n",
       "\t\t\t\t\t NODE_ID: NODE_CENTRALIZED \n",
       "\t\t\t\t\t Round 5 | Iteration: 34/70 (49%) | Samples: 3434/7000000\n",
       " \t\t\t\t\t Loss: \u001b[1m-270.786224\u001b[0m \n",
       "\t\t\t\t\t ---------"
      ]
     },
     "metadata": {},
     "output_type": "display_data"
    },
    {
     "data": {
      "text/plain": [
       "2025-10-10 10:47:46,688 fedbiomed INFO - \u001b[1mTRAINING\u001b[0m \n",
       "\t\t\t\t\t NODE_ID: NODE_CENTRALIZED \n",
       "\t\t\t\t\t Round 5 | Iteration: 35/70 (50%) | Samples: 3535/7000000\n",
       " \t\t\t\t\t Loss: \u001b[1m-272.863098\u001b[0m \n",
       "\t\t\t\t\t ---------"
      ]
     },
     "metadata": {},
     "output_type": "display_data"
    },
    {
     "data": {
      "text/plain": [
       "2025-10-10 10:47:46,703 fedbiomed INFO - \u001b[1mTRAINING\u001b[0m \n",
       "\t\t\t\t\t NODE_ID: NODE_CENTRALIZED \n",
       "\t\t\t\t\t Round 5 | Iteration: 36/70 (51%) | Samples: 3636/7000000\n",
       " \t\t\t\t\t Loss: \u001b[1m-274.910828\u001b[0m \n",
       "\t\t\t\t\t ---------"
      ]
     },
     "metadata": {},
     "output_type": "display_data"
    },
    {
     "data": {
      "text/plain": [
       "2025-10-10 10:47:46,719 fedbiomed INFO - \u001b[1mTRAINING\u001b[0m \n",
       "\t\t\t\t\t NODE_ID: NODE_CENTRALIZED \n",
       "\t\t\t\t\t Round 5 | Iteration: 37/70 (53%) | Samples: 3737/7000000\n",
       " \t\t\t\t\t Loss: \u001b[1m-276.930542\u001b[0m \n",
       "\t\t\t\t\t ---------"
      ]
     },
     "metadata": {},
     "output_type": "display_data"
    },
    {
     "data": {
      "text/plain": [
       "2025-10-10 10:47:46,735 fedbiomed INFO - \u001b[1mTRAINING\u001b[0m \n",
       "\t\t\t\t\t NODE_ID: NODE_CENTRALIZED \n",
       "\t\t\t\t\t Round 5 | Iteration: 38/70 (54%) | Samples: 3838/7000000\n",
       " \t\t\t\t\t Loss: \u001b[1m-278.957062\u001b[0m \n",
       "\t\t\t\t\t ---------"
      ]
     },
     "metadata": {},
     "output_type": "display_data"
    },
    {
     "data": {
      "text/plain": [
       "2025-10-10 10:47:46,751 fedbiomed INFO - \u001b[1mTRAINING\u001b[0m \n",
       "\t\t\t\t\t NODE_ID: NODE_CENTRALIZED \n",
       "\t\t\t\t\t Round 5 | Iteration: 39/70 (56%) | Samples: 3939/7000000\n",
       " \t\t\t\t\t Loss: \u001b[1m-280.987885\u001b[0m \n",
       "\t\t\t\t\t ---------"
      ]
     },
     "metadata": {},
     "output_type": "display_data"
    },
    {
     "data": {
      "text/plain": [
       "2025-10-10 10:47:46,767 fedbiomed INFO - \u001b[1mTRAINING\u001b[0m \n",
       "\t\t\t\t\t NODE_ID: NODE_CENTRALIZED \n",
       "\t\t\t\t\t Round 5 | Iteration: 40/70 (57%) | Samples: 4040/7000000\n",
       " \t\t\t\t\t Loss: \u001b[1m-282.995178\u001b[0m \n",
       "\t\t\t\t\t ---------"
      ]
     },
     "metadata": {},
     "output_type": "display_data"
    },
    {
     "data": {
      "text/plain": [
       "2025-10-10 10:47:46,784 fedbiomed INFO - \u001b[1mTRAINING\u001b[0m \n",
       "\t\t\t\t\t NODE_ID: NODE_CENTRALIZED \n",
       "\t\t\t\t\t Round 5 | Iteration: 41/70 (59%) | Samples: 4141/7000000\n",
       " \t\t\t\t\t Loss: \u001b[1m-284.986389\u001b[0m \n",
       "\t\t\t\t\t ---------"
      ]
     },
     "metadata": {},
     "output_type": "display_data"
    },
    {
     "data": {
      "text/plain": [
       "2025-10-10 10:47:46,800 fedbiomed INFO - \u001b[1mTRAINING\u001b[0m \n",
       "\t\t\t\t\t NODE_ID: NODE_CENTRALIZED \n",
       "\t\t\t\t\t Round 5 | Iteration: 42/70 (60%) | Samples: 4242/7000000\n",
       " \t\t\t\t\t Loss: \u001b[1m-286.981262\u001b[0m \n",
       "\t\t\t\t\t ---------"
      ]
     },
     "metadata": {},
     "output_type": "display_data"
    },
    {
     "data": {
      "text/plain": [
       "2025-10-10 10:47:46,816 fedbiomed INFO - \u001b[1mTRAINING\u001b[0m \n",
       "\t\t\t\t\t NODE_ID: NODE_CENTRALIZED \n",
       "\t\t\t\t\t Round 5 | Iteration: 43/70 (61%) | Samples: 4343/7000000\n",
       " \t\t\t\t\t Loss: \u001b[1m-288.965973\u001b[0m \n",
       "\t\t\t\t\t ---------"
      ]
     },
     "metadata": {},
     "output_type": "display_data"
    },
    {
     "data": {
      "text/plain": [
       "2025-10-10 10:47:46,831 fedbiomed INFO - \u001b[1mTRAINING\u001b[0m \n",
       "\t\t\t\t\t NODE_ID: NODE_CENTRALIZED \n",
       "\t\t\t\t\t Round 5 | Iteration: 44/70 (63%) | Samples: 4444/7000000\n",
       " \t\t\t\t\t Loss: \u001b[1m-290.929871\u001b[0m \n",
       "\t\t\t\t\t ---------"
      ]
     },
     "metadata": {},
     "output_type": "display_data"
    },
    {
     "data": {
      "text/plain": [
       "2025-10-10 10:47:46,847 fedbiomed INFO - \u001b[1mTRAINING\u001b[0m \n",
       "\t\t\t\t\t NODE_ID: NODE_CENTRALIZED \n",
       "\t\t\t\t\t Round 5 | Iteration: 45/70 (64%) | Samples: 4545/7000000\n",
       " \t\t\t\t\t Loss: \u001b[1m-292.889374\u001b[0m \n",
       "\t\t\t\t\t ---------"
      ]
     },
     "metadata": {},
     "output_type": "display_data"
    },
    {
     "data": {
      "text/plain": [
       "2025-10-10 10:47:46,864 fedbiomed INFO - \u001b[1mTRAINING\u001b[0m \n",
       "\t\t\t\t\t NODE_ID: NODE_CENTRALIZED \n",
       "\t\t\t\t\t Round 5 | Iteration: 46/70 (66%) | Samples: 4646/7000000\n",
       " \t\t\t\t\t Loss: \u001b[1m-294.844788\u001b[0m \n",
       "\t\t\t\t\t ---------"
      ]
     },
     "metadata": {},
     "output_type": "display_data"
    },
    {
     "data": {
      "text/plain": [
       "2025-10-10 10:47:46,880 fedbiomed INFO - \u001b[1mTRAINING\u001b[0m \n",
       "\t\t\t\t\t NODE_ID: NODE_CENTRALIZED \n",
       "\t\t\t\t\t Round 5 | Iteration: 47/70 (67%) | Samples: 4747/7000000\n",
       " \t\t\t\t\t Loss: \u001b[1m-296.781738\u001b[0m \n",
       "\t\t\t\t\t ---------"
      ]
     },
     "metadata": {},
     "output_type": "display_data"
    },
    {
     "data": {
      "text/plain": [
       "2025-10-10 10:47:46,896 fedbiomed INFO - \u001b[1mTRAINING\u001b[0m \n",
       "\t\t\t\t\t NODE_ID: NODE_CENTRALIZED \n",
       "\t\t\t\t\t Round 5 | Iteration: 48/70 (69%) | Samples: 4848/7000000\n",
       " \t\t\t\t\t Loss: \u001b[1m-298.709961\u001b[0m \n",
       "\t\t\t\t\t ---------"
      ]
     },
     "metadata": {},
     "output_type": "display_data"
    },
    {
     "data": {
      "text/plain": [
       "2025-10-10 10:47:46,912 fedbiomed INFO - \u001b[1mTRAINING\u001b[0m \n",
       "\t\t\t\t\t NODE_ID: NODE_CENTRALIZED \n",
       "\t\t\t\t\t Round 5 | Iteration: 49/70 (70%) | Samples: 4949/7000000\n",
       " \t\t\t\t\t Loss: \u001b[1m-300.635406\u001b[0m \n",
       "\t\t\t\t\t ---------"
      ]
     },
     "metadata": {},
     "output_type": "display_data"
    },
    {
     "data": {
      "text/plain": [
       "2025-10-10 10:47:46,927 fedbiomed INFO - \u001b[1mTRAINING\u001b[0m \n",
       "\t\t\t\t\t NODE_ID: NODE_CENTRALIZED \n",
       "\t\t\t\t\t Round 5 | Iteration: 50/70 (71%) | Samples: 5050/7000000\n",
       " \t\t\t\t\t Loss: \u001b[1m-302.542999\u001b[0m \n",
       "\t\t\t\t\t ---------"
      ]
     },
     "metadata": {},
     "output_type": "display_data"
    },
    {
     "data": {
      "text/plain": [
       "2025-10-10 10:47:46,943 fedbiomed INFO - \u001b[1mTRAINING\u001b[0m \n",
       "\t\t\t\t\t NODE_ID: NODE_CENTRALIZED \n",
       "\t\t\t\t\t Round 5 | Iteration: 51/70 (73%) | Samples: 5151/7000000\n",
       " \t\t\t\t\t Loss: \u001b[1m-304.438049\u001b[0m \n",
       "\t\t\t\t\t ---------"
      ]
     },
     "metadata": {},
     "output_type": "display_data"
    },
    {
     "data": {
      "text/plain": [
       "2025-10-10 10:47:46,959 fedbiomed INFO - \u001b[1mTRAINING\u001b[0m \n",
       "\t\t\t\t\t NODE_ID: NODE_CENTRALIZED \n",
       "\t\t\t\t\t Round 5 | Iteration: 52/70 (74%) | Samples: 5252/7000000\n",
       " \t\t\t\t\t Loss: \u001b[1m-306.331543\u001b[0m \n",
       "\t\t\t\t\t ---------"
      ]
     },
     "metadata": {},
     "output_type": "display_data"
    },
    {
     "data": {
      "text/plain": [
       "2025-10-10 10:47:46,976 fedbiomed INFO - \u001b[1mTRAINING\u001b[0m \n",
       "\t\t\t\t\t NODE_ID: NODE_CENTRALIZED \n",
       "\t\t\t\t\t Round 5 | Iteration: 53/70 (76%) | Samples: 5353/7000000\n",
       " \t\t\t\t\t Loss: \u001b[1m-308.210144\u001b[0m \n",
       "\t\t\t\t\t ---------"
      ]
     },
     "metadata": {},
     "output_type": "display_data"
    },
    {
     "data": {
      "text/plain": [
       "2025-10-10 10:47:46,992 fedbiomed INFO - \u001b[1mTRAINING\u001b[0m \n",
       "\t\t\t\t\t NODE_ID: NODE_CENTRALIZED \n",
       "\t\t\t\t\t Round 5 | Iteration: 54/70 (77%) | Samples: 5454/7000000\n",
       " \t\t\t\t\t Loss: \u001b[1m-310.073975\u001b[0m \n",
       "\t\t\t\t\t ---------"
      ]
     },
     "metadata": {},
     "output_type": "display_data"
    },
    {
     "data": {
      "text/plain": [
       "2025-10-10 10:47:47,008 fedbiomed INFO - \u001b[1mTRAINING\u001b[0m \n",
       "\t\t\t\t\t NODE_ID: NODE_CENTRALIZED \n",
       "\t\t\t\t\t Round 5 | Iteration: 55/70 (79%) | Samples: 5555/7000000\n",
       " \t\t\t\t\t Loss: \u001b[1m-311.934143\u001b[0m \n",
       "\t\t\t\t\t ---------"
      ]
     },
     "metadata": {},
     "output_type": "display_data"
    },
    {
     "data": {
      "text/plain": [
       "2025-10-10 10:47:47,025 fedbiomed INFO - \u001b[1mTRAINING\u001b[0m \n",
       "\t\t\t\t\t NODE_ID: NODE_CENTRALIZED \n",
       "\t\t\t\t\t Round 5 | Iteration: 56/70 (80%) | Samples: 5656/7000000\n",
       " \t\t\t\t\t Loss: \u001b[1m-313.780731\u001b[0m \n",
       "\t\t\t\t\t ---------"
      ]
     },
     "metadata": {},
     "output_type": "display_data"
    },
    {
     "data": {
      "text/plain": [
       "2025-10-10 10:47:47,040 fedbiomed INFO - \u001b[1mTRAINING\u001b[0m \n",
       "\t\t\t\t\t NODE_ID: NODE_CENTRALIZED \n",
       "\t\t\t\t\t Round 5 | Iteration: 57/70 (81%) | Samples: 5757/7000000\n",
       " \t\t\t\t\t Loss: \u001b[1m-315.613678\u001b[0m \n",
       "\t\t\t\t\t ---------"
      ]
     },
     "metadata": {},
     "output_type": "display_data"
    },
    {
     "data": {
      "text/plain": [
       "2025-10-10 10:47:47,057 fedbiomed INFO - \u001b[1mTRAINING\u001b[0m \n",
       "\t\t\t\t\t NODE_ID: NODE_CENTRALIZED \n",
       "\t\t\t\t\t Round 5 | Iteration: 58/70 (83%) | Samples: 5858/7000000\n",
       " \t\t\t\t\t Loss: \u001b[1m-317.440674\u001b[0m \n",
       "\t\t\t\t\t ---------"
      ]
     },
     "metadata": {},
     "output_type": "display_data"
    },
    {
     "data": {
      "text/plain": [
       "2025-10-10 10:47:47,072 fedbiomed INFO - \u001b[1mTRAINING\u001b[0m \n",
       "\t\t\t\t\t NODE_ID: NODE_CENTRALIZED \n",
       "\t\t\t\t\t Round 5 | Iteration: 59/70 (84%) | Samples: 5959/7000000\n",
       " \t\t\t\t\t Loss: \u001b[1m-319.253815\u001b[0m \n",
       "\t\t\t\t\t ---------"
      ]
     },
     "metadata": {},
     "output_type": "display_data"
    },
    {
     "data": {
      "text/plain": [
       "2025-10-10 10:47:47,088 fedbiomed INFO - \u001b[1mTRAINING\u001b[0m \n",
       "\t\t\t\t\t NODE_ID: NODE_CENTRALIZED \n",
       "\t\t\t\t\t Round 5 | Iteration: 60/70 (86%) | Samples: 6060/7000000\n",
       " \t\t\t\t\t Loss: \u001b[1m-321.056183\u001b[0m \n",
       "\t\t\t\t\t ---------"
      ]
     },
     "metadata": {},
     "output_type": "display_data"
    },
    {
     "data": {
      "text/plain": [
       "2025-10-10 10:47:47,104 fedbiomed INFO - \u001b[1mTRAINING\u001b[0m \n",
       "\t\t\t\t\t NODE_ID: NODE_CENTRALIZED \n",
       "\t\t\t\t\t Round 5 | Iteration: 61/70 (87%) | Samples: 6161/7000000\n",
       " \t\t\t\t\t Loss: \u001b[1m-322.850220\u001b[0m \n",
       "\t\t\t\t\t ---------"
      ]
     },
     "metadata": {},
     "output_type": "display_data"
    },
    {
     "data": {
      "text/plain": [
       "2025-10-10 10:47:47,120 fedbiomed INFO - \u001b[1mTRAINING\u001b[0m \n",
       "\t\t\t\t\t NODE_ID: NODE_CENTRALIZED \n",
       "\t\t\t\t\t Round 5 | Iteration: 62/70 (89%) | Samples: 6262/7000000\n",
       " \t\t\t\t\t Loss: \u001b[1m-324.629578\u001b[0m \n",
       "\t\t\t\t\t ---------"
      ]
     },
     "metadata": {},
     "output_type": "display_data"
    },
    {
     "data": {
      "text/plain": [
       "2025-10-10 10:47:47,136 fedbiomed INFO - \u001b[1mTRAINING\u001b[0m \n",
       "\t\t\t\t\t NODE_ID: NODE_CENTRALIZED \n",
       "\t\t\t\t\t Round 5 | Iteration: 63/70 (90%) | Samples: 6363/7000000\n",
       " \t\t\t\t\t Loss: \u001b[1m-326.400665\u001b[0m \n",
       "\t\t\t\t\t ---------"
      ]
     },
     "metadata": {},
     "output_type": "display_data"
    },
    {
     "data": {
      "text/plain": [
       "2025-10-10 10:47:47,152 fedbiomed INFO - \u001b[1mTRAINING\u001b[0m \n",
       "\t\t\t\t\t NODE_ID: NODE_CENTRALIZED \n",
       "\t\t\t\t\t Round 5 | Iteration: 64/70 (91%) | Samples: 6464/7000000\n",
       " \t\t\t\t\t Loss: \u001b[1m-328.161133\u001b[0m \n",
       "\t\t\t\t\t ---------"
      ]
     },
     "metadata": {},
     "output_type": "display_data"
    },
    {
     "data": {
      "text/plain": [
       "2025-10-10 10:47:47,168 fedbiomed INFO - \u001b[1mTRAINING\u001b[0m \n",
       "\t\t\t\t\t NODE_ID: NODE_CENTRALIZED \n",
       "\t\t\t\t\t Round 5 | Iteration: 65/70 (93%) | Samples: 6565/7000000\n",
       " \t\t\t\t\t Loss: \u001b[1m-329.908142\u001b[0m \n",
       "\t\t\t\t\t ---------"
      ]
     },
     "metadata": {},
     "output_type": "display_data"
    },
    {
     "data": {
      "text/plain": [
       "2025-10-10 10:47:47,183 fedbiomed INFO - \u001b[1mTRAINING\u001b[0m \n",
       "\t\t\t\t\t NODE_ID: NODE_CENTRALIZED \n",
       "\t\t\t\t\t Round 5 | Iteration: 66/70 (94%) | Samples: 6666/7000000\n",
       " \t\t\t\t\t Loss: \u001b[1m-331.647247\u001b[0m \n",
       "\t\t\t\t\t ---------"
      ]
     },
     "metadata": {},
     "output_type": "display_data"
    },
    {
     "data": {
      "text/plain": [
       "2025-10-10 10:47:47,199 fedbiomed INFO - \u001b[1mTRAINING\u001b[0m \n",
       "\t\t\t\t\t NODE_ID: NODE_CENTRALIZED \n",
       "\t\t\t\t\t Round 5 | Iteration: 67/70 (96%) | Samples: 6767/7000000\n",
       " \t\t\t\t\t Loss: \u001b[1m-333.373566\u001b[0m \n",
       "\t\t\t\t\t ---------"
      ]
     },
     "metadata": {},
     "output_type": "display_data"
    },
    {
     "data": {
      "text/plain": [
       "2025-10-10 10:47:47,215 fedbiomed INFO - \u001b[1mTRAINING\u001b[0m \n",
       "\t\t\t\t\t NODE_ID: NODE_CENTRALIZED \n",
       "\t\t\t\t\t Round 5 | Iteration: 68/70 (97%) | Samples: 6868/7000000\n",
       " \t\t\t\t\t Loss: \u001b[1m-335.089539\u001b[0m \n",
       "\t\t\t\t\t ---------"
      ]
     },
     "metadata": {},
     "output_type": "display_data"
    },
    {
     "data": {
      "text/plain": [
       "2025-10-10 10:47:47,231 fedbiomed INFO - \u001b[1mTRAINING\u001b[0m \n",
       "\t\t\t\t\t NODE_ID: NODE_CENTRALIZED \n",
       "\t\t\t\t\t Round 5 | Iteration: 69/70 (99%) | Samples: 6969/7000000\n",
       " \t\t\t\t\t Loss: \u001b[1m-336.795441\u001b[0m \n",
       "\t\t\t\t\t ---------"
      ]
     },
     "metadata": {},
     "output_type": "display_data"
    },
    {
     "data": {
      "text/plain": [
       "2025-10-10 10:47:47,247 fedbiomed INFO - \u001b[1mTRAINING\u001b[0m \n",
       "\t\t\t\t\t NODE_ID: NODE_CENTRALIZED \n",
       "\t\t\t\t\t Round 5 | Iteration: 70/70 (100%) | Samples: 7070/7000000\n",
       " \t\t\t\t\t Loss: \u001b[1m-338.488983\u001b[0m \n",
       "\t\t\t\t\t ---------"
      ]
     },
     "metadata": {},
     "output_type": "display_data"
    },
    {
     "data": {
      "text/plain": [
       "2025-10-10 10:47:47,376 fedbiomed INFO - Nodes that successfully reply in round 4 ['NODE_CENTRALIZED']"
      ]
     },
     "metadata": {},
     "output_type": "display_data"
    },
    {
     "data": {
      "text/plain": [
       "2025-10-10 10:47:47,419 fedbiomed INFO - Sampled nodes in round 5 ['NODE_CENTRALIZED']"
      ]
     },
     "metadata": {},
     "output_type": "display_data"
    },
    {
     "name": "stdout",
     "output_type": "stream",
     "text": [
      "<function extract_symbols at 0x7f7ba399cd30>\n"
     ]
    },
    {
     "data": {
      "text/plain": [
       "2025-10-10 10:47:47,445 fedbiomed INFO - \u001b[1mSending request\u001b[0m \n",
       "\t\t\t\t\t\u001b[1m To\u001b[0m: NODE_CENTRALIZED \n",
       "\t\t\t\t\t\u001b[1m Request: \u001b[0m: TRAIN\n",
       " -----------------------------------------------------------------"
      ]
     },
     "metadata": {},
     "output_type": "display_data"
    },
    {
     "data": {
      "text/plain": [
       "2025-10-10 10:47:47,515 fedbiomed DEBUG - Node: NODE_CENTRALIZED polling for the tasks"
      ]
     },
     "metadata": {},
     "output_type": "display_data"
    },
    {
     "data": {
      "text/plain": [
       "2025-10-10 10:47:47,623 fedbiomed INFO - \u001b[1mTRAINING\u001b[0m \n",
       "\t\t\t\t\t NODE_ID: NODE_CENTRALIZED \n",
       "\t\t\t\t\t Round 6 | Iteration: 1/70 (1%) | Samples: 101/7000000\n",
       " \t\t\t\t\t Loss: \u001b[1m-340.173553\u001b[0m \n",
       "\t\t\t\t\t ---------"
      ]
     },
     "metadata": {},
     "output_type": "display_data"
    },
    {
     "data": {
      "text/plain": [
       "2025-10-10 10:47:47,646 fedbiomed INFO - \u001b[1mTRAINING\u001b[0m \n",
       "\t\t\t\t\t NODE_ID: NODE_CENTRALIZED \n",
       "\t\t\t\t\t Round 6 | Iteration: 2/70 (3%) | Samples: 202/7000000\n",
       " \t\t\t\t\t Loss: \u001b[1m-338.521545\u001b[0m \n",
       "\t\t\t\t\t ---------"
      ]
     },
     "metadata": {},
     "output_type": "display_data"
    },
    {
     "data": {
      "text/plain": [
       "2025-10-10 10:47:47,667 fedbiomed INFO - \u001b[1mTRAINING\u001b[0m \n",
       "\t\t\t\t\t NODE_ID: NODE_CENTRALIZED \n",
       "\t\t\t\t\t Round 6 | Iteration: 3/70 (4%) | Samples: 303/7000000\n",
       " \t\t\t\t\t Loss: \u001b[1m-343.227661\u001b[0m \n",
       "\t\t\t\t\t ---------"
      ]
     },
     "metadata": {},
     "output_type": "display_data"
    },
    {
     "data": {
      "text/plain": [
       "2025-10-10 10:47:47,689 fedbiomed INFO - \u001b[1mTRAINING\u001b[0m \n",
       "\t\t\t\t\t NODE_ID: NODE_CENTRALIZED \n",
       "\t\t\t\t\t Round 6 | Iteration: 4/70 (6%) | Samples: 404/7000000\n",
       " \t\t\t\t\t Loss: \u001b[1m-344.533569\u001b[0m \n",
       "\t\t\t\t\t ---------"
      ]
     },
     "metadata": {},
     "output_type": "display_data"
    },
    {
     "data": {
      "text/plain": [
       "2025-10-10 10:47:47,705 fedbiomed INFO - \u001b[1mTRAINING\u001b[0m \n",
       "\t\t\t\t\t NODE_ID: NODE_CENTRALIZED \n",
       "\t\t\t\t\t Round 6 | Iteration: 5/70 (7%) | Samples: 505/7000000\n",
       " \t\t\t\t\t Loss: \u001b[1m-345.477386\u001b[0m \n",
       "\t\t\t\t\t ---------"
      ]
     },
     "metadata": {},
     "output_type": "display_data"
    },
    {
     "data": {
      "text/plain": [
       "2025-10-10 10:47:47,721 fedbiomed INFO - \u001b[1mTRAINING\u001b[0m \n",
       "\t\t\t\t\t NODE_ID: NODE_CENTRALIZED \n",
       "\t\t\t\t\t Round 6 | Iteration: 6/70 (9%) | Samples: 606/7000000\n",
       " \t\t\t\t\t Loss: \u001b[1m-347.884491\u001b[0m \n",
       "\t\t\t\t\t ---------"
      ]
     },
     "metadata": {},
     "output_type": "display_data"
    },
    {
     "data": {
      "text/plain": [
       "2025-10-10 10:47:47,737 fedbiomed INFO - \u001b[1mTRAINING\u001b[0m \n",
       "\t\t\t\t\t NODE_ID: NODE_CENTRALIZED \n",
       "\t\t\t\t\t Round 6 | Iteration: 7/70 (10%) | Samples: 707/7000000\n",
       " \t\t\t\t\t Loss: \u001b[1m-350.375854\u001b[0m \n",
       "\t\t\t\t\t ---------"
      ]
     },
     "metadata": {},
     "output_type": "display_data"
    },
    {
     "data": {
      "text/plain": [
       "2025-10-10 10:47:47,753 fedbiomed INFO - \u001b[1mTRAINING\u001b[0m \n",
       "\t\t\t\t\t NODE_ID: NODE_CENTRALIZED \n",
       "\t\t\t\t\t Round 6 | Iteration: 8/70 (11%) | Samples: 808/7000000\n",
       " \t\t\t\t\t Loss: \u001b[1m-352.077545\u001b[0m \n",
       "\t\t\t\t\t ---------"
      ]
     },
     "metadata": {},
     "output_type": "display_data"
    },
    {
     "data": {
      "text/plain": [
       "2025-10-10 10:47:47,769 fedbiomed INFO - \u001b[1mTRAINING\u001b[0m \n",
       "\t\t\t\t\t NODE_ID: NODE_CENTRALIZED \n",
       "\t\t\t\t\t Round 6 | Iteration: 9/70 (13%) | Samples: 909/7000000\n",
       " \t\t\t\t\t Loss: \u001b[1m-353.331146\u001b[0m \n",
       "\t\t\t\t\t ---------"
      ]
     },
     "metadata": {},
     "output_type": "display_data"
    },
    {
     "data": {
      "text/plain": [
       "2025-10-10 10:47:47,785 fedbiomed INFO - \u001b[1mTRAINING\u001b[0m \n",
       "\t\t\t\t\t NODE_ID: NODE_CENTRALIZED \n",
       "\t\t\t\t\t Round 6 | Iteration: 10/70 (14%) | Samples: 1010/7000000\n",
       " \t\t\t\t\t Loss: \u001b[1m-354.926544\u001b[0m \n",
       "\t\t\t\t\t ---------"
      ]
     },
     "metadata": {},
     "output_type": "display_data"
    },
    {
     "data": {
      "text/plain": [
       "2025-10-10 10:47:47,801 fedbiomed INFO - \u001b[1mTRAINING\u001b[0m \n",
       "\t\t\t\t\t NODE_ID: NODE_CENTRALIZED \n",
       "\t\t\t\t\t Round 6 | Iteration: 11/70 (16%) | Samples: 1111/7000000\n",
       " \t\t\t\t\t Loss: \u001b[1m-357.048676\u001b[0m \n",
       "\t\t\t\t\t ---------"
      ]
     },
     "metadata": {},
     "output_type": "display_data"
    },
    {
     "data": {
      "text/plain": [
       "2025-10-10 10:47:47,817 fedbiomed INFO - \u001b[1mTRAINING\u001b[0m \n",
       "\t\t\t\t\t NODE_ID: NODE_CENTRALIZED \n",
       "\t\t\t\t\t Round 6 | Iteration: 12/70 (17%) | Samples: 1212/7000000\n",
       " \t\t\t\t\t Loss: \u001b[1m-359.223602\u001b[0m \n",
       "\t\t\t\t\t ---------"
      ]
     },
     "metadata": {},
     "output_type": "display_data"
    },
    {
     "data": {
      "text/plain": [
       "2025-10-10 10:47:47,833 fedbiomed INFO - \u001b[1mTRAINING\u001b[0m \n",
       "\t\t\t\t\t NODE_ID: NODE_CENTRALIZED \n",
       "\t\t\t\t\t Round 6 | Iteration: 13/70 (19%) | Samples: 1313/7000000\n",
       " \t\t\t\t\t Loss: \u001b[1m-360.994598\u001b[0m \n",
       "\t\t\t\t\t ---------"
      ]
     },
     "metadata": {},
     "output_type": "display_data"
    },
    {
     "data": {
      "text/plain": [
       "2025-10-10 10:47:47,849 fedbiomed INFO - \u001b[1mTRAINING\u001b[0m \n",
       "\t\t\t\t\t NODE_ID: NODE_CENTRALIZED \n",
       "\t\t\t\t\t Round 6 | Iteration: 14/70 (20%) | Samples: 1414/7000000\n",
       " \t\t\t\t\t Loss: \u001b[1m-362.391815\u001b[0m \n",
       "\t\t\t\t\t ---------"
      ]
     },
     "metadata": {},
     "output_type": "display_data"
    },
    {
     "data": {
      "text/plain": [
       "2025-10-10 10:47:47,865 fedbiomed INFO - \u001b[1mTRAINING\u001b[0m \n",
       "\t\t\t\t\t NODE_ID: NODE_CENTRALIZED \n",
       "\t\t\t\t\t Round 6 | Iteration: 15/70 (21%) | Samples: 1515/7000000\n",
       " \t\t\t\t\t Loss: \u001b[1m-363.828522\u001b[0m \n",
       "\t\t\t\t\t ---------"
      ]
     },
     "metadata": {},
     "output_type": "display_data"
    },
    {
     "data": {
      "text/plain": [
       "2025-10-10 10:47:47,881 fedbiomed INFO - \u001b[1mTRAINING\u001b[0m \n",
       "\t\t\t\t\t NODE_ID: NODE_CENTRALIZED \n",
       "\t\t\t\t\t Round 6 | Iteration: 16/70 (23%) | Samples: 1616/7000000\n",
       " \t\t\t\t\t Loss: \u001b[1m-365.568787\u001b[0m \n",
       "\t\t\t\t\t ---------"
      ]
     },
     "metadata": {},
     "output_type": "display_data"
    },
    {
     "data": {
      "text/plain": [
       "2025-10-10 10:47:47,897 fedbiomed INFO - \u001b[1mTRAINING\u001b[0m \n",
       "\t\t\t\t\t NODE_ID: NODE_CENTRALIZED \n",
       "\t\t\t\t\t Round 6 | Iteration: 17/70 (24%) | Samples: 1717/7000000\n",
       " \t\t\t\t\t Loss: \u001b[1m-367.469208\u001b[0m \n",
       "\t\t\t\t\t ---------"
      ]
     },
     "metadata": {},
     "output_type": "display_data"
    },
    {
     "data": {
      "text/plain": [
       "2025-10-10 10:47:47,913 fedbiomed INFO - \u001b[1mTRAINING\u001b[0m \n",
       "\t\t\t\t\t NODE_ID: NODE_CENTRALIZED \n",
       "\t\t\t\t\t Round 6 | Iteration: 18/70 (26%) | Samples: 1818/7000000\n",
       " \t\t\t\t\t Loss: \u001b[1m-369.237854\u001b[0m \n",
       "\t\t\t\t\t ---------"
      ]
     },
     "metadata": {},
     "output_type": "display_data"
    },
    {
     "data": {
      "text/plain": [
       "2025-10-10 10:47:47,929 fedbiomed INFO - \u001b[1mTRAINING\u001b[0m \n",
       "\t\t\t\t\t NODE_ID: NODE_CENTRALIZED \n",
       "\t\t\t\t\t Round 6 | Iteration: 19/70 (27%) | Samples: 1919/7000000\n",
       " \t\t\t\t\t Loss: \u001b[1m-370.790131\u001b[0m \n",
       "\t\t\t\t\t ---------"
      ]
     },
     "metadata": {},
     "output_type": "display_data"
    },
    {
     "data": {
      "text/plain": [
       "2025-10-10 10:47:47,945 fedbiomed INFO - \u001b[1mTRAINING\u001b[0m \n",
       "\t\t\t\t\t NODE_ID: NODE_CENTRALIZED \n",
       "\t\t\t\t\t Round 6 | Iteration: 20/70 (29%) | Samples: 2020/7000000\n",
       " \t\t\t\t\t Loss: \u001b[1m-372.302643\u001b[0m \n",
       "\t\t\t\t\t ---------"
      ]
     },
     "metadata": {},
     "output_type": "display_data"
    },
    {
     "data": {
      "text/plain": [
       "2025-10-10 10:47:47,961 fedbiomed INFO - \u001b[1mTRAINING\u001b[0m \n",
       "\t\t\t\t\t NODE_ID: NODE_CENTRALIZED \n",
       "\t\t\t\t\t Round 6 | Iteration: 21/70 (30%) | Samples: 2121/7000000\n",
       " \t\t\t\t\t Loss: \u001b[1m-373.946777\u001b[0m \n",
       "\t\t\t\t\t ---------"
      ]
     },
     "metadata": {},
     "output_type": "display_data"
    },
    {
     "data": {
      "text/plain": [
       "2025-10-10 10:47:47,977 fedbiomed INFO - \u001b[1mTRAINING\u001b[0m \n",
       "\t\t\t\t\t NODE_ID: NODE_CENTRALIZED \n",
       "\t\t\t\t\t Round 6 | Iteration: 22/70 (31%) | Samples: 2222/7000000\n",
       " \t\t\t\t\t Loss: \u001b[1m-375.679321\u001b[0m \n",
       "\t\t\t\t\t ---------"
      ]
     },
     "metadata": {},
     "output_type": "display_data"
    },
    {
     "data": {
      "text/plain": [
       "2025-10-10 10:47:47,993 fedbiomed INFO - \u001b[1mTRAINING\u001b[0m \n",
       "\t\t\t\t\t NODE_ID: NODE_CENTRALIZED \n",
       "\t\t\t\t\t Round 6 | Iteration: 23/70 (33%) | Samples: 2323/7000000\n",
       " \t\t\t\t\t Loss: \u001b[1m-377.332489\u001b[0m \n",
       "\t\t\t\t\t ---------"
      ]
     },
     "metadata": {},
     "output_type": "display_data"
    },
    {
     "data": {
      "text/plain": [
       "2025-10-10 10:47:48,009 fedbiomed INFO - \u001b[1mTRAINING\u001b[0m \n",
       "\t\t\t\t\t NODE_ID: NODE_CENTRALIZED \n",
       "\t\t\t\t\t Round 6 | Iteration: 24/70 (34%) | Samples: 2424/7000000\n",
       " \t\t\t\t\t Loss: \u001b[1m-378.842987\u001b[0m \n",
       "\t\t\t\t\t ---------"
      ]
     },
     "metadata": {},
     "output_type": "display_data"
    },
    {
     "data": {
      "text/plain": [
       "2025-10-10 10:47:48,025 fedbiomed INFO - \u001b[1mTRAINING\u001b[0m \n",
       "\t\t\t\t\t NODE_ID: NODE_CENTRALIZED \n",
       "\t\t\t\t\t Round 6 | Iteration: 25/70 (36%) | Samples: 2525/7000000\n",
       " \t\t\t\t\t Loss: \u001b[1m-380.317444\u001b[0m \n",
       "\t\t\t\t\t ---------"
      ]
     },
     "metadata": {},
     "output_type": "display_data"
    },
    {
     "data": {
      "text/plain": [
       "2025-10-10 10:47:48,041 fedbiomed INFO - \u001b[1mTRAINING\u001b[0m \n",
       "\t\t\t\t\t NODE_ID: NODE_CENTRALIZED \n",
       "\t\t\t\t\t Round 6 | Iteration: 26/70 (37%) | Samples: 2626/7000000\n",
       " \t\t\t\t\t Loss: \u001b[1m-381.868591\u001b[0m \n",
       "\t\t\t\t\t ---------"
      ]
     },
     "metadata": {},
     "output_type": "display_data"
    },
    {
     "data": {
      "text/plain": [
       "2025-10-10 10:47:48,057 fedbiomed INFO - \u001b[1mTRAINING\u001b[0m \n",
       "\t\t\t\t\t NODE_ID: NODE_CENTRALIZED \n",
       "\t\t\t\t\t Round 6 | Iteration: 27/70 (39%) | Samples: 2727/7000000\n",
       " \t\t\t\t\t Loss: \u001b[1m-383.479645\u001b[0m \n",
       "\t\t\t\t\t ---------"
      ]
     },
     "metadata": {},
     "output_type": "display_data"
    },
    {
     "data": {
      "text/plain": [
       "2025-10-10 10:47:48,072 fedbiomed INFO - \u001b[1mTRAINING\u001b[0m \n",
       "\t\t\t\t\t NODE_ID: NODE_CENTRALIZED \n",
       "\t\t\t\t\t Round 6 | Iteration: 28/70 (40%) | Samples: 2828/7000000\n",
       " \t\t\t\t\t Loss: \u001b[1m-385.057404\u001b[0m \n",
       "\t\t\t\t\t ---------"
      ]
     },
     "metadata": {},
     "output_type": "display_data"
    },
    {
     "data": {
      "text/plain": [
       "2025-10-10 10:47:48,089 fedbiomed INFO - \u001b[1mTRAINING\u001b[0m \n",
       "\t\t\t\t\t NODE_ID: NODE_CENTRALIZED \n",
       "\t\t\t\t\t Round 6 | Iteration: 29/70 (41%) | Samples: 2929/7000000\n",
       " \t\t\t\t\t Loss: \u001b[1m-386.562836\u001b[0m \n",
       "\t\t\t\t\t ---------"
      ]
     },
     "metadata": {},
     "output_type": "display_data"
    },
    {
     "data": {
      "text/plain": [
       "2025-10-10 10:47:48,104 fedbiomed INFO - \u001b[1mTRAINING\u001b[0m \n",
       "\t\t\t\t\t NODE_ID: NODE_CENTRALIZED \n",
       "\t\t\t\t\t Round 6 | Iteration: 30/70 (43%) | Samples: 3030/7000000\n",
       " \t\t\t\t\t Loss: \u001b[1m-388.043396\u001b[0m \n",
       "\t\t\t\t\t ---------"
      ]
     },
     "metadata": {},
     "output_type": "display_data"
    },
    {
     "data": {
      "text/plain": [
       "2025-10-10 10:47:48,120 fedbiomed INFO - \u001b[1mTRAINING\u001b[0m \n",
       "\t\t\t\t\t NODE_ID: NODE_CENTRALIZED \n",
       "\t\t\t\t\t Round 6 | Iteration: 31/70 (44%) | Samples: 3131/7000000\n",
       " \t\t\t\t\t Loss: \u001b[1m-389.538788\u001b[0m \n",
       "\t\t\t\t\t ---------"
      ]
     },
     "metadata": {},
     "output_type": "display_data"
    },
    {
     "data": {
      "text/plain": [
       "2025-10-10 10:47:48,136 fedbiomed INFO - \u001b[1mTRAINING\u001b[0m \n",
       "\t\t\t\t\t NODE_ID: NODE_CENTRALIZED \n",
       "\t\t\t\t\t Round 6 | Iteration: 32/70 (46%) | Samples: 3232/7000000\n",
       " \t\t\t\t\t Loss: \u001b[1m-391.025909\u001b[0m \n",
       "\t\t\t\t\t ---------"
      ]
     },
     "metadata": {},
     "output_type": "display_data"
    },
    {
     "data": {
      "text/plain": [
       "2025-10-10 10:47:48,152 fedbiomed INFO - \u001b[1mTRAINING\u001b[0m \n",
       "\t\t\t\t\t NODE_ID: NODE_CENTRALIZED \n",
       "\t\t\t\t\t Round 6 | Iteration: 33/70 (47%) | Samples: 3333/7000000\n",
       " \t\t\t\t\t Loss: \u001b[1m-392.476471\u001b[0m \n",
       "\t\t\t\t\t ---------"
      ]
     },
     "metadata": {},
     "output_type": "display_data"
    },
    {
     "data": {
      "text/plain": [
       "2025-10-10 10:47:48,168 fedbiomed INFO - \u001b[1mTRAINING\u001b[0m \n",
       "\t\t\t\t\t NODE_ID: NODE_CENTRALIZED \n",
       "\t\t\t\t\t Round 6 | Iteration: 34/70 (49%) | Samples: 3434/7000000\n",
       " \t\t\t\t\t Loss: \u001b[1m-393.910034\u001b[0m \n",
       "\t\t\t\t\t ---------"
      ]
     },
     "metadata": {},
     "output_type": "display_data"
    },
    {
     "data": {
      "text/plain": [
       "2025-10-10 10:47:48,183 fedbiomed INFO - \u001b[1mTRAINING\u001b[0m \n",
       "\t\t\t\t\t NODE_ID: NODE_CENTRALIZED \n",
       "\t\t\t\t\t Round 6 | Iteration: 35/70 (50%) | Samples: 3535/7000000\n",
       " \t\t\t\t\t Loss: \u001b[1m-395.358856\u001b[0m \n",
       "\t\t\t\t\t ---------"
      ]
     },
     "metadata": {},
     "output_type": "display_data"
    },
    {
     "data": {
      "text/plain": [
       "2025-10-10 10:47:48,199 fedbiomed INFO - \u001b[1mTRAINING\u001b[0m \n",
       "\t\t\t\t\t NODE_ID: NODE_CENTRALIZED \n",
       "\t\t\t\t\t Round 6 | Iteration: 36/70 (51%) | Samples: 3636/7000000\n",
       " \t\t\t\t\t Loss: \u001b[1m-396.807190\u001b[0m \n",
       "\t\t\t\t\t ---------"
      ]
     },
     "metadata": {},
     "output_type": "display_data"
    },
    {
     "data": {
      "text/plain": [
       "2025-10-10 10:47:48,215 fedbiomed INFO - \u001b[1mTRAINING\u001b[0m \n",
       "\t\t\t\t\t NODE_ID: NODE_CENTRALIZED \n",
       "\t\t\t\t\t Round 6 | Iteration: 37/70 (53%) | Samples: 3737/7000000\n",
       " \t\t\t\t\t Loss: \u001b[1m-398.218262\u001b[0m \n",
       "\t\t\t\t\t ---------"
      ]
     },
     "metadata": {},
     "output_type": "display_data"
    },
    {
     "data": {
      "text/plain": [
       "2025-10-10 10:47:48,231 fedbiomed INFO - \u001b[1mTRAINING\u001b[0m \n",
       "\t\t\t\t\t NODE_ID: NODE_CENTRALIZED \n",
       "\t\t\t\t\t Round 6 | Iteration: 38/70 (54%) | Samples: 3838/7000000\n",
       " \t\t\t\t\t Loss: \u001b[1m-399.597137\u001b[0m \n",
       "\t\t\t\t\t ---------"
      ]
     },
     "metadata": {},
     "output_type": "display_data"
    },
    {
     "data": {
      "text/plain": [
       "2025-10-10 10:47:48,247 fedbiomed INFO - \u001b[1mTRAINING\u001b[0m \n",
       "\t\t\t\t\t NODE_ID: NODE_CENTRALIZED \n",
       "\t\t\t\t\t Round 6 | Iteration: 39/70 (56%) | Samples: 3939/7000000\n",
       " \t\t\t\t\t Loss: \u001b[1m-400.975006\u001b[0m \n",
       "\t\t\t\t\t ---------"
      ]
     },
     "metadata": {},
     "output_type": "display_data"
    },
    {
     "data": {
      "text/plain": [
       "2025-10-10 10:47:48,262 fedbiomed INFO - \u001b[1mTRAINING\u001b[0m \n",
       "\t\t\t\t\t NODE_ID: NODE_CENTRALIZED \n",
       "\t\t\t\t\t Round 6 | Iteration: 40/70 (57%) | Samples: 4040/7000000\n",
       " \t\t\t\t\t Loss: \u001b[1m-402.353302\u001b[0m \n",
       "\t\t\t\t\t ---------"
      ]
     },
     "metadata": {},
     "output_type": "display_data"
    },
    {
     "data": {
      "text/plain": [
       "2025-10-10 10:47:48,279 fedbiomed INFO - \u001b[1mTRAINING\u001b[0m \n",
       "\t\t\t\t\t NODE_ID: NODE_CENTRALIZED \n",
       "\t\t\t\t\t Round 6 | Iteration: 41/70 (59%) | Samples: 4141/7000000\n",
       " \t\t\t\t\t Loss: \u001b[1m-403.707306\u001b[0m \n",
       "\t\t\t\t\t ---------"
      ]
     },
     "metadata": {},
     "output_type": "display_data"
    },
    {
     "data": {
      "text/plain": [
       "2025-10-10 10:47:48,295 fedbiomed INFO - \u001b[1mTRAINING\u001b[0m \n",
       "\t\t\t\t\t NODE_ID: NODE_CENTRALIZED \n",
       "\t\t\t\t\t Round 6 | Iteration: 42/70 (60%) | Samples: 4242/7000000\n",
       " \t\t\t\t\t Loss: \u001b[1m-405.035461\u001b[0m \n",
       "\t\t\t\t\t ---------"
      ]
     },
     "metadata": {},
     "output_type": "display_data"
    },
    {
     "data": {
      "text/plain": [
       "2025-10-10 10:47:48,311 fedbiomed INFO - \u001b[1mTRAINING\u001b[0m \n",
       "\t\t\t\t\t NODE_ID: NODE_CENTRALIZED \n",
       "\t\t\t\t\t Round 6 | Iteration: 43/70 (61%) | Samples: 4343/7000000\n",
       " \t\t\t\t\t Loss: \u001b[1m-406.359589\u001b[0m \n",
       "\t\t\t\t\t ---------"
      ]
     },
     "metadata": {},
     "output_type": "display_data"
    },
    {
     "data": {
      "text/plain": [
       "2025-10-10 10:47:48,326 fedbiomed INFO - \u001b[1mTRAINING\u001b[0m \n",
       "\t\t\t\t\t NODE_ID: NODE_CENTRALIZED \n",
       "\t\t\t\t\t Round 6 | Iteration: 44/70 (63%) | Samples: 4444/7000000\n",
       " \t\t\t\t\t Loss: \u001b[1m-407.681458\u001b[0m \n",
       "\t\t\t\t\t ---------"
      ]
     },
     "metadata": {},
     "output_type": "display_data"
    },
    {
     "data": {
      "text/plain": [
       "2025-10-10 10:47:48,343 fedbiomed INFO - \u001b[1mTRAINING\u001b[0m \n",
       "\t\t\t\t\t NODE_ID: NODE_CENTRALIZED \n",
       "\t\t\t\t\t Round 6 | Iteration: 45/70 (64%) | Samples: 4545/7000000\n",
       " \t\t\t\t\t Loss: \u001b[1m-408.981842\u001b[0m \n",
       "\t\t\t\t\t ---------"
      ]
     },
     "metadata": {},
     "output_type": "display_data"
    },
    {
     "data": {
      "text/plain": [
       "2025-10-10 10:47:48,359 fedbiomed INFO - \u001b[1mTRAINING\u001b[0m \n",
       "\t\t\t\t\t NODE_ID: NODE_CENTRALIZED \n",
       "\t\t\t\t\t Round 6 | Iteration: 46/70 (66%) | Samples: 4646/7000000\n",
       " \t\t\t\t\t Loss: \u001b[1m-410.257416\u001b[0m \n",
       "\t\t\t\t\t ---------"
      ]
     },
     "metadata": {},
     "output_type": "display_data"
    },
    {
     "data": {
      "text/plain": [
       "2025-10-10 10:47:48,375 fedbiomed INFO - \u001b[1mTRAINING\u001b[0m \n",
       "\t\t\t\t\t NODE_ID: NODE_CENTRALIZED \n",
       "\t\t\t\t\t Round 6 | Iteration: 47/70 (67%) | Samples: 4747/7000000\n",
       " \t\t\t\t\t Loss: \u001b[1m-411.521606\u001b[0m \n",
       "\t\t\t\t\t ---------"
      ]
     },
     "metadata": {},
     "output_type": "display_data"
    },
    {
     "data": {
      "text/plain": [
       "2025-10-10 10:47:48,391 fedbiomed INFO - \u001b[1mTRAINING\u001b[0m \n",
       "\t\t\t\t\t NODE_ID: NODE_CENTRALIZED \n",
       "\t\t\t\t\t Round 6 | Iteration: 48/70 (69%) | Samples: 4848/7000000\n",
       " \t\t\t\t\t Loss: \u001b[1m-412.775330\u001b[0m \n",
       "\t\t\t\t\t ---------"
      ]
     },
     "metadata": {},
     "output_type": "display_data"
    },
    {
     "data": {
      "text/plain": [
       "2025-10-10 10:47:48,407 fedbiomed INFO - \u001b[1mTRAINING\u001b[0m \n",
       "\t\t\t\t\t NODE_ID: NODE_CENTRALIZED \n",
       "\t\t\t\t\t Round 6 | Iteration: 49/70 (70%) | Samples: 4949/7000000\n",
       " \t\t\t\t\t Loss: \u001b[1m-414.011292\u001b[0m \n",
       "\t\t\t\t\t ---------"
      ]
     },
     "metadata": {},
     "output_type": "display_data"
    },
    {
     "data": {
      "text/plain": [
       "2025-10-10 10:47:48,423 fedbiomed INFO - \u001b[1mTRAINING\u001b[0m \n",
       "\t\t\t\t\t NODE_ID: NODE_CENTRALIZED \n",
       "\t\t\t\t\t Round 6 | Iteration: 50/70 (71%) | Samples: 5050/7000000\n",
       " \t\t\t\t\t Loss: \u001b[1m-415.233521\u001b[0m \n",
       "\t\t\t\t\t ---------"
      ]
     },
     "metadata": {},
     "output_type": "display_data"
    },
    {
     "data": {
      "text/plain": [
       "2025-10-10 10:47:48,438 fedbiomed INFO - \u001b[1mTRAINING\u001b[0m \n",
       "\t\t\t\t\t NODE_ID: NODE_CENTRALIZED \n",
       "\t\t\t\t\t Round 6 | Iteration: 51/70 (73%) | Samples: 5151/7000000\n",
       " \t\t\t\t\t Loss: \u001b[1m-416.447235\u001b[0m \n",
       "\t\t\t\t\t ---------"
      ]
     },
     "metadata": {},
     "output_type": "display_data"
    },
    {
     "data": {
      "text/plain": [
       "2025-10-10 10:47:48,455 fedbiomed INFO - \u001b[1mTRAINING\u001b[0m \n",
       "\t\t\t\t\t NODE_ID: NODE_CENTRALIZED \n",
       "\t\t\t\t\t Round 6 | Iteration: 52/70 (74%) | Samples: 5252/7000000\n",
       " \t\t\t\t\t Loss: \u001b[1m-417.643524\u001b[0m \n",
       "\t\t\t\t\t ---------"
      ]
     },
     "metadata": {},
     "output_type": "display_data"
    },
    {
     "data": {
      "text/plain": [
       "2025-10-10 10:47:48,471 fedbiomed INFO - \u001b[1mTRAINING\u001b[0m \n",
       "\t\t\t\t\t NODE_ID: NODE_CENTRALIZED \n",
       "\t\t\t\t\t Round 6 | Iteration: 53/70 (76%) | Samples: 5353/7000000\n",
       " \t\t\t\t\t Loss: \u001b[1m-418.817749\u001b[0m \n",
       "\t\t\t\t\t ---------"
      ]
     },
     "metadata": {},
     "output_type": "display_data"
    },
    {
     "data": {
      "text/plain": [
       "2025-10-10 10:47:48,487 fedbiomed INFO - \u001b[1mTRAINING\u001b[0m \n",
       "\t\t\t\t\t NODE_ID: NODE_CENTRALIZED \n",
       "\t\t\t\t\t Round 6 | Iteration: 54/70 (77%) | Samples: 5454/7000000\n",
       " \t\t\t\t\t Loss: \u001b[1m-419.979095\u001b[0m \n",
       "\t\t\t\t\t ---------"
      ]
     },
     "metadata": {},
     "output_type": "display_data"
    },
    {
     "data": {
      "text/plain": [
       "2025-10-10 10:47:48,503 fedbiomed INFO - \u001b[1mTRAINING\u001b[0m \n",
       "\t\t\t\t\t NODE_ID: NODE_CENTRALIZED \n",
       "\t\t\t\t\t Round 6 | Iteration: 55/70 (79%) | Samples: 5555/7000000\n",
       " \t\t\t\t\t Loss: \u001b[1m-421.130096\u001b[0m \n",
       "\t\t\t\t\t ---------"
      ]
     },
     "metadata": {},
     "output_type": "display_data"
    },
    {
     "data": {
      "text/plain": [
       "2025-10-10 10:47:48,519 fedbiomed INFO - \u001b[1mTRAINING\u001b[0m \n",
       "\t\t\t\t\t NODE_ID: NODE_CENTRALIZED \n",
       "\t\t\t\t\t Round 6 | Iteration: 56/70 (80%) | Samples: 5656/7000000\n",
       " \t\t\t\t\t Loss: \u001b[1m-422.264099\u001b[0m \n",
       "\t\t\t\t\t ---------"
      ]
     },
     "metadata": {},
     "output_type": "display_data"
    },
    {
     "data": {
      "text/plain": [
       "2025-10-10 10:47:48,535 fedbiomed INFO - \u001b[1mTRAINING\u001b[0m \n",
       "\t\t\t\t\t NODE_ID: NODE_CENTRALIZED \n",
       "\t\t\t\t\t Round 6 | Iteration: 57/70 (81%) | Samples: 5757/7000000\n",
       " \t\t\t\t\t Loss: \u001b[1m-423.382812\u001b[0m \n",
       "\t\t\t\t\t ---------"
      ]
     },
     "metadata": {},
     "output_type": "display_data"
    },
    {
     "data": {
      "text/plain": [
       "2025-10-10 10:47:48,551 fedbiomed INFO - \u001b[1mTRAINING\u001b[0m \n",
       "\t\t\t\t\t NODE_ID: NODE_CENTRALIZED \n",
       "\t\t\t\t\t Round 6 | Iteration: 58/70 (83%) | Samples: 5858/7000000\n",
       " \t\t\t\t\t Loss: \u001b[1m-424.489929\u001b[0m \n",
       "\t\t\t\t\t ---------"
      ]
     },
     "metadata": {},
     "output_type": "display_data"
    },
    {
     "data": {
      "text/plain": [
       "2025-10-10 10:47:48,567 fedbiomed INFO - \u001b[1mTRAINING\u001b[0m \n",
       "\t\t\t\t\t NODE_ID: NODE_CENTRALIZED \n",
       "\t\t\t\t\t Round 6 | Iteration: 59/70 (84%) | Samples: 5959/7000000\n",
       " \t\t\t\t\t Loss: \u001b[1m-425.579010\u001b[0m \n",
       "\t\t\t\t\t ---------"
      ]
     },
     "metadata": {},
     "output_type": "display_data"
    },
    {
     "data": {
      "text/plain": [
       "2025-10-10 10:47:48,583 fedbiomed INFO - \u001b[1mTRAINING\u001b[0m \n",
       "\t\t\t\t\t NODE_ID: NODE_CENTRALIZED \n",
       "\t\t\t\t\t Round 6 | Iteration: 60/70 (86%) | Samples: 6060/7000000\n",
       " \t\t\t\t\t Loss: \u001b[1m-426.648895\u001b[0m \n",
       "\t\t\t\t\t ---------"
      ]
     },
     "metadata": {},
     "output_type": "display_data"
    },
    {
     "data": {
      "text/plain": [
       "2025-10-10 10:47:48,599 fedbiomed INFO - \u001b[1mTRAINING\u001b[0m \n",
       "\t\t\t\t\t NODE_ID: NODE_CENTRALIZED \n",
       "\t\t\t\t\t Round 6 | Iteration: 61/70 (87%) | Samples: 6161/7000000\n",
       " \t\t\t\t\t Loss: \u001b[1m-427.708405\u001b[0m \n",
       "\t\t\t\t\t ---------"
      ]
     },
     "metadata": {},
     "output_type": "display_data"
    },
    {
     "data": {
      "text/plain": [
       "2025-10-10 10:47:48,615 fedbiomed INFO - \u001b[1mTRAINING\u001b[0m \n",
       "\t\t\t\t\t NODE_ID: NODE_CENTRALIZED \n",
       "\t\t\t\t\t Round 6 | Iteration: 62/70 (89%) | Samples: 6262/7000000\n",
       " \t\t\t\t\t Loss: \u001b[1m-428.755798\u001b[0m \n",
       "\t\t\t\t\t ---------"
      ]
     },
     "metadata": {},
     "output_type": "display_data"
    },
    {
     "data": {
      "text/plain": [
       "2025-10-10 10:47:48,631 fedbiomed INFO - \u001b[1mTRAINING\u001b[0m \n",
       "\t\t\t\t\t NODE_ID: NODE_CENTRALIZED \n",
       "\t\t\t\t\t Round 6 | Iteration: 63/70 (90%) | Samples: 6363/7000000\n",
       " \t\t\t\t\t Loss: \u001b[1m-429.783539\u001b[0m \n",
       "\t\t\t\t\t ---------"
      ]
     },
     "metadata": {},
     "output_type": "display_data"
    },
    {
     "data": {
      "text/plain": [
       "2025-10-10 10:47:48,647 fedbiomed INFO - \u001b[1mTRAINING\u001b[0m \n",
       "\t\t\t\t\t NODE_ID: NODE_CENTRALIZED \n",
       "\t\t\t\t\t Round 6 | Iteration: 64/70 (91%) | Samples: 6464/7000000\n",
       " \t\t\t\t\t Loss: \u001b[1m-430.795715\u001b[0m \n",
       "\t\t\t\t\t ---------"
      ]
     },
     "metadata": {},
     "output_type": "display_data"
    },
    {
     "data": {
      "text/plain": [
       "2025-10-10 10:47:48,663 fedbiomed INFO - \u001b[1mTRAINING\u001b[0m \n",
       "\t\t\t\t\t NODE_ID: NODE_CENTRALIZED \n",
       "\t\t\t\t\t Round 6 | Iteration: 65/70 (93%) | Samples: 6565/7000000\n",
       " \t\t\t\t\t Loss: \u001b[1m-431.796753\u001b[0m \n",
       "\t\t\t\t\t ---------"
      ]
     },
     "metadata": {},
     "output_type": "display_data"
    },
    {
     "data": {
      "text/plain": [
       "2025-10-10 10:47:48,679 fedbiomed INFO - \u001b[1mTRAINING\u001b[0m \n",
       "\t\t\t\t\t NODE_ID: NODE_CENTRALIZED \n",
       "\t\t\t\t\t Round 6 | Iteration: 66/70 (94%) | Samples: 6666/7000000\n",
       " \t\t\t\t\t Loss: \u001b[1m-432.780731\u001b[0m \n",
       "\t\t\t\t\t ---------"
      ]
     },
     "metadata": {},
     "output_type": "display_data"
    },
    {
     "data": {
      "text/plain": [
       "2025-10-10 10:47:48,695 fedbiomed INFO - \u001b[1mTRAINING\u001b[0m \n",
       "\t\t\t\t\t NODE_ID: NODE_CENTRALIZED \n",
       "\t\t\t\t\t Round 6 | Iteration: 67/70 (96%) | Samples: 6767/7000000\n",
       " \t\t\t\t\t Loss: \u001b[1m-433.747345\u001b[0m \n",
       "\t\t\t\t\t ---------"
      ]
     },
     "metadata": {},
     "output_type": "display_data"
    },
    {
     "data": {
      "text/plain": [
       "2025-10-10 10:47:48,711 fedbiomed INFO - \u001b[1mTRAINING\u001b[0m \n",
       "\t\t\t\t\t NODE_ID: NODE_CENTRALIZED \n",
       "\t\t\t\t\t Round 6 | Iteration: 68/70 (97%) | Samples: 6868/7000000\n",
       " \t\t\t\t\t Loss: \u001b[1m-434.701843\u001b[0m \n",
       "\t\t\t\t\t ---------"
      ]
     },
     "metadata": {},
     "output_type": "display_data"
    },
    {
     "data": {
      "text/plain": [
       "2025-10-10 10:47:48,727 fedbiomed INFO - \u001b[1mTRAINING\u001b[0m \n",
       "\t\t\t\t\t NODE_ID: NODE_CENTRALIZED \n",
       "\t\t\t\t\t Round 6 | Iteration: 69/70 (99%) | Samples: 6969/7000000\n",
       " \t\t\t\t\t Loss: \u001b[1m-435.641815\u001b[0m \n",
       "\t\t\t\t\t ---------"
      ]
     },
     "metadata": {},
     "output_type": "display_data"
    },
    {
     "data": {
      "text/plain": [
       "2025-10-10 10:47:48,743 fedbiomed INFO - \u001b[1mTRAINING\u001b[0m \n",
       "\t\t\t\t\t NODE_ID: NODE_CENTRALIZED \n",
       "\t\t\t\t\t Round 6 | Iteration: 70/70 (100%) | Samples: 7070/7000000\n",
       " \t\t\t\t\t Loss: \u001b[1m-436.565063\u001b[0m \n",
       "\t\t\t\t\t ---------"
      ]
     },
     "metadata": {},
     "output_type": "display_data"
    },
    {
     "data": {
      "text/plain": [
       "2025-10-10 10:47:48,860 fedbiomed INFO - Nodes that successfully reply in round 5 ['NODE_CENTRALIZED']"
      ]
     },
     "metadata": {},
     "output_type": "display_data"
    },
    {
     "data": {
      "text/plain": [
       "2025-10-10 10:47:48,890 fedbiomed INFO - Sampled nodes in round 6 ['NODE_CENTRALIZED']"
      ]
     },
     "metadata": {},
     "output_type": "display_data"
    },
    {
     "name": "stdout",
     "output_type": "stream",
     "text": [
      "<function extract_symbols at 0x7f7ba399cd30>\n"
     ]
    },
    {
     "data": {
      "text/plain": [
       "2025-10-10 10:47:48,911 fedbiomed INFO - \u001b[1mSending request\u001b[0m \n",
       "\t\t\t\t\t\u001b[1m To\u001b[0m: NODE_CENTRALIZED \n",
       "\t\t\t\t\t\u001b[1m Request: \u001b[0m: TRAIN\n",
       " -----------------------------------------------------------------"
      ]
     },
     "metadata": {},
     "output_type": "display_data"
    },
    {
     "data": {
      "text/plain": [
       "2025-10-10 10:47:48,980 fedbiomed DEBUG - Node: NODE_CENTRALIZED polling for the tasks"
      ]
     },
     "metadata": {},
     "output_type": "display_data"
    },
    {
     "data": {
      "text/plain": [
       "2025-10-10 10:47:49,071 fedbiomed INFO - \u001b[1mTRAINING\u001b[0m \n",
       "\t\t\t\t\t NODE_ID: NODE_CENTRALIZED \n",
       "\t\t\t\t\t Round 7 | Iteration: 1/70 (1%) | Samples: 101/7000000\n",
       " \t\t\t\t\t Loss: \u001b[1m-437.473907\u001b[0m \n",
       "\t\t\t\t\t ---------"
      ]
     },
     "metadata": {},
     "output_type": "display_data"
    },
    {
     "data": {
      "text/plain": [
       "2025-10-10 10:47:49,096 fedbiomed INFO - \u001b[1mTRAINING\u001b[0m \n",
       "\t\t\t\t\t NODE_ID: NODE_CENTRALIZED \n",
       "\t\t\t\t\t Round 7 | Iteration: 2/70 (3%) | Samples: 202/7000000\n",
       " \t\t\t\t\t Loss: \u001b[1m-431.955597\u001b[0m \n",
       "\t\t\t\t\t ---------"
      ]
     },
     "metadata": {},
     "output_type": "display_data"
    },
    {
     "data": {
      "text/plain": [
       "2025-10-10 10:47:49,114 fedbiomed INFO - \u001b[1mTRAINING\u001b[0m \n",
       "\t\t\t\t\t NODE_ID: NODE_CENTRALIZED \n",
       "\t\t\t\t\t Round 7 | Iteration: 3/70 (4%) | Samples: 303/7000000\n",
       " \t\t\t\t\t Loss: \u001b[1m-439.059357\u001b[0m \n",
       "\t\t\t\t\t ---------"
      ]
     },
     "metadata": {},
     "output_type": "display_data"
    },
    {
     "data": {
      "text/plain": [
       "2025-10-10 10:47:49,132 fedbiomed INFO - \u001b[1mTRAINING\u001b[0m \n",
       "\t\t\t\t\t NODE_ID: NODE_CENTRALIZED \n",
       "\t\t\t\t\t Round 7 | Iteration: 4/70 (6%) | Samples: 404/7000000\n",
       " \t\t\t\t\t Loss: \u001b[1m-439.139008\u001b[0m \n",
       "\t\t\t\t\t ---------"
      ]
     },
     "metadata": {},
     "output_type": "display_data"
    },
    {
     "data": {
      "text/plain": [
       "2025-10-10 10:47:49,151 fedbiomed INFO - \u001b[1mTRAINING\u001b[0m \n",
       "\t\t\t\t\t NODE_ID: NODE_CENTRALIZED \n",
       "\t\t\t\t\t Round 7 | Iteration: 5/70 (7%) | Samples: 505/7000000\n",
       " \t\t\t\t\t Loss: \u001b[1m-437.978180\u001b[0m \n",
       "\t\t\t\t\t ---------"
      ]
     },
     "metadata": {},
     "output_type": "display_data"
    },
    {
     "data": {
      "text/plain": [
       "2025-10-10 10:47:49,168 fedbiomed INFO - \u001b[1mTRAINING\u001b[0m \n",
       "\t\t\t\t\t NODE_ID: NODE_CENTRALIZED \n",
       "\t\t\t\t\t Round 7 | Iteration: 6/70 (9%) | Samples: 606/7000000\n",
       " \t\t\t\t\t Loss: \u001b[1m-440.134460\u001b[0m \n",
       "\t\t\t\t\t ---------"
      ]
     },
     "metadata": {},
     "output_type": "display_data"
    },
    {
     "data": {
      "text/plain": [
       "2025-10-10 10:47:49,184 fedbiomed INFO - \u001b[1mTRAINING\u001b[0m \n",
       "\t\t\t\t\t NODE_ID: NODE_CENTRALIZED \n",
       "\t\t\t\t\t Round 7 | Iteration: 7/70 (10%) | Samples: 707/7000000\n",
       " \t\t\t\t\t Loss: \u001b[1m-443.094696\u001b[0m \n",
       "\t\t\t\t\t ---------"
      ]
     },
     "metadata": {},
     "output_type": "display_data"
    },
    {
     "data": {
      "text/plain": [
       "2025-10-10 10:47:49,199 fedbiomed INFO - \u001b[1mTRAINING\u001b[0m \n",
       "\t\t\t\t\t NODE_ID: NODE_CENTRALIZED \n",
       "\t\t\t\t\t Round 7 | Iteration: 8/70 (11%) | Samples: 808/7000000\n",
       " \t\t\t\t\t Loss: \u001b[1m-444.585663\u001b[0m \n",
       "\t\t\t\t\t ---------"
      ]
     },
     "metadata": {},
     "output_type": "display_data"
    },
    {
     "data": {
      "text/plain": [
       "2025-10-10 10:47:49,214 fedbiomed INFO - \u001b[1mTRAINING\u001b[0m \n",
       "\t\t\t\t\t NODE_ID: NODE_CENTRALIZED \n",
       "\t\t\t\t\t Round 7 | Iteration: 9/70 (13%) | Samples: 909/7000000\n",
       " \t\t\t\t\t Loss: \u001b[1m-444.609863\u001b[0m \n",
       "\t\t\t\t\t ---------"
      ]
     },
     "metadata": {},
     "output_type": "display_data"
    },
    {
     "data": {
      "text/plain": [
       "2025-10-10 10:47:49,230 fedbiomed INFO - \u001b[1mTRAINING\u001b[0m \n",
       "\t\t\t\t\t NODE_ID: NODE_CENTRALIZED \n",
       "\t\t\t\t\t Round 7 | Iteration: 10/70 (14%) | Samples: 1010/7000000\n",
       " \t\t\t\t\t Loss: \u001b[1m-444.799988\u001b[0m \n",
       "\t\t\t\t\t ---------"
      ]
     },
     "metadata": {},
     "output_type": "display_data"
    },
    {
     "data": {
      "text/plain": [
       "2025-10-10 10:47:49,246 fedbiomed INFO - \u001b[1mTRAINING\u001b[0m \n",
       "\t\t\t\t\t NODE_ID: NODE_CENTRALIZED \n",
       "\t\t\t\t\t Round 7 | Iteration: 11/70 (16%) | Samples: 1111/7000000\n",
       " \t\t\t\t\t Loss: \u001b[1m-446.122284\u001b[0m \n",
       "\t\t\t\t\t ---------"
      ]
     },
     "metadata": {},
     "output_type": "display_data"
    },
    {
     "data": {
      "text/plain": [
       "2025-10-10 10:47:49,261 fedbiomed INFO - \u001b[1mTRAINING\u001b[0m \n",
       "\t\t\t\t\t NODE_ID: NODE_CENTRALIZED \n",
       "\t\t\t\t\t Round 7 | Iteration: 12/70 (17%) | Samples: 1212/7000000\n",
       " \t\t\t\t\t Loss: \u001b[1m-448.038849\u001b[0m \n",
       "\t\t\t\t\t ---------"
      ]
     },
     "metadata": {},
     "output_type": "display_data"
    },
    {
     "data": {
      "text/plain": [
       "2025-10-10 10:47:49,279 fedbiomed INFO - \u001b[1mTRAINING\u001b[0m \n",
       "\t\t\t\t\t NODE_ID: NODE_CENTRALIZED \n",
       "\t\t\t\t\t Round 7 | Iteration: 13/70 (19%) | Samples: 1313/7000000\n",
       " \t\t\t\t\t Loss: \u001b[1m-449.518799\u001b[0m \n",
       "\t\t\t\t\t ---------"
      ]
     },
     "metadata": {},
     "output_type": "display_data"
    },
    {
     "data": {
      "text/plain": [
       "2025-10-10 10:47:49,295 fedbiomed INFO - \u001b[1mTRAINING\u001b[0m \n",
       "\t\t\t\t\t NODE_ID: NODE_CENTRALIZED \n",
       "\t\t\t\t\t Round 7 | Iteration: 14/70 (20%) | Samples: 1414/7000000\n",
       " \t\t\t\t\t Loss: \u001b[1m-450.141602\u001b[0m \n",
       "\t\t\t\t\t ---------"
      ]
     },
     "metadata": {},
     "output_type": "display_data"
    },
    {
     "data": {
      "text/plain": [
       "2025-10-10 10:47:49,311 fedbiomed INFO - \u001b[1mTRAINING\u001b[0m \n",
       "\t\t\t\t\t NODE_ID: NODE_CENTRALIZED \n",
       "\t\t\t\t\t Round 7 | Iteration: 15/70 (21%) | Samples: 1515/7000000\n",
       " \t\t\t\t\t Loss: \u001b[1m-450.428192\u001b[0m \n",
       "\t\t\t\t\t ---------"
      ]
     },
     "metadata": {},
     "output_type": "display_data"
    },
    {
     "data": {
      "text/plain": [
       "2025-10-10 10:47:49,327 fedbiomed INFO - \u001b[1mTRAINING\u001b[0m \n",
       "\t\t\t\t\t NODE_ID: NODE_CENTRALIZED \n",
       "\t\t\t\t\t Round 7 | Iteration: 16/70 (23%) | Samples: 1616/7000000\n",
       " \t\t\t\t\t Loss: \u001b[1m-451.130371\u001b[0m \n",
       "\t\t\t\t\t ---------"
      ]
     },
     "metadata": {},
     "output_type": "display_data"
    },
    {
     "data": {
      "text/plain": [
       "2025-10-10 10:47:49,343 fedbiomed INFO - \u001b[1mTRAINING\u001b[0m \n",
       "\t\t\t\t\t NODE_ID: NODE_CENTRALIZED \n",
       "\t\t\t\t\t Round 7 | Iteration: 17/70 (24%) | Samples: 1717/7000000\n",
       " \t\t\t\t\t Loss: \u001b[1m-452.362213\u001b[0m \n",
       "\t\t\t\t\t ---------"
      ]
     },
     "metadata": {},
     "output_type": "display_data"
    },
    {
     "data": {
      "text/plain": [
       "2025-10-10 10:47:49,358 fedbiomed INFO - \u001b[1mTRAINING\u001b[0m \n",
       "\t\t\t\t\t NODE_ID: NODE_CENTRALIZED \n",
       "\t\t\t\t\t Round 7 | Iteration: 18/70 (26%) | Samples: 1818/7000000\n",
       " \t\t\t\t\t Loss: \u001b[1m-453.644592\u001b[0m \n",
       "\t\t\t\t\t ---------"
      ]
     },
     "metadata": {},
     "output_type": "display_data"
    },
    {
     "data": {
      "text/plain": [
       "2025-10-10 10:47:49,373 fedbiomed INFO - \u001b[1mTRAINING\u001b[0m \n",
       "\t\t\t\t\t NODE_ID: NODE_CENTRALIZED \n",
       "\t\t\t\t\t Round 7 | Iteration: 19/70 (27%) | Samples: 1919/7000000\n",
       " \t\t\t\t\t Loss: \u001b[1m-454.527954\u001b[0m \n",
       "\t\t\t\t\t ---------"
      ]
     },
     "metadata": {},
     "output_type": "display_data"
    },
    {
     "data": {
      "text/plain": [
       "2025-10-10 10:47:49,389 fedbiomed INFO - \u001b[1mTRAINING\u001b[0m \n",
       "\t\t\t\t\t NODE_ID: NODE_CENTRALIZED \n",
       "\t\t\t\t\t Round 7 | Iteration: 20/70 (29%) | Samples: 2020/7000000\n",
       " \t\t\t\t\t Loss: \u001b[1m-455.056915\u001b[0m \n",
       "\t\t\t\t\t ---------"
      ]
     },
     "metadata": {},
     "output_type": "display_data"
    },
    {
     "data": {
      "text/plain": [
       "2025-10-10 10:47:49,405 fedbiomed INFO - \u001b[1mTRAINING\u001b[0m \n",
       "\t\t\t\t\t NODE_ID: NODE_CENTRALIZED \n",
       "\t\t\t\t\t Round 7 | Iteration: 21/70 (30%) | Samples: 2121/7000000\n",
       " \t\t\t\t\t Loss: \u001b[1m-455.635925\u001b[0m \n",
       "\t\t\t\t\t ---------"
      ]
     },
     "metadata": {},
     "output_type": "display_data"
    },
    {
     "data": {
      "text/plain": [
       "2025-10-10 10:47:49,420 fedbiomed INFO - \u001b[1mTRAINING\u001b[0m \n",
       "\t\t\t\t\t NODE_ID: NODE_CENTRALIZED \n",
       "\t\t\t\t\t Round 7 | Iteration: 22/70 (31%) | Samples: 2222/7000000\n",
       " \t\t\t\t\t Loss: \u001b[1m-456.499023\u001b[0m \n",
       "\t\t\t\t\t ---------"
      ]
     },
     "metadata": {},
     "output_type": "display_data"
    },
    {
     "data": {
      "text/plain": [
       "2025-10-10 10:47:49,437 fedbiomed INFO - \u001b[1mTRAINING\u001b[0m \n",
       "\t\t\t\t\t NODE_ID: NODE_CENTRALIZED \n",
       "\t\t\t\t\t Round 7 | Iteration: 23/70 (33%) | Samples: 2323/7000000\n",
       " \t\t\t\t\t Loss: \u001b[1m-457.478027\u001b[0m \n",
       "\t\t\t\t\t ---------"
      ]
     },
     "metadata": {},
     "output_type": "display_data"
    },
    {
     "data": {
      "text/plain": [
       "2025-10-10 10:47:49,452 fedbiomed INFO - \u001b[1mTRAINING\u001b[0m \n",
       "\t\t\t\t\t NODE_ID: NODE_CENTRALIZED \n",
       "\t\t\t\t\t Round 7 | Iteration: 24/70 (34%) | Samples: 2424/7000000\n",
       " \t\t\t\t\t Loss: \u001b[1m-458.273499\u001b[0m \n",
       "\t\t\t\t\t ---------"
      ]
     },
     "metadata": {},
     "output_type": "display_data"
    },
    {
     "data": {
      "text/plain": [
       "2025-10-10 10:47:49,468 fedbiomed INFO - \u001b[1mTRAINING\u001b[0m \n",
       "\t\t\t\t\t NODE_ID: NODE_CENTRALIZED \n",
       "\t\t\t\t\t Round 7 | Iteration: 25/70 (36%) | Samples: 2525/7000000\n",
       " \t\t\t\t\t Loss: \u001b[1m-458.823792\u001b[0m \n",
       "\t\t\t\t\t ---------"
      ]
     },
     "metadata": {},
     "output_type": "display_data"
    },
    {
     "data": {
      "text/plain": [
       "2025-10-10 10:47:49,483 fedbiomed INFO - \u001b[1mTRAINING\u001b[0m \n",
       "\t\t\t\t\t NODE_ID: NODE_CENTRALIZED \n",
       "\t\t\t\t\t Round 7 | Iteration: 26/70 (37%) | Samples: 2626/7000000\n",
       " \t\t\t\t\t Loss: \u001b[1m-459.351959\u001b[0m \n",
       "\t\t\t\t\t ---------"
      ]
     },
     "metadata": {},
     "output_type": "display_data"
    },
    {
     "data": {
      "text/plain": [
       "2025-10-10 10:47:49,499 fedbiomed INFO - \u001b[1mTRAINING\u001b[0m \n",
       "\t\t\t\t\t NODE_ID: NODE_CENTRALIZED \n",
       "\t\t\t\t\t Round 7 | Iteration: 27/70 (39%) | Samples: 2727/7000000\n",
       " \t\t\t\t\t Loss: \u001b[1m-460.049744\u001b[0m \n",
       "\t\t\t\t\t ---------"
      ]
     },
     "metadata": {},
     "output_type": "display_data"
    },
    {
     "data": {
      "text/plain": [
       "2025-10-10 10:47:49,515 fedbiomed INFO - \u001b[1mTRAINING\u001b[0m \n",
       "\t\t\t\t\t NODE_ID: NODE_CENTRALIZED \n",
       "\t\t\t\t\t Round 7 | Iteration: 28/70 (40%) | Samples: 2828/7000000\n",
       " \t\t\t\t\t Loss: \u001b[1m-460.835602\u001b[0m \n",
       "\t\t\t\t\t ---------"
      ]
     },
     "metadata": {},
     "output_type": "display_data"
    },
    {
     "data": {
      "text/plain": [
       "2025-10-10 10:47:49,531 fedbiomed INFO - \u001b[1mTRAINING\u001b[0m \n",
       "\t\t\t\t\t NODE_ID: NODE_CENTRALIZED \n",
       "\t\t\t\t\t Round 7 | Iteration: 29/70 (41%) | Samples: 2929/7000000\n",
       " \t\t\t\t\t Loss: \u001b[1m-461.500763\u001b[0m \n",
       "\t\t\t\t\t ---------"
      ]
     },
     "metadata": {},
     "output_type": "display_data"
    },
    {
     "data": {
      "text/plain": [
       "2025-10-10 10:47:49,546 fedbiomed INFO - \u001b[1mTRAINING\u001b[0m \n",
       "\t\t\t\t\t NODE_ID: NODE_CENTRALIZED \n",
       "\t\t\t\t\t Round 7 | Iteration: 30/70 (43%) | Samples: 3030/7000000\n",
       " \t\t\t\t\t Loss: \u001b[1m-461.996796\u001b[0m \n",
       "\t\t\t\t\t ---------"
      ]
     },
     "metadata": {},
     "output_type": "display_data"
    },
    {
     "data": {
      "text/plain": [
       "2025-10-10 10:47:49,562 fedbiomed INFO - \u001b[1mTRAINING\u001b[0m \n",
       "\t\t\t\t\t NODE_ID: NODE_CENTRALIZED \n",
       "\t\t\t\t\t Round 7 | Iteration: 31/70 (44%) | Samples: 3131/7000000\n",
       " \t\t\t\t\t Loss: \u001b[1m-462.478668\u001b[0m \n",
       "\t\t\t\t\t ---------"
      ]
     },
     "metadata": {},
     "output_type": "display_data"
    },
    {
     "data": {
      "text/plain": [
       "2025-10-10 10:47:49,578 fedbiomed INFO - \u001b[1mTRAINING\u001b[0m \n",
       "\t\t\t\t\t NODE_ID: NODE_CENTRALIZED \n",
       "\t\t\t\t\t Round 7 | Iteration: 32/70 (46%) | Samples: 3232/7000000\n",
       " \t\t\t\t\t Loss: \u001b[1m-463.066650\u001b[0m \n",
       "\t\t\t\t\t ---------"
      ]
     },
     "metadata": {},
     "output_type": "display_data"
    },
    {
     "data": {
      "text/plain": [
       "2025-10-10 10:47:49,595 fedbiomed INFO - \u001b[1mTRAINING\u001b[0m \n",
       "\t\t\t\t\t NODE_ID: NODE_CENTRALIZED \n",
       "\t\t\t\t\t Round 7 | Iteration: 33/70 (47%) | Samples: 3333/7000000\n",
       " \t\t\t\t\t Loss: \u001b[1m-463.684052\u001b[0m \n",
       "\t\t\t\t\t ---------"
      ]
     },
     "metadata": {},
     "output_type": "display_data"
    },
    {
     "data": {
      "text/plain": [
       "2025-10-10 10:47:49,611 fedbiomed INFO - \u001b[1mTRAINING\u001b[0m \n",
       "\t\t\t\t\t NODE_ID: NODE_CENTRALIZED \n",
       "\t\t\t\t\t Round 7 | Iteration: 34/70 (49%) | Samples: 3434/7000000\n",
       " \t\t\t\t\t Loss: \u001b[1m-464.192688\u001b[0m \n",
       "\t\t\t\t\t ---------"
      ]
     },
     "metadata": {},
     "output_type": "display_data"
    },
    {
     "data": {
      "text/plain": [
       "2025-10-10 10:47:49,627 fedbiomed INFO - \u001b[1mTRAINING\u001b[0m \n",
       "\t\t\t\t\t NODE_ID: NODE_CENTRALIZED \n",
       "\t\t\t\t\t Round 7 | Iteration: 35/70 (50%) | Samples: 3535/7000000\n",
       " \t\t\t\t\t Loss: \u001b[1m-464.598785\u001b[0m \n",
       "\t\t\t\t\t ---------"
      ]
     },
     "metadata": {},
     "output_type": "display_data"
    },
    {
     "data": {
      "text/plain": [
       "2025-10-10 10:47:49,642 fedbiomed INFO - \u001b[1mTRAINING\u001b[0m \n",
       "\t\t\t\t\t NODE_ID: NODE_CENTRALIZED \n",
       "\t\t\t\t\t Round 7 | Iteration: 36/70 (51%) | Samples: 3636/7000000\n",
       " \t\t\t\t\t Loss: \u001b[1m-465.028320\u001b[0m \n",
       "\t\t\t\t\t ---------"
      ]
     },
     "metadata": {},
     "output_type": "display_data"
    },
    {
     "data": {
      "text/plain": [
       "2025-10-10 10:47:49,658 fedbiomed INFO - \u001b[1mTRAINING\u001b[0m \n",
       "\t\t\t\t\t NODE_ID: NODE_CENTRALIZED \n",
       "\t\t\t\t\t Round 7 | Iteration: 37/70 (53%) | Samples: 3737/7000000\n",
       " \t\t\t\t\t Loss: \u001b[1m-465.528351\u001b[0m \n",
       "\t\t\t\t\t ---------"
      ]
     },
     "metadata": {},
     "output_type": "display_data"
    },
    {
     "data": {
      "text/plain": [
       "2025-10-10 10:47:49,675 fedbiomed INFO - \u001b[1mTRAINING\u001b[0m \n",
       "\t\t\t\t\t NODE_ID: NODE_CENTRALIZED \n",
       "\t\t\t\t\t Round 7 | Iteration: 38/70 (54%) | Samples: 3838/7000000\n",
       " \t\t\t\t\t Loss: \u001b[1m-466.006226\u001b[0m \n",
       "\t\t\t\t\t ---------"
      ]
     },
     "metadata": {},
     "output_type": "display_data"
    },
    {
     "data": {
      "text/plain": [
       "2025-10-10 10:47:49,691 fedbiomed INFO - \u001b[1mTRAINING\u001b[0m \n",
       "\t\t\t\t\t NODE_ID: NODE_CENTRALIZED \n",
       "\t\t\t\t\t Round 7 | Iteration: 39/70 (56%) | Samples: 3939/7000000\n",
       " \t\t\t\t\t Loss: \u001b[1m-466.386658\u001b[0m \n",
       "\t\t\t\t\t ---------"
      ]
     },
     "metadata": {},
     "output_type": "display_data"
    },
    {
     "data": {
      "text/plain": [
       "2025-10-10 10:47:49,707 fedbiomed INFO - \u001b[1mTRAINING\u001b[0m \n",
       "\t\t\t\t\t NODE_ID: NODE_CENTRALIZED \n",
       "\t\t\t\t\t Round 7 | Iteration: 40/70 (57%) | Samples: 4040/7000000\n",
       " \t\t\t\t\t Loss: \u001b[1m-466.723663\u001b[0m \n",
       "\t\t\t\t\t ---------"
      ]
     },
     "metadata": {},
     "output_type": "display_data"
    },
    {
     "data": {
      "text/plain": [
       "2025-10-10 10:47:49,722 fedbiomed INFO - \u001b[1mTRAINING\u001b[0m \n",
       "\t\t\t\t\t NODE_ID: NODE_CENTRALIZED \n",
       "\t\t\t\t\t Round 7 | Iteration: 41/70 (59%) | Samples: 4141/7000000\n",
       " \t\t\t\t\t Loss: \u001b[1m-467.099304\u001b[0m \n",
       "\t\t\t\t\t ---------"
      ]
     },
     "metadata": {},
     "output_type": "display_data"
    },
    {
     "data": {
      "text/plain": [
       "2025-10-10 10:47:49,737 fedbiomed INFO - \u001b[1mTRAINING\u001b[0m \n",
       "\t\t\t\t\t NODE_ID: NODE_CENTRALIZED \n",
       "\t\t\t\t\t Round 7 | Iteration: 42/70 (60%) | Samples: 4242/7000000\n",
       " \t\t\t\t\t Loss: \u001b[1m-467.490814\u001b[0m \n",
       "\t\t\t\t\t ---------"
      ]
     },
     "metadata": {},
     "output_type": "display_data"
    },
    {
     "data": {
      "text/plain": [
       "2025-10-10 10:47:49,753 fedbiomed INFO - \u001b[1mTRAINING\u001b[0m \n",
       "\t\t\t\t\t NODE_ID: NODE_CENTRALIZED \n",
       "\t\t\t\t\t Round 7 | Iteration: 43/70 (61%) | Samples: 4343/7000000\n",
       " \t\t\t\t\t Loss: \u001b[1m-467.824463\u001b[0m \n",
       "\t\t\t\t\t ---------"
      ]
     },
     "metadata": {},
     "output_type": "display_data"
    },
    {
     "data": {
      "text/plain": [
       "2025-10-10 10:47:49,769 fedbiomed INFO - \u001b[1mTRAINING\u001b[0m \n",
       "\t\t\t\t\t NODE_ID: NODE_CENTRALIZED \n",
       "\t\t\t\t\t Round 7 | Iteration: 44/70 (63%) | Samples: 4444/7000000\n",
       " \t\t\t\t\t Loss: \u001b[1m-468.105743\u001b[0m \n",
       "\t\t\t\t\t ---------"
      ]
     },
     "metadata": {},
     "output_type": "display_data"
    },
    {
     "data": {
      "text/plain": [
       "2025-10-10 10:47:49,785 fedbiomed INFO - \u001b[1mTRAINING\u001b[0m \n",
       "\t\t\t\t\t NODE_ID: NODE_CENTRALIZED \n",
       "\t\t\t\t\t Round 7 | Iteration: 45/70 (64%) | Samples: 4545/7000000\n",
       " \t\t\t\t\t Loss: \u001b[1m-468.400299\u001b[0m \n",
       "\t\t\t\t\t ---------"
      ]
     },
     "metadata": {},
     "output_type": "display_data"
    },
    {
     "data": {
      "text/plain": [
       "2025-10-10 10:47:49,800 fedbiomed INFO - \u001b[1mTRAINING\u001b[0m \n",
       "\t\t\t\t\t NODE_ID: NODE_CENTRALIZED \n",
       "\t\t\t\t\t Round 7 | Iteration: 46/70 (66%) | Samples: 4646/7000000\n",
       " \t\t\t\t\t Loss: \u001b[1m-468.714172\u001b[0m \n",
       "\t\t\t\t\t ---------"
      ]
     },
     "metadata": {},
     "output_type": "display_data"
    },
    {
     "data": {
      "text/plain": [
       "2025-10-10 10:47:49,816 fedbiomed INFO - \u001b[1mTRAINING\u001b[0m \n",
       "\t\t\t\t\t NODE_ID: NODE_CENTRALIZED \n",
       "\t\t\t\t\t Round 7 | Iteration: 47/70 (67%) | Samples: 4747/7000000\n",
       " \t\t\t\t\t Loss: \u001b[1m-468.990021\u001b[0m \n",
       "\t\t\t\t\t ---------"
      ]
     },
     "metadata": {},
     "output_type": "display_data"
    },
    {
     "data": {
      "text/plain": [
       "2025-10-10 10:47:49,832 fedbiomed INFO - \u001b[1mTRAINING\u001b[0m \n",
       "\t\t\t\t\t NODE_ID: NODE_CENTRALIZED \n",
       "\t\t\t\t\t Round 7 | Iteration: 48/70 (69%) | Samples: 4848/7000000\n",
       " \t\t\t\t\t Loss: \u001b[1m-469.215057\u001b[0m \n",
       "\t\t\t\t\t ---------"
      ]
     },
     "metadata": {},
     "output_type": "display_data"
    },
    {
     "data": {
      "text/plain": [
       "2025-10-10 10:47:49,848 fedbiomed INFO - \u001b[1mTRAINING\u001b[0m \n",
       "\t\t\t\t\t NODE_ID: NODE_CENTRALIZED \n",
       "\t\t\t\t\t Round 7 | Iteration: 49/70 (70%) | Samples: 4949/7000000\n",
       " \t\t\t\t\t Loss: \u001b[1m-469.439819\u001b[0m \n",
       "\t\t\t\t\t ---------"
      ]
     },
     "metadata": {},
     "output_type": "display_data"
    },
    {
     "data": {
      "text/plain": [
       "2025-10-10 10:47:49,863 fedbiomed INFO - \u001b[1mTRAINING\u001b[0m \n",
       "\t\t\t\t\t NODE_ID: NODE_CENTRALIZED \n",
       "\t\t\t\t\t Round 7 | Iteration: 50/70 (71%) | Samples: 5050/7000000\n",
       " \t\t\t\t\t Loss: \u001b[1m-469.682373\u001b[0m \n",
       "\t\t\t\t\t ---------"
      ]
     },
     "metadata": {},
     "output_type": "display_data"
    },
    {
     "data": {
      "text/plain": [
       "2025-10-10 10:47:49,879 fedbiomed INFO - \u001b[1mTRAINING\u001b[0m \n",
       "\t\t\t\t\t NODE_ID: NODE_CENTRALIZED \n",
       "\t\t\t\t\t Round 7 | Iteration: 51/70 (73%) | Samples: 5151/7000000\n",
       " \t\t\t\t\t Loss: \u001b[1m-469.901672\u001b[0m \n",
       "\t\t\t\t\t ---------"
      ]
     },
     "metadata": {},
     "output_type": "display_data"
    },
    {
     "data": {
      "text/plain": [
       "2025-10-10 10:47:49,894 fedbiomed INFO - \u001b[1mTRAINING\u001b[0m \n",
       "\t\t\t\t\t NODE_ID: NODE_CENTRALIZED \n",
       "\t\t\t\t\t Round 7 | Iteration: 52/70 (74%) | Samples: 5252/7000000\n",
       " \t\t\t\t\t Loss: \u001b[1m-470.080322\u001b[0m \n",
       "\t\t\t\t\t ---------"
      ]
     },
     "metadata": {},
     "output_type": "display_data"
    },
    {
     "data": {
      "text/plain": [
       "2025-10-10 10:47:49,910 fedbiomed INFO - \u001b[1mTRAINING\u001b[0m \n",
       "\t\t\t\t\t NODE_ID: NODE_CENTRALIZED \n",
       "\t\t\t\t\t Round 7 | Iteration: 53/70 (76%) | Samples: 5353/7000000\n",
       " \t\t\t\t\t Loss: \u001b[1m-470.253571\u001b[0m \n",
       "\t\t\t\t\t ---------"
      ]
     },
     "metadata": {},
     "output_type": "display_data"
    },
    {
     "data": {
      "text/plain": [
       "2025-10-10 10:47:49,925 fedbiomed INFO - \u001b[1mTRAINING\u001b[0m \n",
       "\t\t\t\t\t NODE_ID: NODE_CENTRALIZED \n",
       "\t\t\t\t\t Round 7 | Iteration: 54/70 (77%) | Samples: 5454/7000000\n",
       " \t\t\t\t\t Loss: \u001b[1m-470.437225\u001b[0m \n",
       "\t\t\t\t\t ---------"
      ]
     },
     "metadata": {},
     "output_type": "display_data"
    },
    {
     "data": {
      "text/plain": [
       "2025-10-10 10:47:49,941 fedbiomed INFO - \u001b[1mTRAINING\u001b[0m \n",
       "\t\t\t\t\t NODE_ID: NODE_CENTRALIZED \n",
       "\t\t\t\t\t Round 7 | Iteration: 55/70 (79%) | Samples: 5555/7000000\n",
       " \t\t\t\t\t Loss: \u001b[1m-470.601929\u001b[0m \n",
       "\t\t\t\t\t ---------"
      ]
     },
     "metadata": {},
     "output_type": "display_data"
    },
    {
     "data": {
      "text/plain": [
       "2025-10-10 10:47:49,956 fedbiomed INFO - \u001b[1mTRAINING\u001b[0m \n",
       "\t\t\t\t\t NODE_ID: NODE_CENTRALIZED \n",
       "\t\t\t\t\t Round 7 | Iteration: 56/70 (80%) | Samples: 5656/7000000\n",
       " \t\t\t\t\t Loss: \u001b[1m-470.736206\u001b[0m \n",
       "\t\t\t\t\t ---------"
      ]
     },
     "metadata": {},
     "output_type": "display_data"
    },
    {
     "data": {
      "text/plain": [
       "2025-10-10 10:47:49,973 fedbiomed INFO - \u001b[1mTRAINING\u001b[0m \n",
       "\t\t\t\t\t NODE_ID: NODE_CENTRALIZED \n",
       "\t\t\t\t\t Round 7 | Iteration: 57/70 (81%) | Samples: 5757/7000000\n",
       " \t\t\t\t\t Loss: \u001b[1m-470.866760\u001b[0m \n",
       "\t\t\t\t\t ---------"
      ]
     },
     "metadata": {},
     "output_type": "display_data"
    },
    {
     "data": {
      "text/plain": [
       "2025-10-10 10:47:49,988 fedbiomed INFO - \u001b[1mTRAINING\u001b[0m \n",
       "\t\t\t\t\t NODE_ID: NODE_CENTRALIZED \n",
       "\t\t\t\t\t Round 7 | Iteration: 58/70 (83%) | Samples: 5858/7000000\n",
       " \t\t\t\t\t Loss: \u001b[1m-471.002502\u001b[0m \n",
       "\t\t\t\t\t ---------"
      ]
     },
     "metadata": {},
     "output_type": "display_data"
    },
    {
     "data": {
      "text/plain": [
       "2025-10-10 10:47:50,004 fedbiomed INFO - \u001b[1mTRAINING\u001b[0m \n",
       "\t\t\t\t\t NODE_ID: NODE_CENTRALIZED \n",
       "\t\t\t\t\t Round 7 | Iteration: 59/70 (84%) | Samples: 5959/7000000\n",
       " \t\t\t\t\t Loss: \u001b[1m-471.121490\u001b[0m \n",
       "\t\t\t\t\t ---------"
      ]
     },
     "metadata": {},
     "output_type": "display_data"
    },
    {
     "data": {
      "text/plain": [
       "2025-10-10 10:47:50,019 fedbiomed INFO - \u001b[1mTRAINING\u001b[0m \n",
       "\t\t\t\t\t NODE_ID: NODE_CENTRALIZED \n",
       "\t\t\t\t\t Round 7 | Iteration: 60/70 (86%) | Samples: 6060/7000000\n",
       " \t\t\t\t\t Loss: \u001b[1m-471.220123\u001b[0m \n",
       "\t\t\t\t\t ---------"
      ]
     },
     "metadata": {},
     "output_type": "display_data"
    },
    {
     "data": {
      "text/plain": [
       "2025-10-10 10:47:50,035 fedbiomed INFO - \u001b[1mTRAINING\u001b[0m \n",
       "\t\t\t\t\t NODE_ID: NODE_CENTRALIZED \n",
       "\t\t\t\t\t Round 7 | Iteration: 61/70 (87%) | Samples: 6161/7000000\n",
       " \t\t\t\t\t Loss: \u001b[1m-471.317566\u001b[0m \n",
       "\t\t\t\t\t ---------"
      ]
     },
     "metadata": {},
     "output_type": "display_data"
    },
    {
     "data": {
      "text/plain": [
       "2025-10-10 10:47:50,051 fedbiomed INFO - \u001b[1mTRAINING\u001b[0m \n",
       "\t\t\t\t\t NODE_ID: NODE_CENTRALIZED \n",
       "\t\t\t\t\t Round 7 | Iteration: 62/70 (89%) | Samples: 6262/7000000\n",
       " \t\t\t\t\t Loss: \u001b[1m-471.413971\u001b[0m \n",
       "\t\t\t\t\t ---------"
      ]
     },
     "metadata": {},
     "output_type": "display_data"
    },
    {
     "data": {
      "text/plain": [
       "2025-10-10 10:47:50,067 fedbiomed INFO - \u001b[1mTRAINING\u001b[0m \n",
       "\t\t\t\t\t NODE_ID: NODE_CENTRALIZED \n",
       "\t\t\t\t\t Round 7 | Iteration: 63/70 (90%) | Samples: 6363/7000000\n",
       " \t\t\t\t\t Loss: \u001b[1m-471.494263\u001b[0m \n",
       "\t\t\t\t\t ---------"
      ]
     },
     "metadata": {},
     "output_type": "display_data"
    },
    {
     "data": {
      "text/plain": [
       "2025-10-10 10:47:50,082 fedbiomed INFO - \u001b[1mTRAINING\u001b[0m \n",
       "\t\t\t\t\t NODE_ID: NODE_CENTRALIZED \n",
       "\t\t\t\t\t Round 7 | Iteration: 64/70 (91%) | Samples: 6464/7000000\n",
       " \t\t\t\t\t Loss: \u001b[1m-471.563507\u001b[0m \n",
       "\t\t\t\t\t ---------"
      ]
     },
     "metadata": {},
     "output_type": "display_data"
    },
    {
     "data": {
      "text/plain": [
       "2025-10-10 10:47:50,098 fedbiomed INFO - \u001b[1mTRAINING\u001b[0m \n",
       "\t\t\t\t\t NODE_ID: NODE_CENTRALIZED \n",
       "\t\t\t\t\t Round 7 | Iteration: 65/70 (93%) | Samples: 6565/7000000\n",
       " \t\t\t\t\t Loss: \u001b[1m-471.634338\u001b[0m \n",
       "\t\t\t\t\t ---------"
      ]
     },
     "metadata": {},
     "output_type": "display_data"
    },
    {
     "data": {
      "text/plain": [
       "2025-10-10 10:47:50,114 fedbiomed INFO - \u001b[1mTRAINING\u001b[0m \n",
       "\t\t\t\t\t NODE_ID: NODE_CENTRALIZED \n",
       "\t\t\t\t\t Round 7 | Iteration: 66/70 (94%) | Samples: 6666/7000000\n",
       " \t\t\t\t\t Loss: \u001b[1m-471.699982\u001b[0m \n",
       "\t\t\t\t\t ---------"
      ]
     },
     "metadata": {},
     "output_type": "display_data"
    },
    {
     "data": {
      "text/plain": [
       "2025-10-10 10:47:50,130 fedbiomed INFO - \u001b[1mTRAINING\u001b[0m \n",
       "\t\t\t\t\t NODE_ID: NODE_CENTRALIZED \n",
       "\t\t\t\t\t Round 7 | Iteration: 67/70 (96%) | Samples: 6767/7000000\n",
       " \t\t\t\t\t Loss: \u001b[1m-471.752380\u001b[0m \n",
       "\t\t\t\t\t ---------"
      ]
     },
     "metadata": {},
     "output_type": "display_data"
    },
    {
     "data": {
      "text/plain": [
       "2025-10-10 10:47:50,145 fedbiomed INFO - \u001b[1mTRAINING\u001b[0m \n",
       "\t\t\t\t\t NODE_ID: NODE_CENTRALIZED \n",
       "\t\t\t\t\t Round 7 | Iteration: 68/70 (97%) | Samples: 6868/7000000\n",
       " \t\t\t\t\t Loss: \u001b[1m-471.800415\u001b[0m \n",
       "\t\t\t\t\t ---------"
      ]
     },
     "metadata": {},
     "output_type": "display_data"
    },
    {
     "data": {
      "text/plain": [
       "2025-10-10 10:47:50,161 fedbiomed INFO - \u001b[1mTRAINING\u001b[0m \n",
       "\t\t\t\t\t NODE_ID: NODE_CENTRALIZED \n",
       "\t\t\t\t\t Round 7 | Iteration: 69/70 (99%) | Samples: 6969/7000000\n",
       " \t\t\t\t\t Loss: \u001b[1m-471.848480\u001b[0m \n",
       "\t\t\t\t\t ---------"
      ]
     },
     "metadata": {},
     "output_type": "display_data"
    },
    {
     "data": {
      "text/plain": [
       "2025-10-10 10:47:50,177 fedbiomed INFO - \u001b[1mTRAINING\u001b[0m \n",
       "\t\t\t\t\t NODE_ID: NODE_CENTRALIZED \n",
       "\t\t\t\t\t Round 7 | Iteration: 70/70 (100%) | Samples: 7070/7000000\n",
       " \t\t\t\t\t Loss: \u001b[1m-471.888916\u001b[0m \n",
       "\t\t\t\t\t ---------"
      ]
     },
     "metadata": {},
     "output_type": "display_data"
    },
    {
     "data": {
      "text/plain": [
       "2025-10-10 10:47:50,323 fedbiomed INFO - Nodes that successfully reply in round 6 ['NODE_CENTRALIZED']"
      ]
     },
     "metadata": {},
     "output_type": "display_data"
    },
    {
     "data": {
      "text/plain": [
       "2025-10-10 10:47:50,352 fedbiomed INFO - Sampled nodes in round 7 ['NODE_CENTRALIZED']"
      ]
     },
     "metadata": {},
     "output_type": "display_data"
    },
    {
     "name": "stdout",
     "output_type": "stream",
     "text": [
      "<function extract_symbols at 0x7f7ba399cd30>\n"
     ]
    },
    {
     "data": {
      "text/plain": [
       "2025-10-10 10:47:50,370 fedbiomed INFO - \u001b[1mSending request\u001b[0m \n",
       "\t\t\t\t\t\u001b[1m To\u001b[0m: NODE_CENTRALIZED \n",
       "\t\t\t\t\t\u001b[1m Request: \u001b[0m: TRAIN\n",
       " -----------------------------------------------------------------"
      ]
     },
     "metadata": {},
     "output_type": "display_data"
    },
    {
     "data": {
      "text/plain": [
       "2025-10-10 10:47:50,431 fedbiomed DEBUG - Node: NODE_CENTRALIZED polling for the tasks"
      ]
     },
     "metadata": {},
     "output_type": "display_data"
    },
    {
     "data": {
      "text/plain": [
       "2025-10-10 10:47:50,542 fedbiomed INFO - \u001b[1mTRAINING\u001b[0m \n",
       "\t\t\t\t\t NODE_ID: NODE_CENTRALIZED \n",
       "\t\t\t\t\t Round 8 | Iteration: 1/70 (1%) | Samples: 101/7000000\n",
       " \t\t\t\t\t Loss: \u001b[1m-471.922119\u001b[0m \n",
       "\t\t\t\t\t ---------"
      ]
     },
     "metadata": {},
     "output_type": "display_data"
    },
    {
     "data": {
      "text/plain": [
       "2025-10-10 10:47:50,563 fedbiomed INFO - \u001b[1mTRAINING\u001b[0m \n",
       "\t\t\t\t\t NODE_ID: NODE_CENTRALIZED \n",
       "\t\t\t\t\t Round 8 | Iteration: 2/70 (3%) | Samples: 202/7000000\n",
       " \t\t\t\t\t Loss: \u001b[1m-460.326904\u001b[0m \n",
       "\t\t\t\t\t ---------"
      ]
     },
     "metadata": {},
     "output_type": "display_data"
    },
    {
     "data": {
      "text/plain": [
       "2025-10-10 10:47:50,585 fedbiomed INFO - \u001b[1mTRAINING\u001b[0m \n",
       "\t\t\t\t\t NODE_ID: NODE_CENTRALIZED \n",
       "\t\t\t\t\t Round 8 | Iteration: 3/70 (4%) | Samples: 303/7000000\n",
       " \t\t\t\t\t Loss: \u001b[1m-471.202972\u001b[0m \n",
       "\t\t\t\t\t ---------"
      ]
     },
     "metadata": {},
     "output_type": "display_data"
    },
    {
     "data": {
      "text/plain": [
       "2025-10-10 10:47:50,605 fedbiomed INFO - \u001b[1mTRAINING\u001b[0m \n",
       "\t\t\t\t\t NODE_ID: NODE_CENTRALIZED \n",
       "\t\t\t\t\t Round 8 | Iteration: 4/70 (6%) | Samples: 404/7000000\n",
       " \t\t\t\t\t Loss: \u001b[1m-469.443024\u001b[0m \n",
       "\t\t\t\t\t ---------"
      ]
     },
     "metadata": {},
     "output_type": "display_data"
    },
    {
     "data": {
      "text/plain": [
       "2025-10-10 10:47:50,621 fedbiomed INFO - \u001b[1mTRAINING\u001b[0m \n",
       "\t\t\t\t\t NODE_ID: NODE_CENTRALIZED \n",
       "\t\t\t\t\t Round 8 | Iteration: 5/70 (7%) | Samples: 505/7000000\n",
       " \t\t\t\t\t Loss: \u001b[1m-465.456787\u001b[0m \n",
       "\t\t\t\t\t ---------"
      ]
     },
     "metadata": {},
     "output_type": "display_data"
    },
    {
     "data": {
      "text/plain": [
       "2025-10-10 10:47:50,637 fedbiomed INFO - \u001b[1mTRAINING\u001b[0m \n",
       "\t\t\t\t\t NODE_ID: NODE_CENTRALIZED \n",
       "\t\t\t\t\t Round 8 | Iteration: 6/70 (9%) | Samples: 606/7000000\n",
       " \t\t\t\t\t Loss: \u001b[1m-467.264435\u001b[0m \n",
       "\t\t\t\t\t ---------"
      ]
     },
     "metadata": {},
     "output_type": "display_data"
    },
    {
     "data": {
      "text/plain": [
       "2025-10-10 10:47:50,653 fedbiomed INFO - \u001b[1mTRAINING\u001b[0m \n",
       "\t\t\t\t\t NODE_ID: NODE_CENTRALIZED \n",
       "\t\t\t\t\t Round 8 | Iteration: 7/70 (10%) | Samples: 707/7000000\n",
       " \t\t\t\t\t Loss: \u001b[1m-470.747803\u001b[0m \n",
       "\t\t\t\t\t ---------"
      ]
     },
     "metadata": {},
     "output_type": "display_data"
    },
    {
     "data": {
      "text/plain": [
       "2025-10-10 10:47:50,669 fedbiomed INFO - \u001b[1mTRAINING\u001b[0m \n",
       "\t\t\t\t\t NODE_ID: NODE_CENTRALIZED \n",
       "\t\t\t\t\t Round 8 | Iteration: 8/70 (11%) | Samples: 808/7000000\n",
       " \t\t\t\t\t Loss: \u001b[1m-471.894623\u001b[0m \n",
       "\t\t\t\t\t ---------"
      ]
     },
     "metadata": {},
     "output_type": "display_data"
    },
    {
     "data": {
      "text/plain": [
       "2025-10-10 10:47:50,685 fedbiomed INFO - \u001b[1mTRAINING\u001b[0m \n",
       "\t\t\t\t\t NODE_ID: NODE_CENTRALIZED \n",
       "\t\t\t\t\t Round 8 | Iteration: 9/70 (13%) | Samples: 909/7000000\n",
       " \t\t\t\t\t Loss: \u001b[1m-470.380585\u001b[0m \n",
       "\t\t\t\t\t ---------"
      ]
     },
     "metadata": {},
     "output_type": "display_data"
    },
    {
     "data": {
      "text/plain": [
       "2025-10-10 10:47:50,700 fedbiomed INFO - \u001b[1mTRAINING\u001b[0m \n",
       "\t\t\t\t\t NODE_ID: NODE_CENTRALIZED \n",
       "\t\t\t\t\t Round 8 | Iteration: 10/70 (14%) | Samples: 1010/7000000\n",
       " \t\t\t\t\t Loss: \u001b[1m-468.879669\u001b[0m \n",
       "\t\t\t\t\t ---------"
      ]
     },
     "metadata": {},
     "output_type": "display_data"
    },
    {
     "data": {
      "text/plain": [
       "2025-10-10 10:47:50,716 fedbiomed INFO - \u001b[1mTRAINING\u001b[0m \n",
       "\t\t\t\t\t NODE_ID: NODE_CENTRALIZED \n",
       "\t\t\t\t\t Round 8 | Iteration: 11/70 (16%) | Samples: 1111/7000000\n",
       " \t\t\t\t\t Loss: \u001b[1m-469.276031\u001b[0m \n",
       "\t\t\t\t\t ---------"
      ]
     },
     "metadata": {},
     "output_type": "display_data"
    },
    {
     "data": {
      "text/plain": [
       "2025-10-10 10:47:50,732 fedbiomed INFO - \u001b[1mTRAINING\u001b[0m \n",
       "\t\t\t\t\t NODE_ID: NODE_CENTRALIZED \n",
       "\t\t\t\t\t Round 8 | Iteration: 12/70 (17%) | Samples: 1212/7000000\n",
       " \t\t\t\t\t Loss: \u001b[1m-470.875061\u001b[0m \n",
       "\t\t\t\t\t ---------"
      ]
     },
     "metadata": {},
     "output_type": "display_data"
    },
    {
     "data": {
      "text/plain": [
       "2025-10-10 10:47:50,748 fedbiomed INFO - \u001b[1mTRAINING\u001b[0m \n",
       "\t\t\t\t\t NODE_ID: NODE_CENTRALIZED \n",
       "\t\t\t\t\t Round 8 | Iteration: 13/70 (19%) | Samples: 1313/7000000\n",
       " \t\t\t\t\t Loss: \u001b[1m-471.982391\u001b[0m \n",
       "\t\t\t\t\t ---------"
      ]
     },
     "metadata": {},
     "output_type": "display_data"
    },
    {
     "data": {
      "text/plain": [
       "2025-10-10 10:47:50,764 fedbiomed INFO - \u001b[1mTRAINING\u001b[0m \n",
       "\t\t\t\t\t NODE_ID: NODE_CENTRALIZED \n",
       "\t\t\t\t\t Round 8 | Iteration: 14/70 (20%) | Samples: 1414/7000000\n",
       " \t\t\t\t\t Loss: \u001b[1m-471.743073\u001b[0m \n",
       "\t\t\t\t\t ---------"
      ]
     },
     "metadata": {},
     "output_type": "display_data"
    },
    {
     "data": {
      "text/plain": [
       "2025-10-10 10:47:50,780 fedbiomed INFO - \u001b[1mTRAINING\u001b[0m \n",
       "\t\t\t\t\t NODE_ID: NODE_CENTRALIZED \n",
       "\t\t\t\t\t Round 8 | Iteration: 15/70 (21%) | Samples: 1515/7000000\n",
       " \t\t\t\t\t Loss: \u001b[1m-470.778564\u001b[0m \n",
       "\t\t\t\t\t ---------"
      ]
     },
     "metadata": {},
     "output_type": "display_data"
    },
    {
     "data": {
      "text/plain": [
       "2025-10-10 10:47:50,796 fedbiomed INFO - \u001b[1mTRAINING\u001b[0m \n",
       "\t\t\t\t\t NODE_ID: NODE_CENTRALIZED \n",
       "\t\t\t\t\t Round 8 | Iteration: 16/70 (23%) | Samples: 1616/7000000\n",
       " \t\t\t\t\t Loss: \u001b[1m-470.309204\u001b[0m \n",
       "\t\t\t\t\t ---------"
      ]
     },
     "metadata": {},
     "output_type": "display_data"
    },
    {
     "data": {
      "text/plain": [
       "2025-10-10 10:47:50,812 fedbiomed INFO - \u001b[1mTRAINING\u001b[0m \n",
       "\t\t\t\t\t NODE_ID: NODE_CENTRALIZED \n",
       "\t\t\t\t\t Round 8 | Iteration: 17/70 (24%) | Samples: 1717/7000000\n",
       " \t\t\t\t\t Loss: \u001b[1m-470.789459\u001b[0m \n",
       "\t\t\t\t\t ---------"
      ]
     },
     "metadata": {},
     "output_type": "display_data"
    },
    {
     "data": {
      "text/plain": [
       "2025-10-10 10:47:50,827 fedbiomed INFO - \u001b[1mTRAINING\u001b[0m \n",
       "\t\t\t\t\t NODE_ID: NODE_CENTRALIZED \n",
       "\t\t\t\t\t Round 8 | Iteration: 18/70 (26%) | Samples: 1818/7000000\n",
       " \t\t\t\t\t Loss: \u001b[1m-471.652466\u001b[0m \n",
       "\t\t\t\t\t ---------"
      ]
     },
     "metadata": {},
     "output_type": "display_data"
    },
    {
     "data": {
      "text/plain": [
       "2025-10-10 10:47:50,843 fedbiomed INFO - \u001b[1mTRAINING\u001b[0m \n",
       "\t\t\t\t\t NODE_ID: NODE_CENTRALIZED \n",
       "\t\t\t\t\t Round 8 | Iteration: 19/70 (27%) | Samples: 1919/7000000\n",
       " \t\t\t\t\t Loss: \u001b[1m-472.083923\u001b[0m \n",
       "\t\t\t\t\t ---------"
      ]
     },
     "metadata": {},
     "output_type": "display_data"
    },
    {
     "data": {
      "text/plain": [
       "2025-10-10 10:47:50,859 fedbiomed INFO - \u001b[1mTRAINING\u001b[0m \n",
       "\t\t\t\t\t NODE_ID: NODE_CENTRALIZED \n",
       "\t\t\t\t\t Round 8 | Iteration: 20/70 (29%) | Samples: 2020/7000000\n",
       " \t\t\t\t\t Loss: \u001b[1m-471.822540\u001b[0m \n",
       "\t\t\t\t\t ---------"
      ]
     },
     "metadata": {},
     "output_type": "display_data"
    },
    {
     "data": {
      "text/plain": [
       "2025-10-10 10:47:50,875 fedbiomed INFO - \u001b[1mTRAINING\u001b[0m \n",
       "\t\t\t\t\t NODE_ID: NODE_CENTRALIZED \n",
       "\t\t\t\t\t Round 8 | Iteration: 21/70 (30%) | Samples: 2121/7000000\n",
       " \t\t\t\t\t Loss: \u001b[1m-471.317688\u001b[0m \n",
       "\t\t\t\t\t ---------"
      ]
     },
     "metadata": {},
     "output_type": "display_data"
    },
    {
     "data": {
      "text/plain": [
       "2025-10-10 10:47:50,890 fedbiomed INFO - \u001b[1mTRAINING\u001b[0m \n",
       "\t\t\t\t\t NODE_ID: NODE_CENTRALIZED \n",
       "\t\t\t\t\t Round 8 | Iteration: 22/70 (31%) | Samples: 2222/7000000\n",
       " \t\t\t\t\t Loss: \u001b[1m-471.172028\u001b[0m \n",
       "\t\t\t\t\t ---------"
      ]
     },
     "metadata": {},
     "output_type": "display_data"
    },
    {
     "data": {
      "text/plain": [
       "2025-10-10 10:47:50,906 fedbiomed INFO - \u001b[1mTRAINING\u001b[0m \n",
       "\t\t\t\t\t NODE_ID: NODE_CENTRALIZED \n",
       "\t\t\t\t\t Round 8 | Iteration: 23/70 (33%) | Samples: 2323/7000000\n",
       " \t\t\t\t\t Loss: \u001b[1m-471.511597\u001b[0m \n",
       "\t\t\t\t\t ---------"
      ]
     },
     "metadata": {},
     "output_type": "display_data"
    },
    {
     "data": {
      "text/plain": [
       "2025-10-10 10:47:50,922 fedbiomed INFO - \u001b[1mTRAINING\u001b[0m \n",
       "\t\t\t\t\t NODE_ID: NODE_CENTRALIZED \n",
       "\t\t\t\t\t Round 8 | Iteration: 24/70 (34%) | Samples: 2424/7000000\n",
       " \t\t\t\t\t Loss: \u001b[1m-471.956177\u001b[0m \n",
       "\t\t\t\t\t ---------"
      ]
     },
     "metadata": {},
     "output_type": "display_data"
    },
    {
     "data": {
      "text/plain": [
       "2025-10-10 10:47:50,938 fedbiomed INFO - \u001b[1mTRAINING\u001b[0m \n",
       "\t\t\t\t\t NODE_ID: NODE_CENTRALIZED \n",
       "\t\t\t\t\t Round 8 | Iteration: 25/70 (36%) | Samples: 2525/7000000\n",
       " \t\t\t\t\t Loss: \u001b[1m-472.086304\u001b[0m \n",
       "\t\t\t\t\t ---------"
      ]
     },
     "metadata": {},
     "output_type": "display_data"
    },
    {
     "data": {
      "text/plain": [
       "2025-10-10 10:47:50,954 fedbiomed INFO - \u001b[1mTRAINING\u001b[0m \n",
       "\t\t\t\t\t NODE_ID: NODE_CENTRALIZED \n",
       "\t\t\t\t\t Round 8 | Iteration: 26/70 (37%) | Samples: 2626/7000000\n",
       " \t\t\t\t\t Loss: \u001b[1m-471.864990\u001b[0m \n",
       "\t\t\t\t\t ---------"
      ]
     },
     "metadata": {},
     "output_type": "display_data"
    },
    {
     "data": {
      "text/plain": [
       "2025-10-10 10:47:50,970 fedbiomed INFO - \u001b[1mTRAINING\u001b[0m \n",
       "\t\t\t\t\t NODE_ID: NODE_CENTRALIZED \n",
       "\t\t\t\t\t Round 8 | Iteration: 27/70 (39%) | Samples: 2727/7000000\n",
       " \t\t\t\t\t Loss: \u001b[1m-471.620880\u001b[0m \n",
       "\t\t\t\t\t ---------"
      ]
     },
     "metadata": {},
     "output_type": "display_data"
    },
    {
     "data": {
      "text/plain": [
       "2025-10-10 10:47:50,985 fedbiomed INFO - \u001b[1mTRAINING\u001b[0m \n",
       "\t\t\t\t\t NODE_ID: NODE_CENTRALIZED \n",
       "\t\t\t\t\t Round 8 | Iteration: 28/70 (40%) | Samples: 2828/7000000\n",
       " \t\t\t\t\t Loss: \u001b[1m-471.649841\u001b[0m \n",
       "\t\t\t\t\t ---------"
      ]
     },
     "metadata": {},
     "output_type": "display_data"
    },
    {
     "data": {
      "text/plain": [
       "2025-10-10 10:47:51,002 fedbiomed INFO - \u001b[1mTRAINING\u001b[0m \n",
       "\t\t\t\t\t NODE_ID: NODE_CENTRALIZED \n",
       "\t\t\t\t\t Round 8 | Iteration: 29/70 (41%) | Samples: 2929/7000000\n",
       " \t\t\t\t\t Loss: \u001b[1m-471.907013\u001b[0m \n",
       "\t\t\t\t\t ---------"
      ]
     },
     "metadata": {},
     "output_type": "display_data"
    },
    {
     "data": {
      "text/plain": [
       "2025-10-10 10:47:51,018 fedbiomed INFO - \u001b[1mTRAINING\u001b[0m \n",
       "\t\t\t\t\t NODE_ID: NODE_CENTRALIZED \n",
       "\t\t\t\t\t Round 8 | Iteration: 30/70 (43%) | Samples: 3030/7000000\n",
       " \t\t\t\t\t Loss: \u001b[1m-472.110809\u001b[0m \n",
       "\t\t\t\t\t ---------"
      ]
     },
     "metadata": {},
     "output_type": "display_data"
    },
    {
     "data": {
      "text/plain": [
       "2025-10-10 10:47:51,034 fedbiomed INFO - \u001b[1mTRAINING\u001b[0m \n",
       "\t\t\t\t\t NODE_ID: NODE_CENTRALIZED \n",
       "\t\t\t\t\t Round 8 | Iteration: 31/70 (44%) | Samples: 3131/7000000\n",
       " \t\t\t\t\t Loss: \u001b[1m-472.078583\u001b[0m \n",
       "\t\t\t\t\t ---------"
      ]
     },
     "metadata": {},
     "output_type": "display_data"
    },
    {
     "data": {
      "text/plain": [
       "2025-10-10 10:47:51,050 fedbiomed INFO - \u001b[1mTRAINING\u001b[0m \n",
       "\t\t\t\t\t NODE_ID: NODE_CENTRALIZED \n",
       "\t\t\t\t\t Round 8 | Iteration: 32/70 (46%) | Samples: 3232/7000000\n",
       " \t\t\t\t\t Loss: \u001b[1m-471.907715\u001b[0m \n",
       "\t\t\t\t\t ---------"
      ]
     },
     "metadata": {},
     "output_type": "display_data"
    },
    {
     "data": {
      "text/plain": [
       "2025-10-10 10:47:51,066 fedbiomed INFO - \u001b[1mTRAINING\u001b[0m \n",
       "\t\t\t\t\t NODE_ID: NODE_CENTRALIZED \n",
       "\t\t\t\t\t Round 8 | Iteration: 33/70 (47%) | Samples: 3333/7000000\n",
       " \t\t\t\t\t Loss: \u001b[1m-471.828339\u001b[0m \n",
       "\t\t\t\t\t ---------"
      ]
     },
     "metadata": {},
     "output_type": "display_data"
    },
    {
     "data": {
      "text/plain": [
       "2025-10-10 10:47:51,082 fedbiomed INFO - \u001b[1mTRAINING\u001b[0m \n",
       "\t\t\t\t\t NODE_ID: NODE_CENTRALIZED \n",
       "\t\t\t\t\t Round 8 | Iteration: 34/70 (49%) | Samples: 3434/7000000\n",
       " \t\t\t\t\t Loss: \u001b[1m-471.929688\u001b[0m \n",
       "\t\t\t\t\t ---------"
      ]
     },
     "metadata": {},
     "output_type": "display_data"
    },
    {
     "data": {
      "text/plain": [
       "2025-10-10 10:47:51,097 fedbiomed INFO - \u001b[1mTRAINING\u001b[0m \n",
       "\t\t\t\t\t NODE_ID: NODE_CENTRALIZED \n",
       "\t\t\t\t\t Round 8 | Iteration: 35/70 (50%) | Samples: 3535/7000000\n",
       " \t\t\t\t\t Loss: \u001b[1m-472.084595\u001b[0m \n",
       "\t\t\t\t\t ---------"
      ]
     },
     "metadata": {},
     "output_type": "display_data"
    },
    {
     "data": {
      "text/plain": [
       "2025-10-10 10:47:51,114 fedbiomed INFO - \u001b[1mTRAINING\u001b[0m \n",
       "\t\t\t\t\t NODE_ID: NODE_CENTRALIZED \n",
       "\t\t\t\t\t Round 8 | Iteration: 36/70 (51%) | Samples: 3636/7000000\n",
       " \t\t\t\t\t Loss: \u001b[1m-472.127502\u001b[0m \n",
       "\t\t\t\t\t ---------"
      ]
     },
     "metadata": {},
     "output_type": "display_data"
    },
    {
     "data": {
      "text/plain": [
       "2025-10-10 10:47:51,130 fedbiomed INFO - \u001b[1mTRAINING\u001b[0m \n",
       "\t\t\t\t\t NODE_ID: NODE_CENTRALIZED \n",
       "\t\t\t\t\t Round 8 | Iteration: 37/70 (53%) | Samples: 3737/7000000\n",
       " \t\t\t\t\t Loss: \u001b[1m-472.045807\u001b[0m \n",
       "\t\t\t\t\t ---------"
      ]
     },
     "metadata": {},
     "output_type": "display_data"
    },
    {
     "data": {
      "text/plain": [
       "2025-10-10 10:47:51,146 fedbiomed INFO - \u001b[1mTRAINING\u001b[0m \n",
       "\t\t\t\t\t NODE_ID: NODE_CENTRALIZED \n",
       "\t\t\t\t\t Round 8 | Iteration: 38/70 (54%) | Samples: 3838/7000000\n",
       " \t\t\t\t\t Loss: \u001b[1m-471.969543\u001b[0m \n",
       "\t\t\t\t\t ---------"
      ]
     },
     "metadata": {},
     "output_type": "display_data"
    },
    {
     "data": {
      "text/plain": [
       "2025-10-10 10:47:51,162 fedbiomed INFO - \u001b[1mTRAINING\u001b[0m \n",
       "\t\t\t\t\t NODE_ID: NODE_CENTRALIZED \n",
       "\t\t\t\t\t Round 8 | Iteration: 39/70 (56%) | Samples: 3939/7000000\n",
       " \t\t\t\t\t Loss: \u001b[1m-471.998444\u001b[0m \n",
       "\t\t\t\t\t ---------"
      ]
     },
     "metadata": {},
     "output_type": "display_data"
    },
    {
     "data": {
      "text/plain": [
       "2025-10-10 10:47:51,178 fedbiomed INFO - \u001b[1mTRAINING\u001b[0m \n",
       "\t\t\t\t\t NODE_ID: NODE_CENTRALIZED \n",
       "\t\t\t\t\t Round 8 | Iteration: 40/70 (57%) | Samples: 4040/7000000\n",
       " \t\t\t\t\t Loss: \u001b[1m-472.091095\u001b[0m \n",
       "\t\t\t\t\t ---------"
      ]
     },
     "metadata": {},
     "output_type": "display_data"
    },
    {
     "data": {
      "text/plain": [
       "2025-10-10 10:47:51,194 fedbiomed INFO - \u001b[1mTRAINING\u001b[0m \n",
       "\t\t\t\t\t NODE_ID: NODE_CENTRALIZED \n",
       "\t\t\t\t\t Round 8 | Iteration: 41/70 (59%) | Samples: 4141/7000000\n",
       " \t\t\t\t\t Loss: \u001b[1m-472.136932\u001b[0m \n",
       "\t\t\t\t\t ---------"
      ]
     },
     "metadata": {},
     "output_type": "display_data"
    },
    {
     "data": {
      "text/plain": [
       "2025-10-10 10:47:51,210 fedbiomed INFO - \u001b[1mTRAINING\u001b[0m \n",
       "\t\t\t\t\t NODE_ID: NODE_CENTRALIZED \n",
       "\t\t\t\t\t Round 8 | Iteration: 42/70 (60%) | Samples: 4242/7000000\n",
       " \t\t\t\t\t Loss: \u001b[1m-472.098450\u001b[0m \n",
       "\t\t\t\t\t ---------"
      ]
     },
     "metadata": {},
     "output_type": "display_data"
    },
    {
     "data": {
      "text/plain": [
       "2025-10-10 10:47:51,226 fedbiomed INFO - \u001b[1mTRAINING\u001b[0m \n",
       "\t\t\t\t\t NODE_ID: NODE_CENTRALIZED \n",
       "\t\t\t\t\t Round 8 | Iteration: 43/70 (61%) | Samples: 4343/7000000\n",
       " \t\t\t\t\t Loss: \u001b[1m-472.044922\u001b[0m \n",
       "\t\t\t\t\t ---------"
      ]
     },
     "metadata": {},
     "output_type": "display_data"
    },
    {
     "data": {
      "text/plain": [
       "2025-10-10 10:47:51,242 fedbiomed INFO - \u001b[1mTRAINING\u001b[0m \n",
       "\t\t\t\t\t NODE_ID: NODE_CENTRALIZED \n",
       "\t\t\t\t\t Round 8 | Iteration: 44/70 (63%) | Samples: 4444/7000000\n",
       " \t\t\t\t\t Loss: \u001b[1m-472.051666\u001b[0m \n",
       "\t\t\t\t\t ---------"
      ]
     },
     "metadata": {},
     "output_type": "display_data"
    },
    {
     "data": {
      "text/plain": [
       "2025-10-10 10:47:51,258 fedbiomed INFO - \u001b[1mTRAINING\u001b[0m \n",
       "\t\t\t\t\t NODE_ID: NODE_CENTRALIZED \n",
       "\t\t\t\t\t Round 8 | Iteration: 45/70 (64%) | Samples: 4545/7000000\n",
       " \t\t\t\t\t Loss: \u001b[1m-472.107025\u001b[0m \n",
       "\t\t\t\t\t ---------"
      ]
     },
     "metadata": {},
     "output_type": "display_data"
    },
    {
     "data": {
      "text/plain": [
       "2025-10-10 10:47:51,274 fedbiomed INFO - \u001b[1mTRAINING\u001b[0m \n",
       "\t\t\t\t\t NODE_ID: NODE_CENTRALIZED \n",
       "\t\t\t\t\t Round 8 | Iteration: 46/70 (66%) | Samples: 4646/7000000\n",
       " \t\t\t\t\t Loss: \u001b[1m-472.141357\u001b[0m \n",
       "\t\t\t\t\t ---------"
      ]
     },
     "metadata": {},
     "output_type": "display_data"
    },
    {
     "data": {
      "text/plain": [
       "2025-10-10 10:47:51,290 fedbiomed INFO - \u001b[1mTRAINING\u001b[0m \n",
       "\t\t\t\t\t NODE_ID: NODE_CENTRALIZED \n",
       "\t\t\t\t\t Round 8 | Iteration: 47/70 (67%) | Samples: 4747/7000000\n",
       " \t\t\t\t\t Loss: \u001b[1m-472.122528\u001b[0m \n",
       "\t\t\t\t\t ---------"
      ]
     },
     "metadata": {},
     "output_type": "display_data"
    },
    {
     "data": {
      "text/plain": [
       "2025-10-10 10:47:51,306 fedbiomed INFO - \u001b[1mTRAINING\u001b[0m \n",
       "\t\t\t\t\t NODE_ID: NODE_CENTRALIZED \n",
       "\t\t\t\t\t Round 8 | Iteration: 48/70 (69%) | Samples: 4848/7000000\n",
       " \t\t\t\t\t Loss: \u001b[1m-472.089905\u001b[0m \n",
       "\t\t\t\t\t ---------"
      ]
     },
     "metadata": {},
     "output_type": "display_data"
    },
    {
     "data": {
      "text/plain": [
       "2025-10-10 10:47:51,322 fedbiomed INFO - \u001b[1mTRAINING\u001b[0m \n",
       "\t\t\t\t\t NODE_ID: NODE_CENTRALIZED \n",
       "\t\t\t\t\t Round 8 | Iteration: 49/70 (70%) | Samples: 4949/7000000\n",
       " \t\t\t\t\t Loss: \u001b[1m-472.092468\u001b[0m \n",
       "\t\t\t\t\t ---------"
      ]
     },
     "metadata": {},
     "output_type": "display_data"
    },
    {
     "data": {
      "text/plain": [
       "2025-10-10 10:47:51,337 fedbiomed INFO - \u001b[1mTRAINING\u001b[0m \n",
       "\t\t\t\t\t NODE_ID: NODE_CENTRALIZED \n",
       "\t\t\t\t\t Round 8 | Iteration: 50/70 (71%) | Samples: 5050/7000000\n",
       " \t\t\t\t\t Loss: \u001b[1m-472.124725\u001b[0m \n",
       "\t\t\t\t\t ---------"
      ]
     },
     "metadata": {},
     "output_type": "display_data"
    },
    {
     "data": {
      "text/plain": [
       "2025-10-10 10:47:51,353 fedbiomed INFO - \u001b[1mTRAINING\u001b[0m \n",
       "\t\t\t\t\t NODE_ID: NODE_CENTRALIZED \n",
       "\t\t\t\t\t Round 8 | Iteration: 51/70 (73%) | Samples: 5151/7000000\n",
       " \t\t\t\t\t Loss: \u001b[1m-472.143433\u001b[0m \n",
       "\t\t\t\t\t ---------"
      ]
     },
     "metadata": {},
     "output_type": "display_data"
    },
    {
     "data": {
      "text/plain": [
       "2025-10-10 10:47:51,369 fedbiomed INFO - \u001b[1mTRAINING\u001b[0m \n",
       "\t\t\t\t\t NODE_ID: NODE_CENTRALIZED \n",
       "\t\t\t\t\t Round 8 | Iteration: 52/70 (74%) | Samples: 5252/7000000\n",
       " \t\t\t\t\t Loss: \u001b[1m-472.130249\u001b[0m \n",
       "\t\t\t\t\t ---------"
      ]
     },
     "metadata": {},
     "output_type": "display_data"
    },
    {
     "data": {
      "text/plain": [
       "2025-10-10 10:47:51,386 fedbiomed INFO - \u001b[1mTRAINING\u001b[0m \n",
       "\t\t\t\t\t NODE_ID: NODE_CENTRALIZED \n",
       "\t\t\t\t\t Round 8 | Iteration: 53/70 (76%) | Samples: 5353/7000000\n",
       " \t\t\t\t\t Loss: \u001b[1m-472.112091\u001b[0m \n",
       "\t\t\t\t\t ---------"
      ]
     },
     "metadata": {},
     "output_type": "display_data"
    },
    {
     "data": {
      "text/plain": [
       "2025-10-10 10:47:51,402 fedbiomed INFO - \u001b[1mTRAINING\u001b[0m \n",
       "\t\t\t\t\t NODE_ID: NODE_CENTRALIZED \n",
       "\t\t\t\t\t Round 8 | Iteration: 54/70 (77%) | Samples: 5454/7000000\n",
       " \t\t\t\t\t Loss: \u001b[1m-472.117737\u001b[0m \n",
       "\t\t\t\t\t ---------"
      ]
     },
     "metadata": {},
     "output_type": "display_data"
    },
    {
     "data": {
      "text/plain": [
       "2025-10-10 10:47:51,418 fedbiomed INFO - \u001b[1mTRAINING\u001b[0m \n",
       "\t\t\t\t\t NODE_ID: NODE_CENTRALIZED \n",
       "\t\t\t\t\t Round 8 | Iteration: 55/70 (79%) | Samples: 5555/7000000\n",
       " \t\t\t\t\t Loss: \u001b[1m-472.138733\u001b[0m \n",
       "\t\t\t\t\t ---------"
      ]
     },
     "metadata": {},
     "output_type": "display_data"
    },
    {
     "data": {
      "text/plain": [
       "2025-10-10 10:47:51,434 fedbiomed INFO - \u001b[1mTRAINING\u001b[0m \n",
       "\t\t\t\t\t NODE_ID: NODE_CENTRALIZED \n",
       "\t\t\t\t\t Round 8 | Iteration: 56/70 (80%) | Samples: 5656/7000000\n",
       " \t\t\t\t\t Loss: \u001b[1m-472.146790\u001b[0m \n",
       "\t\t\t\t\t ---------"
      ]
     },
     "metadata": {},
     "output_type": "display_data"
    },
    {
     "data": {
      "text/plain": [
       "2025-10-10 10:47:51,450 fedbiomed INFO - \u001b[1mTRAINING\u001b[0m \n",
       "\t\t\t\t\t NODE_ID: NODE_CENTRALIZED \n",
       "\t\t\t\t\t Round 8 | Iteration: 57/70 (81%) | Samples: 5757/7000000\n",
       " \t\t\t\t\t Loss: \u001b[1m-472.135437\u001b[0m \n",
       "\t\t\t\t\t ---------"
      ]
     },
     "metadata": {},
     "output_type": "display_data"
    },
    {
     "data": {
      "text/plain": [
       "2025-10-10 10:47:51,466 fedbiomed INFO - \u001b[1mTRAINING\u001b[0m \n",
       "\t\t\t\t\t NODE_ID: NODE_CENTRALIZED \n",
       "\t\t\t\t\t Round 8 | Iteration: 58/70 (83%) | Samples: 5858/7000000\n",
       " \t\t\t\t\t Loss: \u001b[1m-472.125549\u001b[0m \n",
       "\t\t\t\t\t ---------"
      ]
     },
     "metadata": {},
     "output_type": "display_data"
    },
    {
     "data": {
      "text/plain": [
       "2025-10-10 10:47:51,482 fedbiomed INFO - \u001b[1mTRAINING\u001b[0m \n",
       "\t\t\t\t\t NODE_ID: NODE_CENTRALIZED \n",
       "\t\t\t\t\t Round 8 | Iteration: 59/70 (84%) | Samples: 5959/7000000\n",
       " \t\t\t\t\t Loss: \u001b[1m-472.132324\u001b[0m \n",
       "\t\t\t\t\t ---------"
      ]
     },
     "metadata": {},
     "output_type": "display_data"
    },
    {
     "data": {
      "text/plain": [
       "2025-10-10 10:47:51,498 fedbiomed INFO - \u001b[1mTRAINING\u001b[0m \n",
       "\t\t\t\t\t NODE_ID: NODE_CENTRALIZED \n",
       "\t\t\t\t\t Round 8 | Iteration: 60/70 (86%) | Samples: 6060/7000000\n",
       " \t\t\t\t\t Loss: \u001b[1m-472.145386\u001b[0m \n",
       "\t\t\t\t\t ---------"
      ]
     },
     "metadata": {},
     "output_type": "display_data"
    },
    {
     "data": {
      "text/plain": [
       "2025-10-10 10:47:51,514 fedbiomed INFO - \u001b[1mTRAINING\u001b[0m \n",
       "\t\t\t\t\t NODE_ID: NODE_CENTRALIZED \n",
       "\t\t\t\t\t Round 8 | Iteration: 61/70 (87%) | Samples: 6161/7000000\n",
       " \t\t\t\t\t Loss: \u001b[1m-472.147064\u001b[0m \n",
       "\t\t\t\t\t ---------"
      ]
     },
     "metadata": {},
     "output_type": "display_data"
    },
    {
     "data": {
      "text/plain": [
       "2025-10-10 10:47:51,530 fedbiomed INFO - \u001b[1mTRAINING\u001b[0m \n",
       "\t\t\t\t\t NODE_ID: NODE_CENTRALIZED \n",
       "\t\t\t\t\t Round 8 | Iteration: 62/70 (89%) | Samples: 6262/7000000\n",
       " \t\t\t\t\t Loss: \u001b[1m-472.138733\u001b[0m \n",
       "\t\t\t\t\t ---------"
      ]
     },
     "metadata": {},
     "output_type": "display_data"
    },
    {
     "data": {
      "text/plain": [
       "2025-10-10 10:47:51,546 fedbiomed INFO - \u001b[1mTRAINING\u001b[0m \n",
       "\t\t\t\t\t NODE_ID: NODE_CENTRALIZED \n",
       "\t\t\t\t\t Round 8 | Iteration: 63/70 (90%) | Samples: 6363/7000000\n",
       " \t\t\t\t\t Loss: \u001b[1m-472.135376\u001b[0m \n",
       "\t\t\t\t\t ---------"
      ]
     },
     "metadata": {},
     "output_type": "display_data"
    },
    {
     "data": {
      "text/plain": [
       "2025-10-10 10:47:51,562 fedbiomed INFO - \u001b[1mTRAINING\u001b[0m \n",
       "\t\t\t\t\t NODE_ID: NODE_CENTRALIZED \n",
       "\t\t\t\t\t Round 8 | Iteration: 64/70 (91%) | Samples: 6464/7000000\n",
       " \t\t\t\t\t Loss: \u001b[1m-472.142242\u001b[0m \n",
       "\t\t\t\t\t ---------"
      ]
     },
     "metadata": {},
     "output_type": "display_data"
    },
    {
     "data": {
      "text/plain": [
       "2025-10-10 10:47:51,577 fedbiomed INFO - \u001b[1mTRAINING\u001b[0m \n",
       "\t\t\t\t\t NODE_ID: NODE_CENTRALIZED \n",
       "\t\t\t\t\t Round 8 | Iteration: 65/70 (93%) | Samples: 6565/7000000\n",
       " \t\t\t\t\t Loss: \u001b[1m-472.148804\u001b[0m \n",
       "\t\t\t\t\t ---------"
      ]
     },
     "metadata": {},
     "output_type": "display_data"
    },
    {
     "data": {
      "text/plain": [
       "2025-10-10 10:47:51,593 fedbiomed INFO - \u001b[1mTRAINING\u001b[0m \n",
       "\t\t\t\t\t NODE_ID: NODE_CENTRALIZED \n",
       "\t\t\t\t\t Round 8 | Iteration: 66/70 (94%) | Samples: 6666/7000000\n",
       " \t\t\t\t\t Loss: \u001b[1m-472.146637\u001b[0m \n",
       "\t\t\t\t\t ---------"
      ]
     },
     "metadata": {},
     "output_type": "display_data"
    },
    {
     "data": {
      "text/plain": [
       "2025-10-10 10:47:51,609 fedbiomed INFO - \u001b[1mTRAINING\u001b[0m \n",
       "\t\t\t\t\t NODE_ID: NODE_CENTRALIZED \n",
       "\t\t\t\t\t Round 8 | Iteration: 67/70 (96%) | Samples: 6767/7000000\n",
       " \t\t\t\t\t Loss: \u001b[1m-472.141296\u001b[0m \n",
       "\t\t\t\t\t ---------"
      ]
     },
     "metadata": {},
     "output_type": "display_data"
    },
    {
     "data": {
      "text/plain": [
       "2025-10-10 10:47:51,625 fedbiomed INFO - \u001b[1mTRAINING\u001b[0m \n",
       "\t\t\t\t\t NODE_ID: NODE_CENTRALIZED \n",
       "\t\t\t\t\t Round 8 | Iteration: 68/70 (97%) | Samples: 6868/7000000\n",
       " \t\t\t\t\t Loss: \u001b[1m-472.141998\u001b[0m \n",
       "\t\t\t\t\t ---------"
      ]
     },
     "metadata": {},
     "output_type": "display_data"
    },
    {
     "data": {
      "text/plain": [
       "2025-10-10 10:47:51,641 fedbiomed INFO - \u001b[1mTRAINING\u001b[0m \n",
       "\t\t\t\t\t NODE_ID: NODE_CENTRALIZED \n",
       "\t\t\t\t\t Round 8 | Iteration: 69/70 (99%) | Samples: 6969/7000000\n",
       " \t\t\t\t\t Loss: \u001b[1m-472.147522\u001b[0m \n",
       "\t\t\t\t\t ---------"
      ]
     },
     "metadata": {},
     "output_type": "display_data"
    },
    {
     "data": {
      "text/plain": [
       "2025-10-10 10:47:51,657 fedbiomed INFO - \u001b[1mTRAINING\u001b[0m \n",
       "\t\t\t\t\t NODE_ID: NODE_CENTRALIZED \n",
       "\t\t\t\t\t Round 8 | Iteration: 70/70 (100%) | Samples: 7070/7000000\n",
       " \t\t\t\t\t Loss: \u001b[1m-472.149628\u001b[0m \n",
       "\t\t\t\t\t ---------"
      ]
     },
     "metadata": {},
     "output_type": "display_data"
    },
    {
     "data": {
      "text/plain": [
       "2025-10-10 10:47:51,762 fedbiomed INFO - Nodes that successfully reply in round 7 ['NODE_CENTRALIZED']"
      ]
     },
     "metadata": {},
     "output_type": "display_data"
    },
    {
     "data": {
      "text/plain": [
       "2025-10-10 10:47:51,791 fedbiomed INFO - Sampled nodes in round 8 ['NODE_CENTRALIZED']"
      ]
     },
     "metadata": {},
     "output_type": "display_data"
    },
    {
     "name": "stdout",
     "output_type": "stream",
     "text": [
      "<function extract_symbols at 0x7f7ba399cd30>\n"
     ]
    },
    {
     "data": {
      "text/plain": [
       "2025-10-10 10:47:51,814 fedbiomed INFO - \u001b[1mSending request\u001b[0m \n",
       "\t\t\t\t\t\u001b[1m To\u001b[0m: NODE_CENTRALIZED \n",
       "\t\t\t\t\t\u001b[1m Request: \u001b[0m: TRAIN\n",
       " -----------------------------------------------------------------"
      ]
     },
     "metadata": {},
     "output_type": "display_data"
    },
    {
     "data": {
      "text/plain": [
       "2025-10-10 10:47:51,881 fedbiomed DEBUG - Node: NODE_CENTRALIZED polling for the tasks"
      ]
     },
     "metadata": {},
     "output_type": "display_data"
    },
    {
     "data": {
      "text/plain": [
       "2025-10-10 10:47:51,966 fedbiomed INFO - \u001b[1mTRAINING\u001b[0m \n",
       "\t\t\t\t\t NODE_ID: NODE_CENTRALIZED \n",
       "\t\t\t\t\t Round 9 | Iteration: 1/70 (1%) | Samples: 101/7000000\n",
       " \t\t\t\t\t Loss: \u001b[1m-472.146606\u001b[0m \n",
       "\t\t\t\t\t ---------"
      ]
     },
     "metadata": {},
     "output_type": "display_data"
    },
    {
     "data": {
      "text/plain": [
       "2025-10-10 10:47:51,988 fedbiomed INFO - \u001b[1mTRAINING\u001b[0m \n",
       "\t\t\t\t\t NODE_ID: NODE_CENTRALIZED \n",
       "\t\t\t\t\t Round 9 | Iteration: 2/70 (3%) | Samples: 202/7000000\n",
       " \t\t\t\t\t Loss: \u001b[1m-459.874725\u001b[0m \n",
       "\t\t\t\t\t ---------"
      ]
     },
     "metadata": {},
     "output_type": "display_data"
    },
    {
     "data": {
      "text/plain": [
       "2025-10-10 10:47:52,009 fedbiomed INFO - \u001b[1mTRAINING\u001b[0m \n",
       "\t\t\t\t\t NODE_ID: NODE_CENTRALIZED \n",
       "\t\t\t\t\t Round 9 | Iteration: 3/70 (4%) | Samples: 303/7000000\n",
       " \t\t\t\t\t Loss: \u001b[1m-471.317963\u001b[0m \n",
       "\t\t\t\t\t ---------"
      ]
     },
     "metadata": {},
     "output_type": "display_data"
    },
    {
     "data": {
      "text/plain": [
       "2025-10-10 10:47:52,026 fedbiomed INFO - \u001b[1mTRAINING\u001b[0m \n",
       "\t\t\t\t\t NODE_ID: NODE_CENTRALIZED \n",
       "\t\t\t\t\t Round 9 | Iteration: 4/70 (6%) | Samples: 404/7000000\n",
       " \t\t\t\t\t Loss: \u001b[1m-469.483398\u001b[0m \n",
       "\t\t\t\t\t ---------"
      ]
     },
     "metadata": {},
     "output_type": "display_data"
    },
    {
     "data": {
      "text/plain": [
       "2025-10-10 10:47:52,041 fedbiomed INFO - \u001b[1mTRAINING\u001b[0m \n",
       "\t\t\t\t\t NODE_ID: NODE_CENTRALIZED \n",
       "\t\t\t\t\t Round 9 | Iteration: 5/70 (7%) | Samples: 505/7000000\n",
       " \t\t\t\t\t Loss: \u001b[1m-465.125977\u001b[0m \n",
       "\t\t\t\t\t ---------"
      ]
     },
     "metadata": {},
     "output_type": "display_data"
    },
    {
     "data": {
      "text/plain": [
       "2025-10-10 10:47:52,057 fedbiomed INFO - \u001b[1mTRAINING\u001b[0m \n",
       "\t\t\t\t\t NODE_ID: NODE_CENTRALIZED \n",
       "\t\t\t\t\t Round 9 | Iteration: 6/70 (9%) | Samples: 606/7000000\n",
       " \t\t\t\t\t Loss: \u001b[1m-466.846558\u001b[0m \n",
       "\t\t\t\t\t ---------"
      ]
     },
     "metadata": {},
     "output_type": "display_data"
    },
    {
     "data": {
      "text/plain": [
       "2025-10-10 10:47:52,074 fedbiomed INFO - \u001b[1mTRAINING\u001b[0m \n",
       "\t\t\t\t\t NODE_ID: NODE_CENTRALIZED \n",
       "\t\t\t\t\t Round 9 | Iteration: 7/70 (10%) | Samples: 707/7000000\n",
       " \t\t\t\t\t Loss: \u001b[1m-470.559479\u001b[0m \n",
       "\t\t\t\t\t ---------"
      ]
     },
     "metadata": {},
     "output_type": "display_data"
    },
    {
     "data": {
      "text/plain": [
       "2025-10-10 10:47:52,090 fedbiomed INFO - \u001b[1mTRAINING\u001b[0m \n",
       "\t\t\t\t\t NODE_ID: NODE_CENTRALIZED \n",
       "\t\t\t\t\t Round 9 | Iteration: 8/70 (11%) | Samples: 808/7000000\n",
       " \t\t\t\t\t Loss: \u001b[1m-472.039032\u001b[0m \n",
       "\t\t\t\t\t ---------"
      ]
     },
     "metadata": {},
     "output_type": "display_data"
    },
    {
     "data": {
      "text/plain": [
       "2025-10-10 10:47:52,106 fedbiomed INFO - \u001b[1mTRAINING\u001b[0m \n",
       "\t\t\t\t\t NODE_ID: NODE_CENTRALIZED \n",
       "\t\t\t\t\t Round 9 | Iteration: 9/70 (13%) | Samples: 909/7000000\n",
       " \t\t\t\t\t Loss: \u001b[1m-470.625092\u001b[0m \n",
       "\t\t\t\t\t ---------"
      ]
     },
     "metadata": {},
     "output_type": "display_data"
    },
    {
     "data": {
      "text/plain": [
       "2025-10-10 10:47:52,122 fedbiomed INFO - \u001b[1mTRAINING\u001b[0m \n",
       "\t\t\t\t\t NODE_ID: NODE_CENTRALIZED \n",
       "\t\t\t\t\t Round 9 | Iteration: 10/70 (14%) | Samples: 1010/7000000\n",
       " \t\t\t\t\t Loss: \u001b[1m-468.834473\u001b[0m \n",
       "\t\t\t\t\t ---------"
      ]
     },
     "metadata": {},
     "output_type": "display_data"
    },
    {
     "data": {
      "text/plain": [
       "2025-10-10 10:47:52,138 fedbiomed INFO - \u001b[1mTRAINING\u001b[0m \n",
       "\t\t\t\t\t NODE_ID: NODE_CENTRALIZED \n",
       "\t\t\t\t\t Round 9 | Iteration: 11/70 (16%) | Samples: 1111/7000000\n",
       " \t\t\t\t\t Loss: \u001b[1m-468.882660\u001b[0m \n",
       "\t\t\t\t\t ---------"
      ]
     },
     "metadata": {},
     "output_type": "display_data"
    },
    {
     "data": {
      "text/plain": [
       "2025-10-10 10:47:52,153 fedbiomed INFO - \u001b[1mTRAINING\u001b[0m \n",
       "\t\t\t\t\t NODE_ID: NODE_CENTRALIZED \n",
       "\t\t\t\t\t Round 9 | Iteration: 12/70 (17%) | Samples: 1212/7000000\n",
       " \t\t\t\t\t Loss: \u001b[1m-470.448456\u001b[0m \n",
       "\t\t\t\t\t ---------"
      ]
     },
     "metadata": {},
     "output_type": "display_data"
    },
    {
     "data": {
      "text/plain": [
       "2025-10-10 10:47:52,169 fedbiomed INFO - \u001b[1mTRAINING\u001b[0m \n",
       "\t\t\t\t\t NODE_ID: NODE_CENTRALIZED \n",
       "\t\t\t\t\t Round 9 | Iteration: 13/70 (19%) | Samples: 1313/7000000\n",
       " \t\t\t\t\t Loss: \u001b[1m-471.868408\u001b[0m \n",
       "\t\t\t\t\t ---------"
      ]
     },
     "metadata": {},
     "output_type": "display_data"
    },
    {
     "data": {
      "text/plain": [
       "2025-10-10 10:47:52,185 fedbiomed INFO - \u001b[1mTRAINING\u001b[0m \n",
       "\t\t\t\t\t NODE_ID: NODE_CENTRALIZED \n",
       "\t\t\t\t\t Round 9 | Iteration: 14/70 (20%) | Samples: 1414/7000000\n",
       " \t\t\t\t\t Loss: \u001b[1m-471.977356\u001b[0m \n",
       "\t\t\t\t\t ---------"
      ]
     },
     "metadata": {},
     "output_type": "display_data"
    },
    {
     "data": {
      "text/plain": [
       "2025-10-10 10:47:52,201 fedbiomed INFO - \u001b[1mTRAINING\u001b[0m \n",
       "\t\t\t\t\t NODE_ID: NODE_CENTRALIZED \n",
       "\t\t\t\t\t Round 9 | Iteration: 15/70 (21%) | Samples: 1515/7000000\n",
       " \t\t\t\t\t Loss: \u001b[1m-471.039062\u001b[0m \n",
       "\t\t\t\t\t ---------"
      ]
     },
     "metadata": {},
     "output_type": "display_data"
    },
    {
     "data": {
      "text/plain": [
       "2025-10-10 10:47:52,217 fedbiomed INFO - \u001b[1mTRAINING\u001b[0m \n",
       "\t\t\t\t\t NODE_ID: NODE_CENTRALIZED \n",
       "\t\t\t\t\t Round 9 | Iteration: 16/70 (23%) | Samples: 1616/7000000\n",
       " \t\t\t\t\t Loss: \u001b[1m-470.284332\u001b[0m \n",
       "\t\t\t\t\t ---------"
      ]
     },
     "metadata": {},
     "output_type": "display_data"
    },
    {
     "data": {
      "text/plain": [
       "2025-10-10 10:47:52,234 fedbiomed INFO - \u001b[1mTRAINING\u001b[0m \n",
       "\t\t\t\t\t NODE_ID: NODE_CENTRALIZED \n",
       "\t\t\t\t\t Round 9 | Iteration: 17/70 (24%) | Samples: 1717/7000000\n",
       " \t\t\t\t\t Loss: \u001b[1m-470.512177\u001b[0m \n",
       "\t\t\t\t\t ---------"
      ]
     },
     "metadata": {},
     "output_type": "display_data"
    },
    {
     "data": {
      "text/plain": [
       "2025-10-10 10:47:52,249 fedbiomed INFO - \u001b[1mTRAINING\u001b[0m \n",
       "\t\t\t\t\t NODE_ID: NODE_CENTRALIZED \n",
       "\t\t\t\t\t Round 9 | Iteration: 18/70 (26%) | Samples: 1818/7000000\n",
       " \t\t\t\t\t Loss: \u001b[1m-471.398590\u001b[0m \n",
       "\t\t\t\t\t ---------"
      ]
     },
     "metadata": {},
     "output_type": "display_data"
    },
    {
     "data": {
      "text/plain": [
       "2025-10-10 10:47:52,265 fedbiomed INFO - \u001b[1mTRAINING\u001b[0m \n",
       "\t\t\t\t\t NODE_ID: NODE_CENTRALIZED \n",
       "\t\t\t\t\t Round 9 | Iteration: 19/70 (27%) | Samples: 1919/7000000\n",
       " \t\t\t\t\t Loss: \u001b[1m-472.063446\u001b[0m \n",
       "\t\t\t\t\t ---------"
      ]
     },
     "metadata": {},
     "output_type": "display_data"
    },
    {
     "data": {
      "text/plain": [
       "2025-10-10 10:47:52,281 fedbiomed INFO - \u001b[1mTRAINING\u001b[0m \n",
       "\t\t\t\t\t NODE_ID: NODE_CENTRALIZED \n",
       "\t\t\t\t\t Round 9 | Iteration: 20/70 (29%) | Samples: 2020/7000000\n",
       " \t\t\t\t\t Loss: \u001b[1m-471.989136\u001b[0m \n",
       "\t\t\t\t\t ---------"
      ]
     },
     "metadata": {},
     "output_type": "display_data"
    },
    {
     "data": {
      "text/plain": [
       "2025-10-10 10:47:52,297 fedbiomed INFO - \u001b[1mTRAINING\u001b[0m \n",
       "\t\t\t\t\t NODE_ID: NODE_CENTRALIZED \n",
       "\t\t\t\t\t Round 9 | Iteration: 21/70 (30%) | Samples: 2121/7000000\n",
       " \t\t\t\t\t Loss: \u001b[1m-471.443420\u001b[0m \n",
       "\t\t\t\t\t ---------"
      ]
     },
     "metadata": {},
     "output_type": "display_data"
    },
    {
     "data": {
      "text/plain": [
       "2025-10-10 10:47:52,313 fedbiomed INFO - \u001b[1mTRAINING\u001b[0m \n",
       "\t\t\t\t\t NODE_ID: NODE_CENTRALIZED \n",
       "\t\t\t\t\t Round 9 | Iteration: 22/70 (31%) | Samples: 2222/7000000\n",
       " \t\t\t\t\t Loss: \u001b[1m-471.103607\u001b[0m \n",
       "\t\t\t\t\t ---------"
      ]
     },
     "metadata": {},
     "output_type": "display_data"
    },
    {
     "data": {
      "text/plain": [
       "2025-10-10 10:47:52,330 fedbiomed INFO - \u001b[1mTRAINING\u001b[0m \n",
       "\t\t\t\t\t NODE_ID: NODE_CENTRALIZED \n",
       "\t\t\t\t\t Round 9 | Iteration: 23/70 (33%) | Samples: 2323/7000000\n",
       " \t\t\t\t\t Loss: \u001b[1m-471.318359\u001b[0m \n",
       "\t\t\t\t\t ---------"
      ]
     },
     "metadata": {},
     "output_type": "display_data"
    },
    {
     "data": {
      "text/plain": [
       "2025-10-10 10:47:52,346 fedbiomed INFO - \u001b[1mTRAINING\u001b[0m \n",
       "\t\t\t\t\t NODE_ID: NODE_CENTRALIZED \n",
       "\t\t\t\t\t Round 9 | Iteration: 24/70 (34%) | Samples: 2424/7000000\n",
       " \t\t\t\t\t Loss: \u001b[1m-471.827911\u001b[0m \n",
       "\t\t\t\t\t ---------"
      ]
     },
     "metadata": {},
     "output_type": "display_data"
    },
    {
     "data": {
      "text/plain": [
       "2025-10-10 10:47:52,362 fedbiomed INFO - \u001b[1mTRAINING\u001b[0m \n",
       "\t\t\t\t\t NODE_ID: NODE_CENTRALIZED \n",
       "\t\t\t\t\t Round 9 | Iteration: 25/70 (36%) | Samples: 2525/7000000\n",
       " \t\t\t\t\t Loss: \u001b[1m-472.130554\u001b[0m \n",
       "\t\t\t\t\t ---------"
      ]
     },
     "metadata": {},
     "output_type": "display_data"
    },
    {
     "data": {
      "text/plain": [
       "2025-10-10 10:47:52,378 fedbiomed INFO - \u001b[1mTRAINING\u001b[0m \n",
       "\t\t\t\t\t NODE_ID: NODE_CENTRALIZED \n",
       "\t\t\t\t\t Round 9 | Iteration: 26/70 (37%) | Samples: 2626/7000000\n",
       " \t\t\t\t\t Loss: \u001b[1m-472.005127\u001b[0m \n",
       "\t\t\t\t\t ---------"
      ]
     },
     "metadata": {},
     "output_type": "display_data"
    },
    {
     "data": {
      "text/plain": [
       "2025-10-10 10:47:52,393 fedbiomed INFO - \u001b[1mTRAINING\u001b[0m \n",
       "\t\t\t\t\t NODE_ID: NODE_CENTRALIZED \n",
       "\t\t\t\t\t Round 9 | Iteration: 27/70 (39%) | Samples: 2727/7000000\n",
       " \t\t\t\t\t Loss: \u001b[1m-471.686584\u001b[0m \n",
       "\t\t\t\t\t ---------"
      ]
     },
     "metadata": {},
     "output_type": "display_data"
    },
    {
     "data": {
      "text/plain": [
       "2025-10-10 10:47:52,409 fedbiomed INFO - \u001b[1mTRAINING\u001b[0m \n",
       "\t\t\t\t\t NODE_ID: NODE_CENTRALIZED \n",
       "\t\t\t\t\t Round 9 | Iteration: 28/70 (40%) | Samples: 2828/7000000\n",
       " \t\t\t\t\t Loss: \u001b[1m-471.563751\u001b[0m \n",
       "\t\t\t\t\t ---------"
      ]
     },
     "metadata": {},
     "output_type": "display_data"
    },
    {
     "data": {
      "text/plain": [
       "2025-10-10 10:47:52,425 fedbiomed INFO - \u001b[1mTRAINING\u001b[0m \n",
       "\t\t\t\t\t NODE_ID: NODE_CENTRALIZED \n",
       "\t\t\t\t\t Round 9 | Iteration: 29/70 (41%) | Samples: 2929/7000000\n",
       " \t\t\t\t\t Loss: \u001b[1m-471.758850\u001b[0m \n",
       "\t\t\t\t\t ---------"
      ]
     },
     "metadata": {},
     "output_type": "display_data"
    },
    {
     "data": {
      "text/plain": [
       "2025-10-10 10:47:52,440 fedbiomed INFO - \u001b[1mTRAINING\u001b[0m \n",
       "\t\t\t\t\t NODE_ID: NODE_CENTRALIZED \n",
       "\t\t\t\t\t Round 9 | Iteration: 30/70 (43%) | Samples: 3030/7000000\n",
       " \t\t\t\t\t Loss: \u001b[1m-472.047333\u001b[0m \n",
       "\t\t\t\t\t ---------"
      ]
     },
     "metadata": {},
     "output_type": "display_data"
    },
    {
     "data": {
      "text/plain": [
       "2025-10-10 10:47:52,457 fedbiomed INFO - \u001b[1mTRAINING\u001b[0m \n",
       "\t\t\t\t\t NODE_ID: NODE_CENTRALIZED \n",
       "\t\t\t\t\t Round 9 | Iteration: 31/70 (44%) | Samples: 3131/7000000\n",
       " \t\t\t\t\t Loss: \u001b[1m-472.143005\u001b[0m \n",
       "\t\t\t\t\t ---------"
      ]
     },
     "metadata": {},
     "output_type": "display_data"
    },
    {
     "data": {
      "text/plain": [
       "2025-10-10 10:47:52,473 fedbiomed INFO - \u001b[1mTRAINING\u001b[0m \n",
       "\t\t\t\t\t NODE_ID: NODE_CENTRALIZED \n",
       "\t\t\t\t\t Round 9 | Iteration: 32/70 (46%) | Samples: 3232/7000000\n",
       " \t\t\t\t\t Loss: \u001b[1m-472.002441\u001b[0m \n",
       "\t\t\t\t\t ---------"
      ]
     },
     "metadata": {},
     "output_type": "display_data"
    },
    {
     "data": {
      "text/plain": [
       "2025-10-10 10:47:52,489 fedbiomed INFO - \u001b[1mTRAINING\u001b[0m \n",
       "\t\t\t\t\t NODE_ID: NODE_CENTRALIZED \n",
       "\t\t\t\t\t Round 9 | Iteration: 33/70 (47%) | Samples: 3333/7000000\n",
       " \t\t\t\t\t Loss: \u001b[1m-471.835907\u001b[0m \n",
       "\t\t\t\t\t ---------"
      ]
     },
     "metadata": {},
     "output_type": "display_data"
    },
    {
     "data": {
      "text/plain": [
       "2025-10-10 10:47:52,505 fedbiomed INFO - \u001b[1mTRAINING\u001b[0m \n",
       "\t\t\t\t\t NODE_ID: NODE_CENTRALIZED \n",
       "\t\t\t\t\t Round 9 | Iteration: 34/70 (49%) | Samples: 3434/7000000\n",
       " \t\t\t\t\t Loss: \u001b[1m-471.845856\u001b[0m \n",
       "\t\t\t\t\t ---------"
      ]
     },
     "metadata": {},
     "output_type": "display_data"
    },
    {
     "data": {
      "text/plain": [
       "2025-10-10 10:47:52,520 fedbiomed INFO - \u001b[1mTRAINING\u001b[0m \n",
       "\t\t\t\t\t NODE_ID: NODE_CENTRALIZED \n",
       "\t\t\t\t\t Round 9 | Iteration: 35/70 (50%) | Samples: 3535/7000000\n",
       " \t\t\t\t\t Loss: \u001b[1m-472.009766\u001b[0m \n",
       "\t\t\t\t\t ---------"
      ]
     },
     "metadata": {},
     "output_type": "display_data"
    },
    {
     "data": {
      "text/plain": [
       "2025-10-10 10:47:52,536 fedbiomed INFO - \u001b[1mTRAINING\u001b[0m \n",
       "\t\t\t\t\t NODE_ID: NODE_CENTRALIZED \n",
       "\t\t\t\t\t Round 9 | Iteration: 36/70 (51%) | Samples: 3636/7000000\n",
       " \t\t\t\t\t Loss: \u001b[1m-472.139496\u001b[0m \n",
       "\t\t\t\t\t ---------"
      ]
     },
     "metadata": {},
     "output_type": "display_data"
    },
    {
     "data": {
      "text/plain": [
       "2025-10-10 10:47:52,553 fedbiomed INFO - \u001b[1mTRAINING\u001b[0m \n",
       "\t\t\t\t\t NODE_ID: NODE_CENTRALIZED \n",
       "\t\t\t\t\t Round 9 | Iteration: 37/70 (53%) | Samples: 3737/7000000\n",
       " \t\t\t\t\t Loss: \u001b[1m-472.112671\u001b[0m \n",
       "\t\t\t\t\t ---------"
      ]
     },
     "metadata": {},
     "output_type": "display_data"
    },
    {
     "data": {
      "text/plain": [
       "2025-10-10 10:47:52,569 fedbiomed INFO - \u001b[1mTRAINING\u001b[0m \n",
       "\t\t\t\t\t NODE_ID: NODE_CENTRALIZED \n",
       "\t\t\t\t\t Round 9 | Iteration: 38/70 (54%) | Samples: 3838/7000000\n",
       " \t\t\t\t\t Loss: \u001b[1m-471.998993\u001b[0m \n",
       "\t\t\t\t\t ---------"
      ]
     },
     "metadata": {},
     "output_type": "display_data"
    },
    {
     "data": {
      "text/plain": [
       "2025-10-10 10:47:52,585 fedbiomed INFO - \u001b[1mTRAINING\u001b[0m \n",
       "\t\t\t\t\t NODE_ID: NODE_CENTRALIZED \n",
       "\t\t\t\t\t Round 9 | Iteration: 39/70 (56%) | Samples: 3939/7000000\n",
       " \t\t\t\t\t Loss: \u001b[1m-471.953888\u001b[0m \n",
       "\t\t\t\t\t ---------"
      ]
     },
     "metadata": {},
     "output_type": "display_data"
    },
    {
     "data": {
      "text/plain": [
       "2025-10-10 10:47:52,601 fedbiomed INFO - \u001b[1mTRAINING\u001b[0m \n",
       "\t\t\t\t\t NODE_ID: NODE_CENTRALIZED \n",
       "\t\t\t\t\t Round 9 | Iteration: 40/70 (57%) | Samples: 4040/7000000\n",
       " \t\t\t\t\t Loss: \u001b[1m-472.028442\u001b[0m \n",
       "\t\t\t\t\t ---------"
      ]
     },
     "metadata": {},
     "output_type": "display_data"
    },
    {
     "data": {
      "text/plain": [
       "2025-10-10 10:47:52,617 fedbiomed INFO - \u001b[1mTRAINING\u001b[0m \n",
       "\t\t\t\t\t NODE_ID: NODE_CENTRALIZED \n",
       "\t\t\t\t\t Round 9 | Iteration: 41/70 (59%) | Samples: 4141/7000000\n",
       " \t\t\t\t\t Loss: \u001b[1m-472.127441\u001b[0m \n",
       "\t\t\t\t\t ---------"
      ]
     },
     "metadata": {},
     "output_type": "display_data"
    },
    {
     "data": {
      "text/plain": [
       "2025-10-10 10:47:52,633 fedbiomed INFO - \u001b[1mTRAINING\u001b[0m \n",
       "\t\t\t\t\t NODE_ID: NODE_CENTRALIZED \n",
       "\t\t\t\t\t Round 9 | Iteration: 42/70 (60%) | Samples: 4242/7000000\n",
       " \t\t\t\t\t Loss: \u001b[1m-472.141907\u001b[0m \n",
       "\t\t\t\t\t ---------"
      ]
     },
     "metadata": {},
     "output_type": "display_data"
    },
    {
     "data": {
      "text/plain": [
       "2025-10-10 10:47:52,649 fedbiomed INFO - \u001b[1mTRAINING\u001b[0m \n",
       "\t\t\t\t\t NODE_ID: NODE_CENTRALIZED \n",
       "\t\t\t\t\t Round 9 | Iteration: 43/70 (61%) | Samples: 4343/7000000\n",
       " \t\t\t\t\t Loss: \u001b[1m-472.078552\u001b[0m \n",
       "\t\t\t\t\t ---------"
      ]
     },
     "metadata": {},
     "output_type": "display_data"
    },
    {
     "data": {
      "text/plain": [
       "2025-10-10 10:47:52,664 fedbiomed INFO - \u001b[1mTRAINING\u001b[0m \n",
       "\t\t\t\t\t NODE_ID: NODE_CENTRALIZED \n",
       "\t\t\t\t\t Round 9 | Iteration: 44/70 (63%) | Samples: 4444/7000000\n",
       " \t\t\t\t\t Loss: \u001b[1m-472.033325\u001b[0m \n",
       "\t\t\t\t\t ---------"
      ]
     },
     "metadata": {},
     "output_type": "display_data"
    },
    {
     "data": {
      "text/plain": [
       "2025-10-10 10:47:52,681 fedbiomed INFO - \u001b[1mTRAINING\u001b[0m \n",
       "\t\t\t\t\t NODE_ID: NODE_CENTRALIZED \n",
       "\t\t\t\t\t Round 9 | Iteration: 45/70 (64%) | Samples: 4545/7000000\n",
       " \t\t\t\t\t Loss: \u001b[1m-472.064209\u001b[0m \n",
       "\t\t\t\t\t ---------"
      ]
     },
     "metadata": {},
     "output_type": "display_data"
    },
    {
     "data": {
      "text/plain": [
       "2025-10-10 10:47:52,696 fedbiomed INFO - \u001b[1mTRAINING\u001b[0m \n",
       "\t\t\t\t\t NODE_ID: NODE_CENTRALIZED \n",
       "\t\t\t\t\t Round 9 | Iteration: 46/70 (66%) | Samples: 4646/7000000\n",
       " \t\t\t\t\t Loss: \u001b[1m-472.127563\u001b[0m \n",
       "\t\t\t\t\t ---------"
      ]
     },
     "metadata": {},
     "output_type": "display_data"
    },
    {
     "data": {
      "text/plain": [
       "2025-10-10 10:47:52,713 fedbiomed INFO - \u001b[1mTRAINING\u001b[0m \n",
       "\t\t\t\t\t NODE_ID: NODE_CENTRALIZED \n",
       "\t\t\t\t\t Round 9 | Iteration: 47/70 (67%) | Samples: 4747/7000000\n",
       " \t\t\t\t\t Loss: \u001b[1m-472.147522\u001b[0m \n",
       "\t\t\t\t\t ---------"
      ]
     },
     "metadata": {},
     "output_type": "display_data"
    },
    {
     "data": {
      "text/plain": [
       "2025-10-10 10:47:52,729 fedbiomed INFO - \u001b[1mTRAINING\u001b[0m \n",
       "\t\t\t\t\t NODE_ID: NODE_CENTRALIZED \n",
       "\t\t\t\t\t Round 9 | Iteration: 48/70 (69%) | Samples: 4848/7000000\n",
       " \t\t\t\t\t Loss: \u001b[1m-472.113098\u001b[0m \n",
       "\t\t\t\t\t ---------"
      ]
     },
     "metadata": {},
     "output_type": "display_data"
    },
    {
     "data": {
      "text/plain": [
       "2025-10-10 10:47:52,744 fedbiomed INFO - \u001b[1mTRAINING\u001b[0m \n",
       "\t\t\t\t\t NODE_ID: NODE_CENTRALIZED \n",
       "\t\t\t\t\t Round 9 | Iteration: 49/70 (70%) | Samples: 4949/7000000\n",
       " \t\t\t\t\t Loss: \u001b[1m-472.081116\u001b[0m \n",
       "\t\t\t\t\t ---------"
      ]
     },
     "metadata": {},
     "output_type": "display_data"
    },
    {
     "data": {
      "text/plain": [
       "2025-10-10 10:47:52,760 fedbiomed INFO - \u001b[1mTRAINING\u001b[0m \n",
       "\t\t\t\t\t NODE_ID: NODE_CENTRALIZED \n",
       "\t\t\t\t\t Round 9 | Iteration: 50/70 (71%) | Samples: 5050/7000000\n",
       " \t\t\t\t\t Loss: \u001b[1m-472.095764\u001b[0m \n",
       "\t\t\t\t\t ---------"
      ]
     },
     "metadata": {},
     "output_type": "display_data"
    },
    {
     "data": {
      "text/plain": [
       "2025-10-10 10:47:52,776 fedbiomed INFO - \u001b[1mTRAINING\u001b[0m \n",
       "\t\t\t\t\t NODE_ID: NODE_CENTRALIZED \n",
       "\t\t\t\t\t Round 9 | Iteration: 51/70 (73%) | Samples: 5151/7000000\n",
       " \t\t\t\t\t Loss: \u001b[1m-472.135223\u001b[0m \n",
       "\t\t\t\t\t ---------"
      ]
     },
     "metadata": {},
     "output_type": "display_data"
    },
    {
     "data": {
      "text/plain": [
       "2025-10-10 10:47:52,792 fedbiomed INFO - \u001b[1mTRAINING\u001b[0m \n",
       "\t\t\t\t\t NODE_ID: NODE_CENTRALIZED \n",
       "\t\t\t\t\t Round 9 | Iteration: 52/70 (74%) | Samples: 5252/7000000\n",
       " \t\t\t\t\t Loss: \u001b[1m-472.149658\u001b[0m \n",
       "\t\t\t\t\t ---------"
      ]
     },
     "metadata": {},
     "output_type": "display_data"
    },
    {
     "data": {
      "text/plain": [
       "2025-10-10 10:47:52,808 fedbiomed INFO - \u001b[1mTRAINING\u001b[0m \n",
       "\t\t\t\t\t NODE_ID: NODE_CENTRALIZED \n",
       "\t\t\t\t\t Round 9 | Iteration: 53/70 (76%) | Samples: 5353/7000000\n",
       " \t\t\t\t\t Loss: \u001b[1m-472.128662\u001b[0m \n",
       "\t\t\t\t\t ---------"
      ]
     },
     "metadata": {},
     "output_type": "display_data"
    },
    {
     "data": {
      "text/plain": [
       "2025-10-10 10:47:52,824 fedbiomed INFO - \u001b[1mTRAINING\u001b[0m \n",
       "\t\t\t\t\t NODE_ID: NODE_CENTRALIZED \n",
       "\t\t\t\t\t Round 9 | Iteration: 54/70 (77%) | Samples: 5454/7000000\n",
       " \t\t\t\t\t Loss: \u001b[1m-472.108582\u001b[0m \n",
       "\t\t\t\t\t ---------"
      ]
     },
     "metadata": {},
     "output_type": "display_data"
    },
    {
     "data": {
      "text/plain": [
       "2025-10-10 10:47:52,840 fedbiomed INFO - \u001b[1mTRAINING\u001b[0m \n",
       "\t\t\t\t\t NODE_ID: NODE_CENTRALIZED \n",
       "\t\t\t\t\t Round 9 | Iteration: 55/70 (79%) | Samples: 5555/7000000\n",
       " \t\t\t\t\t Loss: \u001b[1m-472.118134\u001b[0m \n",
       "\t\t\t\t\t ---------"
      ]
     },
     "metadata": {},
     "output_type": "display_data"
    },
    {
     "data": {
      "text/plain": [
       "2025-10-10 10:47:52,856 fedbiomed INFO - \u001b[1mTRAINING\u001b[0m \n",
       "\t\t\t\t\t NODE_ID: NODE_CENTRALIZED \n",
       "\t\t\t\t\t Round 9 | Iteration: 56/70 (80%) | Samples: 5656/7000000\n",
       " \t\t\t\t\t Loss: \u001b[1m-472.142456\u001b[0m \n",
       "\t\t\t\t\t ---------"
      ]
     },
     "metadata": {},
     "output_type": "display_data"
    },
    {
     "data": {
      "text/plain": [
       "2025-10-10 10:47:52,872 fedbiomed INFO - \u001b[1mTRAINING\u001b[0m \n",
       "\t\t\t\t\t NODE_ID: NODE_CENTRALIZED \n",
       "\t\t\t\t\t Round 9 | Iteration: 57/70 (81%) | Samples: 5757/7000000\n",
       " \t\t\t\t\t Loss: \u001b[1m-472.149475\u001b[0m \n",
       "\t\t\t\t\t ---------"
      ]
     },
     "metadata": {},
     "output_type": "display_data"
    },
    {
     "data": {
      "text/plain": [
       "2025-10-10 10:47:52,888 fedbiomed INFO - \u001b[1mTRAINING\u001b[0m \n",
       "\t\t\t\t\t NODE_ID: NODE_CENTRALIZED \n",
       "\t\t\t\t\t Round 9 | Iteration: 58/70 (83%) | Samples: 5858/7000000\n",
       " \t\t\t\t\t Loss: \u001b[1m-472.135315\u001b[0m \n",
       "\t\t\t\t\t ---------"
      ]
     },
     "metadata": {},
     "output_type": "display_data"
    },
    {
     "data": {
      "text/plain": [
       "2025-10-10 10:47:52,904 fedbiomed INFO - \u001b[1mTRAINING\u001b[0m \n",
       "\t\t\t\t\t NODE_ID: NODE_CENTRALIZED \n",
       "\t\t\t\t\t Round 9 | Iteration: 59/70 (84%) | Samples: 5959/7000000\n",
       " \t\t\t\t\t Loss: \u001b[1m-472.124573\u001b[0m \n",
       "\t\t\t\t\t ---------"
      ]
     },
     "metadata": {},
     "output_type": "display_data"
    },
    {
     "data": {
      "text/plain": [
       "2025-10-10 10:47:52,920 fedbiomed INFO - \u001b[1mTRAINING\u001b[0m \n",
       "\t\t\t\t\t NODE_ID: NODE_CENTRALIZED \n",
       "\t\t\t\t\t Round 9 | Iteration: 60/70 (86%) | Samples: 6060/7000000\n",
       " \t\t\t\t\t Loss: \u001b[1m-472.132843\u001b[0m \n",
       "\t\t\t\t\t ---------"
      ]
     },
     "metadata": {},
     "output_type": "display_data"
    },
    {
     "data": {
      "text/plain": [
       "2025-10-10 10:47:52,936 fedbiomed INFO - \u001b[1mTRAINING\u001b[0m \n",
       "\t\t\t\t\t NODE_ID: NODE_CENTRALIZED \n",
       "\t\t\t\t\t Round 9 | Iteration: 61/70 (87%) | Samples: 6161/7000000\n",
       " \t\t\t\t\t Loss: \u001b[1m-472.147461\u001b[0m \n",
       "\t\t\t\t\t ---------"
      ]
     },
     "metadata": {},
     "output_type": "display_data"
    },
    {
     "data": {
      "text/plain": [
       "2025-10-10 10:47:52,952 fedbiomed INFO - \u001b[1mTRAINING\u001b[0m \n",
       "\t\t\t\t\t NODE_ID: NODE_CENTRALIZED \n",
       "\t\t\t\t\t Round 9 | Iteration: 62/70 (89%) | Samples: 6262/7000000\n",
       " \t\t\t\t\t Loss: \u001b[1m-472.148895\u001b[0m \n",
       "\t\t\t\t\t ---------"
      ]
     },
     "metadata": {},
     "output_type": "display_data"
    },
    {
     "data": {
      "text/plain": [
       "2025-10-10 10:47:52,968 fedbiomed INFO - \u001b[1mTRAINING\u001b[0m \n",
       "\t\t\t\t\t NODE_ID: NODE_CENTRALIZED \n",
       "\t\t\t\t\t Round 9 | Iteration: 63/70 (90%) | Samples: 6363/7000000\n",
       " \t\t\t\t\t Loss: \u001b[1m-472.138885\u001b[0m \n",
       "\t\t\t\t\t ---------"
      ]
     },
     "metadata": {},
     "output_type": "display_data"
    },
    {
     "data": {
      "text/plain": [
       "2025-10-10 10:47:52,984 fedbiomed INFO - \u001b[1mTRAINING\u001b[0m \n",
       "\t\t\t\t\t NODE_ID: NODE_CENTRALIZED \n",
       "\t\t\t\t\t Round 9 | Iteration: 64/70 (91%) | Samples: 6464/7000000\n",
       " \t\t\t\t\t Loss: \u001b[1m-472.134491\u001b[0m \n",
       "\t\t\t\t\t ---------"
      ]
     },
     "metadata": {},
     "output_type": "display_data"
    },
    {
     "data": {
      "text/plain": [
       "2025-10-10 10:47:53,000 fedbiomed INFO - \u001b[1mTRAINING\u001b[0m \n",
       "\t\t\t\t\t NODE_ID: NODE_CENTRALIZED \n",
       "\t\t\t\t\t Round 9 | Iteration: 65/70 (93%) | Samples: 6565/7000000\n",
       " \t\t\t\t\t Loss: \u001b[1m-472.141968\u001b[0m \n",
       "\t\t\t\t\t ---------"
      ]
     },
     "metadata": {},
     "output_type": "display_data"
    },
    {
     "data": {
      "text/plain": [
       "2025-10-10 10:47:53,015 fedbiomed INFO - \u001b[1mTRAINING\u001b[0m \n",
       "\t\t\t\t\t NODE_ID: NODE_CENTRALIZED \n",
       "\t\t\t\t\t Round 9 | Iteration: 66/70 (94%) | Samples: 6666/7000000\n",
       " \t\t\t\t\t Loss: \u001b[1m-472.149811\u001b[0m \n",
       "\t\t\t\t\t ---------"
      ]
     },
     "metadata": {},
     "output_type": "display_data"
    },
    {
     "data": {
      "text/plain": [
       "2025-10-10 10:47:53,031 fedbiomed INFO - \u001b[1mTRAINING\u001b[0m \n",
       "\t\t\t\t\t NODE_ID: NODE_CENTRALIZED \n",
       "\t\t\t\t\t Round 9 | Iteration: 67/70 (96%) | Samples: 6767/7000000\n",
       " \t\t\t\t\t Loss: \u001b[1m-472.148041\u001b[0m \n",
       "\t\t\t\t\t ---------"
      ]
     },
     "metadata": {},
     "output_type": "display_data"
    },
    {
     "data": {
      "text/plain": [
       "2025-10-10 10:47:53,047 fedbiomed INFO - \u001b[1mTRAINING\u001b[0m \n",
       "\t\t\t\t\t NODE_ID: NODE_CENTRALIZED \n",
       "\t\t\t\t\t Round 9 | Iteration: 68/70 (97%) | Samples: 6868/7000000\n",
       " \t\t\t\t\t Loss: \u001b[1m-472.141754\u001b[0m \n",
       "\t\t\t\t\t ---------"
      ]
     },
     "metadata": {},
     "output_type": "display_data"
    },
    {
     "data": {
      "text/plain": [
       "2025-10-10 10:47:53,063 fedbiomed INFO - \u001b[1mTRAINING\u001b[0m \n",
       "\t\t\t\t\t NODE_ID: NODE_CENTRALIZED \n",
       "\t\t\t\t\t Round 9 | Iteration: 69/70 (99%) | Samples: 6969/7000000\n",
       " \t\t\t\t\t Loss: \u001b[1m-472.141571\u001b[0m \n",
       "\t\t\t\t\t ---------"
      ]
     },
     "metadata": {},
     "output_type": "display_data"
    },
    {
     "data": {
      "text/plain": [
       "2025-10-10 10:47:53,079 fedbiomed INFO - \u001b[1mTRAINING\u001b[0m \n",
       "\t\t\t\t\t NODE_ID: NODE_CENTRALIZED \n",
       "\t\t\t\t\t Round 9 | Iteration: 70/70 (100%) | Samples: 7070/7000000\n",
       " \t\t\t\t\t Loss: \u001b[1m-472.147522\u001b[0m \n",
       "\t\t\t\t\t ---------"
      ]
     },
     "metadata": {},
     "output_type": "display_data"
    },
    {
     "data": {
      "text/plain": [
       "2025-10-10 10:47:53,214 fedbiomed INFO - Nodes that successfully reply in round 8 ['NODE_CENTRALIZED']"
      ]
     },
     "metadata": {},
     "output_type": "display_data"
    },
    {
     "data": {
      "text/plain": [
       "2025-10-10 10:47:53,263 fedbiomed INFO - Sampled nodes in round 9 ['NODE_CENTRALIZED']"
      ]
     },
     "metadata": {},
     "output_type": "display_data"
    },
    {
     "name": "stdout",
     "output_type": "stream",
     "text": [
      "<function extract_symbols at 0x7f7ba399cd30>\n"
     ]
    },
    {
     "data": {
      "text/plain": [
       "2025-10-10 10:47:53,321 fedbiomed INFO - \u001b[1mSending request\u001b[0m \n",
       "\t\t\t\t\t\u001b[1m To\u001b[0m: NODE_CENTRALIZED \n",
       "\t\t\t\t\t\u001b[1m Request: \u001b[0m: TRAIN\n",
       " -----------------------------------------------------------------"
      ]
     },
     "metadata": {},
     "output_type": "display_data"
    },
    {
     "data": {
      "text/plain": [
       "2025-10-10 10:47:53,433 fedbiomed DEBUG - Node: NODE_CENTRALIZED polling for the tasks"
      ]
     },
     "metadata": {},
     "output_type": "display_data"
    },
    {
     "data": {
      "text/plain": [
       "2025-10-10 10:47:53,558 fedbiomed INFO - \u001b[1mTRAINING\u001b[0m \n",
       "\t\t\t\t\t NODE_ID: NODE_CENTRALIZED \n",
       "\t\t\t\t\t Round 10 | Iteration: 1/70 (1%) | Samples: 101/7000000\n",
       " \t\t\t\t\t Loss: \u001b[1m-472.150513\u001b[0m \n",
       "\t\t\t\t\t ---------"
      ]
     },
     "metadata": {},
     "output_type": "display_data"
    },
    {
     "data": {
      "text/plain": [
       "2025-10-10 10:47:53,584 fedbiomed INFO - \u001b[1mTRAINING\u001b[0m \n",
       "\t\t\t\t\t NODE_ID: NODE_CENTRALIZED \n",
       "\t\t\t\t\t Round 10 | Iteration: 2/70 (3%) | Samples: 202/7000000\n",
       " \t\t\t\t\t Loss: \u001b[1m-461.193604\u001b[0m \n",
       "\t\t\t\t\t ---------"
      ]
     },
     "metadata": {},
     "output_type": "display_data"
    },
    {
     "data": {
      "text/plain": [
       "2025-10-10 10:47:53,606 fedbiomed INFO - \u001b[1mTRAINING\u001b[0m \n",
       "\t\t\t\t\t NODE_ID: NODE_CENTRALIZED \n",
       "\t\t\t\t\t Round 10 | Iteration: 3/70 (4%) | Samples: 303/7000000\n",
       " \t\t\t\t\t Loss: \u001b[1m-471.264771\u001b[0m \n",
       "\t\t\t\t\t ---------"
      ]
     },
     "metadata": {},
     "output_type": "display_data"
    },
    {
     "data": {
      "text/plain": [
       "2025-10-10 10:47:53,626 fedbiomed INFO - \u001b[1mTRAINING\u001b[0m \n",
       "\t\t\t\t\t NODE_ID: NODE_CENTRALIZED \n",
       "\t\t\t\t\t Round 10 | Iteration: 4/70 (6%) | Samples: 404/7000000\n",
       " \t\t\t\t\t Loss: \u001b[1m-469.249420\u001b[0m \n",
       "\t\t\t\t\t ---------"
      ]
     },
     "metadata": {},
     "output_type": "display_data"
    },
    {
     "data": {
      "text/plain": [
       "2025-10-10 10:47:53,642 fedbiomed INFO - \u001b[1mTRAINING\u001b[0m \n",
       "\t\t\t\t\t NODE_ID: NODE_CENTRALIZED \n",
       "\t\t\t\t\t Round 10 | Iteration: 5/70 (7%) | Samples: 505/7000000\n",
       " \t\t\t\t\t Loss: \u001b[1m-465.860809\u001b[0m \n",
       "\t\t\t\t\t ---------"
      ]
     },
     "metadata": {},
     "output_type": "display_data"
    },
    {
     "data": {
      "text/plain": [
       "2025-10-10 10:47:53,658 fedbiomed INFO - \u001b[1mTRAINING\u001b[0m \n",
       "\t\t\t\t\t NODE_ID: NODE_CENTRALIZED \n",
       "\t\t\t\t\t Round 10 | Iteration: 6/70 (9%) | Samples: 606/7000000\n",
       " \t\t\t\t\t Loss: \u001b[1m-467.736023\u001b[0m \n",
       "\t\t\t\t\t ---------"
      ]
     },
     "metadata": {},
     "output_type": "display_data"
    },
    {
     "data": {
      "text/plain": [
       "2025-10-10 10:47:53,673 fedbiomed INFO - \u001b[1mTRAINING\u001b[0m \n",
       "\t\t\t\t\t NODE_ID: NODE_CENTRALIZED \n",
       "\t\t\t\t\t Round 10 | Iteration: 7/70 (10%) | Samples: 707/7000000\n",
       " \t\t\t\t\t Loss: \u001b[1m-470.884155\u001b[0m \n",
       "\t\t\t\t\t ---------"
      ]
     },
     "metadata": {},
     "output_type": "display_data"
    },
    {
     "data": {
      "text/plain": [
       "2025-10-10 10:47:53,689 fedbiomed INFO - \u001b[1mTRAINING\u001b[0m \n",
       "\t\t\t\t\t NODE_ID: NODE_CENTRALIZED \n",
       "\t\t\t\t\t Round 10 | Iteration: 8/70 (11%) | Samples: 808/7000000\n",
       " \t\t\t\t\t Loss: \u001b[1m-471.801086\u001b[0m \n",
       "\t\t\t\t\t ---------"
      ]
     },
     "metadata": {},
     "output_type": "display_data"
    },
    {
     "data": {
      "text/plain": [
       "2025-10-10 10:47:53,705 fedbiomed INFO - \u001b[1mTRAINING\u001b[0m \n",
       "\t\t\t\t\t NODE_ID: NODE_CENTRALIZED \n",
       "\t\t\t\t\t Round 10 | Iteration: 9/70 (13%) | Samples: 909/7000000\n",
       " \t\t\t\t\t Loss: \u001b[1m-470.375275\u001b[0m \n",
       "\t\t\t\t\t ---------"
      ]
     },
     "metadata": {},
     "output_type": "display_data"
    },
    {
     "data": {
      "text/plain": [
       "2025-10-10 10:47:53,720 fedbiomed INFO - \u001b[1mTRAINING\u001b[0m \n",
       "\t\t\t\t\t NODE_ID: NODE_CENTRALIZED \n",
       "\t\t\t\t\t Round 10 | Iteration: 10/70 (14%) | Samples: 1010/7000000\n",
       " \t\t\t\t\t Loss: \u001b[1m-469.056793\u001b[0m \n",
       "\t\t\t\t\t ---------"
      ]
     },
     "metadata": {},
     "output_type": "display_data"
    },
    {
     "data": {
      "text/plain": [
       "2025-10-10 10:47:53,736 fedbiomed INFO - \u001b[1mTRAINING\u001b[0m \n",
       "\t\t\t\t\t NODE_ID: NODE_CENTRALIZED \n",
       "\t\t\t\t\t Round 10 | Iteration: 11/70 (16%) | Samples: 1111/7000000\n",
       " \t\t\t\t\t Loss: \u001b[1m-469.483429\u001b[0m \n",
       "\t\t\t\t\t ---------"
      ]
     },
     "metadata": {},
     "output_type": "display_data"
    },
    {
     "data": {
      "text/plain": [
       "2025-10-10 10:47:53,752 fedbiomed INFO - \u001b[1mTRAINING\u001b[0m \n",
       "\t\t\t\t\t NODE_ID: NODE_CENTRALIZED \n",
       "\t\t\t\t\t Round 10 | Iteration: 12/70 (17%) | Samples: 1212/7000000\n",
       " \t\t\t\t\t Loss: \u001b[1m-470.985901\u001b[0m \n",
       "\t\t\t\t\t ---------"
      ]
     },
     "metadata": {},
     "output_type": "display_data"
    },
    {
     "data": {
      "text/plain": [
       "2025-10-10 10:47:53,767 fedbiomed INFO - \u001b[1mTRAINING\u001b[0m \n",
       "\t\t\t\t\t NODE_ID: NODE_CENTRALIZED \n",
       "\t\t\t\t\t Round 10 | Iteration: 13/70 (19%) | Samples: 1313/7000000\n",
       " \t\t\t\t\t Loss: \u001b[1m-472.017273\u001b[0m \n",
       "\t\t\t\t\t ---------"
      ]
     },
     "metadata": {},
     "output_type": "display_data"
    },
    {
     "data": {
      "text/plain": [
       "2025-10-10 10:47:53,783 fedbiomed INFO - \u001b[1mTRAINING\u001b[0m \n",
       "\t\t\t\t\t NODE_ID: NODE_CENTRALIZED \n",
       "\t\t\t\t\t Round 10 | Iteration: 14/70 (20%) | Samples: 1414/7000000\n",
       " \t\t\t\t\t Loss: \u001b[1m-471.789886\u001b[0m \n",
       "\t\t\t\t\t ---------"
      ]
     },
     "metadata": {},
     "output_type": "display_data"
    },
    {
     "data": {
      "text/plain": [
       "2025-10-10 10:47:53,800 fedbiomed INFO - \u001b[1mTRAINING\u001b[0m \n",
       "\t\t\t\t\t NODE_ID: NODE_CENTRALIZED \n",
       "\t\t\t\t\t Round 10 | Iteration: 15/70 (21%) | Samples: 1515/7000000\n",
       " \t\t\t\t\t Loss: \u001b[1m-470.872559\u001b[0m \n",
       "\t\t\t\t\t ---------"
      ]
     },
     "metadata": {},
     "output_type": "display_data"
    },
    {
     "data": {
      "text/plain": [
       "2025-10-10 10:47:53,815 fedbiomed INFO - \u001b[1mTRAINING\u001b[0m \n",
       "\t\t\t\t\t NODE_ID: NODE_CENTRALIZED \n",
       "\t\t\t\t\t Round 10 | Iteration: 16/70 (23%) | Samples: 1616/7000000\n",
       " \t\t\t\t\t Loss: \u001b[1m-470.409058\u001b[0m \n",
       "\t\t\t\t\t ---------"
      ]
     },
     "metadata": {},
     "output_type": "display_data"
    },
    {
     "data": {
      "text/plain": [
       "2025-10-10 10:47:53,830 fedbiomed INFO - \u001b[1mTRAINING\u001b[0m \n",
       "\t\t\t\t\t NODE_ID: NODE_CENTRALIZED \n",
       "\t\t\t\t\t Round 10 | Iteration: 17/70 (24%) | Samples: 1717/7000000\n",
       " \t\t\t\t\t Loss: \u001b[1m-470.843262\u001b[0m \n",
       "\t\t\t\t\t ---------"
      ]
     },
     "metadata": {},
     "output_type": "display_data"
    },
    {
     "data": {
      "text/plain": [
       "2025-10-10 10:47:53,846 fedbiomed INFO - \u001b[1mTRAINING\u001b[0m \n",
       "\t\t\t\t\t NODE_ID: NODE_CENTRALIZED \n",
       "\t\t\t\t\t Round 10 | Iteration: 18/70 (26%) | Samples: 1818/7000000\n",
       " \t\t\t\t\t Loss: \u001b[1m-471.655579\u001b[0m \n",
       "\t\t\t\t\t ---------"
      ]
     },
     "metadata": {},
     "output_type": "display_data"
    },
    {
     "data": {
      "text/plain": [
       "2025-10-10 10:47:53,861 fedbiomed INFO - \u001b[1mTRAINING\u001b[0m \n",
       "\t\t\t\t\t NODE_ID: NODE_CENTRALIZED \n",
       "\t\t\t\t\t Round 10 | Iteration: 19/70 (27%) | Samples: 1919/7000000\n",
       " \t\t\t\t\t Loss: \u001b[1m-472.079559\u001b[0m \n",
       "\t\t\t\t\t ---------"
      ]
     },
     "metadata": {},
     "output_type": "display_data"
    },
    {
     "data": {
      "text/plain": [
       "2025-10-10 10:47:53,878 fedbiomed INFO - \u001b[1mTRAINING\u001b[0m \n",
       "\t\t\t\t\t NODE_ID: NODE_CENTRALIZED \n",
       "\t\t\t\t\t Round 10 | Iteration: 20/70 (29%) | Samples: 2020/7000000\n",
       " \t\t\t\t\t Loss: \u001b[1m-471.854279\u001b[0m \n",
       "\t\t\t\t\t ---------"
      ]
     },
     "metadata": {},
     "output_type": "display_data"
    },
    {
     "data": {
      "text/plain": [
       "2025-10-10 10:47:53,893 fedbiomed INFO - \u001b[1mTRAINING\u001b[0m \n",
       "\t\t\t\t\t NODE_ID: NODE_CENTRALIZED \n",
       "\t\t\t\t\t Round 10 | Iteration: 21/70 (30%) | Samples: 2121/7000000\n",
       " \t\t\t\t\t Loss: \u001b[1m-471.383240\u001b[0m \n",
       "\t\t\t\t\t ---------"
      ]
     },
     "metadata": {},
     "output_type": "display_data"
    },
    {
     "data": {
      "text/plain": [
       "2025-10-10 10:47:53,908 fedbiomed INFO - \u001b[1mTRAINING\u001b[0m \n",
       "\t\t\t\t\t NODE_ID: NODE_CENTRALIZED \n",
       "\t\t\t\t\t Round 10 | Iteration: 22/70 (31%) | Samples: 2222/7000000\n",
       " \t\t\t\t\t Loss: \u001b[1m-471.230133\u001b[0m \n",
       "\t\t\t\t\t ---------"
      ]
     },
     "metadata": {},
     "output_type": "display_data"
    },
    {
     "data": {
      "text/plain": [
       "2025-10-10 10:47:53,924 fedbiomed INFO - \u001b[1mTRAINING\u001b[0m \n",
       "\t\t\t\t\t NODE_ID: NODE_CENTRALIZED \n",
       "\t\t\t\t\t Round 10 | Iteration: 23/70 (33%) | Samples: 2323/7000000\n",
       " \t\t\t\t\t Loss: \u001b[1m-471.531464\u001b[0m \n",
       "\t\t\t\t\t ---------"
      ]
     },
     "metadata": {},
     "output_type": "display_data"
    },
    {
     "data": {
      "text/plain": [
       "2025-10-10 10:47:53,940 fedbiomed INFO - \u001b[1mTRAINING\u001b[0m \n",
       "\t\t\t\t\t NODE_ID: NODE_CENTRALIZED \n",
       "\t\t\t\t\t Round 10 | Iteration: 24/70 (34%) | Samples: 2424/7000000\n",
       " \t\t\t\t\t Loss: \u001b[1m-471.949005\u001b[0m \n",
       "\t\t\t\t\t ---------"
      ]
     },
     "metadata": {},
     "output_type": "display_data"
    },
    {
     "data": {
      "text/plain": [
       "2025-10-10 10:47:53,955 fedbiomed INFO - \u001b[1mTRAINING\u001b[0m \n",
       "\t\t\t\t\t NODE_ID: NODE_CENTRALIZED \n",
       "\t\t\t\t\t Round 10 | Iteration: 25/70 (36%) | Samples: 2525/7000000\n",
       " \t\t\t\t\t Loss: \u001b[1m-472.090454\u001b[0m \n",
       "\t\t\t\t\t ---------"
      ]
     },
     "metadata": {},
     "output_type": "display_data"
    },
    {
     "data": {
      "text/plain": [
       "2025-10-10 10:47:53,971 fedbiomed INFO - \u001b[1mTRAINING\u001b[0m \n",
       "\t\t\t\t\t NODE_ID: NODE_CENTRALIZED \n",
       "\t\t\t\t\t Round 10 | Iteration: 26/70 (37%) | Samples: 2626/7000000\n",
       " \t\t\t\t\t Loss: \u001b[1m-471.900543\u001b[0m \n",
       "\t\t\t\t\t ---------"
      ]
     },
     "metadata": {},
     "output_type": "display_data"
    },
    {
     "data": {
      "text/plain": [
       "2025-10-10 10:47:53,987 fedbiomed INFO - \u001b[1mTRAINING\u001b[0m \n",
       "\t\t\t\t\t NODE_ID: NODE_CENTRALIZED \n",
       "\t\t\t\t\t Round 10 | Iteration: 27/70 (39%) | Samples: 2727/7000000\n",
       " \t\t\t\t\t Loss: \u001b[1m-471.661713\u001b[0m \n",
       "\t\t\t\t\t ---------"
      ]
     },
     "metadata": {},
     "output_type": "display_data"
    },
    {
     "data": {
      "text/plain": [
       "2025-10-10 10:47:54,002 fedbiomed INFO - \u001b[1mTRAINING\u001b[0m \n",
       "\t\t\t\t\t NODE_ID: NODE_CENTRALIZED \n",
       "\t\t\t\t\t Round 10 | Iteration: 28/70 (40%) | Samples: 2828/7000000\n",
       " \t\t\t\t\t Loss: \u001b[1m-471.655548\u001b[0m \n",
       "\t\t\t\t\t ---------"
      ]
     },
     "metadata": {},
     "output_type": "display_data"
    },
    {
     "data": {
      "text/plain": [
       "2025-10-10 10:47:54,018 fedbiomed INFO - \u001b[1mTRAINING\u001b[0m \n",
       "\t\t\t\t\t NODE_ID: NODE_CENTRALIZED \n",
       "\t\t\t\t\t Round 10 | Iteration: 29/70 (41%) | Samples: 2929/7000000\n",
       " \t\t\t\t\t Loss: \u001b[1m-471.877716\u001b[0m \n",
       "\t\t\t\t\t ---------"
      ]
     },
     "metadata": {},
     "output_type": "display_data"
    },
    {
     "data": {
      "text/plain": [
       "2025-10-10 10:47:54,033 fedbiomed INFO - \u001b[1mTRAINING\u001b[0m \n",
       "\t\t\t\t\t NODE_ID: NODE_CENTRALIZED \n",
       "\t\t\t\t\t Round 10 | Iteration: 30/70 (43%) | Samples: 3030/7000000\n",
       " \t\t\t\t\t Loss: \u001b[1m-472.090698\u001b[0m \n",
       "\t\t\t\t\t ---------"
      ]
     },
     "metadata": {},
     "output_type": "display_data"
    },
    {
     "data": {
      "text/plain": [
       "2025-10-10 10:47:54,050 fedbiomed INFO - \u001b[1mTRAINING\u001b[0m \n",
       "\t\t\t\t\t NODE_ID: NODE_CENTRALIZED \n",
       "\t\t\t\t\t Round 10 | Iteration: 31/70 (44%) | Samples: 3131/7000000\n",
       " \t\t\t\t\t Loss: \u001b[1m-472.104218\u001b[0m \n",
       "\t\t\t\t\t ---------"
      ]
     },
     "metadata": {},
     "output_type": "display_data"
    },
    {
     "data": {
      "text/plain": [
       "2025-10-10 10:47:54,065 fedbiomed INFO - \u001b[1mTRAINING\u001b[0m \n",
       "\t\t\t\t\t NODE_ID: NODE_CENTRALIZED \n",
       "\t\t\t\t\t Round 10 | Iteration: 32/70 (46%) | Samples: 3232/7000000\n",
       " \t\t\t\t\t Loss: \u001b[1m-471.963593\u001b[0m \n",
       "\t\t\t\t\t ---------"
      ]
     },
     "metadata": {},
     "output_type": "display_data"
    },
    {
     "data": {
      "text/plain": [
       "2025-10-10 10:47:54,080 fedbiomed INFO - \u001b[1mTRAINING\u001b[0m \n",
       "\t\t\t\t\t NODE_ID: NODE_CENTRALIZED \n",
       "\t\t\t\t\t Round 10 | Iteration: 33/70 (47%) | Samples: 3333/7000000\n",
       " \t\t\t\t\t Loss: \u001b[1m-471.864136\u001b[0m \n",
       "\t\t\t\t\t ---------"
      ]
     },
     "metadata": {},
     "output_type": "display_data"
    },
    {
     "data": {
      "text/plain": [
       "2025-10-10 10:47:54,096 fedbiomed INFO - \u001b[1mTRAINING\u001b[0m \n",
       "\t\t\t\t\t NODE_ID: NODE_CENTRALIZED \n",
       "\t\t\t\t\t Round 10 | Iteration: 34/70 (49%) | Samples: 3434/7000000\n",
       " \t\t\t\t\t Loss: \u001b[1m-471.920135\u001b[0m \n",
       "\t\t\t\t\t ---------"
      ]
     },
     "metadata": {},
     "output_type": "display_data"
    },
    {
     "data": {
      "text/plain": [
       "2025-10-10 10:47:54,112 fedbiomed INFO - \u001b[1mTRAINING\u001b[0m \n",
       "\t\t\t\t\t NODE_ID: NODE_CENTRALIZED \n",
       "\t\t\t\t\t Round 10 | Iteration: 35/70 (50%) | Samples: 3535/7000000\n",
       " \t\t\t\t\t Loss: \u001b[1m-472.056732\u001b[0m \n",
       "\t\t\t\t\t ---------"
      ]
     },
     "metadata": {},
     "output_type": "display_data"
    },
    {
     "data": {
      "text/plain": [
       "2025-10-10 10:47:54,127 fedbiomed INFO - \u001b[1mTRAINING\u001b[0m \n",
       "\t\t\t\t\t NODE_ID: NODE_CENTRALIZED \n",
       "\t\t\t\t\t Round 10 | Iteration: 36/70 (51%) | Samples: 3636/7000000\n",
       " \t\t\t\t\t Loss: \u001b[1m-472.124878\u001b[0m \n",
       "\t\t\t\t\t ---------"
      ]
     },
     "metadata": {},
     "output_type": "display_data"
    },
    {
     "data": {
      "text/plain": [
       "2025-10-10 10:47:54,143 fedbiomed INFO - \u001b[1mTRAINING\u001b[0m \n",
       "\t\t\t\t\t NODE_ID: NODE_CENTRALIZED \n",
       "\t\t\t\t\t Round 10 | Iteration: 37/70 (53%) | Samples: 3737/7000000\n",
       " \t\t\t\t\t Loss: \u001b[1m-472.077606\u001b[0m \n",
       "\t\t\t\t\t ---------"
      ]
     },
     "metadata": {},
     "output_type": "display_data"
    },
    {
     "data": {
      "text/plain": [
       "2025-10-10 10:47:54,159 fedbiomed INFO - \u001b[1mTRAINING\u001b[0m \n",
       "\t\t\t\t\t NODE_ID: NODE_CENTRALIZED \n",
       "\t\t\t\t\t Round 10 | Iteration: 38/70 (54%) | Samples: 3838/7000000\n",
       " \t\t\t\t\t Loss: \u001b[1m-472.003662\u001b[0m \n",
       "\t\t\t\t\t ---------"
      ]
     },
     "metadata": {},
     "output_type": "display_data"
    },
    {
     "data": {
      "text/plain": [
       "2025-10-10 10:47:54,176 fedbiomed INFO - \u001b[1mTRAINING\u001b[0m \n",
       "\t\t\t\t\t NODE_ID: NODE_CENTRALIZED \n",
       "\t\t\t\t\t Round 10 | Iteration: 39/70 (56%) | Samples: 3939/7000000\n",
       " \t\t\t\t\t Loss: \u001b[1m-472.002472\u001b[0m \n",
       "\t\t\t\t\t ---------"
      ]
     },
     "metadata": {},
     "output_type": "display_data"
    },
    {
     "data": {
      "text/plain": [
       "2025-10-10 10:47:54,191 fedbiomed INFO - \u001b[1mTRAINING\u001b[0m \n",
       "\t\t\t\t\t NODE_ID: NODE_CENTRALIZED \n",
       "\t\t\t\t\t Round 10 | Iteration: 40/70 (57%) | Samples: 4040/7000000\n",
       " \t\t\t\t\t Loss: \u001b[1m-472.070374\u001b[0m \n",
       "\t\t\t\t\t ---------"
      ]
     },
     "metadata": {},
     "output_type": "display_data"
    },
    {
     "data": {
      "text/plain": [
       "2025-10-10 10:47:54,207 fedbiomed INFO - \u001b[1mTRAINING\u001b[0m \n",
       "\t\t\t\t\t NODE_ID: NODE_CENTRALIZED \n",
       "\t\t\t\t\t Round 10 | Iteration: 41/70 (59%) | Samples: 4141/7000000\n",
       " \t\t\t\t\t Loss: \u001b[1m-472.125092\u001b[0m \n",
       "\t\t\t\t\t ---------"
      ]
     },
     "metadata": {},
     "output_type": "display_data"
    },
    {
     "data": {
      "text/plain": [
       "2025-10-10 10:47:54,222 fedbiomed INFO - \u001b[1mTRAINING\u001b[0m \n",
       "\t\t\t\t\t NODE_ID: NODE_CENTRALIZED \n",
       "\t\t\t\t\t Round 10 | Iteration: 42/70 (60%) | Samples: 4242/7000000\n",
       " \t\t\t\t\t Loss: \u001b[1m-472.115204\u001b[0m \n",
       "\t\t\t\t\t ---------"
      ]
     },
     "metadata": {},
     "output_type": "display_data"
    },
    {
     "data": {
      "text/plain": [
       "2025-10-10 10:47:54,238 fedbiomed INFO - \u001b[1mTRAINING\u001b[0m \n",
       "\t\t\t\t\t NODE_ID: NODE_CENTRALIZED \n",
       "\t\t\t\t\t Round 10 | Iteration: 43/70 (61%) | Samples: 4343/7000000\n",
       " \t\t\t\t\t Loss: \u001b[1m-472.073456\u001b[0m \n",
       "\t\t\t\t\t ---------"
      ]
     },
     "metadata": {},
     "output_type": "display_data"
    },
    {
     "data": {
      "text/plain": [
       "2025-10-10 10:47:54,254 fedbiomed INFO - \u001b[1mTRAINING\u001b[0m \n",
       "\t\t\t\t\t NODE_ID: NODE_CENTRALIZED \n",
       "\t\t\t\t\t Round 10 | Iteration: 44/70 (63%) | Samples: 4444/7000000\n",
       " \t\t\t\t\t Loss: \u001b[1m-472.061432\u001b[0m \n",
       "\t\t\t\t\t ---------"
      ]
     },
     "metadata": {},
     "output_type": "display_data"
    },
    {
     "data": {
      "text/plain": [
       "2025-10-10 10:47:54,269 fedbiomed INFO - \u001b[1mTRAINING\u001b[0m \n",
       "\t\t\t\t\t NODE_ID: NODE_CENTRALIZED \n",
       "\t\t\t\t\t Round 10 | Iteration: 45/70 (64%) | Samples: 4545/7000000\n",
       " \t\t\t\t\t Loss: \u001b[1m-472.091980\u001b[0m \n",
       "\t\t\t\t\t ---------"
      ]
     },
     "metadata": {},
     "output_type": "display_data"
    },
    {
     "data": {
      "text/plain": [
       "2025-10-10 10:47:54,285 fedbiomed INFO - \u001b[1mTRAINING\u001b[0m \n",
       "\t\t\t\t\t NODE_ID: NODE_CENTRALIZED \n",
       "\t\t\t\t\t Round 10 | Iteration: 46/70 (66%) | Samples: 4646/7000000\n",
       " \t\t\t\t\t Loss: \u001b[1m-472.125214\u001b[0m \n",
       "\t\t\t\t\t ---------"
      ]
     },
     "metadata": {},
     "output_type": "display_data"
    },
    {
     "data": {
      "text/plain": [
       "2025-10-10 10:47:54,300 fedbiomed INFO - \u001b[1mTRAINING\u001b[0m \n",
       "\t\t\t\t\t NODE_ID: NODE_CENTRALIZED \n",
       "\t\t\t\t\t Round 10 | Iteration: 47/70 (67%) | Samples: 4747/7000000\n",
       " \t\t\t\t\t Loss: \u001b[1m-472.127319\u001b[0m \n",
       "\t\t\t\t\t ---------"
      ]
     },
     "metadata": {},
     "output_type": "display_data"
    },
    {
     "data": {
      "text/plain": [
       "2025-10-10 10:47:54,316 fedbiomed INFO - \u001b[1mTRAINING\u001b[0m \n",
       "\t\t\t\t\t NODE_ID: NODE_CENTRALIZED \n",
       "\t\t\t\t\t Round 10 | Iteration: 48/70 (69%) | Samples: 4848/7000000\n",
       " \t\t\t\t\t Loss: \u001b[1m-472.109772\u001b[0m \n",
       "\t\t\t\t\t ---------"
      ]
     },
     "metadata": {},
     "output_type": "display_data"
    },
    {
     "data": {
      "text/plain": [
       "2025-10-10 10:47:54,332 fedbiomed INFO - \u001b[1mTRAINING\u001b[0m \n",
       "\t\t\t\t\t NODE_ID: NODE_CENTRALIZED \n",
       "\t\t\t\t\t Round 10 | Iteration: 49/70 (70%) | Samples: 4949/7000000\n",
       " \t\t\t\t\t Loss: \u001b[1m-472.104187\u001b[0m \n",
       "\t\t\t\t\t ---------"
      ]
     },
     "metadata": {},
     "output_type": "display_data"
    },
    {
     "data": {
      "text/plain": [
       "2025-10-10 10:47:54,347 fedbiomed INFO - \u001b[1mTRAINING\u001b[0m \n",
       "\t\t\t\t\t NODE_ID: NODE_CENTRALIZED \n",
       "\t\t\t\t\t Round 10 | Iteration: 50/70 (71%) | Samples: 5050/7000000\n",
       " \t\t\t\t\t Loss: \u001b[1m-472.118347\u001b[0m \n",
       "\t\t\t\t\t ---------"
      ]
     },
     "metadata": {},
     "output_type": "display_data"
    },
    {
     "data": {
      "text/plain": [
       "2025-10-10 10:47:54,363 fedbiomed INFO - \u001b[1mTRAINING\u001b[0m \n",
       "\t\t\t\t\t NODE_ID: NODE_CENTRALIZED \n",
       "\t\t\t\t\t Round 10 | Iteration: 51/70 (73%) | Samples: 5151/7000000\n",
       " \t\t\t\t\t Loss: \u001b[1m-472.132233\u001b[0m \n",
       "\t\t\t\t\t ---------"
      ]
     },
     "metadata": {},
     "output_type": "display_data"
    },
    {
     "data": {
      "text/plain": [
       "2025-10-10 10:47:54,378 fedbiomed INFO - \u001b[1mTRAINING\u001b[0m \n",
       "\t\t\t\t\t NODE_ID: NODE_CENTRALIZED \n",
       "\t\t\t\t\t Round 10 | Iteration: 52/70 (74%) | Samples: 5252/7000000\n",
       " \t\t\t\t\t Loss: \u001b[1m-472.131195\u001b[0m \n",
       "\t\t\t\t\t ---------"
      ]
     },
     "metadata": {},
     "output_type": "display_data"
    },
    {
     "data": {
      "text/plain": [
       "2025-10-10 10:47:54,394 fedbiomed INFO - \u001b[1mTRAINING\u001b[0m \n",
       "\t\t\t\t\t NODE_ID: NODE_CENTRALIZED \n",
       "\t\t\t\t\t Round 10 | Iteration: 53/70 (76%) | Samples: 5353/7000000\n",
       " \t\t\t\t\t Loss: \u001b[1m-472.124084\u001b[0m \n",
       "\t\t\t\t\t ---------"
      ]
     },
     "metadata": {},
     "output_type": "display_data"
    },
    {
     "data": {
      "text/plain": [
       "2025-10-10 10:47:54,410 fedbiomed INFO - \u001b[1mTRAINING\u001b[0m \n",
       "\t\t\t\t\t NODE_ID: NODE_CENTRALIZED \n",
       "\t\t\t\t\t Round 10 | Iteration: 54/70 (77%) | Samples: 5454/7000000\n",
       " \t\t\t\t\t Loss: \u001b[1m-472.125824\u001b[0m \n",
       "\t\t\t\t\t ---------"
      ]
     },
     "metadata": {},
     "output_type": "display_data"
    },
    {
     "data": {
      "text/plain": [
       "2025-10-10 10:47:54,425 fedbiomed INFO - \u001b[1mTRAINING\u001b[0m \n",
       "\t\t\t\t\t NODE_ID: NODE_CENTRALIZED \n",
       "\t\t\t\t\t Round 10 | Iteration: 55/70 (79%) | Samples: 5555/7000000\n",
       " \t\t\t\t\t Loss: \u001b[1m-472.135101\u001b[0m \n",
       "\t\t\t\t\t ---------"
      ]
     },
     "metadata": {},
     "output_type": "display_data"
    },
    {
     "data": {
      "text/plain": [
       "2025-10-10 10:47:54,441 fedbiomed INFO - \u001b[1mTRAINING\u001b[0m \n",
       "\t\t\t\t\t NODE_ID: NODE_CENTRALIZED \n",
       "\t\t\t\t\t Round 10 | Iteration: 56/70 (80%) | Samples: 5656/7000000\n",
       " \t\t\t\t\t Loss: \u001b[1m-472.139954\u001b[0m \n",
       "\t\t\t\t\t ---------"
      ]
     },
     "metadata": {},
     "output_type": "display_data"
    },
    {
     "data": {
      "text/plain": [
       "2025-10-10 10:47:54,457 fedbiomed INFO - \u001b[1mTRAINING\u001b[0m \n",
       "\t\t\t\t\t NODE_ID: NODE_CENTRALIZED \n",
       "\t\t\t\t\t Round 10 | Iteration: 57/70 (81%) | Samples: 5757/7000000\n",
       " \t\t\t\t\t Loss: \u001b[1m-472.136749\u001b[0m \n",
       "\t\t\t\t\t ---------"
      ]
     },
     "metadata": {},
     "output_type": "display_data"
    },
    {
     "data": {
      "text/plain": [
       "2025-10-10 10:47:54,472 fedbiomed INFO - \u001b[1mTRAINING\u001b[0m \n",
       "\t\t\t\t\t NODE_ID: NODE_CENTRALIZED \n",
       "\t\t\t\t\t Round 10 | Iteration: 58/70 (83%) | Samples: 5858/7000000\n",
       " \t\t\t\t\t Loss: \u001b[1m-472.133881\u001b[0m \n",
       "\t\t\t\t\t ---------"
      ]
     },
     "metadata": {},
     "output_type": "display_data"
    },
    {
     "data": {
      "text/plain": [
       "2025-10-10 10:47:54,488 fedbiomed INFO - \u001b[1mTRAINING\u001b[0m \n",
       "\t\t\t\t\t NODE_ID: NODE_CENTRALIZED \n",
       "\t\t\t\t\t Round 10 | Iteration: 59/70 (84%) | Samples: 5959/7000000\n",
       " \t\t\t\t\t Loss: \u001b[1m-472.137512\u001b[0m \n",
       "\t\t\t\t\t ---------"
      ]
     },
     "metadata": {},
     "output_type": "display_data"
    },
    {
     "data": {
      "text/plain": [
       "2025-10-10 10:47:54,503 fedbiomed INFO - \u001b[1mTRAINING\u001b[0m \n",
       "\t\t\t\t\t NODE_ID: NODE_CENTRALIZED \n",
       "\t\t\t\t\t Round 10 | Iteration: 60/70 (86%) | Samples: 6060/7000000\n",
       " \t\t\t\t\t Loss: \u001b[1m-472.142822\u001b[0m \n",
       "\t\t\t\t\t ---------"
      ]
     },
     "metadata": {},
     "output_type": "display_data"
    },
    {
     "data": {
      "text/plain": [
       "2025-10-10 10:47:54,519 fedbiomed INFO - \u001b[1mTRAINING\u001b[0m \n",
       "\t\t\t\t\t NODE_ID: NODE_CENTRALIZED \n",
       "\t\t\t\t\t Round 10 | Iteration: 61/70 (87%) | Samples: 6161/7000000\n",
       " \t\t\t\t\t Loss: \u001b[1m-472.142883\u001b[0m \n",
       "\t\t\t\t\t ---------"
      ]
     },
     "metadata": {},
     "output_type": "display_data"
    },
    {
     "data": {
      "text/plain": [
       "2025-10-10 10:47:54,535 fedbiomed INFO - \u001b[1mTRAINING\u001b[0m \n",
       "\t\t\t\t\t NODE_ID: NODE_CENTRALIZED \n",
       "\t\t\t\t\t Round 10 | Iteration: 62/70 (89%) | Samples: 6262/7000000\n",
       " \t\t\t\t\t Loss: \u001b[1m-472.139648\u001b[0m \n",
       "\t\t\t\t\t ---------"
      ]
     },
     "metadata": {},
     "output_type": "display_data"
    },
    {
     "data": {
      "text/plain": [
       "2025-10-10 10:47:54,550 fedbiomed INFO - \u001b[1mTRAINING\u001b[0m \n",
       "\t\t\t\t\t NODE_ID: NODE_CENTRALIZED \n",
       "\t\t\t\t\t Round 10 | Iteration: 63/70 (90%) | Samples: 6363/7000000\n",
       " \t\t\t\t\t Loss: \u001b[1m-472.140015\u001b[0m \n",
       "\t\t\t\t\t ---------"
      ]
     },
     "metadata": {},
     "output_type": "display_data"
    },
    {
     "data": {
      "text/plain": [
       "2025-10-10 10:47:54,566 fedbiomed INFO - \u001b[1mTRAINING\u001b[0m \n",
       "\t\t\t\t\t NODE_ID: NODE_CENTRALIZED \n",
       "\t\t\t\t\t Round 10 | Iteration: 64/70 (91%) | Samples: 6464/7000000\n",
       " \t\t\t\t\t Loss: \u001b[1m-472.144592\u001b[0m \n",
       "\t\t\t\t\t ---------"
      ]
     },
     "metadata": {},
     "output_type": "display_data"
    },
    {
     "data": {
      "text/plain": [
       "2025-10-10 10:47:54,582 fedbiomed INFO - \u001b[1mTRAINING\u001b[0m \n",
       "\t\t\t\t\t NODE_ID: NODE_CENTRALIZED \n",
       "\t\t\t\t\t Round 10 | Iteration: 65/70 (93%) | Samples: 6565/7000000\n",
       " \t\t\t\t\t Loss: \u001b[1m-472.147064\u001b[0m \n",
       "\t\t\t\t\t ---------"
      ]
     },
     "metadata": {},
     "output_type": "display_data"
    },
    {
     "data": {
      "text/plain": [
       "2025-10-10 10:47:54,597 fedbiomed INFO - \u001b[1mTRAINING\u001b[0m \n",
       "\t\t\t\t\t NODE_ID: NODE_CENTRALIZED \n",
       "\t\t\t\t\t Round 10 | Iteration: 66/70 (94%) | Samples: 6666/7000000\n",
       " \t\t\t\t\t Loss: \u001b[1m-472.144836\u001b[0m \n",
       "\t\t\t\t\t ---------"
      ]
     },
     "metadata": {},
     "output_type": "display_data"
    },
    {
     "data": {
      "text/plain": [
       "2025-10-10 10:47:54,613 fedbiomed INFO - \u001b[1mTRAINING\u001b[0m \n",
       "\t\t\t\t\t NODE_ID: NODE_CENTRALIZED \n",
       "\t\t\t\t\t Round 10 | Iteration: 67/70 (96%) | Samples: 6767/7000000\n",
       " \t\t\t\t\t Loss: \u001b[1m-472.142792\u001b[0m \n",
       "\t\t\t\t\t ---------"
      ]
     },
     "metadata": {},
     "output_type": "display_data"
    },
    {
     "data": {
      "text/plain": [
       "2025-10-10 10:47:54,629 fedbiomed INFO - \u001b[1mTRAINING\u001b[0m \n",
       "\t\t\t\t\t NODE_ID: NODE_CENTRALIZED \n",
       "\t\t\t\t\t Round 10 | Iteration: 68/70 (97%) | Samples: 6868/7000000\n",
       " \t\t\t\t\t Loss: \u001b[1m-472.144745\u001b[0m \n",
       "\t\t\t\t\t ---------"
      ]
     },
     "metadata": {},
     "output_type": "display_data"
    },
    {
     "data": {
      "text/plain": [
       "2025-10-10 10:47:54,644 fedbiomed INFO - \u001b[1mTRAINING\u001b[0m \n",
       "\t\t\t\t\t NODE_ID: NODE_CENTRALIZED \n",
       "\t\t\t\t\t Round 10 | Iteration: 69/70 (99%) | Samples: 6969/7000000\n",
       " \t\t\t\t\t Loss: \u001b[1m-472.148102\u001b[0m \n",
       "\t\t\t\t\t ---------"
      ]
     },
     "metadata": {},
     "output_type": "display_data"
    },
    {
     "data": {
      "text/plain": [
       "2025-10-10 10:47:54,660 fedbiomed INFO - \u001b[1mTRAINING\u001b[0m \n",
       "\t\t\t\t\t NODE_ID: NODE_CENTRALIZED \n",
       "\t\t\t\t\t Round 10 | Iteration: 70/70 (100%) | Samples: 7070/7000000\n",
       " \t\t\t\t\t Loss: \u001b[1m-472.148315\u001b[0m \n",
       "\t\t\t\t\t ---------"
      ]
     },
     "metadata": {},
     "output_type": "display_data"
    },
    {
     "data": {
      "text/plain": [
       "2025-10-10 10:47:54,806 fedbiomed INFO - Nodes that successfully reply in round 9 ['NODE_CENTRALIZED']"
      ]
     },
     "metadata": {},
     "output_type": "display_data"
    }
   ],
   "source": [
    "from fl_prog.utils.io import working_directory\n",
    "from fl_prog.training_plan import FLProgTrainingPlan\n",
    "from fl_prog.aggregator import SelectiveFedAverage\n",
    "\n",
    "import importlib\n",
    "import fl_prog.training_plan\n",
    "\n",
    "importlib.reload(fl_prog.training_plan)\n",
    "from fl_prog.training_plan import FLProgTrainingPlan\n",
    "\n",
    "\n",
    "fedbiomed_dir = \"../fedbiomed\"\n",
    "with working_directory(fedbiomed_dir):\n",
    "\n",
    "    from fedbiomed.researcher.federated_workflows import Experiment\n",
    "    from fedbiomed.researcher.aggregators.fedavg import FedAverage\n",
    "\n",
    "    experiment = Experiment(\n",
    "        nodes=[\"NODE_CENTRALIZED\"],\n",
    "        tags=[\"CENTRALIZED\"],\n",
    "        training_plan_class=FLProgTrainingPlan,\n",
    "        model_args={\n",
    "            \"colnames\": {\n",
    "                \"col_subject_id\": \"subject\",\n",
    "                \"col_time\": \"timepoint\",\n",
    "                \"cols_biomarker\": [f\"biomarker_{i}\" for i in range(n_biomarkers)],\n",
    "            },\n",
    "            \"lr_with_shift\": {\n",
    "                \"n_features\": n_biomarkers,\n",
    "            },\n",
    "        },\n",
    "        round_limit=N_ROUNDS,\n",
    "        training_args={\n",
    "            \"num_updates\": N_UPDATES,\n",
    "            \"loader_args\": {\"batch_size\": BATCH_SIZE, \"shuffle\": False},\n",
    "            \"optimizer_args\": {\"lr\": LEARNING_RATE},\n",
    "        },\n",
    "        aggregator=SelectiveFedAverage([\"time_shifts\"]),\n",
    "        node_selection_strategy=None,\n",
    "    )\n",
    "    experiment.run()"
   ]
  },
  {
   "cell_type": "code",
   "execution_count": 3,
   "id": "02054fa3",
   "metadata": {},
   "outputs": [
    {
     "name": "stdout",
     "output_type": "stream",
     "text": [
      "===== k values =====\n",
      "[9.601 7.863 5.434 7.895 6.395]\n",
      "[9.734 8.647 4.768 8.599 6.937]\n",
      "===== x0 values =====\n",
      "[0.764 0.883 0.871 0.174 0.104]\n",
      "[ 0.084  0.195  0.217 -0.484 -0.567]\n",
      "===== x value differences =====\n",
      "[0.679 0.688 0.654 0.659 0.671]\n",
      "===== time shifts =====\n",
      "[0.927 0.309 0.202 0.303 0.48  0.673 0.743 0.32  0.668 0.303 0.308 0.344\n",
      " 0.874 0.778 0.841 0.018 0.109 0.49  0.203 0.616 0.945 0.488 0.045 0.791\n",
      " 0.162 0.71  0.653 0.769 0.485 0.157 0.673 0.041 0.924 0.741 0.062 0.503\n",
      " 0.184 0.527 0.861 0.467 0.445 0.484 0.625 0.826 0.877 0.422 0.579 0.685\n",
      " 0.836 0.307]\n",
      "[]\n"
     ]
    },
    {
     "data": {
      "image/png": "[encoded data removed]",
      "text/plain": [
       "<Figure size 640x480 with 1 Axes>"
      ]
     },
     "metadata": {},
     "output_type": "display_data"
    }
   ],
   "source": [
    "fbm_model = experiment.training_plan().model()\n",
    "final_params = experiment.aggregated_params()[N_ROUNDS - 1][\"params\"]\n",
    "\n",
    "check_model_fit(\n",
    "    fbm_model.get_k_values(final_params[\"log_k_values\"]).data.numpy(),\n",
    "    final_params[\"x0_values\"].data.numpy(),\n",
    "    final_params[\"time_shifts\"].data.numpy(),\n",
    "    align_x=True,\n",
    ")"
   ]
  },
  {
   "cell_type": "code",
   "execution_count": 4,
   "id": "f1f2b8b8",
   "metadata": {},
   "outputs": [
    {
     "name": "stdout",
     "output_type": "stream",
     "text": [
      "Epoch [100/700], Loss: 258.8777\n",
      "Epoch [200/700], Loss: -14.4468\n",
      "Epoch [300/700], Loss: -250.7728\n",
      "Epoch [400/700], Loss: -412.7839\n",
      "Epoch [500/700], Loss: -465.9561\n",
      "Epoch [600/700], Loss: -471.9309\n",
      "Epoch [700/700], Loss: -472.1648\n",
      "===== k values =====\n",
      "[9.601 7.863 5.434 7.895 6.395]\n",
      "[9.739 8.653 4.771 8.598 6.938]\n",
      "===== x0 values =====\n",
      "[0.764 0.883 0.871 0.174 0.104]\n",
      "[ 0.174  0.285  0.306 -0.395 -0.478]\n",
      "===== x value differences =====\n",
      "[0.59  0.598 0.564 0.569 0.581]\n",
      "===== time shifts =====\n",
      "[0.927 0.309 0.202 0.303 0.48  0.673 0.743 0.32  0.668 0.303 0.308 0.344\n",
      " 0.874 0.778 0.841 0.018 0.109 0.49  0.203 0.616 0.945 0.488 0.045 0.791\n",
      " 0.162 0.71  0.653 0.769 0.485 0.157 0.673 0.041 0.924 0.741 0.062 0.503\n",
      " 0.184 0.527 0.861 0.467 0.445 0.484 0.625 0.826 0.877 0.422 0.579 0.685\n",
      " 0.836 0.307]\n",
      "[ 0.336 -0.259 -0.406 -0.337 -0.161  0.073  0.176 -0.304  0.063 -0.3\n",
      " -0.297 -0.28   0.268  0.224  0.235 -0.604 -0.429 -0.142 -0.395 -0.009\n",
      "  0.367 -0.068 -0.51   0.165 -0.435  0.15   0.075  0.127 -0.164 -0.461\n",
      "  0.113 -0.524  0.302  0.151 -0.517 -0.067 -0.408 -0.043  0.262 -0.13\n",
      " -0.181 -0.04   0.047  0.252  0.306 -0.155  0.016  0.101  0.232 -0.218]\n",
      "===== time shift offset difference =====\n",
      "0.030145529668407382\n"
     ]
    },
    {
     "data": {
      "image/png": "[encoded data removed]",
      "text/plain": [
       "<Figure size 640x480 with 1 Axes>"
      ]
     },
     "metadata": {},
     "output_type": "display_data"
    }
   ],
   "source": [
    "from fl_prog.model import LogisticRegressionModelWithShift\n",
    "import torch\n",
    "import torch.optim as optim\n",
    "\n",
    "model = LogisticRegressionModelWithShift(\n",
    "    len(set(df[\"subject\"])), n_features=n_biomarkers\n",
    ")\n",
    "\n",
    "# Define the optimizer\n",
    "optimizer = optim.Adam(list(model.parameters()), lr=LEARNING_RATE)\n",
    "\n",
    "# Optimization loop\n",
    "num_epochs = (\n",
    "    N_UPDATES * N_ROUNDS\n",
    ")  # Increased epochs for potentially harder optimization\n",
    "for epoch in range(num_epochs):\n",
    "    # Forward pass\n",
    "    # Pass both timestamps and sample indices to the model\n",
    "    model_predictions = model(\n",
    "        torch.tensor(df[\"timepoint\"]), torch.tensor(df[\"subject\"])\n",
    "    )\n",
    "    loss = model.get_loss(\n",
    "        model_predictions,\n",
    "        torch.tensor(\n",
    "            df[[f\"biomarker_{i}\" for i in range(n_biomarkers)]].values,\n",
    "        ),\n",
    "    )\n",
    "\n",
    "    # Backward pass and optimization\n",
    "    optimizer.zero_grad()\n",
    "    loss.backward()\n",
    "    optimizer.step()\n",
    "\n",
    "    # Print loss periodically\n",
    "    if (epoch + 1) % 100 == 0:\n",
    "        print(f\"Epoch [{epoch+1}/{num_epochs}], Loss: {loss.item():.4f}\")\n",
    "\n",
    "check_model_fit(\n",
    "    model.get_k_values(model.log_k_values).data.numpy(),\n",
    "    model.x0_values.data.numpy(),\n",
    "    model.time_shifts.data.numpy(),\n",
    "    align_x=True,\n",
    ")"
   ]
  }
 ],
 "metadata": {
  "kernelspec": {
   "display_name": "fl-prog (3.12.11)",
   "language": "python",
   "name": "python3"
  },
  "language_info": {
   "codemirror_mode": {
    "name": "ipython",
    "version": 3
   },
   "file_extension": ".py",
   "mimetype": "text/x-python",
   "name": "python",
   "nbconvert_exporter": "python",
   "pygments_lexer": "ipython3",
   "version": "3.10.18"
  }
 },
 "nbformat": 4,
 "nbformat_minor": 5
}
